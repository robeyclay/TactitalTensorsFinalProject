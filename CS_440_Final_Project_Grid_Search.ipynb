{
 "cells": [
  {
   "cell_type": "code",
   "execution_count": 1,
   "metadata": {
    "colab": {
     "base_uri": "https://localhost:8080/"
    },
    "id": "HZ1xt0Tt3Xgu",
    "outputId": "5ed34d5b-dcb2-4ffe-8a2a-194634d045fa"
   },
   "outputs": [],
   "source": [
    "# !pip install transformers==4.46.2 datasets==3.1.0 numpy==1.26.4 sklearn-pandas==2.2.0 torch==2.5.1+cu121"
   ]
  },
  {
   "cell_type": "code",
   "execution_count": 1,
   "metadata": {
    "id": "Jak7sYV-3eZC"
   },
   "outputs": [
    {
     "name": "stderr",
     "output_type": "stream",
     "text": [
      "c:\\Users\\ayoun\\Miniconda3\\envs\\nbse2025\\lib\\site-packages\\tqdm\\auto.py:21: TqdmWarning: IProgress not found. Please update jupyter and ipywidgets. See https://ipywidgets.readthedocs.io/en/stable/user_install.html\n",
      "  from .autonotebook import tqdm as notebook_tqdm\n",
      "c:\\Users\\ayoun\\Miniconda3\\envs\\nbse2025\\lib\\site-packages\\torchvision\\datapoints\\__init__.py:12: UserWarning: The torchvision.datapoints and torchvision.transforms.v2 namespaces are still Beta. While we do not expect major breaking changes, some APIs may still change according to user feedback. Please submit any feedback you may have in this issue: https://github.com/pytorch/vision/issues/6753, and you can also check out https://github.com/pytorch/vision/issues/7319 to learn more about the APIs that we suspect might involve future changes. You can silence this warning by calling torchvision.disable_beta_transforms_warning().\n",
      "  warnings.warn(_BETA_TRANSFORMS_WARNING)\n",
      "c:\\Users\\ayoun\\Miniconda3\\envs\\nbse2025\\lib\\site-packages\\torchvision\\transforms\\v2\\__init__.py:54: UserWarning: The torchvision.datapoints and torchvision.transforms.v2 namespaces are still Beta. While we do not expect major breaking changes, some APIs may still change according to user feedback. Please submit any feedback you may have in this issue: https://github.com/pytorch/vision/issues/6753, and you can also check out https://github.com/pytorch/vision/issues/7319 to learn more about the APIs that we suspect might involve future changes. You can silence this warning by calling torchvision.disable_beta_transforms_warning().\n",
      "  warnings.warn(_BETA_TRANSFORMS_WARNING)\n",
      "\u001b[34m\u001b[1mwandb\u001b[0m: Using wandb-core as the SDK backend.  Please refer to https://wandb.me/wandb-core for more information.\n",
      "\u001b[34m\u001b[1mwandb\u001b[0m: Currently logged in as: \u001b[33mayoungren94\u001b[0m (\u001b[33mayoungren-colostate\u001b[0m). Use \u001b[1m`wandb login --relogin`\u001b[0m to force relogin\n",
      "\u001b[34m\u001b[1mwandb\u001b[0m: \u001b[33mWARNING\u001b[0m If you're specifying your api key in code, ensure this code is not shared publicly.\n",
      "\u001b[34m\u001b[1mwandb\u001b[0m: \u001b[33mWARNING\u001b[0m Consider setting the WANDB_API_KEY environment variable, or running `wandb login` from the command line.\n",
      "\u001b[34m\u001b[1mwandb\u001b[0m: Appending key for api.wandb.ai to your netrc file: C:\\Users\\ayoun\\_netrc\n"
     ]
    },
    {
     "data": {
      "text/plain": [
       "True"
      ]
     },
     "execution_count": 1,
     "metadata": {},
     "output_type": "execute_result"
    }
   ],
   "source": [
    "from transformers import AutoTokenizer, AutoModelForSequenceClassification, Trainer, TrainingArguments\n",
    "# from sklearn.metrics import f1_score, precision_score, recall_score\n",
    "import pandas as pd\n",
    "import numpy as np\n",
    "import datasets\n",
    "import time\n",
    "import wandb\n",
    "import random\n",
    "# import os\n",
    "# from fvcore.nn import FlopCountAnalysis\n",
    "# from torch.utils.data import DataLoader\n",
    "import torch\n",
    "\n",
    "key_file = r'C:\\Development\\TactitalTensorsFinalProject\\WANDB_API_KEY.txt' \n",
    "\n",
    "with open(key_file, \"r\") as f:\n",
    "    api_key = f.read().strip()\n",
    "\n",
    "# Log into WandB with the API key\n",
    "wandb.login(key=api_key)\n",
    "\n",
    "# Initialize WandB (no need to manually set the WANDB_API_KEY env variable again)\n"
   ]
  },
  {
   "cell_type": "markdown",
   "metadata": {
    "id": "Nuc0AEyUc2dH"
   },
   "source": [
    "The WANDB_API_KEY is nessesary to use the Trainer class from HuggingFace and is what's used in the example notebook. However, I think we may all have to put in our own api key secret into google colab for it to work."
   ]
  },
  {
   "cell_type": "code",
   "execution_count": 2,
   "metadata": {
    "id": "OQ0Qddn6IKGd"
   },
   "outputs": [],
   "source": [
    "# from google.colab import userdata\n",
    "# os.environ[\"WANDB_API_KEY\"] = userdata.get('WANDB_API_KEY')\n"
   ]
  },
  {
   "cell_type": "code",
   "execution_count": 3,
   "metadata": {
    "colab": {
     "base_uri": "https://localhost:8080/",
     "height": 537,
     "referenced_widgets": [
      "d043ecbee3444dfbaf60bbeb50c0bac9",
      "73d82ada94c64788aa57e023708f44e5",
      "1a869f4901924763959cc074aedba96b",
      "705046e4a2a84f5c80c2a595100e637c",
      "bb9d1c0461024f5abb4a59538148baa8",
      "d125451b920d419499ce3b27cbd5baf5",
      "16049df7c8ed480e8cfb1502c9cdd7b1",
      "39543a5bfc234065bc21a2039bbcfd86",
      "1d234efe421b4f4a9cfd4b79dc277363",
      "9afceddbf3ea44b19d3dacd55660b237",
      "3c961607ccd84719877abfa3c5cd9036",
      "74ae9e419b79484c874f1bc981ae713c",
      "fb1710b8b40b46639bb6d99d15b24fa2",
      "9561c410729b496c8818ecc5c94758a3",
      "0d5908e7e109473c8d87cac5f48f6a28",
      "60b51ba3227f48ca802e4e3db47d1be5",
      "66a91d30748a452e9026bff2ea6786a3",
      "fee41f6cb27646f39667221daabb20fe",
      "c53ba2d370e54ecb8ef4909584effc5e",
      "8800bc5224a1471ea46f0e3cae08a615",
      "71e0782fb57942ab932712af03b6c001",
      "cc18f41dd07247ce927151ed11df7a77",
      "68f603e7b12b49a881a40e111a4ff6ed",
      "7d03de32f8bf4a17957297f77575b6db",
      "fb843c5c11394a1097ddcf1c2087da6a",
      "bc04d222128044aaba20108e840a45f1",
      "c1595f9868994073a5cfcc19d107c24b",
      "a63234b802224ababc11e9f077d3c83c",
      "bfd666a3210e48248d1265fcda39302c",
      "a0d305ea9d4d45dc93b9ba74702c376f",
      "cad2965d63fc40458919e008c84942c9",
      "f1fbe82d0572428fb102d27f9e39e1ec",
      "cb24a3e061a14fed8b3c180075066a72",
      "05819e9a2d92412a96ae3c0a80554170",
      "cca2d239b2184eeaada2efb1361a770d",
      "4ee75299589445268946e13588c9ec45",
      "4c42e72c63a7404c8e9cc23c356918b4",
      "26dcc2fde0a84d1d8c398b3f89b04eb2",
      "325260b440ed48c7b4632c46ae843796",
      "6910721757c041c3bf098732efd38d7d",
      "8fcc413058d840d987f71267083d2242",
      "e1985d53d4674d9eb6a8a3aea50d1b43",
      "3fa0fd11c10f4a7082ed92efdbb1d14b",
      "deb94014cbc845c29442ae39b0ab441a",
      "6e5e7d6d32ae48a6baa612c6ca856202",
      "c6bc2814a4ca4585b68589734f7af567",
      "d449429481ee414caf8b690557a30946",
      "e884b5c3b56e441b8a80e75c9ea8513d",
      "fba24bccc1244c02881419e172402db6",
      "71df9626bdcb4175bb0c40682c4e359e",
      "22c522bf5cbf4156a8e59576a1bc0e72",
      "cd8ee764f86f4cc2b9874773d106295e",
      "0b333f6db9d74423925b4d223e19c404",
      "7fdfa8f659cc4192b57d4f02b77608d3",
      "d0d67b5c73e140268fba314544dddb3e",
      "8191c207165d480b928149ecc254e676",
      "8a0d512a70eb4da185e9412b4dd977c4",
      "5579bdc3b3244a0ba11e34f40fd3c0fb",
      "0597a5f23bb74cb085c25e10cdc8e979",
      "7a62f9f381434abe87772f6ff2bdc21a",
      "bdb1f3a4342c418c83392b899c0a0eb9",
      "47b45f3f997d45f4a436bd8ec8721ace",
      "a75a1fe0be094e89970e328643927022",
      "2580e623185540fca441c17f0f346ba6",
      "8952f416d91d45499ff2aab5be2dbe55",
      "06f517b0a7594ba0a2525f6893b9aba4",
      "7a2ce148ed8f42749ea6edced344bd5d",
      "7dfafa7114ae4c9386f2d1be9f4b7b18",
      "25240f3f1ff54a509d3322b1e7e0cd22",
      "0a730a1a1c5c4a3987174a99df925707",
      "02b08c45e8cc4172bd9aa05659c3c9f2",
      "ba7e8e44aa9147b1bff5a69369c89136",
      "537def39718c469dbc17a1cee4fa39a1",
      "17c5ba2b45cb4ff782ea79268188ff8e",
      "130445b772374687ab291c24d34a6bbe",
      "8f3c7553598c4055821564bbb57a22f4",
      "14f51352ae2241dc9b44070df73be1c6",
      "0c20dbc30a9e4042a9526373f3eaa07d",
      "4813d2270aae458e9598a9a684e2118b",
      "baf50e8bb0964742b9506dc632083550",
      "0ed25df9e55f48be974dee2989e247ed",
      "cb84631810b943c5b7e682b6f7013790",
      "9a7187aaef8c47c49493e76515e30746",
      "abbc0b0bcce14f1f99fb53f67603eaa5",
      "477c39a39255423d87b5da26773020e6",
      "a45e12977332429c8fc4b0e25896a2dc",
      "ff602e3795f948ee905c5513dfc9320b",
      "d3c5959f9608476eb6132852a457c065",
      "4981ceb229f14dafa9ed9f5ffbe85bc3",
      "9538ecbda55f4222b12ef7858c1a8550",
      "f4ecc921e7df4b38b4fb8c2236aaafc0",
      "1d745e2e50424bd59a66cdd45161cb51",
      "c86adf6bcd3e49ac9485865bd3b21302",
      "959db70411164c3d960b728306c1c6d2",
      "54488c70006e43f1b9b8db996b0122d2",
      "3ccbf8a9b176452f93870397169f020e",
      "0c734841fdeb46f4ad7cefb79ad3fda6",
      "710bfd5208aa4cf39f6ee4449413529f",
      "db79327d788e484c88e902935840fe9b",
      "d0b6c53c697f4c6aaadcd05c232a0bb2",
      "4183cbb27e44449da4c889e85e6e0e10",
      "028ccf9aaf2040f68ba60468ca2efa45",
      "8bc988ecbfb24a2c92be52346a2eea4f",
      "1326d435eb2b460fa640e160e995c2dd",
      "5cb082fd23434139b8f91bc59af43108",
      "f1d27df6618240cdae4c02dfab36bc9d",
      "f21cc3dc6f5f4ecabc73be66c151ff8a",
      "515447fe659b4c60b125cae6b8f57ba7",
      "bca5aea1f30f4a69868db3cf424e256b",
      "63e46e2a4cdc43f88f9c0fa5f7c1242f",
      "85215028fdf342f88fa4e6952c8a9d66",
      "52dcfbcb2359411186b0e688d2f14a48",
      "deea2a9a334f44df8cd9b8948d1c8481",
      "5b4d59fabbbb44b6910f732d7dbc9502",
      "c70ae22a80504bc0bd9513c3a886bc98",
      "9a4c9a871331424e9b501c1b259abea9",
      "db6bf7213e684ef8bf624bad3f78001a",
      "743b0e9a0dc344ad96ebb7b5108f70a8",
      "f320076d120c477b90d68ab1eacef942",
      "bbdb741d146b47a785e607186aef802e",
      "24315118c81d491cad8bae50dd646659",
      "50c735c1781f4a4fbfc1b51c80bbf7f8",
      "2891c95b17464936b04f40096f82b294",
      "b7ebf53d40714d9ba04d91cb64564914",
      "6583bb08895345ee8bbb27188345952e",
      "e432540973c147ba80189b87b44099b3",
      "f28b82bbfb034e939dc900c197462b79",
      "2bdef138e86641ad8fa87ed3237a65ee",
      "76e9be28528647dcb88cb172384ecc1b",
      "0de9480ad05e479297cbe7a78bf56fd2",
      "554ddd9f64934ad08b3c8ecf44450e18",
      "dd6ecdcc60a84e5382023502b8df23a8",
      "73115833bd7042fd94ac4b79e031127e",
      "f837a96488d644eb9da131390aba2381",
      "74a23b56304044c486790581ce92cce6",
      "d5bd43f1f28a4db98566d443324298d9",
      "301f4a30f23a45ce9e9bc741f0b5ea81",
      "979d3e31668549a4a2627d1e01cc608e",
      "2ff99aebc04f46889070f4d0148ce5a3",
      "313f871227c04f0b862799ce805f1cd2",
      "0f8f4267763342cfabffb78f628a8143",
      "9f5c0ec19a1b44e280c2003e76dbd90e",
      "e275404845ed4197ad29b82166437040"
     ]
    },
    "id": "mNcF_XOgAInz",
    "outputId": "670ca4bb-0204-48da-cd9b-96f2b3313218"
   },
   "outputs": [],
   "source": [
    "langs = ['java', 'python', 'pharo']\n",
    "\n",
    "# langs = ['java'] # Using Java as the only language for testing purposes.\n",
    "# langs = ['python']\n",
    "# langs = ['pharo']\n",
    "labels = {\n",
    "    'java': ['summary', 'Ownership', 'Expand', 'usage', 'Pointer', 'deprecation', 'rational'],\n",
    "    'python': ['Usage', 'Parameters', 'DevelopmentNotes', 'Expand', 'Summary'],\n",
    "    'pharo': ['Keyimplementationpoints', 'Example', 'Responsibilities', 'Classreferences', 'Intent', 'Keymessages', 'Collaborators']\n",
    "}\n",
    "ds = datasets.load_dataset('NLBSE/nlbse25-code-comment-classification')"
   ]
  },
  {
   "cell_type": "code",
   "execution_count": 4,
   "metadata": {
    "colab": {
     "base_uri": "https://localhost:8080/"
    },
    "id": "bVNbQjJ4iEmX",
    "outputId": "34ebdfe5-95e3-4cb2-fc78-98627ddf98c3"
   },
   "outputs": [
    {
     "data": {
      "text/plain": [
       "DatasetDict({\n",
       "    java_train: Dataset({\n",
       "        features: ['index', 'class', 'comment_sentence', 'partition', 'combo', 'labels'],\n",
       "        num_rows: 7614\n",
       "    })\n",
       "    java_test: Dataset({\n",
       "        features: ['index', 'class', 'comment_sentence', 'partition', 'combo', 'labels'],\n",
       "        num_rows: 1725\n",
       "    })\n",
       "    python_train: Dataset({\n",
       "        features: ['index', 'class', 'comment_sentence', 'partition', 'combo', 'labels'],\n",
       "        num_rows: 1884\n",
       "    })\n",
       "    python_test: Dataset({\n",
       "        features: ['index', 'class', 'comment_sentence', 'partition', 'combo', 'labels'],\n",
       "        num_rows: 406\n",
       "    })\n",
       "    pharo_train: Dataset({\n",
       "        features: ['index', 'class', 'comment_sentence', 'partition', 'combo', 'labels'],\n",
       "        num_rows: 1298\n",
       "    })\n",
       "    pharo_test: Dataset({\n",
       "        features: ['index', 'class', 'comment_sentence', 'partition', 'combo', 'labels'],\n",
       "        num_rows: 289\n",
       "    })\n",
       "})"
      ]
     },
     "execution_count": 4,
     "metadata": {},
     "output_type": "execute_result"
    }
   ],
   "source": [
    "ds"
   ]
  },
  {
   "cell_type": "code",
   "execution_count": 5,
   "metadata": {
    "colab": {
     "base_uri": "https://localhost:8080/"
    },
    "id": "ypTe_7KfiC7X",
    "outputId": "7e3ec6e7-0769-47dd-b5fc-80a982ea3250"
   },
   "outputs": [
    {
     "data": {
      "text/plain": [
       "{'index': 5,\n",
       " 'class': 'AbstractContractGetFileStatusTest.java',\n",
       " 'comment_sentence': 'accept everything.',\n",
       " 'partition': 1,\n",
       " 'combo': 'accept everything. | AbstractContractGetFileStatusTest.java',\n",
       " 'labels': [0, 0, 1, 0, 0, 0, 0]}"
      ]
     },
     "execution_count": 5,
     "metadata": {},
     "output_type": "execute_result"
    }
   ],
   "source": [
    "ds['java_test'][0]"
   ]
  },
  {
   "cell_type": "code",
   "execution_count": null,
   "metadata": {
    "colab": {
     "base_uri": "https://localhost:8080/",
     "height": 177,
     "referenced_widgets": [
      "59b23bdab7aa47dd895deb93b9c6a4a9",
      "8513da1b95274a8ab99e1d3cdd900e3e",
      "5aba595de1f144fd86e093f0e79d07a7",
      "a01516c3c8a741a3ad6d5300cc125e60",
      "3c6d6c0aaf6544daad35b532fb5bb16c",
      "dac48765ac844c419c5a14b874c5a0db",
      "618d600163a84ef9baa39a6318e4a8ac",
      "4193870d9d354bd4867e0101abb18409",
      "8f60d68f6d584c41802bd636c05691e3",
      "ca06b7c73c304b7ca0390f31cb443bf6",
      "ccc226f5042a4cfea959aa83f36addfa",
      "6eb54d1617cc49889b44fdd4c7b35259",
      "44884a78396b4803bb7d79954e324ae0",
      "4a0b98d8a4d84bd8b3b440f695f8be7d",
      "8a7ea6c5d5334ba986577712cb852587",
      "24af2fed52ae40308925129709b50448",
      "ae224233cb9646aaaadcd4b3fe29baae",
      "401c1f01fa64456b97bc1963d144d005",
      "8a2f5002d769412199829dbec0b9c9be",
      "cfc2e0112c364adf8253f450bcf70252",
      "62f104b94493449f84d0f6540e0837fa",
      "9d32a863cd214d8e88e95dad449368d2",
      "0e077d6a2220403bb661b166c72c3cb1",
      "b01591e4d5e741dcb726b770cfad7bd6",
      "83742203aa2b4d28a53c08bb7cb8befb",
      "4bebd2f4ef144d45bee6ee3c64758b3b",
      "62fd31007cee4b1e8829d079df4816b0",
      "fb829caf46914903afe7f72b0a302ebd",
      "6b47fc9415874b3a8920d94802421988",
      "2ec9b709f1da46238fa368c2e864519f",
      "b9f43e28d8cb4f1c95bdafe25e9c7a7b",
      "5753602be1ed430ca3f5dc45534b814a",
      "e0d17b6108694dd781d79b150f7d1a11",
      "b6abf2c6e0c54538bec1d0988dbf4506",
      "70b7e71320a148e0ac913a4b1af83d43",
      "db3563ec50174a38bb41cb9c558620d5",
      "f611fa2c1ab8436b99cf317ae31be62d",
      "73854cf01d7d4dc1bcb4a48286e71eea",
      "f6c86e4e4c7440599459d14bdeff7632",
      "ad2a544ee64044d183f427fa1c8b68fc",
      "65a6b303a0734de8a853ea51431be201",
      "de5d28396781441093b142cd1146599a",
      "13b288fed4be4393959f7017baf886c0",
      "450c7fc00cca4ac9bf8ab67632e2ff62",
      "c709e60fc98349b191b640c310bed300",
      "96989c4d0bb245abbc997768521f9a31",
      "4a910cc8b7fb4abaa0fcb9cb70805673",
      "f0a6c6fa1e72494197fe6b9c13e5cad8",
      "b84931db4aaf424c9d6086804768dda8",
      "04c9c4297095469fa2940158a9b0de56",
      "dc9cc7b1956f422bb27606ee94ce929f",
      "2633111d0b354b389c8440740b60f12f",
      "12614d7af9334cfdb7beb02cb4f1645f",
      "94224b42dd3a4d7ea36f5554597f5265",
      "b062760b16374603ab07c2b8f9cdd22e"
     ]
    },
    "id": "WiWsQAVMApsC",
    "outputId": "6862c58f-5d65-49df-82bd-1e042c4ce99e"
   },
   "outputs": [],
   "source": [
    "model_name = 'distilbert/distilbert-base-uncased'\n",
    "tokenizer = AutoTokenizer.from_pretrained(model_name, use_fast=True)"
   ]
  },
  {
   "cell_type": "markdown",
   "metadata": {
    "id": "iwYs7XLUdt5m"
   },
   "source": [
    "The next few functions are to preprocess the trainng and validation sets, and to let the Trainer class to evaluate how well the trainng is going after each epoch."
   ]
  },
  {
   "cell_type": "code",
   "execution_count": 7,
   "metadata": {
    "id": "Dm4fOMWC3yEo"
   },
   "outputs": [],
   "source": [
    "# To tokenize the text in the 'combo' column of the training dataset of each language.\n",
    "\n",
    "def tokenize_dataset(examples):\n",
    "  return tokenizer(examples['combo'], truncation=True, padding=\"max_length\", max_length=128)"
   ]
  },
  {
   "cell_type": "code",
   "execution_count": 8,
   "metadata": {
    "id": "UFn6vh41BYJE"
   },
   "outputs": [],
   "source": [
    "# Tokenizes the text 'combo' column of the dataset, changes the values of the\n",
    "# labels column to float instead of int, and sets to format of the lables column\n",
    "# to torch tesnsors, which is required by the Trainer class.\n",
    "\n",
    "def preprocess_dataset(input_dataset):\n",
    "  processed_dataset = input_dataset.map(tokenize_dataset, batched=True, load_from_cache_file=False)\n",
    "  processed_dataset = processed_dataset.cast_column(\"labels\", datasets.features.Sequence(datasets.features.Value(\"float32\")))\n",
    "  processed_dataset.set_format('pt')\n",
    "  return processed_dataset"
   ]
  },
  {
   "cell_type": "markdown",
   "metadata": {},
   "source": [
    "Evaluating the predictions.\n",
    "\n",
    "Below is non-functional code I still haven't finnished. We need to implement a way for the logits returned from the model to be converted into binary (0 - 1) predictions for the labels, and for those labels to be compaired to the ground truth labels of the testing datasets for each language. The competition also wants us to complete this step using profiling that they have set up, and which is partially shown below. The link to the reference notebook for the competition is here. Also, another notebook that is fairly close to what I believe we are trying to do can be found here_for_multi_label_text_classification.ipynb)."
   ]
  },
  {
   "cell_type": "code",
   "execution_count": null,
   "metadata": {
    "id": "E01CrUgL4CcM"
   },
   "outputs": [],
   "source": [
    "# scores must be global so that it can later be referenced for printing the results\n",
    "scores = pd.DataFrame(columns=['comparison', 'model', 'lan', 'cat', 'precision', 'recall', 'f1'])\n",
    "\n",
    "def compute_metrics(eval_pred, lang, categories, mod_name, comp):\n",
    "    # global scores\n",
    "    # scores.drop(scores[scores['lan'] == lang].index, inplace=True)\n",
    "\n",
    "    predictions, true_labels = eval_pred\n",
    "    predictions = (predictions > 0.5).astype(int)\n",
    "    num_classes = len(categories)\n",
    "\n",
    "    metrics_list = []\n",
    "\n",
    "    for i in range(num_classes):\n",
    "        y_pred = predictions[:, i]\n",
    "        y_true = true_labels[:, i]\n",
    "\n",
    "        tp = np.sum((y_true == 1) & (y_pred == 1))\n",
    "        fp = np.sum((y_true == 0) & (y_pred == 1))\n",
    "        fn = np.sum((y_true == 1) & (y_pred == 0))\n",
    "\n",
    "        precision = tp / (tp + fp) if (tp + fp) > 0 else 0.0\n",
    "        recall = tp / (tp + fn) if (tp + fn) > 0 else 0.0\n",
    "        f1 = (2 * precision * recall) / (precision + recall) if (precision + recall) > 0 else 0.0\n",
    "\n",
    "        metrics_list.append({\n",
    "            'model': mod_name,\n",
    "            'lan': lang,\n",
    "            'comparison': comp,\n",
    "            'cat': categories[i],\n",
    "            'precision': precision,\n",
    "            'recall': recall,\n",
    "            'f1': f1\n",
    "        })\n",
    "\n",
    "    temp_scores = pd.DataFrame([m for m in metrics_list if m['model'] == mod_name])\n",
    "    scores = pd.concat([scores, temp_scores], ignore_index=True)\n",
    "\n",
    "    avg_f1 = temp_scores['f1'].mean()\n",
    "    avg_precision = temp_scores['precision'].mean()\n",
    "    avg_recall = temp_scores['recall'].mean()\n",
    "\n",
    "    return {'f1': avg_f1, 'precision': avg_precision, 'recall': avg_recall}"
   ]
  },
  {
   "cell_type": "code",
   "execution_count": 10,
   "metadata": {},
   "outputs": [],
   "source": [
    "def measure_runtime_and_flops(trainer, dataset):\n",
    "    flops = 0\n",
    "    runtime = 0\n",
    "\n",
    "    for i in range(10):\n",
    "        for batch in dataset:\n",
    "            inputs = {key: val.unsqueeze(0).to(trainer.model.device) for key, val in batch.items() if key in ['input_ids', 'attention_mask']}\n",
    "            with torch.profiler.profile(with_flops=True, activities=[torch.profiler.ProfilerActivity.CPU, torch.profiler.ProfilerActivity.CUDA]) as prof:\n",
    "                start_time = time.time()\n",
    "                _ = trainer.model(**inputs)\n",
    "                end_time = time.time()\n",
    "\n",
    "            runtime += (end_time - start_time)\n",
    "            flops += sum(k.flops for k in prof.key_averages()) / 1e9 # Convert Flops to GFLOPs\n",
    "\n",
    "    avg_runtime = runtime / 10\n",
    "    avg_flops = flops / 10\n",
    "    \n",
    "    return avg_runtime, avg_flops, flops, runtime"
   ]
  },
  {
   "cell_type": "code",
   "execution_count": null,
   "metadata": {},
   "outputs": [],
   "source": [
    "def compute_metrics_wrapper(mod_name, comp):\n",
    "    def inner(eval_pred):\n",
    "        return compute_metrics(eval_pred, lang, labels[lang], mod_name, comp)\n",
    "    return inner"
   ]
  },
  {
   "cell_type": "code",
   "execution_count": 12,
   "metadata": {},
   "outputs": [],
   "source": [
    "max_avg_runtime = 5\n",
    "max_avg_flops = 5000\n",
    "\n",
    "def score(avg_f1, avg_runtime, avg_flops):\n",
    "    return (0.6 * avg_f1 +\n",
    "            0.2 * ((max_avg_runtime - avg_runtime) / max_avg_runtime) +\n",
    "            0.2 * ((max_avg_flops - avg_flops) / max_avg_flops))"
   ]
  },
  {
   "cell_type": "code",
   "execution_count": 13,
   "metadata": {},
   "outputs": [],
   "source": [
    "def set_seed(seed):\n",
    "    random.seed(seed)\n",
    "    np.random.seed(seed)\n",
    "    torch.manual_seed(seed)\n",
    "    torch.cuda.manual_seed_all(seed)  # for CUDA devices\n",
    "    torch.backends.cudnn.deterministic = True  # Ensure deterministic behavior\n",
    "    torch.backends.cudnn.benchmark = False  # Disable to ensure deterministic operations"
   ]
  },
  {
   "cell_type": "code",
   "execution_count": null,
   "metadata": {
    "colab": {
     "base_uri": "https://localhost:8080/",
     "height": 1000,
     "referenced_widgets": [
      "31c4d4af55e64c0c85cd03ca97cd1baa",
      "c79e18b0edba428e9293c65cc033cbc1",
      "40a487185d524b839aa5eeb815347505",
      "cdcb00480ffa4f22b4de7088b357e99f",
      "0eac72bb1bb743c28f8479aad9526b34",
      "1c0ba0a224a34498a2087779c37e04e9",
      "aaf0800b054b4a44b205675b62f5704c",
      "eb6492d96bc249a9b61a74bb20ac4ce5",
      "24a85764eeb6441db524f35b027cd416",
      "599533740eb64cf3acbaeeac9d14e5d9",
      "bd6da6f1336f4edc95df834cc8ee9abb",
      "381fc397df404b9ca3b10ff8e9dad87b",
      "e506055b03b14c5c9220246f115a4a30",
      "316313207cbc4a2eaa3be8051b5c746c",
      "a9476042b6ac42fb8819f48ec8affa60",
      "afdff4c416914920bb0079d4b4c03ecc",
      "2c4d62d019f14e81b8afcb251c56b562",
      "9689ab7242e64221b5e33e210650be99",
      "445fac009ef7412498a5387896849f36",
      "7b53385fae714a6f8c46376b04bf85b1",
      "8ac99b31da214c4a9e109ec30e9e4455",
      "0f6cf252750d438da21d8558c8529fdd",
      "2e2a127ebb6e4b5d84db1d98e9cbd340",
      "60da09d2a8b649c8b5364932a4272c78",
      "f6ec595db0654d53950b8bb0e1bd697a",
      "c0d2f9c825c343f4820f789a4a7313f5",
      "7496cbb90f3e4e99a59c0c0779ff4a2a",
      "a1fc2b23a95f4a12815052a80e4a5b14",
      "1d6f0affb68145b0b05925d412bfe8cc",
      "d929217e274949a3a669c7cf77f19a0f",
      "103f6b6e9fab4f3e8505f0dfc8f35c68",
      "947d3528376f47c0aa6c06bf066ab084",
      "f8c0a1969a764116b332654860907be8",
      "6e8ff94ab6354089acc334413081ca10",
      "f123658f203a49bd89659e254be939e1",
      "de23b5f4c70748e6a17389f5bffa1f70",
      "28ed1f4f782044a4ba9b0b8ef0106983",
      "e9b3b93314d842bc87ab89d770def7d0",
      "9add025006af463fa4a973c599f0a476",
      "78635409a83e4da7ac854090884ccfed",
      "a82bcb291ad64f32b7b0f5ec2f16a3c3",
      "0b00ce58997e4049903252cfe119e5f0",
      "dc444945ac034f84bfbbcae5c4cd17ac",
      "4ba2b49944b047b2ac00dd6f9372b1b4",
      "2da20b52d4ca4ea9945f518c58885087",
      "916bb245f6cf4ad1ab902d9cb6307a64",
      "5f292afeefb7491289e7bc14d2be8801",
      "d1351440f39e4b2f8fb37f9d95871291",
      "35957da3fa074ae3ab2dfc999084b374",
      "ee8e26aa734e41d89c31ea3489b12b47",
      "560fe91457a24fde837c9e31de5b8e25",
      "f17064c88cb04bdd9ea8b241b310f473",
      "af7feca4b6ae465d91078b374a31a49b",
      "c356253b7cdf41dba172dea2019f2515",
      "2e17ee44c617408b915c9e229bf6b0cb",
      "a090703bb2ff40f1af75d1570540cb95",
      "c4dc910090904887a10b7f38ca132b1c",
      "3904b10e54b74ecea8d3979e47554f8c",
      "c9fc1b6593724ac1bd397b15d4c95681",
      "02c4c9fa2011485e9ba88ad1972678b1",
      "f13ef57467a244f08be96087bf8325d2",
      "f16496815f064583986bb6eeb2cdb7a3",
      "688b3fe3367540df9abc519caf10c6d0",
      "1362edfb9830495baa7103fe8817f81f",
      "3c8331d4903f4ff883f1c555e139235b",
      "27c2fd9375ee460295e8fc449eeca35b",
      "6f6027eaa23044b5aa127b24ddfb6110",
      "9bfecaa985eb4683b461695da05a8f14",
      "058c837fde884ebb8bfb607b1646bdb5",
      "4ed50a93a0e84396b77661b52f38d2c8",
      "de7c734e4f6a48cf92408f2ab987e50f",
      "fa9d0572ffb34831a311109a4306750e",
      "2710d2825b6745ee81dab791b080bbd2",
      "94e9a02dec04494fb4fe7b14dcee2586",
      "e9efbe44424e4d1faa926b676aecb33a",
      "2d82657017044223aba6c5ba4570e4d6",
      "f33c6262262e421992b30cdb6e9efcfb",
      "788f43f20f674851814cf6e72c230ed6",
      "ee35667730eb459fba32ef0cd747a224",
      "9d1de086142041ca803915c751da6610",
      "02550dead45e4facbfe8cdd21c75ddbb",
      "25bb497c50044a1ab540f331c2a729a8",
      "59af57ab79d54256a091ecf33c732f75",
      "19d111a8367b4a249acf94418a7746bb",
      "aa6142c7139e4a9d9f1d382c694d9526",
      "bf1089a959d842658e1ee696ef2e9c24",
      "456cbe78c7214051b39d334143836ddf",
      "e94c1e1ead8c4948801afbfd9604db69",
      "ea33f101d13e456db81e5b532b4fa9f1",
      "bdfbe0687457427682ffc7b5aee8b1dd",
      "d9479cd4138c4ec097e2765293d6cf1a",
      "013d93ca219f42e08034278d65af9f7b",
      "2fc64b9b4182484aac56be590bb16311",
      "de43322c01ee4ffa864cff3eec15b6d8",
      "a2f6c780389b4fbf8b4a5aa4b3525eb8",
      "cdde9e6c734f46c8be76540f7fbe1517",
      "0164e70212714638b7c5bac98fe05a0d",
      "551dd2c2ce304f86ba9bff366735fa06",
      "f86fd06cdb784ddc999f0f84eb835f0a",
      "eb9ea2ce73ae437da277c7d68b1086e9",
      "bc83c5ba861d4d2fa1a75fefc940e59b",
      "e91437843da94f2fa5b6e047a0930944",
      "9614752928ed4d8b90852ba7eff669f5",
      "59c5e931d7054950901d545e81790966",
      "f494f3ffe1f2487d8133cc98dd93f181",
      "6744a22b997b4147b0f820123a106dcc",
      "9b275e9c27c445e7bbf0723bd4180247",
      "9c10b55094354e2197fe061038bfdfda",
      "b7ca81fc7de4489181c2f97417d81a23",
      "479cf5f9321844f6a0f1b69818470c0b"
     ]
    },
    "id": "N3RA5w02AN7W",
    "outputId": "afb7109b-b657-4471-d739-b315ebb5ef1e"
   },
   "outputs": [
    {
     "name": "stdout",
     "output_type": "stream",
     "text": [
      "------------------ Starting model ==> epochs: 5, batch size: 4, weights of decay: 0.01 ---------------------\n"
     ]
    },
    {
     "data": {
      "text/html": [
       "Tracking run with wandb version 0.18.7"
      ],
      "text/plain": [
       "<IPython.core.display.HTML object>"
      ]
     },
     "metadata": {},
     "output_type": "display_data"
    },
    {
     "data": {
      "text/html": [
       "Run data is saved locally in <code>c:\\Development\\TactitalTensorsFinalProject\\wandb\\run-20241206_234722-ghy89s3u</code>"
      ],
      "text/plain": [
       "<IPython.core.display.HTML object>"
      ]
     },
     "metadata": {},
     "output_type": "display_data"
    },
    {
     "data": {
      "text/html": [
       "Syncing run <strong><a href='https://wandb.ai/ayoungren-colostate/NBSE2025_GridSearch_3/runs/ghy89s3u' target=\"_blank\">java_epoch-5_batchSize-4_weightsOfDecay-0.01</a></strong> to <a href='https://wandb.ai/ayoungren-colostate/NBSE2025_GridSearch_3' target=\"_blank\">Weights & Biases</a> (<a href='https://wandb.me/developer-guide' target=\"_blank\">docs</a>)<br/>"
      ],
      "text/plain": [
       "<IPython.core.display.HTML object>"
      ]
     },
     "metadata": {},
     "output_type": "display_data"
    },
    {
     "data": {
      "text/html": [
       " View project at <a href='https://wandb.ai/ayoungren-colostate/NBSE2025_GridSearch_3' target=\"_blank\">https://wandb.ai/ayoungren-colostate/NBSE2025_GridSearch_3</a>"
      ],
      "text/plain": [
       "<IPython.core.display.HTML object>"
      ]
     },
     "metadata": {},
     "output_type": "display_data"
    },
    {
     "data": {
      "text/html": [
       " View run at <a href='https://wandb.ai/ayoungren-colostate/NBSE2025_GridSearch_3/runs/ghy89s3u' target=\"_blank\">https://wandb.ai/ayoungren-colostate/NBSE2025_GridSearch_3/runs/ghy89s3u</a>"
      ],
      "text/plain": [
       "<IPython.core.display.HTML object>"
      ]
     },
     "metadata": {},
     "output_type": "display_data"
    },
    {
     "name": "stderr",
     "output_type": "stream",
     "text": [
      "c:\\Users\\ayoun\\Miniconda3\\envs\\nbse2025\\lib\\site-packages\\torch\\_utils.py:776: UserWarning: TypedStorage is deprecated. It will be removed in the future and UntypedStorage will be the only storage class. This should only matter to you if you are using storages directly.  To access UntypedStorage directly, use tensor.untyped_storage() instead of tensor.storage()\n",
      "  return self.fget.__get__(instance, owner)()\n",
      "Some weights of RobertaForSequenceClassification were not initialized from the model checkpoint at microsoft/codebert-base and are newly initialized: ['classifier.dense.bias', 'classifier.dense.weight', 'classifier.out_proj.bias', 'classifier.out_proj.weight']\n",
      "You should probably TRAIN this model on a down-stream task to be able to use it for predictions and inference.\n",
      "Map: 100%|██████████| 7614/7614 [00:00<00:00, 18059.01 examples/s]\n",
      "\u001b[34m\u001b[1mwandb\u001b[0m: \u001b[33mWARNING\u001b[0m The `run_name` is currently set to the same value as `TrainingArguments.output_dir`. If this was not intended, please specify a different run name by setting the `TrainingArguments.run_name` parameter.\n",
      " 13%|█▎        | 1003/7615 [01:04<06:56, 15.89it/s]"
     ]
    },
    {
     "name": "stdout",
     "output_type": "stream",
     "text": [
      "{'loss': 0.161, 'grad_norm': 0.2385871857404709, 'learning_rate': 4.343401181877873e-05, 'epoch': 0.66}\n"
     ]
    },
    {
     "name": "stderr",
     "output_type": "stream",
     "text": [
      " 20%|██        | 1523/7615 [01:37<06:15, 16.21it/s]C:\\Users\\ayoun\\AppData\\Local\\Temp\\ipykernel_22788\\3590710138.py:37: FutureWarning: The behavior of DataFrame concatenation with empty or all-NA entries is deprecated. In a future version, this will no longer exclude empty or all-NA columns when determining the result dtypes. To retain the old behavior, exclude the relevant entries before the concat operation.\n",
      "  scores = pd.concat([scores, temp_scores], ignore_index=True)\n",
      "                                                   \n",
      " 20%|██        | 1523/7615 [01:42<06:15, 16.21it/s]"
     ]
    },
    {
     "name": "stdout",
     "output_type": "stream",
     "text": [
      "\n",
      " ** Evaluating metrics for java test set. ** \n",
      "\n",
      "{'eval_loss': 0.14922671020030975, 'eval_f1': 0.5111289893021813, 'eval_precision': 0.5001785203458973, 'eval_recall': 0.5258611714970002, 'eval_runtime': 5.5167, 'eval_samples_per_second': 276.073, 'eval_steps_per_second': 69.064, 'epoch': 1.0}\n"
     ]
    },
    {
     "name": "stderr",
     "output_type": "stream",
     "text": [
      " 26%|██▋       | 2001/7615 [02:14<06:29, 14.43it/s]  "
     ]
    },
    {
     "name": "stdout",
     "output_type": "stream",
     "text": [
      "{'loss': 0.1085, 'grad_norm': 3.469529628753662, 'learning_rate': 3.6868023637557454e-05, 'epoch': 1.31}\n"
     ]
    },
    {
     "name": "stderr",
     "output_type": "stream",
     "text": [
      " 39%|███▉      | 3003/7615 [03:18<04:41, 16.40it/s]"
     ]
    },
    {
     "name": "stdout",
     "output_type": "stream",
     "text": [
      "{'loss': 0.0902, 'grad_norm': 0.49206215143203735, 'learning_rate': 3.030203545633618e-05, 'epoch': 1.97}\n"
     ]
    },
    {
     "name": "stderr",
     "output_type": "stream",
     "text": [
      "                                                   \n",
      " 40%|████      | 3046/7615 [03:27<04:52, 15.61it/s]"
     ]
    },
    {
     "name": "stdout",
     "output_type": "stream",
     "text": [
      "\n",
      " ** Evaluating metrics for java test set. ** \n",
      "\n",
      "{'eval_loss': 0.10075070708990097, 'eval_f1': 0.7719487782969091, 'eval_precision': 0.7931749220157622, 'eval_recall': 0.7558382139560148, 'eval_runtime': 5.6377, 'eval_samples_per_second': 270.144, 'eval_steps_per_second': 67.58, 'epoch': 2.0}\n"
     ]
    },
    {
     "name": "stderr",
     "output_type": "stream",
     "text": [
      " 53%|█████▎    | 4003/7615 [04:29<04:00, 14.99it/s]  "
     ]
    },
    {
     "name": "stdout",
     "output_type": "stream",
     "text": [
      "{'loss': 0.0655, 'grad_norm': 0.02431034855544567, 'learning_rate': 2.3736047275114905e-05, 'epoch': 2.63}\n"
     ]
    },
    {
     "name": "stderr",
     "output_type": "stream",
     "text": [
      "                                                   \n",
      " 60%|██████    | 4569/7615 [05:12<03:05, 16.40it/s]"
     ]
    },
    {
     "name": "stdout",
     "output_type": "stream",
     "text": [
      "\n",
      " ** Evaluating metrics for java test set. ** \n",
      "\n",
      "{'eval_loss': 0.08405041694641113, 'eval_f1': 0.8358127250778112, 'eval_precision': 0.870556550891739, 'eval_recall': 0.8068165673784579, 'eval_runtime': 5.7584, 'eval_samples_per_second': 264.482, 'eval_steps_per_second': 66.164, 'epoch': 3.0}\n"
     ]
    },
    {
     "name": "stderr",
     "output_type": "stream",
     "text": [
      " 66%|██████▌   | 5001/7615 [05:41<02:53, 15.04it/s]"
     ]
    },
    {
     "name": "stdout",
     "output_type": "stream",
     "text": [
      "{'loss': 0.0556, 'grad_norm': 7.247128963470459, 'learning_rate': 1.717005909389363e-05, 'epoch': 3.28}\n"
     ]
    },
    {
     "name": "stderr",
     "output_type": "stream",
     "text": [
      " 79%|███████▉  | 6003/7615 [06:44<01:44, 15.43it/s]"
     ]
    },
    {
     "name": "stdout",
     "output_type": "stream",
     "text": [
      "{'loss': 0.0394, 'grad_norm': 7.164225101470947, 'learning_rate': 1.0604070912672358e-05, 'epoch': 3.94}\n"
     ]
    },
    {
     "name": "stderr",
     "output_type": "stream",
     "text": [
      "                                                   \n",
      " 80%|████████  | 6092/7615 [06:56<01:43, 14.74it/s]"
     ]
    },
    {
     "name": "stdout",
     "output_type": "stream",
     "text": [
      "\n",
      " ** Evaluating metrics for java test set. ** \n",
      "\n",
      "{'eval_loss': 0.09550824016332626, 'eval_f1': 0.8653730458823646, 'eval_precision': 0.8902078912379128, 'eval_recall': 0.8455691903550682, 'eval_runtime': 5.7914, 'eval_samples_per_second': 262.976, 'eval_steps_per_second': 65.787, 'epoch': 4.0}\n"
     ]
    },
    {
     "name": "stderr",
     "output_type": "stream",
     "text": [
      " 92%|█████████▏| 7003/7615 [07:56<00:37, 16.21it/s]"
     ]
    },
    {
     "name": "stdout",
     "output_type": "stream",
     "text": [
      "{'loss': 0.0224, 'grad_norm': 0.011469465680420399, 'learning_rate': 4.038082731451084e-06, 'epoch': 4.6}\n"
     ]
    },
    {
     "name": "stderr",
     "output_type": "stream",
     "text": [
      "                                                   \n",
      "100%|██████████| 7615/7615 [08:43<00:00, 15.15it/s]"
     ]
    },
    {
     "name": "stdout",
     "output_type": "stream",
     "text": [
      "\n",
      " ** Evaluating metrics for java test set. ** \n",
      "\n",
      "{'eval_loss': 0.10385257005691528, 'eval_f1': 0.8631344492283745, 'eval_precision': 0.8665393300177457, 'eval_recall': 0.8604973309201913, 'eval_runtime': 6.5307, 'eval_samples_per_second': 233.206, 'eval_steps_per_second': 58.34, 'epoch': 5.0}\n"
     ]
    },
    {
     "name": "stderr",
     "output_type": "stream",
     "text": [
      "100%|██████████| 7615/7615 [08:44<00:00, 14.51it/s]\n"
     ]
    },
    {
     "name": "stdout",
     "output_type": "stream",
     "text": [
      "{'train_runtime': 524.8676, 'train_samples_per_second': 58.024, 'train_steps_per_second': 14.508, 'train_loss': 0.0734163070147709, 'epoch': 5.0}\n"
     ]
    },
    {
     "name": "stderr",
     "output_type": "stream",
     "text": [
      "100%|██████████| 381/381 [00:05<00:00, 70.60it/s]\n"
     ]
    },
    {
     "name": "stdout",
     "output_type": "stream",
     "text": [
      "\n",
      " ** Evaluating metrics for java test set. ** \n",
      "\n",
      "Evaluation Metrics: {'eval_loss': 0.09550824016332626, 'eval_f1': 0.8653730458823646, 'eval_precision': 0.8902078912379128, 'eval_recall': 0.8455691903550682, 'eval_runtime': 5.4204, 'eval_samples_per_second': 280.976, 'eval_steps_per_second': 70.29, 'epoch': 5.0}\n"
     ]
    },
    {
     "data": {
      "text/html": [
       "Finishing last run (ID:ghy89s3u) before initializing another..."
      ],
      "text/plain": [
       "<IPython.core.display.HTML object>"
      ]
     },
     "metadata": {},
     "output_type": "display_data"
    },
    {
     "data": {
      "text/html": [
       "\n",
       "    <style>\n",
       "        .wandb-row {\n",
       "            display: flex;\n",
       "            flex-direction: row;\n",
       "            flex-wrap: wrap;\n",
       "            justify-content: flex-start;\n",
       "            width: 100%;\n",
       "        }\n",
       "        .wandb-col {\n",
       "            display: flex;\n",
       "            flex-direction: column;\n",
       "            flex-basis: 100%;\n",
       "            flex: 1;\n",
       "            padding: 10px;\n",
       "        }\n",
       "    </style>\n",
       "<div class=\"wandb-row\"><div class=\"wandb-col\"><h3>Run history:</h3><br/><table class=\"wandb\"><tr><td>eval/f1</td><td>▁▆▇███</td></tr><tr><td>eval/loss</td><td>█▃▁▂▃▂</td></tr><tr><td>eval/precision</td><td>▁▆████</td></tr><tr><td>eval/recall</td><td>▁▆▇███</td></tr><tr><td>eval/runtime</td><td>▂▂▃▃█▁</td></tr><tr><td>eval/samples_per_second</td><td>▇▆▆▅▁█</td></tr><tr><td>eval/steps_per_second</td><td>▇▆▆▅▁█</td></tr><tr><td>train/epoch</td><td>▁▂▂▃▃▄▅▅▆▆▇███</td></tr><tr><td>train/global_step</td><td>▁▂▂▃▃▄▅▅▆▆▇███</td></tr><tr><td>train/grad_norm</td><td>▁▄▁▁██▁</td></tr><tr><td>train/learning_rate</td><td>█▇▆▅▃▂▁</td></tr><tr><td>train/loss</td><td>█▅▄▃▃▂▁</td></tr></table><br/></div><div class=\"wandb-col\"><h3>Run summary:</h3><br/><table class=\"wandb\"><tr><td>eval/f1</td><td>0.86537</td></tr><tr><td>eval/loss</td><td>0.09551</td></tr><tr><td>eval/precision</td><td>0.89021</td></tr><tr><td>eval/recall</td><td>0.84557</td></tr><tr><td>eval/runtime</td><td>5.4204</td></tr><tr><td>eval/samples_per_second</td><td>280.976</td></tr><tr><td>eval/steps_per_second</td><td>70.29</td></tr><tr><td>total_flos</td><td>2003351730144000.0</td></tr><tr><td>train/epoch</td><td>5</td></tr><tr><td>train/global_step</td><td>7615</td></tr><tr><td>train/grad_norm</td><td>0.01147</td></tr><tr><td>train/learning_rate</td><td>0.0</td></tr><tr><td>train/loss</td><td>0.0224</td></tr><tr><td>train_loss</td><td>0.07342</td></tr><tr><td>train_runtime</td><td>524.8676</td></tr><tr><td>train_samples_per_second</td><td>58.024</td></tr><tr><td>train_steps_per_second</td><td>14.508</td></tr></table><br/></div></div>"
      ],
      "text/plain": [
       "<IPython.core.display.HTML object>"
      ]
     },
     "metadata": {},
     "output_type": "display_data"
    },
    {
     "data": {
      "text/html": [
       " View run <strong style=\"color:#cdcd00\">java_epoch-5_batchSize-4_weightsOfDecay-0.01</strong> at: <a href='https://wandb.ai/ayoungren-colostate/NBSE2025_GridSearch_3/runs/ghy89s3u' target=\"_blank\">https://wandb.ai/ayoungren-colostate/NBSE2025_GridSearch_3/runs/ghy89s3u</a><br/> View project at: <a href='https://wandb.ai/ayoungren-colostate/NBSE2025_GridSearch_3' target=\"_blank\">https://wandb.ai/ayoungren-colostate/NBSE2025_GridSearch_3</a><br/>Synced 4 W&B file(s), 0 media file(s), 3 artifact file(s) and 0 other file(s)"
      ],
      "text/plain": [
       "<IPython.core.display.HTML object>"
      ]
     },
     "metadata": {},
     "output_type": "display_data"
    },
    {
     "data": {
      "text/html": [
       "Find logs at: <code>.\\wandb\\run-20241206_234722-ghy89s3u\\logs</code>"
      ],
      "text/plain": [
       "<IPython.core.display.HTML object>"
      ]
     },
     "metadata": {},
     "output_type": "display_data"
    },
    {
     "data": {
      "text/html": [
       "Successfully finished last run (ID:ghy89s3u). Initializing new run:<br/>"
      ],
      "text/plain": [
       "<IPython.core.display.HTML object>"
      ]
     },
     "metadata": {},
     "output_type": "display_data"
    },
    {
     "data": {
      "text/html": [
       "Tracking run with wandb version 0.18.7"
      ],
      "text/plain": [
       "<IPython.core.display.HTML object>"
      ]
     },
     "metadata": {},
     "output_type": "display_data"
    },
    {
     "data": {
      "text/html": [
       "Run data is saved locally in <code>c:\\Development\\TactitalTensorsFinalProject\\wandb\\run-20241207_004652-eyso690c</code>"
      ],
      "text/plain": [
       "<IPython.core.display.HTML object>"
      ]
     },
     "metadata": {},
     "output_type": "display_data"
    },
    {
     "data": {
      "text/html": [
       "Syncing run <strong><a href='https://wandb.ai/ayoungren-colostate/NBSE2025_GridSearch_3/runs/eyso690c' target=\"_blank\">python_epoch-5_batchSize-4_weightsOfDecay-0.01</a></strong> to <a href='https://wandb.ai/ayoungren-colostate/NBSE2025_GridSearch_3' target=\"_blank\">Weights & Biases</a> (<a href='https://wandb.me/developer-guide' target=\"_blank\">docs</a>)<br/>"
      ],
      "text/plain": [
       "<IPython.core.display.HTML object>"
      ]
     },
     "metadata": {},
     "output_type": "display_data"
    },
    {
     "data": {
      "text/html": [
       " View project at <a href='https://wandb.ai/ayoungren-colostate/NBSE2025_GridSearch_3' target=\"_blank\">https://wandb.ai/ayoungren-colostate/NBSE2025_GridSearch_3</a>"
      ],
      "text/plain": [
       "<IPython.core.display.HTML object>"
      ]
     },
     "metadata": {},
     "output_type": "display_data"
    },
    {
     "data": {
      "text/html": [
       " View run at <a href='https://wandb.ai/ayoungren-colostate/NBSE2025_GridSearch_3/runs/eyso690c' target=\"_blank\">https://wandb.ai/ayoungren-colostate/NBSE2025_GridSearch_3/runs/eyso690c</a>"
      ],
      "text/plain": [
       "<IPython.core.display.HTML object>"
      ]
     },
     "metadata": {},
     "output_type": "display_data"
    },
    {
     "name": "stderr",
     "output_type": "stream",
     "text": [
      "c:\\Users\\ayoun\\Miniconda3\\envs\\nbse2025\\lib\\site-packages\\torch\\_utils.py:776: UserWarning: TypedStorage is deprecated. It will be removed in the future and UntypedStorage will be the only storage class. This should only matter to you if you are using storages directly.  To access UntypedStorage directly, use tensor.untyped_storage() instead of tensor.storage()\n",
      "  return self.fget.__get__(instance, owner)()\n",
      "Some weights of RobertaForSequenceClassification were not initialized from the model checkpoint at microsoft/codebert-base and are newly initialized: ['classifier.dense.bias', 'classifier.dense.weight', 'classifier.out_proj.bias', 'classifier.out_proj.weight']\n",
      "You should probably TRAIN this model on a down-stream task to be able to use it for predictions and inference.\n",
      "Map: 100%|██████████| 1884/1884 [00:00<00:00, 14272.37 examples/s]\n",
      " 20%|██        | 377/1885 [00:23<01:33, 16.06it/s]\n",
      " 20%|██        | 377/1885 [00:25<01:33, 16.06it/s]"
     ]
    },
    {
     "name": "stdout",
     "output_type": "stream",
     "text": [
      "\n",
      " ** Evaluating metrics for python test set. ** \n",
      "\n",
      "{'eval_loss': 0.32002392411231995, 'eval_f1': 0.45487126357392266, 'eval_precision': 0.5256509411995671, 'eval_recall': 0.40610616034028235, 'eval_runtime': 1.5693, 'eval_samples_per_second': 240.236, 'eval_steps_per_second': 60.537, 'epoch': 1.0}\n"
     ]
    },
    {
     "name": "stderr",
     "output_type": "stream",
     "text": [
      " 40%|███▉      | 753/1885 [00:50<01:08, 16.64it/s]\n",
      " 40%|████      | 754/1885 [00:51<01:07, 16.64it/s]"
     ]
    },
    {
     "name": "stdout",
     "output_type": "stream",
     "text": [
      "\n",
      " ** Evaluating metrics for python test set. ** \n",
      "\n",
      "{'eval_loss': 0.3037950396537781, 'eval_f1': 0.6025853775986256, 'eval_precision': 0.8352263419926216, 'eval_recall': 0.5476087073718239, 'eval_runtime': 1.4298, 'eval_samples_per_second': 263.666, 'eval_steps_per_second': 66.441, 'epoch': 2.0}\n"
     ]
    },
    {
     "name": "stderr",
     "output_type": "stream",
     "text": [
      " 53%|█████▎    | 1003/1885 [01:09<00:53, 16.55it/s]"
     ]
    },
    {
     "name": "stdout",
     "output_type": "stream",
     "text": [
      "{'loss': 0.3197, 'grad_norm': 2.327369213104248, 'learning_rate': 2.347480106100796e-05, 'epoch': 2.65}\n"
     ]
    },
    {
     "name": "stderr",
     "output_type": "stream",
     "text": [
      " 60%|██████    | 1131/1885 [01:17<00:44, 16.93it/s]\n",
      " 60%|██████    | 1131/1885 [01:18<00:44, 16.93it/s]"
     ]
    },
    {
     "name": "stdout",
     "output_type": "stream",
     "text": [
      "\n",
      " ** Evaluating metrics for python test set. ** \n",
      "\n",
      "{'eval_loss': 0.31088727712631226, 'eval_f1': 0.6742870672590543, 'eval_precision': 0.7897675342560253, 'eval_recall': 0.6266251580101815, 'eval_runtime': 1.5083, 'eval_samples_per_second': 249.95, 'eval_steps_per_second': 62.985, 'epoch': 3.0}\n"
     ]
    },
    {
     "name": "stderr",
     "output_type": "stream",
     "text": [
      " 80%|███████▉  | 1507/1885 [01:44<00:22, 16.73it/s]\n",
      " 80%|████████  | 1508/1885 [01:45<00:22, 16.73it/s]"
     ]
    },
    {
     "name": "stdout",
     "output_type": "stream",
     "text": [
      "\n",
      " ** Evaluating metrics for python test set. ** \n",
      "\n",
      "{'eval_loss': 0.318920761346817, 'eval_f1': 0.7329016766284735, 'eval_precision': 0.7872615608360055, 'eval_recall': 0.6908167371369223, 'eval_runtime': 1.4027, 'eval_samples_per_second': 268.766, 'eval_steps_per_second': 67.726, 'epoch': 4.0}\n"
     ]
    },
    {
     "name": "stderr",
     "output_type": "stream",
     "text": [
      "100%|██████████| 1885/1885 [02:11<00:00, 15.52it/s]\n",
      "100%|██████████| 1885/1885 [02:14<00:00, 15.52it/s]"
     ]
    },
    {
     "name": "stdout",
     "output_type": "stream",
     "text": [
      "\n",
      " ** Evaluating metrics for python test set. ** \n",
      "\n",
      "{'eval_loss': 0.3255635201931, 'eval_f1': 0.7463789212763221, 'eval_precision': 0.7807696266120787, 'eval_recall': 0.7164636120102036, 'eval_runtime': 1.4696, 'eval_samples_per_second': 256.537, 'eval_steps_per_second': 64.645, 'epoch': 5.0}\n"
     ]
    },
    {
     "name": "stderr",
     "output_type": "stream",
     "text": [
      "100%|██████████| 1885/1885 [02:16<00:00, 13.85it/s]\n"
     ]
    },
    {
     "name": "stdout",
     "output_type": "stream",
     "text": [
      "{'train_runtime': 136.1439, 'train_samples_per_second': 55.346, 'train_steps_per_second': 13.846, 'train_loss': 0.22197741197338156, 'epoch': 5.0}\n"
     ]
    },
    {
     "name": "stderr",
     "output_type": "stream",
     "text": [
      "100%|██████████| 95/95 [00:01<00:00, 53.91it/s]\n"
     ]
    },
    {
     "name": "stdout",
     "output_type": "stream",
     "text": [
      "\n",
      " ** Evaluating metrics for python test set. ** \n",
      "\n",
      "Evaluation Metrics: {'eval_loss': 0.3255635201931, 'eval_f1': 0.7463789212763221, 'eval_precision': 0.7807696266120787, 'eval_recall': 0.7164636120102036, 'eval_runtime': 1.7939, 'eval_samples_per_second': 210.161, 'eval_steps_per_second': 52.958, 'epoch': 5.0}\n"
     ]
    },
    {
     "data": {
      "text/html": [
       "Finishing last run (ID:eyso690c) before initializing another..."
      ],
      "text/plain": [
       "<IPython.core.display.HTML object>"
      ]
     },
     "metadata": {},
     "output_type": "display_data"
    },
    {
     "data": {
      "text/html": [
       "\n",
       "    <style>\n",
       "        .wandb-row {\n",
       "            display: flex;\n",
       "            flex-direction: row;\n",
       "            flex-wrap: wrap;\n",
       "            justify-content: flex-start;\n",
       "            width: 100%;\n",
       "        }\n",
       "        .wandb-col {\n",
       "            display: flex;\n",
       "            flex-direction: column;\n",
       "            flex-basis: 100%;\n",
       "            flex: 1;\n",
       "            padding: 10px;\n",
       "        }\n",
       "    </style>\n",
       "<div class=\"wandb-row\"><div class=\"wandb-col\"><h3>Run history:</h3><br/><table class=\"wandb\"><tr><td>eval/f1</td><td>▁▅▆███</td></tr><tr><td>eval/loss</td><td>▆▁▃▆██</td></tr><tr><td>eval/precision</td><td>▁█▇▇▇▇</td></tr><tr><td>eval/recall</td><td>▁▄▆▇██</td></tr><tr><td>eval/runtime</td><td>▄▁▃▁▂█</td></tr><tr><td>eval/samples_per_second</td><td>▅▇▆█▇▁</td></tr><tr><td>eval/steps_per_second</td><td>▅▇▆█▇▁</td></tr><tr><td>train/epoch</td><td>▁▃▄▅▆███</td></tr><tr><td>train/global_step</td><td>▁▃▄▅▆███</td></tr><tr><td>train/grad_norm</td><td>▁</td></tr><tr><td>train/learning_rate</td><td>▁</td></tr><tr><td>train/loss</td><td>▁</td></tr></table><br/></div><div class=\"wandb-col\"><h3>Run summary:</h3><br/><table class=\"wandb\"><tr><td>eval/f1</td><td>0.74638</td></tr><tr><td>eval/loss</td><td>0.32556</td></tr><tr><td>eval/precision</td><td>0.78077</td></tr><tr><td>eval/recall</td><td>0.71646</td></tr><tr><td>eval/runtime</td><td>1.7939</td></tr><tr><td>eval/samples_per_second</td><td>210.161</td></tr><tr><td>eval/steps_per_second</td><td>52.958</td></tr><tr><td>total_flos</td><td>495648800866560.0</td></tr><tr><td>train/epoch</td><td>5</td></tr><tr><td>train/global_step</td><td>1885</td></tr><tr><td>train/grad_norm</td><td>2.32737</td></tr><tr><td>train/learning_rate</td><td>2e-05</td></tr><tr><td>train/loss</td><td>0.3197</td></tr><tr><td>train_loss</td><td>0.22198</td></tr><tr><td>train_runtime</td><td>136.1439</td></tr><tr><td>train_samples_per_second</td><td>55.346</td></tr><tr><td>train_steps_per_second</td><td>13.846</td></tr></table><br/></div></div>"
      ],
      "text/plain": [
       "<IPython.core.display.HTML object>"
      ]
     },
     "metadata": {},
     "output_type": "display_data"
    },
    {
     "data": {
      "text/html": [
       " View run <strong style=\"color:#cdcd00\">python_epoch-5_batchSize-4_weightsOfDecay-0.01</strong> at: <a href='https://wandb.ai/ayoungren-colostate/NBSE2025_GridSearch_3/runs/eyso690c' target=\"_blank\">https://wandb.ai/ayoungren-colostate/NBSE2025_GridSearch_3/runs/eyso690c</a><br/> View project at: <a href='https://wandb.ai/ayoungren-colostate/NBSE2025_GridSearch_3' target=\"_blank\">https://wandb.ai/ayoungren-colostate/NBSE2025_GridSearch_3</a><br/>Synced 5 W&B file(s), 0 media file(s), 2 artifact file(s) and 0 other file(s)"
      ],
      "text/plain": [
       "<IPython.core.display.HTML object>"
      ]
     },
     "metadata": {},
     "output_type": "display_data"
    },
    {
     "data": {
      "text/html": [
       "Find logs at: <code>.\\wandb\\run-20241207_004652-eyso690c\\logs</code>"
      ],
      "text/plain": [
       "<IPython.core.display.HTML object>"
      ]
     },
     "metadata": {},
     "output_type": "display_data"
    },
    {
     "data": {
      "text/html": [
       "Successfully finished last run (ID:eyso690c). Initializing new run:<br/>"
      ],
      "text/plain": [
       "<IPython.core.display.HTML object>"
      ]
     },
     "metadata": {},
     "output_type": "display_data"
    },
    {
     "data": {
      "text/html": [
       "Tracking run with wandb version 0.18.7"
      ],
      "text/plain": [
       "<IPython.core.display.HTML object>"
      ]
     },
     "metadata": {},
     "output_type": "display_data"
    },
    {
     "data": {
      "text/html": [
       "Run data is saved locally in <code>c:\\Development\\TactitalTensorsFinalProject\\wandb\\run-20241207_010154-j5xqim25</code>"
      ],
      "text/plain": [
       "<IPython.core.display.HTML object>"
      ]
     },
     "metadata": {},
     "output_type": "display_data"
    },
    {
     "data": {
      "text/html": [
       "Syncing run <strong><a href='https://wandb.ai/ayoungren-colostate/NBSE2025_GridSearch_3/runs/j5xqim25' target=\"_blank\">pharo_epoch-5_batchSize-4_weightsOfDecay-0.01</a></strong> to <a href='https://wandb.ai/ayoungren-colostate/NBSE2025_GridSearch_3' target=\"_blank\">Weights & Biases</a> (<a href='https://wandb.me/developer-guide' target=\"_blank\">docs</a>)<br/>"
      ],
      "text/plain": [
       "<IPython.core.display.HTML object>"
      ]
     },
     "metadata": {},
     "output_type": "display_data"
    },
    {
     "data": {
      "text/html": [
       " View project at <a href='https://wandb.ai/ayoungren-colostate/NBSE2025_GridSearch_3' target=\"_blank\">https://wandb.ai/ayoungren-colostate/NBSE2025_GridSearch_3</a>"
      ],
      "text/plain": [
       "<IPython.core.display.HTML object>"
      ]
     },
     "metadata": {},
     "output_type": "display_data"
    },
    {
     "data": {
      "text/html": [
       " View run at <a href='https://wandb.ai/ayoungren-colostate/NBSE2025_GridSearch_3/runs/j5xqim25' target=\"_blank\">https://wandb.ai/ayoungren-colostate/NBSE2025_GridSearch_3/runs/j5xqim25</a>"
      ],
      "text/plain": [
       "<IPython.core.display.HTML object>"
      ]
     },
     "metadata": {},
     "output_type": "display_data"
    },
    {
     "name": "stderr",
     "output_type": "stream",
     "text": [
      "c:\\Users\\ayoun\\Miniconda3\\envs\\nbse2025\\lib\\site-packages\\torch\\_utils.py:776: UserWarning: TypedStorage is deprecated. It will be removed in the future and UntypedStorage will be the only storage class. This should only matter to you if you are using storages directly.  To access UntypedStorage directly, use tensor.untyped_storage() instead of tensor.storage()\n",
      "  return self.fget.__get__(instance, owner)()\n",
      "Some weights of RobertaForSequenceClassification were not initialized from the model checkpoint at microsoft/codebert-base and are newly initialized: ['classifier.dense.bias', 'classifier.dense.weight', 'classifier.out_proj.bias', 'classifier.out_proj.weight']\n",
      "You should probably TRAIN this model on a down-stream task to be able to use it for predictions and inference.\n",
      "Map: 100%|██████████| 1298/1298 [00:00<00:00, 10491.80 examples/s]\n",
      " 20%|█▉        | 259/1300 [00:16<01:07, 15.38it/s]\n",
      " 20%|██        | 260/1300 [00:17<01:07, 15.38it/s]"
     ]
    },
    {
     "name": "stdout",
     "output_type": "stream",
     "text": [
      "\n",
      " ** Evaluating metrics for pharo test set. ** \n",
      "\n",
      "{'eval_loss': 0.29351019859313965, 'eval_f1': 0.26654862106263005, 'eval_precision': 0.31132295023272466, 'eval_recall': 0.23842179706692473, 'eval_runtime': 1.3661, 'eval_samples_per_second': 190.323, 'eval_steps_per_second': 47.581, 'epoch': 1.0}\n"
     ]
    },
    {
     "name": "stderr",
     "output_type": "stream",
     "text": [
      " 40%|███▉      | 519/1300 [00:35<00:46, 16.65it/s]\n",
      " 40%|████      | 520/1300 [00:36<00:46, 16.65it/s]"
     ]
    },
    {
     "name": "stdout",
     "output_type": "stream",
     "text": [
      "\n",
      " ** Evaluating metrics for pharo test set. ** \n",
      "\n",
      "{'eval_loss': 0.23040412366390228, 'eval_f1': 0.4936457990720073, 'eval_precision': 0.5844664122518417, 'eval_recall': 0.43152060385095575, 'eval_runtime': 0.962, 'eval_samples_per_second': 270.278, 'eval_steps_per_second': 67.569, 'epoch': 2.0}\n"
     ]
    },
    {
     "name": "stderr",
     "output_type": "stream",
     "text": [
      " 60%|█████▉    | 779/1300 [00:55<00:32, 15.85it/s]\n",
      " 60%|██████    | 780/1300 [00:57<00:32, 15.85it/s]"
     ]
    },
    {
     "name": "stdout",
     "output_type": "stream",
     "text": [
      "\n",
      " ** Evaluating metrics for pharo test set. ** \n",
      "\n",
      "{'eval_loss': 0.22708669304847717, 'eval_f1': 0.5198598617533984, 'eval_precision': 0.5720715558950854, 'eval_recall': 0.48063645073742467, 'eval_runtime': 1.1087, 'eval_samples_per_second': 234.507, 'eval_steps_per_second': 58.627, 'epoch': 3.0}\n"
     ]
    },
    {
     "name": "stderr",
     "output_type": "stream",
     "text": [
      " 77%|███████▋  | 1003/1300 [01:13<00:20, 14.77it/s]"
     ]
    },
    {
     "name": "stdout",
     "output_type": "stream",
     "text": [
      "{'loss': 0.2175, 'grad_norm': 0.4598521888256073, 'learning_rate': 1.153846153846154e-05, 'epoch': 3.85}\n"
     ]
    },
    {
     "name": "stderr",
     "output_type": "stream",
     "text": [
      " 80%|███████▉  | 1039/1300 [01:15<00:16, 15.38it/s]\n",
      " 80%|████████  | 1040/1300 [01:16<00:16, 15.38it/s]"
     ]
    },
    {
     "name": "stdout",
     "output_type": "stream",
     "text": [
      "\n",
      " ** Evaluating metrics for pharo test set. ** \n",
      "\n",
      "{'eval_loss': 0.22135844826698303, 'eval_f1': 0.5526401694083359, 'eval_precision': 0.5990715527005851, 'eval_recall': 0.5199639488139229, 'eval_runtime': 1.2915, 'eval_samples_per_second': 201.312, 'eval_steps_per_second': 50.328, 'epoch': 4.0}\n"
     ]
    },
    {
     "name": "stderr",
     "output_type": "stream",
     "text": [
      "100%|█████████▉| 1299/1300 [01:35<00:00, 16.21it/s]\n",
      "100%|██████████| 1300/1300 [01:37<00:00, 16.21it/s]"
     ]
    },
    {
     "name": "stdout",
     "output_type": "stream",
     "text": [
      "\n",
      " ** Evaluating metrics for pharo test set. ** \n",
      "\n",
      "{'eval_loss': 0.21894140541553497, 'eval_f1': 0.5957053673379221, 'eval_precision': 0.746988740682342, 'eval_recall': 0.5475291134936563, 'eval_runtime': 1.12, 'eval_samples_per_second': 232.147, 'eval_steps_per_second': 58.037, 'epoch': 5.0}\n"
     ]
    },
    {
     "name": "stderr",
     "output_type": "stream",
     "text": [
      "100%|██████████| 1300/1300 [01:39<00:00, 13.03it/s]\n"
     ]
    },
    {
     "name": "stdout",
     "output_type": "stream",
     "text": [
      "{'train_runtime': 99.7977, 'train_samples_per_second': 52.005, 'train_steps_per_second': 13.026, 'train_loss': 0.18813525273249698, 'epoch': 5.0}\n"
     ]
    },
    {
     "name": "stderr",
     "output_type": "stream",
     "text": [
      "100%|██████████| 65/65 [00:01<00:00, 50.56it/s]\n"
     ]
    },
    {
     "name": "stdout",
     "output_type": "stream",
     "text": [
      "\n",
      " ** Evaluating metrics for pharo test set. ** \n",
      "\n",
      "Evaluation Metrics: {'eval_loss': 0.21894140541553497, 'eval_f1': 0.5957053673379221, 'eval_precision': 0.746988740682342, 'eval_recall': 0.5475291134936563, 'eval_runtime': 1.3215, 'eval_samples_per_second': 196.745, 'eval_steps_per_second': 49.186, 'epoch': 5.0}\n",
      "    comparison                                    model     lan  \\\n",
      "0   validation  epoch-5_batchSize-4_weightsOfDecay-0.01    java   \n",
      "1   validation  epoch-5_batchSize-4_weightsOfDecay-0.01    java   \n",
      "2   validation  epoch-5_batchSize-4_weightsOfDecay-0.01    java   \n",
      "3   validation  epoch-5_batchSize-4_weightsOfDecay-0.01    java   \n",
      "4   validation  epoch-5_batchSize-4_weightsOfDecay-0.01    java   \n",
      "5   validation  epoch-5_batchSize-4_weightsOfDecay-0.01    java   \n",
      "6   validation  epoch-5_batchSize-4_weightsOfDecay-0.01    java   \n",
      "7   validation  epoch-5_batchSize-4_weightsOfDecay-0.01  python   \n",
      "8   validation  epoch-5_batchSize-4_weightsOfDecay-0.01  python   \n",
      "9   validation  epoch-5_batchSize-4_weightsOfDecay-0.01  python   \n",
      "10  validation  epoch-5_batchSize-4_weightsOfDecay-0.01  python   \n",
      "11  validation  epoch-5_batchSize-4_weightsOfDecay-0.01  python   \n",
      "12  validation  epoch-5_batchSize-4_weightsOfDecay-0.01   pharo   \n",
      "13  validation  epoch-5_batchSize-4_weightsOfDecay-0.01   pharo   \n",
      "14  validation  epoch-5_batchSize-4_weightsOfDecay-0.01   pharo   \n",
      "15  validation  epoch-5_batchSize-4_weightsOfDecay-0.01   pharo   \n",
      "16  validation  epoch-5_batchSize-4_weightsOfDecay-0.01   pharo   \n",
      "17  validation  epoch-5_batchSize-4_weightsOfDecay-0.01   pharo   \n",
      "18  validation  epoch-5_batchSize-4_weightsOfDecay-0.01   pharo   \n",
      "\n",
      "                        cat  precision    recall        f1  \n",
      "0                   summary   0.936886  0.950213  0.943503  \n",
      "1                 Ownership   0.964912  1.000000  0.982143  \n",
      "2                    Expand   0.660194  0.666667  0.663415  \n",
      "3                     usage   0.982801  0.915332  0.947867  \n",
      "4                   Pointer   0.972376  0.931217  0.951351  \n",
      "5               deprecation   0.964286  0.900000  0.931034  \n",
      "6                  rational   0.750000  0.555556  0.638298  \n",
      "7                     Usage   0.900000  0.743802  0.814480  \n",
      "8                Parameters   0.862385  0.839286  0.850679  \n",
      "9          DevelopmentNotes   0.657895  0.625000  0.641026  \n",
      "10                   Expand   0.666667  0.579710  0.620155  \n",
      "11                  Summary   0.816901  0.794521  0.805556  \n",
      "12  Keyimplementationpoints   0.878788  0.690476  0.773333  \n",
      "13                  Example   0.945652  0.861386  0.901554  \n",
      "14         Responsibilities   0.750000  0.540000  0.627907  \n",
      "15          Classreferences   0.000000  0.000000  0.000000  \n",
      "16                   Intent   0.937500  0.789474  0.857143  \n",
      "17              Keymessages   0.716981  0.808511  0.760000  \n",
      "18            Collaborators   1.000000  0.142857  0.250000  \n",
      "------------------ Starting model ==> epochs: 5, batch size: 8, weights of decay: 0.01 ---------------------\n"
     ]
    },
    {
     "data": {
      "text/html": [
       "Finishing last run (ID:j5xqim25) before initializing another..."
      ],
      "text/plain": [
       "<IPython.core.display.HTML object>"
      ]
     },
     "metadata": {},
     "output_type": "display_data"
    },
    {
     "data": {
      "text/html": [
       "\n",
       "    <style>\n",
       "        .wandb-row {\n",
       "            display: flex;\n",
       "            flex-direction: row;\n",
       "            flex-wrap: wrap;\n",
       "            justify-content: flex-start;\n",
       "            width: 100%;\n",
       "        }\n",
       "        .wandb-col {\n",
       "            display: flex;\n",
       "            flex-direction: column;\n",
       "            flex-basis: 100%;\n",
       "            flex: 1;\n",
       "            padding: 10px;\n",
       "        }\n",
       "    </style>\n",
       "<div class=\"wandb-row\"><div class=\"wandb-col\"><h3>Run history:</h3><br/><table class=\"wandb\"><tr><td>eval/f1</td><td>▁▆▆▇██</td></tr><tr><td>eval/loss</td><td>█▂▂▁▁▁</td></tr><tr><td>eval/precision</td><td>▁▅▅▆██</td></tr><tr><td>eval/recall</td><td>▁▅▆▇██</td></tr><tr><td>eval/runtime</td><td>█▁▄▇▄▇</td></tr><tr><td>eval/samples_per_second</td><td>▁█▅▂▅▂</td></tr><tr><td>eval/steps_per_second</td><td>▁█▅▂▅▂</td></tr><tr><td>train/epoch</td><td>▁▃▅▆▆███</td></tr><tr><td>train/global_step</td><td>▁▃▅▆▆███</td></tr><tr><td>train/grad_norm</td><td>▁</td></tr><tr><td>train/learning_rate</td><td>▁</td></tr><tr><td>train/loss</td><td>▁</td></tr></table><br/></div><div class=\"wandb-col\"><h3>Run summary:</h3><br/><table class=\"wandb\"><tr><td>eval/f1</td><td>0.59571</td></tr><tr><td>eval/loss</td><td>0.21894</td></tr><tr><td>eval/precision</td><td>0.74699</td></tr><tr><td>eval/recall</td><td>0.54753</td></tr><tr><td>eval/runtime</td><td>1.3215</td></tr><tr><td>eval/samples_per_second</td><td>196.745</td></tr><tr><td>eval/steps_per_second</td><td>49.186</td></tr><tr><td>total_flos</td><td>341401920192000.0</td></tr><tr><td>train/epoch</td><td>5</td></tr><tr><td>train/global_step</td><td>1300</td></tr><tr><td>train/grad_norm</td><td>0.45985</td></tr><tr><td>train/learning_rate</td><td>1e-05</td></tr><tr><td>train/loss</td><td>0.2175</td></tr><tr><td>train_loss</td><td>0.18814</td></tr><tr><td>train_runtime</td><td>99.7977</td></tr><tr><td>train_samples_per_second</td><td>52.005</td></tr><tr><td>train_steps_per_second</td><td>13.026</td></tr></table><br/></div></div>"
      ],
      "text/plain": [
       "<IPython.core.display.HTML object>"
      ]
     },
     "metadata": {},
     "output_type": "display_data"
    },
    {
     "data": {
      "text/html": [
       " View run <strong style=\"color:#cdcd00\">pharo_epoch-5_batchSize-4_weightsOfDecay-0.01</strong> at: <a href='https://wandb.ai/ayoungren-colostate/NBSE2025_GridSearch_3/runs/j5xqim25' target=\"_blank\">https://wandb.ai/ayoungren-colostate/NBSE2025_GridSearch_3/runs/j5xqim25</a><br/> View project at: <a href='https://wandb.ai/ayoungren-colostate/NBSE2025_GridSearch_3' target=\"_blank\">https://wandb.ai/ayoungren-colostate/NBSE2025_GridSearch_3</a><br/>Synced 5 W&B file(s), 0 media file(s), 2 artifact file(s) and 0 other file(s)"
      ],
      "text/plain": [
       "<IPython.core.display.HTML object>"
      ]
     },
     "metadata": {},
     "output_type": "display_data"
    },
    {
     "data": {
      "text/html": [
       "Find logs at: <code>.\\wandb\\run-20241207_010154-j5xqim25\\logs</code>"
      ],
      "text/plain": [
       "<IPython.core.display.HTML object>"
      ]
     },
     "metadata": {},
     "output_type": "display_data"
    },
    {
     "data": {
      "text/html": [
       "Successfully finished last run (ID:j5xqim25). Initializing new run:<br/>"
      ],
      "text/plain": [
       "<IPython.core.display.HTML object>"
      ]
     },
     "metadata": {},
     "output_type": "display_data"
    },
    {
     "data": {
      "text/html": [
       "Tracking run with wandb version 0.18.7"
      ],
      "text/plain": [
       "<IPython.core.display.HTML object>"
      ]
     },
     "metadata": {},
     "output_type": "display_data"
    },
    {
     "data": {
      "text/html": [
       "Run data is saved locally in <code>c:\\Development\\TactitalTensorsFinalProject\\wandb\\run-20241207_011223-01g01swg</code>"
      ],
      "text/plain": [
       "<IPython.core.display.HTML object>"
      ]
     },
     "metadata": {},
     "output_type": "display_data"
    },
    {
     "data": {
      "text/html": [
       "Syncing run <strong><a href='https://wandb.ai/ayoungren-colostate/NBSE2025_GridSearch_3/runs/01g01swg' target=\"_blank\">java_epoch-5_batchSize-8_weightsOfDecay-0.01</a></strong> to <a href='https://wandb.ai/ayoungren-colostate/NBSE2025_GridSearch_3' target=\"_blank\">Weights & Biases</a> (<a href='https://wandb.me/developer-guide' target=\"_blank\">docs</a>)<br/>"
      ],
      "text/plain": [
       "<IPython.core.display.HTML object>"
      ]
     },
     "metadata": {},
     "output_type": "display_data"
    },
    {
     "data": {
      "text/html": [
       " View project at <a href='https://wandb.ai/ayoungren-colostate/NBSE2025_GridSearch_3' target=\"_blank\">https://wandb.ai/ayoungren-colostate/NBSE2025_GridSearch_3</a>"
      ],
      "text/plain": [
       "<IPython.core.display.HTML object>"
      ]
     },
     "metadata": {},
     "output_type": "display_data"
    },
    {
     "data": {
      "text/html": [
       " View run at <a href='https://wandb.ai/ayoungren-colostate/NBSE2025_GridSearch_3/runs/01g01swg' target=\"_blank\">https://wandb.ai/ayoungren-colostate/NBSE2025_GridSearch_3/runs/01g01swg</a>"
      ],
      "text/plain": [
       "<IPython.core.display.HTML object>"
      ]
     },
     "metadata": {},
     "output_type": "display_data"
    },
    {
     "name": "stderr",
     "output_type": "stream",
     "text": [
      "c:\\Users\\ayoun\\Miniconda3\\envs\\nbse2025\\lib\\site-packages\\torch\\_utils.py:776: UserWarning: TypedStorage is deprecated. It will be removed in the future and UntypedStorage will be the only storage class. This should only matter to you if you are using storages directly.  To access UntypedStorage directly, use tensor.untyped_storage() instead of tensor.storage()\n",
      "  return self.fget.__get__(instance, owner)()\n",
      "Some weights of RobertaForSequenceClassification were not initialized from the model checkpoint at microsoft/codebert-base and are newly initialized: ['classifier.dense.bias', 'classifier.dense.weight', 'classifier.out_proj.bias', 'classifier.out_proj.weight']\n",
      "You should probably TRAIN this model on a down-stream task to be able to use it for predictions and inference.\n",
      "Map: 100%|██████████| 7614/7614 [00:00<00:00, 20508.07 examples/s]\n",
      " 20%|█▉        | 761/3810 [00:55<03:54, 13.00it/s]\n",
      " 20%|██        | 762/3810 [00:59<03:54, 13.00it/s]"
     ]
    },
    {
     "name": "stdout",
     "output_type": "stream",
     "text": [
      "\n",
      " ** Evaluating metrics for java test set. ** \n",
      "\n",
      "{'eval_loss': 0.11081206053495407, 'eval_f1': 0.5607734116765417, 'eval_precision': 0.7469528851693247, 'eval_recall': 0.5481769681642766, 'eval_runtime': 4.0214, 'eval_samples_per_second': 378.727, 'eval_steps_per_second': 47.496, 'epoch': 1.0}\n"
     ]
    },
    {
     "name": "stderr",
     "output_type": "stream",
     "text": [
      " 26%|██▋       | 1001/3810 [01:19<03:37, 12.93it/s]"
     ]
    },
    {
     "name": "stdout",
     "output_type": "stream",
     "text": [
      "{'loss': 0.1332, 'grad_norm': 3.2732927799224854, 'learning_rate': 3.6876640419947505e-05, 'epoch': 1.31}\n"
     ]
    },
    {
     "name": "stderr",
     "output_type": "stream",
     "text": [
      " 40%|███▉      | 1523/3810 [01:57<02:51, 13.34it/s]\n",
      " 40%|████      | 1524/3810 [02:01<02:51, 13.34it/s]"
     ]
    },
    {
     "name": "stdout",
     "output_type": "stream",
     "text": [
      "\n",
      " ** Evaluating metrics for java test set. ** \n",
      "\n",
      "{'eval_loss': 0.08294270187616348, 'eval_f1': 0.7437767496447479, 'eval_precision': 0.9134550045964017, 'eval_recall': 0.7029050417316478, 'eval_runtime': 3.8472, 'eval_samples_per_second': 395.877, 'eval_steps_per_second': 49.647, 'epoch': 2.0}\n"
     ]
    },
    {
     "name": "stderr",
     "output_type": "stream",
     "text": [
      " 53%|█████▎    | 2001/3810 [02:38<02:20, 12.85it/s]"
     ]
    },
    {
     "name": "stdout",
     "output_type": "stream",
     "text": [
      "{'loss': 0.0711, 'grad_norm': 0.028852000832557678, 'learning_rate': 2.3753280839895015e-05, 'epoch': 2.62}\n"
     ]
    },
    {
     "name": "stderr",
     "output_type": "stream",
     "text": [
      " 60%|█████▉    | 2285/3810 [02:59<01:53, 13.42it/s]\n",
      " 60%|██████    | 2286/3810 [03:04<01:53, 13.42it/s]"
     ]
    },
    {
     "name": "stdout",
     "output_type": "stream",
     "text": [
      "\n",
      " ** Evaluating metrics for java test set. ** \n",
      "\n",
      "{'eval_loss': 0.07681600004434586, 'eval_f1': 0.8421422076096936, 'eval_precision': 0.873295042720631, 'eval_recall': 0.8149901800729638, 'eval_runtime': 4.1324, 'eval_samples_per_second': 368.548, 'eval_steps_per_second': 46.22, 'epoch': 3.0}\n"
     ]
    },
    {
     "name": "stderr",
     "output_type": "stream",
     "text": [
      " 79%|███████▉  | 3002/3810 [04:00<01:01, 13.07it/s]"
     ]
    },
    {
     "name": "stdout",
     "output_type": "stream",
     "text": [
      "{'loss': 0.0394, 'grad_norm': 0.12436270713806152, 'learning_rate': 1.062992125984252e-05, 'epoch': 3.94}\n"
     ]
    },
    {
     "name": "stderr",
     "output_type": "stream",
     "text": [
      " 80%|████████  | 3048/3810 [04:03<00:54, 14.02it/s]\n",
      " 80%|████████  | 3048/3810 [04:07<00:54, 14.02it/s]"
     ]
    },
    {
     "name": "stdout",
     "output_type": "stream",
     "text": [
      "\n",
      " ** Evaluating metrics for java test set. ** \n",
      "\n",
      "{'eval_loss': 0.08419058471918106, 'eval_f1': 0.8689351968548402, 'eval_precision': 0.8899172233829553, 'eval_recall': 0.8520457895570871, 'eval_runtime': 3.9766, 'eval_samples_per_second': 382.992, 'eval_steps_per_second': 48.031, 'epoch': 4.0}\n"
     ]
    },
    {
     "name": "stderr",
     "output_type": "stream",
     "text": [
      "100%|██████████| 3810/3810 [05:06<00:00, 14.05it/s]\n",
      "100%|██████████| 3810/3810 [05:12<00:00, 14.05it/s]"
     ]
    },
    {
     "name": "stdout",
     "output_type": "stream",
     "text": [
      "\n",
      " ** Evaluating metrics for java test set. ** \n",
      "\n",
      "{'eval_loss': 0.09168393909931183, 'eval_f1': 0.862942671379306, 'eval_precision': 0.8856982996026572, 'eval_recall': 0.8460739973864218, 'eval_runtime': 4.0422, 'eval_samples_per_second': 376.777, 'eval_steps_per_second': 47.252, 'epoch': 5.0}\n"
     ]
    },
    {
     "name": "stderr",
     "output_type": "stream",
     "text": [
      "100%|██████████| 3810/3810 [05:15<00:00, 12.08it/s]\n"
     ]
    },
    {
     "name": "stdout",
     "output_type": "stream",
     "text": [
      "{'train_runtime': 315.44, 'train_samples_per_second': 96.548, 'train_steps_per_second': 12.078, 'train_loss': 0.06831518308384212, 'epoch': 5.0}\n"
     ]
    },
    {
     "name": "stderr",
     "output_type": "stream",
     "text": [
      "100%|██████████| 191/191 [00:03<00:00, 49.62it/s]\n"
     ]
    },
    {
     "name": "stdout",
     "output_type": "stream",
     "text": [
      "\n",
      " ** Evaluating metrics for java test set. ** \n",
      "\n",
      "Evaluation Metrics: {'eval_loss': 0.08419058471918106, 'eval_f1': 0.8689351968548402, 'eval_precision': 0.8899172233829553, 'eval_recall': 0.8520457895570871, 'eval_runtime': 3.9341, 'eval_samples_per_second': 387.123, 'eval_steps_per_second': 48.549, 'epoch': 5.0}\n"
     ]
    },
    {
     "data": {
      "text/html": [
       "Finishing last run (ID:01g01swg) before initializing another..."
      ],
      "text/plain": [
       "<IPython.core.display.HTML object>"
      ]
     },
     "metadata": {},
     "output_type": "display_data"
    },
    {
     "data": {
      "text/html": [
       "\n",
       "    <style>\n",
       "        .wandb-row {\n",
       "            display: flex;\n",
       "            flex-direction: row;\n",
       "            flex-wrap: wrap;\n",
       "            justify-content: flex-start;\n",
       "            width: 100%;\n",
       "        }\n",
       "        .wandb-col {\n",
       "            display: flex;\n",
       "            flex-direction: column;\n",
       "            flex-basis: 100%;\n",
       "            flex: 1;\n",
       "            padding: 10px;\n",
       "        }\n",
       "    </style>\n",
       "<div class=\"wandb-row\"><div class=\"wandb-col\"><h3>Run history:</h3><br/><table class=\"wandb\"><tr><td>eval/f1</td><td>▁▅▇███</td></tr><tr><td>eval/loss</td><td>█▂▁▃▄▃</td></tr><tr><td>eval/precision</td><td>▁█▆▇▇▇</td></tr><tr><td>eval/recall</td><td>▁▅▇███</td></tr><tr><td>eval/runtime</td><td>▅▁█▄▆▃</td></tr><tr><td>eval/samples_per_second</td><td>▄█▁▅▃▆</td></tr><tr><td>eval/steps_per_second</td><td>▄█▁▅▃▆</td></tr><tr><td>train/epoch</td><td>▁▂▃▄▅▆▆███</td></tr><tr><td>train/global_step</td><td>▁▂▃▄▅▆▆███</td></tr><tr><td>train/grad_norm</td><td>█▁▁</td></tr><tr><td>train/learning_rate</td><td>█▄▁</td></tr><tr><td>train/loss</td><td>█▃▁</td></tr></table><br/></div><div class=\"wandb-col\"><h3>Run summary:</h3><br/><table class=\"wandb\"><tr><td>eval/f1</td><td>0.86894</td></tr><tr><td>eval/loss</td><td>0.08419</td></tr><tr><td>eval/precision</td><td>0.88992</td></tr><tr><td>eval/recall</td><td>0.85205</td></tr><tr><td>eval/runtime</td><td>3.9341</td></tr><tr><td>eval/samples_per_second</td><td>387.123</td></tr><tr><td>eval/steps_per_second</td><td>48.549</td></tr><tr><td>total_flos</td><td>2003351730144000.0</td></tr><tr><td>train/epoch</td><td>5</td></tr><tr><td>train/global_step</td><td>3810</td></tr><tr><td>train/grad_norm</td><td>0.12436</td></tr><tr><td>train/learning_rate</td><td>1e-05</td></tr><tr><td>train/loss</td><td>0.0394</td></tr><tr><td>train_loss</td><td>0.06832</td></tr><tr><td>train_runtime</td><td>315.44</td></tr><tr><td>train_samples_per_second</td><td>96.548</td></tr><tr><td>train_steps_per_second</td><td>12.078</td></tr></table><br/></div></div>"
      ],
      "text/plain": [
       "<IPython.core.display.HTML object>"
      ]
     },
     "metadata": {},
     "output_type": "display_data"
    },
    {
     "data": {
      "text/html": [
       " View run <strong style=\"color:#cdcd00\">java_epoch-5_batchSize-8_weightsOfDecay-0.01</strong> at: <a href='https://wandb.ai/ayoungren-colostate/NBSE2025_GridSearch_3/runs/01g01swg' target=\"_blank\">https://wandb.ai/ayoungren-colostate/NBSE2025_GridSearch_3/runs/01g01swg</a><br/> View project at: <a href='https://wandb.ai/ayoungren-colostate/NBSE2025_GridSearch_3' target=\"_blank\">https://wandb.ai/ayoungren-colostate/NBSE2025_GridSearch_3</a><br/>Synced 5 W&B file(s), 0 media file(s), 0 artifact file(s) and 0 other file(s)"
      ],
      "text/plain": [
       "<IPython.core.display.HTML object>"
      ]
     },
     "metadata": {},
     "output_type": "display_data"
    },
    {
     "data": {
      "text/html": [
       "Find logs at: <code>.\\wandb\\run-20241207_011223-01g01swg\\logs</code>"
      ],
      "text/plain": [
       "<IPython.core.display.HTML object>"
      ]
     },
     "metadata": {},
     "output_type": "display_data"
    },
    {
     "data": {
      "text/html": [
       "Successfully finished last run (ID:01g01swg). Initializing new run:<br/>"
      ],
      "text/plain": [
       "<IPython.core.display.HTML object>"
      ]
     },
     "metadata": {},
     "output_type": "display_data"
    },
    {
     "data": {
      "text/html": [
       "Tracking run with wandb version 0.18.7"
      ],
      "text/plain": [
       "<IPython.core.display.HTML object>"
      ]
     },
     "metadata": {},
     "output_type": "display_data"
    },
    {
     "data": {
      "text/html": [
       "Run data is saved locally in <code>c:\\Development\\TactitalTensorsFinalProject\\wandb\\run-20241207_020936-5tga34q0</code>"
      ],
      "text/plain": [
       "<IPython.core.display.HTML object>"
      ]
     },
     "metadata": {},
     "output_type": "display_data"
    },
    {
     "data": {
      "text/html": [
       "Syncing run <strong><a href='https://wandb.ai/ayoungren-colostate/NBSE2025_GridSearch_3/runs/5tga34q0' target=\"_blank\">python_epoch-5_batchSize-8_weightsOfDecay-0.01</a></strong> to <a href='https://wandb.ai/ayoungren-colostate/NBSE2025_GridSearch_3' target=\"_blank\">Weights & Biases</a> (<a href='https://wandb.me/developer-guide' target=\"_blank\">docs</a>)<br/>"
      ],
      "text/plain": [
       "<IPython.core.display.HTML object>"
      ]
     },
     "metadata": {},
     "output_type": "display_data"
    },
    {
     "data": {
      "text/html": [
       " View project at <a href='https://wandb.ai/ayoungren-colostate/NBSE2025_GridSearch_3' target=\"_blank\">https://wandb.ai/ayoungren-colostate/NBSE2025_GridSearch_3</a>"
      ],
      "text/plain": [
       "<IPython.core.display.HTML object>"
      ]
     },
     "metadata": {},
     "output_type": "display_data"
    },
    {
     "data": {
      "text/html": [
       " View run at <a href='https://wandb.ai/ayoungren-colostate/NBSE2025_GridSearch_3/runs/5tga34q0' target=\"_blank\">https://wandb.ai/ayoungren-colostate/NBSE2025_GridSearch_3/runs/5tga34q0</a>"
      ],
      "text/plain": [
       "<IPython.core.display.HTML object>"
      ]
     },
     "metadata": {},
     "output_type": "display_data"
    },
    {
     "name": "stderr",
     "output_type": "stream",
     "text": [
      "c:\\Users\\ayoun\\Miniconda3\\envs\\nbse2025\\lib\\site-packages\\torch\\_utils.py:776: UserWarning: TypedStorage is deprecated. It will be removed in the future and UntypedStorage will be the only storage class. This should only matter to you if you are using storages directly.  To access UntypedStorage directly, use tensor.untyped_storage() instead of tensor.storage()\n",
      "  return self.fget.__get__(instance, owner)()\n",
      "Some weights of RobertaForSequenceClassification were not initialized from the model checkpoint at microsoft/codebert-base and are newly initialized: ['classifier.dense.bias', 'classifier.dense.weight', 'classifier.out_proj.bias', 'classifier.out_proj.weight']\n",
      "You should probably TRAIN this model on a down-stream task to be able to use it for predictions and inference.\n",
      "Map: 100%|██████████| 1884/1884 [00:00<00:00, 14717.38 examples/s]\n",
      " 20%|██        | 189/945 [00:13<00:52, 14.52it/s]\n",
      " 20%|██        | 189/945 [00:14<00:52, 14.52it/s]"
     ]
    },
    {
     "name": "stdout",
     "output_type": "stream",
     "text": [
      "\n",
      " ** Evaluating metrics for python test set. ** \n",
      "\n",
      "{'eval_loss': 0.336627721786499, 'eval_f1': 0.4138625470390177, 'eval_precision': 0.5646315789473684, 'eval_recall': 0.3380812213937992, 'eval_runtime': 0.9391, 'eval_samples_per_second': 401.468, 'eval_steps_per_second': 51.115, 'epoch': 1.0}\n"
     ]
    },
    {
     "name": "stderr",
     "output_type": "stream",
     "text": [
      " 40%|███▉      | 377/945 [00:30<00:40, 13.95it/s]\n",
      " 40%|████      | 378/945 [00:31<00:40, 13.95it/s]"
     ]
    },
    {
     "name": "stdout",
     "output_type": "stream",
     "text": [
      "\n",
      " ** Evaluating metrics for python test set. ** \n",
      "\n",
      "{'eval_loss': 0.3423939645290375, 'eval_f1': 0.5389728817653051, 'eval_precision': 0.6113871930538597, 'eval_recall': 0.5080514728201393, 'eval_runtime': 0.9475, 'eval_samples_per_second': 397.894, 'eval_steps_per_second': 50.66, 'epoch': 2.0}\n"
     ]
    },
    {
     "name": "stderr",
     "output_type": "stream",
     "text": [
      " 60%|██████    | 567/945 [00:46<00:27, 13.64it/s]\n",
      " 60%|██████    | 567/945 [00:47<00:27, 13.64it/s]"
     ]
    },
    {
     "name": "stdout",
     "output_type": "stream",
     "text": [
      "\n",
      " ** Evaluating metrics for python test set. ** \n",
      "\n",
      "{'eval_loss': 0.2830806076526642, 'eval_f1': 0.5901947965055152, 'eval_precision': 0.662228604999268, 'eval_recall': 0.5474470383155207, 'eval_runtime': 1.0265, 'eval_samples_per_second': 367.282, 'eval_steps_per_second': 46.763, 'epoch': 3.0}\n"
     ]
    },
    {
     "name": "stderr",
     "output_type": "stream",
     "text": [
      " 80%|███████▉  | 755/945 [01:05<00:13, 13.92it/s]\n",
      " 80%|████████  | 756/945 [01:06<00:13, 13.92it/s]"
     ]
    },
    {
     "name": "stdout",
     "output_type": "stream",
     "text": [
      "\n",
      " ** Evaluating metrics for python test set. ** \n",
      "\n",
      "{'eval_loss': 0.2725023329257965, 'eval_f1': 0.7193657729976148, 'eval_precision': 0.7992387087687133, 'eval_recall': 0.6633549959344535, 'eval_runtime': 0.951, 'eval_samples_per_second': 396.434, 'eval_steps_per_second': 50.474, 'epoch': 4.0}\n"
     ]
    },
    {
     "name": "stderr",
     "output_type": "stream",
     "text": [
      "100%|██████████| 945/945 [01:22<00:00, 14.45it/s]\n",
      "100%|██████████| 945/945 [01:25<00:00, 14.45it/s]"
     ]
    },
    {
     "name": "stdout",
     "output_type": "stream",
     "text": [
      "\n",
      " ** Evaluating metrics for python test set. ** \n",
      "\n",
      "{'eval_loss': 0.2746121883392334, 'eval_f1': 0.7404721244540559, 'eval_precision': 0.7977589343280833, 'eval_recall': 0.6931875356130865, 'eval_runtime': 0.9575, 'eval_samples_per_second': 393.75, 'eval_steps_per_second': 50.133, 'epoch': 5.0}\n"
     ]
    },
    {
     "name": "stderr",
     "output_type": "stream",
     "text": [
      "100%|██████████| 945/945 [01:27<00:00, 10.84it/s]\n"
     ]
    },
    {
     "name": "stdout",
     "output_type": "stream",
     "text": [
      "{'train_runtime': 87.1492, 'train_samples_per_second': 86.461, 'train_steps_per_second': 10.843, 'train_loss': 0.245153566390749, 'epoch': 5.0}\n"
     ]
    },
    {
     "name": "stderr",
     "output_type": "stream",
     "text": [
      "100%|██████████| 48/48 [00:01<00:00, 43.91it/s]\n"
     ]
    },
    {
     "name": "stdout",
     "output_type": "stream",
     "text": [
      "\n",
      " ** Evaluating metrics for python test set. ** \n",
      "\n",
      "Evaluation Metrics: {'eval_loss': 0.2746121883392334, 'eval_f1': 0.7404721244540559, 'eval_precision': 0.7977589343280833, 'eval_recall': 0.6931875356130865, 'eval_runtime': 1.1447, 'eval_samples_per_second': 329.337, 'eval_steps_per_second': 41.931, 'epoch': 5.0}\n"
     ]
    },
    {
     "data": {
      "text/html": [
       "Finishing last run (ID:5tga34q0) before initializing another..."
      ],
      "text/plain": [
       "<IPython.core.display.HTML object>"
      ]
     },
     "metadata": {},
     "output_type": "display_data"
    },
    {
     "data": {
      "text/html": [
       "\n",
       "    <style>\n",
       "        .wandb-row {\n",
       "            display: flex;\n",
       "            flex-direction: row;\n",
       "            flex-wrap: wrap;\n",
       "            justify-content: flex-start;\n",
       "            width: 100%;\n",
       "        }\n",
       "        .wandb-col {\n",
       "            display: flex;\n",
       "            flex-direction: column;\n",
       "            flex-basis: 100%;\n",
       "            flex: 1;\n",
       "            padding: 10px;\n",
       "        }\n",
       "    </style>\n",
       "<div class=\"wandb-row\"><div class=\"wandb-col\"><h3>Run history:</h3><br/><table class=\"wandb\"><tr><td>eval/f1</td><td>▁▄▅███</td></tr><tr><td>eval/loss</td><td>▇█▂▁▁▁</td></tr><tr><td>eval/precision</td><td>▁▂▄███</td></tr><tr><td>eval/recall</td><td>▁▄▅▇██</td></tr><tr><td>eval/runtime</td><td>▁▁▄▁▂█</td></tr><tr><td>eval/samples_per_second</td><td>██▅█▇▁</td></tr><tr><td>eval/steps_per_second</td><td>██▅█▇▁</td></tr><tr><td>train/epoch</td><td>▁▃▅▆███</td></tr><tr><td>train/global_step</td><td>▁▃▅▆███</td></tr></table><br/></div><div class=\"wandb-col\"><h3>Run summary:</h3><br/><table class=\"wandb\"><tr><td>eval/f1</td><td>0.74047</td></tr><tr><td>eval/loss</td><td>0.27461</td></tr><tr><td>eval/precision</td><td>0.79776</td></tr><tr><td>eval/recall</td><td>0.69319</td></tr><tr><td>eval/runtime</td><td>1.1447</td></tr><tr><td>eval/samples_per_second</td><td>329.337</td></tr><tr><td>eval/steps_per_second</td><td>41.931</td></tr><tr><td>total_flos</td><td>495648800866560.0</td></tr><tr><td>train/epoch</td><td>5</td></tr><tr><td>train/global_step</td><td>945</td></tr><tr><td>train_loss</td><td>0.24515</td></tr><tr><td>train_runtime</td><td>87.1492</td></tr><tr><td>train_samples_per_second</td><td>86.461</td></tr><tr><td>train_steps_per_second</td><td>10.843</td></tr></table><br/></div></div>"
      ],
      "text/plain": [
       "<IPython.core.display.HTML object>"
      ]
     },
     "metadata": {},
     "output_type": "display_data"
    },
    {
     "data": {
      "text/html": [
       " View run <strong style=\"color:#cdcd00\">python_epoch-5_batchSize-8_weightsOfDecay-0.01</strong> at: <a href='https://wandb.ai/ayoungren-colostate/NBSE2025_GridSearch_3/runs/5tga34q0' target=\"_blank\">https://wandb.ai/ayoungren-colostate/NBSE2025_GridSearch_3/runs/5tga34q0</a><br/> View project at: <a href='https://wandb.ai/ayoungren-colostate/NBSE2025_GridSearch_3' target=\"_blank\">https://wandb.ai/ayoungren-colostate/NBSE2025_GridSearch_3</a><br/>Synced 5 W&B file(s), 0 media file(s), 2 artifact file(s) and 0 other file(s)"
      ],
      "text/plain": [
       "<IPython.core.display.HTML object>"
      ]
     },
     "metadata": {},
     "output_type": "display_data"
    },
    {
     "data": {
      "text/html": [
       "Find logs at: <code>.\\wandb\\run-20241207_020936-5tga34q0\\logs</code>"
      ],
      "text/plain": [
       "<IPython.core.display.HTML object>"
      ]
     },
     "metadata": {},
     "output_type": "display_data"
    },
    {
     "data": {
      "text/html": [
       "Successfully finished last run (ID:5tga34q0). Initializing new run:<br/>"
      ],
      "text/plain": [
       "<IPython.core.display.HTML object>"
      ]
     },
     "metadata": {},
     "output_type": "display_data"
    },
    {
     "data": {
      "text/html": [
       "Tracking run with wandb version 0.18.7"
      ],
      "text/plain": [
       "<IPython.core.display.HTML object>"
      ]
     },
     "metadata": {},
     "output_type": "display_data"
    },
    {
     "data": {
      "text/html": [
       "Run data is saved locally in <code>c:\\Development\\TactitalTensorsFinalProject\\wandb\\run-20241207_022413-boqk3h3a</code>"
      ],
      "text/plain": [
       "<IPython.core.display.HTML object>"
      ]
     },
     "metadata": {},
     "output_type": "display_data"
    },
    {
     "data": {
      "text/html": [
       "Syncing run <strong><a href='https://wandb.ai/ayoungren-colostate/NBSE2025_GridSearch_3/runs/boqk3h3a' target=\"_blank\">pharo_epoch-5_batchSize-8_weightsOfDecay-0.01</a></strong> to <a href='https://wandb.ai/ayoungren-colostate/NBSE2025_GridSearch_3' target=\"_blank\">Weights & Biases</a> (<a href='https://wandb.me/developer-guide' target=\"_blank\">docs</a>)<br/>"
      ],
      "text/plain": [
       "<IPython.core.display.HTML object>"
      ]
     },
     "metadata": {},
     "output_type": "display_data"
    },
    {
     "data": {
      "text/html": [
       " View project at <a href='https://wandb.ai/ayoungren-colostate/NBSE2025_GridSearch_3' target=\"_blank\">https://wandb.ai/ayoungren-colostate/NBSE2025_GridSearch_3</a>"
      ],
      "text/plain": [
       "<IPython.core.display.HTML object>"
      ]
     },
     "metadata": {},
     "output_type": "display_data"
    },
    {
     "data": {
      "text/html": [
       " View run at <a href='https://wandb.ai/ayoungren-colostate/NBSE2025_GridSearch_3/runs/boqk3h3a' target=\"_blank\">https://wandb.ai/ayoungren-colostate/NBSE2025_GridSearch_3/runs/boqk3h3a</a>"
      ],
      "text/plain": [
       "<IPython.core.display.HTML object>"
      ]
     },
     "metadata": {},
     "output_type": "display_data"
    },
    {
     "name": "stderr",
     "output_type": "stream",
     "text": [
      "c:\\Users\\ayoun\\Miniconda3\\envs\\nbse2025\\lib\\site-packages\\torch\\_utils.py:776: UserWarning: TypedStorage is deprecated. It will be removed in the future and UntypedStorage will be the only storage class. This should only matter to you if you are using storages directly.  To access UntypedStorage directly, use tensor.untyped_storage() instead of tensor.storage()\n",
      "  return self.fget.__get__(instance, owner)()\n",
      "Some weights of RobertaForSequenceClassification were not initialized from the model checkpoint at microsoft/codebert-base and are newly initialized: ['classifier.dense.bias', 'classifier.dense.weight', 'classifier.out_proj.bias', 'classifier.out_proj.weight']\n",
      "You should probably TRAIN this model on a down-stream task to be able to use it for predictions and inference.\n",
      "Map: 100%|██████████| 1298/1298 [00:00<00:00, 12420.48 examples/s]\n",
      " 20%|█▉        | 129/650 [00:09<00:37, 13.76it/s]\n",
      " 20%|██        | 130/650 [00:10<00:37, 13.76it/s]"
     ]
    },
    {
     "name": "stdout",
     "output_type": "stream",
     "text": [
      "\n",
      " ** Evaluating metrics for pharo test set. ** \n",
      "\n",
      "{'eval_loss': 0.3101281523704529, 'eval_f1': 0.13944590852541036, 'eval_precision': 0.2097222222222222, 'eval_recall': 0.11753889674681753, 'eval_runtime': 0.6633, 'eval_samples_per_second': 392.002, 'eval_steps_per_second': 49.754, 'epoch': 1.0}\n"
     ]
    },
    {
     "name": "stderr",
     "output_type": "stream",
     "text": [
      " 40%|███▉      | 259/650 [00:21<00:27, 13.99it/s]\n",
      " 40%|████      | 260/650 [00:22<00:27, 13.99it/s]"
     ]
    },
    {
     "name": "stdout",
     "output_type": "stream",
     "text": [
      "\n",
      " ** Evaluating metrics for pharo test set. ** \n",
      "\n",
      "{'eval_loss': 0.2588973045349121, 'eval_f1': 0.32031767252355486, 'eval_precision': 0.4774477232753567, 'eval_recall': 0.2545936887721727, 'eval_runtime': 0.6452, 'eval_samples_per_second': 402.971, 'eval_steps_per_second': 51.146, 'epoch': 2.0}\n"
     ]
    },
    {
     "name": "stderr",
     "output_type": "stream",
     "text": [
      " 60%|█████▉    | 389/650 [00:33<00:19, 13.09it/s]\n",
      " 60%|██████    | 390/650 [00:34<00:19, 13.09it/s]"
     ]
    },
    {
     "name": "stdout",
     "output_type": "stream",
     "text": [
      "\n",
      " ** Evaluating metrics for pharo test set. ** \n",
      "\n",
      "{'eval_loss': 0.2509313225746155, 'eval_f1': 0.49315523796572475, 'eval_precision': 0.5811926296071441, 'eval_recall': 0.44304135100760117, 'eval_runtime': 0.7183, 'eval_samples_per_second': 361.973, 'eval_steps_per_second': 45.943, 'epoch': 3.0}\n"
     ]
    },
    {
     "name": "stderr",
     "output_type": "stream",
     "text": [
      " 80%|████████  | 520/650 [00:45<00:09, 14.06it/s]\n",
      " 80%|████████  | 520/650 [00:46<00:09, 14.06it/s]"
     ]
    },
    {
     "name": "stdout",
     "output_type": "stream",
     "text": [
      "\n",
      " ** Evaluating metrics for pharo test set. ** \n",
      "\n",
      "{'eval_loss': 0.2351602464914322, 'eval_f1': 0.523201398348527, 'eval_precision': 0.5768249473405219, 'eval_recall': 0.4829552167457073, 'eval_runtime': 0.658, 'eval_samples_per_second': 395.107, 'eval_steps_per_second': 50.148, 'epoch': 4.0}\n"
     ]
    },
    {
     "name": "stderr",
     "output_type": "stream",
     "text": [
      "100%|██████████| 650/650 [00:57<00:00, 13.65it/s]\n",
      "100%|██████████| 650/650 [01:00<00:00, 13.65it/s]"
     ]
    },
    {
     "name": "stdout",
     "output_type": "stream",
     "text": [
      "\n",
      " ** Evaluating metrics for pharo test set. ** \n",
      "\n",
      "{'eval_loss': 0.23413816094398499, 'eval_f1': 0.5243569712509989, 'eval_precision': 0.5810479175996417, 'eval_recall': 0.48159355776060275, 'eval_runtime': 0.7218, 'eval_samples_per_second': 360.19, 'eval_steps_per_second': 45.716, 'epoch': 5.0}\n"
     ]
    },
    {
     "name": "stderr",
     "output_type": "stream",
     "text": [
      "100%|██████████| 650/650 [01:02<00:00, 10.45it/s]\n"
     ]
    },
    {
     "name": "stdout",
     "output_type": "stream",
     "text": [
      "{'train_runtime': 62.2163, 'train_samples_per_second': 83.419, 'train_steps_per_second': 10.447, 'train_loss': 0.21150705190805288, 'epoch': 5.0}\n"
     ]
    },
    {
     "name": "stderr",
     "output_type": "stream",
     "text": [
      "100%|██████████| 33/33 [00:00<00:00, 43.51it/s]\n"
     ]
    },
    {
     "name": "stdout",
     "output_type": "stream",
     "text": [
      "\n",
      " ** Evaluating metrics for pharo test set. ** \n",
      "\n",
      "Evaluation Metrics: {'eval_loss': 0.23413816094398499, 'eval_f1': 0.5243569712509989, 'eval_precision': 0.5810479175996417, 'eval_recall': 0.48159355776060275, 'eval_runtime': 0.8112, 'eval_samples_per_second': 320.529, 'eval_steps_per_second': 40.683, 'epoch': 5.0}\n",
      "    comparison                                    model     lan  \\\n",
      "0   validation  epoch-5_batchSize-8_weightsOfDecay-0.01    java   \n",
      "1   validation  epoch-5_batchSize-8_weightsOfDecay-0.01    java   \n",
      "2   validation  epoch-5_batchSize-8_weightsOfDecay-0.01    java   \n",
      "3   validation  epoch-5_batchSize-8_weightsOfDecay-0.01    java   \n",
      "4   validation  epoch-5_batchSize-8_weightsOfDecay-0.01    java   \n",
      "5   validation  epoch-5_batchSize-8_weightsOfDecay-0.01    java   \n",
      "6   validation  epoch-5_batchSize-8_weightsOfDecay-0.01    java   \n",
      "7   validation  epoch-5_batchSize-8_weightsOfDecay-0.01  python   \n",
      "8   validation  epoch-5_batchSize-8_weightsOfDecay-0.01  python   \n",
      "9   validation  epoch-5_batchSize-8_weightsOfDecay-0.01  python   \n",
      "10  validation  epoch-5_batchSize-8_weightsOfDecay-0.01  python   \n",
      "11  validation  epoch-5_batchSize-8_weightsOfDecay-0.01  python   \n",
      "12  validation  epoch-5_batchSize-8_weightsOfDecay-0.01   pharo   \n",
      "13  validation  epoch-5_batchSize-8_weightsOfDecay-0.01   pharo   \n",
      "14  validation  epoch-5_batchSize-8_weightsOfDecay-0.01   pharo   \n",
      "15  validation  epoch-5_batchSize-8_weightsOfDecay-0.01   pharo   \n",
      "16  validation  epoch-5_batchSize-8_weightsOfDecay-0.01   pharo   \n",
      "17  validation  epoch-5_batchSize-8_weightsOfDecay-0.01   pharo   \n",
      "18  validation  epoch-5_batchSize-8_weightsOfDecay-0.01   pharo   \n",
      "\n",
      "                        cat  precision    recall        f1  \n",
      "0                   summary   0.944602  0.945946  0.945274  \n",
      "1                 Ownership   0.964912  1.000000  0.982143  \n",
      "2                    Expand   0.704762  0.725490  0.714976  \n",
      "3                     usage   0.971631  0.940503  0.955814  \n",
      "4                   Pointer   0.971910  0.915344  0.942779  \n",
      "5               deprecation   0.964286  0.900000  0.931034  \n",
      "6                  rational   0.707317  0.537037  0.610526  \n",
      "7                     Usage   0.936170  0.727273  0.818605  \n",
      "8                Parameters   0.863636  0.848214  0.855856  \n",
      "9          DevelopmentNotes   0.666667  0.600000  0.631579  \n",
      "10                   Expand   0.678571  0.550725  0.608000  \n",
      "11                  Summary   0.843750  0.739726  0.788321  \n",
      "12  Keyimplementationpoints   0.900000  0.642857  0.750000  \n",
      "13                  Example   0.931818  0.811881  0.867725  \n",
      "14         Responsibilities   0.650000  0.520000  0.577778  \n",
      "15          Classreferences   0.000000  0.000000  0.000000  \n",
      "16                   Intent   0.965517  0.736842  0.835821  \n",
      "17              Keymessages   0.620000  0.659574  0.639175  \n",
      "18            Collaborators   0.000000  0.000000  0.000000  \n",
      "------------------ Starting model ==> epochs: 10, batch size: 4, weights of decay: 0.01 ---------------------\n"
     ]
    },
    {
     "data": {
      "text/html": [
       "Finishing last run (ID:boqk3h3a) before initializing another..."
      ],
      "text/plain": [
       "<IPython.core.display.HTML object>"
      ]
     },
     "metadata": {},
     "output_type": "display_data"
    },
    {
     "data": {
      "text/html": [
       "\n",
       "    <style>\n",
       "        .wandb-row {\n",
       "            display: flex;\n",
       "            flex-direction: row;\n",
       "            flex-wrap: wrap;\n",
       "            justify-content: flex-start;\n",
       "            width: 100%;\n",
       "        }\n",
       "        .wandb-col {\n",
       "            display: flex;\n",
       "            flex-direction: column;\n",
       "            flex-basis: 100%;\n",
       "            flex: 1;\n",
       "            padding: 10px;\n",
       "        }\n",
       "    </style>\n",
       "<div class=\"wandb-row\"><div class=\"wandb-col\"><h3>Run history:</h3><br/><table class=\"wandb\"><tr><td>eval/f1</td><td>▁▄▇███</td></tr><tr><td>eval/loss</td><td>█▃▃▁▁▁</td></tr><tr><td>eval/precision</td><td>▁▆████</td></tr><tr><td>eval/recall</td><td>▁▄▇███</td></tr><tr><td>eval/runtime</td><td>▂▁▄▂▄█</td></tr><tr><td>eval/samples_per_second</td><td>▇█▅▇▄▁</td></tr><tr><td>eval/steps_per_second</td><td>▇█▅▇▄▁</td></tr><tr><td>train/epoch</td><td>▁▃▅▆███</td></tr><tr><td>train/global_step</td><td>▁▃▅▆███</td></tr></table><br/></div><div class=\"wandb-col\"><h3>Run summary:</h3><br/><table class=\"wandb\"><tr><td>eval/f1</td><td>0.52436</td></tr><tr><td>eval/loss</td><td>0.23414</td></tr><tr><td>eval/precision</td><td>0.58105</td></tr><tr><td>eval/recall</td><td>0.48159</td></tr><tr><td>eval/runtime</td><td>0.8112</td></tr><tr><td>eval/samples_per_second</td><td>320.529</td></tr><tr><td>eval/steps_per_second</td><td>40.683</td></tr><tr><td>total_flos</td><td>341401920192000.0</td></tr><tr><td>train/epoch</td><td>5</td></tr><tr><td>train/global_step</td><td>650</td></tr><tr><td>train_loss</td><td>0.21151</td></tr><tr><td>train_runtime</td><td>62.2163</td></tr><tr><td>train_samples_per_second</td><td>83.419</td></tr><tr><td>train_steps_per_second</td><td>10.447</td></tr></table><br/></div></div>"
      ],
      "text/plain": [
       "<IPython.core.display.HTML object>"
      ]
     },
     "metadata": {},
     "output_type": "display_data"
    },
    {
     "data": {
      "text/html": [
       " View run <strong style=\"color:#cdcd00\">pharo_epoch-5_batchSize-8_weightsOfDecay-0.01</strong> at: <a href='https://wandb.ai/ayoungren-colostate/NBSE2025_GridSearch_3/runs/boqk3h3a' target=\"_blank\">https://wandb.ai/ayoungren-colostate/NBSE2025_GridSearch_3/runs/boqk3h3a</a><br/> View project at: <a href='https://wandb.ai/ayoungren-colostate/NBSE2025_GridSearch_3' target=\"_blank\">https://wandb.ai/ayoungren-colostate/NBSE2025_GridSearch_3</a><br/>Synced 5 W&B file(s), 0 media file(s), 2 artifact file(s) and 0 other file(s)"
      ],
      "text/plain": [
       "<IPython.core.display.HTML object>"
      ]
     },
     "metadata": {},
     "output_type": "display_data"
    },
    {
     "data": {
      "text/html": [
       "Find logs at: <code>.\\wandb\\run-20241207_022413-boqk3h3a\\logs</code>"
      ],
      "text/plain": [
       "<IPython.core.display.HTML object>"
      ]
     },
     "metadata": {},
     "output_type": "display_data"
    },
    {
     "data": {
      "text/html": [
       "Successfully finished last run (ID:boqk3h3a). Initializing new run:<br/>"
      ],
      "text/plain": [
       "<IPython.core.display.HTML object>"
      ]
     },
     "metadata": {},
     "output_type": "display_data"
    },
    {
     "data": {
      "text/html": [
       "Tracking run with wandb version 0.18.7"
      ],
      "text/plain": [
       "<IPython.core.display.HTML object>"
      ]
     },
     "metadata": {},
     "output_type": "display_data"
    },
    {
     "data": {
      "text/html": [
       "Run data is saved locally in <code>c:\\Development\\TactitalTensorsFinalProject\\wandb\\run-20241207_023431-y602zwa1</code>"
      ],
      "text/plain": [
       "<IPython.core.display.HTML object>"
      ]
     },
     "metadata": {},
     "output_type": "display_data"
    },
    {
     "data": {
      "text/html": [
       "Syncing run <strong><a href='https://wandb.ai/ayoungren-colostate/NBSE2025_GridSearch_3/runs/y602zwa1' target=\"_blank\">java_epoch-10_batchSize-4_weightsOfDecay-0.01</a></strong> to <a href='https://wandb.ai/ayoungren-colostate/NBSE2025_GridSearch_3' target=\"_blank\">Weights & Biases</a> (<a href='https://wandb.me/developer-guide' target=\"_blank\">docs</a>)<br/>"
      ],
      "text/plain": [
       "<IPython.core.display.HTML object>"
      ]
     },
     "metadata": {},
     "output_type": "display_data"
    },
    {
     "data": {
      "text/html": [
       " View project at <a href='https://wandb.ai/ayoungren-colostate/NBSE2025_GridSearch_3' target=\"_blank\">https://wandb.ai/ayoungren-colostate/NBSE2025_GridSearch_3</a>"
      ],
      "text/plain": [
       "<IPython.core.display.HTML object>"
      ]
     },
     "metadata": {},
     "output_type": "display_data"
    },
    {
     "data": {
      "text/html": [
       " View run at <a href='https://wandb.ai/ayoungren-colostate/NBSE2025_GridSearch_3/runs/y602zwa1' target=\"_blank\">https://wandb.ai/ayoungren-colostate/NBSE2025_GridSearch_3/runs/y602zwa1</a>"
      ],
      "text/plain": [
       "<IPython.core.display.HTML object>"
      ]
     },
     "metadata": {},
     "output_type": "display_data"
    },
    {
     "name": "stderr",
     "output_type": "stream",
     "text": [
      "c:\\Users\\ayoun\\Miniconda3\\envs\\nbse2025\\lib\\site-packages\\torch\\_utils.py:776: UserWarning: TypedStorage is deprecated. It will be removed in the future and UntypedStorage will be the only storage class. This should only matter to you if you are using storages directly.  To access UntypedStorage directly, use tensor.untyped_storage() instead of tensor.storage()\n",
      "  return self.fget.__get__(instance, owner)()\n",
      "Some weights of RobertaForSequenceClassification were not initialized from the model checkpoint at microsoft/codebert-base and are newly initialized: ['classifier.dense.bias', 'classifier.dense.weight', 'classifier.out_proj.bias', 'classifier.out_proj.weight']\n",
      "You should probably TRAIN this model on a down-stream task to be able to use it for predictions and inference.\n",
      "Map: 100%|██████████| 7614/7614 [00:00<00:00, 18504.42 examples/s]\n",
      "  7%|▋         | 1003/15230 [01:02<14:34, 16.27it/s]"
     ]
    },
    {
     "name": "stdout",
     "output_type": "stream",
     "text": [
      "{'loss': 0.1597, 'grad_norm': 0.2742033898830414, 'learning_rate': 4.6717005909389365e-05, 'epoch': 0.66}\n"
     ]
    },
    {
     "name": "stderr",
     "output_type": "stream",
     "text": [
      " 10%|█         | 1523/15230 [01:35<13:54, 16.43it/s]\n",
      " 10%|█         | 1523/15230 [01:41<13:54, 16.43it/s]"
     ]
    },
    {
     "name": "stdout",
     "output_type": "stream",
     "text": [
      "\n",
      " ** Evaluating metrics for java test set. ** \n",
      "\n",
      "{'eval_loss': 0.11007532477378845, 'eval_f1': 0.5902030753461814, 'eval_precision': 0.6884361645520868, 'eval_recall': 0.5609637517777433, 'eval_runtime': 5.808, 'eval_samples_per_second': 262.222, 'eval_steps_per_second': 65.599, 'epoch': 1.0}\n"
     ]
    },
    {
     "name": "stderr",
     "output_type": "stream",
     "text": [
      " 13%|█▎        | 2003/15230 [02:13<14:02, 15.71it/s]  "
     ]
    },
    {
     "name": "stdout",
     "output_type": "stream",
     "text": [
      "{'loss': 0.1072, 'grad_norm': 2.4805963039398193, 'learning_rate': 4.343401181877873e-05, 'epoch': 1.31}\n"
     ]
    },
    {
     "name": "stderr",
     "output_type": "stream",
     "text": [
      " 20%|█▉        | 3003/15230 [03:16<14:02, 14.51it/s]"
     ]
    },
    {
     "name": "stdout",
     "output_type": "stream",
     "text": [
      "{'loss': 0.0958, 'grad_norm': 0.9716637134552002, 'learning_rate': 4.015101772816809e-05, 'epoch': 1.97}\n"
     ]
    },
    {
     "name": "stderr",
     "output_type": "stream",
     "text": [
      " 20%|█▉        | 3045/15230 [03:19<12:19, 16.48it/s]\n",
      " 20%|██        | 3046/15230 [03:25<12:19, 16.48it/s]"
     ]
    },
    {
     "name": "stdout",
     "output_type": "stream",
     "text": [
      "\n",
      " ** Evaluating metrics for java test set. ** \n",
      "\n",
      "{'eval_loss': 0.09138189256191254, 'eval_f1': 0.7760446765846533, 'eval_precision': 0.845572110141781, 'eval_recall': 0.7414169026576003, 'eval_runtime': 6.1284, 'eval_samples_per_second': 248.515, 'eval_steps_per_second': 62.17, 'epoch': 2.0}\n"
     ]
    },
    {
     "name": "stderr",
     "output_type": "stream",
     "text": [
      " 26%|██▋       | 4003/15230 [04:26<12:00, 15.58it/s]  "
     ]
    },
    {
     "name": "stdout",
     "output_type": "stream",
     "text": [
      "{'loss': 0.0716, 'grad_norm': 0.0505782812833786, 'learning_rate': 3.6868023637557454e-05, 'epoch': 2.63}\n"
     ]
    },
    {
     "name": "stderr",
     "output_type": "stream",
     "text": [
      " 30%|███       | 4569/15230 [05:02<12:00, 14.80it/s]\n",
      " 30%|███       | 4569/15230 [05:09<12:00, 14.80it/s]"
     ]
    },
    {
     "name": "stdout",
     "output_type": "stream",
     "text": [
      "\n",
      " ** Evaluating metrics for java test set. ** \n",
      "\n",
      "{'eval_loss': 0.08530933409929276, 'eval_f1': 0.843537102775221, 'eval_precision': 0.8907991784724242, 'eval_recall': 0.8095283586409099, 'eval_runtime': 7.1172, 'eval_samples_per_second': 213.987, 'eval_steps_per_second': 53.532, 'epoch': 3.0}\n"
     ]
    },
    {
     "name": "stderr",
     "output_type": "stream",
     "text": [
      " 33%|███▎      | 5003/15230 [05:38<10:33, 16.13it/s]  "
     ]
    },
    {
     "name": "stdout",
     "output_type": "stream",
     "text": [
      "{'loss': 0.0599, 'grad_norm': 0.38465386629104614, 'learning_rate': 3.3585029546946817e-05, 'epoch': 3.28}\n"
     ]
    },
    {
     "name": "stderr",
     "output_type": "stream",
     "text": [
      " 39%|███▉      | 6003/15230 [06:41<09:30, 16.17it/s]"
     ]
    },
    {
     "name": "stdout",
     "output_type": "stream",
     "text": [
      "{'loss': 0.0484, 'grad_norm': 7.433000564575195, 'learning_rate': 3.030203545633618e-05, 'epoch': 3.94}\n"
     ]
    },
    {
     "name": "stderr",
     "output_type": "stream",
     "text": [
      " 40%|███▉      | 6091/15230 [06:47<09:10, 16.60it/s]\n",
      " 40%|████      | 6092/15230 [06:53<09:10, 16.60it/s]"
     ]
    },
    {
     "name": "stdout",
     "output_type": "stream",
     "text": [
      "\n",
      " ** Evaluating metrics for java test set. ** \n",
      "\n",
      "{'eval_loss': 0.10216836631298065, 'eval_f1': 0.8551550068428547, 'eval_precision': 0.8908242771699035, 'eval_recall': 0.8277622476207174, 'eval_runtime': 5.8198, 'eval_samples_per_second': 261.693, 'eval_steps_per_second': 65.466, 'epoch': 4.0}\n"
     ]
    },
    {
     "name": "stderr",
     "output_type": "stream",
     "text": [
      " 46%|████▌     | 7003/15230 [07:52<09:11, 14.92it/s]  "
     ]
    },
    {
     "name": "stdout",
     "output_type": "stream",
     "text": [
      "{'loss': 0.0336, 'grad_norm': 0.006706401705741882, 'learning_rate': 2.7019041365725546e-05, 'epoch': 4.6}\n"
     ]
    },
    {
     "name": "stderr",
     "output_type": "stream",
     "text": [
      " 50%|█████     | 7615/15230 [08:30<07:51, 16.14it/s]\n",
      " 50%|█████     | 7615/15230 [08:36<07:51, 16.14it/s]"
     ]
    },
    {
     "name": "stdout",
     "output_type": "stream",
     "text": [
      "\n",
      " ** Evaluating metrics for java test set. ** \n",
      "\n",
      "{'eval_loss': 0.10847470164299011, 'eval_f1': 0.853809714455252, 'eval_precision': 0.8696048520026923, 'eval_recall': 0.8398567662302445, 'eval_runtime': 6.0865, 'eval_samples_per_second': 250.228, 'eval_steps_per_second': 62.598, 'epoch': 5.0}\n"
     ]
    },
    {
     "name": "stderr",
     "output_type": "stream",
     "text": [
      " 53%|█████▎    | 8003/15230 [09:02<07:36, 15.84it/s]  "
     ]
    },
    {
     "name": "stdout",
     "output_type": "stream",
     "text": [
      "{'loss': 0.032, 'grad_norm': 0.009480156004428864, 'learning_rate': 2.3736047275114905e-05, 'epoch': 5.25}\n"
     ]
    },
    {
     "name": "stderr",
     "output_type": "stream",
     "text": [
      " 59%|█████▉    | 9003/15230 [10:05<06:10, 16.83it/s]"
     ]
    },
    {
     "name": "stdout",
     "output_type": "stream",
     "text": [
      "{'loss': 0.0216, 'grad_norm': 7.809123992919922, 'learning_rate': 2.045305318450427e-05, 'epoch': 5.91}\n"
     ]
    },
    {
     "name": "stderr",
     "output_type": "stream",
     "text": [
      " 60%|█████▉    | 9137/15230 [10:14<06:46, 15.00it/s]\n",
      " 60%|██████    | 9138/15230 [10:21<06:46, 15.00it/s]"
     ]
    },
    {
     "name": "stdout",
     "output_type": "stream",
     "text": [
      "\n",
      " ** Evaluating metrics for java test set. ** \n",
      "\n",
      "{'eval_loss': 0.12644711136817932, 'eval_f1': 0.8387365796811126, 'eval_precision': 0.8550365913091653, 'eval_recall': 0.8268029686294016, 'eval_runtime': 6.7429, 'eval_samples_per_second': 225.866, 'eval_steps_per_second': 56.504, 'epoch': 6.0}\n"
     ]
    },
    {
     "name": "stderr",
     "output_type": "stream",
     "text": [
      " 66%|██████▌   | 10003/15230 [11:17<05:22, 16.22it/s] "
     ]
    },
    {
     "name": "stdout",
     "output_type": "stream",
     "text": [
      "{'loss': 0.0171, 'grad_norm': 0.020755643025040627, 'learning_rate': 1.717005909389363e-05, 'epoch': 6.57}\n"
     ]
    },
    {
     "name": "stderr",
     "output_type": "stream",
     "text": [
      " 70%|███████   | 10661/15230 [11:58<04:27, 17.10it/s]\n",
      " 70%|███████   | 10661/15230 [12:04<04:27, 17.10it/s]"
     ]
    },
    {
     "name": "stdout",
     "output_type": "stream",
     "text": [
      "\n",
      " ** Evaluating metrics for java test set. ** \n",
      "\n",
      "{'eval_loss': 0.12016332149505615, 'eval_f1': 0.8511363947106395, 'eval_precision': 0.8610251266045083, 'eval_recall': 0.8449218385548981, 'eval_runtime': 6.7962, 'eval_samples_per_second': 224.097, 'eval_steps_per_second': 56.061, 'epoch': 7.0}\n"
     ]
    },
    {
     "name": "stderr",
     "output_type": "stream",
     "text": [
      " 72%|███████▏  | 11003/15230 [12:27<04:34, 15.40it/s]  "
     ]
    },
    {
     "name": "stdout",
     "output_type": "stream",
     "text": [
      "{'loss': 0.0172, 'grad_norm': 0.04411223903298378, 'learning_rate': 1.3887065003282995e-05, 'epoch': 7.22}\n"
     ]
    },
    {
     "name": "stderr",
     "output_type": "stream",
     "text": [
      " 79%|███████▉  | 12003/15230 [13:30<03:25, 15.69it/s]"
     ]
    },
    {
     "name": "stdout",
     "output_type": "stream",
     "text": [
      "{'loss': 0.013, 'grad_norm': 0.004007680341601372, 'learning_rate': 1.0604070912672358e-05, 'epoch': 7.88}\n"
     ]
    },
    {
     "name": "stderr",
     "output_type": "stream",
     "text": [
      " 80%|███████▉  | 12183/15230 [13:41<03:10, 15.97it/s]\n",
      " 80%|████████  | 12184/15230 [13:46<03:10, 15.97it/s]"
     ]
    },
    {
     "name": "stdout",
     "output_type": "stream",
     "text": [
      "\n",
      " ** Evaluating metrics for java test set. ** \n",
      "\n",
      "{'eval_loss': 0.13028813898563385, 'eval_f1': 0.8506719455762797, 'eval_precision': 0.8677081412415405, 'eval_recall': 0.839180506418935, 'eval_runtime': 5.5534, 'eval_samples_per_second': 274.248, 'eval_steps_per_second': 68.607, 'epoch': 8.0}\n"
     ]
    },
    {
     "name": "stderr",
     "output_type": "stream",
     "text": [
      " 85%|████████▌ | 13003/15230 [14:39<02:18, 16.12it/s]"
     ]
    },
    {
     "name": "stdout",
     "output_type": "stream",
     "text": [
      "{'loss': 0.0053, 'grad_norm': 0.03511672466993332, 'learning_rate': 7.321076822061721e-06, 'epoch': 8.54}\n"
     ]
    },
    {
     "name": "stderr",
     "output_type": "stream",
     "text": [
      " 90%|█████████ | 13707/15230 [15:23<01:38, 15.46it/s]\n",
      " 90%|█████████ | 13707/15230 [15:30<01:38, 15.46it/s]"
     ]
    },
    {
     "name": "stdout",
     "output_type": "stream",
     "text": [
      "\n",
      " ** Evaluating metrics for java test set. ** \n",
      "\n",
      "{'eval_loss': 0.1259148120880127, 'eval_f1': 0.8660405527320924, 'eval_precision': 0.8720072148832249, 'eval_recall': 0.8627853205589106, 'eval_runtime': 6.2508, 'eval_samples_per_second': 243.65, 'eval_steps_per_second': 60.952, 'epoch': 9.0}\n"
     ]
    },
    {
     "name": "stderr",
     "output_type": "stream",
     "text": [
      " 92%|█████████▏| 14003/15230 [15:50<01:18, 15.72it/s]"
     ]
    },
    {
     "name": "stdout",
     "output_type": "stream",
     "text": [
      "{'loss': 0.0069, 'grad_norm': 0.013757200911641121, 'learning_rate': 4.038082731451084e-06, 'epoch': 9.19}\n"
     ]
    },
    {
     "name": "stderr",
     "output_type": "stream",
     "text": [
      " 99%|█████████▊| 15003/15230 [16:53<00:14, 15.37it/s]"
     ]
    },
    {
     "name": "stdout",
     "output_type": "stream",
     "text": [
      "{'loss': 0.0069, 'grad_norm': 0.001989788142964244, 'learning_rate': 7.550886408404465e-07, 'epoch': 9.85}\n"
     ]
    },
    {
     "name": "stderr",
     "output_type": "stream",
     "text": [
      "100%|█████████▉| 15229/15230 [17:07<00:00, 16.00it/s]\n",
      "100%|██████████| 15230/15230 [17:16<00:00, 16.00it/s]"
     ]
    },
    {
     "name": "stdout",
     "output_type": "stream",
     "text": [
      "\n",
      " ** Evaluating metrics for java test set. ** \n",
      "\n",
      "{'eval_loss': 0.12557508051395416, 'eval_f1': 0.8660274088205008, 'eval_precision': 0.8771314301053222, 'eval_recall': 0.8587786563557191, 'eval_runtime': 7.5793, 'eval_samples_per_second': 200.941, 'eval_steps_per_second': 50.268, 'epoch': 10.0}\n"
     ]
    },
    {
     "name": "stderr",
     "output_type": "stream",
     "text": [
      "100%|██████████| 15230/15230 [17:18<00:00, 14.66it/s]\n"
     ]
    },
    {
     "name": "stdout",
     "output_type": "stream",
     "text": [
      "{'train_runtime': 1038.6113, 'train_samples_per_second': 58.646, 'train_steps_per_second': 14.664, 'train_loss': 0.045770075837014465, 'epoch': 10.0}\n"
     ]
    },
    {
     "name": "stderr",
     "output_type": "stream",
     "text": [
      "100%|██████████| 381/381 [00:05<00:00, 65.21it/s]\n"
     ]
    },
    {
     "name": "stdout",
     "output_type": "stream",
     "text": [
      "\n",
      " ** Evaluating metrics for java test set. ** \n",
      "\n",
      "Evaluation Metrics: {'eval_loss': 0.1259148120880127, 'eval_f1': 0.8660405527320924, 'eval_precision': 0.8720072148832249, 'eval_recall': 0.8627853205589106, 'eval_runtime': 5.8756, 'eval_samples_per_second': 259.206, 'eval_steps_per_second': 64.844, 'epoch': 10.0}\n"
     ]
    },
    {
     "data": {
      "text/html": [
       "Finishing last run (ID:y602zwa1) before initializing another..."
      ],
      "text/plain": [
       "<IPython.core.display.HTML object>"
      ]
     },
     "metadata": {},
     "output_type": "display_data"
    },
    {
     "data": {
      "text/html": [
       "\n",
       "    <style>\n",
       "        .wandb-row {\n",
       "            display: flex;\n",
       "            flex-direction: row;\n",
       "            flex-wrap: wrap;\n",
       "            justify-content: flex-start;\n",
       "            width: 100%;\n",
       "        }\n",
       "        .wandb-col {\n",
       "            display: flex;\n",
       "            flex-direction: column;\n",
       "            flex-basis: 100%;\n",
       "            flex: 1;\n",
       "            padding: 10px;\n",
       "        }\n",
       "    </style>\n",
       "<div class=\"wandb-row\"><div class=\"wandb-col\"><h3>Run history:</h3><br/><table class=\"wandb\"><tr><td>eval/f1</td><td>▁▆▇██▇█████</td></tr><tr><td>eval/loss</td><td>▅▂▁▄▅▇▆█▇▇▇</td></tr><tr><td>eval/precision</td><td>▁▆██▇▇▇▇▇█▇</td></tr><tr><td>eval/recall</td><td>▁▅▇▇▇▇█▇███</td></tr><tr><td>eval/runtime</td><td>▂▃▆▂▃▅▅▁▃█▂</td></tr><tr><td>eval/samples_per_second</td><td>▇▆▂▇▆▃▃█▅▁▇</td></tr><tr><td>eval/steps_per_second</td><td>▇▆▂▇▆▃▃█▅▁▇</td></tr><tr><td>train/epoch</td><td>▁▁▁▂▂▂▃▃▃▄▄▄▄▅▅▅▆▆▆▇▇▇▇████</td></tr><tr><td>train/global_step</td><td>▁▁▁▂▂▂▃▃▃▄▄▄▄▅▅▅▆▆▆▇▇▇▇████</td></tr><tr><td>train/grad_norm</td><td>▁▃▂▁▁█▁▁█▁▁▁▁▁▁</td></tr><tr><td>train/learning_rate</td><td>█▇▇▆▆▅▅▄▄▄▃▂▂▂▁</td></tr><tr><td>train/loss</td><td>█▆▅▄▃▃▂▂▂▂▂▁▁▁▁</td></tr></table><br/></div><div class=\"wandb-col\"><h3>Run summary:</h3><br/><table class=\"wandb\"><tr><td>eval/f1</td><td>0.86604</td></tr><tr><td>eval/loss</td><td>0.12591</td></tr><tr><td>eval/precision</td><td>0.87201</td></tr><tr><td>eval/recall</td><td>0.86279</td></tr><tr><td>eval/runtime</td><td>5.8756</td></tr><tr><td>eval/samples_per_second</td><td>259.206</td></tr><tr><td>eval/steps_per_second</td><td>64.844</td></tr><tr><td>total_flos</td><td>4006703460288000.0</td></tr><tr><td>train/epoch</td><td>10</td></tr><tr><td>train/global_step</td><td>15230</td></tr><tr><td>train/grad_norm</td><td>0.00199</td></tr><tr><td>train/learning_rate</td><td>0.0</td></tr><tr><td>train/loss</td><td>0.0069</td></tr><tr><td>train_loss</td><td>0.04577</td></tr><tr><td>train_runtime</td><td>1038.6113</td></tr><tr><td>train_samples_per_second</td><td>58.646</td></tr><tr><td>train_steps_per_second</td><td>14.664</td></tr></table><br/></div></div>"
      ],
      "text/plain": [
       "<IPython.core.display.HTML object>"
      ]
     },
     "metadata": {},
     "output_type": "display_data"
    },
    {
     "data": {
      "text/html": [
       " View run <strong style=\"color:#cdcd00\">java_epoch-10_batchSize-4_weightsOfDecay-0.01</strong> at: <a href='https://wandb.ai/ayoungren-colostate/NBSE2025_GridSearch_3/runs/y602zwa1' target=\"_blank\">https://wandb.ai/ayoungren-colostate/NBSE2025_GridSearch_3/runs/y602zwa1</a><br/> View project at: <a href='https://wandb.ai/ayoungren-colostate/NBSE2025_GridSearch_3' target=\"_blank\">https://wandb.ai/ayoungren-colostate/NBSE2025_GridSearch_3</a><br/>Synced 5 W&B file(s), 0 media file(s), 0 artifact file(s) and 0 other file(s)"
      ],
      "text/plain": [
       "<IPython.core.display.HTML object>"
      ]
     },
     "metadata": {},
     "output_type": "display_data"
    },
    {
     "data": {
      "text/html": [
       "Find logs at: <code>.\\wandb\\run-20241207_023431-y602zwa1\\logs</code>"
      ],
      "text/plain": [
       "<IPython.core.display.HTML object>"
      ]
     },
     "metadata": {},
     "output_type": "display_data"
    },
    {
     "data": {
      "text/html": [
       "Successfully finished last run (ID:y602zwa1). Initializing new run:<br/>"
      ],
      "text/plain": [
       "<IPython.core.display.HTML object>"
      ]
     },
     "metadata": {},
     "output_type": "display_data"
    },
    {
     "data": {
      "text/html": [
       "Tracking run with wandb version 0.18.7"
      ],
      "text/plain": [
       "<IPython.core.display.HTML object>"
      ]
     },
     "metadata": {},
     "output_type": "display_data"
    },
    {
     "data": {
      "text/html": [
       "Run data is saved locally in <code>c:\\Development\\TactitalTensorsFinalProject\\wandb\\run-20241207_034606-k0blo4h7</code>"
      ],
      "text/plain": [
       "<IPython.core.display.HTML object>"
      ]
     },
     "metadata": {},
     "output_type": "display_data"
    },
    {
     "data": {
      "text/html": [
       "Syncing run <strong><a href='https://wandb.ai/ayoungren-colostate/NBSE2025_GridSearch_3/runs/k0blo4h7' target=\"_blank\">python_epoch-10_batchSize-4_weightsOfDecay-0.01</a></strong> to <a href='https://wandb.ai/ayoungren-colostate/NBSE2025_GridSearch_3' target=\"_blank\">Weights & Biases</a> (<a href='https://wandb.me/developer-guide' target=\"_blank\">docs</a>)<br/>"
      ],
      "text/plain": [
       "<IPython.core.display.HTML object>"
      ]
     },
     "metadata": {},
     "output_type": "display_data"
    },
    {
     "data": {
      "text/html": [
       " View project at <a href='https://wandb.ai/ayoungren-colostate/NBSE2025_GridSearch_3' target=\"_blank\">https://wandb.ai/ayoungren-colostate/NBSE2025_GridSearch_3</a>"
      ],
      "text/plain": [
       "<IPython.core.display.HTML object>"
      ]
     },
     "metadata": {},
     "output_type": "display_data"
    },
    {
     "data": {
      "text/html": [
       " View run at <a href='https://wandb.ai/ayoungren-colostate/NBSE2025_GridSearch_3/runs/k0blo4h7' target=\"_blank\">https://wandb.ai/ayoungren-colostate/NBSE2025_GridSearch_3/runs/k0blo4h7</a>"
      ],
      "text/plain": [
       "<IPython.core.display.HTML object>"
      ]
     },
     "metadata": {},
     "output_type": "display_data"
    },
    {
     "name": "stderr",
     "output_type": "stream",
     "text": [
      "c:\\Users\\ayoun\\Miniconda3\\envs\\nbse2025\\lib\\site-packages\\torch\\_utils.py:776: UserWarning: TypedStorage is deprecated. It will be removed in the future and UntypedStorage will be the only storage class. This should only matter to you if you are using storages directly.  To access UntypedStorage directly, use tensor.untyped_storage() instead of tensor.storage()\n",
      "  return self.fget.__get__(instance, owner)()\n",
      "Some weights of RobertaForSequenceClassification were not initialized from the model checkpoint at microsoft/codebert-base and are newly initialized: ['classifier.dense.bias', 'classifier.dense.weight', 'classifier.out_proj.bias', 'classifier.out_proj.weight']\n",
      "You should probably TRAIN this model on a down-stream task to be able to use it for predictions and inference.\n",
      "Map: 100%|██████████| 1884/1884 [00:00<00:00, 11533.37 examples/s]\n",
      " 10%|█         | 377/3770 [00:23<03:35, 15.74it/s]\n",
      " 10%|█         | 377/3770 [00:25<03:35, 15.74it/s]"
     ]
    },
    {
     "name": "stdout",
     "output_type": "stream",
     "text": [
      "\n",
      " ** Evaluating metrics for python test set. ** \n",
      "\n",
      "{'eval_loss': 0.35528668761253357, 'eval_f1': 0.33983840836913887, 'eval_precision': 0.5497777777777777, 'eval_recall': 0.2917577752260193, 'eval_runtime': 1.771, 'eval_samples_per_second': 212.872, 'eval_steps_per_second': 53.641, 'epoch': 1.0}\n"
     ]
    },
    {
     "name": "stderr",
     "output_type": "stream",
     "text": [
      " 20%|█▉        | 753/3770 [00:49<03:17, 15.30it/s]\n",
      " 20%|██        | 754/3770 [00:51<03:17, 15.30it/s]"
     ]
    },
    {
     "name": "stdout",
     "output_type": "stream",
     "text": [
      "\n",
      " ** Evaluating metrics for python test set. ** \n",
      "\n",
      "{'eval_loss': 0.30476072430610657, 'eval_f1': 0.5383386505967152, 'eval_precision': 0.6678908058698999, 'eval_recall': 0.48363171269324823, 'eval_runtime': 1.9322, 'eval_samples_per_second': 195.111, 'eval_steps_per_second': 49.166, 'epoch': 2.0}\n"
     ]
    },
    {
     "name": "stderr",
     "output_type": "stream",
     "text": [
      " 27%|██▋       | 1003/3770 [01:09<02:57, 15.59it/s]"
     ]
    },
    {
     "name": "stdout",
     "output_type": "stream",
     "text": [
      "{'loss': 0.3393, 'grad_norm': 55.69825744628906, 'learning_rate': 3.673740053050398e-05, 'epoch': 2.65}\n"
     ]
    },
    {
     "name": "stderr",
     "output_type": "stream",
     "text": [
      " 30%|███       | 1131/3770 [01:17<02:58, 14.81it/s]\n",
      " 30%|███       | 1131/3770 [01:19<02:58, 14.81it/s]"
     ]
    },
    {
     "name": "stdout",
     "output_type": "stream",
     "text": [
      "\n",
      " ** Evaluating metrics for python test set. ** \n",
      "\n",
      "{'eval_loss': 0.31309589743614197, 'eval_f1': 0.6334249017076683, 'eval_precision': 0.7929999999999999, 'eval_recall': 0.590716382945659, 'eval_runtime': 1.6138, 'eval_samples_per_second': 233.606, 'eval_steps_per_second': 58.866, 'epoch': 3.0}\n"
     ]
    },
    {
     "name": "stderr",
     "output_type": "stream",
     "text": [
      " 40%|███▉      | 1507/3770 [01:44<02:26, 15.47it/s]\n",
      " 40%|████      | 1508/3770 [01:46<02:26, 15.47it/s]"
     ]
    },
    {
     "name": "stdout",
     "output_type": "stream",
     "text": [
      "\n",
      " ** Evaluating metrics for python test set. ** \n",
      "\n",
      "{'eval_loss': 0.32463932037353516, 'eval_f1': 0.6978712601865676, 'eval_precision': 0.7540954556994162, 'eval_recall': 0.6575109520129554, 'eval_runtime': 1.8189, 'eval_samples_per_second': 207.272, 'eval_steps_per_second': 52.23, 'epoch': 4.0}\n"
     ]
    },
    {
     "name": "stderr",
     "output_type": "stream",
     "text": [
      " 50%|█████     | 1885/3770 [02:12<01:48, 17.37it/s]\n",
      " 50%|█████     | 1885/3770 [02:13<01:48, 17.37it/s]"
     ]
    },
    {
     "name": "stdout",
     "output_type": "stream",
     "text": [
      "\n",
      " ** Evaluating metrics for python test set. ** \n",
      "\n",
      "{'eval_loss': 0.35005122423171997, 'eval_f1': 0.7260646210665089, 'eval_precision': 0.7680608280608281, 'eval_recall': 0.6918072268753139, 'eval_runtime': 1.8251, 'eval_samples_per_second': 206.563, 'eval_steps_per_second': 52.052, 'epoch': 5.0}\n"
     ]
    },
    {
     "name": "stderr",
     "output_type": "stream",
     "text": [
      " 53%|█████▎    | 2003/3770 [02:23<01:46, 16.64it/s]"
     ]
    },
    {
     "name": "stdout",
     "output_type": "stream",
     "text": [
      "{'loss': 0.144, 'grad_norm': 0.06204480677843094, 'learning_rate': 2.347480106100796e-05, 'epoch': 5.31}\n"
     ]
    },
    {
     "name": "stderr",
     "output_type": "stream",
     "text": [
      " 60%|█████▉    | 2261/3770 [02:39<01:36, 15.71it/s]\n",
      " 60%|██████    | 2262/3770 [02:41<01:36, 15.71it/s]"
     ]
    },
    {
     "name": "stdout",
     "output_type": "stream",
     "text": [
      "\n",
      " ** Evaluating metrics for python test set. ** \n",
      "\n",
      "{'eval_loss': 0.3824194073677063, 'eval_f1': 0.7349763145365902, 'eval_precision': 0.7719577860427508, 'eval_recall': 0.7234482866926422, 'eval_runtime': 1.7156, 'eval_samples_per_second': 219.752, 'eval_steps_per_second': 55.375, 'epoch': 6.0}\n"
     ]
    },
    {
     "name": "stderr",
     "output_type": "stream",
     "text": [
      " 70%|███████   | 2639/3770 [03:05<01:08, 16.57it/s]\n",
      " 70%|███████   | 2639/3770 [03:07<01:08, 16.57it/s]"
     ]
    },
    {
     "name": "stdout",
     "output_type": "stream",
     "text": [
      "\n",
      " ** Evaluating metrics for python test set. ** \n",
      "\n",
      "{'eval_loss': 0.4119740426540375, 'eval_f1': 0.7542330017942938, 'eval_precision': 0.7738324862992794, 'eval_recall': 0.7394381716970921, 'eval_runtime': 1.5131, 'eval_samples_per_second': 249.158, 'eval_steps_per_second': 62.785, 'epoch': 7.0}\n"
     ]
    },
    {
     "name": "stderr",
     "output_type": "stream",
     "text": [
      " 80%|███████▉  | 3003/3770 [03:33<00:45, 16.70it/s]"
     ]
    },
    {
     "name": "stdout",
     "output_type": "stream",
     "text": [
      "{'loss': 0.0478, 'grad_norm': 0.10605884343385696, 'learning_rate': 1.0212201591511936e-05, 'epoch': 7.96}\n"
     ]
    },
    {
     "name": "stderr",
     "output_type": "stream",
     "text": [
      " 80%|███████▉  | 3015/3770 [03:33<00:44, 17.13it/s]\n",
      " 80%|████████  | 3016/3770 [03:35<00:44, 17.13it/s]"
     ]
    },
    {
     "name": "stdout",
     "output_type": "stream",
     "text": [
      "\n",
      " ** Evaluating metrics for python test set. ** \n",
      "\n",
      "{'eval_loss': 0.41452154517173767, 'eval_f1': 0.7539386562458843, 'eval_precision': 0.7646518759018759, 'eval_recall': 0.7613933087595711, 'eval_runtime': 1.4069, 'eval_samples_per_second': 267.956, 'eval_steps_per_second': 67.522, 'epoch': 8.0}\n"
     ]
    },
    {
     "name": "stderr",
     "output_type": "stream",
     "text": [
      " 90%|█████████ | 3393/3770 [04:00<00:23, 16.11it/s]\n",
      " 90%|█████████ | 3393/3770 [04:01<00:23, 16.11it/s]"
     ]
    },
    {
     "name": "stdout",
     "output_type": "stream",
     "text": [
      "\n",
      " ** Evaluating metrics for python test set. ** \n",
      "\n",
      "{'eval_loss': 0.4322541356086731, 'eval_f1': 0.758241179763316, 'eval_precision': 0.7698073658943224, 'eval_recall': 0.7491639301283841, 'eval_runtime': 1.3539, 'eval_samples_per_second': 278.455, 'eval_steps_per_second': 70.168, 'epoch': 9.0}\n"
     ]
    },
    {
     "name": "stderr",
     "output_type": "stream",
     "text": [
      "100%|█████████▉| 3769/3770 [04:26<00:00, 15.86it/s]\n",
      "100%|██████████| 3770/3770 [04:29<00:00, 15.86it/s]"
     ]
    },
    {
     "name": "stdout",
     "output_type": "stream",
     "text": [
      "\n",
      " ** Evaluating metrics for python test set. ** \n",
      "\n",
      "{'eval_loss': 0.4300021529197693, 'eval_f1': 0.7572520233389797, 'eval_precision': 0.7632191425473586, 'eval_recall': 0.7586171527860304, 'eval_runtime': 1.3828, 'eval_samples_per_second': 272.629, 'eval_steps_per_second': 68.7, 'epoch': 10.0}\n"
     ]
    },
    {
     "name": "stderr",
     "output_type": "stream",
     "text": [
      "100%|██████████| 3770/3770 [04:31<00:00, 13.87it/s]\n"
     ]
    },
    {
     "name": "stdout",
     "output_type": "stream",
     "text": [
      "{'train_runtime': 271.8951, 'train_samples_per_second': 55.426, 'train_steps_per_second': 13.866, 'train_loss': 0.14441664086096484, 'epoch': 10.0}\n"
     ]
    },
    {
     "name": "stderr",
     "output_type": "stream",
     "text": [
      "100%|██████████| 95/95 [00:01<00:00, 55.22it/s]\n"
     ]
    },
    {
     "name": "stdout",
     "output_type": "stream",
     "text": [
      "\n",
      " ** Evaluating metrics for python test set. ** \n",
      "\n",
      "Evaluation Metrics: {'eval_loss': 0.4322541356086731, 'eval_f1': 0.758241179763316, 'eval_precision': 0.7698073658943224, 'eval_recall': 0.7491639301283841, 'eval_runtime': 1.754, 'eval_samples_per_second': 214.932, 'eval_steps_per_second': 54.161, 'epoch': 10.0}\n"
     ]
    },
    {
     "data": {
      "text/html": [
       "Finishing last run (ID:k0blo4h7) before initializing another..."
      ],
      "text/plain": [
       "<IPython.core.display.HTML object>"
      ]
     },
     "metadata": {},
     "output_type": "display_data"
    },
    {
     "data": {
      "text/html": [
       "\n",
       "    <style>\n",
       "        .wandb-row {\n",
       "            display: flex;\n",
       "            flex-direction: row;\n",
       "            flex-wrap: wrap;\n",
       "            justify-content: flex-start;\n",
       "            width: 100%;\n",
       "        }\n",
       "        .wandb-col {\n",
       "            display: flex;\n",
       "            flex-direction: column;\n",
       "            flex-basis: 100%;\n",
       "            flex: 1;\n",
       "            padding: 10px;\n",
       "        }\n",
       "    </style>\n",
       "<div class=\"wandb-row\"><div class=\"wandb-col\"><h3>Run history:</h3><br/><table class=\"wandb\"><tr><td>eval/f1</td><td>▁▄▆▇▇██████</td></tr><tr><td>eval/loss</td><td>▄▁▁▂▃▅▇▇███</td></tr><tr><td>eval/precision</td><td>▁▄█▇▇▇▇▇▇▇▇</td></tr><tr><td>eval/recall</td><td>▁▄▅▆▇▇█████</td></tr><tr><td>eval/runtime</td><td>▆█▄▇▇▅▃▂▁▁▆</td></tr><tr><td>eval/samples_per_second</td><td>▂▁▄▂▂▃▆▇██▃</td></tr><tr><td>eval/steps_per_second</td><td>▂▁▄▂▂▃▆▇██▃</td></tr><tr><td>train/epoch</td><td>▁▂▂▃▃▄▄▅▆▆▆▇███</td></tr><tr><td>train/global_step</td><td>▁▂▂▃▃▄▄▅▆▆▆▇███</td></tr><tr><td>train/grad_norm</td><td>█▁▁</td></tr><tr><td>train/learning_rate</td><td>█▄▁</td></tr><tr><td>train/loss</td><td>█▃▁</td></tr></table><br/></div><div class=\"wandb-col\"><h3>Run summary:</h3><br/><table class=\"wandb\"><tr><td>eval/f1</td><td>0.75824</td></tr><tr><td>eval/loss</td><td>0.43225</td></tr><tr><td>eval/precision</td><td>0.76981</td></tr><tr><td>eval/recall</td><td>0.74916</td></tr><tr><td>eval/runtime</td><td>1.754</td></tr><tr><td>eval/samples_per_second</td><td>214.932</td></tr><tr><td>eval/steps_per_second</td><td>54.161</td></tr><tr><td>total_flos</td><td>991297601733120.0</td></tr><tr><td>train/epoch</td><td>10</td></tr><tr><td>train/global_step</td><td>3770</td></tr><tr><td>train/grad_norm</td><td>0.10606</td></tr><tr><td>train/learning_rate</td><td>1e-05</td></tr><tr><td>train/loss</td><td>0.0478</td></tr><tr><td>train_loss</td><td>0.14442</td></tr><tr><td>train_runtime</td><td>271.8951</td></tr><tr><td>train_samples_per_second</td><td>55.426</td></tr><tr><td>train_steps_per_second</td><td>13.866</td></tr></table><br/></div></div>"
      ],
      "text/plain": [
       "<IPython.core.display.HTML object>"
      ]
     },
     "metadata": {},
     "output_type": "display_data"
    },
    {
     "data": {
      "text/html": [
       " View run <strong style=\"color:#cdcd00\">python_epoch-10_batchSize-4_weightsOfDecay-0.01</strong> at: <a href='https://wandb.ai/ayoungren-colostate/NBSE2025_GridSearch_3/runs/k0blo4h7' target=\"_blank\">https://wandb.ai/ayoungren-colostate/NBSE2025_GridSearch_3/runs/k0blo4h7</a><br/> View project at: <a href='https://wandb.ai/ayoungren-colostate/NBSE2025_GridSearch_3' target=\"_blank\">https://wandb.ai/ayoungren-colostate/NBSE2025_GridSearch_3</a><br/>Synced 5 W&B file(s), 0 media file(s), 0 artifact file(s) and 0 other file(s)"
      ],
      "text/plain": [
       "<IPython.core.display.HTML object>"
      ]
     },
     "metadata": {},
     "output_type": "display_data"
    },
    {
     "data": {
      "text/html": [
       "Find logs at: <code>.\\wandb\\run-20241207_034606-k0blo4h7\\logs</code>"
      ],
      "text/plain": [
       "<IPython.core.display.HTML object>"
      ]
     },
     "metadata": {},
     "output_type": "display_data"
    },
    {
     "data": {
      "text/html": [
       "Successfully finished last run (ID:k0blo4h7). Initializing new run:<br/>"
      ],
      "text/plain": [
       "<IPython.core.display.HTML object>"
      ]
     },
     "metadata": {},
     "output_type": "display_data"
    },
    {
     "data": {
      "text/html": [
       "Tracking run with wandb version 0.18.7"
      ],
      "text/plain": [
       "<IPython.core.display.HTML object>"
      ]
     },
     "metadata": {},
     "output_type": "display_data"
    },
    {
     "data": {
      "text/html": [
       "Run data is saved locally in <code>c:\\Development\\TactitalTensorsFinalProject\\wandb\\run-20241207_040417-hwy6ccc5</code>"
      ],
      "text/plain": [
       "<IPython.core.display.HTML object>"
      ]
     },
     "metadata": {},
     "output_type": "display_data"
    },
    {
     "data": {
      "text/html": [
       "Syncing run <strong><a href='https://wandb.ai/ayoungren-colostate/NBSE2025_GridSearch_3/runs/hwy6ccc5' target=\"_blank\">pharo_epoch-10_batchSize-4_weightsOfDecay-0.01</a></strong> to <a href='https://wandb.ai/ayoungren-colostate/NBSE2025_GridSearch_3' target=\"_blank\">Weights & Biases</a> (<a href='https://wandb.me/developer-guide' target=\"_blank\">docs</a>)<br/>"
      ],
      "text/plain": [
       "<IPython.core.display.HTML object>"
      ]
     },
     "metadata": {},
     "output_type": "display_data"
    },
    {
     "data": {
      "text/html": [
       " View project at <a href='https://wandb.ai/ayoungren-colostate/NBSE2025_GridSearch_3' target=\"_blank\">https://wandb.ai/ayoungren-colostate/NBSE2025_GridSearch_3</a>"
      ],
      "text/plain": [
       "<IPython.core.display.HTML object>"
      ]
     },
     "metadata": {},
     "output_type": "display_data"
    },
    {
     "data": {
      "text/html": [
       " View run at <a href='https://wandb.ai/ayoungren-colostate/NBSE2025_GridSearch_3/runs/hwy6ccc5' target=\"_blank\">https://wandb.ai/ayoungren-colostate/NBSE2025_GridSearch_3/runs/hwy6ccc5</a>"
      ],
      "text/plain": [
       "<IPython.core.display.HTML object>"
      ]
     },
     "metadata": {},
     "output_type": "display_data"
    },
    {
     "name": "stderr",
     "output_type": "stream",
     "text": [
      "c:\\Users\\ayoun\\Miniconda3\\envs\\nbse2025\\lib\\site-packages\\torch\\_utils.py:776: UserWarning: TypedStorage is deprecated. It will be removed in the future and UntypedStorage will be the only storage class. This should only matter to you if you are using storages directly.  To access UntypedStorage directly, use tensor.untyped_storage() instead of tensor.storage()\n",
      "  return self.fget.__get__(instance, owner)()\n",
      "Some weights of RobertaForSequenceClassification were not initialized from the model checkpoint at microsoft/codebert-base and are newly initialized: ['classifier.dense.bias', 'classifier.dense.weight', 'classifier.out_proj.bias', 'classifier.out_proj.weight']\n",
      "You should probably TRAIN this model on a down-stream task to be able to use it for predictions and inference.\n",
      "Map: 100%|██████████| 1298/1298 [00:00<00:00, 12487.89 examples/s]\n",
      " 10%|▉         | 259/2600 [00:16<02:38, 14.80it/s]\n",
      " 10%|█         | 260/2600 [00:18<02:38, 14.80it/s]"
     ]
    },
    {
     "name": "stdout",
     "output_type": "stream",
     "text": [
      "\n",
      " ** Evaluating metrics for pharo test set. ** \n",
      "\n",
      "{'eval_loss': 0.2928790748119354, 'eval_f1': 0.2463874453557578, 'eval_precision': 0.3160183226844726, 'eval_recall': 0.21270751135263904, 'eval_runtime': 1.3328, 'eval_samples_per_second': 195.079, 'eval_steps_per_second': 48.77, 'epoch': 1.0}\n"
     ]
    },
    {
     "name": "stderr",
     "output_type": "stream",
     "text": [
      " 20%|█▉        | 519/2600 [00:35<02:01, 17.08it/s]\n",
      " 20%|██        | 520/2600 [00:36<02:01, 17.08it/s]"
     ]
    },
    {
     "name": "stdout",
     "output_type": "stream",
     "text": [
      "\n",
      " ** Evaluating metrics for pharo test set. ** \n",
      "\n",
      "{'eval_loss': 0.25544461607933044, 'eval_f1': 0.4587764658534188, 'eval_precision': 0.5758048780902708, 'eval_recall': 0.39113402543947523, 'eval_runtime': 0.9781, 'eval_samples_per_second': 265.831, 'eval_steps_per_second': 66.458, 'epoch': 2.0}\n"
     ]
    },
    {
     "name": "stderr",
     "output_type": "stream",
     "text": [
      " 30%|██▉       | 779/2600 [00:55<01:58, 15.36it/s]\n",
      " 30%|███       | 780/2600 [00:56<01:58, 15.36it/s]"
     ]
    },
    {
     "name": "stdout",
     "output_type": "stream",
     "text": [
      "\n",
      " ** Evaluating metrics for pharo test set. ** \n",
      "\n",
      "{'eval_loss': 0.24882471561431885, 'eval_f1': 0.4837603235419391, 'eval_precision': 0.5756863366477086, 'eval_recall': 0.4300580802875406, 'eval_runtime': 1.0427, 'eval_samples_per_second': 249.358, 'eval_steps_per_second': 62.339, 'epoch': 3.0}\n"
     ]
    },
    {
     "name": "stderr",
     "output_type": "stream",
     "text": [
      " 39%|███▊      | 1003/2600 [01:12<01:42, 15.55it/s]"
     ]
    },
    {
     "name": "stdout",
     "output_type": "stream",
     "text": [
      "{'loss': 0.2238, 'grad_norm': 0.2532604932785034, 'learning_rate': 3.0769230769230774e-05, 'epoch': 3.85}\n"
     ]
    },
    {
     "name": "stderr",
     "output_type": "stream",
     "text": [
      " 40%|███▉      | 1039/2600 [01:14<01:34, 16.45it/s]\n",
      " 40%|████      | 1040/2600 [01:15<01:34, 16.45it/s]"
     ]
    },
    {
     "name": "stdout",
     "output_type": "stream",
     "text": [
      "\n",
      " ** Evaluating metrics for pharo test set. ** \n",
      "\n",
      "{'eval_loss': 0.24002902209758759, 'eval_f1': 0.5212594059023458, 'eval_precision': 0.5537376182357001, 'eval_recall': 0.494401512825369, 'eval_runtime': 1.1106, 'eval_samples_per_second': 234.111, 'eval_steps_per_second': 58.528, 'epoch': 4.0}\n"
     ]
    },
    {
     "name": "stderr",
     "output_type": "stream",
     "text": [
      " 50%|████▉     | 1299/2600 [01:33<01:18, 16.61it/s]\n",
      " 50%|█████     | 1300/2600 [01:34<01:18, 16.61it/s]"
     ]
    },
    {
     "name": "stdout",
     "output_type": "stream",
     "text": [
      "\n",
      " ** Evaluating metrics for pharo test set. ** \n",
      "\n",
      "{'eval_loss': 0.24601681530475616, 'eval_f1': 0.535117353850768, 'eval_precision': 0.5695893904333802, 'eval_recall': 0.5053059263464569, 'eval_runtime': 1.2429, 'eval_samples_per_second': 209.195, 'eval_steps_per_second': 52.299, 'epoch': 5.0}\n"
     ]
    },
    {
     "name": "stderr",
     "output_type": "stream",
     "text": [
      " 60%|█████▉    | 1559/2600 [01:52<01:01, 16.80it/s]\n",
      " 60%|██████    | 1560/2600 [01:53<01:01, 16.80it/s]"
     ]
    },
    {
     "name": "stdout",
     "output_type": "stream",
     "text": [
      "\n",
      " ** Evaluating metrics for pharo test set. ** \n",
      "\n",
      "{'eval_loss': 0.2501889765262604, 'eval_f1': 0.6400330870081182, 'eval_precision': 0.8491383614342973, 'eval_recall': 0.5749261262940976, 'eval_runtime': 1.0027, 'eval_samples_per_second': 259.298, 'eval_steps_per_second': 64.825, 'epoch': 6.0}\n"
     ]
    },
    {
     "name": "stderr",
     "output_type": "stream",
     "text": [
      " 70%|██████▉   | 1819/2600 [02:11<00:49, 15.92it/s]\n",
      " 70%|███████   | 1820/2600 [02:13<00:48, 15.92it/s]"
     ]
    },
    {
     "name": "stdout",
     "output_type": "stream",
     "text": [
      "\n",
      " ** Evaluating metrics for pharo test set. ** \n",
      "\n",
      "{'eval_loss': 0.24531517922878265, 'eval_f1': 0.6517919905824169, 'eval_precision': 0.834844723093571, 'eval_recall': 0.5790832780286507, 'eval_runtime': 1.2022, 'eval_samples_per_second': 216.264, 'eval_steps_per_second': 54.066, 'epoch': 7.0}\n"
     ]
    },
    {
     "name": "stderr",
     "output_type": "stream",
     "text": [
      " 77%|███████▋  | 2003/2600 [02:27<00:38, 15.32it/s]"
     ]
    },
    {
     "name": "stdout",
     "output_type": "stream",
     "text": [
      "{'loss': 0.0767, 'grad_norm': 0.04852132871747017, 'learning_rate': 1.153846153846154e-05, 'epoch': 7.69}\n"
     ]
    },
    {
     "name": "stderr",
     "output_type": "stream",
     "text": [
      " 80%|███████▉  | 2079/2600 [02:31<00:33, 15.52it/s]\n",
      " 80%|████████  | 2080/2600 [02:33<00:33, 15.52it/s]"
     ]
    },
    {
     "name": "stdout",
     "output_type": "stream",
     "text": [
      "\n",
      " ** Evaluating metrics for pharo test set. ** \n",
      "\n",
      "{'eval_loss': 0.2502407431602478, 'eval_f1': 0.6441950321639485, 'eval_precision': 0.7466123974093735, 'eval_recall': 0.5921727910615867, 'eval_runtime': 1.2612, 'eval_samples_per_second': 206.157, 'eval_steps_per_second': 51.539, 'epoch': 8.0}\n"
     ]
    },
    {
     "name": "stderr",
     "output_type": "stream",
     "text": [
      " 90%|████████▉ | 2339/2600 [02:51<00:16, 15.65it/s]\n",
      " 90%|█████████ | 2340/2600 [02:52<00:16, 15.65it/s]"
     ]
    },
    {
     "name": "stdout",
     "output_type": "stream",
     "text": [
      "\n",
      " ** Evaluating metrics for pharo test set. ** \n",
      "\n",
      "{'eval_loss': 0.2516332268714905, 'eval_f1': 0.6323829358172329, 'eval_precision': 0.7996249098642715, 'eval_recall': 0.5857961351360584, 'eval_runtime': 0.9605, 'eval_samples_per_second': 270.682, 'eval_steps_per_second': 67.671, 'epoch': 9.0}\n"
     ]
    },
    {
     "name": "stderr",
     "output_type": "stream",
     "text": [
      "100%|█████████▉| 2599/2600 [03:10<00:00, 15.69it/s]\n",
      "100%|██████████| 2600/2600 [03:13<00:00, 15.69it/s]"
     ]
    },
    {
     "name": "stdout",
     "output_type": "stream",
     "text": [
      "\n",
      " ** Evaluating metrics for pharo test set. ** \n",
      "\n",
      "{'eval_loss': 0.2514691650867462, 'eval_f1': 0.6601022153729527, 'eval_precision': 0.7437475878416789, 'eval_recall': 0.6096841474718123, 'eval_runtime': 1.1342, 'eval_samples_per_second': 229.243, 'eval_steps_per_second': 57.311, 'epoch': 10.0}\n"
     ]
    },
    {
     "name": "stderr",
     "output_type": "stream",
     "text": [
      "100%|██████████| 2600/2600 [03:16<00:00, 13.26it/s]\n"
     ]
    },
    {
     "name": "stdout",
     "output_type": "stream",
     "text": [
      "{'train_runtime': 196.0592, 'train_samples_per_second': 52.943, 'train_steps_per_second': 13.261, 'train_loss': 0.12337329057546763, 'epoch': 10.0}\n"
     ]
    },
    {
     "name": "stderr",
     "output_type": "stream",
     "text": [
      "100%|██████████| 65/65 [00:01<00:00, 64.15it/s]\n"
     ]
    },
    {
     "name": "stdout",
     "output_type": "stream",
     "text": [
      "\n",
      " ** Evaluating metrics for pharo test set. ** \n",
      "\n",
      "Evaluation Metrics: {'eval_loss': 0.2514691650867462, 'eval_f1': 0.6601022153729527, 'eval_precision': 0.7437475878416789, 'eval_recall': 0.6096841474718123, 'eval_runtime': 1.0484, 'eval_samples_per_second': 247.993, 'eval_steps_per_second': 61.998, 'epoch': 10.0}\n",
      "    comparison                                     model     lan  \\\n",
      "0   validation  epoch-10_batchSize-4_weightsOfDecay-0.01    java   \n",
      "1   validation  epoch-10_batchSize-4_weightsOfDecay-0.01    java   \n",
      "2   validation  epoch-10_batchSize-4_weightsOfDecay-0.01    java   \n",
      "3   validation  epoch-10_batchSize-4_weightsOfDecay-0.01    java   \n",
      "4   validation  epoch-10_batchSize-4_weightsOfDecay-0.01    java   \n",
      "5   validation  epoch-10_batchSize-4_weightsOfDecay-0.01    java   \n",
      "6   validation  epoch-10_batchSize-4_weightsOfDecay-0.01    java   \n",
      "7   validation  epoch-10_batchSize-4_weightsOfDecay-0.01  python   \n",
      "8   validation  epoch-10_batchSize-4_weightsOfDecay-0.01  python   \n",
      "9   validation  epoch-10_batchSize-4_weightsOfDecay-0.01  python   \n",
      "10  validation  epoch-10_batchSize-4_weightsOfDecay-0.01  python   \n",
      "11  validation  epoch-10_batchSize-4_weightsOfDecay-0.01  python   \n",
      "12  validation  epoch-10_batchSize-4_weightsOfDecay-0.01   pharo   \n",
      "13  validation  epoch-10_batchSize-4_weightsOfDecay-0.01   pharo   \n",
      "14  validation  epoch-10_batchSize-4_weightsOfDecay-0.01   pharo   \n",
      "15  validation  epoch-10_batchSize-4_weightsOfDecay-0.01   pharo   \n",
      "16  validation  epoch-10_batchSize-4_weightsOfDecay-0.01   pharo   \n",
      "17  validation  epoch-10_batchSize-4_weightsOfDecay-0.01   pharo   \n",
      "18  validation  epoch-10_batchSize-4_weightsOfDecay-0.01   pharo   \n",
      "\n",
      "                        cat  precision    recall        f1  \n",
      "0                   summary   0.940594  0.945946  0.943262  \n",
      "1                 Ownership   0.964912  1.000000  0.982143  \n",
      "2                    Expand   0.697248  0.745098  0.720379  \n",
      "3                     usage   0.966825  0.933638  0.949942  \n",
      "4                   Pointer   0.977654  0.925926  0.951087  \n",
      "5               deprecation   0.875000  0.933333  0.903226  \n",
      "6                  rational   0.681818  0.555556  0.612245  \n",
      "7                     Usage   0.861111  0.768595  0.812227  \n",
      "8                Parameters   0.855856  0.848214  0.852018  \n",
      "9          DevelopmentNotes   0.644444  0.725000  0.682353  \n",
      "10                   Expand   0.661538  0.623188  0.641791  \n",
      "11                  Summary   0.826087  0.780822  0.802817  \n",
      "12  Keyimplementationpoints   0.800000  0.666667  0.727273  \n",
      "13                  Example   0.934066  0.841584  0.885417  \n",
      "14         Responsibilities   0.627907  0.540000  0.580645  \n",
      "15          Classreferences   0.500000  0.166667  0.250000  \n",
      "16                   Intent   0.968750  0.815789  0.885714  \n",
      "17              Keymessages   0.775510  0.808511  0.791667  \n",
      "18            Collaborators   0.600000  0.428571  0.500000  \n",
      "------------------ Starting model ==> epochs: 10, batch size: 8, weights of decay: 0.01 ---------------------\n"
     ]
    },
    {
     "data": {
      "text/html": [
       "Finishing last run (ID:hwy6ccc5) before initializing another..."
      ],
      "text/plain": [
       "<IPython.core.display.HTML object>"
      ]
     },
     "metadata": {},
     "output_type": "display_data"
    },
    {
     "data": {
      "text/html": [
       "\n",
       "    <style>\n",
       "        .wandb-row {\n",
       "            display: flex;\n",
       "            flex-direction: row;\n",
       "            flex-wrap: wrap;\n",
       "            justify-content: flex-start;\n",
       "            width: 100%;\n",
       "        }\n",
       "        .wandb-col {\n",
       "            display: flex;\n",
       "            flex-direction: column;\n",
       "            flex-basis: 100%;\n",
       "            flex: 1;\n",
       "            padding: 10px;\n",
       "        }\n",
       "    </style>\n",
       "<div class=\"wandb-row\"><div class=\"wandb-col\"><h3>Run history:</h3><br/><table class=\"wandb\"><tr><td>eval/f1</td><td>▁▅▅▆▆██████</td></tr><tr><td>eval/loss</td><td>█▃▂▁▂▂▂▂▃▃▃</td></tr><tr><td>eval/precision</td><td>▁▄▄▄▄██▇▇▇▇</td></tr><tr><td>eval/recall</td><td>▁▄▅▆▆▇▇████</td></tr><tr><td>eval/runtime</td><td>█▁▃▄▆▂▆▇▁▄▃</td></tr><tr><td>eval/samples_per_second</td><td>▁█▆▅▂▇▃▂█▄▆</td></tr><tr><td>eval/steps_per_second</td><td>▁█▆▅▂▇▃▂█▄▆</td></tr><tr><td>train/epoch</td><td>▁▂▃▃▃▄▅▆▆▆▇███</td></tr><tr><td>train/global_step</td><td>▁▂▃▃▃▄▅▆▆▆▇███</td></tr><tr><td>train/grad_norm</td><td>█▁</td></tr><tr><td>train/learning_rate</td><td>█▁</td></tr><tr><td>train/loss</td><td>█▁</td></tr></table><br/></div><div class=\"wandb-col\"><h3>Run summary:</h3><br/><table class=\"wandb\"><tr><td>eval/f1</td><td>0.6601</td></tr><tr><td>eval/loss</td><td>0.25147</td></tr><tr><td>eval/precision</td><td>0.74375</td></tr><tr><td>eval/recall</td><td>0.60968</td></tr><tr><td>eval/runtime</td><td>1.0484</td></tr><tr><td>eval/samples_per_second</td><td>247.993</td></tr><tr><td>eval/steps_per_second</td><td>61.998</td></tr><tr><td>total_flos</td><td>682803840384000.0</td></tr><tr><td>train/epoch</td><td>10</td></tr><tr><td>train/global_step</td><td>2600</td></tr><tr><td>train/grad_norm</td><td>0.04852</td></tr><tr><td>train/learning_rate</td><td>1e-05</td></tr><tr><td>train/loss</td><td>0.0767</td></tr><tr><td>train_loss</td><td>0.12337</td></tr><tr><td>train_runtime</td><td>196.0592</td></tr><tr><td>train_samples_per_second</td><td>52.943</td></tr><tr><td>train_steps_per_second</td><td>13.261</td></tr></table><br/></div></div>"
      ],
      "text/plain": [
       "<IPython.core.display.HTML object>"
      ]
     },
     "metadata": {},
     "output_type": "display_data"
    },
    {
     "data": {
      "text/html": [
       " View run <strong style=\"color:#cdcd00\">pharo_epoch-10_batchSize-4_weightsOfDecay-0.01</strong> at: <a href='https://wandb.ai/ayoungren-colostate/NBSE2025_GridSearch_3/runs/hwy6ccc5' target=\"_blank\">https://wandb.ai/ayoungren-colostate/NBSE2025_GridSearch_3/runs/hwy6ccc5</a><br/> View project at: <a href='https://wandb.ai/ayoungren-colostate/NBSE2025_GridSearch_3' target=\"_blank\">https://wandb.ai/ayoungren-colostate/NBSE2025_GridSearch_3</a><br/>Synced 5 W&B file(s), 0 media file(s), 0 artifact file(s) and 0 other file(s)"
      ],
      "text/plain": [
       "<IPython.core.display.HTML object>"
      ]
     },
     "metadata": {},
     "output_type": "display_data"
    },
    {
     "data": {
      "text/html": [
       "Find logs at: <code>.\\wandb\\run-20241207_040417-hwy6ccc5\\logs</code>"
      ],
      "text/plain": [
       "<IPython.core.display.HTML object>"
      ]
     },
     "metadata": {},
     "output_type": "display_data"
    },
    {
     "data": {
      "text/html": [
       "Successfully finished last run (ID:hwy6ccc5). Initializing new run:<br/>"
      ],
      "text/plain": [
       "<IPython.core.display.HTML object>"
      ]
     },
     "metadata": {},
     "output_type": "display_data"
    },
    {
     "data": {
      "text/html": [
       "Tracking run with wandb version 0.18.7"
      ],
      "text/plain": [
       "<IPython.core.display.HTML object>"
      ]
     },
     "metadata": {},
     "output_type": "display_data"
    },
    {
     "data": {
      "text/html": [
       "Run data is saved locally in <code>c:\\Development\\TactitalTensorsFinalProject\\wandb\\run-20241207_041702-qdpvm4b6</code>"
      ],
      "text/plain": [
       "<IPython.core.display.HTML object>"
      ]
     },
     "metadata": {},
     "output_type": "display_data"
    },
    {
     "data": {
      "text/html": [
       "Syncing run <strong><a href='https://wandb.ai/ayoungren-colostate/NBSE2025_GridSearch_3/runs/qdpvm4b6' target=\"_blank\">java_epoch-10_batchSize-8_weightsOfDecay-0.01</a></strong> to <a href='https://wandb.ai/ayoungren-colostate/NBSE2025_GridSearch_3' target=\"_blank\">Weights & Biases</a> (<a href='https://wandb.me/developer-guide' target=\"_blank\">docs</a>)<br/>"
      ],
      "text/plain": [
       "<IPython.core.display.HTML object>"
      ]
     },
     "metadata": {},
     "output_type": "display_data"
    },
    {
     "data": {
      "text/html": [
       " View project at <a href='https://wandb.ai/ayoungren-colostate/NBSE2025_GridSearch_3' target=\"_blank\">https://wandb.ai/ayoungren-colostate/NBSE2025_GridSearch_3</a>"
      ],
      "text/plain": [
       "<IPython.core.display.HTML object>"
      ]
     },
     "metadata": {},
     "output_type": "display_data"
    },
    {
     "data": {
      "text/html": [
       " View run at <a href='https://wandb.ai/ayoungren-colostate/NBSE2025_GridSearch_3/runs/qdpvm4b6' target=\"_blank\">https://wandb.ai/ayoungren-colostate/NBSE2025_GridSearch_3/runs/qdpvm4b6</a>"
      ],
      "text/plain": [
       "<IPython.core.display.HTML object>"
      ]
     },
     "metadata": {},
     "output_type": "display_data"
    },
    {
     "name": "stderr",
     "output_type": "stream",
     "text": [
      "c:\\Users\\ayoun\\Miniconda3\\envs\\nbse2025\\lib\\site-packages\\torch\\_utils.py:776: UserWarning: TypedStorage is deprecated. It will be removed in the future and UntypedStorage will be the only storage class. This should only matter to you if you are using storages directly.  To access UntypedStorage directly, use tensor.untyped_storage() instead of tensor.storage()\n",
      "  return self.fget.__get__(instance, owner)()\n",
      "Some weights of RobertaForSequenceClassification were not initialized from the model checkpoint at microsoft/codebert-base and are newly initialized: ['classifier.dense.bias', 'classifier.dense.weight', 'classifier.out_proj.bias', 'classifier.out_proj.weight']\n",
      "You should probably TRAIN this model on a down-stream task to be able to use it for predictions and inference.\n",
      "Map: 100%|██████████| 7614/7614 [00:00<00:00, 17830.70 examples/s]\n",
      " 10%|▉         | 761/7620 [00:56<08:20, 13.70it/s]\n",
      " 10%|█         | 762/7620 [01:00<08:20, 13.70it/s]"
     ]
    },
    {
     "name": "stdout",
     "output_type": "stream",
     "text": [
      "\n",
      " ** Evaluating metrics for java test set. ** \n",
      "\n",
      "{'eval_loss': 0.11086812615394592, 'eval_f1': 0.5315733814536376, 'eval_precision': 0.5375057172533048, 'eval_recall': 0.5266704616165224, 'eval_runtime': 3.924, 'eval_samples_per_second': 388.12, 'eval_steps_per_second': 48.674, 'epoch': 1.0}\n"
     ]
    },
    {
     "name": "stderr",
     "output_type": "stream",
     "text": [
      " 13%|█▎        | 1001/7620 [01:21<08:21, 13.20it/s] "
     ]
    },
    {
     "name": "stdout",
     "output_type": "stream",
     "text": [
      "{'loss': 0.1331, 'grad_norm': 3.2133519649505615, 'learning_rate': 4.343832020997376e-05, 'epoch': 1.31}\n"
     ]
    },
    {
     "name": "stderr",
     "output_type": "stream",
     "text": [
      " 20%|█▉        | 1523/7620 [02:00<07:28, 13.61it/s]\n",
      " 20%|██        | 1524/7620 [02:04<07:28, 13.61it/s]"
     ]
    },
    {
     "name": "stdout",
     "output_type": "stream",
     "text": [
      "\n",
      " ** Evaluating metrics for java test set. ** \n",
      "\n",
      "{'eval_loss': 0.08986184746026993, 'eval_f1': 0.7637657546455482, 'eval_precision': 0.8479532228253006, 'eval_recall': 0.7255979385952658, 'eval_runtime': 3.8721, 'eval_samples_per_second': 393.326, 'eval_steps_per_second': 49.327, 'epoch': 2.0}\n"
     ]
    },
    {
     "name": "stderr",
     "output_type": "stream",
     "text": [
      " 26%|██▋       | 2002/7620 [02:42<07:05, 13.20it/s]  "
     ]
    },
    {
     "name": "stdout",
     "output_type": "stream",
     "text": [
      "{'loss': 0.0752, 'grad_norm': 0.1262432485818863, 'learning_rate': 3.6876640419947505e-05, 'epoch': 2.62}\n"
     ]
    },
    {
     "name": "stderr",
     "output_type": "stream",
     "text": [
      " 30%|███       | 2286/7620 [03:03<06:39, 13.36it/s]\n",
      " 30%|███       | 2286/7620 [03:07<06:39, 13.36it/s]"
     ]
    },
    {
     "name": "stdout",
     "output_type": "stream",
     "text": [
      "\n",
      " ** Evaluating metrics for java test set. ** \n",
      "\n",
      "{'eval_loss': 0.0824332982301712, 'eval_f1': 0.830873998901475, 'eval_precision': 0.852826563792349, 'eval_recall': 0.8130157257342228, 'eval_runtime': 3.9854, 'eval_samples_per_second': 382.142, 'eval_steps_per_second': 47.925, 'epoch': 3.0}\n"
     ]
    },
    {
     "name": "stderr",
     "output_type": "stream",
     "text": [
      " 39%|███▉      | 3002/7620 [04:04<05:52, 13.09it/s]  "
     ]
    },
    {
     "name": "stdout",
     "output_type": "stream",
     "text": [
      "{'loss': 0.047, 'grad_norm': 0.7246479392051697, 'learning_rate': 3.0314960629921263e-05, 'epoch': 3.94}\n"
     ]
    },
    {
     "name": "stderr",
     "output_type": "stream",
     "text": [
      " 40%|████      | 3048/7620 [04:08<05:34, 13.68it/s]\n",
      " 40%|████      | 3048/7620 [04:12<05:34, 13.68it/s]"
     ]
    },
    {
     "name": "stdout",
     "output_type": "stream",
     "text": [
      "\n",
      " ** Evaluating metrics for java test set. ** \n",
      "\n",
      "{'eval_loss': 0.08915539085865021, 'eval_f1': 0.8592287770306024, 'eval_precision': 0.8901352001792459, 'eval_recall': 0.839147354023419, 'eval_runtime': 4.0336, 'eval_samples_per_second': 377.579, 'eval_steps_per_second': 47.352, 'epoch': 4.0}\n"
     ]
    },
    {
     "name": "stderr",
     "output_type": "stream",
     "text": [
      " 50%|█████     | 3810/7620 [05:13<04:51, 13.08it/s]  \n",
      " 50%|█████     | 3810/7620 [05:17<04:51, 13.08it/s]"
     ]
    },
    {
     "name": "stdout",
     "output_type": "stream",
     "text": [
      "\n",
      " ** Evaluating metrics for java test set. ** \n",
      "\n",
      "{'eval_loss': 0.09318532794713974, 'eval_f1': 0.8438173184635633, 'eval_precision': 0.8640275424489146, 'eval_recall': 0.8253590901111237, 'eval_runtime': 4.0603, 'eval_samples_per_second': 375.1, 'eval_steps_per_second': 47.041, 'epoch': 5.0}\n"
     ]
    },
    {
     "name": "stderr",
     "output_type": "stream",
     "text": [
      " 53%|█████▎    | 4002/7620 [05:36<04:40, 12.92it/s]  "
     ]
    },
    {
     "name": "stdout",
     "output_type": "stream",
     "text": [
      "{'loss': 0.0258, 'grad_norm': 0.14678247272968292, 'learning_rate': 2.3753280839895015e-05, 'epoch': 5.25}\n"
     ]
    },
    {
     "name": "stderr",
     "output_type": "stream",
     "text": [
      " 60%|██████    | 4572/7620 [06:19<03:43, 13.62it/s]\n",
      " 60%|██████    | 4572/7620 [06:23<03:43, 13.62it/s]"
     ]
    },
    {
     "name": "stdout",
     "output_type": "stream",
     "text": [
      "\n",
      " ** Evaluating metrics for java test set. ** \n",
      "\n",
      "{'eval_loss': 0.09985269606113434, 'eval_f1': 0.8528705323206432, 'eval_precision': 0.8719219839608624, 'eval_recall': 0.839174973457611, 'eval_runtime': 3.9977, 'eval_samples_per_second': 380.973, 'eval_steps_per_second': 47.778, 'epoch': 6.0}\n"
     ]
    },
    {
     "name": "stderr",
     "output_type": "stream",
     "text": [
      " 66%|██████▌   | 5002/7620 [06:57<03:26, 12.66it/s]"
     ]
    },
    {
     "name": "stdout",
     "output_type": "stream",
     "text": [
      "{'loss': 0.0151, 'grad_norm': 0.011467767879366875, 'learning_rate': 1.7191601049868766e-05, 'epoch': 6.56}\n"
     ]
    },
    {
     "name": "stderr",
     "output_type": "stream",
     "text": [
      " 70%|███████   | 5334/7620 [07:22<02:51, 13.29it/s]\n",
      " 70%|███████   | 5334/7620 [07:26<02:51, 13.29it/s]"
     ]
    },
    {
     "name": "stdout",
     "output_type": "stream",
     "text": [
      "\n",
      " ** Evaluating metrics for java test set. ** \n",
      "\n",
      "{'eval_loss': 0.10582815855741501, 'eval_f1': 0.8573420553335013, 'eval_precision': 0.8530344302777949, 'eval_recall': 0.8632318842422106, 'eval_runtime': 4.1547, 'eval_samples_per_second': 366.571, 'eval_steps_per_second': 45.972, 'epoch': 7.0}\n"
     ]
    },
    {
     "name": "stderr",
     "output_type": "stream",
     "text": [
      " 79%|███████▉  | 6002/7620 [08:20<02:02, 13.22it/s]"
     ]
    },
    {
     "name": "stdout",
     "output_type": "stream",
     "text": [
      "{'loss': 0.0098, 'grad_norm': 0.010094031691551208, 'learning_rate': 1.062992125984252e-05, 'epoch': 7.87}\n"
     ]
    },
    {
     "name": "stderr",
     "output_type": "stream",
     "text": [
      " 80%|████████  | 6096/7620 [08:27<01:50, 13.77it/s]\n",
      " 80%|████████  | 6096/7620 [08:31<01:50, 13.77it/s]"
     ]
    },
    {
     "name": "stdout",
     "output_type": "stream",
     "text": [
      "\n",
      " ** Evaluating metrics for java test set. ** \n",
      "\n",
      "{'eval_loss': 0.10920780152082443, 'eval_f1': 0.8645713948121323, 'eval_precision': 0.8662480220651397, 'eval_recall': 0.863942551477886, 'eval_runtime': 3.9269, 'eval_samples_per_second': 387.842, 'eval_steps_per_second': 48.639, 'epoch': 8.0}\n"
     ]
    },
    {
     "name": "stderr",
     "output_type": "stream",
     "text": [
      " 90%|█████████ | 6858/7620 [09:31<00:57, 13.26it/s]\n",
      " 90%|█████████ | 6858/7620 [09:35<00:57, 13.26it/s]"
     ]
    },
    {
     "name": "stdout",
     "output_type": "stream",
     "text": [
      "\n",
      " ** Evaluating metrics for java test set. ** \n",
      "\n",
      "{'eval_loss': 0.11376088857650757, 'eval_f1': 0.8676310826937605, 'eval_precision': 0.8739984828664316, 'eval_recall': 0.8625236192703455, 'eval_runtime': 4.1461, 'eval_samples_per_second': 367.33, 'eval_steps_per_second': 46.067, 'epoch': 9.0}\n"
     ]
    },
    {
     "name": "stderr",
     "output_type": "stream",
     "text": [
      " 92%|█████████▏| 7002/7620 [09:48<00:48, 12.87it/s]"
     ]
    },
    {
     "name": "stdout",
     "output_type": "stream",
     "text": [
      "{'loss': 0.0042, 'grad_norm': 0.09863263368606567, 'learning_rate': 4.068241469816273e-06, 'epoch': 9.19}\n"
     ]
    },
    {
     "name": "stderr",
     "output_type": "stream",
     "text": [
      "100%|██████████| 7620/7620 [10:34<00:00, 14.09it/s]\n",
      "100%|██████████| 7620/7620 [10:40<00:00, 14.09it/s]"
     ]
    },
    {
     "name": "stdout",
     "output_type": "stream",
     "text": [
      "\n",
      " ** Evaluating metrics for java test set. ** \n",
      "\n",
      "{'eval_loss': 0.11462666839361191, 'eval_f1': 0.8739213792361495, 'eval_precision': 0.8850767151518503, 'eval_recall': 0.8642864247079388, 'eval_runtime': 4.0494, 'eval_samples_per_second': 376.103, 'eval_steps_per_second': 47.167, 'epoch': 10.0}\n"
     ]
    },
    {
     "name": "stderr",
     "output_type": "stream",
     "text": [
      "100%|██████████| 7620/7620 [10:42<00:00, 11.85it/s]\n"
     ]
    },
    {
     "name": "stdout",
     "output_type": "stream",
     "text": [
      "{'train_runtime': 642.8947, 'train_samples_per_second': 94.743, 'train_steps_per_second': 11.853, 'train_loss': 0.041042160956565474, 'epoch': 10.0}\n"
     ]
    },
    {
     "name": "stderr",
     "output_type": "stream",
     "text": [
      "100%|██████████| 191/191 [00:03<00:00, 49.95it/s]\n"
     ]
    },
    {
     "name": "stdout",
     "output_type": "stream",
     "text": [
      "\n",
      " ** Evaluating metrics for java test set. ** \n",
      "\n",
      "Evaluation Metrics: {'eval_loss': 0.11462666839361191, 'eval_f1': 0.8739213792361495, 'eval_precision': 0.8850767151518503, 'eval_recall': 0.8642864247079388, 'eval_runtime': 3.8797, 'eval_samples_per_second': 392.553, 'eval_steps_per_second': 49.23, 'epoch': 10.0}\n"
     ]
    },
    {
     "data": {
      "text/html": [
       "Finishing last run (ID:qdpvm4b6) before initializing another..."
      ],
      "text/plain": [
       "<IPython.core.display.HTML object>"
      ]
     },
     "metadata": {},
     "output_type": "display_data"
    },
    {
     "data": {
      "text/html": [
       "\n",
       "    <style>\n",
       "        .wandb-row {\n",
       "            display: flex;\n",
       "            flex-direction: row;\n",
       "            flex-wrap: wrap;\n",
       "            justify-content: flex-start;\n",
       "            width: 100%;\n",
       "        }\n",
       "        .wandb-col {\n",
       "            display: flex;\n",
       "            flex-direction: column;\n",
       "            flex-basis: 100%;\n",
       "            flex: 1;\n",
       "            padding: 10px;\n",
       "        }\n",
       "    </style>\n",
       "<div class=\"wandb-row\"><div class=\"wandb-col\"><h3>Run history:</h3><br/><table class=\"wandb\"><tr><td>eval/f1</td><td>▁▆▇█▇██████</td></tr><tr><td>eval/loss</td><td>▇▃▁▂▃▅▆▇███</td></tr><tr><td>eval/precision</td><td>▁▇▇█▇█▇████</td></tr><tr><td>eval/recall</td><td>▁▅▇▇▇▇█████</td></tr><tr><td>eval/runtime</td><td>▂▁▄▅▆▄█▂█▅▁</td></tr><tr><td>eval/samples_per_second</td><td>▇█▅▄▃▅▁▇▁▃█</td></tr><tr><td>eval/steps_per_second</td><td>▇█▅▄▃▅▁▇▁▃█</td></tr><tr><td>train/epoch</td><td>▁▁▂▂▃▃▃▄▄▅▅▆▆▆▇▇███</td></tr><tr><td>train/global_step</td><td>▁▁▂▂▃▃▃▄▄▅▅▆▆▆▇▇███</td></tr><tr><td>train/grad_norm</td><td>█▁▃▁▁▁▁</td></tr><tr><td>train/learning_rate</td><td>█▇▆▄▃▂▁</td></tr><tr><td>train/loss</td><td>█▅▃▂▂▁▁</td></tr></table><br/></div><div class=\"wandb-col\"><h3>Run summary:</h3><br/><table class=\"wandb\"><tr><td>eval/f1</td><td>0.87392</td></tr><tr><td>eval/loss</td><td>0.11463</td></tr><tr><td>eval/precision</td><td>0.88508</td></tr><tr><td>eval/recall</td><td>0.86429</td></tr><tr><td>eval/runtime</td><td>3.8797</td></tr><tr><td>eval/samples_per_second</td><td>392.553</td></tr><tr><td>eval/steps_per_second</td><td>49.23</td></tr><tr><td>total_flos</td><td>4006703460288000.0</td></tr><tr><td>train/epoch</td><td>10</td></tr><tr><td>train/global_step</td><td>7620</td></tr><tr><td>train/grad_norm</td><td>0.09863</td></tr><tr><td>train/learning_rate</td><td>0.0</td></tr><tr><td>train/loss</td><td>0.0042</td></tr><tr><td>train_loss</td><td>0.04104</td></tr><tr><td>train_runtime</td><td>642.8947</td></tr><tr><td>train_samples_per_second</td><td>94.743</td></tr><tr><td>train_steps_per_second</td><td>11.853</td></tr></table><br/></div></div>"
      ],
      "text/plain": [
       "<IPython.core.display.HTML object>"
      ]
     },
     "metadata": {},
     "output_type": "display_data"
    },
    {
     "data": {
      "text/html": [
       " View run <strong style=\"color:#cdcd00\">java_epoch-10_batchSize-8_weightsOfDecay-0.01</strong> at: <a href='https://wandb.ai/ayoungren-colostate/NBSE2025_GridSearch_3/runs/qdpvm4b6' target=\"_blank\">https://wandb.ai/ayoungren-colostate/NBSE2025_GridSearch_3/runs/qdpvm4b6</a><br/> View project at: <a href='https://wandb.ai/ayoungren-colostate/NBSE2025_GridSearch_3' target=\"_blank\">https://wandb.ai/ayoungren-colostate/NBSE2025_GridSearch_3</a><br/>Synced 5 W&B file(s), 0 media file(s), 0 artifact file(s) and 0 other file(s)"
      ],
      "text/plain": [
       "<IPython.core.display.HTML object>"
      ]
     },
     "metadata": {},
     "output_type": "display_data"
    },
    {
     "data": {
      "text/html": [
       "Find logs at: <code>.\\wandb\\run-20241207_041702-qdpvm4b6\\logs</code>"
      ],
      "text/plain": [
       "<IPython.core.display.HTML object>"
      ]
     },
     "metadata": {},
     "output_type": "display_data"
    },
    {
     "data": {
      "text/html": [
       "Successfully finished last run (ID:qdpvm4b6). Initializing new run:<br/>"
      ],
      "text/plain": [
       "<IPython.core.display.HTML object>"
      ]
     },
     "metadata": {},
     "output_type": "display_data"
    },
    {
     "data": {
      "text/html": [
       "Tracking run with wandb version 0.18.7"
      ],
      "text/plain": [
       "<IPython.core.display.HTML object>"
      ]
     },
     "metadata": {},
     "output_type": "display_data"
    },
    {
     "data": {
      "text/html": [
       "Run data is saved locally in <code>c:\\Development\\TactitalTensorsFinalProject\\wandb\\run-20241207_052335-uj32ondw</code>"
      ],
      "text/plain": [
       "<IPython.core.display.HTML object>"
      ]
     },
     "metadata": {},
     "output_type": "display_data"
    },
    {
     "data": {
      "text/html": [
       "Syncing run <strong><a href='https://wandb.ai/ayoungren-colostate/NBSE2025_GridSearch_3/runs/uj32ondw' target=\"_blank\">python_epoch-10_batchSize-8_weightsOfDecay-0.01</a></strong> to <a href='https://wandb.ai/ayoungren-colostate/NBSE2025_GridSearch_3' target=\"_blank\">Weights & Biases</a> (<a href='https://wandb.me/developer-guide' target=\"_blank\">docs</a>)<br/>"
      ],
      "text/plain": [
       "<IPython.core.display.HTML object>"
      ]
     },
     "metadata": {},
     "output_type": "display_data"
    },
    {
     "data": {
      "text/html": [
       " View project at <a href='https://wandb.ai/ayoungren-colostate/NBSE2025_GridSearch_3' target=\"_blank\">https://wandb.ai/ayoungren-colostate/NBSE2025_GridSearch_3</a>"
      ],
      "text/plain": [
       "<IPython.core.display.HTML object>"
      ]
     },
     "metadata": {},
     "output_type": "display_data"
    },
    {
     "data": {
      "text/html": [
       " View run at <a href='https://wandb.ai/ayoungren-colostate/NBSE2025_GridSearch_3/runs/uj32ondw' target=\"_blank\">https://wandb.ai/ayoungren-colostate/NBSE2025_GridSearch_3/runs/uj32ondw</a>"
      ],
      "text/plain": [
       "<IPython.core.display.HTML object>"
      ]
     },
     "metadata": {},
     "output_type": "display_data"
    },
    {
     "name": "stderr",
     "output_type": "stream",
     "text": [
      "c:\\Users\\ayoun\\Miniconda3\\envs\\nbse2025\\lib\\site-packages\\torch\\_utils.py:776: UserWarning: TypedStorage is deprecated. It will be removed in the future and UntypedStorage will be the only storage class. This should only matter to you if you are using storages directly.  To access UntypedStorage directly, use tensor.untyped_storage() instead of tensor.storage()\n",
      "  return self.fget.__get__(instance, owner)()\n",
      "Some weights of RobertaForSequenceClassification were not initialized from the model checkpoint at microsoft/codebert-base and are newly initialized: ['classifier.dense.bias', 'classifier.dense.weight', 'classifier.out_proj.bias', 'classifier.out_proj.weight']\n",
      "You should probably TRAIN this model on a down-stream task to be able to use it for predictions and inference.\n",
      "Map: 100%|██████████| 1884/1884 [00:00<00:00, 4093.83 examples/s]\n",
      " 10%|█         | 189/1890 [00:13<01:57, 14.52it/s]\n",
      " 10%|█         | 189/1890 [00:14<01:57, 14.52it/s]"
     ]
    },
    {
     "name": "stdout",
     "output_type": "stream",
     "text": [
      "\n",
      " ** Evaluating metrics for python test set. ** \n",
      "\n",
      "{'eval_loss': 0.3375987112522125, 'eval_f1': 0.38351431821282866, 'eval_precision': 0.5739170506912442, 'eval_recall': 0.29090524979379273, 'eval_runtime': 0.9389, 'eval_samples_per_second': 401.514, 'eval_steps_per_second': 51.121, 'epoch': 1.0}\n"
     ]
    },
    {
     "name": "stderr",
     "output_type": "stream",
     "text": [
      " 20%|█▉        | 377/1890 [00:31<01:51, 13.57it/s]\n",
      " 20%|██        | 378/1890 [00:32<01:51, 13.57it/s]"
     ]
    },
    {
     "name": "stdout",
     "output_type": "stream",
     "text": [
      "\n",
      " ** Evaluating metrics for python test set. ** \n",
      "\n",
      "{'eval_loss': 0.291387140750885, 'eval_f1': 0.558984421249638, 'eval_precision': 0.6539434788754123, 'eval_recall': 0.4946897738318497, 'eval_runtime': 0.9838, 'eval_samples_per_second': 383.195, 'eval_steps_per_second': 48.789, 'epoch': 2.0}\n"
     ]
    },
    {
     "name": "stderr",
     "output_type": "stream",
     "text": [
      " 30%|███       | 567/1890 [00:50<01:32, 14.23it/s]\n",
      " 30%|███       | 567/1890 [00:51<01:32, 14.23it/s]"
     ]
    },
    {
     "name": "stdout",
     "output_type": "stream",
     "text": [
      "\n",
      " ** Evaluating metrics for python test set. ** \n",
      "\n",
      "{'eval_loss': 0.30433326959609985, 'eval_f1': 0.559456751852361, 'eval_precision': 0.8280548697480994, 'eval_recall': 0.5149815163539512, 'eval_runtime': 0.9564, 'eval_samples_per_second': 394.18, 'eval_steps_per_second': 50.187, 'epoch': 3.0}\n"
     ]
    },
    {
     "name": "stderr",
     "output_type": "stream",
     "text": [
      " 40%|███▉      | 755/1890 [01:07<01:21, 13.89it/s]\n",
      " 40%|████      | 756/1890 [01:08<01:21, 13.89it/s]"
     ]
    },
    {
     "name": "stdout",
     "output_type": "stream",
     "text": [
      "\n",
      " ** Evaluating metrics for python test set. ** \n",
      "\n",
      "{'eval_loss': 0.3210723102092743, 'eval_f1': 0.6573015479280269, 'eval_precision': 0.7605095114529077, 'eval_recall': 0.6127918292475119, 'eval_runtime': 0.9477, 'eval_samples_per_second': 397.823, 'eval_steps_per_second': 50.651, 'epoch': 4.0}\n"
     ]
    },
    {
     "name": "stderr",
     "output_type": "stream",
     "text": [
      " 50%|█████     | 945/1890 [01:27<01:06, 14.25it/s]\n",
      " 50%|█████     | 945/1890 [01:28<01:06, 14.25it/s]"
     ]
    },
    {
     "name": "stdout",
     "output_type": "stream",
     "text": [
      "\n",
      " ** Evaluating metrics for python test set. ** \n",
      "\n",
      "{'eval_loss': 0.31247764825820923, 'eval_f1': 0.7252812432776952, 'eval_precision': 0.7584006211180124, 'eval_recall': 0.7020662346569272, 'eval_runtime': 0.9526, 'eval_samples_per_second': 395.763, 'eval_steps_per_second': 50.389, 'epoch': 5.0}\n"
     ]
    },
    {
     "name": "stderr",
     "output_type": "stream",
     "text": [
      " 53%|█████▎    | 1001/1890 [01:33<01:05, 13.49it/s]"
     ]
    },
    {
     "name": "stdout",
     "output_type": "stream",
     "text": [
      "{'loss': 0.2378, 'grad_norm': 3.0889430046081543, 'learning_rate': 2.3544973544973546e-05, 'epoch': 5.29}\n"
     ]
    },
    {
     "name": "stderr",
     "output_type": "stream",
     "text": [
      " 60%|█████▉    | 1133/1890 [01:43<00:58, 13.03it/s]\n",
      " 60%|██████    | 1134/1890 [01:44<00:58, 13.03it/s]"
     ]
    },
    {
     "name": "stdout",
     "output_type": "stream",
     "text": [
      "\n",
      " ** Evaluating metrics for python test set. ** \n",
      "\n",
      "{'eval_loss': 0.34980252385139465, 'eval_f1': 0.7345253112587817, 'eval_precision': 0.7767202718645276, 'eval_recall': 0.7027302096715708, 'eval_runtime': 0.9708, 'eval_samples_per_second': 388.33, 'eval_steps_per_second': 49.443, 'epoch': 6.0}\n"
     ]
    },
    {
     "name": "stderr",
     "output_type": "stream",
     "text": [
      " 70%|███████   | 1323/1890 [02:00<00:41, 13.73it/s]\n",
      " 70%|███████   | 1323/1890 [02:01<00:41, 13.73it/s]"
     ]
    },
    {
     "name": "stdout",
     "output_type": "stream",
     "text": [
      "\n",
      " ** Evaluating metrics for python test set. ** \n",
      "\n",
      "{'eval_loss': 0.37253281474113464, 'eval_f1': 0.7488038873413453, 'eval_precision': 0.7682763075826429, 'eval_recall': 0.741405852301001, 'eval_runtime': 0.9497, 'eval_samples_per_second': 396.954, 'eval_steps_per_second': 50.541, 'epoch': 7.0}\n"
     ]
    },
    {
     "name": "stderr",
     "output_type": "stream",
     "text": [
      " 80%|███████▉  | 1511/1890 [02:17<00:27, 13.73it/s]\n",
      " 80%|████████  | 1512/1890 [02:18<00:27, 13.73it/s]"
     ]
    },
    {
     "name": "stdout",
     "output_type": "stream",
     "text": [
      "\n",
      " ** Evaluating metrics for python test set. ** \n",
      "\n",
      "{'eval_loss': 0.36439356207847595, 'eval_f1': 0.7527956617840585, 'eval_precision': 0.7690432135295433, 'eval_recall': 0.7484976023939963, 'eval_runtime': 1.0432, 'eval_samples_per_second': 361.393, 'eval_steps_per_second': 46.013, 'epoch': 8.0}\n"
     ]
    },
    {
     "name": "stderr",
     "output_type": "stream",
     "text": [
      " 90%|████████▉ | 1700/1890 [02:34<00:14, 13.02it/s]\n",
      " 90%|█████████ | 1701/1890 [02:35<00:14, 13.02it/s]"
     ]
    },
    {
     "name": "stdout",
     "output_type": "stream",
     "text": [
      "\n",
      " ** Evaluating metrics for python test set. ** \n",
      "\n",
      "{'eval_loss': 0.37875083088874817, 'eval_f1': 0.7600198699369007, 'eval_precision': 0.7694466147663079, 'eval_recall': 0.760426822036411, 'eval_runtime': 1.0103, 'eval_samples_per_second': 373.155, 'eval_steps_per_second': 47.51, 'epoch': 9.0}\n"
     ]
    },
    {
     "name": "stderr",
     "output_type": "stream",
     "text": [
      "100%|█████████▉| 1889/1890 [02:52<00:00, 13.72it/s]\n",
      "100%|██████████| 1890/1890 [02:55<00:00, 13.72it/s]"
     ]
    },
    {
     "name": "stdout",
     "output_type": "stream",
     "text": [
      "\n",
      " ** Evaluating metrics for python test set. ** \n",
      "\n",
      "{'eval_loss': 0.3802606463432312, 'eval_f1': 0.763774723562, 'eval_precision': 0.7734607551203704, 'eval_recall': 0.7627179913504295, 'eval_runtime': 1.139, 'eval_samples_per_second': 330.989, 'eval_steps_per_second': 42.142, 'epoch': 10.0}\n"
     ]
    },
    {
     "name": "stderr",
     "output_type": "stream",
     "text": [
      "100%|██████████| 1890/1890 [02:57<00:00, 10.62it/s]\n"
     ]
    },
    {
     "name": "stdout",
     "output_type": "stream",
     "text": [
      "{'train_runtime': 178.0011, 'train_samples_per_second': 84.662, 'train_steps_per_second': 10.618, 'train_loss': 0.14253346074825873, 'epoch': 10.0}\n"
     ]
    },
    {
     "name": "stderr",
     "output_type": "stream",
     "text": [
      "100%|██████████| 48/48 [00:01<00:00, 43.92it/s]\n"
     ]
    },
    {
     "name": "stdout",
     "output_type": "stream",
     "text": [
      "\n",
      " ** Evaluating metrics for python test set. ** \n",
      "\n",
      "Evaluation Metrics: {'eval_loss': 0.3802606463432312, 'eval_f1': 0.763774723562, 'eval_precision': 0.7734607551203704, 'eval_recall': 0.7627179913504295, 'eval_runtime': 1.1472, 'eval_samples_per_second': 328.632, 'eval_steps_per_second': 41.842, 'epoch': 10.0}\n"
     ]
    },
    {
     "data": {
      "text/html": [
       "Finishing last run (ID:uj32ondw) before initializing another..."
      ],
      "text/plain": [
       "<IPython.core.display.HTML object>"
      ]
     },
     "metadata": {},
     "output_type": "display_data"
    },
    {
     "data": {
      "text/html": [
       "\n",
       "    <style>\n",
       "        .wandb-row {\n",
       "            display: flex;\n",
       "            flex-direction: row;\n",
       "            flex-wrap: wrap;\n",
       "            justify-content: flex-start;\n",
       "            width: 100%;\n",
       "        }\n",
       "        .wandb-col {\n",
       "            display: flex;\n",
       "            flex-direction: column;\n",
       "            flex-basis: 100%;\n",
       "            flex: 1;\n",
       "            padding: 10px;\n",
       "        }\n",
       "    </style>\n",
       "<div class=\"wandb-row\"><div class=\"wandb-col\"><h3>Run history:</h3><br/><table class=\"wandb\"><tr><td>eval/f1</td><td>▁▄▄▆▇▇█████</td></tr><tr><td>eval/loss</td><td>▅▁▂▃▃▆▇▇███</td></tr><tr><td>eval/precision</td><td>▁▃█▆▆▇▆▆▆▆▆</td></tr><tr><td>eval/recall</td><td>▁▄▄▆▇▇█████</td></tr><tr><td>eval/runtime</td><td>▁▃▂▁▁▂▁▅▃██</td></tr><tr><td>eval/samples_per_second</td><td>█▆▇█▇▇█▄▅▁▁</td></tr><tr><td>eval/steps_per_second</td><td>█▆▇█▇▇█▄▅▁▁</td></tr><tr><td>train/epoch</td><td>▁▂▃▃▄▄▅▆▆▇███</td></tr><tr><td>train/global_step</td><td>▁▂▃▃▄▄▅▆▆▇███</td></tr><tr><td>train/grad_norm</td><td>▁</td></tr><tr><td>train/learning_rate</td><td>▁</td></tr><tr><td>train/loss</td><td>▁</td></tr></table><br/></div><div class=\"wandb-col\"><h3>Run summary:</h3><br/><table class=\"wandb\"><tr><td>eval/f1</td><td>0.76377</td></tr><tr><td>eval/loss</td><td>0.38026</td></tr><tr><td>eval/precision</td><td>0.77346</td></tr><tr><td>eval/recall</td><td>0.76272</td></tr><tr><td>eval/runtime</td><td>1.1472</td></tr><tr><td>eval/samples_per_second</td><td>328.632</td></tr><tr><td>eval/steps_per_second</td><td>41.842</td></tr><tr><td>total_flos</td><td>991297601733120.0</td></tr><tr><td>train/epoch</td><td>10</td></tr><tr><td>train/global_step</td><td>1890</td></tr><tr><td>train/grad_norm</td><td>3.08894</td></tr><tr><td>train/learning_rate</td><td>2e-05</td></tr><tr><td>train/loss</td><td>0.2378</td></tr><tr><td>train_loss</td><td>0.14253</td></tr><tr><td>train_runtime</td><td>178.0011</td></tr><tr><td>train_samples_per_second</td><td>84.662</td></tr><tr><td>train_steps_per_second</td><td>10.618</td></tr></table><br/></div></div>"
      ],
      "text/plain": [
       "<IPython.core.display.HTML object>"
      ]
     },
     "metadata": {},
     "output_type": "display_data"
    },
    {
     "data": {
      "text/html": [
       " View run <strong style=\"color:#cdcd00\">python_epoch-10_batchSize-8_weightsOfDecay-0.01</strong> at: <a href='https://wandb.ai/ayoungren-colostate/NBSE2025_GridSearch_3/runs/uj32ondw' target=\"_blank\">https://wandb.ai/ayoungren-colostate/NBSE2025_GridSearch_3/runs/uj32ondw</a><br/> View project at: <a href='https://wandb.ai/ayoungren-colostate/NBSE2025_GridSearch_3' target=\"_blank\">https://wandb.ai/ayoungren-colostate/NBSE2025_GridSearch_3</a><br/>Synced 5 W&B file(s), 0 media file(s), 0 artifact file(s) and 0 other file(s)"
      ],
      "text/plain": [
       "<IPython.core.display.HTML object>"
      ]
     },
     "metadata": {},
     "output_type": "display_data"
    },
    {
     "data": {
      "text/html": [
       "Find logs at: <code>.\\wandb\\run-20241207_052335-uj32ondw\\logs</code>"
      ],
      "text/plain": [
       "<IPython.core.display.HTML object>"
      ]
     },
     "metadata": {},
     "output_type": "display_data"
    },
    {
     "data": {
      "text/html": [
       "Successfully finished last run (ID:uj32ondw). Initializing new run:<br/>"
      ],
      "text/plain": [
       "<IPython.core.display.HTML object>"
      ]
     },
     "metadata": {},
     "output_type": "display_data"
    },
    {
     "data": {
      "text/html": [
       "Tracking run with wandb version 0.18.7"
      ],
      "text/plain": [
       "<IPython.core.display.HTML object>"
      ]
     },
     "metadata": {},
     "output_type": "display_data"
    },
    {
     "data": {
      "text/html": [
       "Run data is saved locally in <code>c:\\Development\\TactitalTensorsFinalProject\\wandb\\run-20241207_054032-v5ma2f0c</code>"
      ],
      "text/plain": [
       "<IPython.core.display.HTML object>"
      ]
     },
     "metadata": {},
     "output_type": "display_data"
    },
    {
     "data": {
      "text/html": [
       "Syncing run <strong><a href='https://wandb.ai/ayoungren-colostate/NBSE2025_GridSearch_3/runs/v5ma2f0c' target=\"_blank\">pharo_epoch-10_batchSize-8_weightsOfDecay-0.01</a></strong> to <a href='https://wandb.ai/ayoungren-colostate/NBSE2025_GridSearch_3' target=\"_blank\">Weights & Biases</a> (<a href='https://wandb.me/developer-guide' target=\"_blank\">docs</a>)<br/>"
      ],
      "text/plain": [
       "<IPython.core.display.HTML object>"
      ]
     },
     "metadata": {},
     "output_type": "display_data"
    },
    {
     "data": {
      "text/html": [
       " View project at <a href='https://wandb.ai/ayoungren-colostate/NBSE2025_GridSearch_3' target=\"_blank\">https://wandb.ai/ayoungren-colostate/NBSE2025_GridSearch_3</a>"
      ],
      "text/plain": [
       "<IPython.core.display.HTML object>"
      ]
     },
     "metadata": {},
     "output_type": "display_data"
    },
    {
     "data": {
      "text/html": [
       " View run at <a href='https://wandb.ai/ayoungren-colostate/NBSE2025_GridSearch_3/runs/v5ma2f0c' target=\"_blank\">https://wandb.ai/ayoungren-colostate/NBSE2025_GridSearch_3/runs/v5ma2f0c</a>"
      ],
      "text/plain": [
       "<IPython.core.display.HTML object>"
      ]
     },
     "metadata": {},
     "output_type": "display_data"
    },
    {
     "name": "stderr",
     "output_type": "stream",
     "text": [
      "c:\\Users\\ayoun\\Miniconda3\\envs\\nbse2025\\lib\\site-packages\\torch\\_utils.py:776: UserWarning: TypedStorage is deprecated. It will be removed in the future and UntypedStorage will be the only storage class. This should only matter to you if you are using storages directly.  To access UntypedStorage directly, use tensor.untyped_storage() instead of tensor.storage()\n",
      "  return self.fget.__get__(instance, owner)()\n",
      "Some weights of RobertaForSequenceClassification were not initialized from the model checkpoint at microsoft/codebert-base and are newly initialized: ['classifier.dense.bias', 'classifier.dense.weight', 'classifier.out_proj.bias', 'classifier.out_proj.weight']\n",
      "You should probably TRAIN this model on a down-stream task to be able to use it for predictions and inference.\n",
      "Map: 100%|██████████| 1298/1298 [00:00<00:00, 10985.75 examples/s]\n",
      " 10%|▉         | 129/1300 [00:09<01:26, 13.53it/s]\n",
      " 10%|█         | 130/1300 [00:10<01:26, 13.53it/s]"
     ]
    },
    {
     "name": "stdout",
     "output_type": "stream",
     "text": [
      "\n",
      " ** Evaluating metrics for pharo test set. ** \n",
      "\n",
      "{'eval_loss': 0.30981549620628357, 'eval_f1': 0.11892675852066714, 'eval_precision': 0.12202380952380952, 'eval_recall': 0.11598302687411599, 'eval_runtime': 0.672, 'eval_samples_per_second': 386.913, 'eval_steps_per_second': 49.108, 'epoch': 1.0}\n"
     ]
    },
    {
     "name": "stderr",
     "output_type": "stream",
     "text": [
      " 20%|█▉        | 259/1300 [00:21<01:18, 13.21it/s]\n",
      " 20%|██        | 260/1300 [00:22<01:18, 13.21it/s]"
     ]
    },
    {
     "name": "stdout",
     "output_type": "stream",
     "text": [
      "\n",
      " ** Evaluating metrics for pharo test set. ** \n",
      "\n",
      "{'eval_loss': 0.256124883890152, 'eval_f1': 0.44793670307468564, 'eval_precision': 0.6031933504602506, 'eval_recall': 0.3705852385636214, 'eval_runtime': 0.7298, 'eval_samples_per_second': 356.274, 'eval_steps_per_second': 45.219, 'epoch': 2.0}\n"
     ]
    },
    {
     "name": "stderr",
     "output_type": "stream",
     "text": [
      " 30%|██▉       | 389/1300 [00:33<01:07, 13.58it/s]\n",
      " 30%|███       | 390/1300 [00:34<01:06, 13.58it/s]"
     ]
    },
    {
     "name": "stdout",
     "output_type": "stream",
     "text": [
      "\n",
      " ** Evaluating metrics for pharo test set. ** \n",
      "\n",
      "{'eval_loss': 0.2330305427312851, 'eval_f1': 0.503564130251988, 'eval_precision': 0.5704739602914065, 'eval_recall': 0.4536534420405041, 'eval_runtime': 0.6581, 'eval_samples_per_second': 395.071, 'eval_steps_per_second': 50.144, 'epoch': 3.0}\n"
     ]
    },
    {
     "name": "stderr",
     "output_type": "stream",
     "text": [
      " 40%|███▉      | 519/1300 [00:45<00:58, 13.35it/s]\n",
      " 40%|████      | 520/1300 [00:46<00:58, 13.35it/s]"
     ]
    },
    {
     "name": "stdout",
     "output_type": "stream",
     "text": [
      "\n",
      " ** Evaluating metrics for pharo test set. ** \n",
      "\n",
      "{'eval_loss': 0.22522272169589996, 'eval_f1': 0.6183768306139753, 'eval_precision': 0.8240020791100938, 'eval_recall': 0.5650555283149038, 'eval_runtime': 0.7398, 'eval_samples_per_second': 351.423, 'eval_steps_per_second': 44.604, 'epoch': 4.0}\n"
     ]
    },
    {
     "name": "stderr",
     "output_type": "stream",
     "text": [
      " 50%|████▉     | 649/1300 [00:57<00:47, 13.76it/s]\n",
      " 50%|█████     | 650/1300 [00:58<00:47, 13.76it/s]"
     ]
    },
    {
     "name": "stdout",
     "output_type": "stream",
     "text": [
      "\n",
      " ** Evaluating metrics for pharo test set. ** \n",
      "\n",
      "{'eval_loss': 0.23171879351139069, 'eval_f1': 0.5675504348463943, 'eval_precision': 0.7477889046437433, 'eval_recall': 0.5172275266697545, 'eval_runtime': 0.668, 'eval_samples_per_second': 389.199, 'eval_steps_per_second': 49.398, 'epoch': 5.0}\n"
     ]
    },
    {
     "name": "stderr",
     "output_type": "stream",
     "text": [
      " 60%|██████    | 780/1300 [01:09<00:39, 13.26it/s]\n",
      " 60%|██████    | 780/1300 [01:10<00:39, 13.26it/s]"
     ]
    },
    {
     "name": "stdout",
     "output_type": "stream",
     "text": [
      "\n",
      " ** Evaluating metrics for pharo test set. ** \n",
      "\n",
      "{'eval_loss': 0.22391551733016968, 'eval_f1': 0.6485154929610267, 'eval_precision': 0.8318027368247899, 'eval_recall': 0.5946178870692336, 'eval_runtime': 0.76, 'eval_samples_per_second': 342.091, 'eval_steps_per_second': 43.419, 'epoch': 6.0}\n"
     ]
    },
    {
     "name": "stderr",
     "output_type": "stream",
     "text": [
      " 70%|███████   | 910/1300 [01:21<00:28, 13.64it/s]\n",
      " 70%|███████   | 910/1300 [01:22<00:28, 13.64it/s]"
     ]
    },
    {
     "name": "stdout",
     "output_type": "stream",
     "text": [
      "\n",
      " ** Evaluating metrics for pharo test set. ** \n",
      "\n",
      "{'eval_loss': 0.22690364718437195, 'eval_f1': 0.6576772644930318, 'eval_precision': 0.869981052452374, 'eval_recall': 0.5913140317162645, 'eval_runtime': 0.6771, 'eval_samples_per_second': 384.006, 'eval_steps_per_second': 48.739, 'epoch': 7.0}\n"
     ]
    },
    {
     "name": "stderr",
     "output_type": "stream",
     "text": [
      " 77%|███████▋  | 1001/1300 [01:31<00:22, 13.41it/s]"
     ]
    },
    {
     "name": "stdout",
     "output_type": "stream",
     "text": [
      "{'loss': 0.1552, 'grad_norm': 0.9271907210350037, 'learning_rate': 1.153846153846154e-05, 'epoch': 7.69}\n"
     ]
    },
    {
     "name": "stderr",
     "output_type": "stream",
     "text": [
      " 80%|███████▉  | 1039/1300 [01:33<00:19, 13.12it/s]\n",
      " 80%|████████  | 1040/1300 [01:34<00:19, 13.12it/s]"
     ]
    },
    {
     "name": "stdout",
     "output_type": "stream",
     "text": [
      "\n",
      " ** Evaluating metrics for pharo test set. ** \n",
      "\n",
      "{'eval_loss': 0.23856432735919952, 'eval_f1': 0.6603418125649397, 'eval_precision': 0.7573890089571051, 'eval_recall': 0.6214056757048058, 'eval_runtime': 0.7362, 'eval_samples_per_second': 353.157, 'eval_steps_per_second': 44.824, 'epoch': 8.0}\n"
     ]
    },
    {
     "name": "stderr",
     "output_type": "stream",
     "text": [
      " 90%|████████▉ | 1169/1300 [01:48<00:09, 13.74it/s]\n",
      " 90%|█████████ | 1170/1300 [01:49<00:09, 13.74it/s]"
     ]
    },
    {
     "name": "stdout",
     "output_type": "stream",
     "text": [
      "\n",
      " ** Evaluating metrics for pharo test set. ** \n",
      "\n",
      "{'eval_loss': 0.23017580807209015, 'eval_f1': 0.6903460290572092, 'eval_precision': 0.8018711943225595, 'eval_recall': 0.6363470565124478, 'eval_runtime': 0.6732, 'eval_samples_per_second': 386.189, 'eval_steps_per_second': 49.016, 'epoch': 9.0}\n"
     ]
    },
    {
     "name": "stderr",
     "output_type": "stream",
     "text": [
      "100%|█████████▉| 1299/1300 [02:00<00:00, 13.72it/s]\n",
      "100%|██████████| 1300/1300 [02:02<00:00, 13.72it/s]"
     ]
    },
    {
     "name": "stdout",
     "output_type": "stream",
     "text": [
      "\n",
      " ** Evaluating metrics for pharo test set. ** \n",
      "\n",
      "{'eval_loss': 0.22841039299964905, 'eval_f1': 0.6946755969594316, 'eval_precision': 0.8064119638793249, 'eval_recall': 0.6388499190435989, 'eval_runtime': 0.7532, 'eval_samples_per_second': 345.216, 'eval_steps_per_second': 43.816, 'epoch': 10.0}\n"
     ]
    },
    {
     "name": "stderr",
     "output_type": "stream",
     "text": [
      "100%|██████████| 1300/1300 [02:05<00:00, 10.39it/s]\n"
     ]
    },
    {
     "name": "stdout",
     "output_type": "stream",
     "text": [
      "{'train_runtime': 125.1751, 'train_samples_per_second': 82.924, 'train_steps_per_second': 10.385, 'train_loss': 0.12794013903691218, 'epoch': 10.0}\n"
     ]
    },
    {
     "name": "stderr",
     "output_type": "stream",
     "text": [
      "100%|██████████| 33/33 [00:00<00:00, 42.24it/s]\n"
     ]
    },
    {
     "name": "stdout",
     "output_type": "stream",
     "text": [
      "\n",
      " ** Evaluating metrics for pharo test set. ** \n",
      "\n",
      "Evaluation Metrics: {'eval_loss': 0.22841039299964905, 'eval_f1': 0.6946755969594316, 'eval_precision': 0.8064119638793249, 'eval_recall': 0.6388499190435989, 'eval_runtime': 0.8436, 'eval_samples_per_second': 308.22, 'eval_steps_per_second': 39.12, 'epoch': 10.0}\n",
      "    comparison                                     model     lan  \\\n",
      "0   validation  epoch-10_batchSize-8_weightsOfDecay-0.01    java   \n",
      "1   validation  epoch-10_batchSize-8_weightsOfDecay-0.01    java   \n",
      "2   validation  epoch-10_batchSize-8_weightsOfDecay-0.01    java   \n",
      "3   validation  epoch-10_batchSize-8_weightsOfDecay-0.01    java   \n",
      "4   validation  epoch-10_batchSize-8_weightsOfDecay-0.01    java   \n",
      "5   validation  epoch-10_batchSize-8_weightsOfDecay-0.01    java   \n",
      "6   validation  epoch-10_batchSize-8_weightsOfDecay-0.01    java   \n",
      "7   validation  epoch-10_batchSize-8_weightsOfDecay-0.01  python   \n",
      "8   validation  epoch-10_batchSize-8_weightsOfDecay-0.01  python   \n",
      "9   validation  epoch-10_batchSize-8_weightsOfDecay-0.01  python   \n",
      "10  validation  epoch-10_batchSize-8_weightsOfDecay-0.01  python   \n",
      "11  validation  epoch-10_batchSize-8_weightsOfDecay-0.01  python   \n",
      "12  validation  epoch-10_batchSize-8_weightsOfDecay-0.01   pharo   \n",
      "13  validation  epoch-10_batchSize-8_weightsOfDecay-0.01   pharo   \n",
      "14  validation  epoch-10_batchSize-8_weightsOfDecay-0.01   pharo   \n",
      "15  validation  epoch-10_batchSize-8_weightsOfDecay-0.01   pharo   \n",
      "16  validation  epoch-10_batchSize-8_weightsOfDecay-0.01   pharo   \n",
      "17  validation  epoch-10_batchSize-8_weightsOfDecay-0.01   pharo   \n",
      "18  validation  epoch-10_batchSize-8_weightsOfDecay-0.01   pharo   \n",
      "\n",
      "                        cat  precision    recall        f1  \n",
      "0                   summary   0.931034  0.960171  0.945378  \n",
      "1                 Ownership   0.964912  1.000000  0.982143  \n",
      "2                    Expand   0.737864  0.745098  0.741463  \n",
      "3                     usage   0.969340  0.940503  0.954704  \n",
      "4                   Pointer   0.988571  0.915344  0.950549  \n",
      "5               deprecation   0.965517  0.933333  0.949153  \n",
      "6                  rational   0.638298  0.555556  0.594059  \n",
      "7                     Usage   0.927083  0.735537  0.820276  \n",
      "8                Parameters   0.836207  0.866071  0.850877  \n",
      "9          DevelopmentNotes   0.588235  0.750000  0.659341  \n",
      "10                   Expand   0.701493  0.681159  0.691176  \n",
      "11                  Summary   0.814286  0.780822  0.797203  \n",
      "12  Keyimplementationpoints   0.882353  0.714286  0.789474  \n",
      "13                  Example   0.934066  0.841584  0.885417  \n",
      "14         Responsibilities   0.707317  0.580000  0.637363  \n",
      "15          Classreferences   0.666667  0.166667  0.266667  \n",
      "16                   Intent   0.937500  0.789474  0.857143  \n",
      "17              Keymessages   0.716981  0.808511  0.760000  \n",
      "18            Collaborators   0.800000  0.571429  0.666667  \n",
      "------------------ Starting model ==> epochs: 15, batch size: 4, weights of decay: 0.01 ---------------------\n"
     ]
    },
    {
     "data": {
      "text/html": [
       "Finishing last run (ID:v5ma2f0c) before initializing another..."
      ],
      "text/plain": [
       "<IPython.core.display.HTML object>"
      ]
     },
     "metadata": {},
     "output_type": "display_data"
    },
    {
     "data": {
      "text/html": [
       "\n",
       "    <style>\n",
       "        .wandb-row {\n",
       "            display: flex;\n",
       "            flex-direction: row;\n",
       "            flex-wrap: wrap;\n",
       "            justify-content: flex-start;\n",
       "            width: 100%;\n",
       "        }\n",
       "        .wandb-col {\n",
       "            display: flex;\n",
       "            flex-direction: column;\n",
       "            flex-basis: 100%;\n",
       "            flex: 1;\n",
       "            padding: 10px;\n",
       "        }\n",
       "    </style>\n",
       "<div class=\"wandb-row\"><div class=\"wandb-col\"><h3>Run history:</h3><br/><table class=\"wandb\"><tr><td>eval/f1</td><td>▁▅▆▇▆▇█████</td></tr><tr><td>eval/loss</td><td>█▄▂▁▂▁▁▂▂▁▁</td></tr><tr><td>eval/precision</td><td>▁▆▅█▇██▇▇▇▇</td></tr><tr><td>eval/recall</td><td>▁▄▆▇▆▇▇████</td></tr><tr><td>eval/runtime</td><td>▂▄▁▄▁▅▂▄▂▅█</td></tr><tr><td>eval/samples_per_second</td><td>▇▅█▄█▄▇▅▇▄▁</td></tr><tr><td>eval/steps_per_second</td><td>▇▅█▄█▄▇▅▇▄▁</td></tr><tr><td>train/epoch</td><td>▁▂▃▃▄▅▆▆▆▇███</td></tr><tr><td>train/global_step</td><td>▁▂▃▃▄▅▆▆▆▇███</td></tr><tr><td>train/grad_norm</td><td>▁</td></tr><tr><td>train/learning_rate</td><td>▁</td></tr><tr><td>train/loss</td><td>▁</td></tr></table><br/></div><div class=\"wandb-col\"><h3>Run summary:</h3><br/><table class=\"wandb\"><tr><td>eval/f1</td><td>0.69468</td></tr><tr><td>eval/loss</td><td>0.22841</td></tr><tr><td>eval/precision</td><td>0.80641</td></tr><tr><td>eval/recall</td><td>0.63885</td></tr><tr><td>eval/runtime</td><td>0.8436</td></tr><tr><td>eval/samples_per_second</td><td>308.22</td></tr><tr><td>eval/steps_per_second</td><td>39.12</td></tr><tr><td>total_flos</td><td>682803840384000.0</td></tr><tr><td>train/epoch</td><td>10</td></tr><tr><td>train/global_step</td><td>1300</td></tr><tr><td>train/grad_norm</td><td>0.92719</td></tr><tr><td>train/learning_rate</td><td>1e-05</td></tr><tr><td>train/loss</td><td>0.1552</td></tr><tr><td>train_loss</td><td>0.12794</td></tr><tr><td>train_runtime</td><td>125.1751</td></tr><tr><td>train_samples_per_second</td><td>82.924</td></tr><tr><td>train_steps_per_second</td><td>10.385</td></tr></table><br/></div></div>"
      ],
      "text/plain": [
       "<IPython.core.display.HTML object>"
      ]
     },
     "metadata": {},
     "output_type": "display_data"
    },
    {
     "data": {
      "text/html": [
       " View run <strong style=\"color:#cdcd00\">pharo_epoch-10_batchSize-8_weightsOfDecay-0.01</strong> at: <a href='https://wandb.ai/ayoungren-colostate/NBSE2025_GridSearch_3/runs/v5ma2f0c' target=\"_blank\">https://wandb.ai/ayoungren-colostate/NBSE2025_GridSearch_3/runs/v5ma2f0c</a><br/> View project at: <a href='https://wandb.ai/ayoungren-colostate/NBSE2025_GridSearch_3' target=\"_blank\">https://wandb.ai/ayoungren-colostate/NBSE2025_GridSearch_3</a><br/>Synced 5 W&B file(s), 0 media file(s), 0 artifact file(s) and 0 other file(s)"
      ],
      "text/plain": [
       "<IPython.core.display.HTML object>"
      ]
     },
     "metadata": {},
     "output_type": "display_data"
    },
    {
     "data": {
      "text/html": [
       "Find logs at: <code>.\\wandb\\run-20241207_054032-v5ma2f0c\\logs</code>"
      ],
      "text/plain": [
       "<IPython.core.display.HTML object>"
      ]
     },
     "metadata": {},
     "output_type": "display_data"
    },
    {
     "data": {
      "text/html": [
       "Successfully finished last run (ID:v5ma2f0c). Initializing new run:<br/>"
      ],
      "text/plain": [
       "<IPython.core.display.HTML object>"
      ]
     },
     "metadata": {},
     "output_type": "display_data"
    },
    {
     "data": {
      "text/html": [
       "Tracking run with wandb version 0.18.7"
      ],
      "text/plain": [
       "<IPython.core.display.HTML object>"
      ]
     },
     "metadata": {},
     "output_type": "display_data"
    },
    {
     "data": {
      "text/html": [
       "Run data is saved locally in <code>c:\\Development\\TactitalTensorsFinalProject\\wandb\\run-20241207_055219-iwzqmi2c</code>"
      ],
      "text/plain": [
       "<IPython.core.display.HTML object>"
      ]
     },
     "metadata": {},
     "output_type": "display_data"
    },
    {
     "data": {
      "text/html": [
       "Syncing run <strong><a href='https://wandb.ai/ayoungren-colostate/NBSE2025_GridSearch_3/runs/iwzqmi2c' target=\"_blank\">java_epoch-15_batchSize-4_weightsOfDecay-0.01</a></strong> to <a href='https://wandb.ai/ayoungren-colostate/NBSE2025_GridSearch_3' target=\"_blank\">Weights & Biases</a> (<a href='https://wandb.me/developer-guide' target=\"_blank\">docs</a>)<br/>"
      ],
      "text/plain": [
       "<IPython.core.display.HTML object>"
      ]
     },
     "metadata": {},
     "output_type": "display_data"
    },
    {
     "data": {
      "text/html": [
       " View project at <a href='https://wandb.ai/ayoungren-colostate/NBSE2025_GridSearch_3' target=\"_blank\">https://wandb.ai/ayoungren-colostate/NBSE2025_GridSearch_3</a>"
      ],
      "text/plain": [
       "<IPython.core.display.HTML object>"
      ]
     },
     "metadata": {},
     "output_type": "display_data"
    },
    {
     "data": {
      "text/html": [
       " View run at <a href='https://wandb.ai/ayoungren-colostate/NBSE2025_GridSearch_3/runs/iwzqmi2c' target=\"_blank\">https://wandb.ai/ayoungren-colostate/NBSE2025_GridSearch_3/runs/iwzqmi2c</a>"
      ],
      "text/plain": [
       "<IPython.core.display.HTML object>"
      ]
     },
     "metadata": {},
     "output_type": "display_data"
    },
    {
     "name": "stderr",
     "output_type": "stream",
     "text": [
      "c:\\Users\\ayoun\\Miniconda3\\envs\\nbse2025\\lib\\site-packages\\torch\\_utils.py:776: UserWarning: TypedStorage is deprecated. It will be removed in the future and UntypedStorage will be the only storage class. This should only matter to you if you are using storages directly.  To access UntypedStorage directly, use tensor.untyped_storage() instead of tensor.storage()\n",
      "  return self.fget.__get__(instance, owner)()\n",
      "Some weights of RobertaForSequenceClassification were not initialized from the model checkpoint at microsoft/codebert-base and are newly initialized: ['classifier.dense.bias', 'classifier.dense.weight', 'classifier.out_proj.bias', 'classifier.out_proj.weight']\n",
      "You should probably TRAIN this model on a down-stream task to be able to use it for predictions and inference.\n",
      "Map: 100%|██████████| 7614/7614 [00:00<00:00, 16597.25 examples/s]\n",
      "  4%|▍         | 1003/22845 [01:02<22:54, 15.89it/s]"
     ]
    },
    {
     "name": "stdout",
     "output_type": "stream",
     "text": [
      "{'loss': 0.1611, 'grad_norm': 0.3325408101081848, 'learning_rate': 4.781133727292624e-05, 'epoch': 0.66}\n"
     ]
    },
    {
     "name": "stderr",
     "output_type": "stream",
     "text": [
      "  7%|▋         | 1523/22845 [01:35<22:01, 16.14it/s]\n",
      "  7%|▋         | 1523/22845 [01:41<22:01, 16.14it/s]"
     ]
    },
    {
     "name": "stdout",
     "output_type": "stream",
     "text": [
      "\n",
      " ** Evaluating metrics for java test set. ** \n",
      "\n",
      "{'eval_loss': 0.11084381490945816, 'eval_f1': 0.6492310932346846, 'eval_precision': 0.7789301738777731, 'eval_recall': 0.6242295121744385, 'eval_runtime': 5.8497, 'eval_samples_per_second': 260.356, 'eval_steps_per_second': 65.132, 'epoch': 1.0}\n"
     ]
    },
    {
     "name": "stderr",
     "output_type": "stream",
     "text": [
      "  9%|▉         | 2003/22845 [02:14<22:14, 15.62it/s]  "
     ]
    },
    {
     "name": "stdout",
     "output_type": "stream",
     "text": [
      "{'loss': 0.1116, 'grad_norm': 1.8992576599121094, 'learning_rate': 4.562267454585248e-05, 'epoch': 1.31}\n"
     ]
    },
    {
     "name": "stderr",
     "output_type": "stream",
     "text": [
      " 13%|█▎        | 3003/22845 [03:17<22:10, 14.92it/s]"
     ]
    },
    {
     "name": "stdout",
     "output_type": "stream",
     "text": [
      "{'loss': 0.0998, 'grad_norm': 1.768127202987671, 'learning_rate': 4.343401181877873e-05, 'epoch': 1.97}\n"
     ]
    },
    {
     "name": "stderr",
     "output_type": "stream",
     "text": [
      " 13%|█▎        | 3045/22845 [03:20<20:26, 16.14it/s]\n",
      " 13%|█▎        | 3046/22845 [03:26<20:26, 16.14it/s]"
     ]
    },
    {
     "name": "stdout",
     "output_type": "stream",
     "text": [
      "\n",
      " ** Evaluating metrics for java test set. ** \n",
      "\n",
      "{'eval_loss': 0.10014191269874573, 'eval_f1': 0.7679403871696643, 'eval_precision': 0.8336455298860128, 'eval_recall': 0.7343393769984543, 'eval_runtime': 6.4189, 'eval_samples_per_second': 237.269, 'eval_steps_per_second': 59.356, 'epoch': 2.0}\n"
     ]
    },
    {
     "name": "stderr",
     "output_type": "stream",
     "text": [
      " 18%|█▊        | 4003/22845 [04:29<19:50, 15.82it/s]  "
     ]
    },
    {
     "name": "stdout",
     "output_type": "stream",
     "text": [
      "{'loss': 0.0779, 'grad_norm': 0.030443362891674042, 'learning_rate': 4.1245349091704974e-05, 'epoch': 2.63}\n"
     ]
    },
    {
     "name": "stderr",
     "output_type": "stream",
     "text": [
      " 20%|██        | 4569/22845 [05:05<20:10, 15.10it/s]\n",
      " 20%|██        | 4569/22845 [05:12<20:10, 15.10it/s]"
     ]
    },
    {
     "name": "stdout",
     "output_type": "stream",
     "text": [
      "\n",
      " ** Evaluating metrics for java test set. ** \n",
      "\n",
      "{'eval_loss': 0.09067926555871964, 'eval_f1': 0.8212814567267772, 'eval_precision': 0.8424439508985818, 'eval_recall': 0.804577682805862, 'eval_runtime': 7.0744, 'eval_samples_per_second': 215.283, 'eval_steps_per_second': 53.856, 'epoch': 3.0}\n"
     ]
    },
    {
     "name": "stderr",
     "output_type": "stream",
     "text": [
      " 22%|██▏       | 5003/22845 [05:42<18:58, 15.67it/s]  "
     ]
    },
    {
     "name": "stdout",
     "output_type": "stream",
     "text": [
      "{'loss': 0.0677, 'grad_norm': 3.901862621307373, 'learning_rate': 3.9056686364631214e-05, 'epoch': 3.28}\n"
     ]
    },
    {
     "name": "stderr",
     "output_type": "stream",
     "text": [
      " 26%|██▋       | 6003/22845 [06:45<17:23, 16.14it/s]"
     ]
    },
    {
     "name": "stdout",
     "output_type": "stream",
     "text": [
      "{'loss': 0.0587, 'grad_norm': 1.4626305103302002, 'learning_rate': 3.6868023637557454e-05, 'epoch': 3.94}\n"
     ]
    },
    {
     "name": "stderr",
     "output_type": "stream",
     "text": [
      " 27%|██▋       | 6091/22845 [06:50<17:29, 15.96it/s]\n",
      " 27%|██▋       | 6092/22845 [06:57<17:29, 15.96it/s]"
     ]
    },
    {
     "name": "stdout",
     "output_type": "stream",
     "text": [
      "\n",
      " ** Evaluating metrics for java test set. ** \n",
      "\n",
      "{'eval_loss': 0.10941781848669052, 'eval_f1': 0.8234640159257571, 'eval_precision': 0.8663325589897487, 'eval_recall': 0.789837654951206, 'eval_runtime': 6.5343, 'eval_samples_per_second': 233.078, 'eval_steps_per_second': 58.308, 'epoch': 4.0}\n"
     ]
    },
    {
     "name": "stderr",
     "output_type": "stream",
     "text": [
      " 31%|███       | 7003/22845 [07:57<17:10, 15.38it/s]  "
     ]
    },
    {
     "name": "stdout",
     "output_type": "stream",
     "text": [
      "{'loss': 0.0414, 'grad_norm': 0.015991317108273506, 'learning_rate': 3.467936091048369e-05, 'epoch': 4.6}\n"
     ]
    },
    {
     "name": "stderr",
     "output_type": "stream",
     "text": [
      " 33%|███▎      | 7615/22845 [08:36<15:52, 15.99it/s]\n",
      " 33%|███▎      | 7615/22845 [08:42<15:52, 15.99it/s]"
     ]
    },
    {
     "name": "stdout",
     "output_type": "stream",
     "text": [
      "\n",
      " ** Evaluating metrics for java test set. ** \n",
      "\n",
      "{'eval_loss': 0.10832557827234268, 'eval_f1': 0.8193985240968432, 'eval_precision': 0.8348581810387269, 'eval_recall': 0.8074005971434965, 'eval_runtime': 6.0972, 'eval_samples_per_second': 249.786, 'eval_steps_per_second': 62.487, 'epoch': 5.0}\n"
     ]
    },
    {
     "name": "stderr",
     "output_type": "stream",
     "text": [
      " 35%|███▌      | 8003/22845 [09:08<15:50, 15.62it/s]  "
     ]
    },
    {
     "name": "stdout",
     "output_type": "stream",
     "text": [
      "{'loss': 0.0425, 'grad_norm': 0.007733296602964401, 'learning_rate': 3.249069818340994e-05, 'epoch': 5.25}\n"
     ]
    },
    {
     "name": "stderr",
     "output_type": "stream",
     "text": [
      " 39%|███▉      | 9001/22845 [10:11<15:20, 15.04it/s]"
     ]
    },
    {
     "name": "stdout",
     "output_type": "stream",
     "text": [
      "{'loss': 0.0321, 'grad_norm': 9.187843322753906, 'learning_rate': 3.030203545633618e-05, 'epoch': 5.91}\n"
     ]
    },
    {
     "name": "stderr",
     "output_type": "stream",
     "text": [
      " 40%|███▉      | 9137/22845 [10:20<13:54, 16.42it/s]\n",
      " 40%|████      | 9138/22845 [10:27<13:54, 16.42it/s]"
     ]
    },
    {
     "name": "stdout",
     "output_type": "stream",
     "text": [
      "\n",
      " ** Evaluating metrics for java test set. ** \n",
      "\n",
      "{'eval_loss': 0.1276833564043045, 'eval_f1': 0.8128157032465236, 'eval_precision': 0.8317564537973893, 'eval_recall': 0.797739694966778, 'eval_runtime': 6.2377, 'eval_samples_per_second': 244.161, 'eval_steps_per_second': 61.08, 'epoch': 6.0}\n"
     ]
    },
    {
     "name": "stderr",
     "output_type": "stream",
     "text": [
      " 44%|████▍     | 10003/22845 [11:24<13:23, 15.97it/s] "
     ]
    },
    {
     "name": "stdout",
     "output_type": "stream",
     "text": [
      "{'loss': 0.0276, 'grad_norm': 0.015057794749736786, 'learning_rate': 2.8113372729262422e-05, 'epoch': 6.57}\n"
     ]
    },
    {
     "name": "stderr",
     "output_type": "stream",
     "text": [
      " 47%|████▋     | 10661/22845 [12:05<13:20, 15.22it/s]\n",
      " 47%|████▋     | 10661/22845 [12:12<13:20, 15.22it/s]"
     ]
    },
    {
     "name": "stdout",
     "output_type": "stream",
     "text": [
      "\n",
      " ** Evaluating metrics for java test set. ** \n",
      "\n",
      "{'eval_loss': 0.11954731494188309, 'eval_f1': 0.8567114242659036, 'eval_precision': 0.8701219951019173, 'eval_recall': 0.8456170692657049, 'eval_runtime': 7.343, 'eval_samples_per_second': 207.409, 'eval_steps_per_second': 51.886, 'epoch': 7.0}\n"
     ]
    },
    {
     "name": "stderr",
     "output_type": "stream",
     "text": [
      " 48%|████▊     | 11003/22845 [12:36<12:40, 15.57it/s]  "
     ]
    },
    {
     "name": "stdout",
     "output_type": "stream",
     "text": [
      "{'loss': 0.0281, 'grad_norm': 0.005963919684290886, 'learning_rate': 2.5924710002188662e-05, 'epoch': 7.22}\n"
     ]
    },
    {
     "name": "stderr",
     "output_type": "stream",
     "text": [
      " 53%|█████▎    | 12003/22845 [13:38<11:25, 15.82it/s]"
     ]
    },
    {
     "name": "stdout",
     "output_type": "stream",
     "text": [
      "{'loss': 0.0195, 'grad_norm': 0.009913146495819092, 'learning_rate': 2.3736047275114905e-05, 'epoch': 7.88}\n"
     ]
    },
    {
     "name": "stderr",
     "output_type": "stream",
     "text": [
      " 53%|█████▎    | 12183/22845 [13:50<10:25, 17.05it/s]\n",
      " 53%|█████▎    | 12184/22845 [13:56<10:25, 17.05it/s]"
     ]
    },
    {
     "name": "stdout",
     "output_type": "stream",
     "text": [
      "\n",
      " ** Evaluating metrics for java test set. ** \n",
      "\n",
      "{'eval_loss': 0.1471843421459198, 'eval_f1': 0.8219376660714188, 'eval_precision': 0.8406370569701963, 'eval_recall': 0.8138597577591481, 'eval_runtime': 6.5095, 'eval_samples_per_second': 233.967, 'eval_steps_per_second': 58.53, 'epoch': 8.0}\n"
     ]
    },
    {
     "name": "stderr",
     "output_type": "stream",
     "text": [
      " 57%|█████▋    | 13003/22845 [14:49<10:48, 15.17it/s]  "
     ]
    },
    {
     "name": "stdout",
     "output_type": "stream",
     "text": [
      "{'loss': 0.0144, 'grad_norm': 0.16208408772945404, 'learning_rate': 2.1547384548041148e-05, 'epoch': 8.54}\n"
     ]
    },
    {
     "name": "stderr",
     "output_type": "stream",
     "text": [
      " 60%|██████    | 13707/22845 [15:35<10:15, 14.84it/s]\n",
      " 60%|██████    | 13707/22845 [15:41<10:15, 14.84it/s]"
     ]
    },
    {
     "name": "stdout",
     "output_type": "stream",
     "text": [
      "\n",
      " ** Evaluating metrics for java test set. ** \n",
      "\n",
      "{'eval_loss': 0.1447901725769043, 'eval_f1': 0.8439645621516749, 'eval_precision': 0.8399386139760242, 'eval_recall': 0.8515072127902157, 'eval_runtime': 5.9524, 'eval_samples_per_second': 255.863, 'eval_steps_per_second': 64.008, 'epoch': 9.0}\n"
     ]
    },
    {
     "name": "stderr",
     "output_type": "stream",
     "text": [
      " 61%|██████▏   | 14003/22845 [16:02<09:48, 15.02it/s]  "
     ]
    },
    {
     "name": "stdout",
     "output_type": "stream",
     "text": [
      "{'loss': 0.0126, 'grad_norm': 0.008744856342673302, 'learning_rate': 1.935872182096739e-05, 'epoch': 9.19}\n"
     ]
    },
    {
     "name": "stderr",
     "output_type": "stream",
     "text": [
      " 66%|██████▌   | 15003/22845 [17:05<08:21, 15.63it/s]"
     ]
    },
    {
     "name": "stdout",
     "output_type": "stream",
     "text": [
      "{'loss': 0.0117, 'grad_norm': 0.024110374972224236, 'learning_rate': 1.717005909389363e-05, 'epoch': 9.85}\n"
     ]
    },
    {
     "name": "stderr",
     "output_type": "stream",
     "text": [
      " 67%|██████▋   | 15229/22845 [17:19<07:43, 16.45it/s]\n",
      " 67%|██████▋   | 15230/22845 [17:26<07:43, 16.45it/s]"
     ]
    },
    {
     "name": "stdout",
     "output_type": "stream",
     "text": [
      "\n",
      " ** Evaluating metrics for java test set. ** \n",
      "\n",
      "{'eval_loss': 0.13178174197673798, 'eval_f1': 0.851337386195481, 'eval_precision': 0.8591047781604711, 'eval_recall': 0.8476675031719934, 'eval_runtime': 6.2152, 'eval_samples_per_second': 245.045, 'eval_steps_per_second': 61.302, 'epoch': 10.0}\n"
     ]
    },
    {
     "name": "stderr",
     "output_type": "stream",
     "text": [
      " 70%|███████   | 16003/22845 [18:16<06:59, 16.29it/s]  "
     ]
    },
    {
     "name": "stdout",
     "output_type": "stream",
     "text": [
      "{'loss': 0.0073, 'grad_norm': 0.004774145781993866, 'learning_rate': 1.4981396366819875e-05, 'epoch': 10.51}\n"
     ]
    },
    {
     "name": "stderr",
     "output_type": "stream",
     "text": [
      " 73%|███████▎  | 16753/22845 [19:03<07:02, 14.43it/s]\n",
      " 73%|███████▎  | 16753/22845 [19:10<07:02, 14.43it/s]"
     ]
    },
    {
     "name": "stdout",
     "output_type": "stream",
     "text": [
      "\n",
      " ** Evaluating metrics for java test set. ** \n",
      "\n",
      "{'eval_loss': 0.13862943649291992, 'eval_f1': 0.852465468109564, 'eval_precision': 0.8751025778368431, 'eval_recall': 0.8328960335998392, 'eval_runtime': 6.9265, 'eval_samples_per_second': 219.882, 'eval_steps_per_second': 55.006, 'epoch': 11.0}\n"
     ]
    },
    {
     "name": "stderr",
     "output_type": "stream",
     "text": [
      " 74%|███████▍  | 17003/22845 [19:27<06:12, 15.67it/s]  "
     ]
    },
    {
     "name": "stdout",
     "output_type": "stream",
     "text": [
      "{'loss': 0.007, 'grad_norm': 0.001335371402092278, 'learning_rate': 1.2792733639746115e-05, 'epoch': 11.16}\n"
     ]
    },
    {
     "name": "stderr",
     "output_type": "stream",
     "text": [
      " 79%|███████▉  | 18003/22845 [20:30<05:04, 15.90it/s]"
     ]
    },
    {
     "name": "stdout",
     "output_type": "stream",
     "text": [
      "{'loss': 0.0076, 'grad_norm': 0.0023039942607283592, 'learning_rate': 1.0604070912672358e-05, 'epoch': 11.82}\n"
     ]
    },
    {
     "name": "stderr",
     "output_type": "stream",
     "text": [
      " 80%|███████▉  | 18275/22845 [20:47<05:02, 15.11it/s]\n",
      " 80%|████████  | 18276/22845 [20:53<05:02, 15.11it/s]"
     ]
    },
    {
     "name": "stdout",
     "output_type": "stream",
     "text": [
      "\n",
      " ** Evaluating metrics for java test set. ** \n",
      "\n",
      "{'eval_loss': 0.14610664546489716, 'eval_f1': 0.853251748675697, 'eval_precision': 0.8763338654022833, 'eval_recall': 0.8342267244099829, 'eval_runtime': 6.7061, 'eval_samples_per_second': 227.106, 'eval_steps_per_second': 56.814, 'epoch': 12.0}\n"
     ]
    },
    {
     "name": "stderr",
     "output_type": "stream",
     "text": [
      " 83%|████████▎ | 19003/22845 [21:41<04:10, 15.34it/s]  "
     ]
    },
    {
     "name": "stdout",
     "output_type": "stream",
     "text": [
      "{'loss': 0.0035, 'grad_norm': 0.041132815182209015, 'learning_rate': 8.4154081855986e-06, 'epoch': 12.48}\n"
     ]
    },
    {
     "name": "stderr",
     "output_type": "stream",
     "text": [
      " 87%|████████▋ | 19799/22845 [22:32<03:10, 16.00it/s]\n",
      " 87%|████████▋ | 19799/22845 [22:38<03:10, 16.00it/s]"
     ]
    },
    {
     "name": "stdout",
     "output_type": "stream",
     "text": [
      "\n",
      " ** Evaluating metrics for java test set. ** \n",
      "\n",
      "{'eval_loss': 0.15286381542682648, 'eval_f1': 0.840699441967503, 'eval_precision': 0.8540016506532953, 'eval_recall': 0.8310567423483987, 'eval_runtime': 6.0473, 'eval_samples_per_second': 251.847, 'eval_steps_per_second': 63.003, 'epoch': 13.0}\n"
     ]
    },
    {
     "name": "stderr",
     "output_type": "stream",
     "text": [
      " 88%|████████▊ | 20003/22845 [22:53<03:03, 15.49it/s]  "
     ]
    },
    {
     "name": "stdout",
     "output_type": "stream",
     "text": [
      "{'loss': 0.0038, 'grad_norm': 0.024911383166909218, 'learning_rate': 6.2267454585248415e-06, 'epoch': 13.13}\n"
     ]
    },
    {
     "name": "stderr",
     "output_type": "stream",
     "text": [
      " 92%|█████████▏| 21003/22845 [23:56<02:01, 15.10it/s]"
     ]
    },
    {
     "name": "stdout",
     "output_type": "stream",
     "text": [
      "{'loss': 0.0042, 'grad_norm': 0.0013514080783352256, 'learning_rate': 4.038082731451084e-06, 'epoch': 13.79}\n"
     ]
    },
    {
     "name": "stderr",
     "output_type": "stream",
     "text": [
      " 93%|█████████▎| 21321/22845 [24:16<01:34, 16.06it/s]\n",
      " 93%|█████████▎| 21322/22845 [24:23<01:34, 16.06it/s]"
     ]
    },
    {
     "name": "stdout",
     "output_type": "stream",
     "text": [
      "\n",
      " ** Evaluating metrics for java test set. ** \n",
      "\n",
      "{'eval_loss': 0.14817935228347778, 'eval_f1': 0.8571621502276932, 'eval_precision': 0.8623635331028826, 'eval_recall': 0.8525724575740921, 'eval_runtime': 6.393, 'eval_samples_per_second': 238.229, 'eval_steps_per_second': 59.596, 'epoch': 14.0}\n"
     ]
    },
    {
     "name": "stderr",
     "output_type": "stream",
     "text": [
      " 96%|█████████▋| 22003/22845 [25:07<00:57, 14.74it/s]"
     ]
    },
    {
     "name": "stdout",
     "output_type": "stream",
     "text": [
      "{'loss': 0.0016, 'grad_norm': 0.05173032358288765, 'learning_rate': 1.8494200043773256e-06, 'epoch': 14.45}\n"
     ]
    },
    {
     "name": "stderr",
     "output_type": "stream",
     "text": [
      "100%|██████████| 22845/22845 [26:00<00:00, 15.73it/s]\n",
      "100%|██████████| 22845/22845 [26:08<00:00, 15.73it/s]"
     ]
    },
    {
     "name": "stdout",
     "output_type": "stream",
     "text": [
      "\n",
      " ** Evaluating metrics for java test set. ** \n",
      "\n",
      "{'eval_loss': 0.1533026397228241, 'eval_f1': 0.8559259057564066, 'eval_precision': 0.8600939530084342, 'eval_recall': 0.852404587841005, 'eval_runtime': 6.8668, 'eval_samples_per_second': 221.793, 'eval_steps_per_second': 55.485, 'epoch': 15.0}\n"
     ]
    },
    {
     "name": "stderr",
     "output_type": "stream",
     "text": [
      "100%|██████████| 22845/22845 [26:10<00:00, 14.54it/s]\n"
     ]
    },
    {
     "name": "stdout",
     "output_type": "stream",
     "text": [
      "{'train_runtime': 1570.8061, 'train_samples_per_second': 58.164, 'train_steps_per_second': 14.543, 'train_loss': 0.03690393449545794, 'epoch': 15.0}\n"
     ]
    },
    {
     "name": "stderr",
     "output_type": "stream",
     "text": [
      "100%|██████████| 381/381 [00:05<00:00, 68.51it/s]\n"
     ]
    },
    {
     "name": "stdout",
     "output_type": "stream",
     "text": [
      "\n",
      " ** Evaluating metrics for java test set. ** \n",
      "\n",
      "Evaluation Metrics: {'eval_loss': 0.14817935228347778, 'eval_f1': 0.8571621502276932, 'eval_precision': 0.8623635331028826, 'eval_recall': 0.8525724575740921, 'eval_runtime': 5.5931, 'eval_samples_per_second': 272.299, 'eval_steps_per_second': 68.119, 'epoch': 15.0}\n"
     ]
    },
    {
     "data": {
      "text/html": [
       "Finishing last run (ID:iwzqmi2c) before initializing another..."
      ],
      "text/plain": [
       "<IPython.core.display.HTML object>"
      ]
     },
     "metadata": {},
     "output_type": "display_data"
    },
    {
     "data": {
      "text/html": [
       "\n",
       "    <style>\n",
       "        .wandb-row {\n",
       "            display: flex;\n",
       "            flex-direction: row;\n",
       "            flex-wrap: wrap;\n",
       "            justify-content: flex-start;\n",
       "            width: 100%;\n",
       "        }\n",
       "        .wandb-col {\n",
       "            display: flex;\n",
       "            flex-direction: column;\n",
       "            flex-basis: 100%;\n",
       "            flex: 1;\n",
       "            padding: 10px;\n",
       "        }\n",
       "    </style>\n",
       "<div class=\"wandb-row\"><div class=\"wandb-col\"><h3>Run history:</h3><br/><table class=\"wandb\"><tr><td>eval/f1</td><td>▁▅▇▇▇▇█▇████▇███</td></tr><tr><td>eval/loss</td><td>▃▂▁▃▃▅▄▇▇▆▆▇█▇█▇</td></tr><tr><td>eval/precision</td><td>▁▅▆▇▅▅█▅▅▇██▆▇▇▇</td></tr><tr><td>eval/recall</td><td>▁▄▇▆▇▆█▇██▇▇▇███</td></tr><tr><td>eval/runtime</td><td>▂▄▇▅▃▄█▅▂▃▆▅▃▄▆▁</td></tr><tr><td>eval/samples_per_second</td><td>▇▄▂▄▆▅▁▄▆▅▂▃▆▄▃█</td></tr><tr><td>eval/steps_per_second</td><td>▇▄▂▄▆▅▁▄▆▅▂▃▆▄▃█</td></tr><tr><td>train/epoch</td><td>▁▁▁▂▂▂▂▂▃▃▃▃▃▄▄▄▄▄▅▅▅▅▅▅▆▆▆▆▆▇▇▇▇▇█████</td></tr><tr><td>train/global_step</td><td>▁▁▁▂▂▂▂▂▃▃▃▃▃▄▄▄▄▄▅▅▅▅▅▅▆▆▆▆▆▇▇▇▇▇█████</td></tr><tr><td>train/grad_norm</td><td>▁▂▂▁▄▂▁▁█▁▁▁▁▁▁▁▁▁▁▁▁▁</td></tr><tr><td>train/learning_rate</td><td>██▇▇▇▆▆▆▅▅▅▄▄▄▃▃▃▂▂▂▁▁</td></tr><tr><td>train/loss</td><td>█▆▅▄▄▄▃▃▂▂▂▂▂▁▁▁▁▁▁▁▁▁</td></tr></table><br/></div><div class=\"wandb-col\"><h3>Run summary:</h3><br/><table class=\"wandb\"><tr><td>eval/f1</td><td>0.85716</td></tr><tr><td>eval/loss</td><td>0.14818</td></tr><tr><td>eval/precision</td><td>0.86236</td></tr><tr><td>eval/recall</td><td>0.85257</td></tr><tr><td>eval/runtime</td><td>5.5931</td></tr><tr><td>eval/samples_per_second</td><td>272.299</td></tr><tr><td>eval/steps_per_second</td><td>68.119</td></tr><tr><td>total_flos</td><td>6010055190432000.0</td></tr><tr><td>train/epoch</td><td>15</td></tr><tr><td>train/global_step</td><td>22845</td></tr><tr><td>train/grad_norm</td><td>0.05173</td></tr><tr><td>train/learning_rate</td><td>0.0</td></tr><tr><td>train/loss</td><td>0.0016</td></tr><tr><td>train_loss</td><td>0.0369</td></tr><tr><td>train_runtime</td><td>1570.8061</td></tr><tr><td>train_samples_per_second</td><td>58.164</td></tr><tr><td>train_steps_per_second</td><td>14.543</td></tr></table><br/></div></div>"
      ],
      "text/plain": [
       "<IPython.core.display.HTML object>"
      ]
     },
     "metadata": {},
     "output_type": "display_data"
    },
    {
     "data": {
      "text/html": [
       " View run <strong style=\"color:#cdcd00\">java_epoch-15_batchSize-4_weightsOfDecay-0.01</strong> at: <a href='https://wandb.ai/ayoungren-colostate/NBSE2025_GridSearch_3/runs/iwzqmi2c' target=\"_blank\">https://wandb.ai/ayoungren-colostate/NBSE2025_GridSearch_3/runs/iwzqmi2c</a><br/> View project at: <a href='https://wandb.ai/ayoungren-colostate/NBSE2025_GridSearch_3' target=\"_blank\">https://wandb.ai/ayoungren-colostate/NBSE2025_GridSearch_3</a><br/>Synced 5 W&B file(s), 0 media file(s), 0 artifact file(s) and 0 other file(s)"
      ],
      "text/plain": [
       "<IPython.core.display.HTML object>"
      ]
     },
     "metadata": {},
     "output_type": "display_data"
    },
    {
     "data": {
      "text/html": [
       "Find logs at: <code>.\\wandb\\run-20241207_055219-iwzqmi2c\\logs</code>"
      ],
      "text/plain": [
       "<IPython.core.display.HTML object>"
      ]
     },
     "metadata": {},
     "output_type": "display_data"
    },
    {
     "data": {
      "text/html": [
       "Successfully finished last run (ID:iwzqmi2c). Initializing new run:<br/>"
      ],
      "text/plain": [
       "<IPython.core.display.HTML object>"
      ]
     },
     "metadata": {},
     "output_type": "display_data"
    },
    {
     "data": {
      "text/html": [
       "Tracking run with wandb version 0.18.7"
      ],
      "text/plain": [
       "<IPython.core.display.HTML object>"
      ]
     },
     "metadata": {},
     "output_type": "display_data"
    },
    {
     "data": {
      "text/html": [
       "Run data is saved locally in <code>c:\\Development\\TactitalTensorsFinalProject\\wandb\\run-20241207_071534-s9zz4rz4</code>"
      ],
      "text/plain": [
       "<IPython.core.display.HTML object>"
      ]
     },
     "metadata": {},
     "output_type": "display_data"
    },
    {
     "data": {
      "text/html": [
       "Syncing run <strong><a href='https://wandb.ai/ayoungren-colostate/NBSE2025_GridSearch_3/runs/s9zz4rz4' target=\"_blank\">python_epoch-15_batchSize-4_weightsOfDecay-0.01</a></strong> to <a href='https://wandb.ai/ayoungren-colostate/NBSE2025_GridSearch_3' target=\"_blank\">Weights & Biases</a> (<a href='https://wandb.me/developer-guide' target=\"_blank\">docs</a>)<br/>"
      ],
      "text/plain": [
       "<IPython.core.display.HTML object>"
      ]
     },
     "metadata": {},
     "output_type": "display_data"
    },
    {
     "data": {
      "text/html": [
       " View project at <a href='https://wandb.ai/ayoungren-colostate/NBSE2025_GridSearch_3' target=\"_blank\">https://wandb.ai/ayoungren-colostate/NBSE2025_GridSearch_3</a>"
      ],
      "text/plain": [
       "<IPython.core.display.HTML object>"
      ]
     },
     "metadata": {},
     "output_type": "display_data"
    },
    {
     "data": {
      "text/html": [
       " View run at <a href='https://wandb.ai/ayoungren-colostate/NBSE2025_GridSearch_3/runs/s9zz4rz4' target=\"_blank\">https://wandb.ai/ayoungren-colostate/NBSE2025_GridSearch_3/runs/s9zz4rz4</a>"
      ],
      "text/plain": [
       "<IPython.core.display.HTML object>"
      ]
     },
     "metadata": {},
     "output_type": "display_data"
    },
    {
     "name": "stderr",
     "output_type": "stream",
     "text": [
      "c:\\Users\\ayoun\\Miniconda3\\envs\\nbse2025\\lib\\site-packages\\torch\\_utils.py:776: UserWarning: TypedStorage is deprecated. It will be removed in the future and UntypedStorage will be the only storage class. This should only matter to you if you are using storages directly.  To access UntypedStorage directly, use tensor.untyped_storage() instead of tensor.storage()\n",
      "  return self.fget.__get__(instance, owner)()\n",
      "Some weights of RobertaForSequenceClassification were not initialized from the model checkpoint at microsoft/codebert-base and are newly initialized: ['classifier.dense.bias', 'classifier.dense.weight', 'classifier.out_proj.bias', 'classifier.out_proj.weight']\n",
      "You should probably TRAIN this model on a down-stream task to be able to use it for predictions and inference.\n",
      "Map: 100%|██████████| 1884/1884 [00:00<00:00, 10009.85 examples/s]\n",
      "  7%|▋         | 377/5655 [00:24<05:04, 17.31it/s]\n",
      "  7%|▋         | 377/5655 [00:25<05:04, 17.31it/s]"
     ]
    },
    {
     "name": "stdout",
     "output_type": "stream",
     "text": [
      "\n",
      " ** Evaluating metrics for python test set. ** \n",
      "\n",
      "{'eval_loss': 0.31516456604003906, 'eval_f1': 0.4516626639061422, 'eval_precision': 0.5214957012236728, 'eval_recall': 0.3993407433164594, 'eval_runtime': 1.688, 'eval_samples_per_second': 223.344, 'eval_steps_per_second': 56.28, 'epoch': 1.0}\n"
     ]
    },
    {
     "name": "stderr",
     "output_type": "stream",
     "text": [
      " 13%|█▎        | 753/5655 [00:50<05:07, 15.95it/s]\n",
      " 13%|█▎        | 754/5655 [00:52<05:07, 15.95it/s]"
     ]
    },
    {
     "name": "stdout",
     "output_type": "stream",
     "text": [
      "\n",
      " ** Evaluating metrics for python test set. ** \n",
      "\n",
      "{'eval_loss': 0.3311464786529541, 'eval_f1': 0.5371053258123825, 'eval_precision': 0.6012222222222221, 'eval_recall': 0.5021425746992912, 'eval_runtime': 1.5441, 'eval_samples_per_second': 244.152, 'eval_steps_per_second': 61.524, 'epoch': 2.0}\n"
     ]
    },
    {
     "name": "stderr",
     "output_type": "stream",
     "text": [
      " 18%|█▊        | 1003/5655 [01:09<04:55, 15.77it/s]"
     ]
    },
    {
     "name": "stdout",
     "output_type": "stream",
     "text": [
      "{'loss': 0.3376, 'grad_norm': 2.7655694484710693, 'learning_rate': 4.1158267020335985e-05, 'epoch': 2.65}\n"
     ]
    },
    {
     "name": "stderr",
     "output_type": "stream",
     "text": [
      " 20%|██        | 1131/5655 [01:17<04:23, 17.19it/s]\n",
      " 20%|██        | 1131/5655 [01:19<04:23, 17.19it/s]"
     ]
    },
    {
     "name": "stdout",
     "output_type": "stream",
     "text": [
      "\n",
      " ** Evaluating metrics for python test set. ** \n",
      "\n",
      "{'eval_loss': 0.31990358233451843, 'eval_f1': 0.6618431682472778, 'eval_precision': 0.8159988468477948, 'eval_recall': 0.6050001933742255, 'eval_runtime': 1.5169, 'eval_samples_per_second': 248.531, 'eval_steps_per_second': 62.627, 'epoch': 3.0}\n"
     ]
    },
    {
     "name": "stderr",
     "output_type": "stream",
     "text": [
      " 27%|██▋       | 1507/5655 [01:44<04:11, 16.51it/s]\n",
      " 27%|██▋       | 1508/5655 [01:46<04:11, 16.51it/s]"
     ]
    },
    {
     "name": "stdout",
     "output_type": "stream",
     "text": [
      "\n",
      " ** Evaluating metrics for python test set. ** \n",
      "\n",
      "{'eval_loss': 0.332945853471756, 'eval_f1': 0.7111219611302848, 'eval_precision': 0.7951220798671594, 'eval_recall': 0.6608253352581686, 'eval_runtime': 1.5677, 'eval_samples_per_second': 240.48, 'eval_steps_per_second': 60.598, 'epoch': 4.0}\n"
     ]
    },
    {
     "name": "stderr",
     "output_type": "stream",
     "text": [
      " 33%|███▎      | 1885/5655 [02:11<03:51, 16.26it/s]\n",
      " 33%|███▎      | 1885/5655 [02:13<03:51, 16.26it/s]"
     ]
    },
    {
     "name": "stdout",
     "output_type": "stream",
     "text": [
      "\n",
      " ** Evaluating metrics for python test set. ** \n",
      "\n",
      "{'eval_loss': 0.3798815906047821, 'eval_f1': 0.7105963687263267, 'eval_precision': 0.7550464178074954, 'eval_recall': 0.6846583593099375, 'eval_runtime': 1.5886, 'eval_samples_per_second': 237.313, 'eval_steps_per_second': 59.8, 'epoch': 5.0}\n"
     ]
    },
    {
     "name": "stderr",
     "output_type": "stream",
     "text": [
      " 35%|███▌      | 2003/5655 [02:22<03:57, 15.36it/s]"
     ]
    },
    {
     "name": "stdout",
     "output_type": "stream",
     "text": [
      "{'loss': 0.1363, 'grad_norm': 0.09172403067350388, 'learning_rate': 3.2316534040671975e-05, 'epoch': 5.31}\n"
     ]
    },
    {
     "name": "stderr",
     "output_type": "stream",
     "text": [
      " 40%|███▉      | 2261/5655 [02:38<03:19, 17.02it/s]\n",
      " 40%|████      | 2262/5655 [02:40<03:19, 17.02it/s]"
     ]
    },
    {
     "name": "stdout",
     "output_type": "stream",
     "text": [
      "\n",
      " ** Evaluating metrics for python test set. ** \n",
      "\n",
      "{'eval_loss': 0.4240279197692871, 'eval_f1': 0.7253077197551555, 'eval_precision': 0.7575248210192768, 'eval_recall': 0.7029728656114763, 'eval_runtime': 1.5694, 'eval_samples_per_second': 240.22, 'eval_steps_per_second': 60.533, 'epoch': 6.0}\n"
     ]
    },
    {
     "name": "stderr",
     "output_type": "stream",
     "text": [
      " 47%|████▋     | 2639/5655 [03:05<03:05, 16.23it/s]\n",
      " 47%|████▋     | 2639/5655 [03:07<03:05, 16.23it/s]"
     ]
    },
    {
     "name": "stdout",
     "output_type": "stream",
     "text": [
      "\n",
      " ** Evaluating metrics for python test set. ** \n",
      "\n",
      "{'eval_loss': 0.4303051233291626, 'eval_f1': 0.730535582706135, 'eval_precision': 0.7422169509540574, 'eval_recall': 0.7226340745543193, 'eval_runtime': 1.6059, 'eval_samples_per_second': 234.756, 'eval_steps_per_second': 59.156, 'epoch': 7.0}\n"
     ]
    },
    {
     "name": "stderr",
     "output_type": "stream",
     "text": [
      " 53%|█████▎    | 3003/5655 [03:31<02:50, 15.53it/s]"
     ]
    },
    {
     "name": "stdout",
     "output_type": "stream",
     "text": [
      "{'loss': 0.0521, 'grad_norm': 0.04735327512025833, 'learning_rate': 2.347480106100796e-05, 'epoch': 7.96}\n"
     ]
    },
    {
     "name": "stderr",
     "output_type": "stream",
     "text": [
      " 53%|█████▎    | 3015/5655 [03:32<02:44, 16.03it/s]\n",
      " 53%|█████▎    | 3016/5655 [03:34<02:44, 16.03it/s]"
     ]
    },
    {
     "name": "stdout",
     "output_type": "stream",
     "text": [
      "\n",
      " ** Evaluating metrics for python test set. ** \n",
      "\n",
      "{'eval_loss': 0.4395894706249237, 'eval_f1': 0.7362242748448355, 'eval_precision': 0.7498362206582871, 'eval_recall': 0.7323337925092217, 'eval_runtime': 1.6031, 'eval_samples_per_second': 235.164, 'eval_steps_per_second': 59.259, 'epoch': 8.0}\n"
     ]
    },
    {
     "name": "stderr",
     "output_type": "stream",
     "text": [
      " 60%|██████    | 3393/5655 [03:59<02:16, 16.59it/s]\n",
      " 60%|██████    | 3393/5655 [04:01<02:16, 16.59it/s]"
     ]
    },
    {
     "name": "stdout",
     "output_type": "stream",
     "text": [
      "\n",
      " ** Evaluating metrics for python test set. ** \n",
      "\n",
      "{'eval_loss': 0.4536871016025543, 'eval_f1': 0.7643761778629841, 'eval_precision': 0.7626608174434261, 'eval_recall': 0.7677817444886588, 'eval_runtime': 1.6164, 'eval_samples_per_second': 233.231, 'eval_steps_per_second': 58.772, 'epoch': 9.0}\n"
     ]
    },
    {
     "name": "stderr",
     "output_type": "stream",
     "text": [
      " 67%|██████▋   | 3769/5655 [04:26<02:00, 15.62it/s]\n",
      " 67%|██████▋   | 3770/5655 [04:28<02:00, 15.62it/s]"
     ]
    },
    {
     "name": "stdout",
     "output_type": "stream",
     "text": [
      "\n",
      " ** Evaluating metrics for python test set. ** \n",
      "\n",
      "{'eval_loss': 0.49923962354660034, 'eval_f1': 0.7619170944378327, 'eval_precision': 0.7524672820404528, 'eval_recall': 0.7738530875066421, 'eval_runtime': 1.6164, 'eval_samples_per_second': 233.24, 'eval_steps_per_second': 58.774, 'epoch': 10.0}\n"
     ]
    },
    {
     "name": "stderr",
     "output_type": "stream",
     "text": [
      " 71%|███████   | 4003/5655 [04:44<01:40, 16.39it/s]"
     ]
    },
    {
     "name": "stdout",
     "output_type": "stream",
     "text": [
      "{'loss': 0.0199, 'grad_norm': 0.08224429935216904, 'learning_rate': 1.4633068081343945e-05, 'epoch': 10.61}\n"
     ]
    },
    {
     "name": "stderr",
     "output_type": "stream",
     "text": [
      " 73%|███████▎  | 4147/5655 [04:53<01:43, 14.61it/s]\n",
      " 73%|███████▎  | 4147/5655 [04:55<01:43, 14.61it/s]"
     ]
    },
    {
     "name": "stdout",
     "output_type": "stream",
     "text": [
      "\n",
      " ** Evaluating metrics for python test set. ** \n",
      "\n",
      "{'eval_loss': 0.472241073846817, 'eval_f1': 0.7614440920990179, 'eval_precision': 0.7643978317857606, 'eval_recall': 0.7602046344652875, 'eval_runtime': 1.6857, 'eval_samples_per_second': 223.64, 'eval_steps_per_second': 56.355, 'epoch': 11.0}\n"
     ]
    },
    {
     "name": "stderr",
     "output_type": "stream",
     "text": [
      " 80%|███████▉  | 4523/5655 [05:21<01:10, 16.08it/s]\n",
      " 80%|████████  | 4524/5655 [05:22<01:10, 16.08it/s]"
     ]
    },
    {
     "name": "stdout",
     "output_type": "stream",
     "text": [
      "\n",
      " ** Evaluating metrics for python test set. ** \n",
      "\n",
      "{'eval_loss': 0.49951818585395813, 'eval_f1': 0.7611856060397095, 'eval_precision': 0.7541173526455464, 'eval_recall': 0.7722541152965107, 'eval_runtime': 1.6877, 'eval_samples_per_second': 223.381, 'eval_steps_per_second': 56.29, 'epoch': 12.0}\n"
     ]
    },
    {
     "name": "stderr",
     "output_type": "stream",
     "text": [
      " 87%|████████▋ | 4901/5655 [05:48<00:48, 15.55it/s]\n",
      " 87%|████████▋ | 4901/5655 [05:50<00:48, 15.55it/s]"
     ]
    },
    {
     "name": "stdout",
     "output_type": "stream",
     "text": [
      "\n",
      " ** Evaluating metrics for python test set. ** \n",
      "\n",
      "{'eval_loss': 0.49406683444976807, 'eval_f1': 0.7712859567538934, 'eval_precision': 0.7720189257714292, 'eval_recall': 0.7724765220250899, 'eval_runtime': 1.7235, 'eval_samples_per_second': 218.746, 'eval_steps_per_second': 55.122, 'epoch': 13.0}\n"
     ]
    },
    {
     "name": "stderr",
     "output_type": "stream",
     "text": [
      " 88%|████████▊ | 5003/5655 [05:58<00:40, 15.90it/s]"
     ]
    },
    {
     "name": "stdout",
     "output_type": "stream",
     "text": [
      "{'loss': 0.0055, 'grad_norm': 0.021688014268875122, 'learning_rate': 5.7913351016799295e-06, 'epoch': 13.26}\n"
     ]
    },
    {
     "name": "stderr",
     "output_type": "stream",
     "text": [
      " 93%|█████████▎| 5277/5655 [06:15<00:25, 14.81it/s]\n",
      " 93%|█████████▎| 5278/5655 [06:17<00:25, 14.81it/s]"
     ]
    },
    {
     "name": "stdout",
     "output_type": "stream",
     "text": [
      "\n",
      " ** Evaluating metrics for python test set. ** \n",
      "\n",
      "{'eval_loss': 0.5060080289840698, 'eval_f1': 0.7688670256467869, 'eval_precision': 0.7644105195420984, 'eval_recall': 0.7749506046050255, 'eval_runtime': 2.1007, 'eval_samples_per_second': 179.464, 'eval_steps_per_second': 45.223, 'epoch': 14.0}\n"
     ]
    },
    {
     "name": "stderr",
     "output_type": "stream",
     "text": [
      "100%|██████████| 5655/5655 [06:43<00:00, 15.34it/s]\n",
      "100%|██████████| 5655/5655 [06:46<00:00, 15.34it/s]"
     ]
    },
    {
     "name": "stdout",
     "output_type": "stream",
     "text": [
      "\n",
      " ** Evaluating metrics for python test set. ** \n",
      "\n",
      "{'eval_loss': 0.5067896246910095, 'eval_f1': 0.7680649102582175, 'eval_precision': 0.7698968533751143, 'eval_recall': 0.7683323131377982, 'eval_runtime': 1.6981, 'eval_samples_per_second': 222.009, 'eval_steps_per_second': 55.944, 'epoch': 15.0}\n"
     ]
    },
    {
     "name": "stderr",
     "output_type": "stream",
     "text": [
      "100%|██████████| 5655/5655 [06:48<00:00, 13.84it/s]\n"
     ]
    },
    {
     "name": "stdout",
     "output_type": "stream",
     "text": [
      "{'train_runtime': 408.6347, 'train_samples_per_second': 55.318, 'train_steps_per_second': 13.839, 'train_loss': 0.09777756650083155, 'epoch': 15.0}\n"
     ]
    },
    {
     "name": "stderr",
     "output_type": "stream",
     "text": [
      "100%|██████████| 95/95 [00:01<00:00, 58.55it/s]\n"
     ]
    },
    {
     "name": "stdout",
     "output_type": "stream",
     "text": [
      "\n",
      " ** Evaluating metrics for python test set. ** \n",
      "\n",
      "Evaluation Metrics: {'eval_loss': 0.49406683444976807, 'eval_f1': 0.7712859567538934, 'eval_precision': 0.7720189257714292, 'eval_recall': 0.7724765220250899, 'eval_runtime': 1.6592, 'eval_samples_per_second': 227.216, 'eval_steps_per_second': 57.256, 'epoch': 15.0}\n"
     ]
    },
    {
     "data": {
      "text/html": [
       "Finishing last run (ID:s9zz4rz4) before initializing another..."
      ],
      "text/plain": [
       "<IPython.core.display.HTML object>"
      ]
     },
     "metadata": {},
     "output_type": "display_data"
    },
    {
     "data": {
      "text/html": [
       "\n",
       "    <style>\n",
       "        .wandb-row {\n",
       "            display: flex;\n",
       "            flex-direction: row;\n",
       "            flex-wrap: wrap;\n",
       "            justify-content: flex-start;\n",
       "            width: 100%;\n",
       "        }\n",
       "        .wandb-col {\n",
       "            display: flex;\n",
       "            flex-direction: column;\n",
       "            flex-basis: 100%;\n",
       "            flex: 1;\n",
       "            padding: 10px;\n",
       "        }\n",
       "    </style>\n",
       "<div class=\"wandb-row\"><div class=\"wandb-col\"><h3>Run history:</h3><br/><table class=\"wandb\"><tr><td>eval/f1</td><td>▁▃▆▇▇▇▇▇████████</td></tr><tr><td>eval/loss</td><td>▁▂▁▂▃▅▅▆▆█▇█████</td></tr><tr><td>eval/precision</td><td>▁▃██▇▇▆▆▇▆▇▇▇▇▇▇</td></tr><tr><td>eval/recall</td><td>▁▃▅▆▆▇▇▇████████</td></tr><tr><td>eval/runtime</td><td>▃▁▁▂▂▂▂▂▂▂▃▃▃█▃▃</td></tr><tr><td>eval/samples_per_second</td><td>▅██▇▇▇▇▇▆▆▅▅▅▁▅▆</td></tr><tr><td>eval/steps_per_second</td><td>▅██▇▇▇▇▇▆▆▅▅▅▁▅▆</td></tr><tr><td>train/epoch</td><td>▁▁▂▂▃▃▃▃▄▄▅▅▅▆▆▇▇▇▇███</td></tr><tr><td>train/global_step</td><td>▁▁▂▂▃▃▃▃▄▄▅▅▅▆▆▇▇▇▇███</td></tr><tr><td>train/grad_norm</td><td>█▁▁▁▁</td></tr><tr><td>train/learning_rate</td><td>█▆▄▃▁</td></tr><tr><td>train/loss</td><td>█▄▂▁▁</td></tr></table><br/></div><div class=\"wandb-col\"><h3>Run summary:</h3><br/><table class=\"wandb\"><tr><td>eval/f1</td><td>0.77129</td></tr><tr><td>eval/loss</td><td>0.49407</td></tr><tr><td>eval/precision</td><td>0.77202</td></tr><tr><td>eval/recall</td><td>0.77248</td></tr><tr><td>eval/runtime</td><td>1.6592</td></tr><tr><td>eval/samples_per_second</td><td>227.216</td></tr><tr><td>eval/steps_per_second</td><td>57.256</td></tr><tr><td>total_flos</td><td>1486946402599680.0</td></tr><tr><td>train/epoch</td><td>15</td></tr><tr><td>train/global_step</td><td>5655</td></tr><tr><td>train/grad_norm</td><td>0.02169</td></tr><tr><td>train/learning_rate</td><td>1e-05</td></tr><tr><td>train/loss</td><td>0.0055</td></tr><tr><td>train_loss</td><td>0.09778</td></tr><tr><td>train_runtime</td><td>408.6347</td></tr><tr><td>train_samples_per_second</td><td>55.318</td></tr><tr><td>train_steps_per_second</td><td>13.839</td></tr></table><br/></div></div>"
      ],
      "text/plain": [
       "<IPython.core.display.HTML object>"
      ]
     },
     "metadata": {},
     "output_type": "display_data"
    },
    {
     "data": {
      "text/html": [
       " View run <strong style=\"color:#cdcd00\">python_epoch-15_batchSize-4_weightsOfDecay-0.01</strong> at: <a href='https://wandb.ai/ayoungren-colostate/NBSE2025_GridSearch_3/runs/s9zz4rz4' target=\"_blank\">https://wandb.ai/ayoungren-colostate/NBSE2025_GridSearch_3/runs/s9zz4rz4</a><br/> View project at: <a href='https://wandb.ai/ayoungren-colostate/NBSE2025_GridSearch_3' target=\"_blank\">https://wandb.ai/ayoungren-colostate/NBSE2025_GridSearch_3</a><br/>Synced 5 W&B file(s), 0 media file(s), 0 artifact file(s) and 0 other file(s)"
      ],
      "text/plain": [
       "<IPython.core.display.HTML object>"
      ]
     },
     "metadata": {},
     "output_type": "display_data"
    },
    {
     "data": {
      "text/html": [
       "Find logs at: <code>.\\wandb\\run-20241207_071534-s9zz4rz4\\logs</code>"
      ],
      "text/plain": [
       "<IPython.core.display.HTML object>"
      ]
     },
     "metadata": {},
     "output_type": "display_data"
    },
    {
     "data": {
      "text/html": [
       "Successfully finished last run (ID:s9zz4rz4). Initializing new run:<br/>"
      ],
      "text/plain": [
       "<IPython.core.display.HTML object>"
      ]
     },
     "metadata": {},
     "output_type": "display_data"
    },
    {
     "data": {
      "text/html": [
       "Tracking run with wandb version 0.18.7"
      ],
      "text/plain": [
       "<IPython.core.display.HTML object>"
      ]
     },
     "metadata": {},
     "output_type": "display_data"
    },
    {
     "data": {
      "text/html": [
       "Run data is saved locally in <code>c:\\Development\\TactitalTensorsFinalProject\\wandb\\run-20241207_073632-cm4oax4f</code>"
      ],
      "text/plain": [
       "<IPython.core.display.HTML object>"
      ]
     },
     "metadata": {},
     "output_type": "display_data"
    },
    {
     "data": {
      "text/html": [
       "Syncing run <strong><a href='https://wandb.ai/ayoungren-colostate/NBSE2025_GridSearch_3/runs/cm4oax4f' target=\"_blank\">pharo_epoch-15_batchSize-4_weightsOfDecay-0.01</a></strong> to <a href='https://wandb.ai/ayoungren-colostate/NBSE2025_GridSearch_3' target=\"_blank\">Weights & Biases</a> (<a href='https://wandb.me/developer-guide' target=\"_blank\">docs</a>)<br/>"
      ],
      "text/plain": [
       "<IPython.core.display.HTML object>"
      ]
     },
     "metadata": {},
     "output_type": "display_data"
    },
    {
     "data": {
      "text/html": [
       " View project at <a href='https://wandb.ai/ayoungren-colostate/NBSE2025_GridSearch_3' target=\"_blank\">https://wandb.ai/ayoungren-colostate/NBSE2025_GridSearch_3</a>"
      ],
      "text/plain": [
       "<IPython.core.display.HTML object>"
      ]
     },
     "metadata": {},
     "output_type": "display_data"
    },
    {
     "data": {
      "text/html": [
       " View run at <a href='https://wandb.ai/ayoungren-colostate/NBSE2025_GridSearch_3/runs/cm4oax4f' target=\"_blank\">https://wandb.ai/ayoungren-colostate/NBSE2025_GridSearch_3/runs/cm4oax4f</a>"
      ],
      "text/plain": [
       "<IPython.core.display.HTML object>"
      ]
     },
     "metadata": {},
     "output_type": "display_data"
    },
    {
     "name": "stderr",
     "output_type": "stream",
     "text": [
      "c:\\Users\\ayoun\\Miniconda3\\envs\\nbse2025\\lib\\site-packages\\torch\\_utils.py:776: UserWarning: TypedStorage is deprecated. It will be removed in the future and UntypedStorage will be the only storage class. This should only matter to you if you are using storages directly.  To access UntypedStorage directly, use tensor.untyped_storage() instead of tensor.storage()\n",
      "  return self.fget.__get__(instance, owner)()\n",
      "Some weights of RobertaForSequenceClassification were not initialized from the model checkpoint at microsoft/codebert-base and are newly initialized: ['classifier.dense.bias', 'classifier.dense.weight', 'classifier.out_proj.bias', 'classifier.out_proj.weight']\n",
      "You should probably TRAIN this model on a down-stream task to be able to use it for predictions and inference.\n",
      "Map: 100%|██████████| 1298/1298 [00:00<00:00, 3738.15 examples/s]\n",
      "  7%|▋         | 259/3900 [00:16<04:04, 14.89it/s]\n",
      "  7%|▋         | 260/3900 [00:17<04:04, 14.89it/s]"
     ]
    },
    {
     "name": "stdout",
     "output_type": "stream",
     "text": [
      "\n",
      " ** Evaluating metrics for pharo test set. ** \n",
      "\n",
      "{'eval_loss': 0.3063732385635376, 'eval_f1': 0.18135467980295567, 'eval_precision': 0.3287313287313287, 'eval_recall': 0.17039453489421888, 'eval_runtime': 0.9384, 'eval_samples_per_second': 277.082, 'eval_steps_per_second': 69.27, 'epoch': 1.0}\n"
     ]
    },
    {
     "name": "stderr",
     "output_type": "stream",
     "text": [
      " 13%|█▎        | 519/3900 [00:35<03:26, 16.35it/s]\n",
      " 13%|█▎        | 520/3900 [00:36<03:26, 16.35it/s]"
     ]
    },
    {
     "name": "stdout",
     "output_type": "stream",
     "text": [
      "\n",
      " ** Evaluating metrics for pharo test set. ** \n",
      "\n",
      "{'eval_loss': 0.2488754242658615, 'eval_f1': 0.4411457033637484, 'eval_precision': 0.5890293916609706, 'eval_recall': 0.3621452409198686, 'eval_runtime': 1.0287, 'eval_samples_per_second': 252.739, 'eval_steps_per_second': 63.185, 'epoch': 2.0}\n"
     ]
    },
    {
     "name": "stderr",
     "output_type": "stream",
     "text": [
      " 20%|█▉        | 779/3900 [00:54<03:14, 16.01it/s]\n",
      " 20%|██        | 780/3900 [00:55<03:14, 16.01it/s]"
     ]
    },
    {
     "name": "stdout",
     "output_type": "stream",
     "text": [
      "\n",
      " ** Evaluating metrics for pharo test set. ** \n",
      "\n",
      "{'eval_loss': 0.2529616355895996, 'eval_f1': 0.4385414907797712, 'eval_precision': 0.5531757403422198, 'eval_recall': 0.403096350222814, 'eval_runtime': 1.0691, 'eval_samples_per_second': 243.192, 'eval_steps_per_second': 60.798, 'epoch': 3.0}\n"
     ]
    },
    {
     "name": "stderr",
     "output_type": "stream",
     "text": [
      " 26%|██▌       | 1003/3900 [01:11<03:04, 15.72it/s]"
     ]
    },
    {
     "name": "stdout",
     "output_type": "stream",
     "text": [
      "{'loss': 0.2334, 'grad_norm': 1.3214563131332397, 'learning_rate': 3.717948717948718e-05, 'epoch': 3.85}\n"
     ]
    },
    {
     "name": "stderr",
     "output_type": "stream",
     "text": [
      " 27%|██▋       | 1039/3900 [01:13<03:06, 15.30it/s]\n",
      " 27%|██▋       | 1040/3900 [01:15<03:06, 15.30it/s]"
     ]
    },
    {
     "name": "stdout",
     "output_type": "stream",
     "text": [
      "\n",
      " ** Evaluating metrics for pharo test set. ** \n",
      "\n",
      "{'eval_loss': 0.2262565940618515, 'eval_f1': 0.599112929557396, 'eval_precision': 0.6646286380905192, 'eval_recall': 0.5511883639400345, 'eval_runtime': 1.2779, 'eval_samples_per_second': 203.465, 'eval_steps_per_second': 50.866, 'epoch': 4.0}\n"
     ]
    },
    {
     "name": "stderr",
     "output_type": "stream",
     "text": [
      " 33%|███▎      | 1299/3900 [01:33<02:45, 15.73it/s]\n",
      " 33%|███▎      | 1300/3900 [01:34<02:45, 15.73it/s]"
     ]
    },
    {
     "name": "stdout",
     "output_type": "stream",
     "text": [
      "\n",
      " ** Evaluating metrics for pharo test set. ** \n",
      "\n",
      "{'eval_loss': 0.2670806348323822, 'eval_f1': 0.5879814600024214, 'eval_precision': 0.8628384203439688, 'eval_recall': 0.5384294428025886, 'eval_runtime': 0.9824, 'eval_samples_per_second': 264.655, 'eval_steps_per_second': 66.164, 'epoch': 5.0}\n"
     ]
    },
    {
     "name": "stderr",
     "output_type": "stream",
     "text": [
      " 40%|███▉      | 1559/3900 [01:52<02:25, 16.08it/s]\n",
      " 40%|████      | 1560/3900 [01:53<02:25, 16.08it/s]"
     ]
    },
    {
     "name": "stdout",
     "output_type": "stream",
     "text": [
      "\n",
      " ** Evaluating metrics for pharo test set. ** \n",
      "\n",
      "{'eval_loss': 0.2513812184333801, 'eval_f1': 0.6133046550382024, 'eval_precision': 0.8085017512159504, 'eval_recall': 0.5527074849542225, 'eval_runtime': 1.1244, 'eval_samples_per_second': 231.234, 'eval_steps_per_second': 57.809, 'epoch': 6.0}\n"
     ]
    },
    {
     "name": "stderr",
     "output_type": "stream",
     "text": [
      " 47%|████▋     | 1819/3900 [02:11<02:09, 16.08it/s]\n",
      " 47%|████▋     | 1820/3900 [02:12<02:09, 16.08it/s]"
     ]
    },
    {
     "name": "stdout",
     "output_type": "stream",
     "text": [
      "\n",
      " ** Evaluating metrics for pharo test set. ** \n",
      "\n",
      "{'eval_loss': 0.24446925520896912, 'eval_f1': 0.6990906893502445, 'eval_precision': 0.8431608357628766, 'eval_recall': 0.6502085572956133, 'eval_runtime': 1.1805, 'eval_samples_per_second': 220.249, 'eval_steps_per_second': 55.062, 'epoch': 7.0}\n"
     ]
    },
    {
     "name": "stderr",
     "output_type": "stream",
     "text": [
      " 51%|█████▏    | 2003/3900 [02:25<02:05, 15.09it/s]"
     ]
    },
    {
     "name": "stdout",
     "output_type": "stream",
     "text": [
      "{'loss': 0.0718, 'grad_norm': 0.04409731552004814, 'learning_rate': 2.435897435897436e-05, 'epoch': 7.69}\n"
     ]
    },
    {
     "name": "stderr",
     "output_type": "stream",
     "text": [
      " 53%|█████▎    | 2079/3900 [02:30<01:53, 16.01it/s]\n",
      " 53%|█████▎    | 2080/3900 [02:31<01:53, 16.01it/s]"
     ]
    },
    {
     "name": "stdout",
     "output_type": "stream",
     "text": [
      "\n",
      " ** Evaluating metrics for pharo test set. ** \n",
      "\n",
      "{'eval_loss': 0.25965821743011475, 'eval_f1': 0.6539823459892192, 'eval_precision': 0.7268505252057883, 'eval_recall': 0.6147889540879495, 'eval_runtime': 0.9786, 'eval_samples_per_second': 265.693, 'eval_steps_per_second': 66.423, 'epoch': 8.0}\n"
     ]
    },
    {
     "name": "stderr",
     "output_type": "stream",
     "text": [
      " 60%|█████▉    | 2339/3900 [02:49<01:34, 16.43it/s]\n",
      " 60%|██████    | 2340/3900 [02:50<01:34, 16.43it/s]"
     ]
    },
    {
     "name": "stdout",
     "output_type": "stream",
     "text": [
      "\n",
      " ** Evaluating metrics for pharo test set. ** \n",
      "\n",
      "{'eval_loss': 0.28283175826072693, 'eval_f1': 0.6444835140426924, 'eval_precision': 0.7329144238366789, 'eval_recall': 0.6017325303387573, 'eval_runtime': 1.0189, 'eval_samples_per_second': 255.168, 'eval_steps_per_second': 63.792, 'epoch': 9.0}\n"
     ]
    },
    {
     "name": "stderr",
     "output_type": "stream",
     "text": [
      " 67%|██████▋   | 2599/3900 [03:09<01:23, 15.61it/s]\n",
      " 67%|██████▋   | 2600/3900 [03:10<01:23, 15.61it/s]"
     ]
    },
    {
     "name": "stdout",
     "output_type": "stream",
     "text": [
      "\n",
      " ** Evaluating metrics for pharo test set. ** \n",
      "\n",
      "{'eval_loss': 0.28907275199890137, 'eval_f1': 0.6908479836438742, 'eval_precision': 0.7706460206460207, 'eval_recall': 0.65302504734556, 'eval_runtime': 1.0859, 'eval_samples_per_second': 239.434, 'eval_steps_per_second': 59.859, 'epoch': 10.0}\n"
     ]
    },
    {
     "name": "stderr",
     "output_type": "stream",
     "text": [
      " 73%|███████▎  | 2859/3900 [03:28<01:02, 16.68it/s]\n",
      " 73%|███████▎  | 2860/3900 [03:29<01:02, 16.68it/s]"
     ]
    },
    {
     "name": "stdout",
     "output_type": "stream",
     "text": [
      "\n",
      " ** Evaluating metrics for pharo test set. ** \n",
      "\n",
      "{'eval_loss': 0.28628990054130554, 'eval_f1': 0.686605863108022, 'eval_precision': 0.7419872191300764, 'eval_recall': 0.648185642866684, 'eval_runtime': 0.9781, 'eval_samples_per_second': 265.814, 'eval_steps_per_second': 66.454, 'epoch': 11.0}\n"
     ]
    },
    {
     "name": "stderr",
     "output_type": "stream",
     "text": [
      " 77%|███████▋  | 3003/3900 [03:40<00:59, 15.10it/s]"
     ]
    },
    {
     "name": "stdout",
     "output_type": "stream",
     "text": [
      "{'loss': 0.0252, 'grad_norm': 0.0244907233864069, 'learning_rate': 1.153846153846154e-05, 'epoch': 11.54}\n"
     ]
    },
    {
     "name": "stderr",
     "output_type": "stream",
     "text": [
      " 80%|███████▉  | 3119/3900 [03:47<00:50, 15.37it/s]\n",
      " 80%|████████  | 3120/3900 [03:48<00:50, 15.37it/s]"
     ]
    },
    {
     "name": "stdout",
     "output_type": "stream",
     "text": [
      "\n",
      " ** Evaluating metrics for pharo test set. ** \n",
      "\n",
      "{'eval_loss': 0.29149433970451355, 'eval_f1': 0.6820925562914752, 'eval_precision': 0.7396951894620729, 'eval_recall': 0.6497748743039397, 'eval_runtime': 1.0379, 'eval_samples_per_second': 250.51, 'eval_steps_per_second': 62.628, 'epoch': 12.0}\n"
     ]
    },
    {
     "name": "stderr",
     "output_type": "stream",
     "text": [
      " 87%|████████▋ | 3379/3900 [04:06<00:31, 16.48it/s]\n",
      " 87%|████████▋ | 3380/3900 [04:07<00:31, 16.48it/s]"
     ]
    },
    {
     "name": "stdout",
     "output_type": "stream",
     "text": [
      "\n",
      " ** Evaluating metrics for pharo test set. ** \n",
      "\n",
      "{'eval_loss': 0.2803678512573242, 'eval_f1': 0.7060660949103367, 'eval_precision': 0.7628543374515447, 'eval_recall': 0.6719622063675847, 'eval_runtime': 1.0563, 'eval_samples_per_second': 246.134, 'eval_steps_per_second': 61.534, 'epoch': 13.0}\n"
     ]
    },
    {
     "name": "stderr",
     "output_type": "stream",
     "text": [
      " 93%|█████████▎| 3639/3900 [04:25<00:17, 14.69it/s]\n",
      " 93%|█████████▎| 3640/3900 [04:27<00:17, 14.69it/s]"
     ]
    },
    {
     "name": "stdout",
     "output_type": "stream",
     "text": [
      "\n",
      " ** Evaluating metrics for pharo test set. ** \n",
      "\n",
      "{'eval_loss': 0.2870853841304779, 'eval_f1': 0.7022800094989124, 'eval_precision': 0.76000111000111, 'eval_recall': 0.6687403218691044, 'eval_runtime': 1.2978, 'eval_samples_per_second': 200.34, 'eval_steps_per_second': 50.085, 'epoch': 14.0}\n"
     ]
    },
    {
     "name": "stderr",
     "output_type": "stream",
     "text": [
      "100%|█████████▉| 3899/3900 [04:45<00:00, 16.66it/s]\n",
      "100%|██████████| 3900/3900 [04:48<00:00, 16.66it/s]"
     ]
    },
    {
     "name": "stdout",
     "output_type": "stream",
     "text": [
      "\n",
      " ** Evaluating metrics for pharo test set. ** \n",
      "\n",
      "{'eval_loss': 0.2923307418823242, 'eval_f1': 0.700610378236431, 'eval_precision': 0.7589147780324251, 'eval_recall': 0.6681961041820296, 'eval_runtime': 1.0079, 'eval_samples_per_second': 257.95, 'eval_steps_per_second': 64.488, 'epoch': 15.0}\n"
     ]
    },
    {
     "name": "stderr",
     "output_type": "stream",
     "text": [
      "100%|██████████| 3900/3900 [04:50<00:00, 13.42it/s]\n"
     ]
    },
    {
     "name": "stdout",
     "output_type": "stream",
     "text": [
      "{'train_runtime': 290.6435, 'train_samples_per_second': 53.571, 'train_steps_per_second': 13.419, 'train_loss': 0.08669038674770257, 'epoch': 15.0}\n"
     ]
    },
    {
     "name": "stderr",
     "output_type": "stream",
     "text": [
      "100%|██████████| 65/65 [00:01<00:00, 50.12it/s]\n"
     ]
    },
    {
     "name": "stdout",
     "output_type": "stream",
     "text": [
      "\n",
      " ** Evaluating metrics for pharo test set. ** \n",
      "\n",
      "Evaluation Metrics: {'eval_loss': 0.2803678512573242, 'eval_f1': 0.7060660949103367, 'eval_precision': 0.7628543374515447, 'eval_recall': 0.6719622063675847, 'eval_runtime': 1.3308, 'eval_samples_per_second': 195.376, 'eval_steps_per_second': 48.844, 'epoch': 15.0}\n",
      "    comparison                                     model     lan  \\\n",
      "0   validation  epoch-15_batchSize-4_weightsOfDecay-0.01    java   \n",
      "1   validation  epoch-15_batchSize-4_weightsOfDecay-0.01    java   \n",
      "2   validation  epoch-15_batchSize-4_weightsOfDecay-0.01    java   \n",
      "3   validation  epoch-15_batchSize-4_weightsOfDecay-0.01    java   \n",
      "4   validation  epoch-15_batchSize-4_weightsOfDecay-0.01    java   \n",
      "5   validation  epoch-15_batchSize-4_weightsOfDecay-0.01    java   \n",
      "6   validation  epoch-15_batchSize-4_weightsOfDecay-0.01    java   \n",
      "7   validation  epoch-15_batchSize-4_weightsOfDecay-0.01  python   \n",
      "8   validation  epoch-15_batchSize-4_weightsOfDecay-0.01  python   \n",
      "9   validation  epoch-15_batchSize-4_weightsOfDecay-0.01  python   \n",
      "10  validation  epoch-15_batchSize-4_weightsOfDecay-0.01  python   \n",
      "11  validation  epoch-15_batchSize-4_weightsOfDecay-0.01  python   \n",
      "12  validation  epoch-15_batchSize-4_weightsOfDecay-0.01   pharo   \n",
      "13  validation  epoch-15_batchSize-4_weightsOfDecay-0.01   pharo   \n",
      "14  validation  epoch-15_batchSize-4_weightsOfDecay-0.01   pharo   \n",
      "15  validation  epoch-15_batchSize-4_weightsOfDecay-0.01   pharo   \n",
      "16  validation  epoch-15_batchSize-4_weightsOfDecay-0.01   pharo   \n",
      "17  validation  epoch-15_batchSize-4_weightsOfDecay-0.01   pharo   \n",
      "18  validation  epoch-15_batchSize-4_weightsOfDecay-0.01   pharo   \n",
      "\n",
      "                        cat  precision    recall        f1  \n",
      "0                   summary   0.930748  0.955903  0.943158  \n",
      "1                 Ownership   0.964912  1.000000  0.982143  \n",
      "2                    Expand   0.686869  0.666667  0.676617  \n",
      "3                     usage   0.969412  0.942792  0.955916  \n",
      "4                   Pointer   0.971751  0.910053  0.939891  \n",
      "5               deprecation   0.931034  0.900000  0.915254  \n",
      "6                  rational   0.581818  0.592593  0.587156  \n",
      "7                     Usage   0.871560  0.785124  0.826087  \n",
      "8                Parameters   0.850877  0.866071  0.858407  \n",
      "9          DevelopmentNotes   0.666667  0.750000  0.705882  \n",
      "10                   Expand   0.676471  0.666667  0.671533  \n",
      "11                  Summary   0.794521  0.794521  0.794521  \n",
      "12  Keyimplementationpoints   0.815789  0.738095  0.775000  \n",
      "13                  Example   0.898990  0.881188  0.890000  \n",
      "14         Responsibilities   0.673469  0.660000  0.666667  \n",
      "15          Classreferences   0.600000  0.250000  0.352941  \n",
      "16                   Intent   0.939394  0.815789  0.873239  \n",
      "17              Keymessages   0.840909  0.787234  0.813187  \n",
      "18            Collaborators   0.571429  0.571429  0.571429  \n",
      "------------------ Starting model ==> epochs: 15, batch size: 8, weights of decay: 0.01 ---------------------\n"
     ]
    },
    {
     "data": {
      "text/html": [
       "Finishing last run (ID:cm4oax4f) before initializing another..."
      ],
      "text/plain": [
       "<IPython.core.display.HTML object>"
      ]
     },
     "metadata": {},
     "output_type": "display_data"
    },
    {
     "data": {
      "text/html": [
       "\n",
       "    <style>\n",
       "        .wandb-row {\n",
       "            display: flex;\n",
       "            flex-direction: row;\n",
       "            flex-wrap: wrap;\n",
       "            justify-content: flex-start;\n",
       "            width: 100%;\n",
       "        }\n",
       "        .wandb-col {\n",
       "            display: flex;\n",
       "            flex-direction: column;\n",
       "            flex-basis: 100%;\n",
       "            flex: 1;\n",
       "            padding: 10px;\n",
       "        }\n",
       "    </style>\n",
       "<div class=\"wandb-row\"><div class=\"wandb-col\"><h3>Run history:</h3><br/><table class=\"wandb\"><tr><td>eval/f1</td><td>▁▄▄▇▆▇█▇▇███████</td></tr><tr><td>eval/loss</td><td>█▃▃▁▅▃▃▄▆▆▆▇▆▆▇▆</td></tr><tr><td>eval/precision</td><td>▁▄▄▅█▇█▆▆▇▆▆▇▇▇▇</td></tr><tr><td>eval/recall</td><td>▁▄▄▆▆▆█▇▇███████</td></tr><tr><td>eval/runtime</td><td>▁▃▃▇▂▄▅▂▂▄▂▃▃▇▂█</td></tr><tr><td>eval/samples_per_second</td><td>█▆▅▂▇▄▃▇▆▅▇▆▅▁▆▁</td></tr><tr><td>eval/steps_per_second</td><td>█▆▅▂▇▄▃▇▆▅▇▆▅▁▆▁</td></tr><tr><td>train/epoch</td><td>▁▁▂▂▃▃▃▄▄▅▅▅▆▆▇▇▇███</td></tr><tr><td>train/global_step</td><td>▁▁▂▂▃▃▃▄▄▅▅▅▆▆▇▇▇███</td></tr><tr><td>train/grad_norm</td><td>█▁▁</td></tr><tr><td>train/learning_rate</td><td>█▄▁</td></tr><tr><td>train/loss</td><td>█▃▁</td></tr></table><br/></div><div class=\"wandb-col\"><h3>Run summary:</h3><br/><table class=\"wandb\"><tr><td>eval/f1</td><td>0.70607</td></tr><tr><td>eval/loss</td><td>0.28037</td></tr><tr><td>eval/precision</td><td>0.76285</td></tr><tr><td>eval/recall</td><td>0.67196</td></tr><tr><td>eval/runtime</td><td>1.3308</td></tr><tr><td>eval/samples_per_second</td><td>195.376</td></tr><tr><td>eval/steps_per_second</td><td>48.844</td></tr><tr><td>total_flos</td><td>1024205760576000.0</td></tr><tr><td>train/epoch</td><td>15</td></tr><tr><td>train/global_step</td><td>3900</td></tr><tr><td>train/grad_norm</td><td>0.02449</td></tr><tr><td>train/learning_rate</td><td>1e-05</td></tr><tr><td>train/loss</td><td>0.0252</td></tr><tr><td>train_loss</td><td>0.08669</td></tr><tr><td>train_runtime</td><td>290.6435</td></tr><tr><td>train_samples_per_second</td><td>53.571</td></tr><tr><td>train_steps_per_second</td><td>13.419</td></tr></table><br/></div></div>"
      ],
      "text/plain": [
       "<IPython.core.display.HTML object>"
      ]
     },
     "metadata": {},
     "output_type": "display_data"
    },
    {
     "data": {
      "text/html": [
       " View run <strong style=\"color:#cdcd00\">pharo_epoch-15_batchSize-4_weightsOfDecay-0.01</strong> at: <a href='https://wandb.ai/ayoungren-colostate/NBSE2025_GridSearch_3/runs/cm4oax4f' target=\"_blank\">https://wandb.ai/ayoungren-colostate/NBSE2025_GridSearch_3/runs/cm4oax4f</a><br/> View project at: <a href='https://wandb.ai/ayoungren-colostate/NBSE2025_GridSearch_3' target=\"_blank\">https://wandb.ai/ayoungren-colostate/NBSE2025_GridSearch_3</a><br/>Synced 5 W&B file(s), 0 media file(s), 0 artifact file(s) and 0 other file(s)"
      ],
      "text/plain": [
       "<IPython.core.display.HTML object>"
      ]
     },
     "metadata": {},
     "output_type": "display_data"
    },
    {
     "data": {
      "text/html": [
       "Find logs at: <code>.\\wandb\\run-20241207_073632-cm4oax4f\\logs</code>"
      ],
      "text/plain": [
       "<IPython.core.display.HTML object>"
      ]
     },
     "metadata": {},
     "output_type": "display_data"
    },
    {
     "data": {
      "text/html": [
       "Successfully finished last run (ID:cm4oax4f). Initializing new run:<br/>"
      ],
      "text/plain": [
       "<IPython.core.display.HTML object>"
      ]
     },
     "metadata": {},
     "output_type": "display_data"
    },
    {
     "data": {
      "text/html": [
       "Tracking run with wandb version 0.18.7"
      ],
      "text/plain": [
       "<IPython.core.display.HTML object>"
      ]
     },
     "metadata": {},
     "output_type": "display_data"
    },
    {
     "data": {
      "text/html": [
       "Run data is saved locally in <code>c:\\Development\\TactitalTensorsFinalProject\\wandb\\run-20241207_075117-6qp4aywk</code>"
      ],
      "text/plain": [
       "<IPython.core.display.HTML object>"
      ]
     },
     "metadata": {},
     "output_type": "display_data"
    },
    {
     "data": {
      "text/html": [
       "Syncing run <strong><a href='https://wandb.ai/ayoungren-colostate/NBSE2025_GridSearch_3/runs/6qp4aywk' target=\"_blank\">java_epoch-15_batchSize-8_weightsOfDecay-0.01</a></strong> to <a href='https://wandb.ai/ayoungren-colostate/NBSE2025_GridSearch_3' target=\"_blank\">Weights & Biases</a> (<a href='https://wandb.me/developer-guide' target=\"_blank\">docs</a>)<br/>"
      ],
      "text/plain": [
       "<IPython.core.display.HTML object>"
      ]
     },
     "metadata": {},
     "output_type": "display_data"
    },
    {
     "data": {
      "text/html": [
       " View project at <a href='https://wandb.ai/ayoungren-colostate/NBSE2025_GridSearch_3' target=\"_blank\">https://wandb.ai/ayoungren-colostate/NBSE2025_GridSearch_3</a>"
      ],
      "text/plain": [
       "<IPython.core.display.HTML object>"
      ]
     },
     "metadata": {},
     "output_type": "display_data"
    },
    {
     "data": {
      "text/html": [
       " View run at <a href='https://wandb.ai/ayoungren-colostate/NBSE2025_GridSearch_3/runs/6qp4aywk' target=\"_blank\">https://wandb.ai/ayoungren-colostate/NBSE2025_GridSearch_3/runs/6qp4aywk</a>"
      ],
      "text/plain": [
       "<IPython.core.display.HTML object>"
      ]
     },
     "metadata": {},
     "output_type": "display_data"
    },
    {
     "name": "stderr",
     "output_type": "stream",
     "text": [
      "c:\\Users\\ayoun\\Miniconda3\\envs\\nbse2025\\lib\\site-packages\\torch\\_utils.py:776: UserWarning: TypedStorage is deprecated. It will be removed in the future and UntypedStorage will be the only storage class. This should only matter to you if you are using storages directly.  To access UntypedStorage directly, use tensor.untyped_storage() instead of tensor.storage()\n",
      "  return self.fget.__get__(instance, owner)()\n",
      "Some weights of RobertaForSequenceClassification were not initialized from the model checkpoint at microsoft/codebert-base and are newly initialized: ['classifier.dense.bias', 'classifier.dense.weight', 'classifier.out_proj.bias', 'classifier.out_proj.weight']\n",
      "You should probably TRAIN this model on a down-stream task to be able to use it for predictions and inference.\n",
      "Map: 100%|██████████| 7614/7614 [00:00<00:00, 16338.53 examples/s]\n",
      "  7%|▋         | 761/11430 [00:56<13:15, 13.41it/s]\n",
      "  7%|▋         | 762/11430 [01:00<13:15, 13.41it/s]"
     ]
    },
    {
     "name": "stdout",
     "output_type": "stream",
     "text": [
      "\n",
      " ** Evaluating metrics for java test set. ** \n",
      "\n",
      "{'eval_loss': 0.11700481176376343, 'eval_f1': 0.6384419035146587, 'eval_precision': 0.655397790563792, 'eval_recall': 0.6273599055553943, 'eval_runtime': 3.8238, 'eval_samples_per_second': 398.3, 'eval_steps_per_second': 49.951, 'epoch': 1.0}\n"
     ]
    },
    {
     "name": "stderr",
     "output_type": "stream",
     "text": [
      "  9%|▉         | 1002/11430 [01:19<13:25, 12.94it/s] "
     ]
    },
    {
     "name": "stdout",
     "output_type": "stream",
     "text": [
      "{'loss': 0.1304, 'grad_norm': 3.15448260307312, 'learning_rate': 4.562554680664917e-05, 'epoch': 1.31}\n"
     ]
    },
    {
     "name": "stderr",
     "output_type": "stream",
     "text": [
      " 13%|█▎        | 1524/11430 [01:58<12:16, 13.45it/s]\n",
      " 13%|█▎        | 1524/11430 [02:02<12:16, 13.45it/s]"
     ]
    },
    {
     "name": "stdout",
     "output_type": "stream",
     "text": [
      "\n",
      " ** Evaluating metrics for java test set. ** \n",
      "\n",
      "{'eval_loss': 0.08623529970645905, 'eval_f1': 0.7916186891702456, 'eval_precision': 0.8787048895456192, 'eval_recall': 0.7405206025208717, 'eval_runtime': 4.0488, 'eval_samples_per_second': 376.163, 'eval_steps_per_second': 47.175, 'epoch': 2.0}\n"
     ]
    },
    {
     "name": "stderr",
     "output_type": "stream",
     "text": [
      " 18%|█▊        | 2001/11430 [02:40<11:56, 13.16it/s]  "
     ]
    },
    {
     "name": "stdout",
     "output_type": "stream",
     "text": [
      "{'loss': 0.0745, 'grad_norm': 0.04900272935628891, 'learning_rate': 4.125109361329834e-05, 'epoch': 2.62}\n"
     ]
    },
    {
     "name": "stderr",
     "output_type": "stream",
     "text": [
      " 20%|█▉        | 2285/11430 [03:01<11:23, 13.38it/s]\n",
      " 20%|██        | 2286/11430 [03:05<11:23, 13.38it/s]"
     ]
    },
    {
     "name": "stdout",
     "output_type": "stream",
     "text": [
      "\n",
      " ** Evaluating metrics for java test set. ** \n",
      "\n",
      "{'eval_loss': 0.09296096861362457, 'eval_f1': 0.8313916241873213, 'eval_precision': 0.8382751483825316, 'eval_recall': 0.8269447613158555, 'eval_runtime': 4.0131, 'eval_samples_per_second': 379.505, 'eval_steps_per_second': 47.594, 'epoch': 3.0}\n"
     ]
    },
    {
     "name": "stderr",
     "output_type": "stream",
     "text": [
      " 26%|██▋       | 3002/11430 [04:02<10:40, 13.16it/s]  "
     ]
    },
    {
     "name": "stdout",
     "output_type": "stream",
     "text": [
      "{'loss': 0.0492, 'grad_norm': 1.1734230518341064, 'learning_rate': 3.6876640419947505e-05, 'epoch': 3.94}\n"
     ]
    },
    {
     "name": "stderr",
     "output_type": "stream",
     "text": [
      " 27%|██▋       | 3048/11430 [04:05<10:22, 13.46it/s]\n",
      " 27%|██▋       | 3048/11430 [04:09<10:22, 13.46it/s]"
     ]
    },
    {
     "name": "stdout",
     "output_type": "stream",
     "text": [
      "\n",
      " ** Evaluating metrics for java test set. ** \n",
      "\n",
      "{'eval_loss': 0.09235883504152298, 'eval_f1': 0.8438790225329642, 'eval_precision': 0.8767866992313017, 'eval_recall': 0.8198283319622474, 'eval_runtime': 4.1213, 'eval_samples_per_second': 369.548, 'eval_steps_per_second': 46.345, 'epoch': 4.0}\n"
     ]
    },
    {
     "name": "stderr",
     "output_type": "stream",
     "text": [
      " 33%|███▎      | 3810/11430 [05:09<09:08, 13.90it/s]  \n",
      " 33%|███▎      | 3810/11430 [05:13<09:08, 13.90it/s]"
     ]
    },
    {
     "name": "stdout",
     "output_type": "stream",
     "text": [
      "\n",
      " ** Evaluating metrics for java test set. ** \n",
      "\n",
      "{'eval_loss': 0.09970040619373322, 'eval_f1': 0.8535481164766842, 'eval_precision': 0.86607452782873, 'eval_recall': 0.8425144669092134, 'eval_runtime': 3.9787, 'eval_samples_per_second': 382.792, 'eval_steps_per_second': 48.006, 'epoch': 5.0}\n"
     ]
    },
    {
     "name": "stderr",
     "output_type": "stream",
     "text": [
      " 35%|███▌      | 4002/11430 [05:30<09:24, 13.16it/s]  "
     ]
    },
    {
     "name": "stdout",
     "output_type": "stream",
     "text": [
      "{'loss': 0.0278, 'grad_norm': 0.29567044973373413, 'learning_rate': 3.2502187226596675e-05, 'epoch': 5.25}\n"
     ]
    },
    {
     "name": "stderr",
     "output_type": "stream",
     "text": [
      " 40%|████      | 4572/11430 [06:13<08:11, 13.95it/s]\n",
      " 40%|████      | 4572/11430 [06:17<08:11, 13.95it/s]"
     ]
    },
    {
     "name": "stdout",
     "output_type": "stream",
     "text": [
      "\n",
      " ** Evaluating metrics for java test set. ** \n",
      "\n",
      "{'eval_loss': 0.11564214527606964, 'eval_f1': 0.8150009362616304, 'eval_precision': 0.8569777084117522, 'eval_recall': 0.7956479749010948, 'eval_runtime': 4.1413, 'eval_samples_per_second': 367.763, 'eval_steps_per_second': 46.121, 'epoch': 6.0}\n"
     ]
    },
    {
     "name": "stderr",
     "output_type": "stream",
     "text": [
      " 44%|████▍     | 5002/11430 [06:52<08:08, 13.15it/s]  "
     ]
    },
    {
     "name": "stdout",
     "output_type": "stream",
     "text": [
      "{'loss': 0.017, 'grad_norm': 1.364526391029358, 'learning_rate': 2.8127734033245845e-05, 'epoch': 6.56}\n"
     ]
    },
    {
     "name": "stderr",
     "output_type": "stream",
     "text": [
      " 47%|████▋     | 5334/11430 [07:17<07:12, 14.09it/s]\n",
      " 47%|████▋     | 5334/11430 [07:21<07:12, 14.09it/s]"
     ]
    },
    {
     "name": "stdout",
     "output_type": "stream",
     "text": [
      "\n",
      " ** Evaluating metrics for java test set. ** \n",
      "\n",
      "{'eval_loss': 0.10965515673160553, 'eval_f1': 0.8618082486199156, 'eval_precision': 0.9069638722304213, 'eval_recall': 0.8404615721674353, 'eval_runtime': 3.9678, 'eval_samples_per_second': 383.839, 'eval_steps_per_second': 48.137, 'epoch': 7.0}\n"
     ]
    },
    {
     "name": "stderr",
     "output_type": "stream",
     "text": [
      " 53%|█████▎    | 6002/11430 [08:13<06:54, 13.10it/s]  "
     ]
    },
    {
     "name": "stdout",
     "output_type": "stream",
     "text": [
      "{'loss': 0.0114, 'grad_norm': 0.005783134140074253, 'learning_rate': 2.3753280839895015e-05, 'epoch': 7.87}\n"
     ]
    },
    {
     "name": "stderr",
     "output_type": "stream",
     "text": [
      " 53%|█████▎    | 6096/11430 [08:20<06:21, 13.97it/s]\n",
      " 53%|█████▎    | 6096/11430 [08:24<06:21, 13.97it/s]"
     ]
    },
    {
     "name": "stdout",
     "output_type": "stream",
     "text": [
      "\n",
      " ** Evaluating metrics for java test set. ** \n",
      "\n",
      "{'eval_loss': 0.1213071420788765, 'eval_f1': 0.8579397642767219, 'eval_precision': 0.8715286568500493, 'eval_recall': 0.8527936885820084, 'eval_runtime': 4.088, 'eval_samples_per_second': 372.55, 'eval_steps_per_second': 46.722, 'epoch': 8.0}\n"
     ]
    },
    {
     "name": "stderr",
     "output_type": "stream",
     "text": [
      " 60%|██████    | 6858/11430 [09:24<05:22, 14.16it/s]  \n",
      " 60%|██████    | 6858/11430 [09:28<05:22, 14.16it/s]"
     ]
    },
    {
     "name": "stdout",
     "output_type": "stream",
     "text": [
      "\n",
      " ** Evaluating metrics for java test set. ** \n",
      "\n",
      "{'eval_loss': 0.130671888589859, 'eval_f1': 0.8578541906128679, 'eval_precision': 0.8825564177768488, 'eval_recall': 0.8385360749532048, 'eval_runtime': 3.9197, 'eval_samples_per_second': 388.549, 'eval_steps_per_second': 48.728, 'epoch': 9.0}\n"
     ]
    },
    {
     "name": "stderr",
     "output_type": "stream",
     "text": [
      " 61%|██████▏   | 7002/11430 [09:41<05:37, 13.13it/s]  "
     ]
    },
    {
     "name": "stdout",
     "output_type": "stream",
     "text": [
      "{'loss': 0.0072, 'grad_norm': 0.2394903600215912, 'learning_rate': 1.9378827646544184e-05, 'epoch': 9.19}\n"
     ]
    },
    {
     "name": "stderr",
     "output_type": "stream",
     "text": [
      " 67%|██████▋   | 7620/11430 [10:27<04:35, 13.82it/s]\n",
      " 67%|██████▋   | 7620/11430 [10:31<04:35, 13.82it/s]"
     ]
    },
    {
     "name": "stdout",
     "output_type": "stream",
     "text": [
      "\n",
      " ** Evaluating metrics for java test set. ** \n",
      "\n",
      "{'eval_loss': 0.12724924087524414, 'eval_f1': 0.8668294671511206, 'eval_precision': 0.8691352052828546, 'eval_recall': 0.8681339518579678, 'eval_runtime': 4.0008, 'eval_samples_per_second': 380.672, 'eval_steps_per_second': 47.74, 'epoch': 10.0}\n"
     ]
    },
    {
     "name": "stderr",
     "output_type": "stream",
     "text": [
      " 70%|███████   | 8001/11430 [11:02<04:31, 12.61it/s]  "
     ]
    },
    {
     "name": "stdout",
     "output_type": "stream",
     "text": [
      "{'loss': 0.0059, 'grad_norm': 0.05227774381637573, 'learning_rate': 1.500437445319335e-05, 'epoch': 10.5}\n"
     ]
    },
    {
     "name": "stderr",
     "output_type": "stream",
     "text": [
      " 73%|███████▎  | 8381/11430 [11:31<03:49, 13.29it/s]\n",
      " 73%|███████▎  | 8382/11430 [11:35<03:49, 13.29it/s]"
     ]
    },
    {
     "name": "stdout",
     "output_type": "stream",
     "text": [
      "\n",
      " ** Evaluating metrics for java test set. ** \n",
      "\n",
      "{'eval_loss': 0.12514810264110565, 'eval_f1': 0.8678764646845367, 'eval_precision': 0.8801444835202298, 'eval_recall': 0.8571586448228181, 'eval_runtime': 3.9361, 'eval_samples_per_second': 386.929, 'eval_steps_per_second': 48.525, 'epoch': 11.0}\n"
     ]
    },
    {
     "name": "stderr",
     "output_type": "stream",
     "text": [
      " 79%|███████▊  | 9001/11430 [12:23<03:04, 13.14it/s]"
     ]
    },
    {
     "name": "stdout",
     "output_type": "stream",
     "text": [
      "{'loss': 0.0047, 'grad_norm': 0.006345884874463081, 'learning_rate': 1.062992125984252e-05, 'epoch': 11.81}\n"
     ]
    },
    {
     "name": "stderr",
     "output_type": "stream",
     "text": [
      " 80%|███████▉  | 9143/11430 [12:34<02:49, 13.51it/s]\n",
      " 80%|████████  | 9144/11430 [12:38<02:49, 13.51it/s]"
     ]
    },
    {
     "name": "stdout",
     "output_type": "stream",
     "text": [
      "\n",
      " ** Evaluating metrics for java test set. ** \n",
      "\n",
      "{'eval_loss': 0.1326802670955658, 'eval_f1': 0.858914960516364, 'eval_precision': 0.8729174158431074, 'eval_recall': 0.8465985491234035, 'eval_runtime': 3.8908, 'eval_samples_per_second': 391.433, 'eval_steps_per_second': 49.09, 'epoch': 12.0}\n"
     ]
    },
    {
     "name": "stderr",
     "output_type": "stream",
     "text": [
      " 87%|████████▋ | 9906/11430 [13:37<01:56, 13.06it/s]\n",
      " 87%|████████▋ | 9906/11430 [13:41<01:56, 13.06it/s]"
     ]
    },
    {
     "name": "stdout",
     "output_type": "stream",
     "text": [
      "\n",
      " ** Evaluating metrics for java test set. ** \n",
      "\n",
      "{'eval_loss': 0.12786667048931122, 'eval_f1': 0.8572720748285331, 'eval_precision': 0.869384786289442, 'eval_recall': 0.8486247112557134, 'eval_runtime': 3.9988, 'eval_samples_per_second': 380.867, 'eval_steps_per_second': 47.765, 'epoch': 13.0}\n"
     ]
    },
    {
     "name": "stderr",
     "output_type": "stream",
     "text": [
      " 88%|████████▊ | 10002/11430 [13:51<01:48, 13.13it/s]"
     ]
    },
    {
     "name": "stdout",
     "output_type": "stream",
     "text": [
      "{'loss': 0.0027, 'grad_norm': 0.014841370284557343, 'learning_rate': 6.255468066491689e-06, 'epoch': 13.12}\n"
     ]
    },
    {
     "name": "stderr",
     "output_type": "stream",
     "text": [
      " 93%|█████████▎| 10668/11430 [14:41<00:56, 13.39it/s]\n",
      " 93%|█████████▎| 10668/11430 [14:45<00:56, 13.39it/s]"
     ]
    },
    {
     "name": "stdout",
     "output_type": "stream",
     "text": [
      "\n",
      " ** Evaluating metrics for java test set. ** \n",
      "\n",
      "{'eval_loss': 0.13190801441669464, 'eval_f1': 0.867773029429845, 'eval_precision': 0.8771097161052449, 'eval_recall': 0.8592709977937754, 'eval_runtime': 3.9297, 'eval_samples_per_second': 387.559, 'eval_steps_per_second': 48.604, 'epoch': 14.0}\n"
     ]
    },
    {
     "name": "stderr",
     "output_type": "stream",
     "text": [
      " 96%|█████████▋| 11002/11430 [15:12<00:32, 13.37it/s]"
     ]
    },
    {
     "name": "stdout",
     "output_type": "stream",
     "text": [
      "{'loss': 0.0016, 'grad_norm': 0.0032892210874706507, 'learning_rate': 1.8810148731408575e-06, 'epoch': 14.44}\n"
     ]
    },
    {
     "name": "stderr",
     "output_type": "stream",
     "text": [
      "100%|██████████| 11430/11430 [15:45<00:00, 13.33it/s]\n",
      "100%|██████████| 11430/11430 [15:50<00:00, 13.33it/s]"
     ]
    },
    {
     "name": "stdout",
     "output_type": "stream",
     "text": [
      "\n",
      " ** Evaluating metrics for java test set. ** \n",
      "\n",
      "{'eval_loss': 0.13385044038295746, 'eval_f1': 0.866303440340593, 'eval_precision': 0.8788358435525297, 'eval_recall': 0.8555293069186499, 'eval_runtime': 3.9648, 'eval_samples_per_second': 384.134, 'eval_steps_per_second': 48.174, 'epoch': 15.0}\n"
     ]
    },
    {
     "name": "stderr",
     "output_type": "stream",
     "text": [
      "100%|██████████| 11430/11430 [15:53<00:00, 11.99it/s]\n"
     ]
    },
    {
     "name": "stdout",
     "output_type": "stream",
     "text": [
      "{'train_runtime': 953.3229, 'train_samples_per_second': 95.838, 'train_steps_per_second': 11.99, 'train_loss': 0.02915453580212197, 'epoch': 15.0}\n"
     ]
    },
    {
     "name": "stderr",
     "output_type": "stream",
     "text": [
      "100%|██████████| 191/191 [00:03<00:00, 48.57it/s]\n"
     ]
    },
    {
     "name": "stdout",
     "output_type": "stream",
     "text": [
      "\n",
      " ** Evaluating metrics for java test set. ** \n",
      "\n",
      "Evaluation Metrics: {'eval_loss': 0.12514810264110565, 'eval_f1': 0.8678764646845367, 'eval_precision': 0.8801444835202298, 'eval_recall': 0.8571586448228181, 'eval_runtime': 3.9897, 'eval_samples_per_second': 381.734, 'eval_steps_per_second': 47.873, 'epoch': 15.0}\n"
     ]
    },
    {
     "data": {
      "text/html": [
       "Finishing last run (ID:6qp4aywk) before initializing another..."
      ],
      "text/plain": [
       "<IPython.core.display.HTML object>"
      ]
     },
     "metadata": {},
     "output_type": "display_data"
    },
    {
     "data": {
      "text/html": [
       "\n",
       "    <style>\n",
       "        .wandb-row {\n",
       "            display: flex;\n",
       "            flex-direction: row;\n",
       "            flex-wrap: wrap;\n",
       "            justify-content: flex-start;\n",
       "            width: 100%;\n",
       "        }\n",
       "        .wandb-col {\n",
       "            display: flex;\n",
       "            flex-direction: column;\n",
       "            flex-basis: 100%;\n",
       "            flex: 1;\n",
       "            padding: 10px;\n",
       "        }\n",
       "    </style>\n",
       "<div class=\"wandb-row\"><div class=\"wandb-col\"><h3>Run history:</h3><br/><table class=\"wandb\"><tr><td>eval/f1</td><td>▁▆▇▇█▆██████████</td></tr><tr><td>eval/loss</td><td>▆▁▂▂▃▅▄▆█▇▇█▇██▇</td></tr><tr><td>eval/precision</td><td>▁▇▆▇▇▇█▇▇▇▇▇▇▇▇▇</td></tr><tr><td>eval/recall</td><td>▁▄▇▇▇▆▇█▇██▇▇███</td></tr><tr><td>eval/runtime</td><td>▁▆▅█▄█▄▇▃▅▃▂▅▃▄▅</td></tr><tr><td>eval/samples_per_second</td><td>█▃▄▁▄▁▅▂▆▄▅▆▄▆▅▄</td></tr><tr><td>eval/steps_per_second</td><td>█▃▄▁▄▁▅▂▆▄▅▆▄▆▅▄</td></tr><tr><td>train/epoch</td><td>▁▁▁▂▂▂▃▃▃▃▄▄▄▅▅▅▅▆▆▆▇▇▇▇████</td></tr><tr><td>train/global_step</td><td>▁▁▁▂▂▂▃▃▃▃▄▄▄▅▅▅▅▆▆▆▇▇▇▇████</td></tr><tr><td>train/grad_norm</td><td>█▁▄▂▄▁▂▁▁▁▁</td></tr><tr><td>train/learning_rate</td><td>█▇▇▆▅▄▄▃▂▂▁</td></tr><tr><td>train/loss</td><td>█▅▄▂▂▂▁▁▁▁▁</td></tr></table><br/></div><div class=\"wandb-col\"><h3>Run summary:</h3><br/><table class=\"wandb\"><tr><td>eval/f1</td><td>0.86788</td></tr><tr><td>eval/loss</td><td>0.12515</td></tr><tr><td>eval/precision</td><td>0.88014</td></tr><tr><td>eval/recall</td><td>0.85716</td></tr><tr><td>eval/runtime</td><td>3.9897</td></tr><tr><td>eval/samples_per_second</td><td>381.734</td></tr><tr><td>eval/steps_per_second</td><td>47.873</td></tr><tr><td>total_flos</td><td>6010055190432000.0</td></tr><tr><td>train/epoch</td><td>15</td></tr><tr><td>train/global_step</td><td>11430</td></tr><tr><td>train/grad_norm</td><td>0.00329</td></tr><tr><td>train/learning_rate</td><td>0.0</td></tr><tr><td>train/loss</td><td>0.0016</td></tr><tr><td>train_loss</td><td>0.02915</td></tr><tr><td>train_runtime</td><td>953.3229</td></tr><tr><td>train_samples_per_second</td><td>95.838</td></tr><tr><td>train_steps_per_second</td><td>11.99</td></tr></table><br/></div></div>"
      ],
      "text/plain": [
       "<IPython.core.display.HTML object>"
      ]
     },
     "metadata": {},
     "output_type": "display_data"
    },
    {
     "data": {
      "text/html": [
       " View run <strong style=\"color:#cdcd00\">java_epoch-15_batchSize-8_weightsOfDecay-0.01</strong> at: <a href='https://wandb.ai/ayoungren-colostate/NBSE2025_GridSearch_3/runs/6qp4aywk' target=\"_blank\">https://wandb.ai/ayoungren-colostate/NBSE2025_GridSearch_3/runs/6qp4aywk</a><br/> View project at: <a href='https://wandb.ai/ayoungren-colostate/NBSE2025_GridSearch_3' target=\"_blank\">https://wandb.ai/ayoungren-colostate/NBSE2025_GridSearch_3</a><br/>Synced 5 W&B file(s), 0 media file(s), 0 artifact file(s) and 0 other file(s)"
      ],
      "text/plain": [
       "<IPython.core.display.HTML object>"
      ]
     },
     "metadata": {},
     "output_type": "display_data"
    },
    {
     "data": {
      "text/html": [
       "Find logs at: <code>.\\wandb\\run-20241207_075117-6qp4aywk\\logs</code>"
      ],
      "text/plain": [
       "<IPython.core.display.HTML object>"
      ]
     },
     "metadata": {},
     "output_type": "display_data"
    },
    {
     "data": {
      "text/html": [
       "Successfully finished last run (ID:6qp4aywk). Initializing new run:<br/>"
      ],
      "text/plain": [
       "<IPython.core.display.HTML object>"
      ]
     },
     "metadata": {},
     "output_type": "display_data"
    },
    {
     "data": {
      "text/html": [
       "Tracking run with wandb version 0.18.7"
      ],
      "text/plain": [
       "<IPython.core.display.HTML object>"
      ]
     },
     "metadata": {},
     "output_type": "display_data"
    },
    {
     "data": {
      "text/html": [
       "Run data is saved locally in <code>c:\\Development\\TactitalTensorsFinalProject\\wandb\\run-20241207_090449-vul1eoju</code>"
      ],
      "text/plain": [
       "<IPython.core.display.HTML object>"
      ]
     },
     "metadata": {},
     "output_type": "display_data"
    },
    {
     "data": {
      "text/html": [
       "Syncing run <strong><a href='https://wandb.ai/ayoungren-colostate/NBSE2025_GridSearch_3/runs/vul1eoju' target=\"_blank\">python_epoch-15_batchSize-8_weightsOfDecay-0.01</a></strong> to <a href='https://wandb.ai/ayoungren-colostate/NBSE2025_GridSearch_3' target=\"_blank\">Weights & Biases</a> (<a href='https://wandb.me/developer-guide' target=\"_blank\">docs</a>)<br/>"
      ],
      "text/plain": [
       "<IPython.core.display.HTML object>"
      ]
     },
     "metadata": {},
     "output_type": "display_data"
    },
    {
     "data": {
      "text/html": [
       " View project at <a href='https://wandb.ai/ayoungren-colostate/NBSE2025_GridSearch_3' target=\"_blank\">https://wandb.ai/ayoungren-colostate/NBSE2025_GridSearch_3</a>"
      ],
      "text/plain": [
       "<IPython.core.display.HTML object>"
      ]
     },
     "metadata": {},
     "output_type": "display_data"
    },
    {
     "data": {
      "text/html": [
       " View run at <a href='https://wandb.ai/ayoungren-colostate/NBSE2025_GridSearch_3/runs/vul1eoju' target=\"_blank\">https://wandb.ai/ayoungren-colostate/NBSE2025_GridSearch_3/runs/vul1eoju</a>"
      ],
      "text/plain": [
       "<IPython.core.display.HTML object>"
      ]
     },
     "metadata": {},
     "output_type": "display_data"
    },
    {
     "name": "stderr",
     "output_type": "stream",
     "text": [
      "c:\\Users\\ayoun\\Miniconda3\\envs\\nbse2025\\lib\\site-packages\\torch\\_utils.py:776: UserWarning: TypedStorage is deprecated. It will be removed in the future and UntypedStorage will be the only storage class. This should only matter to you if you are using storages directly.  To access UntypedStorage directly, use tensor.untyped_storage() instead of tensor.storage()\n",
      "  return self.fget.__get__(instance, owner)()\n",
      "Some weights of RobertaForSequenceClassification were not initialized from the model checkpoint at microsoft/codebert-base and are newly initialized: ['classifier.dense.bias', 'classifier.dense.weight', 'classifier.out_proj.bias', 'classifier.out_proj.weight']\n",
      "You should probably TRAIN this model on a down-stream task to be able to use it for predictions and inference.\n",
      "Map: 100%|██████████| 1884/1884 [00:00<00:00, 11775.10 examples/s]\n",
      "  7%|▋         | 189/2835 [00:14<03:03, 14.38it/s]\n",
      "  7%|▋         | 189/2835 [00:15<03:03, 14.38it/s]"
     ]
    },
    {
     "name": "stdout",
     "output_type": "stream",
     "text": [
      "\n",
      " ** Evaluating metrics for python test set. ** \n",
      "\n",
      "{'eval_loss': 0.35030344128608704, 'eval_f1': 0.3438159419107449, 'eval_precision': 0.5732959850606909, 'eval_recall': 0.2675579401918132, 'eval_runtime': 0.9457, 'eval_samples_per_second': 398.658, 'eval_steps_per_second': 50.758, 'epoch': 1.0}\n"
     ]
    },
    {
     "name": "stderr",
     "output_type": "stream",
     "text": [
      " 13%|█▎        | 377/2835 [00:31<02:59, 13.68it/s]\n",
      " 13%|█▎        | 378/2835 [00:32<02:59, 13.68it/s]"
     ]
    },
    {
     "name": "stdout",
     "output_type": "stream",
     "text": [
      "\n",
      " ** Evaluating metrics for python test set. ** \n",
      "\n",
      "{'eval_loss': 0.29894378781318665, 'eval_f1': 0.5157309289004106, 'eval_precision': 0.6518345100953796, 'eval_recall': 0.4439548111390117, 'eval_runtime': 0.9646, 'eval_samples_per_second': 390.826, 'eval_steps_per_second': 49.76, 'epoch': 2.0}\n"
     ]
    },
    {
     "name": "stderr",
     "output_type": "stream",
     "text": [
      " 20%|█▉        | 566/2835 [00:47<02:50, 13.32it/s]\n",
      " 20%|██        | 567/2835 [00:48<02:50, 13.32it/s]"
     ]
    },
    {
     "name": "stdout",
     "output_type": "stream",
     "text": [
      "\n",
      " ** Evaluating metrics for python test set. ** \n",
      "\n",
      "{'eval_loss': 0.32926657795906067, 'eval_f1': 0.5576744123085586, 'eval_precision': 0.6266709151279162, 'eval_recall': 0.537663568225591, 'eval_runtime': 0.9915, 'eval_samples_per_second': 380.24, 'eval_steps_per_second': 48.413, 'epoch': 3.0}\n"
     ]
    },
    {
     "name": "stderr",
     "output_type": "stream",
     "text": [
      " 27%|██▋       | 756/2835 [01:04<02:25, 14.32it/s]\n",
      " 27%|██▋       | 756/2835 [01:05<02:25, 14.32it/s]"
     ]
    },
    {
     "name": "stdout",
     "output_type": "stream",
     "text": [
      "\n",
      " ** Evaluating metrics for python test set. ** \n",
      "\n",
      "{'eval_loss': 0.3317989706993103, 'eval_f1': 0.6797385485919337, 'eval_precision': 0.7746695520227569, 'eval_recall': 0.6221515525371988, 'eval_runtime': 0.9565, 'eval_samples_per_second': 394.149, 'eval_steps_per_second': 50.183, 'epoch': 4.0}\n"
     ]
    },
    {
     "name": "stderr",
     "output_type": "stream",
     "text": [
      " 33%|███▎      | 944/2835 [01:21<02:18, 13.61it/s]\n",
      " 33%|███▎      | 945/2835 [01:22<02:18, 13.61it/s]"
     ]
    },
    {
     "name": "stdout",
     "output_type": "stream",
     "text": [
      "\n",
      " ** Evaluating metrics for python test set. ** \n",
      "\n",
      "{'eval_loss': 0.3333657383918762, 'eval_f1': 0.7107777445155354, 'eval_precision': 0.7603139504056935, 'eval_recall': 0.674128019362737, 'eval_runtime': 0.9568, 'eval_samples_per_second': 394.01, 'eval_steps_per_second': 50.166, 'epoch': 5.0}\n"
     ]
    },
    {
     "name": "stderr",
     "output_type": "stream",
     "text": [
      " 35%|███▌      | 1002/2835 [01:28<02:16, 13.46it/s]"
     ]
    },
    {
     "name": "stdout",
     "output_type": "stream",
     "text": [
      "{'loss': 0.2486, 'grad_norm': 6.378255367279053, 'learning_rate': 3.2363315696649034e-05, 'epoch': 5.29}\n"
     ]
    },
    {
     "name": "stderr",
     "output_type": "stream",
     "text": [
      " 40%|████      | 1134/2835 [01:38<02:03, 13.77it/s]\n",
      " 40%|████      | 1134/2835 [01:39<02:03, 13.77it/s]"
     ]
    },
    {
     "name": "stdout",
     "output_type": "stream",
     "text": [
      "\n",
      " ** Evaluating metrics for python test set. ** \n",
      "\n",
      "{'eval_loss': 0.36463794112205505, 'eval_f1': 0.7220249021272283, 'eval_precision': 0.7610555480773544, 'eval_recall': 0.7079361854508044, 'eval_runtime': 1.0256, 'eval_samples_per_second': 367.586, 'eval_steps_per_second': 46.801, 'epoch': 6.0}\n"
     ]
    },
    {
     "name": "stderr",
     "output_type": "stream",
     "text": [
      " 47%|████▋     | 1322/2835 [01:55<01:50, 13.69it/s]\n",
      " 47%|████▋     | 1323/2835 [01:56<01:50, 13.69it/s]"
     ]
    },
    {
     "name": "stdout",
     "output_type": "stream",
     "text": [
      "\n",
      " ** Evaluating metrics for python test set. ** \n",
      "\n",
      "{'eval_loss': 0.38128677010536194, 'eval_f1': 0.7261184844801043, 'eval_precision': 0.7553513540892821, 'eval_recall': 0.723849815380353, 'eval_runtime': 0.9899, 'eval_samples_per_second': 380.862, 'eval_steps_per_second': 48.492, 'epoch': 7.0}\n"
     ]
    },
    {
     "name": "stderr",
     "output_type": "stream",
     "text": [
      " 53%|█████▎    | 1511/2835 [02:12<01:37, 13.60it/s]\n",
      " 53%|█████▎    | 1512/2835 [02:13<01:37, 13.60it/s]"
     ]
    },
    {
     "name": "stdout",
     "output_type": "stream",
     "text": [
      "\n",
      " ** Evaluating metrics for python test set. ** \n",
      "\n",
      "{'eval_loss': 0.36190953850746155, 'eval_f1': 0.7409504306931771, 'eval_precision': 0.7660635370480467, 'eval_recall': 0.724728802610388, 'eval_runtime': 0.9678, 'eval_samples_per_second': 389.532, 'eval_steps_per_second': 49.596, 'epoch': 8.0}\n"
     ]
    },
    {
     "name": "stderr",
     "output_type": "stream",
     "text": [
      " 60%|██████    | 1701/2835 [02:28<01:24, 13.45it/s]\n",
      " 60%|██████    | 1701/2835 [02:30<01:24, 13.45it/s]"
     ]
    },
    {
     "name": "stdout",
     "output_type": "stream",
     "text": [
      "\n",
      " ** Evaluating metrics for python test set. ** \n",
      "\n",
      "{'eval_loss': 0.40595486760139465, 'eval_f1': 0.7350937500575747, 'eval_precision': 0.7372076877361211, 'eval_recall': 0.744985034592891, 'eval_runtime': 1.0718, 'eval_samples_per_second': 351.735, 'eval_steps_per_second': 44.783, 'epoch': 9.0}\n"
     ]
    },
    {
     "name": "stderr",
     "output_type": "stream",
     "text": [
      " 67%|██████▋   | 1889/2835 [02:45<01:09, 13.64it/s]\n",
      " 67%|██████▋   | 1890/2835 [02:46<01:09, 13.64it/s]"
     ]
    },
    {
     "name": "stdout",
     "output_type": "stream",
     "text": [
      "\n",
      " ** Evaluating metrics for python test set. ** \n",
      "\n",
      "{'eval_loss': 0.4184468686580658, 'eval_f1': 0.7277445517766029, 'eval_precision': 0.7290696912182815, 'eval_recall': 0.733162852858153, 'eval_runtime': 0.9665, 'eval_samples_per_second': 390.068, 'eval_steps_per_second': 49.664, 'epoch': 10.0}\n"
     ]
    },
    {
     "name": "stderr",
     "output_type": "stream",
     "text": [
      " 71%|███████   | 2002/2835 [02:57<01:02, 13.28it/s]"
     ]
    },
    {
     "name": "stdout",
     "output_type": "stream",
     "text": [
      "{'loss': 0.0423, 'grad_norm': 9.449909210205078, 'learning_rate': 1.472663139329806e-05, 'epoch': 10.58}\n"
     ]
    },
    {
     "name": "stderr",
     "output_type": "stream",
     "text": [
      " 73%|███████▎  | 2078/2835 [03:02<00:55, 13.63it/s]\n",
      " 73%|███████▎  | 2079/2835 [03:03<00:55, 13.63it/s]"
     ]
    },
    {
     "name": "stdout",
     "output_type": "stream",
     "text": [
      "\n",
      " ** Evaluating metrics for python test set. ** \n",
      "\n",
      "{'eval_loss': 0.4062790274620056, 'eval_f1': 0.7480566963192846, 'eval_precision': 0.7534289901060023, 'eval_recall': 0.7527371875512001, 'eval_runtime': 0.9655, 'eval_samples_per_second': 390.466, 'eval_steps_per_second': 49.715, 'epoch': 11.0}\n"
     ]
    },
    {
     "name": "stderr",
     "output_type": "stream",
     "text": [
      " 80%|████████  | 2268/2835 [03:19<00:42, 13.33it/s]\n",
      " 80%|████████  | 2268/2835 [03:20<00:42, 13.33it/s]"
     ]
    },
    {
     "name": "stdout",
     "output_type": "stream",
     "text": [
      "\n",
      " ** Evaluating metrics for python test set. ** \n",
      "\n",
      "{'eval_loss': 0.4071006774902344, 'eval_f1': 0.7574184296094323, 'eval_precision': 0.7558308558595118, 'eval_recall': 0.7656493998718807, 'eval_runtime': 1.0039, 'eval_samples_per_second': 375.52, 'eval_steps_per_second': 47.812, 'epoch': 12.0}\n"
     ]
    },
    {
     "name": "stderr",
     "output_type": "stream",
     "text": [
      " 87%|████████▋ | 2456/2835 [03:36<00:27, 13.56it/s]\n",
      " 87%|████████▋ | 2457/2835 [03:37<00:27, 13.56it/s]"
     ]
    },
    {
     "name": "stdout",
     "output_type": "stream",
     "text": [
      "\n",
      " ** Evaluating metrics for python test set. ** \n",
      "\n",
      "{'eval_loss': 0.41674861311912537, 'eval_f1': 0.7630689980679074, 'eval_precision': 0.7628386460565239, 'eval_recall': 0.7708024333040576, 'eval_runtime': 0.9746, 'eval_samples_per_second': 386.825, 'eval_steps_per_second': 49.251, 'epoch': 13.0}\n"
     ]
    },
    {
     "name": "stderr",
     "output_type": "stream",
     "text": [
      " 93%|█████████▎| 2646/2835 [03:53<00:13, 14.10it/s]\n",
      " 93%|█████████▎| 2646/2835 [03:54<00:13, 14.10it/s]"
     ]
    },
    {
     "name": "stdout",
     "output_type": "stream",
     "text": [
      "\n",
      " ** Evaluating metrics for python test set. ** \n",
      "\n",
      "{'eval_loss': 0.4142097532749176, 'eval_f1': 0.7552708655605375, 'eval_precision': 0.7475639563579853, 'eval_recall': 0.7690966048408249, 'eval_runtime': 0.9851, 'eval_samples_per_second': 382.707, 'eval_steps_per_second': 48.727, 'epoch': 14.0}\n"
     ]
    },
    {
     "name": "stderr",
     "output_type": "stream",
     "text": [
      "100%|█████████▉| 2834/2835 [04:10<00:00, 12.87it/s]\n",
      "100%|██████████| 2835/2835 [04:13<00:00, 12.87it/s]"
     ]
    },
    {
     "name": "stdout",
     "output_type": "stream",
     "text": [
      "\n",
      " ** Evaluating metrics for python test set. ** \n",
      "\n",
      "{'eval_loss': 0.4149714708328247, 'eval_f1': 0.7551023463283353, 'eval_precision': 0.7538590935774035, 'eval_recall': 0.7629182719657299, 'eval_runtime': 1.0577, 'eval_samples_per_second': 356.446, 'eval_steps_per_second': 45.383, 'epoch': 15.0}\n"
     ]
    },
    {
     "name": "stderr",
     "output_type": "stream",
     "text": [
      "100%|██████████| 2835/2835 [04:15<00:00, 11.10it/s]\n"
     ]
    },
    {
     "name": "stdout",
     "output_type": "stream",
     "text": [
      "{'train_runtime': 255.3547, 'train_samples_per_second': 88.524, 'train_steps_per_second': 11.102, 'train_loss': 0.10482793014095784, 'epoch': 15.0}\n"
     ]
    },
    {
     "name": "stderr",
     "output_type": "stream",
     "text": [
      "100%|██████████| 48/48 [00:01<00:00, 45.60it/s]\n"
     ]
    },
    {
     "name": "stdout",
     "output_type": "stream",
     "text": [
      "\n",
      " ** Evaluating metrics for python test set. ** \n",
      "\n",
      "Evaluation Metrics: {'eval_loss': 0.41674861311912537, 'eval_f1': 0.7630689980679074, 'eval_precision': 0.7628386460565239, 'eval_recall': 0.7708024333040576, 'eval_runtime': 1.1087, 'eval_samples_per_second': 340.046, 'eval_steps_per_second': 43.295, 'epoch': 15.0}\n"
     ]
    },
    {
     "data": {
      "text/html": [
       "Finishing last run (ID:vul1eoju) before initializing another..."
      ],
      "text/plain": [
       "<IPython.core.display.HTML object>"
      ]
     },
     "metadata": {},
     "output_type": "display_data"
    },
    {
     "data": {
      "text/html": [
       "\n",
       "    <style>\n",
       "        .wandb-row {\n",
       "            display: flex;\n",
       "            flex-direction: row;\n",
       "            flex-wrap: wrap;\n",
       "            justify-content: flex-start;\n",
       "            width: 100%;\n",
       "        }\n",
       "        .wandb-col {\n",
       "            display: flex;\n",
       "            flex-direction: column;\n",
       "            flex-basis: 100%;\n",
       "            flex: 1;\n",
       "            padding: 10px;\n",
       "        }\n",
       "    </style>\n",
       "<div class=\"wandb-row\"><div class=\"wandb-col\"><h3>Run history:</h3><br/><table class=\"wandb\"><tr><td>eval/f1</td><td>▁▄▅▇▇▇▇██▇██████</td></tr><tr><td>eval/loss</td><td>▄▁▃▃▃▅▆▅▇█▇▇████</td></tr><tr><td>eval/precision</td><td>▁▄▃███▇█▇▆▇▇█▇▇█</td></tr><tr><td>eval/recall</td><td>▁▃▅▆▇▇▇▇█▇██████</td></tr><tr><td>eval/runtime</td><td>▁▂▃▁▁▄▃▂▆▂▂▃▂▃▆█</td></tr><tr><td>eval/samples_per_second</td><td>█▇▆▇▇▄▆▇▂▇▇▅▇▆▃▁</td></tr><tr><td>eval/steps_per_second</td><td>█▇▆▇▇▄▆▇▂▇▇▅▇▆▃▁</td></tr><tr><td>train/epoch</td><td>▁▁▂▃▃▃▃▄▅▅▅▆▆▇▇▇███</td></tr><tr><td>train/global_step</td><td>▁▁▂▃▃▃▃▄▅▅▅▆▆▇▇▇███</td></tr><tr><td>train/grad_norm</td><td>▁█</td></tr><tr><td>train/learning_rate</td><td>█▁</td></tr><tr><td>train/loss</td><td>█▁</td></tr></table><br/></div><div class=\"wandb-col\"><h3>Run summary:</h3><br/><table class=\"wandb\"><tr><td>eval/f1</td><td>0.76307</td></tr><tr><td>eval/loss</td><td>0.41675</td></tr><tr><td>eval/precision</td><td>0.76284</td></tr><tr><td>eval/recall</td><td>0.7708</td></tr><tr><td>eval/runtime</td><td>1.1087</td></tr><tr><td>eval/samples_per_second</td><td>340.046</td></tr><tr><td>eval/steps_per_second</td><td>43.295</td></tr><tr><td>total_flos</td><td>1486946402599680.0</td></tr><tr><td>train/epoch</td><td>15</td></tr><tr><td>train/global_step</td><td>2835</td></tr><tr><td>train/grad_norm</td><td>9.44991</td></tr><tr><td>train/learning_rate</td><td>1e-05</td></tr><tr><td>train/loss</td><td>0.0423</td></tr><tr><td>train_loss</td><td>0.10483</td></tr><tr><td>train_runtime</td><td>255.3547</td></tr><tr><td>train_samples_per_second</td><td>88.524</td></tr><tr><td>train_steps_per_second</td><td>11.102</td></tr></table><br/></div></div>"
      ],
      "text/plain": [
       "<IPython.core.display.HTML object>"
      ]
     },
     "metadata": {},
     "output_type": "display_data"
    },
    {
     "data": {
      "text/html": [
       " View run <strong style=\"color:#cdcd00\">python_epoch-15_batchSize-8_weightsOfDecay-0.01</strong> at: <a href='https://wandb.ai/ayoungren-colostate/NBSE2025_GridSearch_3/runs/vul1eoju' target=\"_blank\">https://wandb.ai/ayoungren-colostate/NBSE2025_GridSearch_3/runs/vul1eoju</a><br/> View project at: <a href='https://wandb.ai/ayoungren-colostate/NBSE2025_GridSearch_3' target=\"_blank\">https://wandb.ai/ayoungren-colostate/NBSE2025_GridSearch_3</a><br/>Synced 5 W&B file(s), 0 media file(s), 0 artifact file(s) and 0 other file(s)"
      ],
      "text/plain": [
       "<IPython.core.display.HTML object>"
      ]
     },
     "metadata": {},
     "output_type": "display_data"
    },
    {
     "data": {
      "text/html": [
       "Find logs at: <code>.\\wandb\\run-20241207_090449-vul1eoju\\logs</code>"
      ],
      "text/plain": [
       "<IPython.core.display.HTML object>"
      ]
     },
     "metadata": {},
     "output_type": "display_data"
    },
    {
     "data": {
      "text/html": [
       "Successfully finished last run (ID:vul1eoju). Initializing new run:<br/>"
      ],
      "text/plain": [
       "<IPython.core.display.HTML object>"
      ]
     },
     "metadata": {},
     "output_type": "display_data"
    },
    {
     "data": {
      "text/html": [
       "Tracking run with wandb version 0.18.7"
      ],
      "text/plain": [
       "<IPython.core.display.HTML object>"
      ]
     },
     "metadata": {},
     "output_type": "display_data"
    },
    {
     "data": {
      "text/html": [
       "Run data is saved locally in <code>c:\\Development\\TactitalTensorsFinalProject\\wandb\\run-20241207_092339-dqh3zgfs</code>"
      ],
      "text/plain": [
       "<IPython.core.display.HTML object>"
      ]
     },
     "metadata": {},
     "output_type": "display_data"
    },
    {
     "data": {
      "text/html": [
       "Syncing run <strong><a href='https://wandb.ai/ayoungren-colostate/NBSE2025_GridSearch_3/runs/dqh3zgfs' target=\"_blank\">pharo_epoch-15_batchSize-8_weightsOfDecay-0.01</a></strong> to <a href='https://wandb.ai/ayoungren-colostate/NBSE2025_GridSearch_3' target=\"_blank\">Weights & Biases</a> (<a href='https://wandb.me/developer-guide' target=\"_blank\">docs</a>)<br/>"
      ],
      "text/plain": [
       "<IPython.core.display.HTML object>"
      ]
     },
     "metadata": {},
     "output_type": "display_data"
    },
    {
     "data": {
      "text/html": [
       " View project at <a href='https://wandb.ai/ayoungren-colostate/NBSE2025_GridSearch_3' target=\"_blank\">https://wandb.ai/ayoungren-colostate/NBSE2025_GridSearch_3</a>"
      ],
      "text/plain": [
       "<IPython.core.display.HTML object>"
      ]
     },
     "metadata": {},
     "output_type": "display_data"
    },
    {
     "data": {
      "text/html": [
       " View run at <a href='https://wandb.ai/ayoungren-colostate/NBSE2025_GridSearch_3/runs/dqh3zgfs' target=\"_blank\">https://wandb.ai/ayoungren-colostate/NBSE2025_GridSearch_3/runs/dqh3zgfs</a>"
      ],
      "text/plain": [
       "<IPython.core.display.HTML object>"
      ]
     },
     "metadata": {},
     "output_type": "display_data"
    },
    {
     "name": "stderr",
     "output_type": "stream",
     "text": [
      "c:\\Users\\ayoun\\Miniconda3\\envs\\nbse2025\\lib\\site-packages\\torch\\_utils.py:776: UserWarning: TypedStorage is deprecated. It will be removed in the future and UntypedStorage will be the only storage class. This should only matter to you if you are using storages directly.  To access UntypedStorage directly, use tensor.untyped_storage() instead of tensor.storage()\n",
      "  return self.fget.__get__(instance, owner)()\n",
      "Some weights of RobertaForSequenceClassification were not initialized from the model checkpoint at microsoft/codebert-base and are newly initialized: ['classifier.dense.bias', 'classifier.dense.weight', 'classifier.out_proj.bias', 'classifier.out_proj.weight']\n",
      "You should probably TRAIN this model on a down-stream task to be able to use it for predictions and inference.\n",
      "Map: 100%|██████████| 1298/1298 [00:00<00:00, 9605.27 examples/s]\n",
      "  7%|▋         | 129/1950 [00:09<02:12, 13.79it/s]\n",
      "  7%|▋         | 130/1950 [00:10<02:12, 13.79it/s]"
     ]
    },
    {
     "name": "stdout",
     "output_type": "stream",
     "text": [
      "\n",
      " ** Evaluating metrics for pharo test set. ** \n",
      "\n",
      "{'eval_loss': 0.3036459684371948, 'eval_f1': 0.16790838182012455, 'eval_precision': 0.19576719576719576, 'eval_recall': 0.1502970297029703, 'eval_runtime': 0.6548, 'eval_samples_per_second': 397.053, 'eval_steps_per_second': 50.395, 'epoch': 1.0}\n"
     ]
    },
    {
     "name": "stderr",
     "output_type": "stream",
     "text": [
      " 13%|█▎        | 259/1950 [00:21<02:03, 13.68it/s]\n",
      " 13%|█▎        | 260/1950 [00:22<02:03, 13.68it/s]"
     ]
    },
    {
     "name": "stdout",
     "output_type": "stream",
     "text": [
      "\n",
      " ** Evaluating metrics for pharo test set. ** \n",
      "\n",
      "{'eval_loss': 0.2558704912662506, 'eval_f1': 0.42431106121034823, 'eval_precision': 0.5862403317491381, 'eval_recall': 0.3499028364796852, 'eval_runtime': 0.6765, 'eval_samples_per_second': 384.351, 'eval_steps_per_second': 48.783, 'epoch': 2.0}\n"
     ]
    },
    {
     "name": "stderr",
     "output_type": "stream",
     "text": [
      " 20%|██        | 390/1950 [00:33<01:51, 13.98it/s]\n",
      " 20%|██        | 390/1950 [00:34<01:51, 13.98it/s]"
     ]
    },
    {
     "name": "stdout",
     "output_type": "stream",
     "text": [
      "\n",
      " ** Evaluating metrics for pharo test set. ** \n",
      "\n",
      "{'eval_loss': 0.236893430352211, 'eval_f1': 0.5144439995781548, 'eval_precision': 0.5890427599611273, 'eval_recall': 0.4691778137751614, 'eval_runtime': 0.656, 'eval_samples_per_second': 396.328, 'eval_steps_per_second': 50.303, 'epoch': 3.0}\n"
     ]
    },
    {
     "name": "stderr",
     "output_type": "stream",
     "text": [
      " 27%|██▋       | 519/1950 [00:46<01:46, 13.37it/s]\n",
      " 27%|██▋       | 520/1950 [00:47<01:46, 13.37it/s]"
     ]
    },
    {
     "name": "stdout",
     "output_type": "stream",
     "text": [
      "\n",
      " ** Evaluating metrics for pharo test set. ** \n",
      "\n",
      "{'eval_loss': 0.22038377821445465, 'eval_f1': 0.566415429808287, 'eval_precision': 0.7385803106667768, 'eval_recall': 0.5215861405598018, 'eval_runtime': 0.7558, 'eval_samples_per_second': 343.986, 'eval_steps_per_second': 43.66, 'epoch': 4.0}\n"
     ]
    },
    {
     "name": "stderr",
     "output_type": "stream",
     "text": [
      " 33%|███▎      | 650/1950 [00:59<01:36, 13.50it/s]\n",
      " 33%|███▎      | 650/1950 [01:00<01:36, 13.50it/s]"
     ]
    },
    {
     "name": "stdout",
     "output_type": "stream",
     "text": [
      "\n",
      " ** Evaluating metrics for pharo test set. ** \n",
      "\n",
      "{'eval_loss': 0.2480241060256958, 'eval_f1': 0.6110421898294869, 'eval_precision': 0.8258051997071959, 'eval_recall': 0.5401676525720995, 'eval_runtime': 0.6802, 'eval_samples_per_second': 382.258, 'eval_steps_per_second': 48.517, 'epoch': 5.0}\n"
     ]
    },
    {
     "name": "stderr",
     "output_type": "stream",
     "text": [
      " 40%|████      | 780/1950 [01:11<01:27, 13.35it/s]\n",
      " 40%|████      | 780/1950 [01:12<01:27, 13.35it/s]"
     ]
    },
    {
     "name": "stdout",
     "output_type": "stream",
     "text": [
      "\n",
      " ** Evaluating metrics for pharo test set. ** \n",
      "\n",
      "{'eval_loss': 0.22338488698005676, 'eval_f1': 0.5970871609760678, 'eval_precision': 0.7968823178312887, 'eval_recall': 0.5602758476135568, 'eval_runtime': 0.7093, 'eval_samples_per_second': 366.579, 'eval_steps_per_second': 46.527, 'epoch': 6.0}\n"
     ]
    },
    {
     "name": "stderr",
     "output_type": "stream",
     "text": [
      " 47%|████▋     | 909/1950 [01:23<01:18, 13.23it/s]\n",
      " 47%|████▋     | 910/1950 [01:24<01:18, 13.23it/s]"
     ]
    },
    {
     "name": "stdout",
     "output_type": "stream",
     "text": [
      "\n",
      " ** Evaluating metrics for pharo test set. ** \n",
      "\n",
      "{'eval_loss': 0.2191298007965088, 'eval_f1': 0.6686150537448535, 'eval_precision': 0.8583780560524746, 'eval_recall': 0.5939757742485859, 'eval_runtime': 0.6553, 'eval_samples_per_second': 396.768, 'eval_steps_per_second': 50.359, 'epoch': 7.0}\n"
     ]
    },
    {
     "name": "stderr",
     "output_type": "stream",
     "text": [
      " 51%|█████▏    | 1002/1950 [01:33<01:13, 12.89it/s]"
     ]
    },
    {
     "name": "stdout",
     "output_type": "stream",
     "text": [
      "{'loss': 0.1615, 'grad_norm': 0.5588142275810242, 'learning_rate': 2.435897435897436e-05, 'epoch': 7.69}\n"
     ]
    },
    {
     "name": "stderr",
     "output_type": "stream",
     "text": [
      " 53%|█████▎    | 1040/1950 [01:36<01:08, 13.34it/s]\n",
      " 53%|█████▎    | 1040/1950 [01:36<01:08, 13.34it/s]"
     ]
    },
    {
     "name": "stdout",
     "output_type": "stream",
     "text": [
      "\n",
      " ** Evaluating metrics for pharo test set. ** \n",
      "\n",
      "{'eval_loss': 0.23590117692947388, 'eval_f1': 0.6483335512041856, 'eval_precision': 0.8257794144641927, 'eval_recall': 0.5969895675720646, 'eval_runtime': 0.6873, 'eval_samples_per_second': 378.303, 'eval_steps_per_second': 48.015, 'epoch': 8.0}\n"
     ]
    },
    {
     "name": "stderr",
     "output_type": "stream",
     "text": [
      " 60%|██████    | 1170/1950 [01:48<00:58, 13.44it/s]\n",
      " 60%|██████    | 1170/1950 [01:48<00:58, 13.44it/s]"
     ]
    },
    {
     "name": "stdout",
     "output_type": "stream",
     "text": [
      "\n",
      " ** Evaluating metrics for pharo test set. ** \n",
      "\n",
      "{'eval_loss': 0.23401305079460144, 'eval_f1': 0.6711011575148292, 'eval_precision': 0.7769060802314041, 'eval_recall': 0.6141749321994384, 'eval_runtime': 0.6618, 'eval_samples_per_second': 392.843, 'eval_steps_per_second': 49.861, 'epoch': 9.0}\n"
     ]
    },
    {
     "name": "stderr",
     "output_type": "stream",
     "text": [
      " 67%|██████▋   | 1299/1950 [02:00<00:49, 13.20it/s]\n",
      " 67%|██████▋   | 1300/1950 [02:01<00:49, 13.20it/s]"
     ]
    },
    {
     "name": "stdout",
     "output_type": "stream",
     "text": [
      "\n",
      " ** Evaluating metrics for pharo test set. ** \n",
      "\n",
      "{'eval_loss': 0.24790766835212708, 'eval_f1': 0.6740172536991483, 'eval_precision': 0.7809820818279464, 'eval_recall': 0.6290379504390093, 'eval_runtime': 0.7233, 'eval_samples_per_second': 359.459, 'eval_steps_per_second': 45.624, 'epoch': 10.0}\n"
     ]
    },
    {
     "name": "stderr",
     "output_type": "stream",
     "text": [
      " 73%|███████▎  | 1429/1950 [02:12<00:39, 13.23it/s]\n",
      " 73%|███████▎  | 1430/1950 [02:12<00:39, 13.23it/s]"
     ]
    },
    {
     "name": "stdout",
     "output_type": "stream",
     "text": [
      "\n",
      " ** Evaluating metrics for pharo test set. ** \n",
      "\n",
      "{'eval_loss': 0.24342216551303864, 'eval_f1': 0.7096027750900246, 'eval_precision': 0.8043821640315879, 'eval_recall': 0.654232624053136, 'eval_runtime': 0.6817, 'eval_samples_per_second': 381.421, 'eval_steps_per_second': 48.411, 'epoch': 11.0}\n"
     ]
    },
    {
     "name": "stderr",
     "output_type": "stream",
     "text": [
      " 80%|███████▉  | 1559/1950 [02:24<00:29, 13.20it/s]\n",
      " 80%|████████  | 1560/1950 [02:25<00:29, 13.20it/s]"
     ]
    },
    {
     "name": "stdout",
     "output_type": "stream",
     "text": [
      "\n",
      " ** Evaluating metrics for pharo test set. ** \n",
      "\n",
      "{'eval_loss': 0.24256956577301025, 'eval_f1': 0.7008562024954753, 'eval_precision': 0.7590954406841107, 'eval_recall': 0.659735387552513, 'eval_runtime': 0.7231, 'eval_samples_per_second': 359.554, 'eval_steps_per_second': 45.636, 'epoch': 12.0}\n"
     ]
    },
    {
     "name": "stderr",
     "output_type": "stream",
     "text": [
      " 87%|████████▋ | 1689/1950 [02:36<00:19, 13.47it/s]\n",
      " 87%|████████▋ | 1690/1950 [02:37<00:19, 13.47it/s]"
     ]
    },
    {
     "name": "stdout",
     "output_type": "stream",
     "text": [
      "\n",
      " ** Evaluating metrics for pharo test set. ** \n",
      "\n",
      "{'eval_loss': 0.24454239010810852, 'eval_f1': 0.6951668821620638, 'eval_precision': 0.7773649929179882, 'eval_recall': 0.6445651935671434, 'eval_runtime': 0.7099, 'eval_samples_per_second': 366.239, 'eval_steps_per_second': 46.484, 'epoch': 13.0}\n"
     ]
    },
    {
     "name": "stderr",
     "output_type": "stream",
     "text": [
      " 93%|█████████▎| 1820/1950 [02:48<00:09, 13.39it/s]\n",
      " 93%|█████████▎| 1820/1950 [02:49<00:09, 13.39it/s]"
     ]
    },
    {
     "name": "stdout",
     "output_type": "stream",
     "text": [
      "\n",
      " ** Evaluating metrics for pharo test set. ** \n",
      "\n",
      "{'eval_loss': 0.250672847032547, 'eval_f1': 0.7119987574754617, 'eval_precision': 0.7942971200700973, 'eval_recall': 0.6649657902920352, 'eval_runtime': 0.7076, 'eval_samples_per_second': 367.433, 'eval_steps_per_second': 46.636, 'epoch': 14.0}\n"
     ]
    },
    {
     "name": "stderr",
     "output_type": "stream",
     "text": [
      "100%|██████████| 1950/1950 [03:00<00:00, 13.79it/s]\n",
      "100%|██████████| 1950/1950 [03:03<00:00, 13.79it/s]"
     ]
    },
    {
     "name": "stdout",
     "output_type": "stream",
     "text": [
      "\n",
      " ** Evaluating metrics for pharo test set. ** \n",
      "\n",
      "{'eval_loss': 0.2492733597755432, 'eval_f1': 0.7188116022467084, 'eval_precision': 0.8059085135576177, 'eval_recall': 0.6697815779932543, 'eval_runtime': 0.6847, 'eval_samples_per_second': 379.745, 'eval_steps_per_second': 48.198, 'epoch': 15.0}\n"
     ]
    },
    {
     "name": "stderr",
     "output_type": "stream",
     "text": [
      "100%|██████████| 1950/1950 [03:05<00:00, 10.53it/s]\n"
     ]
    },
    {
     "name": "stdout",
     "output_type": "stream",
     "text": [
      "{'train_runtime': 185.1698, 'train_samples_per_second': 84.085, 'train_steps_per_second': 10.531, 'train_loss': 0.0941875721858098, 'epoch': 15.0}\n"
     ]
    },
    {
     "name": "stderr",
     "output_type": "stream",
     "text": [
      "100%|██████████| 33/33 [00:00<00:00, 43.71it/s]\n"
     ]
    },
    {
     "name": "stdout",
     "output_type": "stream",
     "text": [
      "\n",
      " ** Evaluating metrics for pharo test set. ** \n",
      "\n",
      "Evaluation Metrics: {'eval_loss': 0.2492733597755432, 'eval_f1': 0.7188116022467084, 'eval_precision': 0.8059085135576177, 'eval_recall': 0.6697815779932543, 'eval_runtime': 0.8099, 'eval_samples_per_second': 321.046, 'eval_steps_per_second': 40.748, 'epoch': 15.0}\n",
      "    comparison                                     model     lan  \\\n",
      "0   validation  epoch-15_batchSize-8_weightsOfDecay-0.01    java   \n",
      "1   validation  epoch-15_batchSize-8_weightsOfDecay-0.01    java   \n",
      "2   validation  epoch-15_batchSize-8_weightsOfDecay-0.01    java   \n",
      "3   validation  epoch-15_batchSize-8_weightsOfDecay-0.01    java   \n",
      "4   validation  epoch-15_batchSize-8_weightsOfDecay-0.01    java   \n",
      "5   validation  epoch-15_batchSize-8_weightsOfDecay-0.01    java   \n",
      "6   validation  epoch-15_batchSize-8_weightsOfDecay-0.01    java   \n",
      "7   validation  epoch-15_batchSize-8_weightsOfDecay-0.01  python   \n",
      "8   validation  epoch-15_batchSize-8_weightsOfDecay-0.01  python   \n",
      "9   validation  epoch-15_batchSize-8_weightsOfDecay-0.01  python   \n",
      "10  validation  epoch-15_batchSize-8_weightsOfDecay-0.01  python   \n",
      "11  validation  epoch-15_batchSize-8_weightsOfDecay-0.01  python   \n",
      "12  validation  epoch-15_batchSize-8_weightsOfDecay-0.01   pharo   \n",
      "13  validation  epoch-15_batchSize-8_weightsOfDecay-0.01   pharo   \n",
      "14  validation  epoch-15_batchSize-8_weightsOfDecay-0.01   pharo   \n",
      "15  validation  epoch-15_batchSize-8_weightsOfDecay-0.01   pharo   \n",
      "16  validation  epoch-15_batchSize-8_weightsOfDecay-0.01   pharo   \n",
      "17  validation  epoch-15_batchSize-8_weightsOfDecay-0.01   pharo   \n",
      "18  validation  epoch-15_batchSize-8_weightsOfDecay-0.01   pharo   \n",
      "\n",
      "                        cat  precision    recall        f1  \n",
      "0                   summary   0.944759  0.948791  0.946771  \n",
      "1                 Ownership   0.964912  1.000000  0.982143  \n",
      "2                    Expand   0.679245  0.705882  0.692308  \n",
      "3                     usage   0.958140  0.942792  0.950404  \n",
      "4                   Pointer   0.960894  0.910053  0.934783  \n",
      "5               deprecation   1.000000  0.900000  0.947368  \n",
      "6                  rational   0.653061  0.592593  0.621359  \n",
      "7                     Usage   0.927835  0.743802  0.825688  \n",
      "8                Parameters   0.855856  0.848214  0.852018  \n",
      "9          DevelopmentNotes   0.645833  0.775000  0.704545  \n",
      "10                   Expand   0.628571  0.637681  0.633094  \n",
      "11                  Summary   0.756098  0.849315  0.800000  \n",
      "12  Keyimplementationpoints   0.906250  0.690476  0.783784  \n",
      "13                  Example   0.956522  0.871287  0.911917  \n",
      "14         Responsibilities   0.677966  0.800000  0.733945  \n",
      "15          Classreferences   0.600000  0.250000  0.352941  \n",
      "16                   Intent   0.967742  0.789474  0.869565  \n",
      "17              Keymessages   0.755102  0.787234  0.770833  \n",
      "18            Collaborators   0.777778  0.500000  0.608696  \n",
      "------------------ Starting model ==> epochs: 20, batch size: 4, weights of decay: 0.01 ---------------------\n"
     ]
    },
    {
     "data": {
      "text/html": [
       "Finishing last run (ID:dqh3zgfs) before initializing another..."
      ],
      "text/plain": [
       "<IPython.core.display.HTML object>"
      ]
     },
     "metadata": {},
     "output_type": "display_data"
    },
    {
     "data": {
      "text/html": [
       "\n",
       "    <style>\n",
       "        .wandb-row {\n",
       "            display: flex;\n",
       "            flex-direction: row;\n",
       "            flex-wrap: wrap;\n",
       "            justify-content: flex-start;\n",
       "            width: 100%;\n",
       "        }\n",
       "        .wandb-col {\n",
       "            display: flex;\n",
       "            flex-direction: column;\n",
       "            flex-basis: 100%;\n",
       "            flex: 1;\n",
       "            padding: 10px;\n",
       "        }\n",
       "    </style>\n",
       "<div class=\"wandb-row\"><div class=\"wandb-col\"><h3>Run history:</h3><br/><table class=\"wandb\"><tr><td>eval/f1</td><td>▁▄▅▆▇▆▇▇▇▇██████</td></tr><tr><td>eval/loss</td><td>█▄▂▁▃▁▁▂▂▃▃▃▃▄▃▃</td></tr><tr><td>eval/precision</td><td>▁▅▅▇█▇██▇▇▇▇▇▇▇▇</td></tr><tr><td>eval/recall</td><td>▁▄▅▆▆▇▇▇▇▇██████</td></tr><tr><td>eval/runtime</td><td>▁▂▁▆▂▃▁▂▁▄▂▄▃▃▂█</td></tr><tr><td>eval/samples_per_second</td><td>█▇█▃▇▅█▆█▅▇▅▅▅▆▁</td></tr><tr><td>eval/steps_per_second</td><td>█▇█▃▇▅█▆█▅▇▅▅▅▆▁</td></tr><tr><td>train/epoch</td><td>▁▁▂▃▃▃▄▄▅▅▅▆▇▇▇███</td></tr><tr><td>train/global_step</td><td>▁▁▂▃▃▃▄▄▅▅▅▆▇▇▇███</td></tr><tr><td>train/grad_norm</td><td>▁</td></tr><tr><td>train/learning_rate</td><td>▁</td></tr><tr><td>train/loss</td><td>▁</td></tr></table><br/></div><div class=\"wandb-col\"><h3>Run summary:</h3><br/><table class=\"wandb\"><tr><td>eval/f1</td><td>0.71881</td></tr><tr><td>eval/loss</td><td>0.24927</td></tr><tr><td>eval/precision</td><td>0.80591</td></tr><tr><td>eval/recall</td><td>0.66978</td></tr><tr><td>eval/runtime</td><td>0.8099</td></tr><tr><td>eval/samples_per_second</td><td>321.046</td></tr><tr><td>eval/steps_per_second</td><td>40.748</td></tr><tr><td>total_flos</td><td>1024205760576000.0</td></tr><tr><td>train/epoch</td><td>15</td></tr><tr><td>train/global_step</td><td>1950</td></tr><tr><td>train/grad_norm</td><td>0.55881</td></tr><tr><td>train/learning_rate</td><td>2e-05</td></tr><tr><td>train/loss</td><td>0.1615</td></tr><tr><td>train_loss</td><td>0.09419</td></tr><tr><td>train_runtime</td><td>185.1698</td></tr><tr><td>train_samples_per_second</td><td>84.085</td></tr><tr><td>train_steps_per_second</td><td>10.531</td></tr></table><br/></div></div>"
      ],
      "text/plain": [
       "<IPython.core.display.HTML object>"
      ]
     },
     "metadata": {},
     "output_type": "display_data"
    },
    {
     "data": {
      "text/html": [
       " View run <strong style=\"color:#cdcd00\">pharo_epoch-15_batchSize-8_weightsOfDecay-0.01</strong> at: <a href='https://wandb.ai/ayoungren-colostate/NBSE2025_GridSearch_3/runs/dqh3zgfs' target=\"_blank\">https://wandb.ai/ayoungren-colostate/NBSE2025_GridSearch_3/runs/dqh3zgfs</a><br/> View project at: <a href='https://wandb.ai/ayoungren-colostate/NBSE2025_GridSearch_3' target=\"_blank\">https://wandb.ai/ayoungren-colostate/NBSE2025_GridSearch_3</a><br/>Synced 5 W&B file(s), 0 media file(s), 0 artifact file(s) and 0 other file(s)"
      ],
      "text/plain": [
       "<IPython.core.display.HTML object>"
      ]
     },
     "metadata": {},
     "output_type": "display_data"
    },
    {
     "data": {
      "text/html": [
       "Find logs at: <code>.\\wandb\\run-20241207_092339-dqh3zgfs\\logs</code>"
      ],
      "text/plain": [
       "<IPython.core.display.HTML object>"
      ]
     },
     "metadata": {},
     "output_type": "display_data"
    },
    {
     "data": {
      "text/html": [
       "Successfully finished last run (ID:dqh3zgfs). Initializing new run:<br/>"
      ],
      "text/plain": [
       "<IPython.core.display.HTML object>"
      ]
     },
     "metadata": {},
     "output_type": "display_data"
    },
    {
     "data": {
      "text/html": [
       "Tracking run with wandb version 0.18.7"
      ],
      "text/plain": [
       "<IPython.core.display.HTML object>"
      ]
     },
     "metadata": {},
     "output_type": "display_data"
    },
    {
     "data": {
      "text/html": [
       "Run data is saved locally in <code>c:\\Development\\TactitalTensorsFinalProject\\wandb\\run-20241207_093646-kf5i4ck7</code>"
      ],
      "text/plain": [
       "<IPython.core.display.HTML object>"
      ]
     },
     "metadata": {},
     "output_type": "display_data"
    },
    {
     "data": {
      "text/html": [
       "Syncing run <strong><a href='https://wandb.ai/ayoungren-colostate/NBSE2025_GridSearch_3/runs/kf5i4ck7' target=\"_blank\">java_epoch-20_batchSize-4_weightsOfDecay-0.01</a></strong> to <a href='https://wandb.ai/ayoungren-colostate/NBSE2025_GridSearch_3' target=\"_blank\">Weights & Biases</a> (<a href='https://wandb.me/developer-guide' target=\"_blank\">docs</a>)<br/>"
      ],
      "text/plain": [
       "<IPython.core.display.HTML object>"
      ]
     },
     "metadata": {},
     "output_type": "display_data"
    },
    {
     "data": {
      "text/html": [
       " View project at <a href='https://wandb.ai/ayoungren-colostate/NBSE2025_GridSearch_3' target=\"_blank\">https://wandb.ai/ayoungren-colostate/NBSE2025_GridSearch_3</a>"
      ],
      "text/plain": [
       "<IPython.core.display.HTML object>"
      ]
     },
     "metadata": {},
     "output_type": "display_data"
    },
    {
     "data": {
      "text/html": [
       " View run at <a href='https://wandb.ai/ayoungren-colostate/NBSE2025_GridSearch_3/runs/kf5i4ck7' target=\"_blank\">https://wandb.ai/ayoungren-colostate/NBSE2025_GridSearch_3/runs/kf5i4ck7</a>"
      ],
      "text/plain": [
       "<IPython.core.display.HTML object>"
      ]
     },
     "metadata": {},
     "output_type": "display_data"
    },
    {
     "name": "stderr",
     "output_type": "stream",
     "text": [
      "c:\\Users\\ayoun\\Miniconda3\\envs\\nbse2025\\lib\\site-packages\\torch\\_utils.py:776: UserWarning: TypedStorage is deprecated. It will be removed in the future and UntypedStorage will be the only storage class. This should only matter to you if you are using storages directly.  To access UntypedStorage directly, use tensor.untyped_storage() instead of tensor.storage()\n",
      "  return self.fget.__get__(instance, owner)()\n",
      "Some weights of RobertaForSequenceClassification were not initialized from the model checkpoint at microsoft/codebert-base and are newly initialized: ['classifier.dense.bias', 'classifier.dense.weight', 'classifier.out_proj.bias', 'classifier.out_proj.weight']\n",
      "You should probably TRAIN this model on a down-stream task to be able to use it for predictions and inference.\n",
      "Map: 100%|██████████| 7614/7614 [00:00<00:00, 16272.57 examples/s]\n",
      "  3%|▎         | 1002/30460 [01:03<30:21, 16.17it/s]"
     ]
    },
    {
     "name": "stdout",
     "output_type": "stream",
     "text": [
      "{'loss': 0.1586, 'grad_norm': 0.15519636869430542, 'learning_rate': 4.8358502954694684e-05, 'epoch': 0.66}\n"
     ]
    },
    {
     "name": "stderr",
     "output_type": "stream",
     "text": [
      "  5%|▍         | 1522/30460 [01:36<30:40, 15.72it/s]\n",
      "  5%|▌         | 1523/30460 [01:43<30:40, 15.72it/s]"
     ]
    },
    {
     "name": "stdout",
     "output_type": "stream",
     "text": [
      "\n",
      " ** Evaluating metrics for java test set. ** \n",
      "\n",
      "{'eval_loss': 0.11901015788316727, 'eval_f1': 0.525958749987395, 'eval_precision': 0.5293984414398859, 'eval_recall': 0.523017530209423, 'eval_runtime': 6.9585, 'eval_samples_per_second': 218.87, 'eval_steps_per_second': 54.754, 'epoch': 1.0}\n"
     ]
    },
    {
     "name": "stderr",
     "output_type": "stream",
     "text": [
      "  7%|▋         | 2002/30460 [02:15<31:50, 14.89it/s]   "
     ]
    },
    {
     "name": "stdout",
     "output_type": "stream",
     "text": [
      "{'loss': 0.1095, 'grad_norm': 8.95475959777832, 'learning_rate': 4.6717005909389365e-05, 'epoch': 1.31}\n"
     ]
    },
    {
     "name": "stderr",
     "output_type": "stream",
     "text": [
      " 10%|▉         | 3002/30460 [03:18<28:28, 16.08it/s]"
     ]
    },
    {
     "name": "stdout",
     "output_type": "stream",
     "text": [
      "{'loss': 0.0976, 'grad_norm': 0.6023632287979126, 'learning_rate': 4.507550886408405e-05, 'epoch': 1.97}\n"
     ]
    },
    {
     "name": "stderr",
     "output_type": "stream",
     "text": [
      " 10%|█         | 3046/30460 [03:21<29:48, 15.33it/s]\n",
      " 10%|█         | 3046/30460 [03:27<29:48, 15.33it/s]"
     ]
    },
    {
     "name": "stdout",
     "output_type": "stream",
     "text": [
      "\n",
      " ** Evaluating metrics for java test set. ** \n",
      "\n",
      "{'eval_loss': 0.09333226829767227, 'eval_f1': 0.7774207742257129, 'eval_precision': 0.894692668940965, 'eval_recall': 0.7311580699789071, 'eval_runtime': 6.3451, 'eval_samples_per_second': 240.029, 'eval_steps_per_second': 60.047, 'epoch': 2.0}\n"
     ]
    },
    {
     "name": "stderr",
     "output_type": "stream",
     "text": [
      " 13%|█▎        | 4002/30460 [04:29<27:14, 16.19it/s]  "
     ]
    },
    {
     "name": "stdout",
     "output_type": "stream",
     "text": [
      "{'loss': 0.0753, 'grad_norm': 0.045328378677368164, 'learning_rate': 4.343401181877873e-05, 'epoch': 2.63}\n"
     ]
    },
    {
     "name": "stderr",
     "output_type": "stream",
     "text": [
      " 15%|█▍        | 4568/30460 [05:05<26:43, 16.14it/s]\n",
      " 15%|█▌        | 4569/30460 [05:11<26:43, 16.14it/s]"
     ]
    },
    {
     "name": "stdout",
     "output_type": "stream",
     "text": [
      "\n",
      " ** Evaluating metrics for java test set. ** \n",
      "\n",
      "{'eval_loss': 0.0923575833439827, 'eval_f1': 0.8162786367080856, 'eval_precision': 0.838373295256532, 'eval_recall': 0.7981771052440053, 'eval_runtime': 5.8113, 'eval_samples_per_second': 262.076, 'eval_steps_per_second': 65.562, 'epoch': 3.0}\n"
     ]
    },
    {
     "name": "stderr",
     "output_type": "stream",
     "text": [
      " 16%|█▋        | 5002/30460 [05:40<25:58, 16.33it/s]  "
     ]
    },
    {
     "name": "stdout",
     "output_type": "stream",
     "text": [
      "{'loss': 0.0657, 'grad_norm': 16.533084869384766, 'learning_rate': 4.179251477347341e-05, 'epoch': 3.28}\n"
     ]
    },
    {
     "name": "stderr",
     "output_type": "stream",
     "text": [
      " 20%|█▉        | 6002/30460 [06:43<27:09, 15.01it/s]"
     ]
    },
    {
     "name": "stdout",
     "output_type": "stream",
     "text": [
      "{'loss': 0.0568, 'grad_norm': 4.497607231140137, 'learning_rate': 4.015101772816809e-05, 'epoch': 3.94}\n"
     ]
    },
    {
     "name": "stderr",
     "output_type": "stream",
     "text": [
      " 20%|██        | 6092/30460 [06:49<24:38, 16.48it/s]\n",
      " 20%|██        | 6092/30460 [06:55<24:38, 16.48it/s]"
     ]
    },
    {
     "name": "stdout",
     "output_type": "stream",
     "text": [
      "\n",
      " ** Evaluating metrics for java test set. ** \n",
      "\n",
      "{'eval_loss': 0.10009157657623291, 'eval_f1': 0.8400938519830727, 'eval_precision': 0.8708343279599219, 'eval_recall': 0.8142905419120252, 'eval_runtime': 6.0025, 'eval_samples_per_second': 253.726, 'eval_steps_per_second': 63.473, 'epoch': 4.0}\n"
     ]
    },
    {
     "name": "stderr",
     "output_type": "stream",
     "text": [
      " 23%|██▎       | 7002/30460 [07:54<25:16, 15.47it/s]  "
     ]
    },
    {
     "name": "stdout",
     "output_type": "stream",
     "text": [
      "{'loss': 0.0413, 'grad_norm': 0.007817510515451431, 'learning_rate': 3.850952068286277e-05, 'epoch': 4.6}\n"
     ]
    },
    {
     "name": "stderr",
     "output_type": "stream",
     "text": [
      " 25%|██▍       | 7614/30460 [08:32<26:29, 14.37it/s]\n",
      " 25%|██▌       | 7615/30460 [08:39<26:29, 14.37it/s]"
     ]
    },
    {
     "name": "stdout",
     "output_type": "stream",
     "text": [
      "\n",
      " ** Evaluating metrics for java test set. ** \n",
      "\n",
      "{'eval_loss': 0.11629816889762878, 'eval_f1': 0.8470527750452176, 'eval_precision': 0.8577189622328284, 'eval_recall': 0.8380720728585276, 'eval_runtime': 6.8246, 'eval_samples_per_second': 223.162, 'eval_steps_per_second': 55.827, 'epoch': 5.0}\n"
     ]
    },
    {
     "name": "stderr",
     "output_type": "stream",
     "text": [
      " 26%|██▋       | 8002/30460 [09:06<23:12, 16.13it/s]  "
     ]
    },
    {
     "name": "stdout",
     "output_type": "stream",
     "text": [
      "{'loss': 0.0399, 'grad_norm': 1.609573245048523, 'learning_rate': 3.6868023637557454e-05, 'epoch': 5.25}\n"
     ]
    },
    {
     "name": "stderr",
     "output_type": "stream",
     "text": [
      " 30%|██▉       | 9002/30460 [10:09<22:47, 15.69it/s]"
     ]
    },
    {
     "name": "stdout",
     "output_type": "stream",
     "text": [
      "{'loss': 0.0321, 'grad_norm': 2.9567744731903076, 'learning_rate': 3.5226526592252135e-05, 'epoch': 5.91}\n"
     ]
    },
    {
     "name": "stderr",
     "output_type": "stream",
     "text": [
      " 30%|███       | 9138/30460 [10:17<21:05, 16.85it/s]\n",
      " 30%|███       | 9138/30460 [10:24<21:05, 16.85it/s]"
     ]
    },
    {
     "name": "stdout",
     "output_type": "stream",
     "text": [
      "\n",
      " ** Evaluating metrics for java test set. ** \n",
      "\n",
      "{'eval_loss': 0.13707908987998962, 'eval_f1': 0.8093048395665736, 'eval_precision': 0.8525837833797454, 'eval_recall': 0.7763155962721372, 'eval_runtime': 6.53, 'eval_samples_per_second': 233.229, 'eval_steps_per_second': 58.346, 'epoch': 6.0}\n"
     ]
    },
    {
     "name": "stderr",
     "output_type": "stream",
     "text": [
      " 33%|███▎      | 10002/30460 [11:19<22:54, 14.88it/s] "
     ]
    },
    {
     "name": "stdout",
     "output_type": "stream",
     "text": [
      "{'loss': 0.0277, 'grad_norm': 0.02411346323788166, 'learning_rate': 3.3585029546946817e-05, 'epoch': 6.57}\n"
     ]
    },
    {
     "name": "stderr",
     "output_type": "stream",
     "text": [
      " 35%|███▍      | 10660/30460 [12:01<21:08, 15.61it/s]\n",
      " 35%|███▌      | 10661/30460 [12:07<21:08, 15.61it/s]"
     ]
    },
    {
     "name": "stdout",
     "output_type": "stream",
     "text": [
      "\n",
      " ** Evaluating metrics for java test set. ** \n",
      "\n",
      "{'eval_loss': 0.12553171813488007, 'eval_f1': 0.8438809523696537, 'eval_precision': 0.8424995365230378, 'eval_recall': 0.8459957417729085, 'eval_runtime': 5.7093, 'eval_samples_per_second': 266.757, 'eval_steps_per_second': 66.733, 'epoch': 7.0}\n"
     ]
    },
    {
     "name": "stderr",
     "output_type": "stream",
     "text": [
      " 36%|███▌      | 11002/30460 [12:30<20:06, 16.13it/s]  "
     ]
    },
    {
     "name": "stdout",
     "output_type": "stream",
     "text": [
      "{'loss': 0.0268, 'grad_norm': 0.00794950220733881, 'learning_rate': 3.19435325016415e-05, 'epoch': 7.22}\n"
     ]
    },
    {
     "name": "stderr",
     "output_type": "stream",
     "text": [
      " 39%|███▉      | 12002/30460 [13:32<18:34, 16.57it/s]"
     ]
    },
    {
     "name": "stdout",
     "output_type": "stream",
     "text": [
      "{'loss': 0.0205, 'grad_norm': 0.00551955122500658, 'learning_rate': 3.030203545633618e-05, 'epoch': 7.88}\n"
     ]
    },
    {
     "name": "stderr",
     "output_type": "stream",
     "text": [
      " 40%|████      | 12184/30460 [13:44<18:30, 16.46it/s]\n",
      " 40%|████      | 12184/30460 [13:50<18:30, 16.46it/s]"
     ]
    },
    {
     "name": "stdout",
     "output_type": "stream",
     "text": [
      "\n",
      " ** Evaluating metrics for java test set. ** \n",
      "\n",
      "{'eval_loss': 0.13599897921085358, 'eval_f1': 0.8391863303557712, 'eval_precision': 0.8239611463734394, 'eval_recall': 0.8572893044904274, 'eval_runtime': 6.2228, 'eval_samples_per_second': 244.745, 'eval_steps_per_second': 61.227, 'epoch': 8.0}\n"
     ]
    },
    {
     "name": "stderr",
     "output_type": "stream",
     "text": [
      " 43%|████▎     | 13002/30460 [14:43<19:32, 14.88it/s]  "
     ]
    },
    {
     "name": "stdout",
     "output_type": "stream",
     "text": [
      "{'loss': 0.0153, 'grad_norm': 0.011293191462755203, 'learning_rate': 2.8660538411030864e-05, 'epoch': 8.54}\n"
     ]
    },
    {
     "name": "stderr",
     "output_type": "stream",
     "text": [
      " 45%|████▍     | 13706/30460 [15:27<17:48, 15.68it/s]\n",
      " 45%|████▌     | 13707/30460 [15:34<17:48, 15.68it/s]"
     ]
    },
    {
     "name": "stdout",
     "output_type": "stream",
     "text": [
      "\n",
      " ** Evaluating metrics for java test set. ** \n",
      "\n",
      "{'eval_loss': 0.15169255435466766, 'eval_f1': 0.8364481297581653, 'eval_precision': 0.8533720125543205, 'eval_recall': 0.8231716864699578, 'eval_runtime': 6.675, 'eval_samples_per_second': 228.165, 'eval_steps_per_second': 57.079, 'epoch': 9.0}\n"
     ]
    },
    {
     "name": "stderr",
     "output_type": "stream",
     "text": [
      " 46%|████▌     | 14002/30460 [15:54<18:17, 14.99it/s]  "
     ]
    },
    {
     "name": "stdout",
     "output_type": "stream",
     "text": [
      "{'loss': 0.017, 'grad_norm': 0.03893284127116203, 'learning_rate': 2.7019041365725546e-05, 'epoch': 9.19}\n"
     ]
    },
    {
     "name": "stderr",
     "output_type": "stream",
     "text": [
      " 49%|████▉     | 15002/30460 [16:57<16:17, 15.81it/s]"
     ]
    },
    {
     "name": "stdout",
     "output_type": "stream",
     "text": [
      "{'loss': 0.0168, 'grad_norm': 0.012770706787705421, 'learning_rate': 2.5377544320420227e-05, 'epoch': 9.85}\n"
     ]
    },
    {
     "name": "stderr",
     "output_type": "stream",
     "text": [
      " 50%|█████     | 15230/30460 [17:11<15:16, 16.61it/s]\n",
      " 50%|█████     | 15230/30460 [17:18<15:16, 16.61it/s]"
     ]
    },
    {
     "name": "stdout",
     "output_type": "stream",
     "text": [
      "\n",
      " ** Evaluating metrics for java test set. ** \n",
      "\n",
      "{'eval_loss': 0.15066884458065033, 'eval_f1': 0.8425547303161791, 'eval_precision': 0.8493971091655252, 'eval_recall': 0.8375153614197516, 'eval_runtime': 6.7372, 'eval_samples_per_second': 226.06, 'eval_steps_per_second': 56.552, 'epoch': 10.0}\n"
     ]
    },
    {
     "name": "stderr",
     "output_type": "stream",
     "text": [
      " 53%|█████▎    | 16002/30460 [18:09<14:39, 16.44it/s]  "
     ]
    },
    {
     "name": "stdout",
     "output_type": "stream",
     "text": [
      "{'loss': 0.0123, 'grad_norm': 0.007522749248892069, 'learning_rate': 2.3736047275114905e-05, 'epoch': 10.51}\n"
     ]
    },
    {
     "name": "stderr",
     "output_type": "stream",
     "text": [
      " 55%|█████▍    | 16752/30460 [18:56<13:59, 16.32it/s]\n",
      " 55%|█████▌    | 16753/30460 [19:02<13:59, 16.32it/s]"
     ]
    },
    {
     "name": "stdout",
     "output_type": "stream",
     "text": [
      "\n",
      " ** Evaluating metrics for java test set. ** \n",
      "\n",
      "{'eval_loss': 0.12663614749908447, 'eval_f1': 0.864316729816119, 'eval_precision': 0.8594225639951215, 'eval_recall': 0.8703994395223748, 'eval_runtime': 5.684, 'eval_samples_per_second': 267.944, 'eval_steps_per_second': 67.03, 'epoch': 11.0}\n"
     ]
    },
    {
     "name": "stderr",
     "output_type": "stream",
     "text": [
      " 56%|█████▌    | 17002/30460 [19:19<14:04, 15.93it/s]  "
     ]
    },
    {
     "name": "stdout",
     "output_type": "stream",
     "text": [
      "{'loss': 0.0101, 'grad_norm': 0.003383345203474164, 'learning_rate': 2.2094550229809586e-05, 'epoch': 11.16}\n"
     ]
    },
    {
     "name": "stderr",
     "output_type": "stream",
     "text": [
      " 59%|█████▉    | 18002/30460 [20:23<13:08, 15.80it/s]"
     ]
    },
    {
     "name": "stdout",
     "output_type": "stream",
     "text": [
      "{'loss': 0.0114, 'grad_norm': 0.005847027525305748, 'learning_rate': 2.045305318450427e-05, 'epoch': 11.82}\n"
     ]
    },
    {
     "name": "stderr",
     "output_type": "stream",
     "text": [
      " 60%|██████    | 18276/30460 [20:40<12:38, 16.07it/s]\n",
      " 60%|██████    | 18276/30460 [20:47<12:38, 16.07it/s]"
     ]
    },
    {
     "name": "stdout",
     "output_type": "stream",
     "text": [
      "\n",
      " ** Evaluating metrics for java test set. ** \n",
      "\n",
      "{'eval_loss': 0.15161816775798798, 'eval_f1': 0.8439876784420038, 'eval_precision': 0.8567704156184851, 'eval_recall': 0.8348560743557186, 'eval_runtime': 6.375, 'eval_samples_per_second': 238.904, 'eval_steps_per_second': 59.765, 'epoch': 12.0}\n"
     ]
    },
    {
     "name": "stderr",
     "output_type": "stream",
     "text": [
      " 62%|██████▏   | 19002/30460 [21:34<11:42, 16.31it/s]  "
     ]
    },
    {
     "name": "stdout",
     "output_type": "stream",
     "text": [
      "{'loss': 0.0048, 'grad_norm': 0.010884199291467667, 'learning_rate': 1.881155613919895e-05, 'epoch': 12.48}\n"
     ]
    },
    {
     "name": "stderr",
     "output_type": "stream",
     "text": [
      " 65%|██████▍   | 19798/30460 [22:23<12:02, 14.76it/s]\n",
      " 65%|██████▌   | 19799/30460 [22:30<12:02, 14.76it/s]"
     ]
    },
    {
     "name": "stdout",
     "output_type": "stream",
     "text": [
      "\n",
      " ** Evaluating metrics for java test set. ** \n",
      "\n",
      "{'eval_loss': 0.16219905018806458, 'eval_f1': 0.8371787563941178, 'eval_precision': 0.8424486664184876, 'eval_recall': 0.8366784958635429, 'eval_runtime': 6.8681, 'eval_samples_per_second': 221.749, 'eval_steps_per_second': 55.474, 'epoch': 13.0}\n"
     ]
    },
    {
     "name": "stderr",
     "output_type": "stream",
     "text": [
      " 66%|██████▌   | 20002/30460 [22:45<11:32, 15.10it/s]  "
     ]
    },
    {
     "name": "stdout",
     "output_type": "stream",
     "text": [
      "{'loss': 0.0067, 'grad_norm': 0.009802866727113724, 'learning_rate': 1.717005909389363e-05, 'epoch': 13.13}\n"
     ]
    },
    {
     "name": "stderr",
     "output_type": "stream",
     "text": [
      " 69%|██████▉   | 21002/30460 [23:47<11:02, 14.28it/s]"
     ]
    },
    {
     "name": "stdout",
     "output_type": "stream",
     "text": [
      "{'loss': 0.0061, 'grad_norm': 1.343064546585083, 'learning_rate': 1.5528562048588312e-05, 'epoch': 13.79}\n"
     ]
    },
    {
     "name": "stderr",
     "output_type": "stream",
     "text": [
      " 70%|███████   | 21322/30460 [24:08<08:59, 16.93it/s]\n",
      " 70%|███████   | 21322/30460 [24:14<08:59, 16.93it/s]"
     ]
    },
    {
     "name": "stdout",
     "output_type": "stream",
     "text": [
      "\n",
      " ** Evaluating metrics for java test set. ** \n",
      "\n",
      "{'eval_loss': 0.14505991339683533, 'eval_f1': 0.8608233486272413, 'eval_precision': 0.8634930506793953, 'eval_recall': 0.8588050628336765, 'eval_runtime': 6.2489, 'eval_samples_per_second': 243.723, 'eval_steps_per_second': 60.971, 'epoch': 14.0}\n"
     ]
    },
    {
     "name": "stderr",
     "output_type": "stream",
     "text": [
      " 72%|███████▏  | 22002/30460 [24:59<08:27, 16.67it/s]  "
     ]
    },
    {
     "name": "stdout",
     "output_type": "stream",
     "text": [
      "{'loss': 0.0057, 'grad_norm': 0.07342442870140076, 'learning_rate': 1.3887065003282995e-05, 'epoch': 14.45}\n"
     ]
    },
    {
     "name": "stderr",
     "output_type": "stream",
     "text": [
      " 75%|███████▍  | 22844/30460 [25:52<08:18, 15.29it/s]\n",
      " 75%|███████▌  | 22845/30460 [25:57<08:17, 15.29it/s]"
     ]
    },
    {
     "name": "stdout",
     "output_type": "stream",
     "text": [
      "\n",
      " ** Evaluating metrics for java test set. ** \n",
      "\n",
      "{'eval_loss': 0.14825697243213654, 'eval_f1': 0.8703402636121986, 'eval_precision': 0.8851981476088142, 'eval_recall': 0.8600447280292675, 'eval_runtime': 5.5989, 'eval_samples_per_second': 272.02, 'eval_steps_per_second': 68.05, 'epoch': 15.0}\n"
     ]
    },
    {
     "name": "stderr",
     "output_type": "stream",
     "text": [
      " 76%|███████▌  | 23002/30460 [26:09<07:58, 15.57it/s]  "
     ]
    },
    {
     "name": "stdout",
     "output_type": "stream",
     "text": [
      "{'loss': 0.005, 'grad_norm': 0.007914071902632713, 'learning_rate': 1.2245567957977677e-05, 'epoch': 15.1}\n"
     ]
    },
    {
     "name": "stderr",
     "output_type": "stream",
     "text": [
      " 79%|███████▉  | 24002/30460 [27:12<06:48, 15.83it/s]"
     ]
    },
    {
     "name": "stdout",
     "output_type": "stream",
     "text": [
      "{'loss': 0.0025, 'grad_norm': 0.003541424171999097, 'learning_rate': 1.0604070912672358e-05, 'epoch': 15.76}\n"
     ]
    },
    {
     "name": "stderr",
     "output_type": "stream",
     "text": [
      " 80%|████████  | 24368/30460 [27:36<06:13, 16.31it/s]\n",
      " 80%|████████  | 24368/30460 [27:42<06:13, 16.31it/s]"
     ]
    },
    {
     "name": "stdout",
     "output_type": "stream",
     "text": [
      "\n",
      " ** Evaluating metrics for java test set. ** \n",
      "\n",
      "{'eval_loss': 0.16622476279735565, 'eval_f1': 0.8501053650917363, 'eval_precision': 0.8595388781670705, 'eval_recall': 0.8427954042322444, 'eval_runtime': 6.1517, 'eval_samples_per_second': 247.572, 'eval_steps_per_second': 61.934, 'epoch': 16.0}\n"
     ]
    },
    {
     "name": "stderr",
     "output_type": "stream",
     "text": [
      " 82%|████████▏ | 25002/30460 [28:23<06:20, 14.33it/s]  "
     ]
    },
    {
     "name": "stdout",
     "output_type": "stream",
     "text": [
      "{'loss': 0.0034, 'grad_norm': 0.0004726785409729928, 'learning_rate': 8.96257386736704e-06, 'epoch': 16.41}\n"
     ]
    },
    {
     "name": "stderr",
     "output_type": "stream",
     "text": [
      " 85%|████████▍ | 25890/30460 [29:20<05:04, 15.01it/s]\n",
      " 85%|████████▌ | 25891/30460 [29:27<05:04, 15.01it/s]"
     ]
    },
    {
     "name": "stdout",
     "output_type": "stream",
     "text": [
      "\n",
      " ** Evaluating metrics for java test set. ** \n",
      "\n",
      "{'eval_loss': 0.15883567929267883, 'eval_f1': 0.8590408314619568, 'eval_precision': 0.859063909384827, 'eval_recall': 0.8596053678375852, 'eval_runtime': 7.3415, 'eval_samples_per_second': 207.452, 'eval_steps_per_second': 51.897, 'epoch': 17.0}\n"
     ]
    },
    {
     "name": "stderr",
     "output_type": "stream",
     "text": [
      " 85%|████████▌ | 26002/30460 [29:36<04:32, 16.35it/s]  "
     ]
    },
    {
     "name": "stdout",
     "output_type": "stream",
     "text": [
      "{'loss': 0.0027, 'grad_norm': 0.006902558729052544, 'learning_rate': 7.321076822061721e-06, 'epoch': 17.07}\n"
     ]
    },
    {
     "name": "stderr",
     "output_type": "stream",
     "text": [
      " 89%|████████▊ | 27002/30460 [30:38<03:34, 16.13it/s]"
     ]
    },
    {
     "name": "stdout",
     "output_type": "stream",
     "text": [
      "{'loss': 0.0024, 'grad_norm': 0.00492890365421772, 'learning_rate': 5.679579776756402e-06, 'epoch': 17.73}\n"
     ]
    },
    {
     "name": "stderr",
     "output_type": "stream",
     "text": [
      " 90%|█████████ | 27414/30460 [31:04<03:12, 15.81it/s]\n",
      " 90%|█████████ | 27414/30460 [31:11<03:12, 15.81it/s]"
     ]
    },
    {
     "name": "stdout",
     "output_type": "stream",
     "text": [
      "\n",
      " ** Evaluating metrics for java test set. ** \n",
      "\n",
      "{'eval_loss': 0.1659005731344223, 'eval_f1': 0.8573574017788523, 'eval_precision': 0.867826691338208, 'eval_recall': 0.8498136679510832, 'eval_runtime': 6.2749, 'eval_samples_per_second': 242.713, 'eval_steps_per_second': 60.718, 'epoch': 18.0}\n"
     ]
    },
    {
     "name": "stderr",
     "output_type": "stream",
     "text": [
      " 92%|█████████▏| 28002/30460 [31:49<02:35, 15.85it/s]  "
     ]
    },
    {
     "name": "stdout",
     "output_type": "stream",
     "text": [
      "{'loss': 0.001, 'grad_norm': 0.0018304269760847092, 'learning_rate': 4.038082731451084e-06, 'epoch': 18.38}\n"
     ]
    },
    {
     "name": "stderr",
     "output_type": "stream",
     "text": [
      " 95%|█████████▍| 28936/30460 [32:48<01:29, 16.97it/s]\n",
      " 95%|█████████▌| 28937/30460 [32:54<01:29, 16.97it/s]"
     ]
    },
    {
     "name": "stdout",
     "output_type": "stream",
     "text": [
      "\n",
      " ** Evaluating metrics for java test set. ** \n",
      "\n",
      "{'eval_loss': 0.16298989951610565, 'eval_f1': 0.856750623402685, 'eval_precision': 0.8563366878004111, 'eval_recall': 0.8580520042762606, 'eval_runtime': 5.9027, 'eval_samples_per_second': 258.019, 'eval_steps_per_second': 64.547, 'epoch': 19.0}\n"
     ]
    },
    {
     "name": "stderr",
     "output_type": "stream",
     "text": [
      " 95%|█████████▌| 29002/30460 [33:00<01:43, 14.08it/s]"
     ]
    },
    {
     "name": "stdout",
     "output_type": "stream",
     "text": [
      "{'loss': 0.0019, 'grad_norm': 0.002089886227622628, 'learning_rate': 2.396585686145765e-06, 'epoch': 19.04}\n"
     ]
    },
    {
     "name": "stderr",
     "output_type": "stream",
     "text": [
      " 98%|█████████▊| 30002/30460 [34:04<00:28, 15.86it/s]"
     ]
    },
    {
     "name": "stdout",
     "output_type": "stream",
     "text": [
      "{'loss': 0.0015, 'grad_norm': 0.0005213675904087722, 'learning_rate': 7.550886408404465e-07, 'epoch': 19.7}\n"
     ]
    },
    {
     "name": "stderr",
     "output_type": "stream",
     "text": [
      "100%|██████████| 30460/30460 [34:33<00:00, 16.51it/s]\n",
      "100%|██████████| 30460/30460 [34:41<00:00, 16.51it/s]"
     ]
    },
    {
     "name": "stdout",
     "output_type": "stream",
     "text": [
      "\n",
      " ** Evaluating metrics for java test set. ** \n",
      "\n",
      "{'eval_loss': 0.16292807459831238, 'eval_f1': 0.8611469652413889, 'eval_precision': 0.8686743854364823, 'eval_recall': 0.8547743372195808, 'eval_runtime': 6.3745, 'eval_samples_per_second': 238.921, 'eval_steps_per_second': 59.77, 'epoch': 20.0}\n"
     ]
    },
    {
     "name": "stderr",
     "output_type": "stream",
     "text": [
      "100%|██████████| 30460/30460 [34:43<00:00, 14.62it/s]\n"
     ]
    },
    {
     "name": "stdout",
     "output_type": "stream",
     "text": [
      "{'train_runtime': 2083.9411, 'train_samples_per_second': 58.457, 'train_steps_per_second': 14.617, 'train_loss': 0.028843043367387588, 'epoch': 20.0}\n"
     ]
    },
    {
     "name": "stderr",
     "output_type": "stream",
     "text": [
      "100%|██████████| 381/381 [00:06<00:00, 62.94it/s]\n"
     ]
    },
    {
     "name": "stdout",
     "output_type": "stream",
     "text": [
      "\n",
      " ** Evaluating metrics for java test set. ** \n",
      "\n",
      "Evaluation Metrics: {'eval_loss': 0.14825697243213654, 'eval_f1': 0.8703402636121986, 'eval_precision': 0.8851981476088142, 'eval_recall': 0.8600447280292675, 'eval_runtime': 6.0886, 'eval_samples_per_second': 250.14, 'eval_steps_per_second': 62.576, 'epoch': 20.0}\n"
     ]
    },
    {
     "data": {
      "text/html": [
       "Finishing last run (ID:kf5i4ck7) before initializing another..."
      ],
      "text/plain": [
       "<IPython.core.display.HTML object>"
      ]
     },
     "metadata": {},
     "output_type": "display_data"
    },
    {
     "data": {
      "text/html": [
       "\n",
       "    <style>\n",
       "        .wandb-row {\n",
       "            display: flex;\n",
       "            flex-direction: row;\n",
       "            flex-wrap: wrap;\n",
       "            justify-content: flex-start;\n",
       "            width: 100%;\n",
       "        }\n",
       "        .wandb-col {\n",
       "            display: flex;\n",
       "            flex-direction: column;\n",
       "            flex-basis: 100%;\n",
       "            flex: 1;\n",
       "            padding: 10px;\n",
       "        }\n",
       "    </style>\n",
       "<div class=\"wandb-row\"><div class=\"wandb-col\"><h3>Run history:</h3><br/><table class=\"wandb\"><tr><td>eval/f1</td><td>▁▆▇▇█▇▇▇▇▇█▇▇████████</td></tr><tr><td>eval/loss</td><td>▄▁▁▂▃▅▄▅▇▇▄▇█▆▆█▇███▆</td></tr><tr><td>eval/precision</td><td>▁█▇█▇▇▇▇▇▇▇▇▇▇█▇▇▇▇██</td></tr><tr><td>eval/recall</td><td>▁▅▇▇▇▆██▇▇█▇▇██▇█████</td></tr><tr><td>eval/runtime</td><td>▆▄▂▃▆▅▁▄▅▆▁▄▆▄▁▃█▄▂▄▃</td></tr><tr><td>eval/samples_per_second</td><td>▂▅▇▆▃▄▇▅▃▃█▄▃▅█▅▁▅▆▄▆</td></tr><tr><td>eval/steps_per_second</td><td>▂▅▇▆▃▄▇▅▃▃█▄▃▅█▅▁▅▆▄▆</td></tr><tr><td>train/epoch</td><td>▁▁▁▁▁▂▂▂▂▂▃▃▃▃▃▄▄▄▄▄▅▅▅▅▅▅▆▆▆▆▆▆▇▇▇▇████</td></tr><tr><td>train/global_step</td><td>▁▁▁▁▂▂▂▂▃▃▃▃▃▃▄▄▄▄▄▅▅▅▅▅▅▆▆▆▆▆▇▇▇▇▇█████</td></tr><tr><td>train/grad_norm</td><td>▁▅▁▁█▃▁▂▂▁▁▁▁▁▁▁▁▁▁▁▂▁▁▁▁▁▁▁▁▁</td></tr><tr><td>train/learning_rate</td><td>███▇▇▇▇▆▆▆▆▅▅▅▅▄▄▄▄▃▃▃▃▂▂▂▂▁▁▁</td></tr><tr><td>train/loss</td><td>█▆▅▄▄▃▃▃▂▂▂▂▂▂▂▂▁▁▁▁▁▁▁▁▁▁▁▁▁▁</td></tr></table><br/></div><div class=\"wandb-col\"><h3>Run summary:</h3><br/><table class=\"wandb\"><tr><td>eval/f1</td><td>0.87034</td></tr><tr><td>eval/loss</td><td>0.14826</td></tr><tr><td>eval/precision</td><td>0.8852</td></tr><tr><td>eval/recall</td><td>0.86004</td></tr><tr><td>eval/runtime</td><td>6.0886</td></tr><tr><td>eval/samples_per_second</td><td>250.14</td></tr><tr><td>eval/steps_per_second</td><td>62.576</td></tr><tr><td>total_flos</td><td>8013406920576000.0</td></tr><tr><td>train/epoch</td><td>20</td></tr><tr><td>train/global_step</td><td>30460</td></tr><tr><td>train/grad_norm</td><td>0.00052</td></tr><tr><td>train/learning_rate</td><td>0.0</td></tr><tr><td>train/loss</td><td>0.0015</td></tr><tr><td>train_loss</td><td>0.02884</td></tr><tr><td>train_runtime</td><td>2083.9411</td></tr><tr><td>train_samples_per_second</td><td>58.457</td></tr><tr><td>train_steps_per_second</td><td>14.617</td></tr></table><br/></div></div>"
      ],
      "text/plain": [
       "<IPython.core.display.HTML object>"
      ]
     },
     "metadata": {},
     "output_type": "display_data"
    },
    {
     "data": {
      "text/html": [
       " View run <strong style=\"color:#cdcd00\">java_epoch-20_batchSize-4_weightsOfDecay-0.01</strong> at: <a href='https://wandb.ai/ayoungren-colostate/NBSE2025_GridSearch_3/runs/kf5i4ck7' target=\"_blank\">https://wandb.ai/ayoungren-colostate/NBSE2025_GridSearch_3/runs/kf5i4ck7</a><br/> View project at: <a href='https://wandb.ai/ayoungren-colostate/NBSE2025_GridSearch_3' target=\"_blank\">https://wandb.ai/ayoungren-colostate/NBSE2025_GridSearch_3</a><br/>Synced 5 W&B file(s), 0 media file(s), 0 artifact file(s) and 0 other file(s)"
      ],
      "text/plain": [
       "<IPython.core.display.HTML object>"
      ]
     },
     "metadata": {},
     "output_type": "display_data"
    },
    {
     "data": {
      "text/html": [
       "Find logs at: <code>.\\wandb\\run-20241207_093646-kf5i4ck7\\logs</code>"
      ],
      "text/plain": [
       "<IPython.core.display.HTML object>"
      ]
     },
     "metadata": {},
     "output_type": "display_data"
    },
    {
     "data": {
      "text/html": [
       "Successfully finished last run (ID:kf5i4ck7). Initializing new run:<br/>"
      ],
      "text/plain": [
       "<IPython.core.display.HTML object>"
      ]
     },
     "metadata": {},
     "output_type": "display_data"
    },
    {
     "data": {
      "text/html": [
       "Tracking run with wandb version 0.18.7"
      ],
      "text/plain": [
       "<IPython.core.display.HTML object>"
      ]
     },
     "metadata": {},
     "output_type": "display_data"
    },
    {
     "data": {
      "text/html": [
       "Run data is saved locally in <code>c:\\Development\\TactitalTensorsFinalProject\\wandb\\run-20241207_111017-tdmx4p7z</code>"
      ],
      "text/plain": [
       "<IPython.core.display.HTML object>"
      ]
     },
     "metadata": {},
     "output_type": "display_data"
    },
    {
     "data": {
      "text/html": [
       "Syncing run <strong><a href='https://wandb.ai/ayoungren-colostate/NBSE2025_GridSearch_3/runs/tdmx4p7z' target=\"_blank\">python_epoch-20_batchSize-4_weightsOfDecay-0.01</a></strong> to <a href='https://wandb.ai/ayoungren-colostate/NBSE2025_GridSearch_3' target=\"_blank\">Weights & Biases</a> (<a href='https://wandb.me/developer-guide' target=\"_blank\">docs</a>)<br/>"
      ],
      "text/plain": [
       "<IPython.core.display.HTML object>"
      ]
     },
     "metadata": {},
     "output_type": "display_data"
    },
    {
     "data": {
      "text/html": [
       " View project at <a href='https://wandb.ai/ayoungren-colostate/NBSE2025_GridSearch_3' target=\"_blank\">https://wandb.ai/ayoungren-colostate/NBSE2025_GridSearch_3</a>"
      ],
      "text/plain": [
       "<IPython.core.display.HTML object>"
      ]
     },
     "metadata": {},
     "output_type": "display_data"
    },
    {
     "data": {
      "text/html": [
       " View run at <a href='https://wandb.ai/ayoungren-colostate/NBSE2025_GridSearch_3/runs/tdmx4p7z' target=\"_blank\">https://wandb.ai/ayoungren-colostate/NBSE2025_GridSearch_3/runs/tdmx4p7z</a>"
      ],
      "text/plain": [
       "<IPython.core.display.HTML object>"
      ]
     },
     "metadata": {},
     "output_type": "display_data"
    },
    {
     "name": "stderr",
     "output_type": "stream",
     "text": [
      "c:\\Users\\ayoun\\Miniconda3\\envs\\nbse2025\\lib\\site-packages\\torch\\_utils.py:776: UserWarning: TypedStorage is deprecated. It will be removed in the future and UntypedStorage will be the only storage class. This should only matter to you if you are using storages directly.  To access UntypedStorage directly, use tensor.untyped_storage() instead of tensor.storage()\n",
      "  return self.fget.__get__(instance, owner)()\n",
      "Some weights of RobertaForSequenceClassification were not initialized from the model checkpoint at microsoft/codebert-base and are newly initialized: ['classifier.dense.bias', 'classifier.dense.weight', 'classifier.out_proj.bias', 'classifier.out_proj.weight']\n",
      "You should probably TRAIN this model on a down-stream task to be able to use it for predictions and inference.\n",
      "Map: 100%|██████████| 1884/1884 [00:00<00:00, 9491.52 examples/s] \n",
      "  5%|▌         | 377/7540 [00:23<07:47, 15.31it/s]\n",
      "  5%|▌         | 377/7540 [00:25<07:47, 15.31it/s]"
     ]
    },
    {
     "name": "stdout",
     "output_type": "stream",
     "text": [
      "\n",
      " ** Evaluating metrics for python test set. ** \n",
      "\n",
      "{'eval_loss': 0.32231611013412476, 'eval_f1': 0.4463753167069841, 'eval_precision': 0.5321651902032308, 'eval_recall': 0.3927079458524042, 'eval_runtime': 1.8857, 'eval_samples_per_second': 199.93, 'eval_steps_per_second': 50.38, 'epoch': 1.0}\n"
     ]
    },
    {
     "name": "stderr",
     "output_type": "stream",
     "text": [
      " 10%|▉         | 753/7540 [00:50<07:15, 15.59it/s]  \n",
      " 10%|█         | 754/7540 [00:52<07:15, 15.59it/s]"
     ]
    },
    {
     "name": "stdout",
     "output_type": "stream",
     "text": [
      "\n",
      " ** Evaluating metrics for python test set. ** \n",
      "\n",
      "{'eval_loss': 0.31431815028190613, 'eval_f1': 0.5478194081051224, 'eval_precision': 0.6510244115082825, 'eval_recall': 0.4914098686250671, 'eval_runtime': 1.9263, 'eval_samples_per_second': 195.715, 'eval_steps_per_second': 49.318, 'epoch': 2.0}\n"
     ]
    },
    {
     "name": "stderr",
     "output_type": "stream",
     "text": [
      " 13%|█▎        | 1003/7540 [01:10<06:53, 15.83it/s] "
     ]
    },
    {
     "name": "stdout",
     "output_type": "stream",
     "text": [
      "{'loss': 0.3275, 'grad_norm': 4.9528656005859375, 'learning_rate': 4.3368700265251996e-05, 'epoch': 2.65}\n"
     ]
    },
    {
     "name": "stderr",
     "output_type": "stream",
     "text": [
      " 15%|█▌        | 1131/7540 [01:18<07:05, 15.07it/s]\n",
      " 15%|█▌        | 1131/7540 [01:20<07:05, 15.07it/s]"
     ]
    },
    {
     "name": "stdout",
     "output_type": "stream",
     "text": [
      "\n",
      " ** Evaluating metrics for python test set. ** \n",
      "\n",
      "{'eval_loss': 0.3665944039821625, 'eval_f1': 0.6564880165285845, 'eval_precision': 0.7659047619047619, 'eval_recall': 0.6051491852850888, 'eval_runtime': 1.7758, 'eval_samples_per_second': 212.296, 'eval_steps_per_second': 53.496, 'epoch': 3.0}\n"
     ]
    },
    {
     "name": "stderr",
     "output_type": "stream",
     "text": [
      " 20%|█▉        | 1507/7540 [01:45<06:46, 14.83it/s]  \n",
      " 20%|██        | 1508/7540 [01:47<06:46, 14.83it/s]"
     ]
    },
    {
     "name": "stdout",
     "output_type": "stream",
     "text": [
      "\n",
      " ** Evaluating metrics for python test set. ** \n",
      "\n",
      "{'eval_loss': 0.38242968916893005, 'eval_f1': 0.6841592088917304, 'eval_precision': 0.7352328641065495, 'eval_recall': 0.6447353527227911, 'eval_runtime': 1.9185, 'eval_samples_per_second': 196.505, 'eval_steps_per_second': 49.517, 'epoch': 4.0}\n"
     ]
    },
    {
     "name": "stderr",
     "output_type": "stream",
     "text": [
      " 25%|██▌       | 1885/7540 [02:13<06:13, 15.13it/s]  \n",
      " 25%|██▌       | 1885/7540 [02:15<06:13, 15.13it/s]"
     ]
    },
    {
     "name": "stdout",
     "output_type": "stream",
     "text": [
      "\n",
      " ** Evaluating metrics for python test set. ** \n",
      "\n",
      "{'eval_loss': 0.4002479612827301, 'eval_f1': 0.6854615894348205, 'eval_precision': 0.7164753692208168, 'eval_recall': 0.6589016502204817, 'eval_runtime': 1.9646, 'eval_samples_per_second': 191.897, 'eval_steps_per_second': 48.356, 'epoch': 5.0}\n"
     ]
    },
    {
     "name": "stderr",
     "output_type": "stream",
     "text": [
      " 27%|██▋       | 2003/7540 [02:24<06:05, 15.16it/s]"
     ]
    },
    {
     "name": "stdout",
     "output_type": "stream",
     "text": [
      "{'loss': 0.1288, 'grad_norm': 0.11996881663799286, 'learning_rate': 3.673740053050398e-05, 'epoch': 5.31}\n"
     ]
    },
    {
     "name": "stderr",
     "output_type": "stream",
     "text": [
      " 30%|██▉       | 2261/7540 [02:41<05:39, 15.56it/s]\n",
      " 30%|███       | 2262/7540 [02:43<05:39, 15.56it/s]"
     ]
    },
    {
     "name": "stdout",
     "output_type": "stream",
     "text": [
      "\n",
      " ** Evaluating metrics for python test set. ** \n",
      "\n",
      "{'eval_loss': 0.4235920011997223, 'eval_f1': 0.729972644204251, 'eval_precision': 0.7682275672382312, 'eval_recall': 0.7272679058087039, 'eval_runtime': 1.9077, 'eval_samples_per_second': 197.62, 'eval_steps_per_second': 49.798, 'epoch': 6.0}\n"
     ]
    },
    {
     "name": "stderr",
     "output_type": "stream",
     "text": [
      " 35%|███▌      | 2639/7540 [03:08<05:43, 14.26it/s]\n",
      " 35%|███▌      | 2639/7540 [03:10<05:43, 14.26it/s]"
     ]
    },
    {
     "name": "stdout",
     "output_type": "stream",
     "text": [
      "\n",
      " ** Evaluating metrics for python test set. ** \n",
      "\n",
      "{'eval_loss': 0.44108036160469055, 'eval_f1': 0.7414712256145148, 'eval_precision': 0.7580181468792233, 'eval_recall': 0.735972412764199, 'eval_runtime': 1.8161, 'eval_samples_per_second': 207.589, 'eval_steps_per_second': 52.31, 'epoch': 7.0}\n"
     ]
    },
    {
     "name": "stderr",
     "output_type": "stream",
     "text": [
      " 40%|███▉      | 3003/7540 [03:34<04:59, 15.12it/s]"
     ]
    },
    {
     "name": "stdout",
     "output_type": "stream",
     "text": [
      "{'loss': 0.0527, 'grad_norm': 2.209786891937256, 'learning_rate': 3.010610079575597e-05, 'epoch': 7.96}\n"
     ]
    },
    {
     "name": "stderr",
     "output_type": "stream",
     "text": [
      " 40%|███▉      | 3015/7540 [03:35<04:36, 16.34it/s]\n",
      " 40%|████      | 3016/7540 [03:37<04:36, 16.34it/s]"
     ]
    },
    {
     "name": "stdout",
     "output_type": "stream",
     "text": [
      "\n",
      " ** Evaluating metrics for python test set. ** \n",
      "\n",
      "{'eval_loss': 0.5086205005645752, 'eval_f1': 0.7280527141053033, 'eval_precision': 0.7498147066932646, 'eval_recall': 0.718554971838853, 'eval_runtime': 1.9335, 'eval_samples_per_second': 194.979, 'eval_steps_per_second': 49.133, 'epoch': 8.0}\n"
     ]
    },
    {
     "name": "stderr",
     "output_type": "stream",
     "text": [
      " 45%|████▌     | 3393/7540 [04:03<04:22, 15.81it/s]\n",
      " 45%|████▌     | 3393/7540 [04:04<04:22, 15.81it/s]"
     ]
    },
    {
     "name": "stdout",
     "output_type": "stream",
     "text": [
      "\n",
      " ** Evaluating metrics for python test set. ** \n",
      "\n",
      "{'eval_loss': 0.5082575082778931, 'eval_f1': 0.7256505005922247, 'eval_precision': 0.745104098769503, 'eval_recall': 0.7191404357459639, 'eval_runtime': 1.7847, 'eval_samples_per_second': 211.239, 'eval_steps_per_second': 53.23, 'epoch': 9.0}\n"
     ]
    },
    {
     "name": "stderr",
     "output_type": "stream",
     "text": [
      " 50%|████▉     | 3769/7540 [04:30<04:10, 15.05it/s]\n",
      " 50%|█████     | 3770/7540 [04:32<04:10, 15.05it/s]"
     ]
    },
    {
     "name": "stdout",
     "output_type": "stream",
     "text": [
      "\n",
      " ** Evaluating metrics for python test set. ** \n",
      "\n",
      "{'eval_loss': 0.537062406539917, 'eval_f1': 0.7376594356626566, 'eval_precision': 0.7666442808840508, 'eval_recall': 0.7226485805511469, 'eval_runtime': 1.9916, 'eval_samples_per_second': 189.299, 'eval_steps_per_second': 47.701, 'epoch': 10.0}\n"
     ]
    },
    {
     "name": "stderr",
     "output_type": "stream",
     "text": [
      " 53%|█████▎    | 4003/7540 [04:48<03:49, 15.44it/s]"
     ]
    },
    {
     "name": "stdout",
     "output_type": "stream",
     "text": [
      "{'loss': 0.023, 'grad_norm': 0.12024925649166107, 'learning_rate': 2.347480106100796e-05, 'epoch': 10.61}\n"
     ]
    },
    {
     "name": "stderr",
     "output_type": "stream",
     "text": [
      " 55%|█████▌    | 4147/7540 [04:57<03:42, 15.24it/s]\n",
      " 55%|█████▌    | 4147/7540 [04:59<03:42, 15.24it/s]"
     ]
    },
    {
     "name": "stdout",
     "output_type": "stream",
     "text": [
      "\n",
      " ** Evaluating metrics for python test set. ** \n",
      "\n",
      "{'eval_loss': 0.5510263442993164, 'eval_f1': 0.7448222777034015, 'eval_precision': 0.7480301082181506, 'eval_recall': 0.7459773906855504, 'eval_runtime': 1.9017, 'eval_samples_per_second': 198.247, 'eval_steps_per_second': 49.956, 'epoch': 11.0}\n"
     ]
    },
    {
     "name": "stderr",
     "output_type": "stream",
     "text": [
      " 60%|██████    | 4524/7540 [05:26<02:59, 16.81it/s]"
     ]
    },
    {
     "name": "stdout",
     "output_type": "stream",
     "text": [
      "\n",
      " ** Evaluating metrics for python test set. ** \n",
      "\n",
      "{'eval_loss': 0.5523668527603149, 'eval_f1': 0.7460632043674471, 'eval_precision': 0.7517827656976592, 'eval_recall': 0.7453286014074362, 'eval_runtime': 1.9667, 'eval_samples_per_second': 191.694, 'eval_steps_per_second': 48.305, 'epoch': 12.0}\n"
     ]
    },
    {
     "name": "stderr",
     "output_type": "stream",
     "text": [
      " 65%|██████▌   | 4901/7540 [05:52<02:51, 15.43it/s]\n",
      " 65%|██████▌   | 4901/7540 [05:54<02:51, 15.43it/s]"
     ]
    },
    {
     "name": "stdout",
     "output_type": "stream",
     "text": [
      "\n",
      " ** Evaluating metrics for python test set. ** \n",
      "\n",
      "{'eval_loss': 0.5318892002105713, 'eval_f1': 0.7581772309734733, 'eval_precision': 0.7708691243627722, 'eval_recall': 0.7483342275426308, 'eval_runtime': 2.2008, 'eval_samples_per_second': 171.299, 'eval_steps_per_second': 43.166, 'epoch': 13.0}\n"
     ]
    },
    {
     "name": "stderr",
     "output_type": "stream",
     "text": [
      " 66%|██████▋   | 5003/7540 [06:02<02:39, 15.86it/s]"
     ]
    },
    {
     "name": "stdout",
     "output_type": "stream",
     "text": [
      "{'loss': 0.006, 'grad_norm': 0.007030825596302748, 'learning_rate': 1.6843501326259946e-05, 'epoch': 13.26}\n"
     ]
    },
    {
     "name": "stderr",
     "output_type": "stream",
     "text": [
      " 70%|██████▉   | 5277/7540 [06:19<02:15, 16.71it/s]\n",
      " 70%|███████   | 5278/7540 [06:21<02:15, 16.71it/s]"
     ]
    },
    {
     "name": "stdout",
     "output_type": "stream",
     "text": [
      "\n",
      " ** Evaluating metrics for python test set. ** \n",
      "\n",
      "{'eval_loss': 0.5697777271270752, 'eval_f1': 0.7614326133781539, 'eval_precision': 0.7647028530229684, 'eval_recall': 0.762743994323939, 'eval_runtime': 1.9612, 'eval_samples_per_second': 192.23, 'eval_steps_per_second': 48.44, 'epoch': 14.0}\n"
     ]
    },
    {
     "name": "stderr",
     "output_type": "stream",
     "text": [
      " 75%|███████▌  | 5655/7540 [06:47<01:55, 16.36it/s]\n",
      " 75%|███████▌  | 5655/7540 [06:49<01:55, 16.36it/s]"
     ]
    },
    {
     "name": "stdout",
     "output_type": "stream",
     "text": [
      "\n",
      " ** Evaluating metrics for python test set. ** \n",
      "\n",
      "{'eval_loss': 0.583881676197052, 'eval_f1': 0.7465231557664458, 'eval_precision': 0.7462415350792913, 'eval_recall': 0.760655949984284, 'eval_runtime': 1.9613, 'eval_samples_per_second': 192.224, 'eval_steps_per_second': 48.438, 'epoch': 15.0}\n"
     ]
    },
    {
     "name": "stderr",
     "output_type": "stream",
     "text": [
      " 80%|███████▉  | 6003/7540 [07:12<01:41, 15.15it/s]"
     ]
    },
    {
     "name": "stdout",
     "output_type": "stream",
     "text": [
      "{'loss': 0.0019, 'grad_norm': 0.017173318192362785, 'learning_rate': 1.0212201591511936e-05, 'epoch': 15.92}\n"
     ]
    },
    {
     "name": "stderr",
     "output_type": "stream",
     "text": [
      " 80%|███████▉  | 6031/7540 [07:14<01:38, 15.32it/s]\n",
      " 80%|████████  | 6032/7540 [07:16<01:38, 15.32it/s]"
     ]
    },
    {
     "name": "stdout",
     "output_type": "stream",
     "text": [
      "\n",
      " ** Evaluating metrics for python test set. ** \n",
      "\n",
      "{'eval_loss': 0.5827566385269165, 'eval_f1': 0.76230708567207, 'eval_precision': 0.7688291301195332, 'eval_recall': 0.76340248278442, 'eval_runtime': 1.7788, 'eval_samples_per_second': 211.937, 'eval_steps_per_second': 53.406, 'epoch': 16.0}\n"
     ]
    },
    {
     "name": "stderr",
     "output_type": "stream",
     "text": [
      " 85%|████████▌ | 6409/7540 [07:41<01:07, 16.72it/s]\n",
      " 85%|████████▌ | 6409/7540 [07:43<01:07, 16.72it/s]"
     ]
    },
    {
     "name": "stdout",
     "output_type": "stream",
     "text": [
      "\n",
      " ** Evaluating metrics for python test set. ** \n",
      "\n",
      "{'eval_loss': 0.6024753451347351, 'eval_f1': 0.7643092790955108, 'eval_precision': 0.763029528831164, 'eval_recall': 0.7715464652480735, 'eval_runtime': 1.5364, 'eval_samples_per_second': 245.386, 'eval_steps_per_second': 61.835, 'epoch': 17.0}\n"
     ]
    },
    {
     "name": "stderr",
     "output_type": "stream",
     "text": [
      " 90%|████████▉ | 6785/7540 [08:08<00:47, 15.74it/s]\n",
      " 90%|█████████ | 6786/7540 [08:10<00:47, 15.74it/s]"
     ]
    },
    {
     "name": "stdout",
     "output_type": "stream",
     "text": [
      "\n",
      " ** Evaluating metrics for python test set. ** \n",
      "\n",
      "{'eval_loss': 0.6133421063423157, 'eval_f1': 0.7631699567887699, 'eval_precision': 0.7604318601637672, 'eval_recall': 0.7734284857579297, 'eval_runtime': 1.7116, 'eval_samples_per_second': 220.265, 'eval_steps_per_second': 55.505, 'epoch': 18.0}\n"
     ]
    },
    {
     "name": "stderr",
     "output_type": "stream",
     "text": [
      " 93%|█████████▎| 7003/7540 [08:25<00:32, 16.38it/s]"
     ]
    },
    {
     "name": "stdout",
     "output_type": "stream",
     "text": [
      "{'loss': 0.0009, 'grad_norm': 0.00629564980044961, 'learning_rate': 3.580901856763926e-06, 'epoch': 18.57}\n"
     ]
    },
    {
     "name": "stderr",
     "output_type": "stream",
     "text": [
      " 95%|█████████▌| 7163/7540 [08:35<00:23, 16.05it/s]\n",
      " 95%|█████████▌| 7163/7540 [08:37<00:23, 16.05it/s]"
     ]
    },
    {
     "name": "stdout",
     "output_type": "stream",
     "text": [
      "\n",
      " ** Evaluating metrics for python test set. ** \n",
      "\n",
      "{'eval_loss': 0.6055001020431519, 'eval_f1': 0.769075036075036, 'eval_precision': 0.7666578469056345, 'eval_recall': 0.7767342708818967, 'eval_runtime': 1.6594, 'eval_samples_per_second': 227.192, 'eval_steps_per_second': 57.25, 'epoch': 19.0}\n"
     ]
    },
    {
     "name": "stderr",
     "output_type": "stream",
     "text": [
      "100%|█████████▉| 7539/7540 [09:02<00:00, 16.54it/s]\n",
      "100%|██████████| 7540/7540 [09:06<00:00, 16.54it/s]"
     ]
    },
    {
     "name": "stdout",
     "output_type": "stream",
     "text": [
      "\n",
      " ** Evaluating metrics for python test set. ** \n",
      "\n",
      "{'eval_loss': 0.6086220145225525, 'eval_f1': 0.7700501514609668, 'eval_precision': 0.7661173512235951, 'eval_recall': 0.7797656433302652, 'eval_runtime': 2.0143, 'eval_samples_per_second': 187.166, 'eval_steps_per_second': 47.164, 'epoch': 20.0}\n"
     ]
    },
    {
     "name": "stderr",
     "output_type": "stream",
     "text": [
      "100%|██████████| 7540/7540 [09:08<00:00, 13.74it/s]\n"
     ]
    },
    {
     "name": "stdout",
     "output_type": "stream",
     "text": [
      "{'train_runtime': 548.6492, 'train_samples_per_second': 54.935, 'train_steps_per_second': 13.743, 'train_loss': 0.07176546573797019, 'epoch': 20.0}\n"
     ]
    },
    {
     "name": "stderr",
     "output_type": "stream",
     "text": [
      "100%|██████████| 95/95 [00:01<00:00, 50.11it/s]\n"
     ]
    },
    {
     "name": "stdout",
     "output_type": "stream",
     "text": [
      "\n",
      " ** Evaluating metrics for python test set. ** \n",
      "\n",
      "Evaluation Metrics: {'eval_loss': 0.6086220145225525, 'eval_f1': 0.7700501514609668, 'eval_precision': 0.7661173512235951, 'eval_recall': 0.7797656433302652, 'eval_runtime': 1.9312, 'eval_samples_per_second': 195.215, 'eval_steps_per_second': 49.192, 'epoch': 20.0}\n"
     ]
    },
    {
     "data": {
      "text/html": [
       "Finishing last run (ID:tdmx4p7z) before initializing another..."
      ],
      "text/plain": [
       "<IPython.core.display.HTML object>"
      ]
     },
     "metadata": {},
     "output_type": "display_data"
    },
    {
     "data": {
      "text/html": [
       "\n",
       "    <style>\n",
       "        .wandb-row {\n",
       "            display: flex;\n",
       "            flex-direction: row;\n",
       "            flex-wrap: wrap;\n",
       "            justify-content: flex-start;\n",
       "            width: 100%;\n",
       "        }\n",
       "        .wandb-col {\n",
       "            display: flex;\n",
       "            flex-direction: column;\n",
       "            flex-basis: 100%;\n",
       "            flex: 1;\n",
       "            padding: 10px;\n",
       "        }\n",
       "    </style>\n",
       "<div class=\"wandb-row\"><div class=\"wandb-col\"><h3>Run history:</h3><br/><table class=\"wandb\"><tr><td>eval/f1</td><td>▁▃▆▆▆▇▇▇▇▇▇▇██▇██████</td></tr><tr><td>eval/loss</td><td>▁▁▂▃▃▄▄▆▆▆▇▇▆▇▇▇█████</td></tr><tr><td>eval/precision</td><td>▁▄█▇▆██▇▇█▇▇██▇██████</td></tr><tr><td>eval/recall</td><td>▁▃▅▆▆▇▇▇▇▇▇▇▇████████</td></tr><tr><td>eval/runtime</td><td>▅▅▄▅▆▅▄▅▄▆▅▆█▅▅▄▁▃▂▆▅</td></tr><tr><td>eval/samples_per_second</td><td>▄▃▅▃▃▃▄▃▅▃▄▃▁▃▃▅█▆▆▂▃</td></tr><tr><td>eval/steps_per_second</td><td>▄▃▅▃▃▃▄▃▅▃▄▃▁▃▃▅█▆▆▂▃</td></tr><tr><td>train/epoch</td><td>▁▁▂▂▂▂▃▃▃▄▄▄▄▅▅▅▅▆▆▆▆▇▇▇▇████</td></tr><tr><td>train/global_step</td><td>▁▁▂▂▂▂▃▃▃▄▄▄▄▅▅▅▅▆▆▆▆▇▇▇▇████</td></tr><tr><td>train/grad_norm</td><td>█▁▄▁▁▁▁</td></tr><tr><td>train/learning_rate</td><td>█▇▆▄▃▂▁</td></tr><tr><td>train/loss</td><td>█▄▂▁▁▁▁</td></tr></table><br/></div><div class=\"wandb-col\"><h3>Run summary:</h3><br/><table class=\"wandb\"><tr><td>eval/f1</td><td>0.77005</td></tr><tr><td>eval/loss</td><td>0.60862</td></tr><tr><td>eval/precision</td><td>0.76612</td></tr><tr><td>eval/recall</td><td>0.77977</td></tr><tr><td>eval/runtime</td><td>1.9312</td></tr><tr><td>eval/samples_per_second</td><td>195.215</td></tr><tr><td>eval/steps_per_second</td><td>49.192</td></tr><tr><td>total_flos</td><td>1982595203466240.0</td></tr><tr><td>train/epoch</td><td>20</td></tr><tr><td>train/global_step</td><td>7540</td></tr><tr><td>train/grad_norm</td><td>0.0063</td></tr><tr><td>train/learning_rate</td><td>0.0</td></tr><tr><td>train/loss</td><td>0.0009</td></tr><tr><td>train_loss</td><td>0.07177</td></tr><tr><td>train_runtime</td><td>548.6492</td></tr><tr><td>train_samples_per_second</td><td>54.935</td></tr><tr><td>train_steps_per_second</td><td>13.743</td></tr></table><br/></div></div>"
      ],
      "text/plain": [
       "<IPython.core.display.HTML object>"
      ]
     },
     "metadata": {},
     "output_type": "display_data"
    },
    {
     "data": {
      "text/html": [
       " View run <strong style=\"color:#cdcd00\">python_epoch-20_batchSize-4_weightsOfDecay-0.01</strong> at: <a href='https://wandb.ai/ayoungren-colostate/NBSE2025_GridSearch_3/runs/tdmx4p7z' target=\"_blank\">https://wandb.ai/ayoungren-colostate/NBSE2025_GridSearch_3/runs/tdmx4p7z</a><br/> View project at: <a href='https://wandb.ai/ayoungren-colostate/NBSE2025_GridSearch_3' target=\"_blank\">https://wandb.ai/ayoungren-colostate/NBSE2025_GridSearch_3</a><br/>Synced 5 W&B file(s), 0 media file(s), 0 artifact file(s) and 0 other file(s)"
      ],
      "text/plain": [
       "<IPython.core.display.HTML object>"
      ]
     },
     "metadata": {},
     "output_type": "display_data"
    },
    {
     "data": {
      "text/html": [
       "Find logs at: <code>.\\wandb\\run-20241207_111017-tdmx4p7z\\logs</code>"
      ],
      "text/plain": [
       "<IPython.core.display.HTML object>"
      ]
     },
     "metadata": {},
     "output_type": "display_data"
    },
    {
     "data": {
      "text/html": [
       "Successfully finished last run (ID:tdmx4p7z). Initializing new run:<br/>"
      ],
      "text/plain": [
       "<IPython.core.display.HTML object>"
      ]
     },
     "metadata": {},
     "output_type": "display_data"
    },
    {
     "data": {
      "text/html": [
       "Tracking run with wandb version 0.18.7"
      ],
      "text/plain": [
       "<IPython.core.display.HTML object>"
      ]
     },
     "metadata": {},
     "output_type": "display_data"
    },
    {
     "data": {
      "text/html": [
       "Run data is saved locally in <code>c:\\Development\\TactitalTensorsFinalProject\\wandb\\run-20241207_113403-xperznum</code>"
      ],
      "text/plain": [
       "<IPython.core.display.HTML object>"
      ]
     },
     "metadata": {},
     "output_type": "display_data"
    },
    {
     "data": {
      "text/html": [
       "Syncing run <strong><a href='https://wandb.ai/ayoungren-colostate/NBSE2025_GridSearch_3/runs/xperznum' target=\"_blank\">pharo_epoch-20_batchSize-4_weightsOfDecay-0.01</a></strong> to <a href='https://wandb.ai/ayoungren-colostate/NBSE2025_GridSearch_3' target=\"_blank\">Weights & Biases</a> (<a href='https://wandb.me/developer-guide' target=\"_blank\">docs</a>)<br/>"
      ],
      "text/plain": [
       "<IPython.core.display.HTML object>"
      ]
     },
     "metadata": {},
     "output_type": "display_data"
    },
    {
     "data": {
      "text/html": [
       " View project at <a href='https://wandb.ai/ayoungren-colostate/NBSE2025_GridSearch_3' target=\"_blank\">https://wandb.ai/ayoungren-colostate/NBSE2025_GridSearch_3</a>"
      ],
      "text/plain": [
       "<IPython.core.display.HTML object>"
      ]
     },
     "metadata": {},
     "output_type": "display_data"
    },
    {
     "data": {
      "text/html": [
       " View run at <a href='https://wandb.ai/ayoungren-colostate/NBSE2025_GridSearch_3/runs/xperznum' target=\"_blank\">https://wandb.ai/ayoungren-colostate/NBSE2025_GridSearch_3/runs/xperznum</a>"
      ],
      "text/plain": [
       "<IPython.core.display.HTML object>"
      ]
     },
     "metadata": {},
     "output_type": "display_data"
    },
    {
     "name": "stderr",
     "output_type": "stream",
     "text": [
      "c:\\Users\\ayoun\\Miniconda3\\envs\\nbse2025\\lib\\site-packages\\torch\\_utils.py:776: UserWarning: TypedStorage is deprecated. It will be removed in the future and UntypedStorage will be the only storage class. This should only matter to you if you are using storages directly.  To access UntypedStorage directly, use tensor.untyped_storage() instead of tensor.storage()\n",
      "  return self.fget.__get__(instance, owner)()\n",
      "Some weights of RobertaForSequenceClassification were not initialized from the model checkpoint at microsoft/codebert-base and are newly initialized: ['classifier.dense.bias', 'classifier.dense.weight', 'classifier.out_proj.bias', 'classifier.out_proj.weight']\n",
      "You should probably TRAIN this model on a down-stream task to be able to use it for predictions and inference.\n",
      "Map: 100%|██████████| 1298/1298 [00:00<00:00, 9264.27 examples/s] \n",
      "  5%|▍         | 259/5200 [00:16<05:34, 14.77it/s]\n",
      "  5%|▌         | 260/5200 [00:18<05:34, 14.77it/s]"
     ]
    },
    {
     "name": "stdout",
     "output_type": "stream",
     "text": [
      "\n",
      " ** Evaluating metrics for pharo test set. ** \n",
      "\n",
      "{'eval_loss': 0.3284994065761566, 'eval_f1': 0.1700392630625189, 'eval_precision': 0.18278514154802813, 'eval_recall': 0.1602828854314003, 'eval_runtime': 1.5538, 'eval_samples_per_second': 167.329, 'eval_steps_per_second': 41.832, 'epoch': 1.0}\n"
     ]
    },
    {
     "name": "stderr",
     "output_type": "stream",
     "text": [
      " 10%|▉         | 519/5200 [00:36<04:46, 16.34it/s]\n",
      " 10%|█         | 520/5200 [00:37<04:46, 16.34it/s]"
     ]
    },
    {
     "name": "stdout",
     "output_type": "stream",
     "text": [
      "\n",
      " ** Evaluating metrics for pharo test set. ** \n",
      "\n",
      "{'eval_loss': 0.2742178440093994, 'eval_f1': 0.43730830998093256, 'eval_precision': 0.5775168514894542, 'eval_recall': 0.3536028687083806, 'eval_runtime': 1.0006, 'eval_samples_per_second': 259.846, 'eval_steps_per_second': 64.961, 'epoch': 2.0}\n"
     ]
    },
    {
     "name": "stderr",
     "output_type": "stream",
     "text": [
      " 15%|█▍        | 779/5200 [00:55<04:33, 16.15it/s]\n",
      " 15%|█▌        | 780/5200 [00:56<04:33, 16.15it/s]"
     ]
    },
    {
     "name": "stdout",
     "output_type": "stream",
     "text": [
      "\n",
      " ** Evaluating metrics for pharo test set. ** \n",
      "\n",
      "{'eval_loss': 0.25247976183891296, 'eval_f1': 0.5053718701135115, 'eval_precision': 0.5888730612749364, 'eval_recall': 0.4519598991459811, 'eval_runtime': 1.0207, 'eval_samples_per_second': 254.728, 'eval_steps_per_second': 63.682, 'epoch': 3.0}\n"
     ]
    },
    {
     "name": "stderr",
     "output_type": "stream",
     "text": [
      " 19%|█▉        | 1003/5200 [01:12<04:27, 15.69it/s]"
     ]
    },
    {
     "name": "stdout",
     "output_type": "stream",
     "text": [
      "{'loss': 0.2426, 'grad_norm': 3.796809673309326, 'learning_rate': 4.038461538461539e-05, 'epoch': 3.85}\n"
     ]
    },
    {
     "name": "stderr",
     "output_type": "stream",
     "text": [
      " 20%|█▉        | 1039/5200 [01:14<04:43, 14.66it/s]\n",
      " 20%|██        | 1040/5200 [01:16<04:43, 14.66it/s]"
     ]
    },
    {
     "name": "stdout",
     "output_type": "stream",
     "text": [
      "\n",
      " ** Evaluating metrics for pharo test set. ** \n",
      "\n",
      "{'eval_loss': 0.23415492475032806, 'eval_f1': 0.5374782265560537, 'eval_precision': 0.5846937269346174, 'eval_recall': 0.5003078704012732, 'eval_runtime': 1.247, 'eval_samples_per_second': 208.501, 'eval_steps_per_second': 52.125, 'epoch': 4.0}\n"
     ]
    },
    {
     "name": "stderr",
     "output_type": "stream",
     "text": [
      " 25%|██▍       | 1299/5200 [01:33<03:58, 16.35it/s]\n",
      " 25%|██▌       | 1300/5200 [01:35<03:58, 16.35it/s]"
     ]
    },
    {
     "name": "stdout",
     "output_type": "stream",
     "text": [
      "\n",
      " ** Evaluating metrics for pharo test set. ** \n",
      "\n",
      "{'eval_loss': 0.2660548985004425, 'eval_f1': 0.5982116823337522, 'eval_precision': 0.8579046770223242, 'eval_recall': 0.548129908267011, 'eval_runtime': 1.016, 'eval_samples_per_second': 255.903, 'eval_steps_per_second': 63.976, 'epoch': 5.0}\n"
     ]
    },
    {
     "name": "stderr",
     "output_type": "stream",
     "text": [
      " 30%|██▉       | 1559/5200 [01:53<03:52, 15.69it/s]\n",
      " 30%|███       | 1560/5200 [01:54<03:51, 15.69it/s]"
     ]
    },
    {
     "name": "stdout",
     "output_type": "stream",
     "text": [
      "\n",
      " ** Evaluating metrics for pharo test set. ** \n",
      "\n",
      "{'eval_loss': 0.2561839818954468, 'eval_f1': 0.619842491065433, 'eval_precision': 0.8142149951269524, 'eval_recall': 0.5685861883032236, 'eval_runtime': 1.0471, 'eval_samples_per_second': 248.305, 'eval_steps_per_second': 62.076, 'epoch': 6.0}\n"
     ]
    },
    {
     "name": "stderr",
     "output_type": "stream",
     "text": [
      " 35%|███▍      | 1819/5200 [02:12<03:30, 16.03it/s]\n",
      " 35%|███▌      | 1820/5200 [02:13<03:30, 16.03it/s]"
     ]
    },
    {
     "name": "stdout",
     "output_type": "stream",
     "text": [
      "\n",
      " ** Evaluating metrics for pharo test set. ** \n",
      "\n",
      "{'eval_loss': 0.29928508400917053, 'eval_f1': 0.6476077144524239, 'eval_precision': 0.8134973420771543, 'eval_recall': 0.5917589672215388, 'eval_runtime': 1.099, 'eval_samples_per_second': 236.569, 'eval_steps_per_second': 59.142, 'epoch': 7.0}\n"
     ]
    },
    {
     "name": "stderr",
     "output_type": "stream",
     "text": [
      " 39%|███▊      | 2003/5200 [02:26<03:20, 15.93it/s]"
     ]
    },
    {
     "name": "stdout",
     "output_type": "stream",
     "text": [
      "{'loss': 0.079, 'grad_norm': 0.06235584244132042, 'learning_rate': 3.0769230769230774e-05, 'epoch': 7.69}\n"
     ]
    },
    {
     "name": "stderr",
     "output_type": "stream",
     "text": [
      " 40%|███▉      | 2079/5200 [02:31<03:11, 16.32it/s]\n",
      " 40%|████      | 2080/5200 [02:32<03:11, 16.32it/s]"
     ]
    },
    {
     "name": "stdout",
     "output_type": "stream",
     "text": [
      "\n",
      " ** Evaluating metrics for pharo test set. ** \n",
      "\n",
      "{'eval_loss': 0.27772489190101624, 'eval_f1': 0.6323591542115048, 'eval_precision': 0.7346266495829522, 'eval_recall': 0.5900319013550004, 'eval_runtime': 1.0506, 'eval_samples_per_second': 247.481, 'eval_steps_per_second': 61.87, 'epoch': 8.0}\n"
     ]
    },
    {
     "name": "stderr",
     "output_type": "stream",
     "text": [
      " 45%|████▍     | 2339/5200 [02:50<02:52, 16.60it/s]\n",
      " 45%|████▌     | 2340/5200 [02:51<02:52, 16.60it/s]"
     ]
    },
    {
     "name": "stdout",
     "output_type": "stream",
     "text": [
      "\n",
      " ** Evaluating metrics for pharo test set. ** \n",
      "\n",
      "{'eval_loss': 0.291658490896225, 'eval_f1': 0.6695624058709856, 'eval_precision': 0.8426202571000284, 'eval_recall': 0.6117155659620627, 'eval_runtime': 0.9517, 'eval_samples_per_second': 273.188, 'eval_steps_per_second': 68.297, 'epoch': 9.0}\n"
     ]
    },
    {
     "name": "stderr",
     "output_type": "stream",
     "text": [
      " 50%|████▉     | 2599/5200 [03:10<02:45, 15.71it/s]\n",
      " 50%|█████     | 2600/5200 [03:11<02:45, 15.71it/s]"
     ]
    },
    {
     "name": "stdout",
     "output_type": "stream",
     "text": [
      "\n",
      " ** Evaluating metrics for pharo test set. ** \n",
      "\n",
      "{'eval_loss': 0.27662259340286255, 'eval_f1': 0.6643192737950029, 'eval_precision': 0.7101606232200509, 'eval_recall': 0.6512573286718256, 'eval_runtime': 1.0484, 'eval_samples_per_second': 247.997, 'eval_steps_per_second': 61.999, 'epoch': 10.0}\n"
     ]
    },
    {
     "name": "stderr",
     "output_type": "stream",
     "text": [
      " 55%|█████▍    | 2859/5200 [03:29<02:29, 15.62it/s]\n",
      " 55%|█████▌    | 2860/5200 [03:30<02:29, 15.62it/s]"
     ]
    },
    {
     "name": "stdout",
     "output_type": "stream",
     "text": [
      "\n",
      " ** Evaluating metrics for pharo test set. ** \n",
      "\n",
      "{'eval_loss': 0.2779850363731384, 'eval_f1': 0.6886383602150836, 'eval_precision': 0.7844023487551952, 'eval_recall': 0.6617289733406918, 'eval_runtime': 1.331, 'eval_samples_per_second': 195.344, 'eval_steps_per_second': 48.836, 'epoch': 11.0}\n"
     ]
    },
    {
     "name": "stderr",
     "output_type": "stream",
     "text": [
      " 58%|█████▊    | 3003/5200 [03:41<02:19, 15.80it/s]"
     ]
    },
    {
     "name": "stdout",
     "output_type": "stream",
     "text": [
      "{'loss': 0.0297, 'grad_norm': 0.023033620789647102, 'learning_rate': 2.1153846153846154e-05, 'epoch': 11.54}\n"
     ]
    },
    {
     "name": "stderr",
     "output_type": "stream",
     "text": [
      " 60%|█████▉    | 3119/5200 [03:48<02:12, 15.76it/s]\n",
      " 60%|██████    | 3120/5200 [03:49<02:12, 15.76it/s]"
     ]
    },
    {
     "name": "stdout",
     "output_type": "stream",
     "text": [
      "\n",
      " ** Evaluating metrics for pharo test set. ** \n",
      "\n",
      "{'eval_loss': 0.2876938581466675, 'eval_f1': 0.6904528742788714, 'eval_precision': 0.7369242914073304, 'eval_recall': 0.6721341158729077, 'eval_runtime': 0.9933, 'eval_samples_per_second': 261.742, 'eval_steps_per_second': 65.435, 'epoch': 12.0}\n"
     ]
    },
    {
     "name": "stderr",
     "output_type": "stream",
     "text": [
      " 65%|██████▍   | 3379/5200 [04:07<01:50, 16.47it/s]\n",
      " 65%|██████▌   | 3380/5200 [04:08<01:50, 16.47it/s]"
     ]
    },
    {
     "name": "stdout",
     "output_type": "stream",
     "text": [
      "\n",
      " ** Evaluating metrics for pharo test set. ** \n",
      "\n",
      "{'eval_loss': 0.2895984649658203, 'eval_f1': 0.6927580949766926, 'eval_precision': 0.7217236360826336, 'eval_recall': 0.6820227929962135, 'eval_runtime': 1.0534, 'eval_samples_per_second': 246.817, 'eval_steps_per_second': 61.704, 'epoch': 13.0}\n"
     ]
    },
    {
     "name": "stderr",
     "output_type": "stream",
     "text": [
      " 70%|██████▉   | 3639/5200 [04:26<01:42, 15.28it/s]\n",
      " 70%|███████   | 3640/5200 [04:28<01:42, 15.28it/s]"
     ]
    },
    {
     "name": "stdout",
     "output_type": "stream",
     "text": [
      "\n",
      " ** Evaluating metrics for pharo test set. ** \n",
      "\n",
      "{'eval_loss': 0.30124932527542114, 'eval_f1': 0.6963134612819487, 'eval_precision': 0.7395186078685285, 'eval_recall': 0.6963008147833546, 'eval_runtime': 1.3039, 'eval_samples_per_second': 199.4, 'eval_steps_per_second': 49.85, 'epoch': 14.0}\n"
     ]
    },
    {
     "name": "stderr",
     "output_type": "stream",
     "text": [
      " 75%|███████▍  | 3899/5200 [04:46<01:16, 17.11it/s]\n",
      " 75%|███████▌  | 3900/5200 [04:47<01:15, 17.11it/s]"
     ]
    },
    {
     "name": "stdout",
     "output_type": "stream",
     "text": [
      "\n",
      " ** Evaluating metrics for pharo test set. ** \n",
      "\n",
      "{'eval_loss': 0.30805206298828125, 'eval_f1': 0.6977983875960635, 'eval_precision': 0.8145287461076934, 'eval_recall': 0.6533615004437575, 'eval_runtime': 1.0124, 'eval_samples_per_second': 256.817, 'eval_steps_per_second': 64.204, 'epoch': 15.0}\n"
     ]
    },
    {
     "name": "stderr",
     "output_type": "stream",
     "text": [
      " 77%|███████▋  | 4001/5200 [04:55<01:22, 14.58it/s]"
     ]
    },
    {
     "name": "stdout",
     "output_type": "stream",
     "text": [
      "{'loss': 0.0129, 'grad_norm': 0.03353224694728851, 'learning_rate': 1.153846153846154e-05, 'epoch': 15.38}\n"
     ]
    },
    {
     "name": "stderr",
     "output_type": "stream",
     "text": [
      " 80%|███████▉  | 4159/5200 [05:05<01:06, 15.73it/s]\n",
      " 80%|████████  | 4160/5200 [05:06<01:06, 15.73it/s]"
     ]
    },
    {
     "name": "stdout",
     "output_type": "stream",
     "text": [
      "\n",
      " ** Evaluating metrics for pharo test set. ** \n",
      "\n",
      "{'eval_loss': 0.3213150203227997, 'eval_f1': 0.6961023052728121, 'eval_precision': 0.8041675261534814, 'eval_recall': 0.6675839852422293, 'eval_runtime': 0.9484, 'eval_samples_per_second': 274.147, 'eval_steps_per_second': 68.537, 'epoch': 16.0}\n"
     ]
    },
    {
     "name": "stderr",
     "output_type": "stream",
     "text": [
      " 85%|████████▍ | 4419/5200 [05:24<00:50, 15.40it/s]\n",
      " 85%|████████▌ | 4420/5200 [05:26<00:50, 15.40it/s]"
     ]
    },
    {
     "name": "stdout",
     "output_type": "stream",
     "text": [
      "\n",
      " ** Evaluating metrics for pharo test set. ** \n",
      "\n",
      "{'eval_loss': 0.3066445291042328, 'eval_f1': 0.6958731780030035, 'eval_precision': 0.7655540916410482, 'eval_recall': 0.6658785072464786, 'eval_runtime': 1.1871, 'eval_samples_per_second': 219.019, 'eval_steps_per_second': 54.755, 'epoch': 17.0}\n"
     ]
    },
    {
     "name": "stderr",
     "output_type": "stream",
     "text": [
      " 90%|████████▉ | 4679/5200 [05:43<00:31, 16.71it/s]\n",
      " 90%|█████████ | 4680/5200 [05:45<00:31, 16.71it/s]"
     ]
    },
    {
     "name": "stdout",
     "output_type": "stream",
     "text": [
      "\n",
      " ** Evaluating metrics for pharo test set. ** \n",
      "\n",
      "{'eval_loss': 0.31284299492836, 'eval_f1': 0.6852872808781514, 'eval_precision': 0.7560805842401274, 'eval_recall': 0.6569347704932982, 'eval_runtime': 1.0947, 'eval_samples_per_second': 237.506, 'eval_steps_per_second': 59.376, 'epoch': 18.0}\n"
     ]
    },
    {
     "name": "stderr",
     "output_type": "stream",
     "text": [
      " 95%|█████████▍| 4939/5200 [06:03<00:16, 15.78it/s]\n",
      " 95%|█████████▌| 4940/5200 [06:04<00:16, 15.78it/s]"
     ]
    },
    {
     "name": "stdout",
     "output_type": "stream",
     "text": [
      "\n",
      " ** Evaluating metrics for pharo test set. ** \n",
      "\n",
      "{'eval_loss': 0.31227636337280273, 'eval_f1': 0.6840104872367527, 'eval_precision': 0.7539069941728908, 'eval_recall': 0.6569347704932982, 'eval_runtime': 0.9397, 'eval_samples_per_second': 276.68, 'eval_steps_per_second': 69.17, 'epoch': 19.0}\n"
     ]
    },
    {
     "name": "stderr",
     "output_type": "stream",
     "text": [
      " 96%|█████████▌| 5003/5200 [06:09<00:12, 16.07it/s]"
     ]
    },
    {
     "name": "stdout",
     "output_type": "stream",
     "text": [
      "{'loss': 0.0048, 'grad_norm': 0.018788572400808334, 'learning_rate': 1.9230769230769234e-06, 'epoch': 19.23}\n"
     ]
    },
    {
     "name": "stderr",
     "output_type": "stream",
     "text": [
      "100%|█████████▉| 5199/5200 [06:22<00:00, 16.31it/s]\n",
      "100%|██████████| 5200/5200 [06:25<00:00, 16.31it/s]"
     ]
    },
    {
     "name": "stdout",
     "output_type": "stream",
     "text": [
      "\n",
      " ** Evaluating metrics for pharo test set. ** \n",
      "\n",
      "{'eval_loss': 0.3107616901397705, 'eval_f1': 0.6851150889818214, 'eval_precision': 0.7594355625951057, 'eval_recall': 0.6535334099490805, 'eval_runtime': 1.0347, 'eval_samples_per_second': 251.283, 'eval_steps_per_second': 62.821, 'epoch': 20.0}\n"
     ]
    },
    {
     "name": "stderr",
     "output_type": "stream",
     "text": [
      "100%|██████████| 5200/5200 [06:27<00:00, 13.42it/s]\n"
     ]
    },
    {
     "name": "stdout",
     "output_type": "stream",
     "text": [
      "{'train_runtime': 387.5378, 'train_samples_per_second': 53.569, 'train_steps_per_second': 13.418, 'train_loss': 0.07108631414862779, 'epoch': 20.0}\n"
     ]
    },
    {
     "name": "stderr",
     "output_type": "stream",
     "text": [
      "100%|██████████| 65/65 [00:01<00:00, 60.18it/s]\n"
     ]
    },
    {
     "name": "stdout",
     "output_type": "stream",
     "text": [
      "\n",
      " ** Evaluating metrics for pharo test set. ** \n",
      "\n",
      "Evaluation Metrics: {'eval_loss': 0.30805206298828125, 'eval_f1': 0.6977983875960635, 'eval_precision': 0.8145287461076934, 'eval_recall': 0.6533615004437575, 'eval_runtime': 1.1183, 'eval_samples_per_second': 232.505, 'eval_steps_per_second': 58.126, 'epoch': 20.0}\n",
      "    comparison                                     model     lan  \\\n",
      "0   validation  epoch-20_batchSize-4_weightsOfDecay-0.01    java   \n",
      "1   validation  epoch-20_batchSize-4_weightsOfDecay-0.01    java   \n",
      "2   validation  epoch-20_batchSize-4_weightsOfDecay-0.01    java   \n",
      "3   validation  epoch-20_batchSize-4_weightsOfDecay-0.01    java   \n",
      "4   validation  epoch-20_batchSize-4_weightsOfDecay-0.01    java   \n",
      "5   validation  epoch-20_batchSize-4_weightsOfDecay-0.01    java   \n",
      "6   validation  epoch-20_batchSize-4_weightsOfDecay-0.01    java   \n",
      "7   validation  epoch-20_batchSize-4_weightsOfDecay-0.01  python   \n",
      "8   validation  epoch-20_batchSize-4_weightsOfDecay-0.01  python   \n",
      "9   validation  epoch-20_batchSize-4_weightsOfDecay-0.01  python   \n",
      "10  validation  epoch-20_batchSize-4_weightsOfDecay-0.01  python   \n",
      "11  validation  epoch-20_batchSize-4_weightsOfDecay-0.01  python   \n",
      "12  validation  epoch-20_batchSize-4_weightsOfDecay-0.01   pharo   \n",
      "13  validation  epoch-20_batchSize-4_weightsOfDecay-0.01   pharo   \n",
      "14  validation  epoch-20_batchSize-4_weightsOfDecay-0.01   pharo   \n",
      "15  validation  epoch-20_batchSize-4_weightsOfDecay-0.01   pharo   \n",
      "16  validation  epoch-20_batchSize-4_weightsOfDecay-0.01   pharo   \n",
      "17  validation  epoch-20_batchSize-4_weightsOfDecay-0.01   pharo   \n",
      "18  validation  epoch-20_batchSize-4_weightsOfDecay-0.01   pharo   \n",
      "\n",
      "                        cat  precision    recall        f1  \n",
      "0                   summary   0.942737  0.960171  0.951374  \n",
      "1                 Ownership   0.964912  1.000000  0.982143  \n",
      "2                    Expand   0.685714  0.705882  0.695652  \n",
      "3                     usage   0.976247  0.940503  0.958042  \n",
      "4                   Pointer   0.966292  0.910053  0.937330  \n",
      "5               deprecation   0.935484  0.966667  0.950820  \n",
      "6                  rational   0.725000  0.537037  0.617021  \n",
      "7                     Usage   0.897959  0.727273  0.803653  \n",
      "8                Parameters   0.852174  0.875000  0.863436  \n",
      "9          DevelopmentNotes   0.681818  0.750000  0.714286  \n",
      "10                   Expand   0.657895  0.724638  0.689655  \n",
      "11                  Summary   0.740741  0.821918  0.779221  \n",
      "12  Keyimplementationpoints   0.815789  0.738095  0.775000  \n",
      "13                  Example   0.926316  0.871287  0.897959  \n",
      "14         Responsibilities   0.711111  0.640000  0.673684  \n",
      "15          Classreferences   1.000000  0.250000  0.400000  \n",
      "16                   Intent   0.939394  0.815789  0.873239  \n",
      "17              Keymessages   0.709091  0.829787  0.764706  \n",
      "18            Collaborators   0.600000  0.428571  0.500000  \n",
      "------------------ Starting model ==> epochs: 20, batch size: 8, weights of decay: 0.01 ---------------------\n"
     ]
    },
    {
     "data": {
      "text/html": [
       "Finishing last run (ID:xperznum) before initializing another..."
      ],
      "text/plain": [
       "<IPython.core.display.HTML object>"
      ]
     },
     "metadata": {},
     "output_type": "display_data"
    },
    {
     "data": {
      "text/html": [
       "\n",
       "    <style>\n",
       "        .wandb-row {\n",
       "            display: flex;\n",
       "            flex-direction: row;\n",
       "            flex-wrap: wrap;\n",
       "            justify-content: flex-start;\n",
       "            width: 100%;\n",
       "        }\n",
       "        .wandb-col {\n",
       "            display: flex;\n",
       "            flex-direction: column;\n",
       "            flex-basis: 100%;\n",
       "            flex: 1;\n",
       "            padding: 10px;\n",
       "        }\n",
       "    </style>\n",
       "<div class=\"wandb-row\"><div class=\"wandb-col\"><h3>Run history:</h3><br/><table class=\"wandb\"><tr><td>eval/f1</td><td>▁▅▅▆▇▇▇▇█████████████</td></tr><tr><td>eval/loss</td><td>█▄▂▁▃▃▆▄▅▄▄▅▅▆▆▇▆▇▇▇▆</td></tr><tr><td>eval/precision</td><td>▁▅▅▅███▇█▆▇▇▇▇█▇▇▇▇▇█</td></tr><tr><td>eval/recall</td><td>▁▄▅▅▆▆▇▇▇▇████▇██▇▇▇▇</td></tr><tr><td>eval/runtime</td><td>█▂▂▅▂▂▃▂▁▂▅▂▂▅▂▁▄▃▁▂▃</td></tr><tr><td>eval/samples_per_second</td><td>▁▇▇▄▇▆▅▆█▆▃▇▆▃▇█▄▅█▆▅</td></tr><tr><td>eval/steps_per_second</td><td>▁▇▇▄▇▆▅▆█▆▃▇▆▃▇█▄▅█▆▅</td></tr><tr><td>train/epoch</td><td>▁▁▂▂▂▂▃▃▃▄▄▄▅▅▅▅▆▆▆▇▇▇█████</td></tr><tr><td>train/global_step</td><td>▁▁▂▂▂▂▃▃▃▄▄▄▅▅▅▅▆▆▆▇▇▇█████</td></tr><tr><td>train/grad_norm</td><td>█▁▁▁▁</td></tr><tr><td>train/learning_rate</td><td>█▆▄▃▁</td></tr><tr><td>train/loss</td><td>█▃▂▁▁</td></tr></table><br/></div><div class=\"wandb-col\"><h3>Run summary:</h3><br/><table class=\"wandb\"><tr><td>eval/f1</td><td>0.6978</td></tr><tr><td>eval/loss</td><td>0.30805</td></tr><tr><td>eval/precision</td><td>0.81453</td></tr><tr><td>eval/recall</td><td>0.65336</td></tr><tr><td>eval/runtime</td><td>1.1183</td></tr><tr><td>eval/samples_per_second</td><td>232.505</td></tr><tr><td>eval/steps_per_second</td><td>58.126</td></tr><tr><td>total_flos</td><td>1365607680768000.0</td></tr><tr><td>train/epoch</td><td>20</td></tr><tr><td>train/global_step</td><td>5200</td></tr><tr><td>train/grad_norm</td><td>0.01879</td></tr><tr><td>train/learning_rate</td><td>0.0</td></tr><tr><td>train/loss</td><td>0.0048</td></tr><tr><td>train_loss</td><td>0.07109</td></tr><tr><td>train_runtime</td><td>387.5378</td></tr><tr><td>train_samples_per_second</td><td>53.569</td></tr><tr><td>train_steps_per_second</td><td>13.418</td></tr></table><br/></div></div>"
      ],
      "text/plain": [
       "<IPython.core.display.HTML object>"
      ]
     },
     "metadata": {},
     "output_type": "display_data"
    },
    {
     "data": {
      "text/html": [
       " View run <strong style=\"color:#cdcd00\">pharo_epoch-20_batchSize-4_weightsOfDecay-0.01</strong> at: <a href='https://wandb.ai/ayoungren-colostate/NBSE2025_GridSearch_3/runs/xperznum' target=\"_blank\">https://wandb.ai/ayoungren-colostate/NBSE2025_GridSearch_3/runs/xperznum</a><br/> View project at: <a href='https://wandb.ai/ayoungren-colostate/NBSE2025_GridSearch_3' target=\"_blank\">https://wandb.ai/ayoungren-colostate/NBSE2025_GridSearch_3</a><br/>Synced 5 W&B file(s), 0 media file(s), 0 artifact file(s) and 0 other file(s)"
      ],
      "text/plain": [
       "<IPython.core.display.HTML object>"
      ]
     },
     "metadata": {},
     "output_type": "display_data"
    },
    {
     "data": {
      "text/html": [
       "Find logs at: <code>.\\wandb\\run-20241207_113403-xperznum\\logs</code>"
      ],
      "text/plain": [
       "<IPython.core.display.HTML object>"
      ]
     },
     "metadata": {},
     "output_type": "display_data"
    },
    {
     "data": {
      "text/html": [
       "Successfully finished last run (ID:xperznum). Initializing new run:<br/>"
      ],
      "text/plain": [
       "<IPython.core.display.HTML object>"
      ]
     },
     "metadata": {},
     "output_type": "display_data"
    },
    {
     "data": {
      "text/html": [
       "Tracking run with wandb version 0.18.7"
      ],
      "text/plain": [
       "<IPython.core.display.HTML object>"
      ]
     },
     "metadata": {},
     "output_type": "display_data"
    },
    {
     "data": {
      "text/html": [
       "Run data is saved locally in <code>c:\\Development\\TactitalTensorsFinalProject\\wandb\\run-20241207_115042-530mgkxv</code>"
      ],
      "text/plain": [
       "<IPython.core.display.HTML object>"
      ]
     },
     "metadata": {},
     "output_type": "display_data"
    },
    {
     "data": {
      "text/html": [
       "Syncing run <strong><a href='https://wandb.ai/ayoungren-colostate/NBSE2025_GridSearch_3/runs/530mgkxv' target=\"_blank\">java_epoch-20_batchSize-8_weightsOfDecay-0.01</a></strong> to <a href='https://wandb.ai/ayoungren-colostate/NBSE2025_GridSearch_3' target=\"_blank\">Weights & Biases</a> (<a href='https://wandb.me/developer-guide' target=\"_blank\">docs</a>)<br/>"
      ],
      "text/plain": [
       "<IPython.core.display.HTML object>"
      ]
     },
     "metadata": {},
     "output_type": "display_data"
    },
    {
     "data": {
      "text/html": [
       " View project at <a href='https://wandb.ai/ayoungren-colostate/NBSE2025_GridSearch_3' target=\"_blank\">https://wandb.ai/ayoungren-colostate/NBSE2025_GridSearch_3</a>"
      ],
      "text/plain": [
       "<IPython.core.display.HTML object>"
      ]
     },
     "metadata": {},
     "output_type": "display_data"
    },
    {
     "data": {
      "text/html": [
       " View run at <a href='https://wandb.ai/ayoungren-colostate/NBSE2025_GridSearch_3/runs/530mgkxv' target=\"_blank\">https://wandb.ai/ayoungren-colostate/NBSE2025_GridSearch_3/runs/530mgkxv</a>"
      ],
      "text/plain": [
       "<IPython.core.display.HTML object>"
      ]
     },
     "metadata": {},
     "output_type": "display_data"
    },
    {
     "name": "stderr",
     "output_type": "stream",
     "text": [
      "c:\\Users\\ayoun\\Miniconda3\\envs\\nbse2025\\lib\\site-packages\\torch\\_utils.py:776: UserWarning: TypedStorage is deprecated. It will be removed in the future and UntypedStorage will be the only storage class. This should only matter to you if you are using storages directly.  To access UntypedStorage directly, use tensor.untyped_storage() instead of tensor.storage()\n",
      "  return self.fget.__get__(instance, owner)()\n",
      "Some weights of RobertaForSequenceClassification were not initialized from the model checkpoint at microsoft/codebert-base and are newly initialized: ['classifier.dense.bias', 'classifier.dense.weight', 'classifier.out_proj.bias', 'classifier.out_proj.weight']\n",
      "You should probably TRAIN this model on a down-stream task to be able to use it for predictions and inference.\n",
      "Map: 100%|██████████| 7614/7614 [00:00<00:00, 9994.93 examples/s] \n",
      "  5%|▌         | 762/15240 [00:56<17:46, 13.58it/s]\n",
      "  5%|▌         | 762/15240 [01:00<17:46, 13.58it/s]"
     ]
    },
    {
     "name": "stdout",
     "output_type": "stream",
     "text": [
      "\n",
      " ** Evaluating metrics for java test set. ** \n",
      "\n",
      "{'eval_loss': 0.13600832223892212, 'eval_f1': 0.595752940682327, 'eval_precision': 0.6642296620530903, 'eval_recall': 0.5794466301167837, 'eval_runtime': 3.8513, 'eval_samples_per_second': 395.453, 'eval_steps_per_second': 49.594, 'epoch': 1.0}\n"
     ]
    },
    {
     "name": "stderr",
     "output_type": "stream",
     "text": [
      "  7%|▋         | 1002/15240 [01:19<18:34, 12.78it/s] "
     ]
    },
    {
     "name": "stdout",
     "output_type": "stream",
     "text": [
      "{'loss': 0.137, 'grad_norm': 1.6239041090011597, 'learning_rate': 4.671916010498688e-05, 'epoch': 1.31}\n"
     ]
    },
    {
     "name": "stderr",
     "output_type": "stream",
     "text": [
      " 10%|█         | 1524/15240 [01:58<16:30, 13.85it/s]\n",
      " 10%|█         | 1524/15240 [02:02<16:30, 13.85it/s]"
     ]
    },
    {
     "name": "stdout",
     "output_type": "stream",
     "text": [
      "\n",
      " ** Evaluating metrics for java test set. ** \n",
      "\n",
      "{'eval_loss': 0.08273111283779144, 'eval_f1': 0.7840341369452382, 'eval_precision': 0.8953788351224469, 'eval_recall': 0.7348765573944892, 'eval_runtime': 3.8679, 'eval_samples_per_second': 393.751, 'eval_steps_per_second': 49.38, 'epoch': 2.0}\n"
     ]
    },
    {
     "name": "stderr",
     "output_type": "stream",
     "text": [
      " 13%|█▎        | 2002/15240 [02:42<17:10, 12.85it/s]  "
     ]
    },
    {
     "name": "stdout",
     "output_type": "stream",
     "text": [
      "{'loss': 0.0764, 'grad_norm': 0.2853468060493469, 'learning_rate': 4.343832020997376e-05, 'epoch': 2.62}\n"
     ]
    },
    {
     "name": "stderr",
     "output_type": "stream",
     "text": [
      " 15%|█▌        | 2286/15240 [03:04<17:45, 12.16it/s]\n",
      " 15%|█▌        | 2286/15240 [03:08<17:45, 12.16it/s]"
     ]
    },
    {
     "name": "stdout",
     "output_type": "stream",
     "text": [
      "\n",
      " ** Evaluating metrics for java test set. ** \n",
      "\n",
      "{'eval_loss': 0.07885777205228806, 'eval_f1': 0.8376249942828273, 'eval_precision': 0.8762725775821416, 'eval_recall': 0.8063444282200892, 'eval_runtime': 4.2352, 'eval_samples_per_second': 359.602, 'eval_steps_per_second': 45.098, 'epoch': 3.0}\n"
     ]
    },
    {
     "name": "stderr",
     "output_type": "stream",
     "text": [
      " 20%|█▉        | 3002/15240 [04:05<16:04, 12.69it/s]  "
     ]
    },
    {
     "name": "stdout",
     "output_type": "stream",
     "text": [
      "{'loss': 0.0528, 'grad_norm': 0.2716434597969055, 'learning_rate': 4.015748031496063e-05, 'epoch': 3.94}\n"
     ]
    },
    {
     "name": "stderr",
     "output_type": "stream",
     "text": [
      " 20%|██        | 3048/15240 [04:08<15:04, 13.48it/s]\n",
      " 20%|██        | 3048/15240 [04:12<15:04, 13.48it/s]"
     ]
    },
    {
     "name": "stdout",
     "output_type": "stream",
     "text": [
      "\n",
      " ** Evaluating metrics for java test set. ** \n",
      "\n",
      "{'eval_loss': 0.09326793998479843, 'eval_f1': 0.8464513725066852, 'eval_precision': 0.889077349059263, 'eval_recall': 0.8152661186793833, 'eval_runtime': 3.9817, 'eval_samples_per_second': 382.5, 'eval_steps_per_second': 47.97, 'epoch': 4.0}\n"
     ]
    },
    {
     "name": "stderr",
     "output_type": "stream",
     "text": [
      " 25%|██▌       | 3810/15240 [05:13<13:44, 13.86it/s]  \n",
      " 25%|██▌       | 3810/15240 [05:17<13:44, 13.86it/s]"
     ]
    },
    {
     "name": "stdout",
     "output_type": "stream",
     "text": [
      "\n",
      " ** Evaluating metrics for java test set. ** \n",
      "\n",
      "{'eval_loss': 0.08350060880184174, 'eval_f1': 0.8826813132708241, 'eval_precision': 0.9204711412246528, 'eval_recall': 0.8545443380587506, 'eval_runtime': 4.1366, 'eval_samples_per_second': 368.178, 'eval_steps_per_second': 46.173, 'epoch': 5.0}\n"
     ]
    },
    {
     "name": "stderr",
     "output_type": "stream",
     "text": [
      " 26%|██▋       | 4002/15240 [05:33<15:17, 12.25it/s]  "
     ]
    },
    {
     "name": "stdout",
     "output_type": "stream",
     "text": [
      "{'loss': 0.0311, 'grad_norm': 2.059251070022583, 'learning_rate': 3.6876640419947505e-05, 'epoch': 5.25}\n"
     ]
    },
    {
     "name": "stderr",
     "output_type": "stream",
     "text": [
      " 30%|███       | 4572/15240 [06:17<13:29, 13.18it/s]\n",
      " 30%|███       | 4572/15240 [06:21<13:29, 13.18it/s]"
     ]
    },
    {
     "name": "stdout",
     "output_type": "stream",
     "text": [
      "\n",
      " ** Evaluating metrics for java test set. ** \n",
      "\n",
      "{'eval_loss': 0.10245852172374725, 'eval_f1': 0.8622236080338224, 'eval_precision': 0.8675926597954341, 'eval_recall': 0.8589727912247767, 'eval_runtime': 4.0177, 'eval_samples_per_second': 379.071, 'eval_steps_per_second': 47.539, 'epoch': 6.0}\n"
     ]
    },
    {
     "name": "stderr",
     "output_type": "stream",
     "text": [
      " 33%|███▎      | 5002/15240 [06:55<12:59, 13.13it/s]  "
     ]
    },
    {
     "name": "stdout",
     "output_type": "stream",
     "text": [
      "{'loss': 0.0215, 'grad_norm': 5.91235876083374, 'learning_rate': 3.3595800524934386e-05, 'epoch': 6.56}\n"
     ]
    },
    {
     "name": "stderr",
     "output_type": "stream",
     "text": [
      " 35%|███▌      | 5334/15240 [07:21<11:58, 13.79it/s]\n",
      " 35%|███▌      | 5334/15240 [07:25<11:58, 13.79it/s]"
     ]
    },
    {
     "name": "stdout",
     "output_type": "stream",
     "text": [
      "\n",
      " ** Evaluating metrics for java test set. ** \n",
      "\n",
      "{'eval_loss': 0.10011924058198929, 'eval_f1': 0.8833959615145589, 'eval_precision': 0.9026522386262122, 'eval_recall': 0.8664516478315684, 'eval_runtime': 3.9879, 'eval_samples_per_second': 381.907, 'eval_steps_per_second': 47.895, 'epoch': 7.0}\n"
     ]
    },
    {
     "name": "stderr",
     "output_type": "stream",
     "text": [
      " 39%|███▉      | 6002/15240 [08:18<12:29, 12.32it/s]  "
     ]
    },
    {
     "name": "stdout",
     "output_type": "stream",
     "text": [
      "{'loss': 0.0177, 'grad_norm': 0.015838464722037315, 'learning_rate': 3.0314960629921263e-05, 'epoch': 7.87}\n"
     ]
    },
    {
     "name": "stderr",
     "output_type": "stream",
     "text": [
      " 40%|████      | 6096/15240 [08:25<10:55, 13.96it/s]\n",
      " 40%|████      | 6096/15240 [08:29<10:55, 13.96it/s]"
     ]
    },
    {
     "name": "stdout",
     "output_type": "stream",
     "text": [
      "\n",
      " ** Evaluating metrics for java test set. ** \n",
      "\n",
      "{'eval_loss': 0.11453189700841904, 'eval_f1': 0.8694821776377111, 'eval_precision': 0.8715008088055678, 'eval_recall': 0.869969917172963, 'eval_runtime': 3.9152, 'eval_samples_per_second': 388.993, 'eval_steps_per_second': 48.784, 'epoch': 8.0}\n"
     ]
    },
    {
     "name": "stderr",
     "output_type": "stream",
     "text": [
      " 45%|████▌     | 6858/15240 [09:29<10:02, 13.92it/s]  \n",
      " 45%|████▌     | 6858/15240 [09:33<10:02, 13.92it/s]"
     ]
    },
    {
     "name": "stdout",
     "output_type": "stream",
     "text": [
      "\n",
      " ** Evaluating metrics for java test set. ** \n",
      "\n",
      "{'eval_loss': 0.1237432062625885, 'eval_f1': 0.8693352639543674, 'eval_precision': 0.8712078316149654, 'eval_recall': 0.8690166760143494, 'eval_runtime': 3.9457, 'eval_samples_per_second': 385.987, 'eval_steps_per_second': 48.407, 'epoch': 9.0}\n"
     ]
    },
    {
     "name": "stderr",
     "output_type": "stream",
     "text": [
      " 46%|████▌     | 7002/15240 [09:45<10:20, 13.27it/s]  "
     ]
    },
    {
     "name": "stdout",
     "output_type": "stream",
     "text": [
      "{'loss': 0.01, 'grad_norm': 4.998196125030518, 'learning_rate': 2.7034120734908137e-05, 'epoch': 9.19}\n"
     ]
    },
    {
     "name": "stderr",
     "output_type": "stream",
     "text": [
      " 50%|█████     | 7620/15240 [10:32<09:12, 13.79it/s]\n",
      " 50%|█████     | 7620/15240 [10:36<09:12, 13.79it/s]"
     ]
    },
    {
     "name": "stdout",
     "output_type": "stream",
     "text": [
      "\n",
      " ** Evaluating metrics for java test set. ** \n",
      "\n",
      "{'eval_loss': 0.1264461874961853, 'eval_f1': 0.8742071654032213, 'eval_precision': 0.8836204085022674, 'eval_recall': 0.8671039573256752, 'eval_runtime': 3.9877, 'eval_samples_per_second': 381.926, 'eval_steps_per_second': 47.898, 'epoch': 10.0}\n"
     ]
    },
    {
     "name": "stderr",
     "output_type": "stream",
     "text": [
      " 53%|█████▎    | 8002/15240 [11:07<09:42, 12.43it/s]  "
     ]
    },
    {
     "name": "stdout",
     "output_type": "stream",
     "text": [
      "{'loss': 0.0079, 'grad_norm': 0.2546742856502533, 'learning_rate': 2.3753280839895015e-05, 'epoch': 10.5}\n"
     ]
    },
    {
     "name": "stderr",
     "output_type": "stream",
     "text": [
      " 55%|█████▌    | 8382/15240 [11:36<08:38, 13.22it/s]\n",
      " 55%|█████▌    | 8382/15240 [11:41<08:38, 13.22it/s]"
     ]
    },
    {
     "name": "stdout",
     "output_type": "stream",
     "text": [
      "\n",
      " ** Evaluating metrics for java test set. ** \n",
      "\n",
      "{'eval_loss': 0.12206801027059555, 'eval_f1': 0.8603397556627994, 'eval_precision': 0.8712284034346544, 'eval_recall': 0.851916513386044, 'eval_runtime': 4.1807, 'eval_samples_per_second': 364.293, 'eval_steps_per_second': 45.686, 'epoch': 11.0}\n"
     ]
    },
    {
     "name": "stderr",
     "output_type": "stream",
     "text": [
      " 59%|█████▉    | 9002/15240 [12:30<08:02, 12.94it/s]  "
     ]
    },
    {
     "name": "stdout",
     "output_type": "stream",
     "text": [
      "{'loss': 0.0068, 'grad_norm': 0.05760088562965393, 'learning_rate': 2.0472440944881892e-05, 'epoch': 11.81}\n"
     ]
    },
    {
     "name": "stderr",
     "output_type": "stream",
     "text": [
      " 60%|██████    | 9144/15240 [12:41<07:18, 13.92it/s]\n",
      " 60%|██████    | 9144/15240 [12:45<07:18, 13.92it/s]"
     ]
    },
    {
     "name": "stdout",
     "output_type": "stream",
     "text": [
      "\n",
      " ** Evaluating metrics for java test set. ** \n",
      "\n",
      "{'eval_loss': 0.12837813794612885, 'eval_f1': 0.8694309512235999, 'eval_precision': 0.8864430369369559, 'eval_recall': 0.8553091120519923, 'eval_runtime': 4.0071, 'eval_samples_per_second': 380.073, 'eval_steps_per_second': 47.665, 'epoch': 12.0}\n"
     ]
    },
    {
     "name": "stderr",
     "output_type": "stream",
     "text": [
      " 65%|██████▌   | 9906/15240 [13:45<06:22, 13.94it/s]  \n",
      " 65%|██████▌   | 9906/15240 [13:49<06:22, 13.94it/s]"
     ]
    },
    {
     "name": "stdout",
     "output_type": "stream",
     "text": [
      "\n",
      " ** Evaluating metrics for java test set. ** \n",
      "\n",
      "{'eval_loss': 0.1253124326467514, 'eval_f1': 0.8749734822056999, 'eval_precision': 0.897222875803936, 'eval_recall': 0.8577733490988496, 'eval_runtime': 3.9722, 'eval_samples_per_second': 383.416, 'eval_steps_per_second': 48.084, 'epoch': 13.0}\n"
     ]
    },
    {
     "name": "stderr",
     "output_type": "stream",
     "text": [
      " 66%|██████▌   | 10002/15240 [13:58<06:36, 13.23it/s] "
     ]
    },
    {
     "name": "stdout",
     "output_type": "stream",
     "text": [
      "{'loss': 0.0041, 'grad_norm': 0.011028129607439041, 'learning_rate': 1.7191601049868766e-05, 'epoch': 13.12}\n"
     ]
    },
    {
     "name": "stderr",
     "output_type": "stream",
     "text": [
      " 70%|███████   | 10668/15240 [14:48<05:41, 13.38it/s]\n",
      " 70%|███████   | 10668/15240 [14:52<05:41, 13.38it/s]"
     ]
    },
    {
     "name": "stdout",
     "output_type": "stream",
     "text": [
      "\n",
      " ** Evaluating metrics for java test set. ** \n",
      "\n",
      "{'eval_loss': 0.12527745962142944, 'eval_f1': 0.876565876487294, 'eval_precision': 0.91037315704353, 'eval_recall': 0.8517746087309381, 'eval_runtime': 3.8918, 'eval_samples_per_second': 391.332, 'eval_steps_per_second': 49.077, 'epoch': 14.0}\n"
     ]
    },
    {
     "name": "stderr",
     "output_type": "stream",
     "text": [
      " 72%|███████▏  | 11002/15240 [15:19<05:19, 13.25it/s]  "
     ]
    },
    {
     "name": "stdout",
     "output_type": "stream",
     "text": [
      "{'loss': 0.0031, 'grad_norm': 0.0015589578542858362, 'learning_rate': 1.3910761154855645e-05, 'epoch': 14.44}\n"
     ]
    },
    {
     "name": "stderr",
     "output_type": "stream",
     "text": [
      " 75%|███████▌  | 11430/15240 [15:51<04:54, 12.92it/s]\n",
      " 75%|███████▌  | 11430/15240 [15:55<04:54, 12.92it/s]"
     ]
    },
    {
     "name": "stdout",
     "output_type": "stream",
     "text": [
      "\n",
      " ** Evaluating metrics for java test set. ** \n",
      "\n",
      "{'eval_loss': 0.12203247845172882, 'eval_f1': 0.8754698643532567, 'eval_precision': 0.8866283451257138, 'eval_recall': 0.8657301467600874, 'eval_runtime': 4.0764, 'eval_samples_per_second': 373.618, 'eval_steps_per_second': 46.856, 'epoch': 15.0}\n"
     ]
    },
    {
     "name": "stderr",
     "output_type": "stream",
     "text": [
      " 79%|███████▊  | 12001/15240 [16:40<04:20, 12.42it/s]  "
     ]
    },
    {
     "name": "stdout",
     "output_type": "stream",
     "text": [
      "{'loss': 0.003, 'grad_norm': 0.008200361393392086, 'learning_rate': 1.062992125984252e-05, 'epoch': 15.75}\n"
     ]
    },
    {
     "name": "stderr",
     "output_type": "stream",
     "text": [
      " 80%|███████▉  | 12191/15240 [16:55<03:51, 13.18it/s]\n",
      " 80%|████████  | 12192/15240 [16:59<03:51, 13.18it/s]"
     ]
    },
    {
     "name": "stdout",
     "output_type": "stream",
     "text": [
      "\n",
      " ** Evaluating metrics for java test set. ** \n",
      "\n",
      "{'eval_loss': 0.1282494068145752, 'eval_f1': 0.8863374424065347, 'eval_precision': 0.8947534470804962, 'eval_recall': 0.8799501744697215, 'eval_runtime': 3.912, 'eval_samples_per_second': 389.312, 'eval_steps_per_second': 48.824, 'epoch': 16.0}\n"
     ]
    },
    {
     "name": "stderr",
     "output_type": "stream",
     "text": [
      " 85%|████████▌ | 12954/15240 [17:58<02:59, 12.73it/s]\n",
      " 85%|████████▌ | 12954/15240 [18:03<02:59, 12.73it/s]"
     ]
    },
    {
     "name": "stdout",
     "output_type": "stream",
     "text": [
      "\n",
      " ** Evaluating metrics for java test set. ** \n",
      "\n",
      "{'eval_loss': 0.1278945654630661, 'eval_f1': 0.8847662641649439, 'eval_precision': 0.9110718386010735, 'eval_recall': 0.8670562618296404, 'eval_runtime': 4.105, 'eval_samples_per_second': 371.007, 'eval_steps_per_second': 46.528, 'epoch': 17.0}\n"
     ]
    },
    {
     "name": "stderr",
     "output_type": "stream",
     "text": [
      " 85%|████████▌ | 13002/15240 [18:08<02:50, 13.10it/s]"
     ]
    },
    {
     "name": "stdout",
     "output_type": "stream",
     "text": [
      "{'loss': 0.0025, 'grad_norm': 0.003275152761489153, 'learning_rate': 7.349081364829396e-06, 'epoch': 17.06}\n"
     ]
    },
    {
     "name": "stderr",
     "output_type": "stream",
     "text": [
      " 90%|█████████ | 13716/15240 [19:02<01:53, 13.48it/s]\n",
      " 90%|█████████ | 13716/15240 [19:05<01:53, 13.48it/s]"
     ]
    },
    {
     "name": "stdout",
     "output_type": "stream",
     "text": [
      "\n",
      " ** Evaluating metrics for java test set. ** \n",
      "\n",
      "{'eval_loss': 0.13323579728603363, 'eval_f1': 0.8763330135297088, 'eval_precision': 0.8804588713301351, 'eval_recall': 0.8739074791687143, 'eval_runtime': 3.9166, 'eval_samples_per_second': 388.853, 'eval_steps_per_second': 48.766, 'epoch': 18.0}\n"
     ]
    },
    {
     "name": "stderr",
     "output_type": "stream",
     "text": [
      " 92%|█████████▏| 14002/15240 [19:28<01:33, 13.19it/s]"
     ]
    },
    {
     "name": "stdout",
     "output_type": "stream",
     "text": [
      "{'loss': 0.0014, 'grad_norm': 0.0008577531552873552, 'learning_rate': 4.068241469816273e-06, 'epoch': 18.37}\n"
     ]
    },
    {
     "name": "stderr",
     "output_type": "stream",
     "text": [
      " 95%|█████████▌| 14478/15240 [20:04<00:56, 13.42it/s]\n",
      " 95%|█████████▌| 14478/15240 [20:08<00:56, 13.42it/s]"
     ]
    },
    {
     "name": "stdout",
     "output_type": "stream",
     "text": [
      "\n",
      " ** Evaluating metrics for java test set. ** \n",
      "\n",
      "{'eval_loss': 0.1325462907552719, 'eval_f1': 0.8820201445988144, 'eval_precision': 0.8900449954373248, 'eval_recall': 0.875929923511794, 'eval_runtime': 4.1481, 'eval_samples_per_second': 367.155, 'eval_steps_per_second': 46.045, 'epoch': 19.0}\n"
     ]
    },
    {
     "name": "stderr",
     "output_type": "stream",
     "text": [
      " 98%|█████████▊| 15002/15240 [20:49<00:17, 13.29it/s]"
     ]
    },
    {
     "name": "stdout",
     "output_type": "stream",
     "text": [
      "{'loss': 0.0013, 'grad_norm': 0.004687155596911907, 'learning_rate': 7.874015748031496e-07, 'epoch': 19.69}\n"
     ]
    },
    {
     "name": "stderr",
     "output_type": "stream",
     "text": [
      "100%|██████████| 15240/15240 [21:07<00:00, 13.97it/s]\n",
      "100%|██████████| 15240/15240 [21:12<00:00, 13.97it/s]"
     ]
    },
    {
     "name": "stdout",
     "output_type": "stream",
     "text": [
      "\n",
      " ** Evaluating metrics for java test set. ** \n",
      "\n",
      "{'eval_loss': 0.1330864578485489, 'eval_f1': 0.8802168728705781, 'eval_precision': 0.8914786291378555, 'eval_recall': 0.8708136213164771, 'eval_runtime': 3.9217, 'eval_samples_per_second': 388.355, 'eval_steps_per_second': 48.704, 'epoch': 20.0}\n"
     ]
    },
    {
     "name": "stderr",
     "output_type": "stream",
     "text": [
      "100%|██████████| 15240/15240 [21:14<00:00, 11.96it/s]\n"
     ]
    },
    {
     "name": "stdout",
     "output_type": "stream",
     "text": [
      "{'train_runtime': 1274.6978, 'train_samples_per_second': 95.568, 'train_steps_per_second': 11.956, 'train_loss': 0.024718011516755022, 'epoch': 20.0}\n"
     ]
    },
    {
     "name": "stderr",
     "output_type": "stream",
     "text": [
      "100%|██████████| 191/191 [00:03<00:00, 50.23it/s]\n"
     ]
    },
    {
     "name": "stdout",
     "output_type": "stream",
     "text": [
      "\n",
      " ** Evaluating metrics for java test set. ** \n",
      "\n",
      "Evaluation Metrics: {'eval_loss': 0.1282494068145752, 'eval_f1': 0.8863374424065347, 'eval_precision': 0.8947534470804962, 'eval_recall': 0.8799501744697215, 'eval_runtime': 3.8528, 'eval_samples_per_second': 395.294, 'eval_steps_per_second': 49.574, 'epoch': 20.0}\n"
     ]
    },
    {
     "ename": "SafetensorError",
     "evalue": "Error while serializing: IoError(Os { code: 112, kind: StorageFull, message: \"There is not enough space on the disk.\" })",
     "output_type": "error",
     "traceback": [
      "\u001b[1;31m---------------------------------------------------------------------------\u001b[0m",
      "\u001b[1;31mSafetensorError\u001b[0m                           Traceback (most recent call last)",
      "Cell \u001b[1;32mIn[14], line 103\u001b[0m\n\u001b[0;32m    100\u001b[0m   total_avg_runtime \u001b[38;5;241m+\u001b[39m\u001b[38;5;241m=\u001b[39m avg_runtime\n\u001b[0;32m    101\u001b[0m   total_avg_flops \u001b[38;5;241m+\u001b[39m\u001b[38;5;241m=\u001b[39m avg_flops\n\u001b[1;32m--> 103\u001b[0m   \u001b[43mtrainer\u001b[49m\u001b[38;5;241;43m.\u001b[39;49m\u001b[43mmodel\u001b[49m\u001b[38;5;241;43m.\u001b[39;49m\u001b[43msave_pretrained\u001b[49m\u001b[43m(\u001b[49m\u001b[38;5;124;43mf\u001b[39;49m\u001b[38;5;124;43m'\u001b[39;49m\u001b[38;5;124;43m./models/\u001b[39;49m\u001b[38;5;132;43;01m{\u001b[39;49;00m\u001b[43mlang_mod_name\u001b[49m\u001b[38;5;132;43;01m}\u001b[39;49;00m\u001b[38;5;124;43m'\u001b[39;49m\u001b[43m)\u001b[49m\n\u001b[0;32m    104\u001b[0m   tokenizer\u001b[38;5;241m.\u001b[39msave_pretrained(\u001b[38;5;124mf\u001b[39m\u001b[38;5;124m'\u001b[39m\u001b[38;5;124m./tokenizers/\u001b[39m\u001b[38;5;132;01m{\u001b[39;00mlang_mod_name\u001b[38;5;132;01m}\u001b[39;00m\u001b[38;5;124m'\u001b[39m)\n\u001b[0;32m    106\u001b[0m \u001b[38;5;28mprint\u001b[39m(scores)\n",
      "File \u001b[1;32mc:\\Users\\ayoun\\Miniconda3\\envs\\nbse2025\\lib\\site-packages\\transformers\\modeling_utils.py:3029\u001b[0m, in \u001b[0;36mPreTrainedModel.save_pretrained\u001b[1;34m(self, save_directory, is_main_process, state_dict, save_function, push_to_hub, max_shard_size, safe_serialization, variant, token, save_peft_format, **kwargs)\u001b[0m\n\u001b[0;32m   3024\u001b[0m     gc\u001b[38;5;241m.\u001b[39mcollect()\n\u001b[0;32m   3026\u001b[0m \u001b[38;5;28;01mif\u001b[39;00m safe_serialization:\n\u001b[0;32m   3027\u001b[0m     \u001b[38;5;66;03m# At some point we will need to deal better with save_function (used for TPU and other distributed\u001b[39;00m\n\u001b[0;32m   3028\u001b[0m     \u001b[38;5;66;03m# joyfulness), but for now this enough.\u001b[39;00m\n\u001b[1;32m-> 3029\u001b[0m     \u001b[43msafe_save_file\u001b[49m\u001b[43m(\u001b[49m\u001b[43mshard\u001b[49m\u001b[43m,\u001b[49m\u001b[43m \u001b[49m\u001b[43mos\u001b[49m\u001b[38;5;241;43m.\u001b[39;49m\u001b[43mpath\u001b[49m\u001b[38;5;241;43m.\u001b[39;49m\u001b[43mjoin\u001b[49m\u001b[43m(\u001b[49m\u001b[43msave_directory\u001b[49m\u001b[43m,\u001b[49m\u001b[43m \u001b[49m\u001b[43mshard_file\u001b[49m\u001b[43m)\u001b[49m\u001b[43m,\u001b[49m\u001b[43m \u001b[49m\u001b[43mmetadata\u001b[49m\u001b[38;5;241;43m=\u001b[39;49m\u001b[43m{\u001b[49m\u001b[38;5;124;43m\"\u001b[39;49m\u001b[38;5;124;43mformat\u001b[39;49m\u001b[38;5;124;43m\"\u001b[39;49m\u001b[43m:\u001b[49m\u001b[43m \u001b[49m\u001b[38;5;124;43m\"\u001b[39;49m\u001b[38;5;124;43mpt\u001b[39;49m\u001b[38;5;124;43m\"\u001b[39;49m\u001b[43m}\u001b[49m\u001b[43m)\u001b[49m\n\u001b[0;32m   3030\u001b[0m \u001b[38;5;28;01melse\u001b[39;00m:\n\u001b[0;32m   3031\u001b[0m     save_function(shard, os\u001b[38;5;241m.\u001b[39mpath\u001b[38;5;241m.\u001b[39mjoin(save_directory, shard_file))\n",
      "File \u001b[1;32mc:\\Users\\ayoun\\Miniconda3\\envs\\nbse2025\\lib\\site-packages\\safetensors\\torch.py:286\u001b[0m, in \u001b[0;36msave_file\u001b[1;34m(tensors, filename, metadata)\u001b[0m\n\u001b[0;32m    255\u001b[0m \u001b[38;5;28;01mdef\u001b[39;00m \u001b[38;5;21msave_file\u001b[39m(\n\u001b[0;32m    256\u001b[0m     tensors: Dict[\u001b[38;5;28mstr\u001b[39m, torch\u001b[38;5;241m.\u001b[39mTensor],\n\u001b[0;32m    257\u001b[0m     filename: Union[\u001b[38;5;28mstr\u001b[39m, os\u001b[38;5;241m.\u001b[39mPathLike],\n\u001b[0;32m    258\u001b[0m     metadata: Optional[Dict[\u001b[38;5;28mstr\u001b[39m, \u001b[38;5;28mstr\u001b[39m]] \u001b[38;5;241m=\u001b[39m \u001b[38;5;28;01mNone\u001b[39;00m,\n\u001b[0;32m    259\u001b[0m ):\n\u001b[0;32m    260\u001b[0m \u001b[38;5;250m    \u001b[39m\u001b[38;5;124;03m\"\"\"\u001b[39;00m\n\u001b[0;32m    261\u001b[0m \u001b[38;5;124;03m    Saves a dictionary of tensors into raw bytes in safetensors format.\u001b[39;00m\n\u001b[0;32m    262\u001b[0m \n\u001b[1;32m   (...)\u001b[0m\n\u001b[0;32m    284\u001b[0m \u001b[38;5;124;03m    ```\u001b[39;00m\n\u001b[0;32m    285\u001b[0m \u001b[38;5;124;03m    \"\"\"\u001b[39;00m\n\u001b[1;32m--> 286\u001b[0m     \u001b[43mserialize_file\u001b[49m\u001b[43m(\u001b[49m\u001b[43m_flatten\u001b[49m\u001b[43m(\u001b[49m\u001b[43mtensors\u001b[49m\u001b[43m)\u001b[49m\u001b[43m,\u001b[49m\u001b[43m \u001b[49m\u001b[43mfilename\u001b[49m\u001b[43m,\u001b[49m\u001b[43m \u001b[49m\u001b[43mmetadata\u001b[49m\u001b[38;5;241;43m=\u001b[39;49m\u001b[43mmetadata\u001b[49m\u001b[43m)\u001b[49m\n",
      "\u001b[1;31mSafetensorError\u001b[0m: Error while serializing: IoError(Os { code: 112, kind: StorageFull, message: \"There is not enough space on the disk.\" })"
     ]
    }
   ],
   "source": [
    "# Training the models for each language and saving the the models and thier\n",
    "# tokenizers after training.\n",
    "\n",
    "# trying different pre-trained models such as roberta-base, distilbert-base, or codebert-large\n",
    "\n",
    "seed = 27\n",
    "set_seed(seed)\n",
    "\n",
    "learning_rates = [5e-4, 5e-5, 5e-6]\n",
    "epochs = [5, 10, 15, 20]\n",
    "batch_sizes = [4, 8, 16]\n",
    "weight_of_decay = [0.01, 0.001]\n",
    "gs_metrics_dict = {}\n",
    "final_model_stats = {}\n",
    "\n",
    "for lr in learning_rates:\n",
    "  for wd in weight_of_decay:\n",
    "    for epoch in epochs:\n",
    "      for bs in batch_sizes:\n",
    "        print(f'------------------ Starting model ==> epochs: {epoch}, batch size: {bs}, weights of decay: {wd} ---------------------')\n",
    "        fin_mod_name = f'epoch-{epoch}_batchSize-{bs}_weightsOfDecay-{wd}'\n",
    "        total_flops = 0\n",
    "        total_time = 0\n",
    "        total_avg_runtime = 0\n",
    "        total_avg_flops = 0\n",
    "\n",
    "        for lang in langs:\n",
    "\n",
    "          lang_mod_name = f'{lang}_epoch-{epoch}_batchSize-{bs}_weightsOfDecay-{wd}'\n",
    "          wandb.init(\n",
    "              project=\"NBSE2025_GridSearch_3\", \n",
    "              entity=\"ayoungren-colostate\",\n",
    "              name=lang_mod_name,\n",
    "              config={  # Log hyperparameters for each run\n",
    "                  \"epochs\": epoch,\n",
    "                  \"batch_size\": bs,\n",
    "                  \"weight_decay\": wd,\n",
    "                  \"language\": lang\n",
    "              }\n",
    "          )\n",
    "          \n",
    "          num_labels = len(labels[lang])\n",
    "          model = AutoModelForSequenceClassification.from_pretrained(model_name, num_labels=num_labels, problem_type=\"multi_label_classification\")\n",
    "\n",
    "          dataset = preprocess_dataset(ds[f'{lang}_train'])\n",
    "          train_valalidation_split = dataset.train_test_split(test_size=0.2, seed=seed)\n",
    "\n",
    "          train_dataset =  train_valalidation_split['train']\n",
    "          validation_dataset = train_valalidation_split['test']\n",
    "\n",
    "          training_args = TrainingArguments(\n",
    "            output_dir=f'./results_{lang_mod_name}',\n",
    "            eval_strategy=\"epoch\",\n",
    "            save_strategy=\"epoch\",\n",
    "            logging_dir=f'./logs_{lang_mod_name}',\n",
    "            per_device_train_batch_size=bs,\n",
    "            per_device_eval_batch_size=bs,\n",
    "            num_train_epochs=epoch,\n",
    "            weight_decay=wd,\n",
    "            learning_rate=lr,\n",
    "            logging_steps=1000,\n",
    "            save_total_limit=2,\n",
    "            load_best_model_at_end=True,\n",
    "            metric_for_best_model=\"f1\",\n",
    "            seed=seed\n",
    "          )\n",
    "          \n",
    "          trainer = Trainer(\n",
    "            model=model,\n",
    "            args=training_args,\n",
    "            train_dataset=train_dataset,\n",
    "            eval_dataset= validation_dataset,\n",
    "            processing_class=tokenizer,\n",
    "            compute_metrics=compute_metrics_wrapper(fin_mod_name, 'validation'),\n",
    "          )\n",
    "\n",
    "          trainer.train()\n",
    "          metrics = trainer.evaluate()\n",
    "\n",
    "          print(\"Evaluation Metrics:\", metrics)\n",
    "\n",
    "          avg_runtime, avg_flops, total_flops, total_time = measure_runtime_and_flops(trainer, validation_dataset)\n",
    "\n",
    "            # store each model and succession score by individual language\n",
    "          lang_mod_scores = scores[(scores['lan'] == lang) & (scores['model'] == fin_mod_name)]\n",
    "          print('CHECK SCORE', scores[(scores['lan'] == lang) & (scores['model'] == fin_mod_name)])\n",
    "          lang_avg_f1 = lang_mod_scores['f1'].mean()\n",
    "\n",
    "          sc = round(score(lang_avg_f1, avg_runtime, avg_flops), 2)\n",
    "          gs_metrics_dict[lang_mod_name] = {\n",
    "            'lang': lang,\n",
    "            'model': fin_mod_name,\n",
    "            'avg_runtime': avg_runtime,\n",
    "            'avg_flops': avg_flops,\n",
    "            'total_flops': total_flops,\n",
    "            'total_time': total_time,\n",
    "            'avg_f1': lang_avg_f1,\n",
    "            'succ_score': sc\n",
    "          }\n",
    "\n",
    "          total_avg_runtime += avg_runtime\n",
    "          total_avg_flops += avg_flops\n",
    "\n",
    "          trainer.model.save_pretrained(f'./models/{lang_mod_name}')\n",
    "          tokenizer.save_pretrained(f'./tokenizers/{lang_mod_name}')\n",
    "          \n",
    "        print(scores)\n",
    "        # store combined average succession score of all languages trained on. (Average Combined score of Java, Python, and Pharo)\n",
    "        model_stats = scores[scores['model'] == fin_mod_name]\n",
    "        fin_avg_f1 = model_stats['f1'].mean()\n",
    "        final_model_stats[fin_mod_name] = round(score(fin_avg_f1, total_avg_runtime, total_avg_flops), 2)"
   ]
  },
  {
   "cell_type": "markdown",
   "metadata": {
    "id": "2wj0297CgS0X"
   },
   "source": [
    "Evaluating the predictions."
   ]
  },
  {
   "cell_type": "code",
   "execution_count": 15,
   "metadata": {},
   "outputs": [
    {
     "data": {
      "text/html": [
       "<div>\n",
       "<style scoped>\n",
       "    .dataframe tbody tr th:only-of-type {\n",
       "        vertical-align: middle;\n",
       "    }\n",
       "\n",
       "    .dataframe tbody tr th {\n",
       "        vertical-align: top;\n",
       "    }\n",
       "\n",
       "    .dataframe thead th {\n",
       "        text-align: right;\n",
       "    }\n",
       "</style>\n",
       "<table border=\"1\" class=\"dataframe\">\n",
       "  <thead>\n",
       "    <tr style=\"text-align: right;\">\n",
       "      <th></th>\n",
       "      <th>comparison</th>\n",
       "      <th>model</th>\n",
       "      <th>lan</th>\n",
       "      <th>cat</th>\n",
       "      <th>precision</th>\n",
       "      <th>recall</th>\n",
       "      <th>f1</th>\n",
       "    </tr>\n",
       "  </thead>\n",
       "  <tbody>\n",
       "    <tr>\n",
       "      <th>0</th>\n",
       "      <td>validation</td>\n",
       "      <td>epoch-20_batchSize-4_weightsOfDecay-0.01</td>\n",
       "      <td>python</td>\n",
       "      <td>Usage</td>\n",
       "      <td>0.897959</td>\n",
       "      <td>0.727273</td>\n",
       "      <td>0.803653</td>\n",
       "    </tr>\n",
       "    <tr>\n",
       "      <th>1</th>\n",
       "      <td>validation</td>\n",
       "      <td>epoch-20_batchSize-4_weightsOfDecay-0.01</td>\n",
       "      <td>python</td>\n",
       "      <td>Parameters</td>\n",
       "      <td>0.852174</td>\n",
       "      <td>0.875000</td>\n",
       "      <td>0.863436</td>\n",
       "    </tr>\n",
       "    <tr>\n",
       "      <th>2</th>\n",
       "      <td>validation</td>\n",
       "      <td>epoch-20_batchSize-4_weightsOfDecay-0.01</td>\n",
       "      <td>python</td>\n",
       "      <td>DevelopmentNotes</td>\n",
       "      <td>0.681818</td>\n",
       "      <td>0.750000</td>\n",
       "      <td>0.714286</td>\n",
       "    </tr>\n",
       "    <tr>\n",
       "      <th>3</th>\n",
       "      <td>validation</td>\n",
       "      <td>epoch-20_batchSize-4_weightsOfDecay-0.01</td>\n",
       "      <td>python</td>\n",
       "      <td>Expand</td>\n",
       "      <td>0.657895</td>\n",
       "      <td>0.724638</td>\n",
       "      <td>0.689655</td>\n",
       "    </tr>\n",
       "    <tr>\n",
       "      <th>4</th>\n",
       "      <td>validation</td>\n",
       "      <td>epoch-20_batchSize-4_weightsOfDecay-0.01</td>\n",
       "      <td>python</td>\n",
       "      <td>Summary</td>\n",
       "      <td>0.740741</td>\n",
       "      <td>0.821918</td>\n",
       "      <td>0.779221</td>\n",
       "    </tr>\n",
       "    <tr>\n",
       "      <th>5</th>\n",
       "      <td>validation</td>\n",
       "      <td>epoch-20_batchSize-4_weightsOfDecay-0.01</td>\n",
       "      <td>pharo</td>\n",
       "      <td>Keyimplementationpoints</td>\n",
       "      <td>0.815789</td>\n",
       "      <td>0.738095</td>\n",
       "      <td>0.775000</td>\n",
       "    </tr>\n",
       "    <tr>\n",
       "      <th>6</th>\n",
       "      <td>validation</td>\n",
       "      <td>epoch-20_batchSize-4_weightsOfDecay-0.01</td>\n",
       "      <td>pharo</td>\n",
       "      <td>Example</td>\n",
       "      <td>0.926316</td>\n",
       "      <td>0.871287</td>\n",
       "      <td>0.897959</td>\n",
       "    </tr>\n",
       "    <tr>\n",
       "      <th>7</th>\n",
       "      <td>validation</td>\n",
       "      <td>epoch-20_batchSize-4_weightsOfDecay-0.01</td>\n",
       "      <td>pharo</td>\n",
       "      <td>Responsibilities</td>\n",
       "      <td>0.711111</td>\n",
       "      <td>0.640000</td>\n",
       "      <td>0.673684</td>\n",
       "    </tr>\n",
       "    <tr>\n",
       "      <th>8</th>\n",
       "      <td>validation</td>\n",
       "      <td>epoch-20_batchSize-4_weightsOfDecay-0.01</td>\n",
       "      <td>pharo</td>\n",
       "      <td>Classreferences</td>\n",
       "      <td>1.000000</td>\n",
       "      <td>0.250000</td>\n",
       "      <td>0.400000</td>\n",
       "    </tr>\n",
       "    <tr>\n",
       "      <th>9</th>\n",
       "      <td>validation</td>\n",
       "      <td>epoch-20_batchSize-4_weightsOfDecay-0.01</td>\n",
       "      <td>pharo</td>\n",
       "      <td>Intent</td>\n",
       "      <td>0.939394</td>\n",
       "      <td>0.815789</td>\n",
       "      <td>0.873239</td>\n",
       "    </tr>\n",
       "    <tr>\n",
       "      <th>10</th>\n",
       "      <td>validation</td>\n",
       "      <td>epoch-20_batchSize-4_weightsOfDecay-0.01</td>\n",
       "      <td>pharo</td>\n",
       "      <td>Keymessages</td>\n",
       "      <td>0.709091</td>\n",
       "      <td>0.829787</td>\n",
       "      <td>0.764706</td>\n",
       "    </tr>\n",
       "    <tr>\n",
       "      <th>11</th>\n",
       "      <td>validation</td>\n",
       "      <td>epoch-20_batchSize-4_weightsOfDecay-0.01</td>\n",
       "      <td>pharo</td>\n",
       "      <td>Collaborators</td>\n",
       "      <td>0.600000</td>\n",
       "      <td>0.428571</td>\n",
       "      <td>0.500000</td>\n",
       "    </tr>\n",
       "    <tr>\n",
       "      <th>12</th>\n",
       "      <td>validation</td>\n",
       "      <td>epoch-20_batchSize-8_weightsOfDecay-0.01</td>\n",
       "      <td>java</td>\n",
       "      <td>summary</td>\n",
       "      <td>0.943899</td>\n",
       "      <td>0.957326</td>\n",
       "      <td>0.950565</td>\n",
       "    </tr>\n",
       "    <tr>\n",
       "      <th>13</th>\n",
       "      <td>validation</td>\n",
       "      <td>epoch-20_batchSize-8_weightsOfDecay-0.01</td>\n",
       "      <td>java</td>\n",
       "      <td>Ownership</td>\n",
       "      <td>0.947368</td>\n",
       "      <td>0.981818</td>\n",
       "      <td>0.964286</td>\n",
       "    </tr>\n",
       "    <tr>\n",
       "      <th>14</th>\n",
       "      <td>validation</td>\n",
       "      <td>epoch-20_batchSize-8_weightsOfDecay-0.01</td>\n",
       "      <td>java</td>\n",
       "      <td>Expand</td>\n",
       "      <td>0.729730</td>\n",
       "      <td>0.794118</td>\n",
       "      <td>0.760563</td>\n",
       "    </tr>\n",
       "    <tr>\n",
       "      <th>15</th>\n",
       "      <td>validation</td>\n",
       "      <td>epoch-20_batchSize-8_weightsOfDecay-0.01</td>\n",
       "      <td>java</td>\n",
       "      <td>usage</td>\n",
       "      <td>0.976303</td>\n",
       "      <td>0.942792</td>\n",
       "      <td>0.959255</td>\n",
       "    </tr>\n",
       "    <tr>\n",
       "      <th>16</th>\n",
       "      <td>validation</td>\n",
       "      <td>epoch-20_batchSize-8_weightsOfDecay-0.01</td>\n",
       "      <td>java</td>\n",
       "      <td>Pointer</td>\n",
       "      <td>0.961326</td>\n",
       "      <td>0.920635</td>\n",
       "      <td>0.940541</td>\n",
       "    </tr>\n",
       "    <tr>\n",
       "      <th>17</th>\n",
       "      <td>validation</td>\n",
       "      <td>epoch-20_batchSize-8_weightsOfDecay-0.01</td>\n",
       "      <td>java</td>\n",
       "      <td>deprecation</td>\n",
       "      <td>0.965517</td>\n",
       "      <td>0.933333</td>\n",
       "      <td>0.949153</td>\n",
       "    </tr>\n",
       "    <tr>\n",
       "      <th>18</th>\n",
       "      <td>validation</td>\n",
       "      <td>epoch-20_batchSize-8_weightsOfDecay-0.01</td>\n",
       "      <td>java</td>\n",
       "      <td>rational</td>\n",
       "      <td>0.739130</td>\n",
       "      <td>0.629630</td>\n",
       "      <td>0.680000</td>\n",
       "    </tr>\n",
       "  </tbody>\n",
       "</table>\n",
       "</div>"
      ],
      "text/plain": [
       "    comparison                                     model     lan  \\\n",
       "0   validation  epoch-20_batchSize-4_weightsOfDecay-0.01  python   \n",
       "1   validation  epoch-20_batchSize-4_weightsOfDecay-0.01  python   \n",
       "2   validation  epoch-20_batchSize-4_weightsOfDecay-0.01  python   \n",
       "3   validation  epoch-20_batchSize-4_weightsOfDecay-0.01  python   \n",
       "4   validation  epoch-20_batchSize-4_weightsOfDecay-0.01  python   \n",
       "5   validation  epoch-20_batchSize-4_weightsOfDecay-0.01   pharo   \n",
       "6   validation  epoch-20_batchSize-4_weightsOfDecay-0.01   pharo   \n",
       "7   validation  epoch-20_batchSize-4_weightsOfDecay-0.01   pharo   \n",
       "8   validation  epoch-20_batchSize-4_weightsOfDecay-0.01   pharo   \n",
       "9   validation  epoch-20_batchSize-4_weightsOfDecay-0.01   pharo   \n",
       "10  validation  epoch-20_batchSize-4_weightsOfDecay-0.01   pharo   \n",
       "11  validation  epoch-20_batchSize-4_weightsOfDecay-0.01   pharo   \n",
       "12  validation  epoch-20_batchSize-8_weightsOfDecay-0.01    java   \n",
       "13  validation  epoch-20_batchSize-8_weightsOfDecay-0.01    java   \n",
       "14  validation  epoch-20_batchSize-8_weightsOfDecay-0.01    java   \n",
       "15  validation  epoch-20_batchSize-8_weightsOfDecay-0.01    java   \n",
       "16  validation  epoch-20_batchSize-8_weightsOfDecay-0.01    java   \n",
       "17  validation  epoch-20_batchSize-8_weightsOfDecay-0.01    java   \n",
       "18  validation  epoch-20_batchSize-8_weightsOfDecay-0.01    java   \n",
       "\n",
       "                        cat  precision    recall        f1  \n",
       "0                     Usage   0.897959  0.727273  0.803653  \n",
       "1                Parameters   0.852174  0.875000  0.863436  \n",
       "2          DevelopmentNotes   0.681818  0.750000  0.714286  \n",
       "3                    Expand   0.657895  0.724638  0.689655  \n",
       "4                   Summary   0.740741  0.821918  0.779221  \n",
       "5   Keyimplementationpoints   0.815789  0.738095  0.775000  \n",
       "6                   Example   0.926316  0.871287  0.897959  \n",
       "7          Responsibilities   0.711111  0.640000  0.673684  \n",
       "8           Classreferences   1.000000  0.250000  0.400000  \n",
       "9                    Intent   0.939394  0.815789  0.873239  \n",
       "10              Keymessages   0.709091  0.829787  0.764706  \n",
       "11            Collaborators   0.600000  0.428571  0.500000  \n",
       "12                  summary   0.943899  0.957326  0.950565  \n",
       "13                Ownership   0.947368  0.981818  0.964286  \n",
       "14                   Expand   0.729730  0.794118  0.760563  \n",
       "15                    usage   0.976303  0.942792  0.959255  \n",
       "16                  Pointer   0.961326  0.920635  0.940541  \n",
       "17              deprecation   0.965517  0.933333  0.949153  \n",
       "18                 rational   0.739130  0.629630  0.680000  "
      ]
     },
     "execution_count": 15,
     "metadata": {},
     "output_type": "execute_result"
    }
   ],
   "source": [
    "scores"
   ]
  },
  {
   "cell_type": "code",
   "execution_count": 16,
   "metadata": {},
   "outputs": [
    {
     "data": {
      "text/plain": [
       "[comparison                                  validation\n",
       " model         epoch-20_batchSize-8_weightsOfDecay-0.01\n",
       " lan                                               java\n",
       " cat                                          Ownership\n",
       " precision                                     0.947368\n",
       " recall                                        0.981818\n",
       " f1                                            0.964286\n",
       " Name: 13, dtype: object,\n",
       " comparison                                  validation\n",
       " model         epoch-20_batchSize-4_weightsOfDecay-0.01\n",
       " lan                                             python\n",
       " cat                                         Parameters\n",
       " precision                                     0.852174\n",
       " recall                                           0.875\n",
       " f1                                            0.863436\n",
       " Name: 1, dtype: object,\n",
       " comparison                                  validation\n",
       " model         epoch-20_batchSize-4_weightsOfDecay-0.01\n",
       " lan                                              pharo\n",
       " cat                                            Example\n",
       " precision                                     0.926316\n",
       " recall                                        0.871287\n",
       " f1                                            0.897959\n",
       " Name: 6, dtype: object]"
      ]
     },
     "execution_count": 16,
     "metadata": {},
     "output_type": "execute_result"
    }
   ],
   "source": [
    "best_f1_scores = []\n",
    "best_f1_java_row = scores[scores['lan'] == 'java'].loc[scores[scores['lan'] == 'java']['f1'].idxmax()]\n",
    "best_f1_scores.append(best_f1_java_row)\n",
    "\n",
    "best_f1_python_row = scores[scores['lan'] == 'python'].loc[scores[scores['lan'] == 'python']['f1'].idxmax()]\n",
    "best_f1_scores.append(best_f1_python_row)\n",
    "\n",
    "best_f1_pharo_row = scores[scores['lan'] == 'pharo'].loc[scores[scores['lan'] == 'pharo']['f1'].idxmax()]\n",
    "best_f1_scores.append(best_f1_pharo_row)\n",
    "best_f1_scores"
   ]
  },
  {
   "cell_type": "code",
   "execution_count": 21,
   "metadata": {},
   "outputs": [
    {
     "data": {
      "text/plain": [
       "{'java_epoch-5_batchSize-4_weightsOfDecay-0.01': {'lang': 'java',\n",
       "  'model': 'epoch-5_batchSize-4_weightsOfDecay-0.01',\n",
       "  'avg_runtime': 77.52191851139068,\n",
       "  'avg_flops': 34044.01424896312,\n",
       "  'total_flops': 340440.1424896312,\n",
       "  'total_time': 775.2191851139069,\n",
       "  'avg_f1': nan,\n",
       "  'succ_score': nan},\n",
       " 'python_epoch-5_batchSize-4_weightsOfDecay-0.01': {'lang': 'python',\n",
       "  'model': 'epoch-5_batchSize-4_weightsOfDecay-0.01',\n",
       "  'avg_runtime': 19.481082320213318,\n",
       "  'avg_flops': 8427.177680895456,\n",
       "  'total_flops': 84271.77680895456,\n",
       "  'total_time': 194.81082320213318,\n",
       "  'avg_f1': nan,\n",
       "  'succ_score': nan},\n",
       " 'pharo_epoch-5_batchSize-4_weightsOfDecay-0.01': {'lang': 'pharo',\n",
       "  'model': 'epoch-5_batchSize-4_weightsOfDecay-0.01',\n",
       "  'avg_runtime': 13.52945659160614,\n",
       "  'avg_flops': 5811.847475200231,\n",
       "  'total_flops': 58118.47475200231,\n",
       "  'total_time': 135.2945659160614,\n",
       "  'avg_f1': nan,\n",
       "  'succ_score': nan},\n",
       " 'java_epoch-5_batchSize-8_weightsOfDecay-0.01': {'lang': 'java',\n",
       "  'model': 'epoch-5_batchSize-8_weightsOfDecay-0.01',\n",
       "  'avg_runtime': 79.58620326519012,\n",
       "  'avg_flops': 34044.01424896312,\n",
       "  'total_flops': 340440.1424896312,\n",
       "  'total_time': 795.8620326519012,\n",
       "  'avg_f1': nan,\n",
       "  'succ_score': nan},\n",
       " 'python_epoch-5_batchSize-8_weightsOfDecay-0.01': {'lang': 'python',\n",
       "  'model': 'epoch-5_batchSize-8_weightsOfDecay-0.01',\n",
       "  'avg_runtime': 20.299810242652892,\n",
       "  'avg_flops': 8427.177680895456,\n",
       "  'total_flops': 84271.77680895456,\n",
       "  'total_time': 202.99810242652893,\n",
       "  'avg_f1': nan,\n",
       "  'succ_score': nan},\n",
       " 'pharo_epoch-5_batchSize-8_weightsOfDecay-0.01': {'lang': 'pharo',\n",
       "  'model': 'epoch-5_batchSize-8_weightsOfDecay-0.01',\n",
       "  'avg_runtime': 14.23247709274292,\n",
       "  'avg_flops': 5811.847475200231,\n",
       "  'total_flops': 58118.47475200231,\n",
       "  'total_time': 142.3247709274292,\n",
       "  'avg_f1': nan,\n",
       "  'succ_score': nan},\n",
       " 'java_epoch-10_batchSize-4_weightsOfDecay-0.01': {'lang': 'java',\n",
       "  'model': 'epoch-10_batchSize-4_weightsOfDecay-0.01',\n",
       "  'avg_runtime': 82.67577385902405,\n",
       "  'avg_flops': 34044.01424896312,\n",
       "  'total_flops': 340440.1424896312,\n",
       "  'total_time': 826.7577385902405,\n",
       "  'avg_f1': nan,\n",
       "  'succ_score': nan},\n",
       " 'python_epoch-10_batchSize-4_weightsOfDecay-0.01': {'lang': 'python',\n",
       "  'model': 'epoch-10_batchSize-4_weightsOfDecay-0.01',\n",
       "  'avg_runtime': 20.867202877998352,\n",
       "  'avg_flops': 8427.177680895456,\n",
       "  'total_flops': 84271.77680895456,\n",
       "  'total_time': 208.67202877998352,\n",
       "  'avg_f1': nan,\n",
       "  'succ_score': nan},\n",
       " 'pharo_epoch-10_batchSize-4_weightsOfDecay-0.01': {'lang': 'pharo',\n",
       "  'model': 'epoch-10_batchSize-4_weightsOfDecay-0.01',\n",
       "  'avg_runtime': 14.486529517173768,\n",
       "  'avg_flops': 5811.847475200231,\n",
       "  'total_flops': 58118.47475200231,\n",
       "  'total_time': 144.86529517173767,\n",
       "  'avg_f1': nan,\n",
       "  'succ_score': nan},\n",
       " 'java_epoch-10_batchSize-8_weightsOfDecay-0.01': {'lang': 'java',\n",
       "  'model': 'epoch-10_batchSize-8_weightsOfDecay-0.01',\n",
       "  'avg_runtime': 86.07462043762207,\n",
       "  'avg_flops': 34044.01424896312,\n",
       "  'total_flops': 340440.1424896312,\n",
       "  'total_time': 860.7462043762207,\n",
       "  'avg_f1': nan,\n",
       "  'succ_score': nan},\n",
       " 'python_epoch-10_batchSize-8_weightsOfDecay-0.01': {'lang': 'python',\n",
       "  'model': 'epoch-10_batchSize-8_weightsOfDecay-0.01',\n",
       "  'avg_runtime': 21.373698711395264,\n",
       "  'avg_flops': 8427.177680895456,\n",
       "  'total_flops': 84271.77680895456,\n",
       "  'total_time': 213.73698711395264,\n",
       "  'avg_f1': nan,\n",
       "  'succ_score': nan},\n",
       " 'pharo_epoch-10_batchSize-8_weightsOfDecay-0.01': {'lang': 'pharo',\n",
       "  'model': 'epoch-10_batchSize-8_weightsOfDecay-0.01',\n",
       "  'avg_runtime': 14.804195189476014,\n",
       "  'avg_flops': 5811.847475200231,\n",
       "  'total_flops': 58118.47475200231,\n",
       "  'total_time': 148.04195189476013,\n",
       "  'avg_f1': nan,\n",
       "  'succ_score': nan},\n",
       " 'java_epoch-15_batchSize-4_weightsOfDecay-0.01': {'lang': 'java',\n",
       "  'model': 'epoch-15_batchSize-4_weightsOfDecay-0.01',\n",
       "  'avg_runtime': 87.41494281291962,\n",
       "  'avg_flops': 34044.01424896312,\n",
       "  'total_flops': 340440.1424896312,\n",
       "  'total_time': 874.1494281291962,\n",
       "  'avg_f1': nan,\n",
       "  'succ_score': nan},\n",
       " 'python_epoch-15_batchSize-4_weightsOfDecay-0.01': {'lang': 'python',\n",
       "  'model': 'epoch-15_batchSize-4_weightsOfDecay-0.01',\n",
       "  'avg_runtime': 21.491415238380434,\n",
       "  'avg_flops': 8427.177680895456,\n",
       "  'total_flops': 84271.77680895456,\n",
       "  'total_time': 214.91415238380432,\n",
       "  'avg_f1': nan,\n",
       "  'succ_score': nan},\n",
       " 'pharo_epoch-15_batchSize-4_weightsOfDecay-0.01': {'lang': 'pharo',\n",
       "  'model': 'epoch-15_batchSize-4_weightsOfDecay-0.01',\n",
       "  'avg_runtime': 14.882195162773133,\n",
       "  'avg_flops': 5811.847475200231,\n",
       "  'total_flops': 58118.47475200231,\n",
       "  'total_time': 148.82195162773132,\n",
       "  'avg_f1': nan,\n",
       "  'succ_score': nan},\n",
       " 'java_epoch-15_batchSize-8_weightsOfDecay-0.01': {'lang': 'java',\n",
       "  'model': 'epoch-15_batchSize-8_weightsOfDecay-0.01',\n",
       "  'avg_runtime': 87.79687814712524,\n",
       "  'avg_flops': 34044.01424896312,\n",
       "  'total_flops': 340440.1424896312,\n",
       "  'total_time': 877.9687814712524,\n",
       "  'avg_f1': nan,\n",
       "  'succ_score': nan},\n",
       " 'python_epoch-15_batchSize-8_weightsOfDecay-0.01': {'lang': 'python',\n",
       "  'model': 'epoch-15_batchSize-8_weightsOfDecay-0.01',\n",
       "  'avg_runtime': 21.862708044052123,\n",
       "  'avg_flops': 8427.177680895456,\n",
       "  'total_flops': 84271.77680895456,\n",
       "  'total_time': 218.62708044052124,\n",
       "  'avg_f1': nan,\n",
       "  'succ_score': nan},\n",
       " 'pharo_epoch-15_batchSize-8_weightsOfDecay-0.01': {'lang': 'pharo',\n",
       "  'model': 'epoch-15_batchSize-8_weightsOfDecay-0.01',\n",
       "  'avg_runtime': 15.139669013023376,\n",
       "  'avg_flops': 5811.847475200231,\n",
       "  'total_flops': 58118.47475200231,\n",
       "  'total_time': 151.39669013023376,\n",
       "  'avg_f1': nan,\n",
       "  'succ_score': nan},\n",
       " 'java_epoch-20_batchSize-4_weightsOfDecay-0.01': {'lang': 'java',\n",
       "  'model': 'epoch-20_batchSize-4_weightsOfDecay-0.01',\n",
       "  'avg_runtime': 88.2653703212738,\n",
       "  'avg_flops': 34044.01424896312,\n",
       "  'total_flops': 340440.1424896312,\n",
       "  'total_time': 882.653703212738,\n",
       "  'avg_f1': nan,\n",
       "  'succ_score': nan},\n",
       " 'python_epoch-20_batchSize-4_weightsOfDecay-0.01': {'lang': 'python',\n",
       "  'model': 'epoch-20_batchSize-4_weightsOfDecay-0.01',\n",
       "  'avg_runtime': 21.817354202270508,\n",
       "  'avg_flops': 8427.177680895456,\n",
       "  'total_flops': 84271.77680895456,\n",
       "  'total_time': 218.17354202270508,\n",
       "  'avg_f1': nan,\n",
       "  'succ_score': nan},\n",
       " 'pharo_epoch-20_batchSize-4_weightsOfDecay-0.01': {'lang': 'pharo',\n",
       "  'model': 'epoch-20_batchSize-4_weightsOfDecay-0.01',\n",
       "  'avg_runtime': 15.125329828262329,\n",
       "  'avg_flops': 5811.847475200231,\n",
       "  'total_flops': 58118.47475200231,\n",
       "  'total_time': 151.2532982826233,\n",
       "  'avg_f1': nan,\n",
       "  'succ_score': nan},\n",
       " 'java_epoch-20_batchSize-8_weightsOfDecay-0.01': {'lang': 'java',\n",
       "  'model': 'epoch-20_batchSize-8_weightsOfDecay-0.01',\n",
       "  'avg_runtime': 85.53572883605958,\n",
       "  'avg_flops': 34044.01424896312,\n",
       "  'total_flops': 340440.1424896312,\n",
       "  'total_time': 855.3572883605957,\n",
       "  'avg_f1': nan,\n",
       "  'succ_score': nan}}"
      ]
     },
     "execution_count": 21,
     "metadata": {},
     "output_type": "execute_result"
    }
   ],
   "source": [
    "gs_metrics_dict"
   ]
  },
  {
   "cell_type": "code",
   "execution_count": 22,
   "metadata": {},
   "outputs": [
    {
     "data": {
      "text/plain": [
       "{'epoch-5_batchSize-4_weightsOfDecay-0.01': -5.51,\n",
       " 'epoch-5_batchSize-8_weightsOfDecay-0.01': -5.67,\n",
       " 'epoch-10_batchSize-4_weightsOfDecay-0.01': -5.8,\n",
       " 'epoch-10_batchSize-8_weightsOfDecay-0.01': -5.95,\n",
       " 'epoch-15_batchSize-4_weightsOfDecay-0.01': -6.02,\n",
       " 'epoch-15_batchSize-8_weightsOfDecay-0.01': -6.05,\n",
       " 'epoch-20_batchSize-4_weightsOfDecay-0.01': -6.07}"
      ]
     },
     "execution_count": 22,
     "metadata": {},
     "output_type": "execute_result"
    }
   ],
   "source": [
    "final_model_stats"
   ]
  },
  {
   "cell_type": "code",
   "execution_count": 20,
   "metadata": {},
   "outputs": [
    {
     "data": {
      "text/plain": [
       "-5.51"
      ]
     },
     "execution_count": 20,
     "metadata": {},
     "output_type": "execute_result"
    }
   ],
   "source": [
    "best_fin_succ_score = max(final_model_stats.values())\n",
    "best_fin_succ_score"
   ]
  }
 ],
 "metadata": {
  "accelerator": "GPU",
  "colab": {
   "gpuType": "T4",
   "machine_shape": "hm",
   "provenance": []
  },
  "kernelspec": {
   "display_name": "nbse2025",
   "language": "python",
   "name": "python3"
  },
  "language_info": {
   "codemirror_mode": {
    "name": "ipython",
    "version": 3
   },
   "file_extension": ".py",
   "mimetype": "text/x-python",
   "name": "python",
   "nbconvert_exporter": "python",
   "pygments_lexer": "ipython3",
   "version": "3.10.15"
  },
  "widgets": {
   "application/vnd.jupyter.widget-state+json": {
    "013d93ca219f42e08034278d65af9f7b": {
     "model_module": "@jupyter-widgets/controls",
     "model_module_version": "1.5.0",
     "model_name": "HTMLModel",
     "state": {
      "_dom_classes": [],
      "_model_module": "@jupyter-widgets/controls",
      "_model_module_version": "1.5.0",
      "_model_name": "HTMLModel",
      "_view_count": null,
      "_view_module": "@jupyter-widgets/controls",
      "_view_module_version": "1.5.0",
      "_view_name": "HTMLView",
      "description": "",
      "description_tooltip": null,
      "layout": "IPY_MODEL_551dd2c2ce304f86ba9bff366735fa06",
      "placeholder": "​",
      "style": "IPY_MODEL_f86fd06cdb784ddc999f0f84eb835f0a",
      "value": " 1298/1298 [00:00&lt;00:00, 4172.87 examples/s]"
     }
    },
    "0164e70212714638b7c5bac98fe05a0d": {
     "model_module": "@jupyter-widgets/controls",
     "model_module_version": "1.5.0",
     "model_name": "ProgressStyleModel",
     "state": {
      "_model_module": "@jupyter-widgets/controls",
      "_model_module_version": "1.5.0",
      "_model_name": "ProgressStyleModel",
      "_view_count": null,
      "_view_module": "@jupyter-widgets/base",
      "_view_module_version": "1.2.0",
      "_view_name": "StyleView",
      "bar_color": null,
      "description_width": ""
     }
    },
    "02550dead45e4facbfe8cdd21c75ddbb": {
     "model_module": "@jupyter-widgets/controls",
     "model_module_version": "1.5.0",
     "model_name": "HTMLModel",
     "state": {
      "_dom_classes": [],
      "_model_module": "@jupyter-widgets/controls",
      "_model_module_version": "1.5.0",
      "_model_name": "HTMLModel",
      "_view_count": null,
      "_view_module": "@jupyter-widgets/controls",
      "_view_module_version": "1.5.0",
      "_view_name": "HTMLView",
      "description": "",
      "description_tooltip": null,
      "layout": "IPY_MODEL_456cbe78c7214051b39d334143836ddf",
      "placeholder": "​",
      "style": "IPY_MODEL_e94c1e1ead8c4948801afbfd9604db69",
      "value": " 1884/1884 [00:00&lt;00:00, 7643.28 examples/s]"
     }
    },
    "028ccf9aaf2040f68ba60468ca2efa45": {
     "model_module": "@jupyter-widgets/controls",
     "model_module_version": "1.5.0",
     "model_name": "FloatProgressModel",
     "state": {
      "_dom_classes": [],
      "_model_module": "@jupyter-widgets/controls",
      "_model_module_version": "1.5.0",
      "_model_name": "FloatProgressModel",
      "_view_count": null,
      "_view_module": "@jupyter-widgets/controls",
      "_view_module_version": "1.5.0",
      "_view_name": "ProgressView",
      "bar_style": "success",
      "description": "",
      "description_tooltip": null,
      "layout": "IPY_MODEL_f21cc3dc6f5f4ecabc73be66c151ff8a",
      "max": 1884,
      "min": 0,
      "orientation": "horizontal",
      "style": "IPY_MODEL_515447fe659b4c60b125cae6b8f57ba7",
      "value": 1884
     }
    },
    "02b08c45e8cc4172bd9aa05659c3c9f2": {
     "model_module": "@jupyter-widgets/base",
     "model_module_version": "1.2.0",
     "model_name": "LayoutModel",
     "state": {
      "_model_module": "@jupyter-widgets/base",
      "_model_module_version": "1.2.0",
      "_model_name": "LayoutModel",
      "_view_count": null,
      "_view_module": "@jupyter-widgets/base",
      "_view_module_version": "1.2.0",
      "_view_name": "LayoutView",
      "align_content": null,
      "align_items": null,
      "align_self": null,
      "border": null,
      "bottom": null,
      "display": null,
      "flex": null,
      "flex_flow": null,
      "grid_area": null,
      "grid_auto_columns": null,
      "grid_auto_flow": null,
      "grid_auto_rows": null,
      "grid_column": null,
      "grid_gap": null,
      "grid_row": null,
      "grid_template_areas": null,
      "grid_template_columns": null,
      "grid_template_rows": null,
      "height": null,
      "justify_content": null,
      "justify_items": null,
      "left": null,
      "margin": null,
      "max_height": null,
      "max_width": null,
      "min_height": null,
      "min_width": null,
      "object_fit": null,
      "object_position": null,
      "order": null,
      "overflow": null,
      "overflow_x": null,
      "overflow_y": null,
      "padding": null,
      "right": null,
      "top": null,
      "visibility": null,
      "width": null
     }
    },
    "02c4c9fa2011485e9ba88ad1972678b1": {
     "model_module": "@jupyter-widgets/base",
     "model_module_version": "1.2.0",
     "model_name": "LayoutModel",
     "state": {
      "_model_module": "@jupyter-widgets/base",
      "_model_module_version": "1.2.0",
      "_model_name": "LayoutModel",
      "_view_count": null,
      "_view_module": "@jupyter-widgets/base",
      "_view_module_version": "1.2.0",
      "_view_name": "LayoutView",
      "align_content": null,
      "align_items": null,
      "align_self": null,
      "border": null,
      "bottom": null,
      "display": null,
      "flex": null,
      "flex_flow": null,
      "grid_area": null,
      "grid_auto_columns": null,
      "grid_auto_flow": null,
      "grid_auto_rows": null,
      "grid_column": null,
      "grid_gap": null,
      "grid_row": null,
      "grid_template_areas": null,
      "grid_template_columns": null,
      "grid_template_rows": null,
      "height": null,
      "justify_content": null,
      "justify_items": null,
      "left": null,
      "margin": null,
      "max_height": null,
      "max_width": null,
      "min_height": null,
      "min_width": null,
      "object_fit": null,
      "object_position": null,
      "order": null,
      "overflow": null,
      "overflow_x": null,
      "overflow_y": null,
      "padding": null,
      "right": null,
      "top": null,
      "visibility": null,
      "width": null
     }
    },
    "04c9c4297095469fa2940158a9b0de56": {
     "model_module": "@jupyter-widgets/base",
     "model_module_version": "1.2.0",
     "model_name": "LayoutModel",
     "state": {
      "_model_module": "@jupyter-widgets/base",
      "_model_module_version": "1.2.0",
      "_model_name": "LayoutModel",
      "_view_count": null,
      "_view_module": "@jupyter-widgets/base",
      "_view_module_version": "1.2.0",
      "_view_name": "LayoutView",
      "align_content": null,
      "align_items": null,
      "align_self": null,
      "border": null,
      "bottom": null,
      "display": null,
      "flex": null,
      "flex_flow": null,
      "grid_area": null,
      "grid_auto_columns": null,
      "grid_auto_flow": null,
      "grid_auto_rows": null,
      "grid_column": null,
      "grid_gap": null,
      "grid_row": null,
      "grid_template_areas": null,
      "grid_template_columns": null,
      "grid_template_rows": null,
      "height": null,
      "justify_content": null,
      "justify_items": null,
      "left": null,
      "margin": null,
      "max_height": null,
      "max_width": null,
      "min_height": null,
      "min_width": null,
      "object_fit": null,
      "object_position": null,
      "order": null,
      "overflow": null,
      "overflow_x": null,
      "overflow_y": null,
      "padding": null,
      "right": null,
      "top": null,
      "visibility": null,
      "width": null
     }
    },
    "05819e9a2d92412a96ae3c0a80554170": {
     "model_module": "@jupyter-widgets/controls",
     "model_module_version": "1.5.0",
     "model_name": "HBoxModel",
     "state": {
      "_dom_classes": [],
      "_model_module": "@jupyter-widgets/controls",
      "_model_module_version": "1.5.0",
      "_model_name": "HBoxModel",
      "_view_count": null,
      "_view_module": "@jupyter-widgets/controls",
      "_view_module_version": "1.5.0",
      "_view_name": "HBoxView",
      "box_style": "",
      "children": [
       "IPY_MODEL_cca2d239b2184eeaada2efb1361a770d",
       "IPY_MODEL_4ee75299589445268946e13588c9ec45",
       "IPY_MODEL_4c42e72c63a7404c8e9cc23c356918b4"
      ],
      "layout": "IPY_MODEL_26dcc2fde0a84d1d8c398b3f89b04eb2"
     }
    },
    "058c837fde884ebb8bfb607b1646bdb5": {
     "model_module": "@jupyter-widgets/controls",
     "model_module_version": "1.5.0",
     "model_name": "FloatProgressModel",
     "state": {
      "_dom_classes": [],
      "_model_module": "@jupyter-widgets/controls",
      "_model_module_version": "1.5.0",
      "_model_name": "FloatProgressModel",
      "_view_count": null,
      "_view_module": "@jupyter-widgets/controls",
      "_view_module_version": "1.5.0",
      "_view_name": "ProgressView",
      "bar_style": "success",
      "description": "",
      "description_tooltip": null,
      "layout": "IPY_MODEL_94e9a02dec04494fb4fe7b14dcee2586",
      "max": 7614,
      "min": 0,
      "orientation": "horizontal",
      "style": "IPY_MODEL_e9efbe44424e4d1faa926b676aecb33a",
      "value": 7614
     }
    },
    "0597a5f23bb74cb085c25e10cdc8e979": {
     "model_module": "@jupyter-widgets/controls",
     "model_module_version": "1.5.0",
     "model_name": "HTMLModel",
     "state": {
      "_dom_classes": [],
      "_model_module": "@jupyter-widgets/controls",
      "_model_module_version": "1.5.0",
      "_model_name": "HTMLModel",
      "_view_count": null,
      "_view_module": "@jupyter-widgets/controls",
      "_view_module_version": "1.5.0",
      "_view_name": "HTMLView",
      "description": "",
      "description_tooltip": null,
      "layout": "IPY_MODEL_8952f416d91d45499ff2aab5be2dbe55",
      "placeholder": "​",
      "style": "IPY_MODEL_06f517b0a7594ba0a2525f6893b9aba4",
      "value": " 113k/113k [00:00&lt;00:00, 2.64MB/s]"
     }
    },
    "06f517b0a7594ba0a2525f6893b9aba4": {
     "model_module": "@jupyter-widgets/controls",
     "model_module_version": "1.5.0",
     "model_name": "DescriptionStyleModel",
     "state": {
      "_model_module": "@jupyter-widgets/controls",
      "_model_module_version": "1.5.0",
      "_model_name": "DescriptionStyleModel",
      "_view_count": null,
      "_view_module": "@jupyter-widgets/base",
      "_view_module_version": "1.2.0",
      "_view_name": "StyleView",
      "description_width": ""
     }
    },
    "0a730a1a1c5c4a3987174a99df925707": {
     "model_module": "@jupyter-widgets/controls",
     "model_module_version": "1.5.0",
     "model_name": "HTMLModel",
     "state": {
      "_dom_classes": [],
      "_model_module": "@jupyter-widgets/controls",
      "_model_module_version": "1.5.0",
      "_model_name": "HTMLModel",
      "_view_count": null,
      "_view_module": "@jupyter-widgets/controls",
      "_view_module_version": "1.5.0",
      "_view_name": "HTMLView",
      "description": "",
      "description_tooltip": null,
      "layout": "IPY_MODEL_8f3c7553598c4055821564bbb57a22f4",
      "placeholder": "​",
      "style": "IPY_MODEL_14f51352ae2241dc9b44070df73be1c6",
      "value": " 30.6k/30.6k [00:00&lt;00:00, 632kB/s]"
     }
    },
    "0b00ce58997e4049903252cfe119e5f0": {
     "model_module": "@jupyter-widgets/controls",
     "model_module_version": "1.5.0",
     "model_name": "ProgressStyleModel",
     "state": {
      "_model_module": "@jupyter-widgets/controls",
      "_model_module_version": "1.5.0",
      "_model_name": "ProgressStyleModel",
      "_view_count": null,
      "_view_module": "@jupyter-widgets/base",
      "_view_module_version": "1.2.0",
      "_view_name": "StyleView",
      "bar_color": null,
      "description_width": ""
     }
    },
    "0b333f6db9d74423925b4d223e19c404": {
     "model_module": "@jupyter-widgets/controls",
     "model_module_version": "1.5.0",
     "model_name": "ProgressStyleModel",
     "state": {
      "_model_module": "@jupyter-widgets/controls",
      "_model_module_version": "1.5.0",
      "_model_name": "ProgressStyleModel",
      "_view_count": null,
      "_view_module": "@jupyter-widgets/base",
      "_view_module_version": "1.2.0",
      "_view_name": "StyleView",
      "bar_color": null,
      "description_width": ""
     }
    },
    "0c20dbc30a9e4042a9526373f3eaa07d": {
     "model_module": "@jupyter-widgets/controls",
     "model_module_version": "1.5.0",
     "model_name": "HBoxModel",
     "state": {
      "_dom_classes": [],
      "_model_module": "@jupyter-widgets/controls",
      "_model_module_version": "1.5.0",
      "_model_name": "HBoxModel",
      "_view_count": null,
      "_view_module": "@jupyter-widgets/controls",
      "_view_module_version": "1.5.0",
      "_view_name": "HBoxView",
      "box_style": "",
      "children": [
       "IPY_MODEL_4813d2270aae458e9598a9a684e2118b",
       "IPY_MODEL_baf50e8bb0964742b9506dc632083550",
       "IPY_MODEL_0ed25df9e55f48be974dee2989e247ed"
      ],
      "layout": "IPY_MODEL_cb84631810b943c5b7e682b6f7013790"
     }
    },
    "0c734841fdeb46f4ad7cefb79ad3fda6": {
     "model_module": "@jupyter-widgets/controls",
     "model_module_version": "1.5.0",
     "model_name": "ProgressStyleModel",
     "state": {
      "_model_module": "@jupyter-widgets/controls",
      "_model_module_version": "1.5.0",
      "_model_name": "ProgressStyleModel",
      "_view_count": null,
      "_view_module": "@jupyter-widgets/base",
      "_view_module_version": "1.2.0",
      "_view_name": "StyleView",
      "bar_color": null,
      "description_width": ""
     }
    },
    "0d5908e7e109473c8d87cac5f48f6a28": {
     "model_module": "@jupyter-widgets/controls",
     "model_module_version": "1.5.0",
     "model_name": "HTMLModel",
     "state": {
      "_dom_classes": [],
      "_model_module": "@jupyter-widgets/controls",
      "_model_module_version": "1.5.0",
      "_model_name": "HTMLModel",
      "_view_count": null,
      "_view_module": "@jupyter-widgets/controls",
      "_view_module_version": "1.5.0",
      "_view_name": "HTMLView",
      "description": "",
      "description_tooltip": null,
      "layout": "IPY_MODEL_71e0782fb57942ab932712af03b6c001",
      "placeholder": "​",
      "style": "IPY_MODEL_cc18f41dd07247ce927151ed11df7a77",
      "value": " 680k/680k [00:00&lt;00:00, 11.2MB/s]"
     }
    },
    "0de9480ad05e479297cbe7a78bf56fd2": {
     "model_module": "@jupyter-widgets/controls",
     "model_module_version": "1.5.0",
     "model_name": "ProgressStyleModel",
     "state": {
      "_model_module": "@jupyter-widgets/controls",
      "_model_module_version": "1.5.0",
      "_model_name": "ProgressStyleModel",
      "_view_count": null,
      "_view_module": "@jupyter-widgets/base",
      "_view_module_version": "1.2.0",
      "_view_name": "StyleView",
      "bar_color": null,
      "description_width": ""
     }
    },
    "0e077d6a2220403bb661b166c72c3cb1": {
     "model_module": "@jupyter-widgets/controls",
     "model_module_version": "1.5.0",
     "model_name": "HBoxModel",
     "state": {
      "_dom_classes": [],
      "_model_module": "@jupyter-widgets/controls",
      "_model_module_version": "1.5.0",
      "_model_name": "HBoxModel",
      "_view_count": null,
      "_view_module": "@jupyter-widgets/controls",
      "_view_module_version": "1.5.0",
      "_view_name": "HBoxView",
      "box_style": "",
      "children": [
       "IPY_MODEL_b01591e4d5e741dcb726b770cfad7bd6",
       "IPY_MODEL_83742203aa2b4d28a53c08bb7cb8befb",
       "IPY_MODEL_4bebd2f4ef144d45bee6ee3c64758b3b"
      ],
      "layout": "IPY_MODEL_62fd31007cee4b1e8829d079df4816b0"
     }
    },
    "0eac72bb1bb743c28f8479aad9526b34": {
     "model_module": "@jupyter-widgets/base",
     "model_module_version": "1.2.0",
     "model_name": "LayoutModel",
     "state": {
      "_model_module": "@jupyter-widgets/base",
      "_model_module_version": "1.2.0",
      "_model_name": "LayoutModel",
      "_view_count": null,
      "_view_module": "@jupyter-widgets/base",
      "_view_module_version": "1.2.0",
      "_view_name": "LayoutView",
      "align_content": null,
      "align_items": null,
      "align_self": null,
      "border": null,
      "bottom": null,
      "display": null,
      "flex": null,
      "flex_flow": null,
      "grid_area": null,
      "grid_auto_columns": null,
      "grid_auto_flow": null,
      "grid_auto_rows": null,
      "grid_column": null,
      "grid_gap": null,
      "grid_row": null,
      "grid_template_areas": null,
      "grid_template_columns": null,
      "grid_template_rows": null,
      "height": null,
      "justify_content": null,
      "justify_items": null,
      "left": null,
      "margin": null,
      "max_height": null,
      "max_width": null,
      "min_height": null,
      "min_width": null,
      "object_fit": null,
      "object_position": null,
      "order": null,
      "overflow": null,
      "overflow_x": null,
      "overflow_y": null,
      "padding": null,
      "right": null,
      "top": null,
      "visibility": null,
      "width": null
     }
    },
    "0ed25df9e55f48be974dee2989e247ed": {
     "model_module": "@jupyter-widgets/controls",
     "model_module_version": "1.5.0",
     "model_name": "HTMLModel",
     "state": {
      "_dom_classes": [],
      "_model_module": "@jupyter-widgets/controls",
      "_model_module_version": "1.5.0",
      "_model_name": "HTMLModel",
      "_view_count": null,
      "_view_module": "@jupyter-widgets/controls",
      "_view_module_version": "1.5.0",
      "_view_name": "HTMLView",
      "description": "",
      "description_tooltip": null,
      "layout": "IPY_MODEL_ff602e3795f948ee905c5513dfc9320b",
      "placeholder": "​",
      "style": "IPY_MODEL_d3c5959f9608476eb6132852a457c065",
      "value": " 7614/7614 [00:00&lt;00:00, 65530.08 examples/s]"
     }
    },
    "0f6cf252750d438da21d8558c8529fdd": {
     "model_module": "@jupyter-widgets/controls",
     "model_module_version": "1.5.0",
     "model_name": "DescriptionStyleModel",
     "state": {
      "_model_module": "@jupyter-widgets/controls",
      "_model_module_version": "1.5.0",
      "_model_name": "DescriptionStyleModel",
      "_view_count": null,
      "_view_module": "@jupyter-widgets/base",
      "_view_module_version": "1.2.0",
      "_view_name": "StyleView",
      "description_width": ""
     }
    },
    "0f8f4267763342cfabffb78f628a8143": {
     "model_module": "@jupyter-widgets/controls",
     "model_module_version": "1.5.0",
     "model_name": "ProgressStyleModel",
     "state": {
      "_model_module": "@jupyter-widgets/controls",
      "_model_module_version": "1.5.0",
      "_model_name": "ProgressStyleModel",
      "_view_count": null,
      "_view_module": "@jupyter-widgets/base",
      "_view_module_version": "1.2.0",
      "_view_name": "StyleView",
      "bar_color": null,
      "description_width": ""
     }
    },
    "103f6b6e9fab4f3e8505f0dfc8f35c68": {
     "model_module": "@jupyter-widgets/controls",
     "model_module_version": "1.5.0",
     "model_name": "ProgressStyleModel",
     "state": {
      "_model_module": "@jupyter-widgets/controls",
      "_model_module_version": "1.5.0",
      "_model_name": "ProgressStyleModel",
      "_view_count": null,
      "_view_module": "@jupyter-widgets/base",
      "_view_module_version": "1.2.0",
      "_view_name": "StyleView",
      "bar_color": null,
      "description_width": ""
     }
    },
    "12614d7af9334cfdb7beb02cb4f1645f": {
     "model_module": "@jupyter-widgets/controls",
     "model_module_version": "1.5.0",
     "model_name": "ProgressStyleModel",
     "state": {
      "_model_module": "@jupyter-widgets/controls",
      "_model_module_version": "1.5.0",
      "_model_name": "ProgressStyleModel",
      "_view_count": null,
      "_view_module": "@jupyter-widgets/base",
      "_view_module_version": "1.2.0",
      "_view_name": "StyleView",
      "bar_color": null,
      "description_width": ""
     }
    },
    "130445b772374687ab291c24d34a6bbe": {
     "model_module": "@jupyter-widgets/controls",
     "model_module_version": "1.5.0",
     "model_name": "ProgressStyleModel",
     "state": {
      "_model_module": "@jupyter-widgets/controls",
      "_model_module_version": "1.5.0",
      "_model_name": "ProgressStyleModel",
      "_view_count": null,
      "_view_module": "@jupyter-widgets/base",
      "_view_module_version": "1.2.0",
      "_view_name": "StyleView",
      "bar_color": null,
      "description_width": ""
     }
    },
    "1326d435eb2b460fa640e160e995c2dd": {
     "model_module": "@jupyter-widgets/base",
     "model_module_version": "1.2.0",
     "model_name": "LayoutModel",
     "state": {
      "_model_module": "@jupyter-widgets/base",
      "_model_module_version": "1.2.0",
      "_model_name": "LayoutModel",
      "_view_count": null,
      "_view_module": "@jupyter-widgets/base",
      "_view_module_version": "1.2.0",
      "_view_name": "LayoutView",
      "align_content": null,
      "align_items": null,
      "align_self": null,
      "border": null,
      "bottom": null,
      "display": null,
      "flex": null,
      "flex_flow": null,
      "grid_area": null,
      "grid_auto_columns": null,
      "grid_auto_flow": null,
      "grid_auto_rows": null,
      "grid_column": null,
      "grid_gap": null,
      "grid_row": null,
      "grid_template_areas": null,
      "grid_template_columns": null,
      "grid_template_rows": null,
      "height": null,
      "justify_content": null,
      "justify_items": null,
      "left": null,
      "margin": null,
      "max_height": null,
      "max_width": null,
      "min_height": null,
      "min_width": null,
      "object_fit": null,
      "object_position": null,
      "order": null,
      "overflow": null,
      "overflow_x": null,
      "overflow_y": null,
      "padding": null,
      "right": null,
      "top": null,
      "visibility": null,
      "width": null
     }
    },
    "1362edfb9830495baa7103fe8817f81f": {
     "model_module": "@jupyter-widgets/controls",
     "model_module_version": "1.5.0",
     "model_name": "ProgressStyleModel",
     "state": {
      "_model_module": "@jupyter-widgets/controls",
      "_model_module_version": "1.5.0",
      "_model_name": "ProgressStyleModel",
      "_view_count": null,
      "_view_module": "@jupyter-widgets/base",
      "_view_module_version": "1.2.0",
      "_view_name": "StyleView",
      "bar_color": null,
      "description_width": ""
     }
    },
    "13b288fed4be4393959f7017baf886c0": {
     "model_module": "@jupyter-widgets/base",
     "model_module_version": "1.2.0",
     "model_name": "LayoutModel",
     "state": {
      "_model_module": "@jupyter-widgets/base",
      "_model_module_version": "1.2.0",
      "_model_name": "LayoutModel",
      "_view_count": null,
      "_view_module": "@jupyter-widgets/base",
      "_view_module_version": "1.2.0",
      "_view_name": "LayoutView",
      "align_content": null,
      "align_items": null,
      "align_self": null,
      "border": null,
      "bottom": null,
      "display": null,
      "flex": null,
      "flex_flow": null,
      "grid_area": null,
      "grid_auto_columns": null,
      "grid_auto_flow": null,
      "grid_auto_rows": null,
      "grid_column": null,
      "grid_gap": null,
      "grid_row": null,
      "grid_template_areas": null,
      "grid_template_columns": null,
      "grid_template_rows": null,
      "height": null,
      "justify_content": null,
      "justify_items": null,
      "left": null,
      "margin": null,
      "max_height": null,
      "max_width": null,
      "min_height": null,
      "min_width": null,
      "object_fit": null,
      "object_position": null,
      "order": null,
      "overflow": null,
      "overflow_x": null,
      "overflow_y": null,
      "padding": null,
      "right": null,
      "top": null,
      "visibility": null,
      "width": null
     }
    },
    "14f51352ae2241dc9b44070df73be1c6": {
     "model_module": "@jupyter-widgets/controls",
     "model_module_version": "1.5.0",
     "model_name": "DescriptionStyleModel",
     "state": {
      "_model_module": "@jupyter-widgets/controls",
      "_model_module_version": "1.5.0",
      "_model_name": "DescriptionStyleModel",
      "_view_count": null,
      "_view_module": "@jupyter-widgets/base",
      "_view_module_version": "1.2.0",
      "_view_name": "StyleView",
      "description_width": ""
     }
    },
    "16049df7c8ed480e8cfb1502c9cdd7b1": {
     "model_module": "@jupyter-widgets/controls",
     "model_module_version": "1.5.0",
     "model_name": "DescriptionStyleModel",
     "state": {
      "_model_module": "@jupyter-widgets/controls",
      "_model_module_version": "1.5.0",
      "_model_name": "DescriptionStyleModel",
      "_view_count": null,
      "_view_module": "@jupyter-widgets/base",
      "_view_module_version": "1.2.0",
      "_view_name": "StyleView",
      "description_width": ""
     }
    },
    "17c5ba2b45cb4ff782ea79268188ff8e": {
     "model_module": "@jupyter-widgets/base",
     "model_module_version": "1.2.0",
     "model_name": "LayoutModel",
     "state": {
      "_model_module": "@jupyter-widgets/base",
      "_model_module_version": "1.2.0",
      "_model_name": "LayoutModel",
      "_view_count": null,
      "_view_module": "@jupyter-widgets/base",
      "_view_module_version": "1.2.0",
      "_view_name": "LayoutView",
      "align_content": null,
      "align_items": null,
      "align_self": null,
      "border": null,
      "bottom": null,
      "display": null,
      "flex": null,
      "flex_flow": null,
      "grid_area": null,
      "grid_auto_columns": null,
      "grid_auto_flow": null,
      "grid_auto_rows": null,
      "grid_column": null,
      "grid_gap": null,
      "grid_row": null,
      "grid_template_areas": null,
      "grid_template_columns": null,
      "grid_template_rows": null,
      "height": null,
      "justify_content": null,
      "justify_items": null,
      "left": null,
      "margin": null,
      "max_height": null,
      "max_width": null,
      "min_height": null,
      "min_width": null,
      "object_fit": null,
      "object_position": null,
      "order": null,
      "overflow": null,
      "overflow_x": null,
      "overflow_y": null,
      "padding": null,
      "right": null,
      "top": null,
      "visibility": null,
      "width": null
     }
    },
    "19d111a8367b4a249acf94418a7746bb": {
     "model_module": "@jupyter-widgets/controls",
     "model_module_version": "1.5.0",
     "model_name": "DescriptionStyleModel",
     "state": {
      "_model_module": "@jupyter-widgets/controls",
      "_model_module_version": "1.5.0",
      "_model_name": "DescriptionStyleModel",
      "_view_count": null,
      "_view_module": "@jupyter-widgets/base",
      "_view_module_version": "1.2.0",
      "_view_name": "StyleView",
      "description_width": ""
     }
    },
    "1a869f4901924763959cc074aedba96b": {
     "model_module": "@jupyter-widgets/controls",
     "model_module_version": "1.5.0",
     "model_name": "FloatProgressModel",
     "state": {
      "_dom_classes": [],
      "_model_module": "@jupyter-widgets/controls",
      "_model_module_version": "1.5.0",
      "_model_name": "FloatProgressModel",
      "_view_count": null,
      "_view_module": "@jupyter-widgets/controls",
      "_view_module_version": "1.5.0",
      "_view_name": "ProgressView",
      "bar_style": "success",
      "description": "",
      "description_tooltip": null,
      "layout": "IPY_MODEL_39543a5bfc234065bc21a2039bbcfd86",
      "max": 1061,
      "min": 0,
      "orientation": "horizontal",
      "style": "IPY_MODEL_1d234efe421b4f4a9cfd4b79dc277363",
      "value": 1061
     }
    },
    "1c0ba0a224a34498a2087779c37e04e9": {
     "model_module": "@jupyter-widgets/base",
     "model_module_version": "1.2.0",
     "model_name": "LayoutModel",
     "state": {
      "_model_module": "@jupyter-widgets/base",
      "_model_module_version": "1.2.0",
      "_model_name": "LayoutModel",
      "_view_count": null,
      "_view_module": "@jupyter-widgets/base",
      "_view_module_version": "1.2.0",
      "_view_name": "LayoutView",
      "align_content": null,
      "align_items": null,
      "align_self": null,
      "border": null,
      "bottom": null,
      "display": null,
      "flex": null,
      "flex_flow": null,
      "grid_area": null,
      "grid_auto_columns": null,
      "grid_auto_flow": null,
      "grid_auto_rows": null,
      "grid_column": null,
      "grid_gap": null,
      "grid_row": null,
      "grid_template_areas": null,
      "grid_template_columns": null,
      "grid_template_rows": null,
      "height": null,
      "justify_content": null,
      "justify_items": null,
      "left": null,
      "margin": null,
      "max_height": null,
      "max_width": null,
      "min_height": null,
      "min_width": null,
      "object_fit": null,
      "object_position": null,
      "order": null,
      "overflow": null,
      "overflow_x": null,
      "overflow_y": null,
      "padding": null,
      "right": null,
      "top": null,
      "visibility": null,
      "width": null
     }
    },
    "1d234efe421b4f4a9cfd4b79dc277363": {
     "model_module": "@jupyter-widgets/controls",
     "model_module_version": "1.5.0",
     "model_name": "ProgressStyleModel",
     "state": {
      "_model_module": "@jupyter-widgets/controls",
      "_model_module_version": "1.5.0",
      "_model_name": "ProgressStyleModel",
      "_view_count": null,
      "_view_module": "@jupyter-widgets/base",
      "_view_module_version": "1.2.0",
      "_view_name": "StyleView",
      "bar_color": null,
      "description_width": ""
     }
    },
    "1d6f0affb68145b0b05925d412bfe8cc": {
     "model_module": "@jupyter-widgets/controls",
     "model_module_version": "1.5.0",
     "model_name": "DescriptionStyleModel",
     "state": {
      "_model_module": "@jupyter-widgets/controls",
      "_model_module_version": "1.5.0",
      "_model_name": "DescriptionStyleModel",
      "_view_count": null,
      "_view_module": "@jupyter-widgets/base",
      "_view_module_version": "1.2.0",
      "_view_name": "StyleView",
      "description_width": ""
     }
    },
    "1d745e2e50424bd59a66cdd45161cb51": {
     "model_module": "@jupyter-widgets/controls",
     "model_module_version": "1.5.0",
     "model_name": "HTMLModel",
     "state": {
      "_dom_classes": [],
      "_model_module": "@jupyter-widgets/controls",
      "_model_module_version": "1.5.0",
      "_model_name": "HTMLModel",
      "_view_count": null,
      "_view_module": "@jupyter-widgets/controls",
      "_view_module_version": "1.5.0",
      "_view_name": "HTMLView",
      "description": "",
      "description_tooltip": null,
      "layout": "IPY_MODEL_710bfd5208aa4cf39f6ee4449413529f",
      "placeholder": "​",
      "style": "IPY_MODEL_db79327d788e484c88e902935840fe9b",
      "value": " 1725/1725 [00:00&lt;00:00, 42082.34 examples/s]"
     }
    },
    "22c522bf5cbf4156a8e59576a1bc0e72": {
     "model_module": "@jupyter-widgets/controls",
     "model_module_version": "1.5.0",
     "model_name": "DescriptionStyleModel",
     "state": {
      "_model_module": "@jupyter-widgets/controls",
      "_model_module_version": "1.5.0",
      "_model_name": "DescriptionStyleModel",
      "_view_count": null,
      "_view_module": "@jupyter-widgets/base",
      "_view_module_version": "1.2.0",
      "_view_name": "StyleView",
      "description_width": ""
     }
    },
    "24315118c81d491cad8bae50dd646659": {
     "model_module": "@jupyter-widgets/controls",
     "model_module_version": "1.5.0",
     "model_name": "DescriptionStyleModel",
     "state": {
      "_model_module": "@jupyter-widgets/controls",
      "_model_module_version": "1.5.0",
      "_model_name": "DescriptionStyleModel",
      "_view_count": null,
      "_view_module": "@jupyter-widgets/base",
      "_view_module_version": "1.2.0",
      "_view_name": "StyleView",
      "description_width": ""
     }
    },
    "24a85764eeb6441db524f35b027cd416": {
     "model_module": "@jupyter-widgets/controls",
     "model_module_version": "1.5.0",
     "model_name": "ProgressStyleModel",
     "state": {
      "_model_module": "@jupyter-widgets/controls",
      "_model_module_version": "1.5.0",
      "_model_name": "ProgressStyleModel",
      "_view_count": null,
      "_view_module": "@jupyter-widgets/base",
      "_view_module_version": "1.2.0",
      "_view_name": "StyleView",
      "bar_color": null,
      "description_width": ""
     }
    },
    "24af2fed52ae40308925129709b50448": {
     "model_module": "@jupyter-widgets/base",
     "model_module_version": "1.2.0",
     "model_name": "LayoutModel",
     "state": {
      "_model_module": "@jupyter-widgets/base",
      "_model_module_version": "1.2.0",
      "_model_name": "LayoutModel",
      "_view_count": null,
      "_view_module": "@jupyter-widgets/base",
      "_view_module_version": "1.2.0",
      "_view_name": "LayoutView",
      "align_content": null,
      "align_items": null,
      "align_self": null,
      "border": null,
      "bottom": null,
      "display": null,
      "flex": null,
      "flex_flow": null,
      "grid_area": null,
      "grid_auto_columns": null,
      "grid_auto_flow": null,
      "grid_auto_rows": null,
      "grid_column": null,
      "grid_gap": null,
      "grid_row": null,
      "grid_template_areas": null,
      "grid_template_columns": null,
      "grid_template_rows": null,
      "height": null,
      "justify_content": null,
      "justify_items": null,
      "left": null,
      "margin": null,
      "max_height": null,
      "max_width": null,
      "min_height": null,
      "min_width": null,
      "object_fit": null,
      "object_position": null,
      "order": null,
      "overflow": null,
      "overflow_x": null,
      "overflow_y": null,
      "padding": null,
      "right": null,
      "top": null,
      "visibility": null,
      "width": null
     }
    },
    "25240f3f1ff54a509d3322b1e7e0cd22": {
     "model_module": "@jupyter-widgets/controls",
     "model_module_version": "1.5.0",
     "model_name": "FloatProgressModel",
     "state": {
      "_dom_classes": [],
      "_model_module": "@jupyter-widgets/controls",
      "_model_module_version": "1.5.0",
      "_model_name": "FloatProgressModel",
      "_view_count": null,
      "_view_module": "@jupyter-widgets/controls",
      "_view_module_version": "1.5.0",
      "_view_name": "ProgressView",
      "bar_style": "success",
      "description": "",
      "description_tooltip": null,
      "layout": "IPY_MODEL_17c5ba2b45cb4ff782ea79268188ff8e",
      "max": 30608,
      "min": 0,
      "orientation": "horizontal",
      "style": "IPY_MODEL_130445b772374687ab291c24d34a6bbe",
      "value": 30608
     }
    },
    "2580e623185540fca441c17f0f346ba6": {
     "model_module": "@jupyter-widgets/controls",
     "model_module_version": "1.5.0",
     "model_name": "ProgressStyleModel",
     "state": {
      "_model_module": "@jupyter-widgets/controls",
      "_model_module_version": "1.5.0",
      "_model_name": "ProgressStyleModel",
      "_view_count": null,
      "_view_module": "@jupyter-widgets/base",
      "_view_module_version": "1.2.0",
      "_view_name": "StyleView",
      "bar_color": null,
      "description_width": ""
     }
    },
    "25bb497c50044a1ab540f331c2a729a8": {
     "model_module": "@jupyter-widgets/base",
     "model_module_version": "1.2.0",
     "model_name": "LayoutModel",
     "state": {
      "_model_module": "@jupyter-widgets/base",
      "_model_module_version": "1.2.0",
      "_model_name": "LayoutModel",
      "_view_count": null,
      "_view_module": "@jupyter-widgets/base",
      "_view_module_version": "1.2.0",
      "_view_name": "LayoutView",
      "align_content": null,
      "align_items": null,
      "align_self": null,
      "border": null,
      "bottom": null,
      "display": null,
      "flex": null,
      "flex_flow": null,
      "grid_area": null,
      "grid_auto_columns": null,
      "grid_auto_flow": null,
      "grid_auto_rows": null,
      "grid_column": null,
      "grid_gap": null,
      "grid_row": null,
      "grid_template_areas": null,
      "grid_template_columns": null,
      "grid_template_rows": null,
      "height": null,
      "justify_content": null,
      "justify_items": null,
      "left": null,
      "margin": null,
      "max_height": null,
      "max_width": null,
      "min_height": null,
      "min_width": null,
      "object_fit": null,
      "object_position": null,
      "order": null,
      "overflow": null,
      "overflow_x": null,
      "overflow_y": null,
      "padding": null,
      "right": null,
      "top": null,
      "visibility": null,
      "width": null
     }
    },
    "2633111d0b354b389c8440740b60f12f": {
     "model_module": "@jupyter-widgets/base",
     "model_module_version": "1.2.0",
     "model_name": "LayoutModel",
     "state": {
      "_model_module": "@jupyter-widgets/base",
      "_model_module_version": "1.2.0",
      "_model_name": "LayoutModel",
      "_view_count": null,
      "_view_module": "@jupyter-widgets/base",
      "_view_module_version": "1.2.0",
      "_view_name": "LayoutView",
      "align_content": null,
      "align_items": null,
      "align_self": null,
      "border": null,
      "bottom": null,
      "display": null,
      "flex": null,
      "flex_flow": null,
      "grid_area": null,
      "grid_auto_columns": null,
      "grid_auto_flow": null,
      "grid_auto_rows": null,
      "grid_column": null,
      "grid_gap": null,
      "grid_row": null,
      "grid_template_areas": null,
      "grid_template_columns": null,
      "grid_template_rows": null,
      "height": null,
      "justify_content": null,
      "justify_items": null,
      "left": null,
      "margin": null,
      "max_height": null,
      "max_width": null,
      "min_height": null,
      "min_width": null,
      "object_fit": null,
      "object_position": null,
      "order": null,
      "overflow": null,
      "overflow_x": null,
      "overflow_y": null,
      "padding": null,
      "right": null,
      "top": null,
      "visibility": null,
      "width": null
     }
    },
    "26dcc2fde0a84d1d8c398b3f89b04eb2": {
     "model_module": "@jupyter-widgets/base",
     "model_module_version": "1.2.0",
     "model_name": "LayoutModel",
     "state": {
      "_model_module": "@jupyter-widgets/base",
      "_model_module_version": "1.2.0",
      "_model_name": "LayoutModel",
      "_view_count": null,
      "_view_module": "@jupyter-widgets/base",
      "_view_module_version": "1.2.0",
      "_view_name": "LayoutView",
      "align_content": null,
      "align_items": null,
      "align_self": null,
      "border": null,
      "bottom": null,
      "display": null,
      "flex": null,
      "flex_flow": null,
      "grid_area": null,
      "grid_auto_columns": null,
      "grid_auto_flow": null,
      "grid_auto_rows": null,
      "grid_column": null,
      "grid_gap": null,
      "grid_row": null,
      "grid_template_areas": null,
      "grid_template_columns": null,
      "grid_template_rows": null,
      "height": null,
      "justify_content": null,
      "justify_items": null,
      "left": null,
      "margin": null,
      "max_height": null,
      "max_width": null,
      "min_height": null,
      "min_width": null,
      "object_fit": null,
      "object_position": null,
      "order": null,
      "overflow": null,
      "overflow_x": null,
      "overflow_y": null,
      "padding": null,
      "right": null,
      "top": null,
      "visibility": null,
      "width": null
     }
    },
    "2710d2825b6745ee81dab791b080bbd2": {
     "model_module": "@jupyter-widgets/controls",
     "model_module_version": "1.5.0",
     "model_name": "DescriptionStyleModel",
     "state": {
      "_model_module": "@jupyter-widgets/controls",
      "_model_module_version": "1.5.0",
      "_model_name": "DescriptionStyleModel",
      "_view_count": null,
      "_view_module": "@jupyter-widgets/base",
      "_view_module_version": "1.2.0",
      "_view_name": "StyleView",
      "description_width": ""
     }
    },
    "27c2fd9375ee460295e8fc449eeca35b": {
     "model_module": "@jupyter-widgets/controls",
     "model_module_version": "1.5.0",
     "model_name": "DescriptionStyleModel",
     "state": {
      "_model_module": "@jupyter-widgets/controls",
      "_model_module_version": "1.5.0",
      "_model_name": "DescriptionStyleModel",
      "_view_count": null,
      "_view_module": "@jupyter-widgets/base",
      "_view_module_version": "1.2.0",
      "_view_name": "StyleView",
      "description_width": ""
     }
    },
    "2891c95b17464936b04f40096f82b294": {
     "model_module": "@jupyter-widgets/controls",
     "model_module_version": "1.5.0",
     "model_name": "HTMLModel",
     "state": {
      "_dom_classes": [],
      "_model_module": "@jupyter-widgets/controls",
      "_model_module_version": "1.5.0",
      "_model_name": "HTMLModel",
      "_view_count": null,
      "_view_module": "@jupyter-widgets/controls",
      "_view_module_version": "1.5.0",
      "_view_name": "HTMLView",
      "description": "",
      "description_tooltip": null,
      "layout": "IPY_MODEL_f28b82bbfb034e939dc900c197462b79",
      "placeholder": "​",
      "style": "IPY_MODEL_2bdef138e86641ad8fa87ed3237a65ee",
      "value": "Generating pharo_train split: 100%"
     }
    },
    "28ed1f4f782044a4ba9b0b8ef0106983": {
     "model_module": "@jupyter-widgets/controls",
     "model_module_version": "1.5.0",
     "model_name": "HTMLModel",
     "state": {
      "_dom_classes": [],
      "_model_module": "@jupyter-widgets/controls",
      "_model_module_version": "1.5.0",
      "_model_name": "HTMLModel",
      "_view_count": null,
      "_view_module": "@jupyter-widgets/controls",
      "_view_module_version": "1.5.0",
      "_view_name": "HTMLView",
      "description": "",
      "description_tooltip": null,
      "layout": "IPY_MODEL_dc444945ac034f84bfbbcae5c4cd17ac",
      "placeholder": "​",
      "style": "IPY_MODEL_4ba2b49944b047b2ac00dd6f9372b1b4",
      "value": " 7614/7614 [00:00&lt;00:00, 8020.39 examples/s]"
     }
    },
    "2bdef138e86641ad8fa87ed3237a65ee": {
     "model_module": "@jupyter-widgets/controls",
     "model_module_version": "1.5.0",
     "model_name": "DescriptionStyleModel",
     "state": {
      "_model_module": "@jupyter-widgets/controls",
      "_model_module_version": "1.5.0",
      "_model_name": "DescriptionStyleModel",
      "_view_count": null,
      "_view_module": "@jupyter-widgets/base",
      "_view_module_version": "1.2.0",
      "_view_name": "StyleView",
      "description_width": ""
     }
    },
    "2c4d62d019f14e81b8afcb251c56b562": {
     "model_module": "@jupyter-widgets/base",
     "model_module_version": "1.2.0",
     "model_name": "LayoutModel",
     "state": {
      "_model_module": "@jupyter-widgets/base",
      "_model_module_version": "1.2.0",
      "_model_name": "LayoutModel",
      "_view_count": null,
      "_view_module": "@jupyter-widgets/base",
      "_view_module_version": "1.2.0",
      "_view_name": "LayoutView",
      "align_content": null,
      "align_items": null,
      "align_self": null,
      "border": null,
      "bottom": null,
      "display": null,
      "flex": null,
      "flex_flow": null,
      "grid_area": null,
      "grid_auto_columns": null,
      "grid_auto_flow": null,
      "grid_auto_rows": null,
      "grid_column": null,
      "grid_gap": null,
      "grid_row": null,
      "grid_template_areas": null,
      "grid_template_columns": null,
      "grid_template_rows": null,
      "height": null,
      "justify_content": null,
      "justify_items": null,
      "left": null,
      "margin": null,
      "max_height": null,
      "max_width": null,
      "min_height": null,
      "min_width": null,
      "object_fit": null,
      "object_position": null,
      "order": null,
      "overflow": null,
      "overflow_x": null,
      "overflow_y": null,
      "padding": null,
      "right": null,
      "top": null,
      "visibility": null,
      "width": null
     }
    },
    "2d82657017044223aba6c5ba4570e4d6": {
     "model_module": "@jupyter-widgets/base",
     "model_module_version": "1.2.0",
     "model_name": "LayoutModel",
     "state": {
      "_model_module": "@jupyter-widgets/base",
      "_model_module_version": "1.2.0",
      "_model_name": "LayoutModel",
      "_view_count": null,
      "_view_module": "@jupyter-widgets/base",
      "_view_module_version": "1.2.0",
      "_view_name": "LayoutView",
      "align_content": null,
      "align_items": null,
      "align_self": null,
      "border": null,
      "bottom": null,
      "display": null,
      "flex": null,
      "flex_flow": null,
      "grid_area": null,
      "grid_auto_columns": null,
      "grid_auto_flow": null,
      "grid_auto_rows": null,
      "grid_column": null,
      "grid_gap": null,
      "grid_row": null,
      "grid_template_areas": null,
      "grid_template_columns": null,
      "grid_template_rows": null,
      "height": null,
      "justify_content": null,
      "justify_items": null,
      "left": null,
      "margin": null,
      "max_height": null,
      "max_width": null,
      "min_height": null,
      "min_width": null,
      "object_fit": null,
      "object_position": null,
      "order": null,
      "overflow": null,
      "overflow_x": null,
      "overflow_y": null,
      "padding": null,
      "right": null,
      "top": null,
      "visibility": null,
      "width": null
     }
    },
    "2da20b52d4ca4ea9945f518c58885087": {
     "model_module": "@jupyter-widgets/controls",
     "model_module_version": "1.5.0",
     "model_name": "HBoxModel",
     "state": {
      "_dom_classes": [],
      "_model_module": "@jupyter-widgets/controls",
      "_model_module_version": "1.5.0",
      "_model_name": "HBoxModel",
      "_view_count": null,
      "_view_module": "@jupyter-widgets/controls",
      "_view_module_version": "1.5.0",
      "_view_name": "HBoxView",
      "box_style": "",
      "children": [
       "IPY_MODEL_916bb245f6cf4ad1ab902d9cb6307a64",
       "IPY_MODEL_5f292afeefb7491289e7bc14d2be8801",
       "IPY_MODEL_d1351440f39e4b2f8fb37f9d95871291"
      ],
      "layout": "IPY_MODEL_35957da3fa074ae3ab2dfc999084b374"
     }
    },
    "2e17ee44c617408b915c9e229bf6b0cb": {
     "model_module": "@jupyter-widgets/controls",
     "model_module_version": "1.5.0",
     "model_name": "DescriptionStyleModel",
     "state": {
      "_model_module": "@jupyter-widgets/controls",
      "_model_module_version": "1.5.0",
      "_model_name": "DescriptionStyleModel",
      "_view_count": null,
      "_view_module": "@jupyter-widgets/base",
      "_view_module_version": "1.2.0",
      "_view_name": "StyleView",
      "description_width": ""
     }
    },
    "2e2a127ebb6e4b5d84db1d98e9cbd340": {
     "model_module": "@jupyter-widgets/controls",
     "model_module_version": "1.5.0",
     "model_name": "HBoxModel",
     "state": {
      "_dom_classes": [],
      "_model_module": "@jupyter-widgets/controls",
      "_model_module_version": "1.5.0",
      "_model_name": "HBoxModel",
      "_view_count": null,
      "_view_module": "@jupyter-widgets/controls",
      "_view_module_version": "1.5.0",
      "_view_name": "HBoxView",
      "box_style": "",
      "children": [
       "IPY_MODEL_60da09d2a8b649c8b5364932a4272c78",
       "IPY_MODEL_f6ec595db0654d53950b8bb0e1bd697a",
       "IPY_MODEL_c0d2f9c825c343f4820f789a4a7313f5"
      ],
      "layout": "IPY_MODEL_7496cbb90f3e4e99a59c0c0779ff4a2a"
     }
    },
    "2ec9b709f1da46238fa368c2e864519f": {
     "model_module": "@jupyter-widgets/base",
     "model_module_version": "1.2.0",
     "model_name": "LayoutModel",
     "state": {
      "_model_module": "@jupyter-widgets/base",
      "_model_module_version": "1.2.0",
      "_model_name": "LayoutModel",
      "_view_count": null,
      "_view_module": "@jupyter-widgets/base",
      "_view_module_version": "1.2.0",
      "_view_name": "LayoutView",
      "align_content": null,
      "align_items": null,
      "align_self": null,
      "border": null,
      "bottom": null,
      "display": null,
      "flex": null,
      "flex_flow": null,
      "grid_area": null,
      "grid_auto_columns": null,
      "grid_auto_flow": null,
      "grid_auto_rows": null,
      "grid_column": null,
      "grid_gap": null,
      "grid_row": null,
      "grid_template_areas": null,
      "grid_template_columns": null,
      "grid_template_rows": null,
      "height": null,
      "justify_content": null,
      "justify_items": null,
      "left": null,
      "margin": null,
      "max_height": null,
      "max_width": null,
      "min_height": null,
      "min_width": null,
      "object_fit": null,
      "object_position": null,
      "order": null,
      "overflow": null,
      "overflow_x": null,
      "overflow_y": null,
      "padding": null,
      "right": null,
      "top": null,
      "visibility": null,
      "width": null
     }
    },
    "2fc64b9b4182484aac56be590bb16311": {
     "model_module": "@jupyter-widgets/base",
     "model_module_version": "1.2.0",
     "model_name": "LayoutModel",
     "state": {
      "_model_module": "@jupyter-widgets/base",
      "_model_module_version": "1.2.0",
      "_model_name": "LayoutModel",
      "_view_count": null,
      "_view_module": "@jupyter-widgets/base",
      "_view_module_version": "1.2.0",
      "_view_name": "LayoutView",
      "align_content": null,
      "align_items": null,
      "align_self": null,
      "border": null,
      "bottom": null,
      "display": null,
      "flex": null,
      "flex_flow": null,
      "grid_area": null,
      "grid_auto_columns": null,
      "grid_auto_flow": null,
      "grid_auto_rows": null,
      "grid_column": null,
      "grid_gap": null,
      "grid_row": null,
      "grid_template_areas": null,
      "grid_template_columns": null,
      "grid_template_rows": null,
      "height": null,
      "justify_content": null,
      "justify_items": null,
      "left": null,
      "margin": null,
      "max_height": null,
      "max_width": null,
      "min_height": null,
      "min_width": null,
      "object_fit": null,
      "object_position": null,
      "order": null,
      "overflow": null,
      "overflow_x": null,
      "overflow_y": null,
      "padding": null,
      "right": null,
      "top": null,
      "visibility": null,
      "width": null
     }
    },
    "2ff99aebc04f46889070f4d0148ce5a3": {
     "model_module": "@jupyter-widgets/controls",
     "model_module_version": "1.5.0",
     "model_name": "DescriptionStyleModel",
     "state": {
      "_model_module": "@jupyter-widgets/controls",
      "_model_module_version": "1.5.0",
      "_model_name": "DescriptionStyleModel",
      "_view_count": null,
      "_view_module": "@jupyter-widgets/base",
      "_view_module_version": "1.2.0",
      "_view_name": "StyleView",
      "description_width": ""
     }
    },
    "301f4a30f23a45ce9e9bc741f0b5ea81": {
     "model_module": "@jupyter-widgets/base",
     "model_module_version": "1.2.0",
     "model_name": "LayoutModel",
     "state": {
      "_model_module": "@jupyter-widgets/base",
      "_model_module_version": "1.2.0",
      "_model_name": "LayoutModel",
      "_view_count": null,
      "_view_module": "@jupyter-widgets/base",
      "_view_module_version": "1.2.0",
      "_view_name": "LayoutView",
      "align_content": null,
      "align_items": null,
      "align_self": null,
      "border": null,
      "bottom": null,
      "display": null,
      "flex": null,
      "flex_flow": null,
      "grid_area": null,
      "grid_auto_columns": null,
      "grid_auto_flow": null,
      "grid_auto_rows": null,
      "grid_column": null,
      "grid_gap": null,
      "grid_row": null,
      "grid_template_areas": null,
      "grid_template_columns": null,
      "grid_template_rows": null,
      "height": null,
      "justify_content": null,
      "justify_items": null,
      "left": null,
      "margin": null,
      "max_height": null,
      "max_width": null,
      "min_height": null,
      "min_width": null,
      "object_fit": null,
      "object_position": null,
      "order": null,
      "overflow": null,
      "overflow_x": null,
      "overflow_y": null,
      "padding": null,
      "right": null,
      "top": null,
      "visibility": null,
      "width": null
     }
    },
    "313f871227c04f0b862799ce805f1cd2": {
     "model_module": "@jupyter-widgets/base",
     "model_module_version": "1.2.0",
     "model_name": "LayoutModel",
     "state": {
      "_model_module": "@jupyter-widgets/base",
      "_model_module_version": "1.2.0",
      "_model_name": "LayoutModel",
      "_view_count": null,
      "_view_module": "@jupyter-widgets/base",
      "_view_module_version": "1.2.0",
      "_view_name": "LayoutView",
      "align_content": null,
      "align_items": null,
      "align_self": null,
      "border": null,
      "bottom": null,
      "display": null,
      "flex": null,
      "flex_flow": null,
      "grid_area": null,
      "grid_auto_columns": null,
      "grid_auto_flow": null,
      "grid_auto_rows": null,
      "grid_column": null,
      "grid_gap": null,
      "grid_row": null,
      "grid_template_areas": null,
      "grid_template_columns": null,
      "grid_template_rows": null,
      "height": null,
      "justify_content": null,
      "justify_items": null,
      "left": null,
      "margin": null,
      "max_height": null,
      "max_width": null,
      "min_height": null,
      "min_width": null,
      "object_fit": null,
      "object_position": null,
      "order": null,
      "overflow": null,
      "overflow_x": null,
      "overflow_y": null,
      "padding": null,
      "right": null,
      "top": null,
      "visibility": null,
      "width": null
     }
    },
    "316313207cbc4a2eaa3be8051b5c746c": {
     "model_module": "@jupyter-widgets/controls",
     "model_module_version": "1.5.0",
     "model_name": "FloatProgressModel",
     "state": {
      "_dom_classes": [],
      "_model_module": "@jupyter-widgets/controls",
      "_model_module_version": "1.5.0",
      "_model_name": "FloatProgressModel",
      "_view_count": null,
      "_view_module": "@jupyter-widgets/controls",
      "_view_module_version": "1.5.0",
      "_view_name": "ProgressView",
      "bar_style": "success",
      "description": "",
      "description_tooltip": null,
      "layout": "IPY_MODEL_445fac009ef7412498a5387896849f36",
      "max": 1884,
      "min": 0,
      "orientation": "horizontal",
      "style": "IPY_MODEL_7b53385fae714a6f8c46376b04bf85b1",
      "value": 1884
     }
    },
    "31c4d4af55e64c0c85cd03ca97cd1baa": {
     "model_module": "@jupyter-widgets/controls",
     "model_module_version": "1.5.0",
     "model_name": "HBoxModel",
     "state": {
      "_dom_classes": [],
      "_model_module": "@jupyter-widgets/controls",
      "_model_module_version": "1.5.0",
      "_model_name": "HBoxModel",
      "_view_count": null,
      "_view_module": "@jupyter-widgets/controls",
      "_view_module_version": "1.5.0",
      "_view_name": "HBoxView",
      "box_style": "",
      "children": [
       "IPY_MODEL_c79e18b0edba428e9293c65cc033cbc1",
       "IPY_MODEL_40a487185d524b839aa5eeb815347505",
       "IPY_MODEL_cdcb00480ffa4f22b4de7088b357e99f"
      ],
      "layout": "IPY_MODEL_0eac72bb1bb743c28f8479aad9526b34"
     }
    },
    "325260b440ed48c7b4632c46ae843796": {
     "model_module": "@jupyter-widgets/base",
     "model_module_version": "1.2.0",
     "model_name": "LayoutModel",
     "state": {
      "_model_module": "@jupyter-widgets/base",
      "_model_module_version": "1.2.0",
      "_model_name": "LayoutModel",
      "_view_count": null,
      "_view_module": "@jupyter-widgets/base",
      "_view_module_version": "1.2.0",
      "_view_name": "LayoutView",
      "align_content": null,
      "align_items": null,
      "align_self": null,
      "border": null,
      "bottom": null,
      "display": null,
      "flex": null,
      "flex_flow": null,
      "grid_area": null,
      "grid_auto_columns": null,
      "grid_auto_flow": null,
      "grid_auto_rows": null,
      "grid_column": null,
      "grid_gap": null,
      "grid_row": null,
      "grid_template_areas": null,
      "grid_template_columns": null,
      "grid_template_rows": null,
      "height": null,
      "justify_content": null,
      "justify_items": null,
      "left": null,
      "margin": null,
      "max_height": null,
      "max_width": null,
      "min_height": null,
      "min_width": null,
      "object_fit": null,
      "object_position": null,
      "order": null,
      "overflow": null,
      "overflow_x": null,
      "overflow_y": null,
      "padding": null,
      "right": null,
      "top": null,
      "visibility": null,
      "width": null
     }
    },
    "35957da3fa074ae3ab2dfc999084b374": {
     "model_module": "@jupyter-widgets/base",
     "model_module_version": "1.2.0",
     "model_name": "LayoutModel",
     "state": {
      "_model_module": "@jupyter-widgets/base",
      "_model_module_version": "1.2.0",
      "_model_name": "LayoutModel",
      "_view_count": null,
      "_view_module": "@jupyter-widgets/base",
      "_view_module_version": "1.2.0",
      "_view_name": "LayoutView",
      "align_content": null,
      "align_items": null,
      "align_self": null,
      "border": null,
      "bottom": null,
      "display": null,
      "flex": null,
      "flex_flow": null,
      "grid_area": null,
      "grid_auto_columns": null,
      "grid_auto_flow": null,
      "grid_auto_rows": null,
      "grid_column": null,
      "grid_gap": null,
      "grid_row": null,
      "grid_template_areas": null,
      "grid_template_columns": null,
      "grid_template_rows": null,
      "height": null,
      "justify_content": null,
      "justify_items": null,
      "left": null,
      "margin": null,
      "max_height": null,
      "max_width": null,
      "min_height": null,
      "min_width": null,
      "object_fit": null,
      "object_position": null,
      "order": null,
      "overflow": null,
      "overflow_x": null,
      "overflow_y": null,
      "padding": null,
      "right": null,
      "top": null,
      "visibility": null,
      "width": null
     }
    },
    "381fc397df404b9ca3b10ff8e9dad87b": {
     "model_module": "@jupyter-widgets/controls",
     "model_module_version": "1.5.0",
     "model_name": "HBoxModel",
     "state": {
      "_dom_classes": [],
      "_model_module": "@jupyter-widgets/controls",
      "_model_module_version": "1.5.0",
      "_model_name": "HBoxModel",
      "_view_count": null,
      "_view_module": "@jupyter-widgets/controls",
      "_view_module_version": "1.5.0",
      "_view_name": "HBoxView",
      "box_style": "",
      "children": [
       "IPY_MODEL_e506055b03b14c5c9220246f115a4a30",
       "IPY_MODEL_316313207cbc4a2eaa3be8051b5c746c",
       "IPY_MODEL_a9476042b6ac42fb8819f48ec8affa60"
      ],
      "layout": "IPY_MODEL_afdff4c416914920bb0079d4b4c03ecc"
     }
    },
    "3904b10e54b74ecea8d3979e47554f8c": {
     "model_module": "@jupyter-widgets/controls",
     "model_module_version": "1.5.0",
     "model_name": "FloatProgressModel",
     "state": {
      "_dom_classes": [],
      "_model_module": "@jupyter-widgets/controls",
      "_model_module_version": "1.5.0",
      "_model_name": "FloatProgressModel",
      "_view_count": null,
      "_view_module": "@jupyter-widgets/controls",
      "_view_module_version": "1.5.0",
      "_view_name": "ProgressView",
      "bar_style": "success",
      "description": "",
      "description_tooltip": null,
      "layout": "IPY_MODEL_688b3fe3367540df9abc519caf10c6d0",
      "max": 1298,
      "min": 0,
      "orientation": "horizontal",
      "style": "IPY_MODEL_1362edfb9830495baa7103fe8817f81f",
      "value": 1298
     }
    },
    "39543a5bfc234065bc21a2039bbcfd86": {
     "model_module": "@jupyter-widgets/base",
     "model_module_version": "1.2.0",
     "model_name": "LayoutModel",
     "state": {
      "_model_module": "@jupyter-widgets/base",
      "_model_module_version": "1.2.0",
      "_model_name": "LayoutModel",
      "_view_count": null,
      "_view_module": "@jupyter-widgets/base",
      "_view_module_version": "1.2.0",
      "_view_name": "LayoutView",
      "align_content": null,
      "align_items": null,
      "align_self": null,
      "border": null,
      "bottom": null,
      "display": null,
      "flex": null,
      "flex_flow": null,
      "grid_area": null,
      "grid_auto_columns": null,
      "grid_auto_flow": null,
      "grid_auto_rows": null,
      "grid_column": null,
      "grid_gap": null,
      "grid_row": null,
      "grid_template_areas": null,
      "grid_template_columns": null,
      "grid_template_rows": null,
      "height": null,
      "justify_content": null,
      "justify_items": null,
      "left": null,
      "margin": null,
      "max_height": null,
      "max_width": null,
      "min_height": null,
      "min_width": null,
      "object_fit": null,
      "object_position": null,
      "order": null,
      "overflow": null,
      "overflow_x": null,
      "overflow_y": null,
      "padding": null,
      "right": null,
      "top": null,
      "visibility": null,
      "width": null
     }
    },
    "3c6d6c0aaf6544daad35b532fb5bb16c": {
     "model_module": "@jupyter-widgets/base",
     "model_module_version": "1.2.0",
     "model_name": "LayoutModel",
     "state": {
      "_model_module": "@jupyter-widgets/base",
      "_model_module_version": "1.2.0",
      "_model_name": "LayoutModel",
      "_view_count": null,
      "_view_module": "@jupyter-widgets/base",
      "_view_module_version": "1.2.0",
      "_view_name": "LayoutView",
      "align_content": null,
      "align_items": null,
      "align_self": null,
      "border": null,
      "bottom": null,
      "display": null,
      "flex": null,
      "flex_flow": null,
      "grid_area": null,
      "grid_auto_columns": null,
      "grid_auto_flow": null,
      "grid_auto_rows": null,
      "grid_column": null,
      "grid_gap": null,
      "grid_row": null,
      "grid_template_areas": null,
      "grid_template_columns": null,
      "grid_template_rows": null,
      "height": null,
      "justify_content": null,
      "justify_items": null,
      "left": null,
      "margin": null,
      "max_height": null,
      "max_width": null,
      "min_height": null,
      "min_width": null,
      "object_fit": null,
      "object_position": null,
      "order": null,
      "overflow": null,
      "overflow_x": null,
      "overflow_y": null,
      "padding": null,
      "right": null,
      "top": null,
      "visibility": null,
      "width": null
     }
    },
    "3c8331d4903f4ff883f1c555e139235b": {
     "model_module": "@jupyter-widgets/base",
     "model_module_version": "1.2.0",
     "model_name": "LayoutModel",
     "state": {
      "_model_module": "@jupyter-widgets/base",
      "_model_module_version": "1.2.0",
      "_model_name": "LayoutModel",
      "_view_count": null,
      "_view_module": "@jupyter-widgets/base",
      "_view_module_version": "1.2.0",
      "_view_name": "LayoutView",
      "align_content": null,
      "align_items": null,
      "align_self": null,
      "border": null,
      "bottom": null,
      "display": null,
      "flex": null,
      "flex_flow": null,
      "grid_area": null,
      "grid_auto_columns": null,
      "grid_auto_flow": null,
      "grid_auto_rows": null,
      "grid_column": null,
      "grid_gap": null,
      "grid_row": null,
      "grid_template_areas": null,
      "grid_template_columns": null,
      "grid_template_rows": null,
      "height": null,
      "justify_content": null,
      "justify_items": null,
      "left": null,
      "margin": null,
      "max_height": null,
      "max_width": null,
      "min_height": null,
      "min_width": null,
      "object_fit": null,
      "object_position": null,
      "order": null,
      "overflow": null,
      "overflow_x": null,
      "overflow_y": null,
      "padding": null,
      "right": null,
      "top": null,
      "visibility": null,
      "width": null
     }
    },
    "3c961607ccd84719877abfa3c5cd9036": {
     "model_module": "@jupyter-widgets/controls",
     "model_module_version": "1.5.0",
     "model_name": "DescriptionStyleModel",
     "state": {
      "_model_module": "@jupyter-widgets/controls",
      "_model_module_version": "1.5.0",
      "_model_name": "DescriptionStyleModel",
      "_view_count": null,
      "_view_module": "@jupyter-widgets/base",
      "_view_module_version": "1.2.0",
      "_view_name": "StyleView",
      "description_width": ""
     }
    },
    "3ccbf8a9b176452f93870397169f020e": {
     "model_module": "@jupyter-widgets/base",
     "model_module_version": "1.2.0",
     "model_name": "LayoutModel",
     "state": {
      "_model_module": "@jupyter-widgets/base",
      "_model_module_version": "1.2.0",
      "_model_name": "LayoutModel",
      "_view_count": null,
      "_view_module": "@jupyter-widgets/base",
      "_view_module_version": "1.2.0",
      "_view_name": "LayoutView",
      "align_content": null,
      "align_items": null,
      "align_self": null,
      "border": null,
      "bottom": null,
      "display": null,
      "flex": null,
      "flex_flow": null,
      "grid_area": null,
      "grid_auto_columns": null,
      "grid_auto_flow": null,
      "grid_auto_rows": null,
      "grid_column": null,
      "grid_gap": null,
      "grid_row": null,
      "grid_template_areas": null,
      "grid_template_columns": null,
      "grid_template_rows": null,
      "height": null,
      "justify_content": null,
      "justify_items": null,
      "left": null,
      "margin": null,
      "max_height": null,
      "max_width": null,
      "min_height": null,
      "min_width": null,
      "object_fit": null,
      "object_position": null,
      "order": null,
      "overflow": null,
      "overflow_x": null,
      "overflow_y": null,
      "padding": null,
      "right": null,
      "top": null,
      "visibility": null,
      "width": null
     }
    },
    "3fa0fd11c10f4a7082ed92efdbb1d14b": {
     "model_module": "@jupyter-widgets/base",
     "model_module_version": "1.2.0",
     "model_name": "LayoutModel",
     "state": {
      "_model_module": "@jupyter-widgets/base",
      "_model_module_version": "1.2.0",
      "_model_name": "LayoutModel",
      "_view_count": null,
      "_view_module": "@jupyter-widgets/base",
      "_view_module_version": "1.2.0",
      "_view_name": "LayoutView",
      "align_content": null,
      "align_items": null,
      "align_self": null,
      "border": null,
      "bottom": null,
      "display": null,
      "flex": null,
      "flex_flow": null,
      "grid_area": null,
      "grid_auto_columns": null,
      "grid_auto_flow": null,
      "grid_auto_rows": null,
      "grid_column": null,
      "grid_gap": null,
      "grid_row": null,
      "grid_template_areas": null,
      "grid_template_columns": null,
      "grid_template_rows": null,
      "height": null,
      "justify_content": null,
      "justify_items": null,
      "left": null,
      "margin": null,
      "max_height": null,
      "max_width": null,
      "min_height": null,
      "min_width": null,
      "object_fit": null,
      "object_position": null,
      "order": null,
      "overflow": null,
      "overflow_x": null,
      "overflow_y": null,
      "padding": null,
      "right": null,
      "top": null,
      "visibility": null,
      "width": null
     }
    },
    "401c1f01fa64456b97bc1963d144d005": {
     "model_module": "@jupyter-widgets/controls",
     "model_module_version": "1.5.0",
     "model_name": "DescriptionStyleModel",
     "state": {
      "_model_module": "@jupyter-widgets/controls",
      "_model_module_version": "1.5.0",
      "_model_name": "DescriptionStyleModel",
      "_view_count": null,
      "_view_module": "@jupyter-widgets/base",
      "_view_module_version": "1.2.0",
      "_view_name": "StyleView",
      "description_width": ""
     }
    },
    "40a487185d524b839aa5eeb815347505": {
     "model_module": "@jupyter-widgets/controls",
     "model_module_version": "1.5.0",
     "model_name": "FloatProgressModel",
     "state": {
      "_dom_classes": [],
      "_model_module": "@jupyter-widgets/controls",
      "_model_module_version": "1.5.0",
      "_model_name": "FloatProgressModel",
      "_view_count": null,
      "_view_module": "@jupyter-widgets/controls",
      "_view_module_version": "1.5.0",
      "_view_name": "ProgressView",
      "bar_style": "success",
      "description": "",
      "description_tooltip": null,
      "layout": "IPY_MODEL_eb6492d96bc249a9b61a74bb20ac4ce5",
      "max": 7614,
      "min": 0,
      "orientation": "horizontal",
      "style": "IPY_MODEL_24a85764eeb6441db524f35b027cd416",
      "value": 7614
     }
    },
    "4183cbb27e44449da4c889e85e6e0e10": {
     "model_module": "@jupyter-widgets/controls",
     "model_module_version": "1.5.0",
     "model_name": "HTMLModel",
     "state": {
      "_dom_classes": [],
      "_model_module": "@jupyter-widgets/controls",
      "_model_module_version": "1.5.0",
      "_model_name": "HTMLModel",
      "_view_count": null,
      "_view_module": "@jupyter-widgets/controls",
      "_view_module_version": "1.5.0",
      "_view_name": "HTMLView",
      "description": "",
      "description_tooltip": null,
      "layout": "IPY_MODEL_5cb082fd23434139b8f91bc59af43108",
      "placeholder": "​",
      "style": "IPY_MODEL_f1d27df6618240cdae4c02dfab36bc9d",
      "value": "Generating python_train split: 100%"
     }
    },
    "4193870d9d354bd4867e0101abb18409": {
     "model_module": "@jupyter-widgets/base",
     "model_module_version": "1.2.0",
     "model_name": "LayoutModel",
     "state": {
      "_model_module": "@jupyter-widgets/base",
      "_model_module_version": "1.2.0",
      "_model_name": "LayoutModel",
      "_view_count": null,
      "_view_module": "@jupyter-widgets/base",
      "_view_module_version": "1.2.0",
      "_view_name": "LayoutView",
      "align_content": null,
      "align_items": null,
      "align_self": null,
      "border": null,
      "bottom": null,
      "display": null,
      "flex": null,
      "flex_flow": null,
      "grid_area": null,
      "grid_auto_columns": null,
      "grid_auto_flow": null,
      "grid_auto_rows": null,
      "grid_column": null,
      "grid_gap": null,
      "grid_row": null,
      "grid_template_areas": null,
      "grid_template_columns": null,
      "grid_template_rows": null,
      "height": null,
      "justify_content": null,
      "justify_items": null,
      "left": null,
      "margin": null,
      "max_height": null,
      "max_width": null,
      "min_height": null,
      "min_width": null,
      "object_fit": null,
      "object_position": null,
      "order": null,
      "overflow": null,
      "overflow_x": null,
      "overflow_y": null,
      "padding": null,
      "right": null,
      "top": null,
      "visibility": null,
      "width": null
     }
    },
    "445fac009ef7412498a5387896849f36": {
     "model_module": "@jupyter-widgets/base",
     "model_module_version": "1.2.0",
     "model_name": "LayoutModel",
     "state": {
      "_model_module": "@jupyter-widgets/base",
      "_model_module_version": "1.2.0",
      "_model_name": "LayoutModel",
      "_view_count": null,
      "_view_module": "@jupyter-widgets/base",
      "_view_module_version": "1.2.0",
      "_view_name": "LayoutView",
      "align_content": null,
      "align_items": null,
      "align_self": null,
      "border": null,
      "bottom": null,
      "display": null,
      "flex": null,
      "flex_flow": null,
      "grid_area": null,
      "grid_auto_columns": null,
      "grid_auto_flow": null,
      "grid_auto_rows": null,
      "grid_column": null,
      "grid_gap": null,
      "grid_row": null,
      "grid_template_areas": null,
      "grid_template_columns": null,
      "grid_template_rows": null,
      "height": null,
      "justify_content": null,
      "justify_items": null,
      "left": null,
      "margin": null,
      "max_height": null,
      "max_width": null,
      "min_height": null,
      "min_width": null,
      "object_fit": null,
      "object_position": null,
      "order": null,
      "overflow": null,
      "overflow_x": null,
      "overflow_y": null,
      "padding": null,
      "right": null,
      "top": null,
      "visibility": null,
      "width": null
     }
    },
    "44884a78396b4803bb7d79954e324ae0": {
     "model_module": "@jupyter-widgets/controls",
     "model_module_version": "1.5.0",
     "model_name": "HTMLModel",
     "state": {
      "_dom_classes": [],
      "_model_module": "@jupyter-widgets/controls",
      "_model_module_version": "1.5.0",
      "_model_name": "HTMLModel",
      "_view_count": null,
      "_view_module": "@jupyter-widgets/controls",
      "_view_module_version": "1.5.0",
      "_view_name": "HTMLView",
      "description": "",
      "description_tooltip": null,
      "layout": "IPY_MODEL_ae224233cb9646aaaadcd4b3fe29baae",
      "placeholder": "​",
      "style": "IPY_MODEL_401c1f01fa64456b97bc1963d144d005",
      "value": "config.json: 100%"
     }
    },
    "450c7fc00cca4ac9bf8ab67632e2ff62": {
     "model_module": "@jupyter-widgets/controls",
     "model_module_version": "1.5.0",
     "model_name": "DescriptionStyleModel",
     "state": {
      "_model_module": "@jupyter-widgets/controls",
      "_model_module_version": "1.5.0",
      "_model_name": "DescriptionStyleModel",
      "_view_count": null,
      "_view_module": "@jupyter-widgets/base",
      "_view_module_version": "1.2.0",
      "_view_name": "StyleView",
      "description_width": ""
     }
    },
    "456cbe78c7214051b39d334143836ddf": {
     "model_module": "@jupyter-widgets/base",
     "model_module_version": "1.2.0",
     "model_name": "LayoutModel",
     "state": {
      "_model_module": "@jupyter-widgets/base",
      "_model_module_version": "1.2.0",
      "_model_name": "LayoutModel",
      "_view_count": null,
      "_view_module": "@jupyter-widgets/base",
      "_view_module_version": "1.2.0",
      "_view_name": "LayoutView",
      "align_content": null,
      "align_items": null,
      "align_self": null,
      "border": null,
      "bottom": null,
      "display": null,
      "flex": null,
      "flex_flow": null,
      "grid_area": null,
      "grid_auto_columns": null,
      "grid_auto_flow": null,
      "grid_auto_rows": null,
      "grid_column": null,
      "grid_gap": null,
      "grid_row": null,
      "grid_template_areas": null,
      "grid_template_columns": null,
      "grid_template_rows": null,
      "height": null,
      "justify_content": null,
      "justify_items": null,
      "left": null,
      "margin": null,
      "max_height": null,
      "max_width": null,
      "min_height": null,
      "min_width": null,
      "object_fit": null,
      "object_position": null,
      "order": null,
      "overflow": null,
      "overflow_x": null,
      "overflow_y": null,
      "padding": null,
      "right": null,
      "top": null,
      "visibility": null,
      "width": null
     }
    },
    "477c39a39255423d87b5da26773020e6": {
     "model_module": "@jupyter-widgets/base",
     "model_module_version": "1.2.0",
     "model_name": "LayoutModel",
     "state": {
      "_model_module": "@jupyter-widgets/base",
      "_model_module_version": "1.2.0",
      "_model_name": "LayoutModel",
      "_view_count": null,
      "_view_module": "@jupyter-widgets/base",
      "_view_module_version": "1.2.0",
      "_view_name": "LayoutView",
      "align_content": null,
      "align_items": null,
      "align_self": null,
      "border": null,
      "bottom": null,
      "display": null,
      "flex": null,
      "flex_flow": null,
      "grid_area": null,
      "grid_auto_columns": null,
      "grid_auto_flow": null,
      "grid_auto_rows": null,
      "grid_column": null,
      "grid_gap": null,
      "grid_row": null,
      "grid_template_areas": null,
      "grid_template_columns": null,
      "grid_template_rows": null,
      "height": null,
      "justify_content": null,
      "justify_items": null,
      "left": null,
      "margin": null,
      "max_height": null,
      "max_width": null,
      "min_height": null,
      "min_width": null,
      "object_fit": null,
      "object_position": null,
      "order": null,
      "overflow": null,
      "overflow_x": null,
      "overflow_y": null,
      "padding": null,
      "right": null,
      "top": null,
      "visibility": null,
      "width": null
     }
    },
    "479cf5f9321844f6a0f1b69818470c0b": {
     "model_module": "@jupyter-widgets/controls",
     "model_module_version": "1.5.0",
     "model_name": "DescriptionStyleModel",
     "state": {
      "_model_module": "@jupyter-widgets/controls",
      "_model_module_version": "1.5.0",
      "_model_name": "DescriptionStyleModel",
      "_view_count": null,
      "_view_module": "@jupyter-widgets/base",
      "_view_module_version": "1.2.0",
      "_view_name": "StyleView",
      "description_width": ""
     }
    },
    "47b45f3f997d45f4a436bd8ec8721ace": {
     "model_module": "@jupyter-widgets/controls",
     "model_module_version": "1.5.0",
     "model_name": "DescriptionStyleModel",
     "state": {
      "_model_module": "@jupyter-widgets/controls",
      "_model_module_version": "1.5.0",
      "_model_name": "DescriptionStyleModel",
      "_view_count": null,
      "_view_module": "@jupyter-widgets/base",
      "_view_module_version": "1.2.0",
      "_view_name": "StyleView",
      "description_width": ""
     }
    },
    "4813d2270aae458e9598a9a684e2118b": {
     "model_module": "@jupyter-widgets/controls",
     "model_module_version": "1.5.0",
     "model_name": "HTMLModel",
     "state": {
      "_dom_classes": [],
      "_model_module": "@jupyter-widgets/controls",
      "_model_module_version": "1.5.0",
      "_model_name": "HTMLModel",
      "_view_count": null,
      "_view_module": "@jupyter-widgets/controls",
      "_view_module_version": "1.5.0",
      "_view_name": "HTMLView",
      "description": "",
      "description_tooltip": null,
      "layout": "IPY_MODEL_9a7187aaef8c47c49493e76515e30746",
      "placeholder": "​",
      "style": "IPY_MODEL_abbc0b0bcce14f1f99fb53f67603eaa5",
      "value": "Generating java_train split: 100%"
     }
    },
    "4981ceb229f14dafa9ed9f5ffbe85bc3": {
     "model_module": "@jupyter-widgets/controls",
     "model_module_version": "1.5.0",
     "model_name": "HBoxModel",
     "state": {
      "_dom_classes": [],
      "_model_module": "@jupyter-widgets/controls",
      "_model_module_version": "1.5.0",
      "_model_name": "HBoxModel",
      "_view_count": null,
      "_view_module": "@jupyter-widgets/controls",
      "_view_module_version": "1.5.0",
      "_view_name": "HBoxView",
      "box_style": "",
      "children": [
       "IPY_MODEL_9538ecbda55f4222b12ef7858c1a8550",
       "IPY_MODEL_f4ecc921e7df4b38b4fb8c2236aaafc0",
       "IPY_MODEL_1d745e2e50424bd59a66cdd45161cb51"
      ],
      "layout": "IPY_MODEL_c86adf6bcd3e49ac9485865bd3b21302"
     }
    },
    "4a0b98d8a4d84bd8b3b440f695f8be7d": {
     "model_module": "@jupyter-widgets/controls",
     "model_module_version": "1.5.0",
     "model_name": "FloatProgressModel",
     "state": {
      "_dom_classes": [],
      "_model_module": "@jupyter-widgets/controls",
      "_model_module_version": "1.5.0",
      "_model_name": "FloatProgressModel",
      "_view_count": null,
      "_view_module": "@jupyter-widgets/controls",
      "_view_module_version": "1.5.0",
      "_view_name": "ProgressView",
      "bar_style": "success",
      "description": "",
      "description_tooltip": null,
      "layout": "IPY_MODEL_8a2f5002d769412199829dbec0b9c9be",
      "max": 498,
      "min": 0,
      "orientation": "horizontal",
      "style": "IPY_MODEL_cfc2e0112c364adf8253f450bcf70252",
      "value": 498
     }
    },
    "4a910cc8b7fb4abaa0fcb9cb70805673": {
     "model_module": "@jupyter-widgets/controls",
     "model_module_version": "1.5.0",
     "model_name": "FloatProgressModel",
     "state": {
      "_dom_classes": [],
      "_model_module": "@jupyter-widgets/controls",
      "_model_module_version": "1.5.0",
      "_model_name": "FloatProgressModel",
      "_view_count": null,
      "_view_module": "@jupyter-widgets/controls",
      "_view_module_version": "1.5.0",
      "_view_name": "ProgressView",
      "bar_style": "success",
      "description": "",
      "description_tooltip": null,
      "layout": "IPY_MODEL_2633111d0b354b389c8440740b60f12f",
      "max": 150,
      "min": 0,
      "orientation": "horizontal",
      "style": "IPY_MODEL_12614d7af9334cfdb7beb02cb4f1645f",
      "value": 150
     }
    },
    "4ba2b49944b047b2ac00dd6f9372b1b4": {
     "model_module": "@jupyter-widgets/controls",
     "model_module_version": "1.5.0",
     "model_name": "DescriptionStyleModel",
     "state": {
      "_model_module": "@jupyter-widgets/controls",
      "_model_module_version": "1.5.0",
      "_model_name": "DescriptionStyleModel",
      "_view_count": null,
      "_view_module": "@jupyter-widgets/base",
      "_view_module_version": "1.2.0",
      "_view_name": "StyleView",
      "description_width": ""
     }
    },
    "4bebd2f4ef144d45bee6ee3c64758b3b": {
     "model_module": "@jupyter-widgets/controls",
     "model_module_version": "1.5.0",
     "model_name": "HTMLModel",
     "state": {
      "_dom_classes": [],
      "_model_module": "@jupyter-widgets/controls",
      "_model_module_version": "1.5.0",
      "_model_name": "HTMLModel",
      "_view_count": null,
      "_view_module": "@jupyter-widgets/controls",
      "_view_module_version": "1.5.0",
      "_view_name": "HTMLView",
      "description": "",
      "description_tooltip": null,
      "layout": "IPY_MODEL_5753602be1ed430ca3f5dc45534b814a",
      "placeholder": "​",
      "style": "IPY_MODEL_e0d17b6108694dd781d79b150f7d1a11",
      "value": " 899k/899k [00:00&lt;00:00, 13.4MB/s]"
     }
    },
    "4c42e72c63a7404c8e9cc23c356918b4": {
     "model_module": "@jupyter-widgets/controls",
     "model_module_version": "1.5.0",
     "model_name": "HTMLModel",
     "state": {
      "_dom_classes": [],
      "_model_module": "@jupyter-widgets/controls",
      "_model_module_version": "1.5.0",
      "_model_name": "HTMLModel",
      "_view_count": null,
      "_view_module": "@jupyter-widgets/controls",
      "_view_module_version": "1.5.0",
      "_view_name": "HTMLView",
      "description": "",
      "description_tooltip": null,
      "layout": "IPY_MODEL_3fa0fd11c10f4a7082ed92efdbb1d14b",
      "placeholder": "​",
      "style": "IPY_MODEL_deb94014cbc845c29442ae39b0ab441a",
      "value": " 126k/126k [00:00&lt;00:00, 2.69MB/s]"
     }
    },
    "4ed50a93a0e84396b77661b52f38d2c8": {
     "model_module": "@jupyter-widgets/controls",
     "model_module_version": "1.5.0",
     "model_name": "HTMLModel",
     "state": {
      "_dom_classes": [],
      "_model_module": "@jupyter-widgets/controls",
      "_model_module_version": "1.5.0",
      "_model_name": "HTMLModel",
      "_view_count": null,
      "_view_module": "@jupyter-widgets/controls",
      "_view_module_version": "1.5.0",
      "_view_name": "HTMLView",
      "description": "",
      "description_tooltip": null,
      "layout": "IPY_MODEL_2d82657017044223aba6c5ba4570e4d6",
      "placeholder": "​",
      "style": "IPY_MODEL_f33c6262262e421992b30cdb6e9efcfb",
      "value": " 7614/7614 [00:00&lt;00:00, 7558.91 examples/s]"
     }
    },
    "4ee75299589445268946e13588c9ec45": {
     "model_module": "@jupyter-widgets/controls",
     "model_module_version": "1.5.0",
     "model_name": "FloatProgressModel",
     "state": {
      "_dom_classes": [],
      "_model_module": "@jupyter-widgets/controls",
      "_model_module_version": "1.5.0",
      "_model_name": "FloatProgressModel",
      "_view_count": null,
      "_view_module": "@jupyter-widgets/controls",
      "_view_module_version": "1.5.0",
      "_view_name": "ProgressView",
      "bar_style": "success",
      "description": "",
      "description_tooltip": null,
      "layout": "IPY_MODEL_8fcc413058d840d987f71267083d2242",
      "max": 126140,
      "min": 0,
      "orientation": "horizontal",
      "style": "IPY_MODEL_e1985d53d4674d9eb6a8a3aea50d1b43",
      "value": 126140
     }
    },
    "50c735c1781f4a4fbfc1b51c80bbf7f8": {
     "model_module": "@jupyter-widgets/controls",
     "model_module_version": "1.5.0",
     "model_name": "HBoxModel",
     "state": {
      "_dom_classes": [],
      "_model_module": "@jupyter-widgets/controls",
      "_model_module_version": "1.5.0",
      "_model_name": "HBoxModel",
      "_view_count": null,
      "_view_module": "@jupyter-widgets/controls",
      "_view_module_version": "1.5.0",
      "_view_name": "HBoxView",
      "box_style": "",
      "children": [
       "IPY_MODEL_2891c95b17464936b04f40096f82b294",
       "IPY_MODEL_b7ebf53d40714d9ba04d91cb64564914",
       "IPY_MODEL_6583bb08895345ee8bbb27188345952e"
      ],
      "layout": "IPY_MODEL_e432540973c147ba80189b87b44099b3"
     }
    },
    "515447fe659b4c60b125cae6b8f57ba7": {
     "model_module": "@jupyter-widgets/controls",
     "model_module_version": "1.5.0",
     "model_name": "ProgressStyleModel",
     "state": {
      "_model_module": "@jupyter-widgets/controls",
      "_model_module_version": "1.5.0",
      "_model_name": "ProgressStyleModel",
      "_view_count": null,
      "_view_module": "@jupyter-widgets/base",
      "_view_module_version": "1.2.0",
      "_view_name": "StyleView",
      "bar_color": null,
      "description_width": ""
     }
    },
    "52dcfbcb2359411186b0e688d2f14a48": {
     "model_module": "@jupyter-widgets/controls",
     "model_module_version": "1.5.0",
     "model_name": "HTMLModel",
     "state": {
      "_dom_classes": [],
      "_model_module": "@jupyter-widgets/controls",
      "_model_module_version": "1.5.0",
      "_model_name": "HTMLModel",
      "_view_count": null,
      "_view_module": "@jupyter-widgets/controls",
      "_view_module_version": "1.5.0",
      "_view_name": "HTMLView",
      "description": "",
      "description_tooltip": null,
      "layout": "IPY_MODEL_9a4c9a871331424e9b501c1b259abea9",
      "placeholder": "​",
      "style": "IPY_MODEL_db6bf7213e684ef8bf624bad3f78001a",
      "value": "Generating python_test split: 100%"
     }
    },
    "537def39718c469dbc17a1cee4fa39a1": {
     "model_module": "@jupyter-widgets/controls",
     "model_module_version": "1.5.0",
     "model_name": "DescriptionStyleModel",
     "state": {
      "_model_module": "@jupyter-widgets/controls",
      "_model_module_version": "1.5.0",
      "_model_name": "DescriptionStyleModel",
      "_view_count": null,
      "_view_module": "@jupyter-widgets/base",
      "_view_module_version": "1.2.0",
      "_view_name": "StyleView",
      "description_width": ""
     }
    },
    "54488c70006e43f1b9b8db996b0122d2": {
     "model_module": "@jupyter-widgets/controls",
     "model_module_version": "1.5.0",
     "model_name": "DescriptionStyleModel",
     "state": {
      "_model_module": "@jupyter-widgets/controls",
      "_model_module_version": "1.5.0",
      "_model_name": "DescriptionStyleModel",
      "_view_count": null,
      "_view_module": "@jupyter-widgets/base",
      "_view_module_version": "1.2.0",
      "_view_name": "StyleView",
      "description_width": ""
     }
    },
    "551dd2c2ce304f86ba9bff366735fa06": {
     "model_module": "@jupyter-widgets/base",
     "model_module_version": "1.2.0",
     "model_name": "LayoutModel",
     "state": {
      "_model_module": "@jupyter-widgets/base",
      "_model_module_version": "1.2.0",
      "_model_name": "LayoutModel",
      "_view_count": null,
      "_view_module": "@jupyter-widgets/base",
      "_view_module_version": "1.2.0",
      "_view_name": "LayoutView",
      "align_content": null,
      "align_items": null,
      "align_self": null,
      "border": null,
      "bottom": null,
      "display": null,
      "flex": null,
      "flex_flow": null,
      "grid_area": null,
      "grid_auto_columns": null,
      "grid_auto_flow": null,
      "grid_auto_rows": null,
      "grid_column": null,
      "grid_gap": null,
      "grid_row": null,
      "grid_template_areas": null,
      "grid_template_columns": null,
      "grid_template_rows": null,
      "height": null,
      "justify_content": null,
      "justify_items": null,
      "left": null,
      "margin": null,
      "max_height": null,
      "max_width": null,
      "min_height": null,
      "min_width": null,
      "object_fit": null,
      "object_position": null,
      "order": null,
      "overflow": null,
      "overflow_x": null,
      "overflow_y": null,
      "padding": null,
      "right": null,
      "top": null,
      "visibility": null,
      "width": null
     }
    },
    "554ddd9f64934ad08b3c8ecf44450e18": {
     "model_module": "@jupyter-widgets/base",
     "model_module_version": "1.2.0",
     "model_name": "LayoutModel",
     "state": {
      "_model_module": "@jupyter-widgets/base",
      "_model_module_version": "1.2.0",
      "_model_name": "LayoutModel",
      "_view_count": null,
      "_view_module": "@jupyter-widgets/base",
      "_view_module_version": "1.2.0",
      "_view_name": "LayoutView",
      "align_content": null,
      "align_items": null,
      "align_self": null,
      "border": null,
      "bottom": null,
      "display": null,
      "flex": null,
      "flex_flow": null,
      "grid_area": null,
      "grid_auto_columns": null,
      "grid_auto_flow": null,
      "grid_auto_rows": null,
      "grid_column": null,
      "grid_gap": null,
      "grid_row": null,
      "grid_template_areas": null,
      "grid_template_columns": null,
      "grid_template_rows": null,
      "height": null,
      "justify_content": null,
      "justify_items": null,
      "left": null,
      "margin": null,
      "max_height": null,
      "max_width": null,
      "min_height": null,
      "min_width": null,
      "object_fit": null,
      "object_position": null,
      "order": null,
      "overflow": null,
      "overflow_x": null,
      "overflow_y": null,
      "padding": null,
      "right": null,
      "top": null,
      "visibility": null,
      "width": null
     }
    },
    "5579bdc3b3244a0ba11e34f40fd3c0fb": {
     "model_module": "@jupyter-widgets/controls",
     "model_module_version": "1.5.0",
     "model_name": "FloatProgressModel",
     "state": {
      "_dom_classes": [],
      "_model_module": "@jupyter-widgets/controls",
      "_model_module_version": "1.5.0",
      "_model_name": "FloatProgressModel",
      "_view_count": null,
      "_view_module": "@jupyter-widgets/controls",
      "_view_module_version": "1.5.0",
      "_view_name": "ProgressView",
      "bar_style": "success",
      "description": "",
      "description_tooltip": null,
      "layout": "IPY_MODEL_a75a1fe0be094e89970e328643927022",
      "max": 112896,
      "min": 0,
      "orientation": "horizontal",
      "style": "IPY_MODEL_2580e623185540fca441c17f0f346ba6",
      "value": 112896
     }
    },
    "560fe91457a24fde837c9e31de5b8e25": {
     "model_module": "@jupyter-widgets/controls",
     "model_module_version": "1.5.0",
     "model_name": "DescriptionStyleModel",
     "state": {
      "_model_module": "@jupyter-widgets/controls",
      "_model_module_version": "1.5.0",
      "_model_name": "DescriptionStyleModel",
      "_view_count": null,
      "_view_module": "@jupyter-widgets/base",
      "_view_module_version": "1.2.0",
      "_view_name": "StyleView",
      "description_width": ""
     }
    },
    "5753602be1ed430ca3f5dc45534b814a": {
     "model_module": "@jupyter-widgets/base",
     "model_module_version": "1.2.0",
     "model_name": "LayoutModel",
     "state": {
      "_model_module": "@jupyter-widgets/base",
      "_model_module_version": "1.2.0",
      "_model_name": "LayoutModel",
      "_view_count": null,
      "_view_module": "@jupyter-widgets/base",
      "_view_module_version": "1.2.0",
      "_view_name": "LayoutView",
      "align_content": null,
      "align_items": null,
      "align_self": null,
      "border": null,
      "bottom": null,
      "display": null,
      "flex": null,
      "flex_flow": null,
      "grid_area": null,
      "grid_auto_columns": null,
      "grid_auto_flow": null,
      "grid_auto_rows": null,
      "grid_column": null,
      "grid_gap": null,
      "grid_row": null,
      "grid_template_areas": null,
      "grid_template_columns": null,
      "grid_template_rows": null,
      "height": null,
      "justify_content": null,
      "justify_items": null,
      "left": null,
      "margin": null,
      "max_height": null,
      "max_width": null,
      "min_height": null,
      "min_width": null,
      "object_fit": null,
      "object_position": null,
      "order": null,
      "overflow": null,
      "overflow_x": null,
      "overflow_y": null,
      "padding": null,
      "right": null,
      "top": null,
      "visibility": null,
      "width": null
     }
    },
    "599533740eb64cf3acbaeeac9d14e5d9": {
     "model_module": "@jupyter-widgets/base",
     "model_module_version": "1.2.0",
     "model_name": "LayoutModel",
     "state": {
      "_model_module": "@jupyter-widgets/base",
      "_model_module_version": "1.2.0",
      "_model_name": "LayoutModel",
      "_view_count": null,
      "_view_module": "@jupyter-widgets/base",
      "_view_module_version": "1.2.0",
      "_view_name": "LayoutView",
      "align_content": null,
      "align_items": null,
      "align_self": null,
      "border": null,
      "bottom": null,
      "display": null,
      "flex": null,
      "flex_flow": null,
      "grid_area": null,
      "grid_auto_columns": null,
      "grid_auto_flow": null,
      "grid_auto_rows": null,
      "grid_column": null,
      "grid_gap": null,
      "grid_row": null,
      "grid_template_areas": null,
      "grid_template_columns": null,
      "grid_template_rows": null,
      "height": null,
      "justify_content": null,
      "justify_items": null,
      "left": null,
      "margin": null,
      "max_height": null,
      "max_width": null,
      "min_height": null,
      "min_width": null,
      "object_fit": null,
      "object_position": null,
      "order": null,
      "overflow": null,
      "overflow_x": null,
      "overflow_y": null,
      "padding": null,
      "right": null,
      "top": null,
      "visibility": null,
      "width": null
     }
    },
    "59af57ab79d54256a091ecf33c732f75": {
     "model_module": "@jupyter-widgets/base",
     "model_module_version": "1.2.0",
     "model_name": "LayoutModel",
     "state": {
      "_model_module": "@jupyter-widgets/base",
      "_model_module_version": "1.2.0",
      "_model_name": "LayoutModel",
      "_view_count": null,
      "_view_module": "@jupyter-widgets/base",
      "_view_module_version": "1.2.0",
      "_view_name": "LayoutView",
      "align_content": null,
      "align_items": null,
      "align_self": null,
      "border": null,
      "bottom": null,
      "display": null,
      "flex": null,
      "flex_flow": null,
      "grid_area": null,
      "grid_auto_columns": null,
      "grid_auto_flow": null,
      "grid_auto_rows": null,
      "grid_column": null,
      "grid_gap": null,
      "grid_row": null,
      "grid_template_areas": null,
      "grid_template_columns": null,
      "grid_template_rows": null,
      "height": null,
      "justify_content": null,
      "justify_items": null,
      "left": null,
      "margin": null,
      "max_height": null,
      "max_width": null,
      "min_height": null,
      "min_width": null,
      "object_fit": null,
      "object_position": null,
      "order": null,
      "overflow": null,
      "overflow_x": null,
      "overflow_y": null,
      "padding": null,
      "right": null,
      "top": null,
      "visibility": null,
      "width": null
     }
    },
    "59b23bdab7aa47dd895deb93b9c6a4a9": {
     "model_module": "@jupyter-widgets/controls",
     "model_module_version": "1.5.0",
     "model_name": "HBoxModel",
     "state": {
      "_dom_classes": [],
      "_model_module": "@jupyter-widgets/controls",
      "_model_module_version": "1.5.0",
      "_model_name": "HBoxModel",
      "_view_count": null,
      "_view_module": "@jupyter-widgets/controls",
      "_view_module_version": "1.5.0",
      "_view_name": "HBoxView",
      "box_style": "",
      "children": [
       "IPY_MODEL_8513da1b95274a8ab99e1d3cdd900e3e",
       "IPY_MODEL_5aba595de1f144fd86e093f0e79d07a7",
       "IPY_MODEL_a01516c3c8a741a3ad6d5300cc125e60"
      ],
      "layout": "IPY_MODEL_3c6d6c0aaf6544daad35b532fb5bb16c"
     }
    },
    "59c5e931d7054950901d545e81790966": {
     "model_module": "@jupyter-widgets/base",
     "model_module_version": "1.2.0",
     "model_name": "LayoutModel",
     "state": {
      "_model_module": "@jupyter-widgets/base",
      "_model_module_version": "1.2.0",
      "_model_name": "LayoutModel",
      "_view_count": null,
      "_view_module": "@jupyter-widgets/base",
      "_view_module_version": "1.2.0",
      "_view_name": "LayoutView",
      "align_content": null,
      "align_items": null,
      "align_self": null,
      "border": null,
      "bottom": null,
      "display": null,
      "flex": null,
      "flex_flow": null,
      "grid_area": null,
      "grid_auto_columns": null,
      "grid_auto_flow": null,
      "grid_auto_rows": null,
      "grid_column": null,
      "grid_gap": null,
      "grid_row": null,
      "grid_template_areas": null,
      "grid_template_columns": null,
      "grid_template_rows": null,
      "height": null,
      "justify_content": null,
      "justify_items": null,
      "left": null,
      "margin": null,
      "max_height": null,
      "max_width": null,
      "min_height": null,
      "min_width": null,
      "object_fit": null,
      "object_position": null,
      "order": null,
      "overflow": null,
      "overflow_x": null,
      "overflow_y": null,
      "padding": null,
      "right": null,
      "top": null,
      "visibility": null,
      "width": null
     }
    },
    "5aba595de1f144fd86e093f0e79d07a7": {
     "model_module": "@jupyter-widgets/controls",
     "model_module_version": "1.5.0",
     "model_name": "FloatProgressModel",
     "state": {
      "_dom_classes": [],
      "_model_module": "@jupyter-widgets/controls",
      "_model_module_version": "1.5.0",
      "_model_name": "FloatProgressModel",
      "_view_count": null,
      "_view_module": "@jupyter-widgets/controls",
      "_view_module_version": "1.5.0",
      "_view_name": "ProgressView",
      "bar_style": "success",
      "description": "",
      "description_tooltip": null,
      "layout": "IPY_MODEL_4193870d9d354bd4867e0101abb18409",
      "max": 25,
      "min": 0,
      "orientation": "horizontal",
      "style": "IPY_MODEL_8f60d68f6d584c41802bd636c05691e3",
      "value": 25
     }
    },
    "5b4d59fabbbb44b6910f732d7dbc9502": {
     "model_module": "@jupyter-widgets/controls",
     "model_module_version": "1.5.0",
     "model_name": "HTMLModel",
     "state": {
      "_dom_classes": [],
      "_model_module": "@jupyter-widgets/controls",
      "_model_module_version": "1.5.0",
      "_model_name": "HTMLModel",
      "_view_count": null,
      "_view_module": "@jupyter-widgets/controls",
      "_view_module_version": "1.5.0",
      "_view_name": "HTMLView",
      "description": "",
      "description_tooltip": null,
      "layout": "IPY_MODEL_bbdb741d146b47a785e607186aef802e",
      "placeholder": "​",
      "style": "IPY_MODEL_24315118c81d491cad8bae50dd646659",
      "value": " 406/406 [00:00&lt;00:00, 8718.90 examples/s]"
     }
    },
    "5cb082fd23434139b8f91bc59af43108": {
     "model_module": "@jupyter-widgets/base",
     "model_module_version": "1.2.0",
     "model_name": "LayoutModel",
     "state": {
      "_model_module": "@jupyter-widgets/base",
      "_model_module_version": "1.2.0",
      "_model_name": "LayoutModel",
      "_view_count": null,
      "_view_module": "@jupyter-widgets/base",
      "_view_module_version": "1.2.0",
      "_view_name": "LayoutView",
      "align_content": null,
      "align_items": null,
      "align_self": null,
      "border": null,
      "bottom": null,
      "display": null,
      "flex": null,
      "flex_flow": null,
      "grid_area": null,
      "grid_auto_columns": null,
      "grid_auto_flow": null,
      "grid_auto_rows": null,
      "grid_column": null,
      "grid_gap": null,
      "grid_row": null,
      "grid_template_areas": null,
      "grid_template_columns": null,
      "grid_template_rows": null,
      "height": null,
      "justify_content": null,
      "justify_items": null,
      "left": null,
      "margin": null,
      "max_height": null,
      "max_width": null,
      "min_height": null,
      "min_width": null,
      "object_fit": null,
      "object_position": null,
      "order": null,
      "overflow": null,
      "overflow_x": null,
      "overflow_y": null,
      "padding": null,
      "right": null,
      "top": null,
      "visibility": null,
      "width": null
     }
    },
    "5f292afeefb7491289e7bc14d2be8801": {
     "model_module": "@jupyter-widgets/controls",
     "model_module_version": "1.5.0",
     "model_name": "FloatProgressModel",
     "state": {
      "_dom_classes": [],
      "_model_module": "@jupyter-widgets/controls",
      "_model_module_version": "1.5.0",
      "_model_name": "FloatProgressModel",
      "_view_count": null,
      "_view_module": "@jupyter-widgets/controls",
      "_view_module_version": "1.5.0",
      "_view_name": "ProgressView",
      "bar_style": "success",
      "description": "",
      "description_tooltip": null,
      "layout": "IPY_MODEL_f17064c88cb04bdd9ea8b241b310f473",
      "max": 1884,
      "min": 0,
      "orientation": "horizontal",
      "style": "IPY_MODEL_af7feca4b6ae465d91078b374a31a49b",
      "value": 1884
     }
    },
    "60b51ba3227f48ca802e4e3db47d1be5": {
     "model_module": "@jupyter-widgets/base",
     "model_module_version": "1.2.0",
     "model_name": "LayoutModel",
     "state": {
      "_model_module": "@jupyter-widgets/base",
      "_model_module_version": "1.2.0",
      "_model_name": "LayoutModel",
      "_view_count": null,
      "_view_module": "@jupyter-widgets/base",
      "_view_module_version": "1.2.0",
      "_view_name": "LayoutView",
      "align_content": null,
      "align_items": null,
      "align_self": null,
      "border": null,
      "bottom": null,
      "display": null,
      "flex": null,
      "flex_flow": null,
      "grid_area": null,
      "grid_auto_columns": null,
      "grid_auto_flow": null,
      "grid_auto_rows": null,
      "grid_column": null,
      "grid_gap": null,
      "grid_row": null,
      "grid_template_areas": null,
      "grid_template_columns": null,
      "grid_template_rows": null,
      "height": null,
      "justify_content": null,
      "justify_items": null,
      "left": null,
      "margin": null,
      "max_height": null,
      "max_width": null,
      "min_height": null,
      "min_width": null,
      "object_fit": null,
      "object_position": null,
      "order": null,
      "overflow": null,
      "overflow_x": null,
      "overflow_y": null,
      "padding": null,
      "right": null,
      "top": null,
      "visibility": null,
      "width": null
     }
    },
    "60da09d2a8b649c8b5364932a4272c78": {
     "model_module": "@jupyter-widgets/controls",
     "model_module_version": "1.5.0",
     "model_name": "HTMLModel",
     "state": {
      "_dom_classes": [],
      "_model_module": "@jupyter-widgets/controls",
      "_model_module_version": "1.5.0",
      "_model_name": "HTMLModel",
      "_view_count": null,
      "_view_module": "@jupyter-widgets/controls",
      "_view_module_version": "1.5.0",
      "_view_name": "HTMLView",
      "description": "",
      "description_tooltip": null,
      "layout": "IPY_MODEL_a1fc2b23a95f4a12815052a80e4a5b14",
      "placeholder": "​",
      "style": "IPY_MODEL_1d6f0affb68145b0b05925d412bfe8cc",
      "value": "Map: 100%"
     }
    },
    "618d600163a84ef9baa39a6318e4a8ac": {
     "model_module": "@jupyter-widgets/controls",
     "model_module_version": "1.5.0",
     "model_name": "DescriptionStyleModel",
     "state": {
      "_model_module": "@jupyter-widgets/controls",
      "_model_module_version": "1.5.0",
      "_model_name": "DescriptionStyleModel",
      "_view_count": null,
      "_view_module": "@jupyter-widgets/base",
      "_view_module_version": "1.2.0",
      "_view_name": "StyleView",
      "description_width": ""
     }
    },
    "62f104b94493449f84d0f6540e0837fa": {
     "model_module": "@jupyter-widgets/base",
     "model_module_version": "1.2.0",
     "model_name": "LayoutModel",
     "state": {
      "_model_module": "@jupyter-widgets/base",
      "_model_module_version": "1.2.0",
      "_model_name": "LayoutModel",
      "_view_count": null,
      "_view_module": "@jupyter-widgets/base",
      "_view_module_version": "1.2.0",
      "_view_name": "LayoutView",
      "align_content": null,
      "align_items": null,
      "align_self": null,
      "border": null,
      "bottom": null,
      "display": null,
      "flex": null,
      "flex_flow": null,
      "grid_area": null,
      "grid_auto_columns": null,
      "grid_auto_flow": null,
      "grid_auto_rows": null,
      "grid_column": null,
      "grid_gap": null,
      "grid_row": null,
      "grid_template_areas": null,
      "grid_template_columns": null,
      "grid_template_rows": null,
      "height": null,
      "justify_content": null,
      "justify_items": null,
      "left": null,
      "margin": null,
      "max_height": null,
      "max_width": null,
      "min_height": null,
      "min_width": null,
      "object_fit": null,
      "object_position": null,
      "order": null,
      "overflow": null,
      "overflow_x": null,
      "overflow_y": null,
      "padding": null,
      "right": null,
      "top": null,
      "visibility": null,
      "width": null
     }
    },
    "62fd31007cee4b1e8829d079df4816b0": {
     "model_module": "@jupyter-widgets/base",
     "model_module_version": "1.2.0",
     "model_name": "LayoutModel",
     "state": {
      "_model_module": "@jupyter-widgets/base",
      "_model_module_version": "1.2.0",
      "_model_name": "LayoutModel",
      "_view_count": null,
      "_view_module": "@jupyter-widgets/base",
      "_view_module_version": "1.2.0",
      "_view_name": "LayoutView",
      "align_content": null,
      "align_items": null,
      "align_self": null,
      "border": null,
      "bottom": null,
      "display": null,
      "flex": null,
      "flex_flow": null,
      "grid_area": null,
      "grid_auto_columns": null,
      "grid_auto_flow": null,
      "grid_auto_rows": null,
      "grid_column": null,
      "grid_gap": null,
      "grid_row": null,
      "grid_template_areas": null,
      "grid_template_columns": null,
      "grid_template_rows": null,
      "height": null,
      "justify_content": null,
      "justify_items": null,
      "left": null,
      "margin": null,
      "max_height": null,
      "max_width": null,
      "min_height": null,
      "min_width": null,
      "object_fit": null,
      "object_position": null,
      "order": null,
      "overflow": null,
      "overflow_x": null,
      "overflow_y": null,
      "padding": null,
      "right": null,
      "top": null,
      "visibility": null,
      "width": null
     }
    },
    "63e46e2a4cdc43f88f9c0fa5f7c1242f": {
     "model_module": "@jupyter-widgets/controls",
     "model_module_version": "1.5.0",
     "model_name": "DescriptionStyleModel",
     "state": {
      "_model_module": "@jupyter-widgets/controls",
      "_model_module_version": "1.5.0",
      "_model_name": "DescriptionStyleModel",
      "_view_count": null,
      "_view_module": "@jupyter-widgets/base",
      "_view_module_version": "1.2.0",
      "_view_name": "StyleView",
      "description_width": ""
     }
    },
    "6583bb08895345ee8bbb27188345952e": {
     "model_module": "@jupyter-widgets/controls",
     "model_module_version": "1.5.0",
     "model_name": "HTMLModel",
     "state": {
      "_dom_classes": [],
      "_model_module": "@jupyter-widgets/controls",
      "_model_module_version": "1.5.0",
      "_model_name": "HTMLModel",
      "_view_count": null,
      "_view_module": "@jupyter-widgets/controls",
      "_view_module_version": "1.5.0",
      "_view_name": "HTMLView",
      "description": "",
      "description_tooltip": null,
      "layout": "IPY_MODEL_554ddd9f64934ad08b3c8ecf44450e18",
      "placeholder": "​",
      "style": "IPY_MODEL_dd6ecdcc60a84e5382023502b8df23a8",
      "value": " 1298/1298 [00:00&lt;00:00, 30907.70 examples/s]"
     }
    },
    "65a6b303a0734de8a853ea51431be201": {
     "model_module": "@jupyter-widgets/base",
     "model_module_version": "1.2.0",
     "model_name": "LayoutModel",
     "state": {
      "_model_module": "@jupyter-widgets/base",
      "_model_module_version": "1.2.0",
      "_model_name": "LayoutModel",
      "_view_count": null,
      "_view_module": "@jupyter-widgets/base",
      "_view_module_version": "1.2.0",
      "_view_name": "LayoutView",
      "align_content": null,
      "align_items": null,
      "align_self": null,
      "border": null,
      "bottom": null,
      "display": null,
      "flex": null,
      "flex_flow": null,
      "grid_area": null,
      "grid_auto_columns": null,
      "grid_auto_flow": null,
      "grid_auto_rows": null,
      "grid_column": null,
      "grid_gap": null,
      "grid_row": null,
      "grid_template_areas": null,
      "grid_template_columns": null,
      "grid_template_rows": null,
      "height": null,
      "justify_content": null,
      "justify_items": null,
      "left": null,
      "margin": null,
      "max_height": null,
      "max_width": null,
      "min_height": null,
      "min_width": null,
      "object_fit": null,
      "object_position": null,
      "order": null,
      "overflow": null,
      "overflow_x": null,
      "overflow_y": null,
      "padding": null,
      "right": null,
      "top": null,
      "visibility": null,
      "width": null
     }
    },
    "66a91d30748a452e9026bff2ea6786a3": {
     "model_module": "@jupyter-widgets/base",
     "model_module_version": "1.2.0",
     "model_name": "LayoutModel",
     "state": {
      "_model_module": "@jupyter-widgets/base",
      "_model_module_version": "1.2.0",
      "_model_name": "LayoutModel",
      "_view_count": null,
      "_view_module": "@jupyter-widgets/base",
      "_view_module_version": "1.2.0",
      "_view_name": "LayoutView",
      "align_content": null,
      "align_items": null,
      "align_self": null,
      "border": null,
      "bottom": null,
      "display": null,
      "flex": null,
      "flex_flow": null,
      "grid_area": null,
      "grid_auto_columns": null,
      "grid_auto_flow": null,
      "grid_auto_rows": null,
      "grid_column": null,
      "grid_gap": null,
      "grid_row": null,
      "grid_template_areas": null,
      "grid_template_columns": null,
      "grid_template_rows": null,
      "height": null,
      "justify_content": null,
      "justify_items": null,
      "left": null,
      "margin": null,
      "max_height": null,
      "max_width": null,
      "min_height": null,
      "min_width": null,
      "object_fit": null,
      "object_position": null,
      "order": null,
      "overflow": null,
      "overflow_x": null,
      "overflow_y": null,
      "padding": null,
      "right": null,
      "top": null,
      "visibility": null,
      "width": null
     }
    },
    "6744a22b997b4147b0f820123a106dcc": {
     "model_module": "@jupyter-widgets/controls",
     "model_module_version": "1.5.0",
     "model_name": "DescriptionStyleModel",
     "state": {
      "_model_module": "@jupyter-widgets/controls",
      "_model_module_version": "1.5.0",
      "_model_name": "DescriptionStyleModel",
      "_view_count": null,
      "_view_module": "@jupyter-widgets/base",
      "_view_module_version": "1.2.0",
      "_view_name": "StyleView",
      "description_width": ""
     }
    },
    "688b3fe3367540df9abc519caf10c6d0": {
     "model_module": "@jupyter-widgets/base",
     "model_module_version": "1.2.0",
     "model_name": "LayoutModel",
     "state": {
      "_model_module": "@jupyter-widgets/base",
      "_model_module_version": "1.2.0",
      "_model_name": "LayoutModel",
      "_view_count": null,
      "_view_module": "@jupyter-widgets/base",
      "_view_module_version": "1.2.0",
      "_view_name": "LayoutView",
      "align_content": null,
      "align_items": null,
      "align_self": null,
      "border": null,
      "bottom": null,
      "display": null,
      "flex": null,
      "flex_flow": null,
      "grid_area": null,
      "grid_auto_columns": null,
      "grid_auto_flow": null,
      "grid_auto_rows": null,
      "grid_column": null,
      "grid_gap": null,
      "grid_row": null,
      "grid_template_areas": null,
      "grid_template_columns": null,
      "grid_template_rows": null,
      "height": null,
      "justify_content": null,
      "justify_items": null,
      "left": null,
      "margin": null,
      "max_height": null,
      "max_width": null,
      "min_height": null,
      "min_width": null,
      "object_fit": null,
      "object_position": null,
      "order": null,
      "overflow": null,
      "overflow_x": null,
      "overflow_y": null,
      "padding": null,
      "right": null,
      "top": null,
      "visibility": null,
      "width": null
     }
    },
    "68f603e7b12b49a881a40e111a4ff6ed": {
     "model_module": "@jupyter-widgets/controls",
     "model_module_version": "1.5.0",
     "model_name": "HBoxModel",
     "state": {
      "_dom_classes": [],
      "_model_module": "@jupyter-widgets/controls",
      "_model_module_version": "1.5.0",
      "_model_name": "HBoxModel",
      "_view_count": null,
      "_view_module": "@jupyter-widgets/controls",
      "_view_module_version": "1.5.0",
      "_view_name": "HBoxView",
      "box_style": "",
      "children": [
       "IPY_MODEL_7d03de32f8bf4a17957297f77575b6db",
       "IPY_MODEL_fb843c5c11394a1097ddcf1c2087da6a",
       "IPY_MODEL_bc04d222128044aaba20108e840a45f1"
      ],
      "layout": "IPY_MODEL_c1595f9868994073a5cfcc19d107c24b"
     }
    },
    "6910721757c041c3bf098732efd38d7d": {
     "model_module": "@jupyter-widgets/controls",
     "model_module_version": "1.5.0",
     "model_name": "DescriptionStyleModel",
     "state": {
      "_model_module": "@jupyter-widgets/controls",
      "_model_module_version": "1.5.0",
      "_model_name": "DescriptionStyleModel",
      "_view_count": null,
      "_view_module": "@jupyter-widgets/base",
      "_view_module_version": "1.2.0",
      "_view_name": "StyleView",
      "description_width": ""
     }
    },
    "6b47fc9415874b3a8920d94802421988": {
     "model_module": "@jupyter-widgets/controls",
     "model_module_version": "1.5.0",
     "model_name": "DescriptionStyleModel",
     "state": {
      "_model_module": "@jupyter-widgets/controls",
      "_model_module_version": "1.5.0",
      "_model_name": "DescriptionStyleModel",
      "_view_count": null,
      "_view_module": "@jupyter-widgets/base",
      "_view_module_version": "1.2.0",
      "_view_name": "StyleView",
      "description_width": ""
     }
    },
    "6e5e7d6d32ae48a6baa612c6ca856202": {
     "model_module": "@jupyter-widgets/controls",
     "model_module_version": "1.5.0",
     "model_name": "HBoxModel",
     "state": {
      "_dom_classes": [],
      "_model_module": "@jupyter-widgets/controls",
      "_model_module_version": "1.5.0",
      "_model_name": "HBoxModel",
      "_view_count": null,
      "_view_module": "@jupyter-widgets/controls",
      "_view_module_version": "1.5.0",
      "_view_name": "HBoxView",
      "box_style": "",
      "children": [
       "IPY_MODEL_c6bc2814a4ca4585b68589734f7af567",
       "IPY_MODEL_d449429481ee414caf8b690557a30946",
       "IPY_MODEL_e884b5c3b56e441b8a80e75c9ea8513d"
      ],
      "layout": "IPY_MODEL_fba24bccc1244c02881419e172402db6"
     }
    },
    "6e8ff94ab6354089acc334413081ca10": {
     "model_module": "@jupyter-widgets/controls",
     "model_module_version": "1.5.0",
     "model_name": "HBoxModel",
     "state": {
      "_dom_classes": [],
      "_model_module": "@jupyter-widgets/controls",
      "_model_module_version": "1.5.0",
      "_model_name": "HBoxModel",
      "_view_count": null,
      "_view_module": "@jupyter-widgets/controls",
      "_view_module_version": "1.5.0",
      "_view_name": "HBoxView",
      "box_style": "",
      "children": [
       "IPY_MODEL_f123658f203a49bd89659e254be939e1",
       "IPY_MODEL_de23b5f4c70748e6a17389f5bffa1f70",
       "IPY_MODEL_28ed1f4f782044a4ba9b0b8ef0106983"
      ],
      "layout": "IPY_MODEL_e9b3b93314d842bc87ab89d770def7d0"
     }
    },
    "6eb54d1617cc49889b44fdd4c7b35259": {
     "model_module": "@jupyter-widgets/controls",
     "model_module_version": "1.5.0",
     "model_name": "HBoxModel",
     "state": {
      "_dom_classes": [],
      "_model_module": "@jupyter-widgets/controls",
      "_model_module_version": "1.5.0",
      "_model_name": "HBoxModel",
      "_view_count": null,
      "_view_module": "@jupyter-widgets/controls",
      "_view_module_version": "1.5.0",
      "_view_name": "HBoxView",
      "box_style": "",
      "children": [
       "IPY_MODEL_44884a78396b4803bb7d79954e324ae0",
       "IPY_MODEL_4a0b98d8a4d84bd8b3b440f695f8be7d",
       "IPY_MODEL_8a7ea6c5d5334ba986577712cb852587"
      ],
      "layout": "IPY_MODEL_24af2fed52ae40308925129709b50448"
     }
    },
    "6f6027eaa23044b5aa127b24ddfb6110": {
     "model_module": "@jupyter-widgets/controls",
     "model_module_version": "1.5.0",
     "model_name": "HBoxModel",
     "state": {
      "_dom_classes": [],
      "_model_module": "@jupyter-widgets/controls",
      "_model_module_version": "1.5.0",
      "_model_name": "HBoxModel",
      "_view_count": null,
      "_view_module": "@jupyter-widgets/controls",
      "_view_module_version": "1.5.0",
      "_view_name": "HBoxView",
      "box_style": "",
      "children": [
       "IPY_MODEL_9bfecaa985eb4683b461695da05a8f14",
       "IPY_MODEL_058c837fde884ebb8bfb607b1646bdb5",
       "IPY_MODEL_4ed50a93a0e84396b77661b52f38d2c8"
      ],
      "layout": "IPY_MODEL_de7c734e4f6a48cf92408f2ab987e50f"
     }
    },
    "705046e4a2a84f5c80c2a595100e637c": {
     "model_module": "@jupyter-widgets/controls",
     "model_module_version": "1.5.0",
     "model_name": "HTMLModel",
     "state": {
      "_dom_classes": [],
      "_model_module": "@jupyter-widgets/controls",
      "_model_module_version": "1.5.0",
      "_model_name": "HTMLModel",
      "_view_count": null,
      "_view_module": "@jupyter-widgets/controls",
      "_view_module_version": "1.5.0",
      "_view_name": "HTMLView",
      "description": "",
      "description_tooltip": null,
      "layout": "IPY_MODEL_9afceddbf3ea44b19d3dacd55660b237",
      "placeholder": "​",
      "style": "IPY_MODEL_3c961607ccd84719877abfa3c5cd9036",
      "value": " 1.06k/1.06k [00:00&lt;00:00, 20.2kB/s]"
     }
    },
    "70b7e71320a148e0ac913a4b1af83d43": {
     "model_module": "@jupyter-widgets/controls",
     "model_module_version": "1.5.0",
     "model_name": "HTMLModel",
     "state": {
      "_dom_classes": [],
      "_model_module": "@jupyter-widgets/controls",
      "_model_module_version": "1.5.0",
      "_model_name": "HTMLModel",
      "_view_count": null,
      "_view_module": "@jupyter-widgets/controls",
      "_view_module_version": "1.5.0",
      "_view_name": "HTMLView",
      "description": "",
      "description_tooltip": null,
      "layout": "IPY_MODEL_f6c86e4e4c7440599459d14bdeff7632",
      "placeholder": "​",
      "style": "IPY_MODEL_ad2a544ee64044d183f427fa1c8b68fc",
      "value": "merges.txt: 100%"
     }
    },
    "710bfd5208aa4cf39f6ee4449413529f": {
     "model_module": "@jupyter-widgets/base",
     "model_module_version": "1.2.0",
     "model_name": "LayoutModel",
     "state": {
      "_model_module": "@jupyter-widgets/base",
      "_model_module_version": "1.2.0",
      "_model_name": "LayoutModel",
      "_view_count": null,
      "_view_module": "@jupyter-widgets/base",
      "_view_module_version": "1.2.0",
      "_view_name": "LayoutView",
      "align_content": null,
      "align_items": null,
      "align_self": null,
      "border": null,
      "bottom": null,
      "display": null,
      "flex": null,
      "flex_flow": null,
      "grid_area": null,
      "grid_auto_columns": null,
      "grid_auto_flow": null,
      "grid_auto_rows": null,
      "grid_column": null,
      "grid_gap": null,
      "grid_row": null,
      "grid_template_areas": null,
      "grid_template_columns": null,
      "grid_template_rows": null,
      "height": null,
      "justify_content": null,
      "justify_items": null,
      "left": null,
      "margin": null,
      "max_height": null,
      "max_width": null,
      "min_height": null,
      "min_width": null,
      "object_fit": null,
      "object_position": null,
      "order": null,
      "overflow": null,
      "overflow_x": null,
      "overflow_y": null,
      "padding": null,
      "right": null,
      "top": null,
      "visibility": null,
      "width": null
     }
    },
    "71df9626bdcb4175bb0c40682c4e359e": {
     "model_module": "@jupyter-widgets/base",
     "model_module_version": "1.2.0",
     "model_name": "LayoutModel",
     "state": {
      "_model_module": "@jupyter-widgets/base",
      "_model_module_version": "1.2.0",
      "_model_name": "LayoutModel",
      "_view_count": null,
      "_view_module": "@jupyter-widgets/base",
      "_view_module_version": "1.2.0",
      "_view_name": "LayoutView",
      "align_content": null,
      "align_items": null,
      "align_self": null,
      "border": null,
      "bottom": null,
      "display": null,
      "flex": null,
      "flex_flow": null,
      "grid_area": null,
      "grid_auto_columns": null,
      "grid_auto_flow": null,
      "grid_auto_rows": null,
      "grid_column": null,
      "grid_gap": null,
      "grid_row": null,
      "grid_template_areas": null,
      "grid_template_columns": null,
      "grid_template_rows": null,
      "height": null,
      "justify_content": null,
      "justify_items": null,
      "left": null,
      "margin": null,
      "max_height": null,
      "max_width": null,
      "min_height": null,
      "min_width": null,
      "object_fit": null,
      "object_position": null,
      "order": null,
      "overflow": null,
      "overflow_x": null,
      "overflow_y": null,
      "padding": null,
      "right": null,
      "top": null,
      "visibility": null,
      "width": null
     }
    },
    "71e0782fb57942ab932712af03b6c001": {
     "model_module": "@jupyter-widgets/base",
     "model_module_version": "1.2.0",
     "model_name": "LayoutModel",
     "state": {
      "_model_module": "@jupyter-widgets/base",
      "_model_module_version": "1.2.0",
      "_model_name": "LayoutModel",
      "_view_count": null,
      "_view_module": "@jupyter-widgets/base",
      "_view_module_version": "1.2.0",
      "_view_name": "LayoutView",
      "align_content": null,
      "align_items": null,
      "align_self": null,
      "border": null,
      "bottom": null,
      "display": null,
      "flex": null,
      "flex_flow": null,
      "grid_area": null,
      "grid_auto_columns": null,
      "grid_auto_flow": null,
      "grid_auto_rows": null,
      "grid_column": null,
      "grid_gap": null,
      "grid_row": null,
      "grid_template_areas": null,
      "grid_template_columns": null,
      "grid_template_rows": null,
      "height": null,
      "justify_content": null,
      "justify_items": null,
      "left": null,
      "margin": null,
      "max_height": null,
      "max_width": null,
      "min_height": null,
      "min_width": null,
      "object_fit": null,
      "object_position": null,
      "order": null,
      "overflow": null,
      "overflow_x": null,
      "overflow_y": null,
      "padding": null,
      "right": null,
      "top": null,
      "visibility": null,
      "width": null
     }
    },
    "73115833bd7042fd94ac4b79e031127e": {
     "model_module": "@jupyter-widgets/controls",
     "model_module_version": "1.5.0",
     "model_name": "HBoxModel",
     "state": {
      "_dom_classes": [],
      "_model_module": "@jupyter-widgets/controls",
      "_model_module_version": "1.5.0",
      "_model_name": "HBoxModel",
      "_view_count": null,
      "_view_module": "@jupyter-widgets/controls",
      "_view_module_version": "1.5.0",
      "_view_name": "HBoxView",
      "box_style": "",
      "children": [
       "IPY_MODEL_f837a96488d644eb9da131390aba2381",
       "IPY_MODEL_74a23b56304044c486790581ce92cce6",
       "IPY_MODEL_d5bd43f1f28a4db98566d443324298d9"
      ],
      "layout": "IPY_MODEL_301f4a30f23a45ce9e9bc741f0b5ea81"
     }
    },
    "73854cf01d7d4dc1bcb4a48286e71eea": {
     "model_module": "@jupyter-widgets/base",
     "model_module_version": "1.2.0",
     "model_name": "LayoutModel",
     "state": {
      "_model_module": "@jupyter-widgets/base",
      "_model_module_version": "1.2.0",
      "_model_name": "LayoutModel",
      "_view_count": null,
      "_view_module": "@jupyter-widgets/base",
      "_view_module_version": "1.2.0",
      "_view_name": "LayoutView",
      "align_content": null,
      "align_items": null,
      "align_self": null,
      "border": null,
      "bottom": null,
      "display": null,
      "flex": null,
      "flex_flow": null,
      "grid_area": null,
      "grid_auto_columns": null,
      "grid_auto_flow": null,
      "grid_auto_rows": null,
      "grid_column": null,
      "grid_gap": null,
      "grid_row": null,
      "grid_template_areas": null,
      "grid_template_columns": null,
      "grid_template_rows": null,
      "height": null,
      "justify_content": null,
      "justify_items": null,
      "left": null,
      "margin": null,
      "max_height": null,
      "max_width": null,
      "min_height": null,
      "min_width": null,
      "object_fit": null,
      "object_position": null,
      "order": null,
      "overflow": null,
      "overflow_x": null,
      "overflow_y": null,
      "padding": null,
      "right": null,
      "top": null,
      "visibility": null,
      "width": null
     }
    },
    "73d82ada94c64788aa57e023708f44e5": {
     "model_module": "@jupyter-widgets/controls",
     "model_module_version": "1.5.0",
     "model_name": "HTMLModel",
     "state": {
      "_dom_classes": [],
      "_model_module": "@jupyter-widgets/controls",
      "_model_module_version": "1.5.0",
      "_model_name": "HTMLModel",
      "_view_count": null,
      "_view_module": "@jupyter-widgets/controls",
      "_view_module_version": "1.5.0",
      "_view_name": "HTMLView",
      "description": "",
      "description_tooltip": null,
      "layout": "IPY_MODEL_d125451b920d419499ce3b27cbd5baf5",
      "placeholder": "​",
      "style": "IPY_MODEL_16049df7c8ed480e8cfb1502c9cdd7b1",
      "value": "README.md: 100%"
     }
    },
    "743b0e9a0dc344ad96ebb7b5108f70a8": {
     "model_module": "@jupyter-widgets/base",
     "model_module_version": "1.2.0",
     "model_name": "LayoutModel",
     "state": {
      "_model_module": "@jupyter-widgets/base",
      "_model_module_version": "1.2.0",
      "_model_name": "LayoutModel",
      "_view_count": null,
      "_view_module": "@jupyter-widgets/base",
      "_view_module_version": "1.2.0",
      "_view_name": "LayoutView",
      "align_content": null,
      "align_items": null,
      "align_self": null,
      "border": null,
      "bottom": null,
      "display": null,
      "flex": null,
      "flex_flow": null,
      "grid_area": null,
      "grid_auto_columns": null,
      "grid_auto_flow": null,
      "grid_auto_rows": null,
      "grid_column": null,
      "grid_gap": null,
      "grid_row": null,
      "grid_template_areas": null,
      "grid_template_columns": null,
      "grid_template_rows": null,
      "height": null,
      "justify_content": null,
      "justify_items": null,
      "left": null,
      "margin": null,
      "max_height": null,
      "max_width": null,
      "min_height": null,
      "min_width": null,
      "object_fit": null,
      "object_position": null,
      "order": null,
      "overflow": null,
      "overflow_x": null,
      "overflow_y": null,
      "padding": null,
      "right": null,
      "top": null,
      "visibility": null,
      "width": null
     }
    },
    "7496cbb90f3e4e99a59c0c0779ff4a2a": {
     "model_module": "@jupyter-widgets/base",
     "model_module_version": "1.2.0",
     "model_name": "LayoutModel",
     "state": {
      "_model_module": "@jupyter-widgets/base",
      "_model_module_version": "1.2.0",
      "_model_name": "LayoutModel",
      "_view_count": null,
      "_view_module": "@jupyter-widgets/base",
      "_view_module_version": "1.2.0",
      "_view_name": "LayoutView",
      "align_content": null,
      "align_items": null,
      "align_self": null,
      "border": null,
      "bottom": null,
      "display": null,
      "flex": null,
      "flex_flow": null,
      "grid_area": null,
      "grid_auto_columns": null,
      "grid_auto_flow": null,
      "grid_auto_rows": null,
      "grid_column": null,
      "grid_gap": null,
      "grid_row": null,
      "grid_template_areas": null,
      "grid_template_columns": null,
      "grid_template_rows": null,
      "height": null,
      "justify_content": null,
      "justify_items": null,
      "left": null,
      "margin": null,
      "max_height": null,
      "max_width": null,
      "min_height": null,
      "min_width": null,
      "object_fit": null,
      "object_position": null,
      "order": null,
      "overflow": null,
      "overflow_x": null,
      "overflow_y": null,
      "padding": null,
      "right": null,
      "top": null,
      "visibility": null,
      "width": null
     }
    },
    "74a23b56304044c486790581ce92cce6": {
     "model_module": "@jupyter-widgets/controls",
     "model_module_version": "1.5.0",
     "model_name": "FloatProgressModel",
     "state": {
      "_dom_classes": [],
      "_model_module": "@jupyter-widgets/controls",
      "_model_module_version": "1.5.0",
      "_model_name": "FloatProgressModel",
      "_view_count": null,
      "_view_module": "@jupyter-widgets/controls",
      "_view_module_version": "1.5.0",
      "_view_name": "ProgressView",
      "bar_style": "success",
      "description": "",
      "description_tooltip": null,
      "layout": "IPY_MODEL_313f871227c04f0b862799ce805f1cd2",
      "max": 289,
      "min": 0,
      "orientation": "horizontal",
      "style": "IPY_MODEL_0f8f4267763342cfabffb78f628a8143",
      "value": 289
     }
    },
    "74ae9e419b79484c874f1bc981ae713c": {
     "model_module": "@jupyter-widgets/controls",
     "model_module_version": "1.5.0",
     "model_name": "HBoxModel",
     "state": {
      "_dom_classes": [],
      "_model_module": "@jupyter-widgets/controls",
      "_model_module_version": "1.5.0",
      "_model_name": "HBoxModel",
      "_view_count": null,
      "_view_module": "@jupyter-widgets/controls",
      "_view_module_version": "1.5.0",
      "_view_name": "HBoxView",
      "box_style": "",
      "children": [
       "IPY_MODEL_fb1710b8b40b46639bb6d99d15b24fa2",
       "IPY_MODEL_9561c410729b496c8818ecc5c94758a3",
       "IPY_MODEL_0d5908e7e109473c8d87cac5f48f6a28"
      ],
      "layout": "IPY_MODEL_60b51ba3227f48ca802e4e3db47d1be5"
     }
    },
    "76e9be28528647dcb88cb172384ecc1b": {
     "model_module": "@jupyter-widgets/base",
     "model_module_version": "1.2.0",
     "model_name": "LayoutModel",
     "state": {
      "_model_module": "@jupyter-widgets/base",
      "_model_module_version": "1.2.0",
      "_model_name": "LayoutModel",
      "_view_count": null,
      "_view_module": "@jupyter-widgets/base",
      "_view_module_version": "1.2.0",
      "_view_name": "LayoutView",
      "align_content": null,
      "align_items": null,
      "align_self": null,
      "border": null,
      "bottom": null,
      "display": null,
      "flex": null,
      "flex_flow": null,
      "grid_area": null,
      "grid_auto_columns": null,
      "grid_auto_flow": null,
      "grid_auto_rows": null,
      "grid_column": null,
      "grid_gap": null,
      "grid_row": null,
      "grid_template_areas": null,
      "grid_template_columns": null,
      "grid_template_rows": null,
      "height": null,
      "justify_content": null,
      "justify_items": null,
      "left": null,
      "margin": null,
      "max_height": null,
      "max_width": null,
      "min_height": null,
      "min_width": null,
      "object_fit": null,
      "object_position": null,
      "order": null,
      "overflow": null,
      "overflow_x": null,
      "overflow_y": null,
      "padding": null,
      "right": null,
      "top": null,
      "visibility": null,
      "width": null
     }
    },
    "78635409a83e4da7ac854090884ccfed": {
     "model_module": "@jupyter-widgets/controls",
     "model_module_version": "1.5.0",
     "model_name": "DescriptionStyleModel",
     "state": {
      "_model_module": "@jupyter-widgets/controls",
      "_model_module_version": "1.5.0",
      "_model_name": "DescriptionStyleModel",
      "_view_count": null,
      "_view_module": "@jupyter-widgets/base",
      "_view_module_version": "1.2.0",
      "_view_name": "StyleView",
      "description_width": ""
     }
    },
    "788f43f20f674851814cf6e72c230ed6": {
     "model_module": "@jupyter-widgets/controls",
     "model_module_version": "1.5.0",
     "model_name": "HBoxModel",
     "state": {
      "_dom_classes": [],
      "_model_module": "@jupyter-widgets/controls",
      "_model_module_version": "1.5.0",
      "_model_name": "HBoxModel",
      "_view_count": null,
      "_view_module": "@jupyter-widgets/controls",
      "_view_module_version": "1.5.0",
      "_view_name": "HBoxView",
      "box_style": "",
      "children": [
       "IPY_MODEL_ee35667730eb459fba32ef0cd747a224",
       "IPY_MODEL_9d1de086142041ca803915c751da6610",
       "IPY_MODEL_02550dead45e4facbfe8cdd21c75ddbb"
      ],
      "layout": "IPY_MODEL_25bb497c50044a1ab540f331c2a729a8"
     }
    },
    "7a2ce148ed8f42749ea6edced344bd5d": {
     "model_module": "@jupyter-widgets/controls",
     "model_module_version": "1.5.0",
     "model_name": "HBoxModel",
     "state": {
      "_dom_classes": [],
      "_model_module": "@jupyter-widgets/controls",
      "_model_module_version": "1.5.0",
      "_model_name": "HBoxModel",
      "_view_count": null,
      "_view_module": "@jupyter-widgets/controls",
      "_view_module_version": "1.5.0",
      "_view_name": "HBoxView",
      "box_style": "",
      "children": [
       "IPY_MODEL_7dfafa7114ae4c9386f2d1be9f4b7b18",
       "IPY_MODEL_25240f3f1ff54a509d3322b1e7e0cd22",
       "IPY_MODEL_0a730a1a1c5c4a3987174a99df925707"
      ],
      "layout": "IPY_MODEL_02b08c45e8cc4172bd9aa05659c3c9f2"
     }
    },
    "7a62f9f381434abe87772f6ff2bdc21a": {
     "model_module": "@jupyter-widgets/base",
     "model_module_version": "1.2.0",
     "model_name": "LayoutModel",
     "state": {
      "_model_module": "@jupyter-widgets/base",
      "_model_module_version": "1.2.0",
      "_model_name": "LayoutModel",
      "_view_count": null,
      "_view_module": "@jupyter-widgets/base",
      "_view_module_version": "1.2.0",
      "_view_name": "LayoutView",
      "align_content": null,
      "align_items": null,
      "align_self": null,
      "border": null,
      "bottom": null,
      "display": null,
      "flex": null,
      "flex_flow": null,
      "grid_area": null,
      "grid_auto_columns": null,
      "grid_auto_flow": null,
      "grid_auto_rows": null,
      "grid_column": null,
      "grid_gap": null,
      "grid_row": null,
      "grid_template_areas": null,
      "grid_template_columns": null,
      "grid_template_rows": null,
      "height": null,
      "justify_content": null,
      "justify_items": null,
      "left": null,
      "margin": null,
      "max_height": null,
      "max_width": null,
      "min_height": null,
      "min_width": null,
      "object_fit": null,
      "object_position": null,
      "order": null,
      "overflow": null,
      "overflow_x": null,
      "overflow_y": null,
      "padding": null,
      "right": null,
      "top": null,
      "visibility": null,
      "width": null
     }
    },
    "7b53385fae714a6f8c46376b04bf85b1": {
     "model_module": "@jupyter-widgets/controls",
     "model_module_version": "1.5.0",
     "model_name": "ProgressStyleModel",
     "state": {
      "_model_module": "@jupyter-widgets/controls",
      "_model_module_version": "1.5.0",
      "_model_name": "ProgressStyleModel",
      "_view_count": null,
      "_view_module": "@jupyter-widgets/base",
      "_view_module_version": "1.2.0",
      "_view_name": "StyleView",
      "bar_color": null,
      "description_width": ""
     }
    },
    "7d03de32f8bf4a17957297f77575b6db": {
     "model_module": "@jupyter-widgets/controls",
     "model_module_version": "1.5.0",
     "model_name": "HTMLModel",
     "state": {
      "_dom_classes": [],
      "_model_module": "@jupyter-widgets/controls",
      "_model_module_version": "1.5.0",
      "_model_name": "HTMLModel",
      "_view_count": null,
      "_view_module": "@jupyter-widgets/controls",
      "_view_module_version": "1.5.0",
      "_view_name": "HTMLView",
      "description": "",
      "description_tooltip": null,
      "layout": "IPY_MODEL_a63234b802224ababc11e9f077d3c83c",
      "placeholder": "​",
      "style": "IPY_MODEL_bfd666a3210e48248d1265fcda39302c",
      "value": "java_test-00000-of-00001.parquet: 100%"
     }
    },
    "7dfafa7114ae4c9386f2d1be9f4b7b18": {
     "model_module": "@jupyter-widgets/controls",
     "model_module_version": "1.5.0",
     "model_name": "HTMLModel",
     "state": {
      "_dom_classes": [],
      "_model_module": "@jupyter-widgets/controls",
      "_model_module_version": "1.5.0",
      "_model_name": "HTMLModel",
      "_view_count": null,
      "_view_module": "@jupyter-widgets/controls",
      "_view_module_version": "1.5.0",
      "_view_name": "HTMLView",
      "description": "",
      "description_tooltip": null,
      "layout": "IPY_MODEL_ba7e8e44aa9147b1bff5a69369c89136",
      "placeholder": "​",
      "style": "IPY_MODEL_537def39718c469dbc17a1cee4fa39a1",
      "value": "pharo_test-00000-of-00001.parquet: 100%"
     }
    },
    "7fdfa8f659cc4192b57d4f02b77608d3": {
     "model_module": "@jupyter-widgets/base",
     "model_module_version": "1.2.0",
     "model_name": "LayoutModel",
     "state": {
      "_model_module": "@jupyter-widgets/base",
      "_model_module_version": "1.2.0",
      "_model_name": "LayoutModel",
      "_view_count": null,
      "_view_module": "@jupyter-widgets/base",
      "_view_module_version": "1.2.0",
      "_view_name": "LayoutView",
      "align_content": null,
      "align_items": null,
      "align_self": null,
      "border": null,
      "bottom": null,
      "display": null,
      "flex": null,
      "flex_flow": null,
      "grid_area": null,
      "grid_auto_columns": null,
      "grid_auto_flow": null,
      "grid_auto_rows": null,
      "grid_column": null,
      "grid_gap": null,
      "grid_row": null,
      "grid_template_areas": null,
      "grid_template_columns": null,
      "grid_template_rows": null,
      "height": null,
      "justify_content": null,
      "justify_items": null,
      "left": null,
      "margin": null,
      "max_height": null,
      "max_width": null,
      "min_height": null,
      "min_width": null,
      "object_fit": null,
      "object_position": null,
      "order": null,
      "overflow": null,
      "overflow_x": null,
      "overflow_y": null,
      "padding": null,
      "right": null,
      "top": null,
      "visibility": null,
      "width": null
     }
    },
    "8191c207165d480b928149ecc254e676": {
     "model_module": "@jupyter-widgets/controls",
     "model_module_version": "1.5.0",
     "model_name": "HBoxModel",
     "state": {
      "_dom_classes": [],
      "_model_module": "@jupyter-widgets/controls",
      "_model_module_version": "1.5.0",
      "_model_name": "HBoxModel",
      "_view_count": null,
      "_view_module": "@jupyter-widgets/controls",
      "_view_module_version": "1.5.0",
      "_view_name": "HBoxView",
      "box_style": "",
      "children": [
       "IPY_MODEL_8a0d512a70eb4da185e9412b4dd977c4",
       "IPY_MODEL_5579bdc3b3244a0ba11e34f40fd3c0fb",
       "IPY_MODEL_0597a5f23bb74cb085c25e10cdc8e979"
      ],
      "layout": "IPY_MODEL_7a62f9f381434abe87772f6ff2bdc21a"
     }
    },
    "83742203aa2b4d28a53c08bb7cb8befb": {
     "model_module": "@jupyter-widgets/controls",
     "model_module_version": "1.5.0",
     "model_name": "FloatProgressModel",
     "state": {
      "_dom_classes": [],
      "_model_module": "@jupyter-widgets/controls",
      "_model_module_version": "1.5.0",
      "_model_name": "FloatProgressModel",
      "_view_count": null,
      "_view_module": "@jupyter-widgets/controls",
      "_view_module_version": "1.5.0",
      "_view_name": "ProgressView",
      "bar_style": "success",
      "description": "",
      "description_tooltip": null,
      "layout": "IPY_MODEL_2ec9b709f1da46238fa368c2e864519f",
      "max": 898822,
      "min": 0,
      "orientation": "horizontal",
      "style": "IPY_MODEL_b9f43e28d8cb4f1c95bdafe25e9c7a7b",
      "value": 898822
     }
    },
    "8513da1b95274a8ab99e1d3cdd900e3e": {
     "model_module": "@jupyter-widgets/controls",
     "model_module_version": "1.5.0",
     "model_name": "HTMLModel",
     "state": {
      "_dom_classes": [],
      "_model_module": "@jupyter-widgets/controls",
      "_model_module_version": "1.5.0",
      "_model_name": "HTMLModel",
      "_view_count": null,
      "_view_module": "@jupyter-widgets/controls",
      "_view_module_version": "1.5.0",
      "_view_name": "HTMLView",
      "description": "",
      "description_tooltip": null,
      "layout": "IPY_MODEL_dac48765ac844c419c5a14b874c5a0db",
      "placeholder": "​",
      "style": "IPY_MODEL_618d600163a84ef9baa39a6318e4a8ac",
      "value": "tokenizer_config.json: 100%"
     }
    },
    "85215028fdf342f88fa4e6952c8a9d66": {
     "model_module": "@jupyter-widgets/controls",
     "model_module_version": "1.5.0",
     "model_name": "HBoxModel",
     "state": {
      "_dom_classes": [],
      "_model_module": "@jupyter-widgets/controls",
      "_model_module_version": "1.5.0",
      "_model_name": "HBoxModel",
      "_view_count": null,
      "_view_module": "@jupyter-widgets/controls",
      "_view_module_version": "1.5.0",
      "_view_name": "HBoxView",
      "box_style": "",
      "children": [
       "IPY_MODEL_52dcfbcb2359411186b0e688d2f14a48",
       "IPY_MODEL_deea2a9a334f44df8cd9b8948d1c8481",
       "IPY_MODEL_5b4d59fabbbb44b6910f732d7dbc9502"
      ],
      "layout": "IPY_MODEL_c70ae22a80504bc0bd9513c3a886bc98"
     }
    },
    "8800bc5224a1471ea46f0e3cae08a615": {
     "model_module": "@jupyter-widgets/controls",
     "model_module_version": "1.5.0",
     "model_name": "ProgressStyleModel",
     "state": {
      "_model_module": "@jupyter-widgets/controls",
      "_model_module_version": "1.5.0",
      "_model_name": "ProgressStyleModel",
      "_view_count": null,
      "_view_module": "@jupyter-widgets/base",
      "_view_module_version": "1.2.0",
      "_view_name": "StyleView",
      "bar_color": null,
      "description_width": ""
     }
    },
    "8952f416d91d45499ff2aab5be2dbe55": {
     "model_module": "@jupyter-widgets/base",
     "model_module_version": "1.2.0",
     "model_name": "LayoutModel",
     "state": {
      "_model_module": "@jupyter-widgets/base",
      "_model_module_version": "1.2.0",
      "_model_name": "LayoutModel",
      "_view_count": null,
      "_view_module": "@jupyter-widgets/base",
      "_view_module_version": "1.2.0",
      "_view_name": "LayoutView",
      "align_content": null,
      "align_items": null,
      "align_self": null,
      "border": null,
      "bottom": null,
      "display": null,
      "flex": null,
      "flex_flow": null,
      "grid_area": null,
      "grid_auto_columns": null,
      "grid_auto_flow": null,
      "grid_auto_rows": null,
      "grid_column": null,
      "grid_gap": null,
      "grid_row": null,
      "grid_template_areas": null,
      "grid_template_columns": null,
      "grid_template_rows": null,
      "height": null,
      "justify_content": null,
      "justify_items": null,
      "left": null,
      "margin": null,
      "max_height": null,
      "max_width": null,
      "min_height": null,
      "min_width": null,
      "object_fit": null,
      "object_position": null,
      "order": null,
      "overflow": null,
      "overflow_x": null,
      "overflow_y": null,
      "padding": null,
      "right": null,
      "top": null,
      "visibility": null,
      "width": null
     }
    },
    "8a0d512a70eb4da185e9412b4dd977c4": {
     "model_module": "@jupyter-widgets/controls",
     "model_module_version": "1.5.0",
     "model_name": "HTMLModel",
     "state": {
      "_dom_classes": [],
      "_model_module": "@jupyter-widgets/controls",
      "_model_module_version": "1.5.0",
      "_model_name": "HTMLModel",
      "_view_count": null,
      "_view_module": "@jupyter-widgets/controls",
      "_view_module_version": "1.5.0",
      "_view_name": "HTMLView",
      "description": "",
      "description_tooltip": null,
      "layout": "IPY_MODEL_bdb1f3a4342c418c83392b899c0a0eb9",
      "placeholder": "​",
      "style": "IPY_MODEL_47b45f3f997d45f4a436bd8ec8721ace",
      "value": "pharo_train-00000-of-00001.parquet: 100%"
     }
    },
    "8a2f5002d769412199829dbec0b9c9be": {
     "model_module": "@jupyter-widgets/base",
     "model_module_version": "1.2.0",
     "model_name": "LayoutModel",
     "state": {
      "_model_module": "@jupyter-widgets/base",
      "_model_module_version": "1.2.0",
      "_model_name": "LayoutModel",
      "_view_count": null,
      "_view_module": "@jupyter-widgets/base",
      "_view_module_version": "1.2.0",
      "_view_name": "LayoutView",
      "align_content": null,
      "align_items": null,
      "align_self": null,
      "border": null,
      "bottom": null,
      "display": null,
      "flex": null,
      "flex_flow": null,
      "grid_area": null,
      "grid_auto_columns": null,
      "grid_auto_flow": null,
      "grid_auto_rows": null,
      "grid_column": null,
      "grid_gap": null,
      "grid_row": null,
      "grid_template_areas": null,
      "grid_template_columns": null,
      "grid_template_rows": null,
      "height": null,
      "justify_content": null,
      "justify_items": null,
      "left": null,
      "margin": null,
      "max_height": null,
      "max_width": null,
      "min_height": null,
      "min_width": null,
      "object_fit": null,
      "object_position": null,
      "order": null,
      "overflow": null,
      "overflow_x": null,
      "overflow_y": null,
      "padding": null,
      "right": null,
      "top": null,
      "visibility": null,
      "width": null
     }
    },
    "8a7ea6c5d5334ba986577712cb852587": {
     "model_module": "@jupyter-widgets/controls",
     "model_module_version": "1.5.0",
     "model_name": "HTMLModel",
     "state": {
      "_dom_classes": [],
      "_model_module": "@jupyter-widgets/controls",
      "_model_module_version": "1.5.0",
      "_model_name": "HTMLModel",
      "_view_count": null,
      "_view_module": "@jupyter-widgets/controls",
      "_view_module_version": "1.5.0",
      "_view_name": "HTMLView",
      "description": "",
      "description_tooltip": null,
      "layout": "IPY_MODEL_62f104b94493449f84d0f6540e0837fa",
      "placeholder": "​",
      "style": "IPY_MODEL_9d32a863cd214d8e88e95dad449368d2",
      "value": " 498/498 [00:00&lt;00:00, 19.5kB/s]"
     }
    },
    "8ac99b31da214c4a9e109ec30e9e4455": {
     "model_module": "@jupyter-widgets/base",
     "model_module_version": "1.2.0",
     "model_name": "LayoutModel",
     "state": {
      "_model_module": "@jupyter-widgets/base",
      "_model_module_version": "1.2.0",
      "_model_name": "LayoutModel",
      "_view_count": null,
      "_view_module": "@jupyter-widgets/base",
      "_view_module_version": "1.2.0",
      "_view_name": "LayoutView",
      "align_content": null,
      "align_items": null,
      "align_self": null,
      "border": null,
      "bottom": null,
      "display": null,
      "flex": null,
      "flex_flow": null,
      "grid_area": null,
      "grid_auto_columns": null,
      "grid_auto_flow": null,
      "grid_auto_rows": null,
      "grid_column": null,
      "grid_gap": null,
      "grid_row": null,
      "grid_template_areas": null,
      "grid_template_columns": null,
      "grid_template_rows": null,
      "height": null,
      "justify_content": null,
      "justify_items": null,
      "left": null,
      "margin": null,
      "max_height": null,
      "max_width": null,
      "min_height": null,
      "min_width": null,
      "object_fit": null,
      "object_position": null,
      "order": null,
      "overflow": null,
      "overflow_x": null,
      "overflow_y": null,
      "padding": null,
      "right": null,
      "top": null,
      "visibility": null,
      "width": null
     }
    },
    "8bc988ecbfb24a2c92be52346a2eea4f": {
     "model_module": "@jupyter-widgets/controls",
     "model_module_version": "1.5.0",
     "model_name": "HTMLModel",
     "state": {
      "_dom_classes": [],
      "_model_module": "@jupyter-widgets/controls",
      "_model_module_version": "1.5.0",
      "_model_name": "HTMLModel",
      "_view_count": null,
      "_view_module": "@jupyter-widgets/controls",
      "_view_module_version": "1.5.0",
      "_view_name": "HTMLView",
      "description": "",
      "description_tooltip": null,
      "layout": "IPY_MODEL_bca5aea1f30f4a69868db3cf424e256b",
      "placeholder": "​",
      "style": "IPY_MODEL_63e46e2a4cdc43f88f9c0fa5f7c1242f",
      "value": " 1884/1884 [00:00&lt;00:00, 45944.40 examples/s]"
     }
    },
    "8f3c7553598c4055821564bbb57a22f4": {
     "model_module": "@jupyter-widgets/base",
     "model_module_version": "1.2.0",
     "model_name": "LayoutModel",
     "state": {
      "_model_module": "@jupyter-widgets/base",
      "_model_module_version": "1.2.0",
      "_model_name": "LayoutModel",
      "_view_count": null,
      "_view_module": "@jupyter-widgets/base",
      "_view_module_version": "1.2.0",
      "_view_name": "LayoutView",
      "align_content": null,
      "align_items": null,
      "align_self": null,
      "border": null,
      "bottom": null,
      "display": null,
      "flex": null,
      "flex_flow": null,
      "grid_area": null,
      "grid_auto_columns": null,
      "grid_auto_flow": null,
      "grid_auto_rows": null,
      "grid_column": null,
      "grid_gap": null,
      "grid_row": null,
      "grid_template_areas": null,
      "grid_template_columns": null,
      "grid_template_rows": null,
      "height": null,
      "justify_content": null,
      "justify_items": null,
      "left": null,
      "margin": null,
      "max_height": null,
      "max_width": null,
      "min_height": null,
      "min_width": null,
      "object_fit": null,
      "object_position": null,
      "order": null,
      "overflow": null,
      "overflow_x": null,
      "overflow_y": null,
      "padding": null,
      "right": null,
      "top": null,
      "visibility": null,
      "width": null
     }
    },
    "8f60d68f6d584c41802bd636c05691e3": {
     "model_module": "@jupyter-widgets/controls",
     "model_module_version": "1.5.0",
     "model_name": "ProgressStyleModel",
     "state": {
      "_model_module": "@jupyter-widgets/controls",
      "_model_module_version": "1.5.0",
      "_model_name": "ProgressStyleModel",
      "_view_count": null,
      "_view_module": "@jupyter-widgets/base",
      "_view_module_version": "1.2.0",
      "_view_name": "StyleView",
      "bar_color": null,
      "description_width": ""
     }
    },
    "8fcc413058d840d987f71267083d2242": {
     "model_module": "@jupyter-widgets/base",
     "model_module_version": "1.2.0",
     "model_name": "LayoutModel",
     "state": {
      "_model_module": "@jupyter-widgets/base",
      "_model_module_version": "1.2.0",
      "_model_name": "LayoutModel",
      "_view_count": null,
      "_view_module": "@jupyter-widgets/base",
      "_view_module_version": "1.2.0",
      "_view_name": "LayoutView",
      "align_content": null,
      "align_items": null,
      "align_self": null,
      "border": null,
      "bottom": null,
      "display": null,
      "flex": null,
      "flex_flow": null,
      "grid_area": null,
      "grid_auto_columns": null,
      "grid_auto_flow": null,
      "grid_auto_rows": null,
      "grid_column": null,
      "grid_gap": null,
      "grid_row": null,
      "grid_template_areas": null,
      "grid_template_columns": null,
      "grid_template_rows": null,
      "height": null,
      "justify_content": null,
      "justify_items": null,
      "left": null,
      "margin": null,
      "max_height": null,
      "max_width": null,
      "min_height": null,
      "min_width": null,
      "object_fit": null,
      "object_position": null,
      "order": null,
      "overflow": null,
      "overflow_x": null,
      "overflow_y": null,
      "padding": null,
      "right": null,
      "top": null,
      "visibility": null,
      "width": null
     }
    },
    "916bb245f6cf4ad1ab902d9cb6307a64": {
     "model_module": "@jupyter-widgets/controls",
     "model_module_version": "1.5.0",
     "model_name": "HTMLModel",
     "state": {
      "_dom_classes": [],
      "_model_module": "@jupyter-widgets/controls",
      "_model_module_version": "1.5.0",
      "_model_name": "HTMLModel",
      "_view_count": null,
      "_view_module": "@jupyter-widgets/controls",
      "_view_module_version": "1.5.0",
      "_view_name": "HTMLView",
      "description": "",
      "description_tooltip": null,
      "layout": "IPY_MODEL_ee8e26aa734e41d89c31ea3489b12b47",
      "placeholder": "​",
      "style": "IPY_MODEL_560fe91457a24fde837c9e31de5b8e25",
      "value": "Map: 100%"
     }
    },
    "94224b42dd3a4d7ea36f5554597f5265": {
     "model_module": "@jupyter-widgets/base",
     "model_module_version": "1.2.0",
     "model_name": "LayoutModel",
     "state": {
      "_model_module": "@jupyter-widgets/base",
      "_model_module_version": "1.2.0",
      "_model_name": "LayoutModel",
      "_view_count": null,
      "_view_module": "@jupyter-widgets/base",
      "_view_module_version": "1.2.0",
      "_view_name": "LayoutView",
      "align_content": null,
      "align_items": null,
      "align_self": null,
      "border": null,
      "bottom": null,
      "display": null,
      "flex": null,
      "flex_flow": null,
      "grid_area": null,
      "grid_auto_columns": null,
      "grid_auto_flow": null,
      "grid_auto_rows": null,
      "grid_column": null,
      "grid_gap": null,
      "grid_row": null,
      "grid_template_areas": null,
      "grid_template_columns": null,
      "grid_template_rows": null,
      "height": null,
      "justify_content": null,
      "justify_items": null,
      "left": null,
      "margin": null,
      "max_height": null,
      "max_width": null,
      "min_height": null,
      "min_width": null,
      "object_fit": null,
      "object_position": null,
      "order": null,
      "overflow": null,
      "overflow_x": null,
      "overflow_y": null,
      "padding": null,
      "right": null,
      "top": null,
      "visibility": null,
      "width": null
     }
    },
    "947d3528376f47c0aa6c06bf066ab084": {
     "model_module": "@jupyter-widgets/base",
     "model_module_version": "1.2.0",
     "model_name": "LayoutModel",
     "state": {
      "_model_module": "@jupyter-widgets/base",
      "_model_module_version": "1.2.0",
      "_model_name": "LayoutModel",
      "_view_count": null,
      "_view_module": "@jupyter-widgets/base",
      "_view_module_version": "1.2.0",
      "_view_name": "LayoutView",
      "align_content": null,
      "align_items": null,
      "align_self": null,
      "border": null,
      "bottom": null,
      "display": null,
      "flex": null,
      "flex_flow": null,
      "grid_area": null,
      "grid_auto_columns": null,
      "grid_auto_flow": null,
      "grid_auto_rows": null,
      "grid_column": null,
      "grid_gap": null,
      "grid_row": null,
      "grid_template_areas": null,
      "grid_template_columns": null,
      "grid_template_rows": null,
      "height": null,
      "justify_content": null,
      "justify_items": null,
      "left": null,
      "margin": null,
      "max_height": null,
      "max_width": null,
      "min_height": null,
      "min_width": null,
      "object_fit": null,
      "object_position": null,
      "order": null,
      "overflow": null,
      "overflow_x": null,
      "overflow_y": null,
      "padding": null,
      "right": null,
      "top": null,
      "visibility": null,
      "width": null
     }
    },
    "94e9a02dec04494fb4fe7b14dcee2586": {
     "model_module": "@jupyter-widgets/base",
     "model_module_version": "1.2.0",
     "model_name": "LayoutModel",
     "state": {
      "_model_module": "@jupyter-widgets/base",
      "_model_module_version": "1.2.0",
      "_model_name": "LayoutModel",
      "_view_count": null,
      "_view_module": "@jupyter-widgets/base",
      "_view_module_version": "1.2.0",
      "_view_name": "LayoutView",
      "align_content": null,
      "align_items": null,
      "align_self": null,
      "border": null,
      "bottom": null,
      "display": null,
      "flex": null,
      "flex_flow": null,
      "grid_area": null,
      "grid_auto_columns": null,
      "grid_auto_flow": null,
      "grid_auto_rows": null,
      "grid_column": null,
      "grid_gap": null,
      "grid_row": null,
      "grid_template_areas": null,
      "grid_template_columns": null,
      "grid_template_rows": null,
      "height": null,
      "justify_content": null,
      "justify_items": null,
      "left": null,
      "margin": null,
      "max_height": null,
      "max_width": null,
      "min_height": null,
      "min_width": null,
      "object_fit": null,
      "object_position": null,
      "order": null,
      "overflow": null,
      "overflow_x": null,
      "overflow_y": null,
      "padding": null,
      "right": null,
      "top": null,
      "visibility": null,
      "width": null
     }
    },
    "9538ecbda55f4222b12ef7858c1a8550": {
     "model_module": "@jupyter-widgets/controls",
     "model_module_version": "1.5.0",
     "model_name": "HTMLModel",
     "state": {
      "_dom_classes": [],
      "_model_module": "@jupyter-widgets/controls",
      "_model_module_version": "1.5.0",
      "_model_name": "HTMLModel",
      "_view_count": null,
      "_view_module": "@jupyter-widgets/controls",
      "_view_module_version": "1.5.0",
      "_view_name": "HTMLView",
      "description": "",
      "description_tooltip": null,
      "layout": "IPY_MODEL_959db70411164c3d960b728306c1c6d2",
      "placeholder": "​",
      "style": "IPY_MODEL_54488c70006e43f1b9b8db996b0122d2",
      "value": "Generating java_test split: 100%"
     }
    },
    "9561c410729b496c8818ecc5c94758a3": {
     "model_module": "@jupyter-widgets/controls",
     "model_module_version": "1.5.0",
     "model_name": "FloatProgressModel",
     "state": {
      "_dom_classes": [],
      "_model_module": "@jupyter-widgets/controls",
      "_model_module_version": "1.5.0",
      "_model_name": "FloatProgressModel",
      "_view_count": null,
      "_view_module": "@jupyter-widgets/controls",
      "_view_module_version": "1.5.0",
      "_view_name": "ProgressView",
      "bar_style": "success",
      "description": "",
      "description_tooltip": null,
      "layout": "IPY_MODEL_c53ba2d370e54ecb8ef4909584effc5e",
      "max": 679989,
      "min": 0,
      "orientation": "horizontal",
      "style": "IPY_MODEL_8800bc5224a1471ea46f0e3cae08a615",
      "value": 679989
     }
    },
    "959db70411164c3d960b728306c1c6d2": {
     "model_module": "@jupyter-widgets/base",
     "model_module_version": "1.2.0",
     "model_name": "LayoutModel",
     "state": {
      "_model_module": "@jupyter-widgets/base",
      "_model_module_version": "1.2.0",
      "_model_name": "LayoutModel",
      "_view_count": null,
      "_view_module": "@jupyter-widgets/base",
      "_view_module_version": "1.2.0",
      "_view_name": "LayoutView",
      "align_content": null,
      "align_items": null,
      "align_self": null,
      "border": null,
      "bottom": null,
      "display": null,
      "flex": null,
      "flex_flow": null,
      "grid_area": null,
      "grid_auto_columns": null,
      "grid_auto_flow": null,
      "grid_auto_rows": null,
      "grid_column": null,
      "grid_gap": null,
      "grid_row": null,
      "grid_template_areas": null,
      "grid_template_columns": null,
      "grid_template_rows": null,
      "height": null,
      "justify_content": null,
      "justify_items": null,
      "left": null,
      "margin": null,
      "max_height": null,
      "max_width": null,
      "min_height": null,
      "min_width": null,
      "object_fit": null,
      "object_position": null,
      "order": null,
      "overflow": null,
      "overflow_x": null,
      "overflow_y": null,
      "padding": null,
      "right": null,
      "top": null,
      "visibility": null,
      "width": null
     }
    },
    "9614752928ed4d8b90852ba7eff669f5": {
     "model_module": "@jupyter-widgets/controls",
     "model_module_version": "1.5.0",
     "model_name": "HTMLModel",
     "state": {
      "_dom_classes": [],
      "_model_module": "@jupyter-widgets/controls",
      "_model_module_version": "1.5.0",
      "_model_name": "HTMLModel",
      "_view_count": null,
      "_view_module": "@jupyter-widgets/controls",
      "_view_module_version": "1.5.0",
      "_view_name": "HTMLView",
      "description": "",
      "description_tooltip": null,
      "layout": "IPY_MODEL_b7ca81fc7de4489181c2f97417d81a23",
      "placeholder": "​",
      "style": "IPY_MODEL_479cf5f9321844f6a0f1b69818470c0b",
      "value": " 7614/7614 [00:00&lt;00:00, 8357.86 examples/s]"
     }
    },
    "9689ab7242e64221b5e33e210650be99": {
     "model_module": "@jupyter-widgets/controls",
     "model_module_version": "1.5.0",
     "model_name": "DescriptionStyleModel",
     "state": {
      "_model_module": "@jupyter-widgets/controls",
      "_model_module_version": "1.5.0",
      "_model_name": "DescriptionStyleModel",
      "_view_count": null,
      "_view_module": "@jupyter-widgets/base",
      "_view_module_version": "1.2.0",
      "_view_name": "StyleView",
      "description_width": ""
     }
    },
    "96989c4d0bb245abbc997768521f9a31": {
     "model_module": "@jupyter-widgets/controls",
     "model_module_version": "1.5.0",
     "model_name": "HTMLModel",
     "state": {
      "_dom_classes": [],
      "_model_module": "@jupyter-widgets/controls",
      "_model_module_version": "1.5.0",
      "_model_name": "HTMLModel",
      "_view_count": null,
      "_view_module": "@jupyter-widgets/controls",
      "_view_module_version": "1.5.0",
      "_view_name": "HTMLView",
      "description": "",
      "description_tooltip": null,
      "layout": "IPY_MODEL_04c9c4297095469fa2940158a9b0de56",
      "placeholder": "​",
      "style": "IPY_MODEL_dc9cc7b1956f422bb27606ee94ce929f",
      "value": "special_tokens_map.json: 100%"
     }
    },
    "979d3e31668549a4a2627d1e01cc608e": {
     "model_module": "@jupyter-widgets/base",
     "model_module_version": "1.2.0",
     "model_name": "LayoutModel",
     "state": {
      "_model_module": "@jupyter-widgets/base",
      "_model_module_version": "1.2.0",
      "_model_name": "LayoutModel",
      "_view_count": null,
      "_view_module": "@jupyter-widgets/base",
      "_view_module_version": "1.2.0",
      "_view_name": "LayoutView",
      "align_content": null,
      "align_items": null,
      "align_self": null,
      "border": null,
      "bottom": null,
      "display": null,
      "flex": null,
      "flex_flow": null,
      "grid_area": null,
      "grid_auto_columns": null,
      "grid_auto_flow": null,
      "grid_auto_rows": null,
      "grid_column": null,
      "grid_gap": null,
      "grid_row": null,
      "grid_template_areas": null,
      "grid_template_columns": null,
      "grid_template_rows": null,
      "height": null,
      "justify_content": null,
      "justify_items": null,
      "left": null,
      "margin": null,
      "max_height": null,
      "max_width": null,
      "min_height": null,
      "min_width": null,
      "object_fit": null,
      "object_position": null,
      "order": null,
      "overflow": null,
      "overflow_x": null,
      "overflow_y": null,
      "padding": null,
      "right": null,
      "top": null,
      "visibility": null,
      "width": null
     }
    },
    "9a4c9a871331424e9b501c1b259abea9": {
     "model_module": "@jupyter-widgets/base",
     "model_module_version": "1.2.0",
     "model_name": "LayoutModel",
     "state": {
      "_model_module": "@jupyter-widgets/base",
      "_model_module_version": "1.2.0",
      "_model_name": "LayoutModel",
      "_view_count": null,
      "_view_module": "@jupyter-widgets/base",
      "_view_module_version": "1.2.0",
      "_view_name": "LayoutView",
      "align_content": null,
      "align_items": null,
      "align_self": null,
      "border": null,
      "bottom": null,
      "display": null,
      "flex": null,
      "flex_flow": null,
      "grid_area": null,
      "grid_auto_columns": null,
      "grid_auto_flow": null,
      "grid_auto_rows": null,
      "grid_column": null,
      "grid_gap": null,
      "grid_row": null,
      "grid_template_areas": null,
      "grid_template_columns": null,
      "grid_template_rows": null,
      "height": null,
      "justify_content": null,
      "justify_items": null,
      "left": null,
      "margin": null,
      "max_height": null,
      "max_width": null,
      "min_height": null,
      "min_width": null,
      "object_fit": null,
      "object_position": null,
      "order": null,
      "overflow": null,
      "overflow_x": null,
      "overflow_y": null,
      "padding": null,
      "right": null,
      "top": null,
      "visibility": null,
      "width": null
     }
    },
    "9a7187aaef8c47c49493e76515e30746": {
     "model_module": "@jupyter-widgets/base",
     "model_module_version": "1.2.0",
     "model_name": "LayoutModel",
     "state": {
      "_model_module": "@jupyter-widgets/base",
      "_model_module_version": "1.2.0",
      "_model_name": "LayoutModel",
      "_view_count": null,
      "_view_module": "@jupyter-widgets/base",
      "_view_module_version": "1.2.0",
      "_view_name": "LayoutView",
      "align_content": null,
      "align_items": null,
      "align_self": null,
      "border": null,
      "bottom": null,
      "display": null,
      "flex": null,
      "flex_flow": null,
      "grid_area": null,
      "grid_auto_columns": null,
      "grid_auto_flow": null,
      "grid_auto_rows": null,
      "grid_column": null,
      "grid_gap": null,
      "grid_row": null,
      "grid_template_areas": null,
      "grid_template_columns": null,
      "grid_template_rows": null,
      "height": null,
      "justify_content": null,
      "justify_items": null,
      "left": null,
      "margin": null,
      "max_height": null,
      "max_width": null,
      "min_height": null,
      "min_width": null,
      "object_fit": null,
      "object_position": null,
      "order": null,
      "overflow": null,
      "overflow_x": null,
      "overflow_y": null,
      "padding": null,
      "right": null,
      "top": null,
      "visibility": null,
      "width": null
     }
    },
    "9add025006af463fa4a973c599f0a476": {
     "model_module": "@jupyter-widgets/base",
     "model_module_version": "1.2.0",
     "model_name": "LayoutModel",
     "state": {
      "_model_module": "@jupyter-widgets/base",
      "_model_module_version": "1.2.0",
      "_model_name": "LayoutModel",
      "_view_count": null,
      "_view_module": "@jupyter-widgets/base",
      "_view_module_version": "1.2.0",
      "_view_name": "LayoutView",
      "align_content": null,
      "align_items": null,
      "align_self": null,
      "border": null,
      "bottom": null,
      "display": null,
      "flex": null,
      "flex_flow": null,
      "grid_area": null,
      "grid_auto_columns": null,
      "grid_auto_flow": null,
      "grid_auto_rows": null,
      "grid_column": null,
      "grid_gap": null,
      "grid_row": null,
      "grid_template_areas": null,
      "grid_template_columns": null,
      "grid_template_rows": null,
      "height": null,
      "justify_content": null,
      "justify_items": null,
      "left": null,
      "margin": null,
      "max_height": null,
      "max_width": null,
      "min_height": null,
      "min_width": null,
      "object_fit": null,
      "object_position": null,
      "order": null,
      "overflow": null,
      "overflow_x": null,
      "overflow_y": null,
      "padding": null,
      "right": null,
      "top": null,
      "visibility": null,
      "width": null
     }
    },
    "9afceddbf3ea44b19d3dacd55660b237": {
     "model_module": "@jupyter-widgets/base",
     "model_module_version": "1.2.0",
     "model_name": "LayoutModel",
     "state": {
      "_model_module": "@jupyter-widgets/base",
      "_model_module_version": "1.2.0",
      "_model_name": "LayoutModel",
      "_view_count": null,
      "_view_module": "@jupyter-widgets/base",
      "_view_module_version": "1.2.0",
      "_view_name": "LayoutView",
      "align_content": null,
      "align_items": null,
      "align_self": null,
      "border": null,
      "bottom": null,
      "display": null,
      "flex": null,
      "flex_flow": null,
      "grid_area": null,
      "grid_auto_columns": null,
      "grid_auto_flow": null,
      "grid_auto_rows": null,
      "grid_column": null,
      "grid_gap": null,
      "grid_row": null,
      "grid_template_areas": null,
      "grid_template_columns": null,
      "grid_template_rows": null,
      "height": null,
      "justify_content": null,
      "justify_items": null,
      "left": null,
      "margin": null,
      "max_height": null,
      "max_width": null,
      "min_height": null,
      "min_width": null,
      "object_fit": null,
      "object_position": null,
      "order": null,
      "overflow": null,
      "overflow_x": null,
      "overflow_y": null,
      "padding": null,
      "right": null,
      "top": null,
      "visibility": null,
      "width": null
     }
    },
    "9b275e9c27c445e7bbf0723bd4180247": {
     "model_module": "@jupyter-widgets/base",
     "model_module_version": "1.2.0",
     "model_name": "LayoutModel",
     "state": {
      "_model_module": "@jupyter-widgets/base",
      "_model_module_version": "1.2.0",
      "_model_name": "LayoutModel",
      "_view_count": null,
      "_view_module": "@jupyter-widgets/base",
      "_view_module_version": "1.2.0",
      "_view_name": "LayoutView",
      "align_content": null,
      "align_items": null,
      "align_self": null,
      "border": null,
      "bottom": null,
      "display": null,
      "flex": null,
      "flex_flow": null,
      "grid_area": null,
      "grid_auto_columns": null,
      "grid_auto_flow": null,
      "grid_auto_rows": null,
      "grid_column": null,
      "grid_gap": null,
      "grid_row": null,
      "grid_template_areas": null,
      "grid_template_columns": null,
      "grid_template_rows": null,
      "height": null,
      "justify_content": null,
      "justify_items": null,
      "left": null,
      "margin": null,
      "max_height": null,
      "max_width": null,
      "min_height": null,
      "min_width": null,
      "object_fit": null,
      "object_position": null,
      "order": null,
      "overflow": null,
      "overflow_x": null,
      "overflow_y": null,
      "padding": null,
      "right": null,
      "top": null,
      "visibility": null,
      "width": null
     }
    },
    "9bfecaa985eb4683b461695da05a8f14": {
     "model_module": "@jupyter-widgets/controls",
     "model_module_version": "1.5.0",
     "model_name": "HTMLModel",
     "state": {
      "_dom_classes": [],
      "_model_module": "@jupyter-widgets/controls",
      "_model_module_version": "1.5.0",
      "_model_name": "HTMLModel",
      "_view_count": null,
      "_view_module": "@jupyter-widgets/controls",
      "_view_module_version": "1.5.0",
      "_view_name": "HTMLView",
      "description": "",
      "description_tooltip": null,
      "layout": "IPY_MODEL_fa9d0572ffb34831a311109a4306750e",
      "placeholder": "​",
      "style": "IPY_MODEL_2710d2825b6745ee81dab791b080bbd2",
      "value": "Map: 100%"
     }
    },
    "9c10b55094354e2197fe061038bfdfda": {
     "model_module": "@jupyter-widgets/controls",
     "model_module_version": "1.5.0",
     "model_name": "ProgressStyleModel",
     "state": {
      "_model_module": "@jupyter-widgets/controls",
      "_model_module_version": "1.5.0",
      "_model_name": "ProgressStyleModel",
      "_view_count": null,
      "_view_module": "@jupyter-widgets/base",
      "_view_module_version": "1.2.0",
      "_view_name": "StyleView",
      "bar_color": null,
      "description_width": ""
     }
    },
    "9d1de086142041ca803915c751da6610": {
     "model_module": "@jupyter-widgets/controls",
     "model_module_version": "1.5.0",
     "model_name": "FloatProgressModel",
     "state": {
      "_dom_classes": [],
      "_model_module": "@jupyter-widgets/controls",
      "_model_module_version": "1.5.0",
      "_model_name": "FloatProgressModel",
      "_view_count": null,
      "_view_module": "@jupyter-widgets/controls",
      "_view_module_version": "1.5.0",
      "_view_name": "ProgressView",
      "bar_style": "success",
      "description": "",
      "description_tooltip": null,
      "layout": "IPY_MODEL_aa6142c7139e4a9d9f1d382c694d9526",
      "max": 1884,
      "min": 0,
      "orientation": "horizontal",
      "style": "IPY_MODEL_bf1089a959d842658e1ee696ef2e9c24",
      "value": 1884
     }
    },
    "9d32a863cd214d8e88e95dad449368d2": {
     "model_module": "@jupyter-widgets/controls",
     "model_module_version": "1.5.0",
     "model_name": "DescriptionStyleModel",
     "state": {
      "_model_module": "@jupyter-widgets/controls",
      "_model_module_version": "1.5.0",
      "_model_name": "DescriptionStyleModel",
      "_view_count": null,
      "_view_module": "@jupyter-widgets/base",
      "_view_module_version": "1.2.0",
      "_view_name": "StyleView",
      "description_width": ""
     }
    },
    "9f5c0ec19a1b44e280c2003e76dbd90e": {
     "model_module": "@jupyter-widgets/base",
     "model_module_version": "1.2.0",
     "model_name": "LayoutModel",
     "state": {
      "_model_module": "@jupyter-widgets/base",
      "_model_module_version": "1.2.0",
      "_model_name": "LayoutModel",
      "_view_count": null,
      "_view_module": "@jupyter-widgets/base",
      "_view_module_version": "1.2.0",
      "_view_name": "LayoutView",
      "align_content": null,
      "align_items": null,
      "align_self": null,
      "border": null,
      "bottom": null,
      "display": null,
      "flex": null,
      "flex_flow": null,
      "grid_area": null,
      "grid_auto_columns": null,
      "grid_auto_flow": null,
      "grid_auto_rows": null,
      "grid_column": null,
      "grid_gap": null,
      "grid_row": null,
      "grid_template_areas": null,
      "grid_template_columns": null,
      "grid_template_rows": null,
      "height": null,
      "justify_content": null,
      "justify_items": null,
      "left": null,
      "margin": null,
      "max_height": null,
      "max_width": null,
      "min_height": null,
      "min_width": null,
      "object_fit": null,
      "object_position": null,
      "order": null,
      "overflow": null,
      "overflow_x": null,
      "overflow_y": null,
      "padding": null,
      "right": null,
      "top": null,
      "visibility": null,
      "width": null
     }
    },
    "a01516c3c8a741a3ad6d5300cc125e60": {
     "model_module": "@jupyter-widgets/controls",
     "model_module_version": "1.5.0",
     "model_name": "HTMLModel",
     "state": {
      "_dom_classes": [],
      "_model_module": "@jupyter-widgets/controls",
      "_model_module_version": "1.5.0",
      "_model_name": "HTMLModel",
      "_view_count": null,
      "_view_module": "@jupyter-widgets/controls",
      "_view_module_version": "1.5.0",
      "_view_name": "HTMLView",
      "description": "",
      "description_tooltip": null,
      "layout": "IPY_MODEL_ca06b7c73c304b7ca0390f31cb443bf6",
      "placeholder": "​",
      "style": "IPY_MODEL_ccc226f5042a4cfea959aa83f36addfa",
      "value": " 25.0/25.0 [00:00&lt;00:00, 927B/s]"
     }
    },
    "a090703bb2ff40f1af75d1570540cb95": {
     "model_module": "@jupyter-widgets/controls",
     "model_module_version": "1.5.0",
     "model_name": "HBoxModel",
     "state": {
      "_dom_classes": [],
      "_model_module": "@jupyter-widgets/controls",
      "_model_module_version": "1.5.0",
      "_model_name": "HBoxModel",
      "_view_count": null,
      "_view_module": "@jupyter-widgets/controls",
      "_view_module_version": "1.5.0",
      "_view_name": "HBoxView",
      "box_style": "",
      "children": [
       "IPY_MODEL_c4dc910090904887a10b7f38ca132b1c",
       "IPY_MODEL_3904b10e54b74ecea8d3979e47554f8c",
       "IPY_MODEL_c9fc1b6593724ac1bd397b15d4c95681"
      ],
      "layout": "IPY_MODEL_02c4c9fa2011485e9ba88ad1972678b1"
     }
    },
    "a0d305ea9d4d45dc93b9ba74702c376f": {
     "model_module": "@jupyter-widgets/base",
     "model_module_version": "1.2.0",
     "model_name": "LayoutModel",
     "state": {
      "_model_module": "@jupyter-widgets/base",
      "_model_module_version": "1.2.0",
      "_model_name": "LayoutModel",
      "_view_count": null,
      "_view_module": "@jupyter-widgets/base",
      "_view_module_version": "1.2.0",
      "_view_name": "LayoutView",
      "align_content": null,
      "align_items": null,
      "align_self": null,
      "border": null,
      "bottom": null,
      "display": null,
      "flex": null,
      "flex_flow": null,
      "grid_area": null,
      "grid_auto_columns": null,
      "grid_auto_flow": null,
      "grid_auto_rows": null,
      "grid_column": null,
      "grid_gap": null,
      "grid_row": null,
      "grid_template_areas": null,
      "grid_template_columns": null,
      "grid_template_rows": null,
      "height": null,
      "justify_content": null,
      "justify_items": null,
      "left": null,
      "margin": null,
      "max_height": null,
      "max_width": null,
      "min_height": null,
      "min_width": null,
      "object_fit": null,
      "object_position": null,
      "order": null,
      "overflow": null,
      "overflow_x": null,
      "overflow_y": null,
      "padding": null,
      "right": null,
      "top": null,
      "visibility": null,
      "width": null
     }
    },
    "a1fc2b23a95f4a12815052a80e4a5b14": {
     "model_module": "@jupyter-widgets/base",
     "model_module_version": "1.2.0",
     "model_name": "LayoutModel",
     "state": {
      "_model_module": "@jupyter-widgets/base",
      "_model_module_version": "1.2.0",
      "_model_name": "LayoutModel",
      "_view_count": null,
      "_view_module": "@jupyter-widgets/base",
      "_view_module_version": "1.2.0",
      "_view_name": "LayoutView",
      "align_content": null,
      "align_items": null,
      "align_self": null,
      "border": null,
      "bottom": null,
      "display": null,
      "flex": null,
      "flex_flow": null,
      "grid_area": null,
      "grid_auto_columns": null,
      "grid_auto_flow": null,
      "grid_auto_rows": null,
      "grid_column": null,
      "grid_gap": null,
      "grid_row": null,
      "grid_template_areas": null,
      "grid_template_columns": null,
      "grid_template_rows": null,
      "height": null,
      "justify_content": null,
      "justify_items": null,
      "left": null,
      "margin": null,
      "max_height": null,
      "max_width": null,
      "min_height": null,
      "min_width": null,
      "object_fit": null,
      "object_position": null,
      "order": null,
      "overflow": null,
      "overflow_x": null,
      "overflow_y": null,
      "padding": null,
      "right": null,
      "top": null,
      "visibility": null,
      "width": null
     }
    },
    "a2f6c780389b4fbf8b4a5aa4b3525eb8": {
     "model_module": "@jupyter-widgets/controls",
     "model_module_version": "1.5.0",
     "model_name": "DescriptionStyleModel",
     "state": {
      "_model_module": "@jupyter-widgets/controls",
      "_model_module_version": "1.5.0",
      "_model_name": "DescriptionStyleModel",
      "_view_count": null,
      "_view_module": "@jupyter-widgets/base",
      "_view_module_version": "1.2.0",
      "_view_name": "StyleView",
      "description_width": ""
     }
    },
    "a45e12977332429c8fc4b0e25896a2dc": {
     "model_module": "@jupyter-widgets/controls",
     "model_module_version": "1.5.0",
     "model_name": "ProgressStyleModel",
     "state": {
      "_model_module": "@jupyter-widgets/controls",
      "_model_module_version": "1.5.0",
      "_model_name": "ProgressStyleModel",
      "_view_count": null,
      "_view_module": "@jupyter-widgets/base",
      "_view_module_version": "1.2.0",
      "_view_name": "StyleView",
      "bar_color": null,
      "description_width": ""
     }
    },
    "a63234b802224ababc11e9f077d3c83c": {
     "model_module": "@jupyter-widgets/base",
     "model_module_version": "1.2.0",
     "model_name": "LayoutModel",
     "state": {
      "_model_module": "@jupyter-widgets/base",
      "_model_module_version": "1.2.0",
      "_model_name": "LayoutModel",
      "_view_count": null,
      "_view_module": "@jupyter-widgets/base",
      "_view_module_version": "1.2.0",
      "_view_name": "LayoutView",
      "align_content": null,
      "align_items": null,
      "align_self": null,
      "border": null,
      "bottom": null,
      "display": null,
      "flex": null,
      "flex_flow": null,
      "grid_area": null,
      "grid_auto_columns": null,
      "grid_auto_flow": null,
      "grid_auto_rows": null,
      "grid_column": null,
      "grid_gap": null,
      "grid_row": null,
      "grid_template_areas": null,
      "grid_template_columns": null,
      "grid_template_rows": null,
      "height": null,
      "justify_content": null,
      "justify_items": null,
      "left": null,
      "margin": null,
      "max_height": null,
      "max_width": null,
      "min_height": null,
      "min_width": null,
      "object_fit": null,
      "object_position": null,
      "order": null,
      "overflow": null,
      "overflow_x": null,
      "overflow_y": null,
      "padding": null,
      "right": null,
      "top": null,
      "visibility": null,
      "width": null
     }
    },
    "a75a1fe0be094e89970e328643927022": {
     "model_module": "@jupyter-widgets/base",
     "model_module_version": "1.2.0",
     "model_name": "LayoutModel",
     "state": {
      "_model_module": "@jupyter-widgets/base",
      "_model_module_version": "1.2.0",
      "_model_name": "LayoutModel",
      "_view_count": null,
      "_view_module": "@jupyter-widgets/base",
      "_view_module_version": "1.2.0",
      "_view_name": "LayoutView",
      "align_content": null,
      "align_items": null,
      "align_self": null,
      "border": null,
      "bottom": null,
      "display": null,
      "flex": null,
      "flex_flow": null,
      "grid_area": null,
      "grid_auto_columns": null,
      "grid_auto_flow": null,
      "grid_auto_rows": null,
      "grid_column": null,
      "grid_gap": null,
      "grid_row": null,
      "grid_template_areas": null,
      "grid_template_columns": null,
      "grid_template_rows": null,
      "height": null,
      "justify_content": null,
      "justify_items": null,
      "left": null,
      "margin": null,
      "max_height": null,
      "max_width": null,
      "min_height": null,
      "min_width": null,
      "object_fit": null,
      "object_position": null,
      "order": null,
      "overflow": null,
      "overflow_x": null,
      "overflow_y": null,
      "padding": null,
      "right": null,
      "top": null,
      "visibility": null,
      "width": null
     }
    },
    "a82bcb291ad64f32b7b0f5ec2f16a3c3": {
     "model_module": "@jupyter-widgets/base",
     "model_module_version": "1.2.0",
     "model_name": "LayoutModel",
     "state": {
      "_model_module": "@jupyter-widgets/base",
      "_model_module_version": "1.2.0",
      "_model_name": "LayoutModel",
      "_view_count": null,
      "_view_module": "@jupyter-widgets/base",
      "_view_module_version": "1.2.0",
      "_view_name": "LayoutView",
      "align_content": null,
      "align_items": null,
      "align_self": null,
      "border": null,
      "bottom": null,
      "display": null,
      "flex": null,
      "flex_flow": null,
      "grid_area": null,
      "grid_auto_columns": null,
      "grid_auto_flow": null,
      "grid_auto_rows": null,
      "grid_column": null,
      "grid_gap": null,
      "grid_row": null,
      "grid_template_areas": null,
      "grid_template_columns": null,
      "grid_template_rows": null,
      "height": null,
      "justify_content": null,
      "justify_items": null,
      "left": null,
      "margin": null,
      "max_height": null,
      "max_width": null,
      "min_height": null,
      "min_width": null,
      "object_fit": null,
      "object_position": null,
      "order": null,
      "overflow": null,
      "overflow_x": null,
      "overflow_y": null,
      "padding": null,
      "right": null,
      "top": null,
      "visibility": null,
      "width": null
     }
    },
    "a9476042b6ac42fb8819f48ec8affa60": {
     "model_module": "@jupyter-widgets/controls",
     "model_module_version": "1.5.0",
     "model_name": "HTMLModel",
     "state": {
      "_dom_classes": [],
      "_model_module": "@jupyter-widgets/controls",
      "_model_module_version": "1.5.0",
      "_model_name": "HTMLModel",
      "_view_count": null,
      "_view_module": "@jupyter-widgets/controls",
      "_view_module_version": "1.5.0",
      "_view_name": "HTMLView",
      "description": "",
      "description_tooltip": null,
      "layout": "IPY_MODEL_8ac99b31da214c4a9e109ec30e9e4455",
      "placeholder": "​",
      "style": "IPY_MODEL_0f6cf252750d438da21d8558c8529fdd",
      "value": " 1884/1884 [00:00&lt;00:00, 7796.98 examples/s]"
     }
    },
    "aa6142c7139e4a9d9f1d382c694d9526": {
     "model_module": "@jupyter-widgets/base",
     "model_module_version": "1.2.0",
     "model_name": "LayoutModel",
     "state": {
      "_model_module": "@jupyter-widgets/base",
      "_model_module_version": "1.2.0",
      "_model_name": "LayoutModel",
      "_view_count": null,
      "_view_module": "@jupyter-widgets/base",
      "_view_module_version": "1.2.0",
      "_view_name": "LayoutView",
      "align_content": null,
      "align_items": null,
      "align_self": null,
      "border": null,
      "bottom": null,
      "display": null,
      "flex": null,
      "flex_flow": null,
      "grid_area": null,
      "grid_auto_columns": null,
      "grid_auto_flow": null,
      "grid_auto_rows": null,
      "grid_column": null,
      "grid_gap": null,
      "grid_row": null,
      "grid_template_areas": null,
      "grid_template_columns": null,
      "grid_template_rows": null,
      "height": null,
      "justify_content": null,
      "justify_items": null,
      "left": null,
      "margin": null,
      "max_height": null,
      "max_width": null,
      "min_height": null,
      "min_width": null,
      "object_fit": null,
      "object_position": null,
      "order": null,
      "overflow": null,
      "overflow_x": null,
      "overflow_y": null,
      "padding": null,
      "right": null,
      "top": null,
      "visibility": null,
      "width": null
     }
    },
    "aaf0800b054b4a44b205675b62f5704c": {
     "model_module": "@jupyter-widgets/controls",
     "model_module_version": "1.5.0",
     "model_name": "DescriptionStyleModel",
     "state": {
      "_model_module": "@jupyter-widgets/controls",
      "_model_module_version": "1.5.0",
      "_model_name": "DescriptionStyleModel",
      "_view_count": null,
      "_view_module": "@jupyter-widgets/base",
      "_view_module_version": "1.2.0",
      "_view_name": "StyleView",
      "description_width": ""
     }
    },
    "abbc0b0bcce14f1f99fb53f67603eaa5": {
     "model_module": "@jupyter-widgets/controls",
     "model_module_version": "1.5.0",
     "model_name": "DescriptionStyleModel",
     "state": {
      "_model_module": "@jupyter-widgets/controls",
      "_model_module_version": "1.5.0",
      "_model_name": "DescriptionStyleModel",
      "_view_count": null,
      "_view_module": "@jupyter-widgets/base",
      "_view_module_version": "1.2.0",
      "_view_name": "StyleView",
      "description_width": ""
     }
    },
    "ad2a544ee64044d183f427fa1c8b68fc": {
     "model_module": "@jupyter-widgets/controls",
     "model_module_version": "1.5.0",
     "model_name": "DescriptionStyleModel",
     "state": {
      "_model_module": "@jupyter-widgets/controls",
      "_model_module_version": "1.5.0",
      "_model_name": "DescriptionStyleModel",
      "_view_count": null,
      "_view_module": "@jupyter-widgets/base",
      "_view_module_version": "1.2.0",
      "_view_name": "StyleView",
      "description_width": ""
     }
    },
    "ae224233cb9646aaaadcd4b3fe29baae": {
     "model_module": "@jupyter-widgets/base",
     "model_module_version": "1.2.0",
     "model_name": "LayoutModel",
     "state": {
      "_model_module": "@jupyter-widgets/base",
      "_model_module_version": "1.2.0",
      "_model_name": "LayoutModel",
      "_view_count": null,
      "_view_module": "@jupyter-widgets/base",
      "_view_module_version": "1.2.0",
      "_view_name": "LayoutView",
      "align_content": null,
      "align_items": null,
      "align_self": null,
      "border": null,
      "bottom": null,
      "display": null,
      "flex": null,
      "flex_flow": null,
      "grid_area": null,
      "grid_auto_columns": null,
      "grid_auto_flow": null,
      "grid_auto_rows": null,
      "grid_column": null,
      "grid_gap": null,
      "grid_row": null,
      "grid_template_areas": null,
      "grid_template_columns": null,
      "grid_template_rows": null,
      "height": null,
      "justify_content": null,
      "justify_items": null,
      "left": null,
      "margin": null,
      "max_height": null,
      "max_width": null,
      "min_height": null,
      "min_width": null,
      "object_fit": null,
      "object_position": null,
      "order": null,
      "overflow": null,
      "overflow_x": null,
      "overflow_y": null,
      "padding": null,
      "right": null,
      "top": null,
      "visibility": null,
      "width": null
     }
    },
    "af7feca4b6ae465d91078b374a31a49b": {
     "model_module": "@jupyter-widgets/controls",
     "model_module_version": "1.5.0",
     "model_name": "ProgressStyleModel",
     "state": {
      "_model_module": "@jupyter-widgets/controls",
      "_model_module_version": "1.5.0",
      "_model_name": "ProgressStyleModel",
      "_view_count": null,
      "_view_module": "@jupyter-widgets/base",
      "_view_module_version": "1.2.0",
      "_view_name": "StyleView",
      "bar_color": null,
      "description_width": ""
     }
    },
    "afdff4c416914920bb0079d4b4c03ecc": {
     "model_module": "@jupyter-widgets/base",
     "model_module_version": "1.2.0",
     "model_name": "LayoutModel",
     "state": {
      "_model_module": "@jupyter-widgets/base",
      "_model_module_version": "1.2.0",
      "_model_name": "LayoutModel",
      "_view_count": null,
      "_view_module": "@jupyter-widgets/base",
      "_view_module_version": "1.2.0",
      "_view_name": "LayoutView",
      "align_content": null,
      "align_items": null,
      "align_self": null,
      "border": null,
      "bottom": null,
      "display": null,
      "flex": null,
      "flex_flow": null,
      "grid_area": null,
      "grid_auto_columns": null,
      "grid_auto_flow": null,
      "grid_auto_rows": null,
      "grid_column": null,
      "grid_gap": null,
      "grid_row": null,
      "grid_template_areas": null,
      "grid_template_columns": null,
      "grid_template_rows": null,
      "height": null,
      "justify_content": null,
      "justify_items": null,
      "left": null,
      "margin": null,
      "max_height": null,
      "max_width": null,
      "min_height": null,
      "min_width": null,
      "object_fit": null,
      "object_position": null,
      "order": null,
      "overflow": null,
      "overflow_x": null,
      "overflow_y": null,
      "padding": null,
      "right": null,
      "top": null,
      "visibility": null,
      "width": null
     }
    },
    "b01591e4d5e741dcb726b770cfad7bd6": {
     "model_module": "@jupyter-widgets/controls",
     "model_module_version": "1.5.0",
     "model_name": "HTMLModel",
     "state": {
      "_dom_classes": [],
      "_model_module": "@jupyter-widgets/controls",
      "_model_module_version": "1.5.0",
      "_model_name": "HTMLModel",
      "_view_count": null,
      "_view_module": "@jupyter-widgets/controls",
      "_view_module_version": "1.5.0",
      "_view_name": "HTMLView",
      "description": "",
      "description_tooltip": null,
      "layout": "IPY_MODEL_fb829caf46914903afe7f72b0a302ebd",
      "placeholder": "​",
      "style": "IPY_MODEL_6b47fc9415874b3a8920d94802421988",
      "value": "vocab.json: 100%"
     }
    },
    "b062760b16374603ab07c2b8f9cdd22e": {
     "model_module": "@jupyter-widgets/controls",
     "model_module_version": "1.5.0",
     "model_name": "DescriptionStyleModel",
     "state": {
      "_model_module": "@jupyter-widgets/controls",
      "_model_module_version": "1.5.0",
      "_model_name": "DescriptionStyleModel",
      "_view_count": null,
      "_view_module": "@jupyter-widgets/base",
      "_view_module_version": "1.2.0",
      "_view_name": "StyleView",
      "description_width": ""
     }
    },
    "b6abf2c6e0c54538bec1d0988dbf4506": {
     "model_module": "@jupyter-widgets/controls",
     "model_module_version": "1.5.0",
     "model_name": "HBoxModel",
     "state": {
      "_dom_classes": [],
      "_model_module": "@jupyter-widgets/controls",
      "_model_module_version": "1.5.0",
      "_model_name": "HBoxModel",
      "_view_count": null,
      "_view_module": "@jupyter-widgets/controls",
      "_view_module_version": "1.5.0",
      "_view_name": "HBoxView",
      "box_style": "",
      "children": [
       "IPY_MODEL_70b7e71320a148e0ac913a4b1af83d43",
       "IPY_MODEL_db3563ec50174a38bb41cb9c558620d5",
       "IPY_MODEL_f611fa2c1ab8436b99cf317ae31be62d"
      ],
      "layout": "IPY_MODEL_73854cf01d7d4dc1bcb4a48286e71eea"
     }
    },
    "b7ca81fc7de4489181c2f97417d81a23": {
     "model_module": "@jupyter-widgets/base",
     "model_module_version": "1.2.0",
     "model_name": "LayoutModel",
     "state": {
      "_model_module": "@jupyter-widgets/base",
      "_model_module_version": "1.2.0",
      "_model_name": "LayoutModel",
      "_view_count": null,
      "_view_module": "@jupyter-widgets/base",
      "_view_module_version": "1.2.0",
      "_view_name": "LayoutView",
      "align_content": null,
      "align_items": null,
      "align_self": null,
      "border": null,
      "bottom": null,
      "display": null,
      "flex": null,
      "flex_flow": null,
      "grid_area": null,
      "grid_auto_columns": null,
      "grid_auto_flow": null,
      "grid_auto_rows": null,
      "grid_column": null,
      "grid_gap": null,
      "grid_row": null,
      "grid_template_areas": null,
      "grid_template_columns": null,
      "grid_template_rows": null,
      "height": null,
      "justify_content": null,
      "justify_items": null,
      "left": null,
      "margin": null,
      "max_height": null,
      "max_width": null,
      "min_height": null,
      "min_width": null,
      "object_fit": null,
      "object_position": null,
      "order": null,
      "overflow": null,
      "overflow_x": null,
      "overflow_y": null,
      "padding": null,
      "right": null,
      "top": null,
      "visibility": null,
      "width": null
     }
    },
    "b7ebf53d40714d9ba04d91cb64564914": {
     "model_module": "@jupyter-widgets/controls",
     "model_module_version": "1.5.0",
     "model_name": "FloatProgressModel",
     "state": {
      "_dom_classes": [],
      "_model_module": "@jupyter-widgets/controls",
      "_model_module_version": "1.5.0",
      "_model_name": "FloatProgressModel",
      "_view_count": null,
      "_view_module": "@jupyter-widgets/controls",
      "_view_module_version": "1.5.0",
      "_view_name": "ProgressView",
      "bar_style": "success",
      "description": "",
      "description_tooltip": null,
      "layout": "IPY_MODEL_76e9be28528647dcb88cb172384ecc1b",
      "max": 1298,
      "min": 0,
      "orientation": "horizontal",
      "style": "IPY_MODEL_0de9480ad05e479297cbe7a78bf56fd2",
      "value": 1298
     }
    },
    "b84931db4aaf424c9d6086804768dda8": {
     "model_module": "@jupyter-widgets/base",
     "model_module_version": "1.2.0",
     "model_name": "LayoutModel",
     "state": {
      "_model_module": "@jupyter-widgets/base",
      "_model_module_version": "1.2.0",
      "_model_name": "LayoutModel",
      "_view_count": null,
      "_view_module": "@jupyter-widgets/base",
      "_view_module_version": "1.2.0",
      "_view_name": "LayoutView",
      "align_content": null,
      "align_items": null,
      "align_self": null,
      "border": null,
      "bottom": null,
      "display": null,
      "flex": null,
      "flex_flow": null,
      "grid_area": null,
      "grid_auto_columns": null,
      "grid_auto_flow": null,
      "grid_auto_rows": null,
      "grid_column": null,
      "grid_gap": null,
      "grid_row": null,
      "grid_template_areas": null,
      "grid_template_columns": null,
      "grid_template_rows": null,
      "height": null,
      "justify_content": null,
      "justify_items": null,
      "left": null,
      "margin": null,
      "max_height": null,
      "max_width": null,
      "min_height": null,
      "min_width": null,
      "object_fit": null,
      "object_position": null,
      "order": null,
      "overflow": null,
      "overflow_x": null,
      "overflow_y": null,
      "padding": null,
      "right": null,
      "top": null,
      "visibility": null,
      "width": null
     }
    },
    "b9f43e28d8cb4f1c95bdafe25e9c7a7b": {
     "model_module": "@jupyter-widgets/controls",
     "model_module_version": "1.5.0",
     "model_name": "ProgressStyleModel",
     "state": {
      "_model_module": "@jupyter-widgets/controls",
      "_model_module_version": "1.5.0",
      "_model_name": "ProgressStyleModel",
      "_view_count": null,
      "_view_module": "@jupyter-widgets/base",
      "_view_module_version": "1.2.0",
      "_view_name": "StyleView",
      "bar_color": null,
      "description_width": ""
     }
    },
    "ba7e8e44aa9147b1bff5a69369c89136": {
     "model_module": "@jupyter-widgets/base",
     "model_module_version": "1.2.0",
     "model_name": "LayoutModel",
     "state": {
      "_model_module": "@jupyter-widgets/base",
      "_model_module_version": "1.2.0",
      "_model_name": "LayoutModel",
      "_view_count": null,
      "_view_module": "@jupyter-widgets/base",
      "_view_module_version": "1.2.0",
      "_view_name": "LayoutView",
      "align_content": null,
      "align_items": null,
      "align_self": null,
      "border": null,
      "bottom": null,
      "display": null,
      "flex": null,
      "flex_flow": null,
      "grid_area": null,
      "grid_auto_columns": null,
      "grid_auto_flow": null,
      "grid_auto_rows": null,
      "grid_column": null,
      "grid_gap": null,
      "grid_row": null,
      "grid_template_areas": null,
      "grid_template_columns": null,
      "grid_template_rows": null,
      "height": null,
      "justify_content": null,
      "justify_items": null,
      "left": null,
      "margin": null,
      "max_height": null,
      "max_width": null,
      "min_height": null,
      "min_width": null,
      "object_fit": null,
      "object_position": null,
      "order": null,
      "overflow": null,
      "overflow_x": null,
      "overflow_y": null,
      "padding": null,
      "right": null,
      "top": null,
      "visibility": null,
      "width": null
     }
    },
    "baf50e8bb0964742b9506dc632083550": {
     "model_module": "@jupyter-widgets/controls",
     "model_module_version": "1.5.0",
     "model_name": "FloatProgressModel",
     "state": {
      "_dom_classes": [],
      "_model_module": "@jupyter-widgets/controls",
      "_model_module_version": "1.5.0",
      "_model_name": "FloatProgressModel",
      "_view_count": null,
      "_view_module": "@jupyter-widgets/controls",
      "_view_module_version": "1.5.0",
      "_view_name": "ProgressView",
      "bar_style": "success",
      "description": "",
      "description_tooltip": null,
      "layout": "IPY_MODEL_477c39a39255423d87b5da26773020e6",
      "max": 7614,
      "min": 0,
      "orientation": "horizontal",
      "style": "IPY_MODEL_a45e12977332429c8fc4b0e25896a2dc",
      "value": 7614
     }
    },
    "bb9d1c0461024f5abb4a59538148baa8": {
     "model_module": "@jupyter-widgets/base",
     "model_module_version": "1.2.0",
     "model_name": "LayoutModel",
     "state": {
      "_model_module": "@jupyter-widgets/base",
      "_model_module_version": "1.2.0",
      "_model_name": "LayoutModel",
      "_view_count": null,
      "_view_module": "@jupyter-widgets/base",
      "_view_module_version": "1.2.0",
      "_view_name": "LayoutView",
      "align_content": null,
      "align_items": null,
      "align_self": null,
      "border": null,
      "bottom": null,
      "display": null,
      "flex": null,
      "flex_flow": null,
      "grid_area": null,
      "grid_auto_columns": null,
      "grid_auto_flow": null,
      "grid_auto_rows": null,
      "grid_column": null,
      "grid_gap": null,
      "grid_row": null,
      "grid_template_areas": null,
      "grid_template_columns": null,
      "grid_template_rows": null,
      "height": null,
      "justify_content": null,
      "justify_items": null,
      "left": null,
      "margin": null,
      "max_height": null,
      "max_width": null,
      "min_height": null,
      "min_width": null,
      "object_fit": null,
      "object_position": null,
      "order": null,
      "overflow": null,
      "overflow_x": null,
      "overflow_y": null,
      "padding": null,
      "right": null,
      "top": null,
      "visibility": null,
      "width": null
     }
    },
    "bbdb741d146b47a785e607186aef802e": {
     "model_module": "@jupyter-widgets/base",
     "model_module_version": "1.2.0",
     "model_name": "LayoutModel",
     "state": {
      "_model_module": "@jupyter-widgets/base",
      "_model_module_version": "1.2.0",
      "_model_name": "LayoutModel",
      "_view_count": null,
      "_view_module": "@jupyter-widgets/base",
      "_view_module_version": "1.2.0",
      "_view_name": "LayoutView",
      "align_content": null,
      "align_items": null,
      "align_self": null,
      "border": null,
      "bottom": null,
      "display": null,
      "flex": null,
      "flex_flow": null,
      "grid_area": null,
      "grid_auto_columns": null,
      "grid_auto_flow": null,
      "grid_auto_rows": null,
      "grid_column": null,
      "grid_gap": null,
      "grid_row": null,
      "grid_template_areas": null,
      "grid_template_columns": null,
      "grid_template_rows": null,
      "height": null,
      "justify_content": null,
      "justify_items": null,
      "left": null,
      "margin": null,
      "max_height": null,
      "max_width": null,
      "min_height": null,
      "min_width": null,
      "object_fit": null,
      "object_position": null,
      "order": null,
      "overflow": null,
      "overflow_x": null,
      "overflow_y": null,
      "padding": null,
      "right": null,
      "top": null,
      "visibility": null,
      "width": null
     }
    },
    "bc04d222128044aaba20108e840a45f1": {
     "model_module": "@jupyter-widgets/controls",
     "model_module_version": "1.5.0",
     "model_name": "HTMLModel",
     "state": {
      "_dom_classes": [],
      "_model_module": "@jupyter-widgets/controls",
      "_model_module_version": "1.5.0",
      "_model_name": "HTMLModel",
      "_view_count": null,
      "_view_module": "@jupyter-widgets/controls",
      "_view_module_version": "1.5.0",
      "_view_name": "HTMLView",
      "description": "",
      "description_tooltip": null,
      "layout": "IPY_MODEL_f1fbe82d0572428fb102d27f9e39e1ec",
      "placeholder": "​",
      "style": "IPY_MODEL_cb24a3e061a14fed8b3c180075066a72",
      "value": " 174k/174k [00:00&lt;00:00, 4.90MB/s]"
     }
    },
    "bc83c5ba861d4d2fa1a75fefc940e59b": {
     "model_module": "@jupyter-widgets/controls",
     "model_module_version": "1.5.0",
     "model_name": "HTMLModel",
     "state": {
      "_dom_classes": [],
      "_model_module": "@jupyter-widgets/controls",
      "_model_module_version": "1.5.0",
      "_model_name": "HTMLModel",
      "_view_count": null,
      "_view_module": "@jupyter-widgets/controls",
      "_view_module_version": "1.5.0",
      "_view_name": "HTMLView",
      "description": "",
      "description_tooltip": null,
      "layout": "IPY_MODEL_f494f3ffe1f2487d8133cc98dd93f181",
      "placeholder": "​",
      "style": "IPY_MODEL_6744a22b997b4147b0f820123a106dcc",
      "value": "Map: 100%"
     }
    },
    "bca5aea1f30f4a69868db3cf424e256b": {
     "model_module": "@jupyter-widgets/base",
     "model_module_version": "1.2.0",
     "model_name": "LayoutModel",
     "state": {
      "_model_module": "@jupyter-widgets/base",
      "_model_module_version": "1.2.0",
      "_model_name": "LayoutModel",
      "_view_count": null,
      "_view_module": "@jupyter-widgets/base",
      "_view_module_version": "1.2.0",
      "_view_name": "LayoutView",
      "align_content": null,
      "align_items": null,
      "align_self": null,
      "border": null,
      "bottom": null,
      "display": null,
      "flex": null,
      "flex_flow": null,
      "grid_area": null,
      "grid_auto_columns": null,
      "grid_auto_flow": null,
      "grid_auto_rows": null,
      "grid_column": null,
      "grid_gap": null,
      "grid_row": null,
      "grid_template_areas": null,
      "grid_template_columns": null,
      "grid_template_rows": null,
      "height": null,
      "justify_content": null,
      "justify_items": null,
      "left": null,
      "margin": null,
      "max_height": null,
      "max_width": null,
      "min_height": null,
      "min_width": null,
      "object_fit": null,
      "object_position": null,
      "order": null,
      "overflow": null,
      "overflow_x": null,
      "overflow_y": null,
      "padding": null,
      "right": null,
      "top": null,
      "visibility": null,
      "width": null
     }
    },
    "bd6da6f1336f4edc95df834cc8ee9abb": {
     "model_module": "@jupyter-widgets/controls",
     "model_module_version": "1.5.0",
     "model_name": "DescriptionStyleModel",
     "state": {
      "_model_module": "@jupyter-widgets/controls",
      "_model_module_version": "1.5.0",
      "_model_name": "DescriptionStyleModel",
      "_view_count": null,
      "_view_module": "@jupyter-widgets/base",
      "_view_module_version": "1.2.0",
      "_view_name": "StyleView",
      "description_width": ""
     }
    },
    "bdb1f3a4342c418c83392b899c0a0eb9": {
     "model_module": "@jupyter-widgets/base",
     "model_module_version": "1.2.0",
     "model_name": "LayoutModel",
     "state": {
      "_model_module": "@jupyter-widgets/base",
      "_model_module_version": "1.2.0",
      "_model_name": "LayoutModel",
      "_view_count": null,
      "_view_module": "@jupyter-widgets/base",
      "_view_module_version": "1.2.0",
      "_view_name": "LayoutView",
      "align_content": null,
      "align_items": null,
      "align_self": null,
      "border": null,
      "bottom": null,
      "display": null,
      "flex": null,
      "flex_flow": null,
      "grid_area": null,
      "grid_auto_columns": null,
      "grid_auto_flow": null,
      "grid_auto_rows": null,
      "grid_column": null,
      "grid_gap": null,
      "grid_row": null,
      "grid_template_areas": null,
      "grid_template_columns": null,
      "grid_template_rows": null,
      "height": null,
      "justify_content": null,
      "justify_items": null,
      "left": null,
      "margin": null,
      "max_height": null,
      "max_width": null,
      "min_height": null,
      "min_width": null,
      "object_fit": null,
      "object_position": null,
      "order": null,
      "overflow": null,
      "overflow_x": null,
      "overflow_y": null,
      "padding": null,
      "right": null,
      "top": null,
      "visibility": null,
      "width": null
     }
    },
    "bdfbe0687457427682ffc7b5aee8b1dd": {
     "model_module": "@jupyter-widgets/controls",
     "model_module_version": "1.5.0",
     "model_name": "HTMLModel",
     "state": {
      "_dom_classes": [],
      "_model_module": "@jupyter-widgets/controls",
      "_model_module_version": "1.5.0",
      "_model_name": "HTMLModel",
      "_view_count": null,
      "_view_module": "@jupyter-widgets/controls",
      "_view_module_version": "1.5.0",
      "_view_name": "HTMLView",
      "description": "",
      "description_tooltip": null,
      "layout": "IPY_MODEL_de43322c01ee4ffa864cff3eec15b6d8",
      "placeholder": "​",
      "style": "IPY_MODEL_a2f6c780389b4fbf8b4a5aa4b3525eb8",
      "value": "Map: 100%"
     }
    },
    "bf1089a959d842658e1ee696ef2e9c24": {
     "model_module": "@jupyter-widgets/controls",
     "model_module_version": "1.5.0",
     "model_name": "ProgressStyleModel",
     "state": {
      "_model_module": "@jupyter-widgets/controls",
      "_model_module_version": "1.5.0",
      "_model_name": "ProgressStyleModel",
      "_view_count": null,
      "_view_module": "@jupyter-widgets/base",
      "_view_module_version": "1.2.0",
      "_view_name": "StyleView",
      "bar_color": null,
      "description_width": ""
     }
    },
    "bfd666a3210e48248d1265fcda39302c": {
     "model_module": "@jupyter-widgets/controls",
     "model_module_version": "1.5.0",
     "model_name": "DescriptionStyleModel",
     "state": {
      "_model_module": "@jupyter-widgets/controls",
      "_model_module_version": "1.5.0",
      "_model_name": "DescriptionStyleModel",
      "_view_count": null,
      "_view_module": "@jupyter-widgets/base",
      "_view_module_version": "1.2.0",
      "_view_name": "StyleView",
      "description_width": ""
     }
    },
    "c0d2f9c825c343f4820f789a4a7313f5": {
     "model_module": "@jupyter-widgets/controls",
     "model_module_version": "1.5.0",
     "model_name": "HTMLModel",
     "state": {
      "_dom_classes": [],
      "_model_module": "@jupyter-widgets/controls",
      "_model_module_version": "1.5.0",
      "_model_name": "HTMLModel",
      "_view_count": null,
      "_view_module": "@jupyter-widgets/controls",
      "_view_module_version": "1.5.0",
      "_view_name": "HTMLView",
      "description": "",
      "description_tooltip": null,
      "layout": "IPY_MODEL_947d3528376f47c0aa6c06bf066ab084",
      "placeholder": "​",
      "style": "IPY_MODEL_f8c0a1969a764116b332654860907be8",
      "value": " 1298/1298 [00:00&lt;00:00, 6758.63 examples/s]"
     }
    },
    "c1595f9868994073a5cfcc19d107c24b": {
     "model_module": "@jupyter-widgets/base",
     "model_module_version": "1.2.0",
     "model_name": "LayoutModel",
     "state": {
      "_model_module": "@jupyter-widgets/base",
      "_model_module_version": "1.2.0",
      "_model_name": "LayoutModel",
      "_view_count": null,
      "_view_module": "@jupyter-widgets/base",
      "_view_module_version": "1.2.0",
      "_view_name": "LayoutView",
      "align_content": null,
      "align_items": null,
      "align_self": null,
      "border": null,
      "bottom": null,
      "display": null,
      "flex": null,
      "flex_flow": null,
      "grid_area": null,
      "grid_auto_columns": null,
      "grid_auto_flow": null,
      "grid_auto_rows": null,
      "grid_column": null,
      "grid_gap": null,
      "grid_row": null,
      "grid_template_areas": null,
      "grid_template_columns": null,
      "grid_template_rows": null,
      "height": null,
      "justify_content": null,
      "justify_items": null,
      "left": null,
      "margin": null,
      "max_height": null,
      "max_width": null,
      "min_height": null,
      "min_width": null,
      "object_fit": null,
      "object_position": null,
      "order": null,
      "overflow": null,
      "overflow_x": null,
      "overflow_y": null,
      "padding": null,
      "right": null,
      "top": null,
      "visibility": null,
      "width": null
     }
    },
    "c356253b7cdf41dba172dea2019f2515": {
     "model_module": "@jupyter-widgets/base",
     "model_module_version": "1.2.0",
     "model_name": "LayoutModel",
     "state": {
      "_model_module": "@jupyter-widgets/base",
      "_model_module_version": "1.2.0",
      "_model_name": "LayoutModel",
      "_view_count": null,
      "_view_module": "@jupyter-widgets/base",
      "_view_module_version": "1.2.0",
      "_view_name": "LayoutView",
      "align_content": null,
      "align_items": null,
      "align_self": null,
      "border": null,
      "bottom": null,
      "display": null,
      "flex": null,
      "flex_flow": null,
      "grid_area": null,
      "grid_auto_columns": null,
      "grid_auto_flow": null,
      "grid_auto_rows": null,
      "grid_column": null,
      "grid_gap": null,
      "grid_row": null,
      "grid_template_areas": null,
      "grid_template_columns": null,
      "grid_template_rows": null,
      "height": null,
      "justify_content": null,
      "justify_items": null,
      "left": null,
      "margin": null,
      "max_height": null,
      "max_width": null,
      "min_height": null,
      "min_width": null,
      "object_fit": null,
      "object_position": null,
      "order": null,
      "overflow": null,
      "overflow_x": null,
      "overflow_y": null,
      "padding": null,
      "right": null,
      "top": null,
      "visibility": null,
      "width": null
     }
    },
    "c4dc910090904887a10b7f38ca132b1c": {
     "model_module": "@jupyter-widgets/controls",
     "model_module_version": "1.5.0",
     "model_name": "HTMLModel",
     "state": {
      "_dom_classes": [],
      "_model_module": "@jupyter-widgets/controls",
      "_model_module_version": "1.5.0",
      "_model_name": "HTMLModel",
      "_view_count": null,
      "_view_module": "@jupyter-widgets/controls",
      "_view_module_version": "1.5.0",
      "_view_name": "HTMLView",
      "description": "",
      "description_tooltip": null,
      "layout": "IPY_MODEL_f13ef57467a244f08be96087bf8325d2",
      "placeholder": "​",
      "style": "IPY_MODEL_f16496815f064583986bb6eeb2cdb7a3",
      "value": "Map: 100%"
     }
    },
    "c53ba2d370e54ecb8ef4909584effc5e": {
     "model_module": "@jupyter-widgets/base",
     "model_module_version": "1.2.0",
     "model_name": "LayoutModel",
     "state": {
      "_model_module": "@jupyter-widgets/base",
      "_model_module_version": "1.2.0",
      "_model_name": "LayoutModel",
      "_view_count": null,
      "_view_module": "@jupyter-widgets/base",
      "_view_module_version": "1.2.0",
      "_view_name": "LayoutView",
      "align_content": null,
      "align_items": null,
      "align_self": null,
      "border": null,
      "bottom": null,
      "display": null,
      "flex": null,
      "flex_flow": null,
      "grid_area": null,
      "grid_auto_columns": null,
      "grid_auto_flow": null,
      "grid_auto_rows": null,
      "grid_column": null,
      "grid_gap": null,
      "grid_row": null,
      "grid_template_areas": null,
      "grid_template_columns": null,
      "grid_template_rows": null,
      "height": null,
      "justify_content": null,
      "justify_items": null,
      "left": null,
      "margin": null,
      "max_height": null,
      "max_width": null,
      "min_height": null,
      "min_width": null,
      "object_fit": null,
      "object_position": null,
      "order": null,
      "overflow": null,
      "overflow_x": null,
      "overflow_y": null,
      "padding": null,
      "right": null,
      "top": null,
      "visibility": null,
      "width": null
     }
    },
    "c6bc2814a4ca4585b68589734f7af567": {
     "model_module": "@jupyter-widgets/controls",
     "model_module_version": "1.5.0",
     "model_name": "HTMLModel",
     "state": {
      "_dom_classes": [],
      "_model_module": "@jupyter-widgets/controls",
      "_model_module_version": "1.5.0",
      "_model_name": "HTMLModel",
      "_view_count": null,
      "_view_module": "@jupyter-widgets/controls",
      "_view_module_version": "1.5.0",
      "_view_name": "HTMLView",
      "description": "",
      "description_tooltip": null,
      "layout": "IPY_MODEL_71df9626bdcb4175bb0c40682c4e359e",
      "placeholder": "​",
      "style": "IPY_MODEL_22c522bf5cbf4156a8e59576a1bc0e72",
      "value": "python_test-00000-of-00001.parquet: 100%"
     }
    },
    "c709e60fc98349b191b640c310bed300": {
     "model_module": "@jupyter-widgets/controls",
     "model_module_version": "1.5.0",
     "model_name": "HBoxModel",
     "state": {
      "_dom_classes": [],
      "_model_module": "@jupyter-widgets/controls",
      "_model_module_version": "1.5.0",
      "_model_name": "HBoxModel",
      "_view_count": null,
      "_view_module": "@jupyter-widgets/controls",
      "_view_module_version": "1.5.0",
      "_view_name": "HBoxView",
      "box_style": "",
      "children": [
       "IPY_MODEL_96989c4d0bb245abbc997768521f9a31",
       "IPY_MODEL_4a910cc8b7fb4abaa0fcb9cb70805673",
       "IPY_MODEL_f0a6c6fa1e72494197fe6b9c13e5cad8"
      ],
      "layout": "IPY_MODEL_b84931db4aaf424c9d6086804768dda8"
     }
    },
    "c70ae22a80504bc0bd9513c3a886bc98": {
     "model_module": "@jupyter-widgets/base",
     "model_module_version": "1.2.0",
     "model_name": "LayoutModel",
     "state": {
      "_model_module": "@jupyter-widgets/base",
      "_model_module_version": "1.2.0",
      "_model_name": "LayoutModel",
      "_view_count": null,
      "_view_module": "@jupyter-widgets/base",
      "_view_module_version": "1.2.0",
      "_view_name": "LayoutView",
      "align_content": null,
      "align_items": null,
      "align_self": null,
      "border": null,
      "bottom": null,
      "display": null,
      "flex": null,
      "flex_flow": null,
      "grid_area": null,
      "grid_auto_columns": null,
      "grid_auto_flow": null,
      "grid_auto_rows": null,
      "grid_column": null,
      "grid_gap": null,
      "grid_row": null,
      "grid_template_areas": null,
      "grid_template_columns": null,
      "grid_template_rows": null,
      "height": null,
      "justify_content": null,
      "justify_items": null,
      "left": null,
      "margin": null,
      "max_height": null,
      "max_width": null,
      "min_height": null,
      "min_width": null,
      "object_fit": null,
      "object_position": null,
      "order": null,
      "overflow": null,
      "overflow_x": null,
      "overflow_y": null,
      "padding": null,
      "right": null,
      "top": null,
      "visibility": null,
      "width": null
     }
    },
    "c79e18b0edba428e9293c65cc033cbc1": {
     "model_module": "@jupyter-widgets/controls",
     "model_module_version": "1.5.0",
     "model_name": "HTMLModel",
     "state": {
      "_dom_classes": [],
      "_model_module": "@jupyter-widgets/controls",
      "_model_module_version": "1.5.0",
      "_model_name": "HTMLModel",
      "_view_count": null,
      "_view_module": "@jupyter-widgets/controls",
      "_view_module_version": "1.5.0",
      "_view_name": "HTMLView",
      "description": "",
      "description_tooltip": null,
      "layout": "IPY_MODEL_1c0ba0a224a34498a2087779c37e04e9",
      "placeholder": "​",
      "style": "IPY_MODEL_aaf0800b054b4a44b205675b62f5704c",
      "value": "Map: 100%"
     }
    },
    "c86adf6bcd3e49ac9485865bd3b21302": {
     "model_module": "@jupyter-widgets/base",
     "model_module_version": "1.2.0",
     "model_name": "LayoutModel",
     "state": {
      "_model_module": "@jupyter-widgets/base",
      "_model_module_version": "1.2.0",
      "_model_name": "LayoutModel",
      "_view_count": null,
      "_view_module": "@jupyter-widgets/base",
      "_view_module_version": "1.2.0",
      "_view_name": "LayoutView",
      "align_content": null,
      "align_items": null,
      "align_self": null,
      "border": null,
      "bottom": null,
      "display": null,
      "flex": null,
      "flex_flow": null,
      "grid_area": null,
      "grid_auto_columns": null,
      "grid_auto_flow": null,
      "grid_auto_rows": null,
      "grid_column": null,
      "grid_gap": null,
      "grid_row": null,
      "grid_template_areas": null,
      "grid_template_columns": null,
      "grid_template_rows": null,
      "height": null,
      "justify_content": null,
      "justify_items": null,
      "left": null,
      "margin": null,
      "max_height": null,
      "max_width": null,
      "min_height": null,
      "min_width": null,
      "object_fit": null,
      "object_position": null,
      "order": null,
      "overflow": null,
      "overflow_x": null,
      "overflow_y": null,
      "padding": null,
      "right": null,
      "top": null,
      "visibility": null,
      "width": null
     }
    },
    "c9fc1b6593724ac1bd397b15d4c95681": {
     "model_module": "@jupyter-widgets/controls",
     "model_module_version": "1.5.0",
     "model_name": "HTMLModel",
     "state": {
      "_dom_classes": [],
      "_model_module": "@jupyter-widgets/controls",
      "_model_module_version": "1.5.0",
      "_model_name": "HTMLModel",
      "_view_count": null,
      "_view_module": "@jupyter-widgets/controls",
      "_view_module_version": "1.5.0",
      "_view_name": "HTMLView",
      "description": "",
      "description_tooltip": null,
      "layout": "IPY_MODEL_3c8331d4903f4ff883f1c555e139235b",
      "placeholder": "​",
      "style": "IPY_MODEL_27c2fd9375ee460295e8fc449eeca35b",
      "value": " 1298/1298 [00:00&lt;00:00, 4253.12 examples/s]"
     }
    },
    "ca06b7c73c304b7ca0390f31cb443bf6": {
     "model_module": "@jupyter-widgets/base",
     "model_module_version": "1.2.0",
     "model_name": "LayoutModel",
     "state": {
      "_model_module": "@jupyter-widgets/base",
      "_model_module_version": "1.2.0",
      "_model_name": "LayoutModel",
      "_view_count": null,
      "_view_module": "@jupyter-widgets/base",
      "_view_module_version": "1.2.0",
      "_view_name": "LayoutView",
      "align_content": null,
      "align_items": null,
      "align_self": null,
      "border": null,
      "bottom": null,
      "display": null,
      "flex": null,
      "flex_flow": null,
      "grid_area": null,
      "grid_auto_columns": null,
      "grid_auto_flow": null,
      "grid_auto_rows": null,
      "grid_column": null,
      "grid_gap": null,
      "grid_row": null,
      "grid_template_areas": null,
      "grid_template_columns": null,
      "grid_template_rows": null,
      "height": null,
      "justify_content": null,
      "justify_items": null,
      "left": null,
      "margin": null,
      "max_height": null,
      "max_width": null,
      "min_height": null,
      "min_width": null,
      "object_fit": null,
      "object_position": null,
      "order": null,
      "overflow": null,
      "overflow_x": null,
      "overflow_y": null,
      "padding": null,
      "right": null,
      "top": null,
      "visibility": null,
      "width": null
     }
    },
    "cad2965d63fc40458919e008c84942c9": {
     "model_module": "@jupyter-widgets/controls",
     "model_module_version": "1.5.0",
     "model_name": "ProgressStyleModel",
     "state": {
      "_model_module": "@jupyter-widgets/controls",
      "_model_module_version": "1.5.0",
      "_model_name": "ProgressStyleModel",
      "_view_count": null,
      "_view_module": "@jupyter-widgets/base",
      "_view_module_version": "1.2.0",
      "_view_name": "StyleView",
      "bar_color": null,
      "description_width": ""
     }
    },
    "cb24a3e061a14fed8b3c180075066a72": {
     "model_module": "@jupyter-widgets/controls",
     "model_module_version": "1.5.0",
     "model_name": "DescriptionStyleModel",
     "state": {
      "_model_module": "@jupyter-widgets/controls",
      "_model_module_version": "1.5.0",
      "_model_name": "DescriptionStyleModel",
      "_view_count": null,
      "_view_module": "@jupyter-widgets/base",
      "_view_module_version": "1.2.0",
      "_view_name": "StyleView",
      "description_width": ""
     }
    },
    "cb84631810b943c5b7e682b6f7013790": {
     "model_module": "@jupyter-widgets/base",
     "model_module_version": "1.2.0",
     "model_name": "LayoutModel",
     "state": {
      "_model_module": "@jupyter-widgets/base",
      "_model_module_version": "1.2.0",
      "_model_name": "LayoutModel",
      "_view_count": null,
      "_view_module": "@jupyter-widgets/base",
      "_view_module_version": "1.2.0",
      "_view_name": "LayoutView",
      "align_content": null,
      "align_items": null,
      "align_self": null,
      "border": null,
      "bottom": null,
      "display": null,
      "flex": null,
      "flex_flow": null,
      "grid_area": null,
      "grid_auto_columns": null,
      "grid_auto_flow": null,
      "grid_auto_rows": null,
      "grid_column": null,
      "grid_gap": null,
      "grid_row": null,
      "grid_template_areas": null,
      "grid_template_columns": null,
      "grid_template_rows": null,
      "height": null,
      "justify_content": null,
      "justify_items": null,
      "left": null,
      "margin": null,
      "max_height": null,
      "max_width": null,
      "min_height": null,
      "min_width": null,
      "object_fit": null,
      "object_position": null,
      "order": null,
      "overflow": null,
      "overflow_x": null,
      "overflow_y": null,
      "padding": null,
      "right": null,
      "top": null,
      "visibility": null,
      "width": null
     }
    },
    "cc18f41dd07247ce927151ed11df7a77": {
     "model_module": "@jupyter-widgets/controls",
     "model_module_version": "1.5.0",
     "model_name": "DescriptionStyleModel",
     "state": {
      "_model_module": "@jupyter-widgets/controls",
      "_model_module_version": "1.5.0",
      "_model_name": "DescriptionStyleModel",
      "_view_count": null,
      "_view_module": "@jupyter-widgets/base",
      "_view_module_version": "1.2.0",
      "_view_name": "StyleView",
      "description_width": ""
     }
    },
    "cca2d239b2184eeaada2efb1361a770d": {
     "model_module": "@jupyter-widgets/controls",
     "model_module_version": "1.5.0",
     "model_name": "HTMLModel",
     "state": {
      "_dom_classes": [],
      "_model_module": "@jupyter-widgets/controls",
      "_model_module_version": "1.5.0",
      "_model_name": "HTMLModel",
      "_view_count": null,
      "_view_module": "@jupyter-widgets/controls",
      "_view_module_version": "1.5.0",
      "_view_name": "HTMLView",
      "description": "",
      "description_tooltip": null,
      "layout": "IPY_MODEL_325260b440ed48c7b4632c46ae843796",
      "placeholder": "​",
      "style": "IPY_MODEL_6910721757c041c3bf098732efd38d7d",
      "value": "python_train-00000-of-00001.parquet: 100%"
     }
    },
    "ccc226f5042a4cfea959aa83f36addfa": {
     "model_module": "@jupyter-widgets/controls",
     "model_module_version": "1.5.0",
     "model_name": "DescriptionStyleModel",
     "state": {
      "_model_module": "@jupyter-widgets/controls",
      "_model_module_version": "1.5.0",
      "_model_name": "DescriptionStyleModel",
      "_view_count": null,
      "_view_module": "@jupyter-widgets/base",
      "_view_module_version": "1.2.0",
      "_view_name": "StyleView",
      "description_width": ""
     }
    },
    "cd8ee764f86f4cc2b9874773d106295e": {
     "model_module": "@jupyter-widgets/base",
     "model_module_version": "1.2.0",
     "model_name": "LayoutModel",
     "state": {
      "_model_module": "@jupyter-widgets/base",
      "_model_module_version": "1.2.0",
      "_model_name": "LayoutModel",
      "_view_count": null,
      "_view_module": "@jupyter-widgets/base",
      "_view_module_version": "1.2.0",
      "_view_name": "LayoutView",
      "align_content": null,
      "align_items": null,
      "align_self": null,
      "border": null,
      "bottom": null,
      "display": null,
      "flex": null,
      "flex_flow": null,
      "grid_area": null,
      "grid_auto_columns": null,
      "grid_auto_flow": null,
      "grid_auto_rows": null,
      "grid_column": null,
      "grid_gap": null,
      "grid_row": null,
      "grid_template_areas": null,
      "grid_template_columns": null,
      "grid_template_rows": null,
      "height": null,
      "justify_content": null,
      "justify_items": null,
      "left": null,
      "margin": null,
      "max_height": null,
      "max_width": null,
      "min_height": null,
      "min_width": null,
      "object_fit": null,
      "object_position": null,
      "order": null,
      "overflow": null,
      "overflow_x": null,
      "overflow_y": null,
      "padding": null,
      "right": null,
      "top": null,
      "visibility": null,
      "width": null
     }
    },
    "cdcb00480ffa4f22b4de7088b357e99f": {
     "model_module": "@jupyter-widgets/controls",
     "model_module_version": "1.5.0",
     "model_name": "HTMLModel",
     "state": {
      "_dom_classes": [],
      "_model_module": "@jupyter-widgets/controls",
      "_model_module_version": "1.5.0",
      "_model_name": "HTMLModel",
      "_view_count": null,
      "_view_module": "@jupyter-widgets/controls",
      "_view_module_version": "1.5.0",
      "_view_name": "HTMLView",
      "description": "",
      "description_tooltip": null,
      "layout": "IPY_MODEL_599533740eb64cf3acbaeeac9d14e5d9",
      "placeholder": "​",
      "style": "IPY_MODEL_bd6da6f1336f4edc95df834cc8ee9abb",
      "value": " 7614/7614 [00:00&lt;00:00, 8227.64 examples/s]"
     }
    },
    "cdde9e6c734f46c8be76540f7fbe1517": {
     "model_module": "@jupyter-widgets/base",
     "model_module_version": "1.2.0",
     "model_name": "LayoutModel",
     "state": {
      "_model_module": "@jupyter-widgets/base",
      "_model_module_version": "1.2.0",
      "_model_name": "LayoutModel",
      "_view_count": null,
      "_view_module": "@jupyter-widgets/base",
      "_view_module_version": "1.2.0",
      "_view_name": "LayoutView",
      "align_content": null,
      "align_items": null,
      "align_self": null,
      "border": null,
      "bottom": null,
      "display": null,
      "flex": null,
      "flex_flow": null,
      "grid_area": null,
      "grid_auto_columns": null,
      "grid_auto_flow": null,
      "grid_auto_rows": null,
      "grid_column": null,
      "grid_gap": null,
      "grid_row": null,
      "grid_template_areas": null,
      "grid_template_columns": null,
      "grid_template_rows": null,
      "height": null,
      "justify_content": null,
      "justify_items": null,
      "left": null,
      "margin": null,
      "max_height": null,
      "max_width": null,
      "min_height": null,
      "min_width": null,
      "object_fit": null,
      "object_position": null,
      "order": null,
      "overflow": null,
      "overflow_x": null,
      "overflow_y": null,
      "padding": null,
      "right": null,
      "top": null,
      "visibility": null,
      "width": null
     }
    },
    "cfc2e0112c364adf8253f450bcf70252": {
     "model_module": "@jupyter-widgets/controls",
     "model_module_version": "1.5.0",
     "model_name": "ProgressStyleModel",
     "state": {
      "_model_module": "@jupyter-widgets/controls",
      "_model_module_version": "1.5.0",
      "_model_name": "ProgressStyleModel",
      "_view_count": null,
      "_view_module": "@jupyter-widgets/base",
      "_view_module_version": "1.2.0",
      "_view_name": "StyleView",
      "bar_color": null,
      "description_width": ""
     }
    },
    "d043ecbee3444dfbaf60bbeb50c0bac9": {
     "model_module": "@jupyter-widgets/controls",
     "model_module_version": "1.5.0",
     "model_name": "HBoxModel",
     "state": {
      "_dom_classes": [],
      "_model_module": "@jupyter-widgets/controls",
      "_model_module_version": "1.5.0",
      "_model_name": "HBoxModel",
      "_view_count": null,
      "_view_module": "@jupyter-widgets/controls",
      "_view_module_version": "1.5.0",
      "_view_name": "HBoxView",
      "box_style": "",
      "children": [
       "IPY_MODEL_73d82ada94c64788aa57e023708f44e5",
       "IPY_MODEL_1a869f4901924763959cc074aedba96b",
       "IPY_MODEL_705046e4a2a84f5c80c2a595100e637c"
      ],
      "layout": "IPY_MODEL_bb9d1c0461024f5abb4a59538148baa8"
     }
    },
    "d0b6c53c697f4c6aaadcd05c232a0bb2": {
     "model_module": "@jupyter-widgets/controls",
     "model_module_version": "1.5.0",
     "model_name": "HBoxModel",
     "state": {
      "_dom_classes": [],
      "_model_module": "@jupyter-widgets/controls",
      "_model_module_version": "1.5.0",
      "_model_name": "HBoxModel",
      "_view_count": null,
      "_view_module": "@jupyter-widgets/controls",
      "_view_module_version": "1.5.0",
      "_view_name": "HBoxView",
      "box_style": "",
      "children": [
       "IPY_MODEL_4183cbb27e44449da4c889e85e6e0e10",
       "IPY_MODEL_028ccf9aaf2040f68ba60468ca2efa45",
       "IPY_MODEL_8bc988ecbfb24a2c92be52346a2eea4f"
      ],
      "layout": "IPY_MODEL_1326d435eb2b460fa640e160e995c2dd"
     }
    },
    "d0d67b5c73e140268fba314544dddb3e": {
     "model_module": "@jupyter-widgets/controls",
     "model_module_version": "1.5.0",
     "model_name": "DescriptionStyleModel",
     "state": {
      "_model_module": "@jupyter-widgets/controls",
      "_model_module_version": "1.5.0",
      "_model_name": "DescriptionStyleModel",
      "_view_count": null,
      "_view_module": "@jupyter-widgets/base",
      "_view_module_version": "1.2.0",
      "_view_name": "StyleView",
      "description_width": ""
     }
    },
    "d125451b920d419499ce3b27cbd5baf5": {
     "model_module": "@jupyter-widgets/base",
     "model_module_version": "1.2.0",
     "model_name": "LayoutModel",
     "state": {
      "_model_module": "@jupyter-widgets/base",
      "_model_module_version": "1.2.0",
      "_model_name": "LayoutModel",
      "_view_count": null,
      "_view_module": "@jupyter-widgets/base",
      "_view_module_version": "1.2.0",
      "_view_name": "LayoutView",
      "align_content": null,
      "align_items": null,
      "align_self": null,
      "border": null,
      "bottom": null,
      "display": null,
      "flex": null,
      "flex_flow": null,
      "grid_area": null,
      "grid_auto_columns": null,
      "grid_auto_flow": null,
      "grid_auto_rows": null,
      "grid_column": null,
      "grid_gap": null,
      "grid_row": null,
      "grid_template_areas": null,
      "grid_template_columns": null,
      "grid_template_rows": null,
      "height": null,
      "justify_content": null,
      "justify_items": null,
      "left": null,
      "margin": null,
      "max_height": null,
      "max_width": null,
      "min_height": null,
      "min_width": null,
      "object_fit": null,
      "object_position": null,
      "order": null,
      "overflow": null,
      "overflow_x": null,
      "overflow_y": null,
      "padding": null,
      "right": null,
      "top": null,
      "visibility": null,
      "width": null
     }
    },
    "d1351440f39e4b2f8fb37f9d95871291": {
     "model_module": "@jupyter-widgets/controls",
     "model_module_version": "1.5.0",
     "model_name": "HTMLModel",
     "state": {
      "_dom_classes": [],
      "_model_module": "@jupyter-widgets/controls",
      "_model_module_version": "1.5.0",
      "_model_name": "HTMLModel",
      "_view_count": null,
      "_view_module": "@jupyter-widgets/controls",
      "_view_module_version": "1.5.0",
      "_view_name": "HTMLView",
      "description": "",
      "description_tooltip": null,
      "layout": "IPY_MODEL_c356253b7cdf41dba172dea2019f2515",
      "placeholder": "​",
      "style": "IPY_MODEL_2e17ee44c617408b915c9e229bf6b0cb",
      "value": " 1884/1884 [00:00&lt;00:00, 7154.11 examples/s]"
     }
    },
    "d3c5959f9608476eb6132852a457c065": {
     "model_module": "@jupyter-widgets/controls",
     "model_module_version": "1.5.0",
     "model_name": "DescriptionStyleModel",
     "state": {
      "_model_module": "@jupyter-widgets/controls",
      "_model_module_version": "1.5.0",
      "_model_name": "DescriptionStyleModel",
      "_view_count": null,
      "_view_module": "@jupyter-widgets/base",
      "_view_module_version": "1.2.0",
      "_view_name": "StyleView",
      "description_width": ""
     }
    },
    "d449429481ee414caf8b690557a30946": {
     "model_module": "@jupyter-widgets/controls",
     "model_module_version": "1.5.0",
     "model_name": "FloatProgressModel",
     "state": {
      "_dom_classes": [],
      "_model_module": "@jupyter-widgets/controls",
      "_model_module_version": "1.5.0",
      "_model_name": "FloatProgressModel",
      "_view_count": null,
      "_view_module": "@jupyter-widgets/controls",
      "_view_module_version": "1.5.0",
      "_view_name": "ProgressView",
      "bar_style": "success",
      "description": "",
      "description_tooltip": null,
      "layout": "IPY_MODEL_cd8ee764f86f4cc2b9874773d106295e",
      "max": 35705,
      "min": 0,
      "orientation": "horizontal",
      "style": "IPY_MODEL_0b333f6db9d74423925b4d223e19c404",
      "value": 35705
     }
    },
    "d5bd43f1f28a4db98566d443324298d9": {
     "model_module": "@jupyter-widgets/controls",
     "model_module_version": "1.5.0",
     "model_name": "HTMLModel",
     "state": {
      "_dom_classes": [],
      "_model_module": "@jupyter-widgets/controls",
      "_model_module_version": "1.5.0",
      "_model_name": "HTMLModel",
      "_view_count": null,
      "_view_module": "@jupyter-widgets/controls",
      "_view_module_version": "1.5.0",
      "_view_name": "HTMLView",
      "description": "",
      "description_tooltip": null,
      "layout": "IPY_MODEL_9f5c0ec19a1b44e280c2003e76dbd90e",
      "placeholder": "​",
      "style": "IPY_MODEL_e275404845ed4197ad29b82166437040",
      "value": " 289/289 [00:00&lt;00:00, 7800.57 examples/s]"
     }
    },
    "d929217e274949a3a669c7cf77f19a0f": {
     "model_module": "@jupyter-widgets/base",
     "model_module_version": "1.2.0",
     "model_name": "LayoutModel",
     "state": {
      "_model_module": "@jupyter-widgets/base",
      "_model_module_version": "1.2.0",
      "_model_name": "LayoutModel",
      "_view_count": null,
      "_view_module": "@jupyter-widgets/base",
      "_view_module_version": "1.2.0",
      "_view_name": "LayoutView",
      "align_content": null,
      "align_items": null,
      "align_self": null,
      "border": null,
      "bottom": null,
      "display": null,
      "flex": null,
      "flex_flow": null,
      "grid_area": null,
      "grid_auto_columns": null,
      "grid_auto_flow": null,
      "grid_auto_rows": null,
      "grid_column": null,
      "grid_gap": null,
      "grid_row": null,
      "grid_template_areas": null,
      "grid_template_columns": null,
      "grid_template_rows": null,
      "height": null,
      "justify_content": null,
      "justify_items": null,
      "left": null,
      "margin": null,
      "max_height": null,
      "max_width": null,
      "min_height": null,
      "min_width": null,
      "object_fit": null,
      "object_position": null,
      "order": null,
      "overflow": null,
      "overflow_x": null,
      "overflow_y": null,
      "padding": null,
      "right": null,
      "top": null,
      "visibility": null,
      "width": null
     }
    },
    "d9479cd4138c4ec097e2765293d6cf1a": {
     "model_module": "@jupyter-widgets/controls",
     "model_module_version": "1.5.0",
     "model_name": "FloatProgressModel",
     "state": {
      "_dom_classes": [],
      "_model_module": "@jupyter-widgets/controls",
      "_model_module_version": "1.5.0",
      "_model_name": "FloatProgressModel",
      "_view_count": null,
      "_view_module": "@jupyter-widgets/controls",
      "_view_module_version": "1.5.0",
      "_view_name": "ProgressView",
      "bar_style": "success",
      "description": "",
      "description_tooltip": null,
      "layout": "IPY_MODEL_cdde9e6c734f46c8be76540f7fbe1517",
      "max": 1298,
      "min": 0,
      "orientation": "horizontal",
      "style": "IPY_MODEL_0164e70212714638b7c5bac98fe05a0d",
      "value": 1298
     }
    },
    "dac48765ac844c419c5a14b874c5a0db": {
     "model_module": "@jupyter-widgets/base",
     "model_module_version": "1.2.0",
     "model_name": "LayoutModel",
     "state": {
      "_model_module": "@jupyter-widgets/base",
      "_model_module_version": "1.2.0",
      "_model_name": "LayoutModel",
      "_view_count": null,
      "_view_module": "@jupyter-widgets/base",
      "_view_module_version": "1.2.0",
      "_view_name": "LayoutView",
      "align_content": null,
      "align_items": null,
      "align_self": null,
      "border": null,
      "bottom": null,
      "display": null,
      "flex": null,
      "flex_flow": null,
      "grid_area": null,
      "grid_auto_columns": null,
      "grid_auto_flow": null,
      "grid_auto_rows": null,
      "grid_column": null,
      "grid_gap": null,
      "grid_row": null,
      "grid_template_areas": null,
      "grid_template_columns": null,
      "grid_template_rows": null,
      "height": null,
      "justify_content": null,
      "justify_items": null,
      "left": null,
      "margin": null,
      "max_height": null,
      "max_width": null,
      "min_height": null,
      "min_width": null,
      "object_fit": null,
      "object_position": null,
      "order": null,
      "overflow": null,
      "overflow_x": null,
      "overflow_y": null,
      "padding": null,
      "right": null,
      "top": null,
      "visibility": null,
      "width": null
     }
    },
    "db3563ec50174a38bb41cb9c558620d5": {
     "model_module": "@jupyter-widgets/controls",
     "model_module_version": "1.5.0",
     "model_name": "FloatProgressModel",
     "state": {
      "_dom_classes": [],
      "_model_module": "@jupyter-widgets/controls",
      "_model_module_version": "1.5.0",
      "_model_name": "FloatProgressModel",
      "_view_count": null,
      "_view_module": "@jupyter-widgets/controls",
      "_view_module_version": "1.5.0",
      "_view_name": "ProgressView",
      "bar_style": "success",
      "description": "",
      "description_tooltip": null,
      "layout": "IPY_MODEL_65a6b303a0734de8a853ea51431be201",
      "max": 456318,
      "min": 0,
      "orientation": "horizontal",
      "style": "IPY_MODEL_de5d28396781441093b142cd1146599a",
      "value": 456318
     }
    },
    "db6bf7213e684ef8bf624bad3f78001a": {
     "model_module": "@jupyter-widgets/controls",
     "model_module_version": "1.5.0",
     "model_name": "DescriptionStyleModel",
     "state": {
      "_model_module": "@jupyter-widgets/controls",
      "_model_module_version": "1.5.0",
      "_model_name": "DescriptionStyleModel",
      "_view_count": null,
      "_view_module": "@jupyter-widgets/base",
      "_view_module_version": "1.2.0",
      "_view_name": "StyleView",
      "description_width": ""
     }
    },
    "db79327d788e484c88e902935840fe9b": {
     "model_module": "@jupyter-widgets/controls",
     "model_module_version": "1.5.0",
     "model_name": "DescriptionStyleModel",
     "state": {
      "_model_module": "@jupyter-widgets/controls",
      "_model_module_version": "1.5.0",
      "_model_name": "DescriptionStyleModel",
      "_view_count": null,
      "_view_module": "@jupyter-widgets/base",
      "_view_module_version": "1.2.0",
      "_view_name": "StyleView",
      "description_width": ""
     }
    },
    "dc444945ac034f84bfbbcae5c4cd17ac": {
     "model_module": "@jupyter-widgets/base",
     "model_module_version": "1.2.0",
     "model_name": "LayoutModel",
     "state": {
      "_model_module": "@jupyter-widgets/base",
      "_model_module_version": "1.2.0",
      "_model_name": "LayoutModel",
      "_view_count": null,
      "_view_module": "@jupyter-widgets/base",
      "_view_module_version": "1.2.0",
      "_view_name": "LayoutView",
      "align_content": null,
      "align_items": null,
      "align_self": null,
      "border": null,
      "bottom": null,
      "display": null,
      "flex": null,
      "flex_flow": null,
      "grid_area": null,
      "grid_auto_columns": null,
      "grid_auto_flow": null,
      "grid_auto_rows": null,
      "grid_column": null,
      "grid_gap": null,
      "grid_row": null,
      "grid_template_areas": null,
      "grid_template_columns": null,
      "grid_template_rows": null,
      "height": null,
      "justify_content": null,
      "justify_items": null,
      "left": null,
      "margin": null,
      "max_height": null,
      "max_width": null,
      "min_height": null,
      "min_width": null,
      "object_fit": null,
      "object_position": null,
      "order": null,
      "overflow": null,
      "overflow_x": null,
      "overflow_y": null,
      "padding": null,
      "right": null,
      "top": null,
      "visibility": null,
      "width": null
     }
    },
    "dc9cc7b1956f422bb27606ee94ce929f": {
     "model_module": "@jupyter-widgets/controls",
     "model_module_version": "1.5.0",
     "model_name": "DescriptionStyleModel",
     "state": {
      "_model_module": "@jupyter-widgets/controls",
      "_model_module_version": "1.5.0",
      "_model_name": "DescriptionStyleModel",
      "_view_count": null,
      "_view_module": "@jupyter-widgets/base",
      "_view_module_version": "1.2.0",
      "_view_name": "StyleView",
      "description_width": ""
     }
    },
    "dd6ecdcc60a84e5382023502b8df23a8": {
     "model_module": "@jupyter-widgets/controls",
     "model_module_version": "1.5.0",
     "model_name": "DescriptionStyleModel",
     "state": {
      "_model_module": "@jupyter-widgets/controls",
      "_model_module_version": "1.5.0",
      "_model_name": "DescriptionStyleModel",
      "_view_count": null,
      "_view_module": "@jupyter-widgets/base",
      "_view_module_version": "1.2.0",
      "_view_name": "StyleView",
      "description_width": ""
     }
    },
    "de23b5f4c70748e6a17389f5bffa1f70": {
     "model_module": "@jupyter-widgets/controls",
     "model_module_version": "1.5.0",
     "model_name": "FloatProgressModel",
     "state": {
      "_dom_classes": [],
      "_model_module": "@jupyter-widgets/controls",
      "_model_module_version": "1.5.0",
      "_model_name": "FloatProgressModel",
      "_view_count": null,
      "_view_module": "@jupyter-widgets/controls",
      "_view_module_version": "1.5.0",
      "_view_name": "ProgressView",
      "bar_style": "success",
      "description": "",
      "description_tooltip": null,
      "layout": "IPY_MODEL_a82bcb291ad64f32b7b0f5ec2f16a3c3",
      "max": 7614,
      "min": 0,
      "orientation": "horizontal",
      "style": "IPY_MODEL_0b00ce58997e4049903252cfe119e5f0",
      "value": 7614
     }
    },
    "de43322c01ee4ffa864cff3eec15b6d8": {
     "model_module": "@jupyter-widgets/base",
     "model_module_version": "1.2.0",
     "model_name": "LayoutModel",
     "state": {
      "_model_module": "@jupyter-widgets/base",
      "_model_module_version": "1.2.0",
      "_model_name": "LayoutModel",
      "_view_count": null,
      "_view_module": "@jupyter-widgets/base",
      "_view_module_version": "1.2.0",
      "_view_name": "LayoutView",
      "align_content": null,
      "align_items": null,
      "align_self": null,
      "border": null,
      "bottom": null,
      "display": null,
      "flex": null,
      "flex_flow": null,
      "grid_area": null,
      "grid_auto_columns": null,
      "grid_auto_flow": null,
      "grid_auto_rows": null,
      "grid_column": null,
      "grid_gap": null,
      "grid_row": null,
      "grid_template_areas": null,
      "grid_template_columns": null,
      "grid_template_rows": null,
      "height": null,
      "justify_content": null,
      "justify_items": null,
      "left": null,
      "margin": null,
      "max_height": null,
      "max_width": null,
      "min_height": null,
      "min_width": null,
      "object_fit": null,
      "object_position": null,
      "order": null,
      "overflow": null,
      "overflow_x": null,
      "overflow_y": null,
      "padding": null,
      "right": null,
      "top": null,
      "visibility": null,
      "width": null
     }
    },
    "de5d28396781441093b142cd1146599a": {
     "model_module": "@jupyter-widgets/controls",
     "model_module_version": "1.5.0",
     "model_name": "ProgressStyleModel",
     "state": {
      "_model_module": "@jupyter-widgets/controls",
      "_model_module_version": "1.5.0",
      "_model_name": "ProgressStyleModel",
      "_view_count": null,
      "_view_module": "@jupyter-widgets/base",
      "_view_module_version": "1.2.0",
      "_view_name": "StyleView",
      "bar_color": null,
      "description_width": ""
     }
    },
    "de7c734e4f6a48cf92408f2ab987e50f": {
     "model_module": "@jupyter-widgets/base",
     "model_module_version": "1.2.0",
     "model_name": "LayoutModel",
     "state": {
      "_model_module": "@jupyter-widgets/base",
      "_model_module_version": "1.2.0",
      "_model_name": "LayoutModel",
      "_view_count": null,
      "_view_module": "@jupyter-widgets/base",
      "_view_module_version": "1.2.0",
      "_view_name": "LayoutView",
      "align_content": null,
      "align_items": null,
      "align_self": null,
      "border": null,
      "bottom": null,
      "display": null,
      "flex": null,
      "flex_flow": null,
      "grid_area": null,
      "grid_auto_columns": null,
      "grid_auto_flow": null,
      "grid_auto_rows": null,
      "grid_column": null,
      "grid_gap": null,
      "grid_row": null,
      "grid_template_areas": null,
      "grid_template_columns": null,
      "grid_template_rows": null,
      "height": null,
      "justify_content": null,
      "justify_items": null,
      "left": null,
      "margin": null,
      "max_height": null,
      "max_width": null,
      "min_height": null,
      "min_width": null,
      "object_fit": null,
      "object_position": null,
      "order": null,
      "overflow": null,
      "overflow_x": null,
      "overflow_y": null,
      "padding": null,
      "right": null,
      "top": null,
      "visibility": null,
      "width": null
     }
    },
    "deb94014cbc845c29442ae39b0ab441a": {
     "model_module": "@jupyter-widgets/controls",
     "model_module_version": "1.5.0",
     "model_name": "DescriptionStyleModel",
     "state": {
      "_model_module": "@jupyter-widgets/controls",
      "_model_module_version": "1.5.0",
      "_model_name": "DescriptionStyleModel",
      "_view_count": null,
      "_view_module": "@jupyter-widgets/base",
      "_view_module_version": "1.2.0",
      "_view_name": "StyleView",
      "description_width": ""
     }
    },
    "deea2a9a334f44df8cd9b8948d1c8481": {
     "model_module": "@jupyter-widgets/controls",
     "model_module_version": "1.5.0",
     "model_name": "FloatProgressModel",
     "state": {
      "_dom_classes": [],
      "_model_module": "@jupyter-widgets/controls",
      "_model_module_version": "1.5.0",
      "_model_name": "FloatProgressModel",
      "_view_count": null,
      "_view_module": "@jupyter-widgets/controls",
      "_view_module_version": "1.5.0",
      "_view_name": "ProgressView",
      "bar_style": "success",
      "description": "",
      "description_tooltip": null,
      "layout": "IPY_MODEL_743b0e9a0dc344ad96ebb7b5108f70a8",
      "max": 406,
      "min": 0,
      "orientation": "horizontal",
      "style": "IPY_MODEL_f320076d120c477b90d68ab1eacef942",
      "value": 406
     }
    },
    "e0d17b6108694dd781d79b150f7d1a11": {
     "model_module": "@jupyter-widgets/controls",
     "model_module_version": "1.5.0",
     "model_name": "DescriptionStyleModel",
     "state": {
      "_model_module": "@jupyter-widgets/controls",
      "_model_module_version": "1.5.0",
      "_model_name": "DescriptionStyleModel",
      "_view_count": null,
      "_view_module": "@jupyter-widgets/base",
      "_view_module_version": "1.2.0",
      "_view_name": "StyleView",
      "description_width": ""
     }
    },
    "e1985d53d4674d9eb6a8a3aea50d1b43": {
     "model_module": "@jupyter-widgets/controls",
     "model_module_version": "1.5.0",
     "model_name": "ProgressStyleModel",
     "state": {
      "_model_module": "@jupyter-widgets/controls",
      "_model_module_version": "1.5.0",
      "_model_name": "ProgressStyleModel",
      "_view_count": null,
      "_view_module": "@jupyter-widgets/base",
      "_view_module_version": "1.2.0",
      "_view_name": "StyleView",
      "bar_color": null,
      "description_width": ""
     }
    },
    "e275404845ed4197ad29b82166437040": {
     "model_module": "@jupyter-widgets/controls",
     "model_module_version": "1.5.0",
     "model_name": "DescriptionStyleModel",
     "state": {
      "_model_module": "@jupyter-widgets/controls",
      "_model_module_version": "1.5.0",
      "_model_name": "DescriptionStyleModel",
      "_view_count": null,
      "_view_module": "@jupyter-widgets/base",
      "_view_module_version": "1.2.0",
      "_view_name": "StyleView",
      "description_width": ""
     }
    },
    "e432540973c147ba80189b87b44099b3": {
     "model_module": "@jupyter-widgets/base",
     "model_module_version": "1.2.0",
     "model_name": "LayoutModel",
     "state": {
      "_model_module": "@jupyter-widgets/base",
      "_model_module_version": "1.2.0",
      "_model_name": "LayoutModel",
      "_view_count": null,
      "_view_module": "@jupyter-widgets/base",
      "_view_module_version": "1.2.0",
      "_view_name": "LayoutView",
      "align_content": null,
      "align_items": null,
      "align_self": null,
      "border": null,
      "bottom": null,
      "display": null,
      "flex": null,
      "flex_flow": null,
      "grid_area": null,
      "grid_auto_columns": null,
      "grid_auto_flow": null,
      "grid_auto_rows": null,
      "grid_column": null,
      "grid_gap": null,
      "grid_row": null,
      "grid_template_areas": null,
      "grid_template_columns": null,
      "grid_template_rows": null,
      "height": null,
      "justify_content": null,
      "justify_items": null,
      "left": null,
      "margin": null,
      "max_height": null,
      "max_width": null,
      "min_height": null,
      "min_width": null,
      "object_fit": null,
      "object_position": null,
      "order": null,
      "overflow": null,
      "overflow_x": null,
      "overflow_y": null,
      "padding": null,
      "right": null,
      "top": null,
      "visibility": null,
      "width": null
     }
    },
    "e506055b03b14c5c9220246f115a4a30": {
     "model_module": "@jupyter-widgets/controls",
     "model_module_version": "1.5.0",
     "model_name": "HTMLModel",
     "state": {
      "_dom_classes": [],
      "_model_module": "@jupyter-widgets/controls",
      "_model_module_version": "1.5.0",
      "_model_name": "HTMLModel",
      "_view_count": null,
      "_view_module": "@jupyter-widgets/controls",
      "_view_module_version": "1.5.0",
      "_view_name": "HTMLView",
      "description": "",
      "description_tooltip": null,
      "layout": "IPY_MODEL_2c4d62d019f14e81b8afcb251c56b562",
      "placeholder": "​",
      "style": "IPY_MODEL_9689ab7242e64221b5e33e210650be99",
      "value": "Map: 100%"
     }
    },
    "e884b5c3b56e441b8a80e75c9ea8513d": {
     "model_module": "@jupyter-widgets/controls",
     "model_module_version": "1.5.0",
     "model_name": "HTMLModel",
     "state": {
      "_dom_classes": [],
      "_model_module": "@jupyter-widgets/controls",
      "_model_module_version": "1.5.0",
      "_model_name": "HTMLModel",
      "_view_count": null,
      "_view_module": "@jupyter-widgets/controls",
      "_view_module_version": "1.5.0",
      "_view_name": "HTMLView",
      "description": "",
      "description_tooltip": null,
      "layout": "IPY_MODEL_7fdfa8f659cc4192b57d4f02b77608d3",
      "placeholder": "​",
      "style": "IPY_MODEL_d0d67b5c73e140268fba314544dddb3e",
      "value": " 35.7k/35.7k [00:00&lt;00:00, 1.14MB/s]"
     }
    },
    "e91437843da94f2fa5b6e047a0930944": {
     "model_module": "@jupyter-widgets/controls",
     "model_module_version": "1.5.0",
     "model_name": "FloatProgressModel",
     "state": {
      "_dom_classes": [],
      "_model_module": "@jupyter-widgets/controls",
      "_model_module_version": "1.5.0",
      "_model_name": "FloatProgressModel",
      "_view_count": null,
      "_view_module": "@jupyter-widgets/controls",
      "_view_module_version": "1.5.0",
      "_view_name": "ProgressView",
      "bar_style": "success",
      "description": "",
      "description_tooltip": null,
      "layout": "IPY_MODEL_9b275e9c27c445e7bbf0723bd4180247",
      "max": 7614,
      "min": 0,
      "orientation": "horizontal",
      "style": "IPY_MODEL_9c10b55094354e2197fe061038bfdfda",
      "value": 7614
     }
    },
    "e94c1e1ead8c4948801afbfd9604db69": {
     "model_module": "@jupyter-widgets/controls",
     "model_module_version": "1.5.0",
     "model_name": "DescriptionStyleModel",
     "state": {
      "_model_module": "@jupyter-widgets/controls",
      "_model_module_version": "1.5.0",
      "_model_name": "DescriptionStyleModel",
      "_view_count": null,
      "_view_module": "@jupyter-widgets/base",
      "_view_module_version": "1.2.0",
      "_view_name": "StyleView",
      "description_width": ""
     }
    },
    "e9b3b93314d842bc87ab89d770def7d0": {
     "model_module": "@jupyter-widgets/base",
     "model_module_version": "1.2.0",
     "model_name": "LayoutModel",
     "state": {
      "_model_module": "@jupyter-widgets/base",
      "_model_module_version": "1.2.0",
      "_model_name": "LayoutModel",
      "_view_count": null,
      "_view_module": "@jupyter-widgets/base",
      "_view_module_version": "1.2.0",
      "_view_name": "LayoutView",
      "align_content": null,
      "align_items": null,
      "align_self": null,
      "border": null,
      "bottom": null,
      "display": null,
      "flex": null,
      "flex_flow": null,
      "grid_area": null,
      "grid_auto_columns": null,
      "grid_auto_flow": null,
      "grid_auto_rows": null,
      "grid_column": null,
      "grid_gap": null,
      "grid_row": null,
      "grid_template_areas": null,
      "grid_template_columns": null,
      "grid_template_rows": null,
      "height": null,
      "justify_content": null,
      "justify_items": null,
      "left": null,
      "margin": null,
      "max_height": null,
      "max_width": null,
      "min_height": null,
      "min_width": null,
      "object_fit": null,
      "object_position": null,
      "order": null,
      "overflow": null,
      "overflow_x": null,
      "overflow_y": null,
      "padding": null,
      "right": null,
      "top": null,
      "visibility": null,
      "width": null
     }
    },
    "e9efbe44424e4d1faa926b676aecb33a": {
     "model_module": "@jupyter-widgets/controls",
     "model_module_version": "1.5.0",
     "model_name": "ProgressStyleModel",
     "state": {
      "_model_module": "@jupyter-widgets/controls",
      "_model_module_version": "1.5.0",
      "_model_name": "ProgressStyleModel",
      "_view_count": null,
      "_view_module": "@jupyter-widgets/base",
      "_view_module_version": "1.2.0",
      "_view_name": "StyleView",
      "bar_color": null,
      "description_width": ""
     }
    },
    "ea33f101d13e456db81e5b532b4fa9f1": {
     "model_module": "@jupyter-widgets/controls",
     "model_module_version": "1.5.0",
     "model_name": "HBoxModel",
     "state": {
      "_dom_classes": [],
      "_model_module": "@jupyter-widgets/controls",
      "_model_module_version": "1.5.0",
      "_model_name": "HBoxModel",
      "_view_count": null,
      "_view_module": "@jupyter-widgets/controls",
      "_view_module_version": "1.5.0",
      "_view_name": "HBoxView",
      "box_style": "",
      "children": [
       "IPY_MODEL_bdfbe0687457427682ffc7b5aee8b1dd",
       "IPY_MODEL_d9479cd4138c4ec097e2765293d6cf1a",
       "IPY_MODEL_013d93ca219f42e08034278d65af9f7b"
      ],
      "layout": "IPY_MODEL_2fc64b9b4182484aac56be590bb16311"
     }
    },
    "eb6492d96bc249a9b61a74bb20ac4ce5": {
     "model_module": "@jupyter-widgets/base",
     "model_module_version": "1.2.0",
     "model_name": "LayoutModel",
     "state": {
      "_model_module": "@jupyter-widgets/base",
      "_model_module_version": "1.2.0",
      "_model_name": "LayoutModel",
      "_view_count": null,
      "_view_module": "@jupyter-widgets/base",
      "_view_module_version": "1.2.0",
      "_view_name": "LayoutView",
      "align_content": null,
      "align_items": null,
      "align_self": null,
      "border": null,
      "bottom": null,
      "display": null,
      "flex": null,
      "flex_flow": null,
      "grid_area": null,
      "grid_auto_columns": null,
      "grid_auto_flow": null,
      "grid_auto_rows": null,
      "grid_column": null,
      "grid_gap": null,
      "grid_row": null,
      "grid_template_areas": null,
      "grid_template_columns": null,
      "grid_template_rows": null,
      "height": null,
      "justify_content": null,
      "justify_items": null,
      "left": null,
      "margin": null,
      "max_height": null,
      "max_width": null,
      "min_height": null,
      "min_width": null,
      "object_fit": null,
      "object_position": null,
      "order": null,
      "overflow": null,
      "overflow_x": null,
      "overflow_y": null,
      "padding": null,
      "right": null,
      "top": null,
      "visibility": null,
      "width": null
     }
    },
    "eb9ea2ce73ae437da277c7d68b1086e9": {
     "model_module": "@jupyter-widgets/controls",
     "model_module_version": "1.5.0",
     "model_name": "HBoxModel",
     "state": {
      "_dom_classes": [],
      "_model_module": "@jupyter-widgets/controls",
      "_model_module_version": "1.5.0",
      "_model_name": "HBoxModel",
      "_view_count": null,
      "_view_module": "@jupyter-widgets/controls",
      "_view_module_version": "1.5.0",
      "_view_name": "HBoxView",
      "box_style": "",
      "children": [
       "IPY_MODEL_bc83c5ba861d4d2fa1a75fefc940e59b",
       "IPY_MODEL_e91437843da94f2fa5b6e047a0930944",
       "IPY_MODEL_9614752928ed4d8b90852ba7eff669f5"
      ],
      "layout": "IPY_MODEL_59c5e931d7054950901d545e81790966"
     }
    },
    "ee35667730eb459fba32ef0cd747a224": {
     "model_module": "@jupyter-widgets/controls",
     "model_module_version": "1.5.0",
     "model_name": "HTMLModel",
     "state": {
      "_dom_classes": [],
      "_model_module": "@jupyter-widgets/controls",
      "_model_module_version": "1.5.0",
      "_model_name": "HTMLModel",
      "_view_count": null,
      "_view_module": "@jupyter-widgets/controls",
      "_view_module_version": "1.5.0",
      "_view_name": "HTMLView",
      "description": "",
      "description_tooltip": null,
      "layout": "IPY_MODEL_59af57ab79d54256a091ecf33c732f75",
      "placeholder": "​",
      "style": "IPY_MODEL_19d111a8367b4a249acf94418a7746bb",
      "value": "Map: 100%"
     }
    },
    "ee8e26aa734e41d89c31ea3489b12b47": {
     "model_module": "@jupyter-widgets/base",
     "model_module_version": "1.2.0",
     "model_name": "LayoutModel",
     "state": {
      "_model_module": "@jupyter-widgets/base",
      "_model_module_version": "1.2.0",
      "_model_name": "LayoutModel",
      "_view_count": null,
      "_view_module": "@jupyter-widgets/base",
      "_view_module_version": "1.2.0",
      "_view_name": "LayoutView",
      "align_content": null,
      "align_items": null,
      "align_self": null,
      "border": null,
      "bottom": null,
      "display": null,
      "flex": null,
      "flex_flow": null,
      "grid_area": null,
      "grid_auto_columns": null,
      "grid_auto_flow": null,
      "grid_auto_rows": null,
      "grid_column": null,
      "grid_gap": null,
      "grid_row": null,
      "grid_template_areas": null,
      "grid_template_columns": null,
      "grid_template_rows": null,
      "height": null,
      "justify_content": null,
      "justify_items": null,
      "left": null,
      "margin": null,
      "max_height": null,
      "max_width": null,
      "min_height": null,
      "min_width": null,
      "object_fit": null,
      "object_position": null,
      "order": null,
      "overflow": null,
      "overflow_x": null,
      "overflow_y": null,
      "padding": null,
      "right": null,
      "top": null,
      "visibility": null,
      "width": null
     }
    },
    "f0a6c6fa1e72494197fe6b9c13e5cad8": {
     "model_module": "@jupyter-widgets/controls",
     "model_module_version": "1.5.0",
     "model_name": "HTMLModel",
     "state": {
      "_dom_classes": [],
      "_model_module": "@jupyter-widgets/controls",
      "_model_module_version": "1.5.0",
      "_model_name": "HTMLModel",
      "_view_count": null,
      "_view_module": "@jupyter-widgets/controls",
      "_view_module_version": "1.5.0",
      "_view_name": "HTMLView",
      "description": "",
      "description_tooltip": null,
      "layout": "IPY_MODEL_94224b42dd3a4d7ea36f5554597f5265",
      "placeholder": "​",
      "style": "IPY_MODEL_b062760b16374603ab07c2b8f9cdd22e",
      "value": " 150/150 [00:00&lt;00:00, 7.13kB/s]"
     }
    },
    "f123658f203a49bd89659e254be939e1": {
     "model_module": "@jupyter-widgets/controls",
     "model_module_version": "1.5.0",
     "model_name": "HTMLModel",
     "state": {
      "_dom_classes": [],
      "_model_module": "@jupyter-widgets/controls",
      "_model_module_version": "1.5.0",
      "_model_name": "HTMLModel",
      "_view_count": null,
      "_view_module": "@jupyter-widgets/controls",
      "_view_module_version": "1.5.0",
      "_view_name": "HTMLView",
      "description": "",
      "description_tooltip": null,
      "layout": "IPY_MODEL_9add025006af463fa4a973c599f0a476",
      "placeholder": "​",
      "style": "IPY_MODEL_78635409a83e4da7ac854090884ccfed",
      "value": "Map: 100%"
     }
    },
    "f13ef57467a244f08be96087bf8325d2": {
     "model_module": "@jupyter-widgets/base",
     "model_module_version": "1.2.0",
     "model_name": "LayoutModel",
     "state": {
      "_model_module": "@jupyter-widgets/base",
      "_model_module_version": "1.2.0",
      "_model_name": "LayoutModel",
      "_view_count": null,
      "_view_module": "@jupyter-widgets/base",
      "_view_module_version": "1.2.0",
      "_view_name": "LayoutView",
      "align_content": null,
      "align_items": null,
      "align_self": null,
      "border": null,
      "bottom": null,
      "display": null,
      "flex": null,
      "flex_flow": null,
      "grid_area": null,
      "grid_auto_columns": null,
      "grid_auto_flow": null,
      "grid_auto_rows": null,
      "grid_column": null,
      "grid_gap": null,
      "grid_row": null,
      "grid_template_areas": null,
      "grid_template_columns": null,
      "grid_template_rows": null,
      "height": null,
      "justify_content": null,
      "justify_items": null,
      "left": null,
      "margin": null,
      "max_height": null,
      "max_width": null,
      "min_height": null,
      "min_width": null,
      "object_fit": null,
      "object_position": null,
      "order": null,
      "overflow": null,
      "overflow_x": null,
      "overflow_y": null,
      "padding": null,
      "right": null,
      "top": null,
      "visibility": null,
      "width": null
     }
    },
    "f16496815f064583986bb6eeb2cdb7a3": {
     "model_module": "@jupyter-widgets/controls",
     "model_module_version": "1.5.0",
     "model_name": "DescriptionStyleModel",
     "state": {
      "_model_module": "@jupyter-widgets/controls",
      "_model_module_version": "1.5.0",
      "_model_name": "DescriptionStyleModel",
      "_view_count": null,
      "_view_module": "@jupyter-widgets/base",
      "_view_module_version": "1.2.0",
      "_view_name": "StyleView",
      "description_width": ""
     }
    },
    "f17064c88cb04bdd9ea8b241b310f473": {
     "model_module": "@jupyter-widgets/base",
     "model_module_version": "1.2.0",
     "model_name": "LayoutModel",
     "state": {
      "_model_module": "@jupyter-widgets/base",
      "_model_module_version": "1.2.0",
      "_model_name": "LayoutModel",
      "_view_count": null,
      "_view_module": "@jupyter-widgets/base",
      "_view_module_version": "1.2.0",
      "_view_name": "LayoutView",
      "align_content": null,
      "align_items": null,
      "align_self": null,
      "border": null,
      "bottom": null,
      "display": null,
      "flex": null,
      "flex_flow": null,
      "grid_area": null,
      "grid_auto_columns": null,
      "grid_auto_flow": null,
      "grid_auto_rows": null,
      "grid_column": null,
      "grid_gap": null,
      "grid_row": null,
      "grid_template_areas": null,
      "grid_template_columns": null,
      "grid_template_rows": null,
      "height": null,
      "justify_content": null,
      "justify_items": null,
      "left": null,
      "margin": null,
      "max_height": null,
      "max_width": null,
      "min_height": null,
      "min_width": null,
      "object_fit": null,
      "object_position": null,
      "order": null,
      "overflow": null,
      "overflow_x": null,
      "overflow_y": null,
      "padding": null,
      "right": null,
      "top": null,
      "visibility": null,
      "width": null
     }
    },
    "f1d27df6618240cdae4c02dfab36bc9d": {
     "model_module": "@jupyter-widgets/controls",
     "model_module_version": "1.5.0",
     "model_name": "DescriptionStyleModel",
     "state": {
      "_model_module": "@jupyter-widgets/controls",
      "_model_module_version": "1.5.0",
      "_model_name": "DescriptionStyleModel",
      "_view_count": null,
      "_view_module": "@jupyter-widgets/base",
      "_view_module_version": "1.2.0",
      "_view_name": "StyleView",
      "description_width": ""
     }
    },
    "f1fbe82d0572428fb102d27f9e39e1ec": {
     "model_module": "@jupyter-widgets/base",
     "model_module_version": "1.2.0",
     "model_name": "LayoutModel",
     "state": {
      "_model_module": "@jupyter-widgets/base",
      "_model_module_version": "1.2.0",
      "_model_name": "LayoutModel",
      "_view_count": null,
      "_view_module": "@jupyter-widgets/base",
      "_view_module_version": "1.2.0",
      "_view_name": "LayoutView",
      "align_content": null,
      "align_items": null,
      "align_self": null,
      "border": null,
      "bottom": null,
      "display": null,
      "flex": null,
      "flex_flow": null,
      "grid_area": null,
      "grid_auto_columns": null,
      "grid_auto_flow": null,
      "grid_auto_rows": null,
      "grid_column": null,
      "grid_gap": null,
      "grid_row": null,
      "grid_template_areas": null,
      "grid_template_columns": null,
      "grid_template_rows": null,
      "height": null,
      "justify_content": null,
      "justify_items": null,
      "left": null,
      "margin": null,
      "max_height": null,
      "max_width": null,
      "min_height": null,
      "min_width": null,
      "object_fit": null,
      "object_position": null,
      "order": null,
      "overflow": null,
      "overflow_x": null,
      "overflow_y": null,
      "padding": null,
      "right": null,
      "top": null,
      "visibility": null,
      "width": null
     }
    },
    "f21cc3dc6f5f4ecabc73be66c151ff8a": {
     "model_module": "@jupyter-widgets/base",
     "model_module_version": "1.2.0",
     "model_name": "LayoutModel",
     "state": {
      "_model_module": "@jupyter-widgets/base",
      "_model_module_version": "1.2.0",
      "_model_name": "LayoutModel",
      "_view_count": null,
      "_view_module": "@jupyter-widgets/base",
      "_view_module_version": "1.2.0",
      "_view_name": "LayoutView",
      "align_content": null,
      "align_items": null,
      "align_self": null,
      "border": null,
      "bottom": null,
      "display": null,
      "flex": null,
      "flex_flow": null,
      "grid_area": null,
      "grid_auto_columns": null,
      "grid_auto_flow": null,
      "grid_auto_rows": null,
      "grid_column": null,
      "grid_gap": null,
      "grid_row": null,
      "grid_template_areas": null,
      "grid_template_columns": null,
      "grid_template_rows": null,
      "height": null,
      "justify_content": null,
      "justify_items": null,
      "left": null,
      "margin": null,
      "max_height": null,
      "max_width": null,
      "min_height": null,
      "min_width": null,
      "object_fit": null,
      "object_position": null,
      "order": null,
      "overflow": null,
      "overflow_x": null,
      "overflow_y": null,
      "padding": null,
      "right": null,
      "top": null,
      "visibility": null,
      "width": null
     }
    },
    "f28b82bbfb034e939dc900c197462b79": {
     "model_module": "@jupyter-widgets/base",
     "model_module_version": "1.2.0",
     "model_name": "LayoutModel",
     "state": {
      "_model_module": "@jupyter-widgets/base",
      "_model_module_version": "1.2.0",
      "_model_name": "LayoutModel",
      "_view_count": null,
      "_view_module": "@jupyter-widgets/base",
      "_view_module_version": "1.2.0",
      "_view_name": "LayoutView",
      "align_content": null,
      "align_items": null,
      "align_self": null,
      "border": null,
      "bottom": null,
      "display": null,
      "flex": null,
      "flex_flow": null,
      "grid_area": null,
      "grid_auto_columns": null,
      "grid_auto_flow": null,
      "grid_auto_rows": null,
      "grid_column": null,
      "grid_gap": null,
      "grid_row": null,
      "grid_template_areas": null,
      "grid_template_columns": null,
      "grid_template_rows": null,
      "height": null,
      "justify_content": null,
      "justify_items": null,
      "left": null,
      "margin": null,
      "max_height": null,
      "max_width": null,
      "min_height": null,
      "min_width": null,
      "object_fit": null,
      "object_position": null,
      "order": null,
      "overflow": null,
      "overflow_x": null,
      "overflow_y": null,
      "padding": null,
      "right": null,
      "top": null,
      "visibility": null,
      "width": null
     }
    },
    "f320076d120c477b90d68ab1eacef942": {
     "model_module": "@jupyter-widgets/controls",
     "model_module_version": "1.5.0",
     "model_name": "ProgressStyleModel",
     "state": {
      "_model_module": "@jupyter-widgets/controls",
      "_model_module_version": "1.5.0",
      "_model_name": "ProgressStyleModel",
      "_view_count": null,
      "_view_module": "@jupyter-widgets/base",
      "_view_module_version": "1.2.0",
      "_view_name": "StyleView",
      "bar_color": null,
      "description_width": ""
     }
    },
    "f33c6262262e421992b30cdb6e9efcfb": {
     "model_module": "@jupyter-widgets/controls",
     "model_module_version": "1.5.0",
     "model_name": "DescriptionStyleModel",
     "state": {
      "_model_module": "@jupyter-widgets/controls",
      "_model_module_version": "1.5.0",
      "_model_name": "DescriptionStyleModel",
      "_view_count": null,
      "_view_module": "@jupyter-widgets/base",
      "_view_module_version": "1.2.0",
      "_view_name": "StyleView",
      "description_width": ""
     }
    },
    "f494f3ffe1f2487d8133cc98dd93f181": {
     "model_module": "@jupyter-widgets/base",
     "model_module_version": "1.2.0",
     "model_name": "LayoutModel",
     "state": {
      "_model_module": "@jupyter-widgets/base",
      "_model_module_version": "1.2.0",
      "_model_name": "LayoutModel",
      "_view_count": null,
      "_view_module": "@jupyter-widgets/base",
      "_view_module_version": "1.2.0",
      "_view_name": "LayoutView",
      "align_content": null,
      "align_items": null,
      "align_self": null,
      "border": null,
      "bottom": null,
      "display": null,
      "flex": null,
      "flex_flow": null,
      "grid_area": null,
      "grid_auto_columns": null,
      "grid_auto_flow": null,
      "grid_auto_rows": null,
      "grid_column": null,
      "grid_gap": null,
      "grid_row": null,
      "grid_template_areas": null,
      "grid_template_columns": null,
      "grid_template_rows": null,
      "height": null,
      "justify_content": null,
      "justify_items": null,
      "left": null,
      "margin": null,
      "max_height": null,
      "max_width": null,
      "min_height": null,
      "min_width": null,
      "object_fit": null,
      "object_position": null,
      "order": null,
      "overflow": null,
      "overflow_x": null,
      "overflow_y": null,
      "padding": null,
      "right": null,
      "top": null,
      "visibility": null,
      "width": null
     }
    },
    "f4ecc921e7df4b38b4fb8c2236aaafc0": {
     "model_module": "@jupyter-widgets/controls",
     "model_module_version": "1.5.0",
     "model_name": "FloatProgressModel",
     "state": {
      "_dom_classes": [],
      "_model_module": "@jupyter-widgets/controls",
      "_model_module_version": "1.5.0",
      "_model_name": "FloatProgressModel",
      "_view_count": null,
      "_view_module": "@jupyter-widgets/controls",
      "_view_module_version": "1.5.0",
      "_view_name": "ProgressView",
      "bar_style": "success",
      "description": "",
      "description_tooltip": null,
      "layout": "IPY_MODEL_3ccbf8a9b176452f93870397169f020e",
      "max": 1725,
      "min": 0,
      "orientation": "horizontal",
      "style": "IPY_MODEL_0c734841fdeb46f4ad7cefb79ad3fda6",
      "value": 1725
     }
    },
    "f611fa2c1ab8436b99cf317ae31be62d": {
     "model_module": "@jupyter-widgets/controls",
     "model_module_version": "1.5.0",
     "model_name": "HTMLModel",
     "state": {
      "_dom_classes": [],
      "_model_module": "@jupyter-widgets/controls",
      "_model_module_version": "1.5.0",
      "_model_name": "HTMLModel",
      "_view_count": null,
      "_view_module": "@jupyter-widgets/controls",
      "_view_module_version": "1.5.0",
      "_view_name": "HTMLView",
      "description": "",
      "description_tooltip": null,
      "layout": "IPY_MODEL_13b288fed4be4393959f7017baf886c0",
      "placeholder": "​",
      "style": "IPY_MODEL_450c7fc00cca4ac9bf8ab67632e2ff62",
      "value": " 456k/456k [00:00&lt;00:00, 6.79MB/s]"
     }
    },
    "f6c86e4e4c7440599459d14bdeff7632": {
     "model_module": "@jupyter-widgets/base",
     "model_module_version": "1.2.0",
     "model_name": "LayoutModel",
     "state": {
      "_model_module": "@jupyter-widgets/base",
      "_model_module_version": "1.2.0",
      "_model_name": "LayoutModel",
      "_view_count": null,
      "_view_module": "@jupyter-widgets/base",
      "_view_module_version": "1.2.0",
      "_view_name": "LayoutView",
      "align_content": null,
      "align_items": null,
      "align_self": null,
      "border": null,
      "bottom": null,
      "display": null,
      "flex": null,
      "flex_flow": null,
      "grid_area": null,
      "grid_auto_columns": null,
      "grid_auto_flow": null,
      "grid_auto_rows": null,
      "grid_column": null,
      "grid_gap": null,
      "grid_row": null,
      "grid_template_areas": null,
      "grid_template_columns": null,
      "grid_template_rows": null,
      "height": null,
      "justify_content": null,
      "justify_items": null,
      "left": null,
      "margin": null,
      "max_height": null,
      "max_width": null,
      "min_height": null,
      "min_width": null,
      "object_fit": null,
      "object_position": null,
      "order": null,
      "overflow": null,
      "overflow_x": null,
      "overflow_y": null,
      "padding": null,
      "right": null,
      "top": null,
      "visibility": null,
      "width": null
     }
    },
    "f6ec595db0654d53950b8bb0e1bd697a": {
     "model_module": "@jupyter-widgets/controls",
     "model_module_version": "1.5.0",
     "model_name": "FloatProgressModel",
     "state": {
      "_dom_classes": [],
      "_model_module": "@jupyter-widgets/controls",
      "_model_module_version": "1.5.0",
      "_model_name": "FloatProgressModel",
      "_view_count": null,
      "_view_module": "@jupyter-widgets/controls",
      "_view_module_version": "1.5.0",
      "_view_name": "ProgressView",
      "bar_style": "success",
      "description": "",
      "description_tooltip": null,
      "layout": "IPY_MODEL_d929217e274949a3a669c7cf77f19a0f",
      "max": 1298,
      "min": 0,
      "orientation": "horizontal",
      "style": "IPY_MODEL_103f6b6e9fab4f3e8505f0dfc8f35c68",
      "value": 1298
     }
    },
    "f837a96488d644eb9da131390aba2381": {
     "model_module": "@jupyter-widgets/controls",
     "model_module_version": "1.5.0",
     "model_name": "HTMLModel",
     "state": {
      "_dom_classes": [],
      "_model_module": "@jupyter-widgets/controls",
      "_model_module_version": "1.5.0",
      "_model_name": "HTMLModel",
      "_view_count": null,
      "_view_module": "@jupyter-widgets/controls",
      "_view_module_version": "1.5.0",
      "_view_name": "HTMLView",
      "description": "",
      "description_tooltip": null,
      "layout": "IPY_MODEL_979d3e31668549a4a2627d1e01cc608e",
      "placeholder": "​",
      "style": "IPY_MODEL_2ff99aebc04f46889070f4d0148ce5a3",
      "value": "Generating pharo_test split: 100%"
     }
    },
    "f86fd06cdb784ddc999f0f84eb835f0a": {
     "model_module": "@jupyter-widgets/controls",
     "model_module_version": "1.5.0",
     "model_name": "DescriptionStyleModel",
     "state": {
      "_model_module": "@jupyter-widgets/controls",
      "_model_module_version": "1.5.0",
      "_model_name": "DescriptionStyleModel",
      "_view_count": null,
      "_view_module": "@jupyter-widgets/base",
      "_view_module_version": "1.2.0",
      "_view_name": "StyleView",
      "description_width": ""
     }
    },
    "f8c0a1969a764116b332654860907be8": {
     "model_module": "@jupyter-widgets/controls",
     "model_module_version": "1.5.0",
     "model_name": "DescriptionStyleModel",
     "state": {
      "_model_module": "@jupyter-widgets/controls",
      "_model_module_version": "1.5.0",
      "_model_name": "DescriptionStyleModel",
      "_view_count": null,
      "_view_module": "@jupyter-widgets/base",
      "_view_module_version": "1.2.0",
      "_view_name": "StyleView",
      "description_width": ""
     }
    },
    "fa9d0572ffb34831a311109a4306750e": {
     "model_module": "@jupyter-widgets/base",
     "model_module_version": "1.2.0",
     "model_name": "LayoutModel",
     "state": {
      "_model_module": "@jupyter-widgets/base",
      "_model_module_version": "1.2.0",
      "_model_name": "LayoutModel",
      "_view_count": null,
      "_view_module": "@jupyter-widgets/base",
      "_view_module_version": "1.2.0",
      "_view_name": "LayoutView",
      "align_content": null,
      "align_items": null,
      "align_self": null,
      "border": null,
      "bottom": null,
      "display": null,
      "flex": null,
      "flex_flow": null,
      "grid_area": null,
      "grid_auto_columns": null,
      "grid_auto_flow": null,
      "grid_auto_rows": null,
      "grid_column": null,
      "grid_gap": null,
      "grid_row": null,
      "grid_template_areas": null,
      "grid_template_columns": null,
      "grid_template_rows": null,
      "height": null,
      "justify_content": null,
      "justify_items": null,
      "left": null,
      "margin": null,
      "max_height": null,
      "max_width": null,
      "min_height": null,
      "min_width": null,
      "object_fit": null,
      "object_position": null,
      "order": null,
      "overflow": null,
      "overflow_x": null,
      "overflow_y": null,
      "padding": null,
      "right": null,
      "top": null,
      "visibility": null,
      "width": null
     }
    },
    "fb1710b8b40b46639bb6d99d15b24fa2": {
     "model_module": "@jupyter-widgets/controls",
     "model_module_version": "1.5.0",
     "model_name": "HTMLModel",
     "state": {
      "_dom_classes": [],
      "_model_module": "@jupyter-widgets/controls",
      "_model_module_version": "1.5.0",
      "_model_name": "HTMLModel",
      "_view_count": null,
      "_view_module": "@jupyter-widgets/controls",
      "_view_module_version": "1.5.0",
      "_view_name": "HTMLView",
      "description": "",
      "description_tooltip": null,
      "layout": "IPY_MODEL_66a91d30748a452e9026bff2ea6786a3",
      "placeholder": "​",
      "style": "IPY_MODEL_fee41f6cb27646f39667221daabb20fe",
      "value": "java_train-00000-of-00001.parquet: 100%"
     }
    },
    "fb829caf46914903afe7f72b0a302ebd": {
     "model_module": "@jupyter-widgets/base",
     "model_module_version": "1.2.0",
     "model_name": "LayoutModel",
     "state": {
      "_model_module": "@jupyter-widgets/base",
      "_model_module_version": "1.2.0",
      "_model_name": "LayoutModel",
      "_view_count": null,
      "_view_module": "@jupyter-widgets/base",
      "_view_module_version": "1.2.0",
      "_view_name": "LayoutView",
      "align_content": null,
      "align_items": null,
      "align_self": null,
      "border": null,
      "bottom": null,
      "display": null,
      "flex": null,
      "flex_flow": null,
      "grid_area": null,
      "grid_auto_columns": null,
      "grid_auto_flow": null,
      "grid_auto_rows": null,
      "grid_column": null,
      "grid_gap": null,
      "grid_row": null,
      "grid_template_areas": null,
      "grid_template_columns": null,
      "grid_template_rows": null,
      "height": null,
      "justify_content": null,
      "justify_items": null,
      "left": null,
      "margin": null,
      "max_height": null,
      "max_width": null,
      "min_height": null,
      "min_width": null,
      "object_fit": null,
      "object_position": null,
      "order": null,
      "overflow": null,
      "overflow_x": null,
      "overflow_y": null,
      "padding": null,
      "right": null,
      "top": null,
      "visibility": null,
      "width": null
     }
    },
    "fb843c5c11394a1097ddcf1c2087da6a": {
     "model_module": "@jupyter-widgets/controls",
     "model_module_version": "1.5.0",
     "model_name": "FloatProgressModel",
     "state": {
      "_dom_classes": [],
      "_model_module": "@jupyter-widgets/controls",
      "_model_module_version": "1.5.0",
      "_model_name": "FloatProgressModel",
      "_view_count": null,
      "_view_module": "@jupyter-widgets/controls",
      "_view_module_version": "1.5.0",
      "_view_name": "ProgressView",
      "bar_style": "success",
      "description": "",
      "description_tooltip": null,
      "layout": "IPY_MODEL_a0d305ea9d4d45dc93b9ba74702c376f",
      "max": 174374,
      "min": 0,
      "orientation": "horizontal",
      "style": "IPY_MODEL_cad2965d63fc40458919e008c84942c9",
      "value": 174374
     }
    },
    "fba24bccc1244c02881419e172402db6": {
     "model_module": "@jupyter-widgets/base",
     "model_module_version": "1.2.0",
     "model_name": "LayoutModel",
     "state": {
      "_model_module": "@jupyter-widgets/base",
      "_model_module_version": "1.2.0",
      "_model_name": "LayoutModel",
      "_view_count": null,
      "_view_module": "@jupyter-widgets/base",
      "_view_module_version": "1.2.0",
      "_view_name": "LayoutView",
      "align_content": null,
      "align_items": null,
      "align_self": null,
      "border": null,
      "bottom": null,
      "display": null,
      "flex": null,
      "flex_flow": null,
      "grid_area": null,
      "grid_auto_columns": null,
      "grid_auto_flow": null,
      "grid_auto_rows": null,
      "grid_column": null,
      "grid_gap": null,
      "grid_row": null,
      "grid_template_areas": null,
      "grid_template_columns": null,
      "grid_template_rows": null,
      "height": null,
      "justify_content": null,
      "justify_items": null,
      "left": null,
      "margin": null,
      "max_height": null,
      "max_width": null,
      "min_height": null,
      "min_width": null,
      "object_fit": null,
      "object_position": null,
      "order": null,
      "overflow": null,
      "overflow_x": null,
      "overflow_y": null,
      "padding": null,
      "right": null,
      "top": null,
      "visibility": null,
      "width": null
     }
    },
    "fee41f6cb27646f39667221daabb20fe": {
     "model_module": "@jupyter-widgets/controls",
     "model_module_version": "1.5.0",
     "model_name": "DescriptionStyleModel",
     "state": {
      "_model_module": "@jupyter-widgets/controls",
      "_model_module_version": "1.5.0",
      "_model_name": "DescriptionStyleModel",
      "_view_count": null,
      "_view_module": "@jupyter-widgets/base",
      "_view_module_version": "1.2.0",
      "_view_name": "StyleView",
      "description_width": ""
     }
    },
    "ff602e3795f948ee905c5513dfc9320b": {
     "model_module": "@jupyter-widgets/base",
     "model_module_version": "1.2.0",
     "model_name": "LayoutModel",
     "state": {
      "_model_module": "@jupyter-widgets/base",
      "_model_module_version": "1.2.0",
      "_model_name": "LayoutModel",
      "_view_count": null,
      "_view_module": "@jupyter-widgets/base",
      "_view_module_version": "1.2.0",
      "_view_name": "LayoutView",
      "align_content": null,
      "align_items": null,
      "align_self": null,
      "border": null,
      "bottom": null,
      "display": null,
      "flex": null,
      "flex_flow": null,
      "grid_area": null,
      "grid_auto_columns": null,
      "grid_auto_flow": null,
      "grid_auto_rows": null,
      "grid_column": null,
      "grid_gap": null,
      "grid_row": null,
      "grid_template_areas": null,
      "grid_template_columns": null,
      "grid_template_rows": null,
      "height": null,
      "justify_content": null,
      "justify_items": null,
      "left": null,
      "margin": null,
      "max_height": null,
      "max_width": null,
      "min_height": null,
      "min_width": null,
      "object_fit": null,
      "object_position": null,
      "order": null,
      "overflow": null,
      "overflow_x": null,
      "overflow_y": null,
      "padding": null,
      "right": null,
      "top": null,
      "visibility": null,
      "width": null
     }
    }
   }
  }
 },
 "nbformat": 4,
 "nbformat_minor": 0
}
